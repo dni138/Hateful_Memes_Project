{
 "cells": [
  {
   "cell_type": "code",
   "execution_count": 1,
   "metadata": {},
   "outputs": [],
   "source": [
    "import pandas as pd\n",
    "import numpy as np"
   ]
  },
  {
   "cell_type": "code",
   "execution_count": 2,
   "metadata": {},
   "outputs": [],
   "source": [
    "pic_data = pd.read_csv('/Users/nissani/Downloads/related_info_57089.tsv', sep = '\\t')"
   ]
  },
  {
   "cell_type": "code",
   "execution_count": 6,
   "metadata": {},
   "outputs": [
    {
     "data": {
      "text/plain": [
       "['Adult,Adults Only Photos,Arms Raised Photos,Bonding Photos,Carefree Photos,Casual Clothing Photos,Caucasian Appearance Photos,Cheerful Photos,Colour Image Photos,Day Photos,Enjoyment Photos,Females Photos,Field Photos,Friendship Photos,Front View Photos,Fun Photos,Grass Photos,Green Photos,Happiness Photos,Hobbies Photos,Holding Photos,Horizontal Photos,Leisure Activity Photos,Lifestyles Photos,Looking Away Photos,Men Photos,Messing About Photos,Mid Adult Photos,Mid Adult Men Photos,Millennial Generation Photos,Nature Photos,Outdoors Photos,People Photos,Photography Photos,Playing Photos,Side View Photos,Smiling Photos,Sport Photos,Three People Photos,Throwing Photos,Togetherness Photos,Tree Photos,Young Adult Photos,Young Women Photos']"
      ]
     },
     "execution_count": 6,
     "metadata": {},
     "output_type": "execute_result"
    }
   ],
   "source": [
    "list(pic_data[pic_data.id == 6]['tags'])"
   ]
  },
  {
   "cell_type": "code",
   "execution_count": 7,
   "metadata": {},
   "outputs": [
    {
     "data": {
      "text/plain": [
       "['Caucasian Appearance Photos,Couple - Relationship Photos,Girlfriend Photos,Men Photos,30-34 Years Photos,Adult,Adults Only Photos,African-American Ethnicity Photos,Arms Raised Photos,Bonding Photos,Boyfriend Photos,Carefree Photos,Casual Clothing Photos,Cheerful Photos,Colour Image Photos,Day Photos,Enjoyment Photos,Field Photos,Flirting Photos,Front View Photos,Fun Photos,Green Photos,Happiness Photos,Heterosexual Couple Photos,Hobbies Photos,Holding Photos,Horizontal Photos,Leisure Activity Photos,Lifestyles Photos,Looking Away Photos,Love - Emotion Photos,Messing About Photos,Mid Adult Photos,Mid Adult Women Photos,Millennial Generation Photos,Multiracial Group Photos,Nature Photos,Outdoors Photos,People Photos,Photography Photos,Piggyback Photos,Playing Photos,Smiling Photos,Sport Photos,Standing Photos,Togetherness Photos,Tree Photos,Two People Photos,Women Photos,Young Adult Photos']"
      ]
     },
     "execution_count": 7,
     "metadata": {},
     "output_type": "execute_result"
    }
   ],
   "source": [
    "list(pic_data[pic_data.id == 2]['tags'])"
   ]
  },
  {
   "cell_type": "code",
   "execution_count": null,
   "metadata": {},
   "outputs": [],
   "source": [
    "'''\n",
    "Merges the data\n",
    "Do the coding extractor. for Bing \n",
    "\n",
    "word vector from meme\n",
    "\n",
    "word vector the image description\n",
    "    get min score (that is ground truth)\n",
    "\n",
    "Sentiment analysis\n",
    "Cosine similarity (distance similarity) (similarity metric) (meme text vs image tags)\n",
    "Protected category features\n",
    "Hatespeech type\n",
    "    Filter text for the protected category and hatespeech (second pass)\n",
    "\n",
    "Tune BERT to a classifier\n",
    "Logistic Regression\n",
    "XGBoost\n",
    "\n",
    "Ablation Studies\n",
    "\n",
    "1)\n",
    "Sentiment analysis, cosine similarity, protected category, hatespeech type, mean word vector (image and meme) (~850)\n",
    "Sentiment analysis, cosine similarity, protected category, hatespeech type, mean word vector (meme), mean word vector (image) (~1600)\n",
    "\n",
    "Then go through permutations of all these features\n",
    "\n",
    "\n",
    "Error Analysis\n",
    "5 easy\n",
    "10 moderate\n",
    "5 high\n",
    "Check these for performance and then go from there\n",
    "\n",
    "Compare simple Naive model classifciation error with newer models\n",
    "'''"
   ]
  }
 ],
 "metadata": {
  "kernelspec": {
   "display_name": "Python 3",
   "language": "python",
   "name": "python3"
  },
  "language_info": {
   "codemirror_mode": {
    "name": "ipython",
    "version": 3
   },
   "file_extension": ".py",
   "mimetype": "text/x-python",
   "name": "python",
   "nbconvert_exporter": "python",
   "pygments_lexer": "ipython3",
   "version": "3.7.4"
  }
 },
 "nbformat": 4,
 "nbformat_minor": 4
}
