{
 "cells": [
  {
   "cell_type": "code",
   "execution_count": 3,
   "metadata": {
    "colab": {
     "base_uri": "https://localhost:8080/",
     "height": 34
    },
    "colab_type": "code",
    "id": "LjC4dR7HZ4ML",
    "outputId": "01d13e24-d516-46b0-dde6-244b50e5e08c"
   },
   "outputs": [
    {
     "name": "stdout",
     "output_type": "stream",
     "text": [
      "Drive already mounted at /content/gdrive; to attempt to forcibly remount, call drive.mount(\"/content/gdrive\", force_remount=True).\n"
     ]
    }
   ],
   "source": [
    "from google.colab import drive\n",
    "import csv\n",
    "drive.mount('/content/gdrive')"
   ]
  },
  {
   "cell_type": "code",
   "execution_count": 5,
   "metadata": {
    "colab": {},
    "colab_type": "code",
    "id": "IS91afRwZ4yH"
   },
   "outputs": [],
   "source": [
    "import pandas as pd\n",
    "import glob\n",
    "import os\n",
    "import json\n",
    "import os.path\n",
    "from os import path\n",
    "\n",
    "\n",
    "img_list=[]\n",
    "path = \"/content/gdrive/My Drive/colab/data_sources/hateful_memes/img/*.png\"\n",
    "\n",
    "for img in glob.glob(path):\n",
    "    img_list.append(os.path.basename(img))\n",
    "\n",
    "full=[]\n",
    "\n",
    "for el in img_list:\n",
    "    file_path='/content/gdrive/My Drive/colab/data_sources/hateful_memes/getty/' + os.path.splitext(el)[0]+'/related_info_'+os.path.splitext(el)[0]+'.tsv'\n",
    "    if os.path.isfile(file_path):\n",
    "      df = pd.read_csv(file_path, sep='\\t')\n",
    "      full.append(df)\n",
    "\n",
    "    else:\n",
    "      pass\n",
    "\n",
    "      # print(el, \" already downloaded.\")"
   ]
  },
  {
   "cell_type": "code",
   "execution_count": 6,
   "metadata": {
    "colab": {},
    "colab_type": "code",
    "id": "CldhbytwavWB"
   },
   "outputs": [],
   "source": [
    "final = pd.concat(full)"
   ]
  },
  {
   "cell_type": "code",
   "execution_count": 7,
   "metadata": {
    "colab": {
     "base_uri": "https://localhost:8080/",
     "height": 34
    },
    "colab_type": "code",
    "id": "Nh073EtTiUoF",
    "outputId": "605a398a-5a0f-4a08-af9b-dc7237468f5d"
   },
   "outputs": [
    {
     "data": {
      "text/plain": [
       "(24130, 9)"
      ]
     },
     "execution_count": 7,
     "metadata": {
      "tags": []
     },
     "output_type": "execute_result"
    }
   ],
   "source": [
    "final.shape"
   ]
  },
  {
   "cell_type": "code",
   "execution_count": 10,
   "metadata": {
    "colab": {},
    "colab_type": "code",
    "id": "ACzkpMZriVzG"
   },
   "outputs": [],
   "source": [
    "final.to_csv(\"/content/gdrive/My Drive/colab/data_sources/hateful_memes/getty/getty_data.csv\", index=False)"
   ]
  },
  {
   "cell_type": "code",
   "execution_count": null,
   "metadata": {
    "colab": {},
    "colab_type": "code",
    "id": "dvBR8SCWiYVW"
   },
   "outputs": [],
   "source": []
  }
 ],
 "metadata": {
  "colab": {
   "name": "aggregate_getty_data.ipynb",
   "provenance": []
  },
  "environment": {
   "name": "pytorch-gpu.1-4.m48",
   "type": "gcloud",
   "uri": "gcr.io/deeplearning-platform-release/pytorch-gpu.1-4:m48"
  },
  "kernelspec": {
   "display_name": "Python 3",
   "language": "python",
   "name": "python3"
  },
  "language_info": {
   "codemirror_mode": {
    "name": "ipython",
    "version": 3
   },
   "file_extension": ".py",
   "mimetype": "text/x-python",
   "name": "python",
   "nbconvert_exporter": "python",
   "pygments_lexer": "ipython3",
   "version": "3.7.6"
  }
 },
 "nbformat": 4,
 "nbformat_minor": 4
}
