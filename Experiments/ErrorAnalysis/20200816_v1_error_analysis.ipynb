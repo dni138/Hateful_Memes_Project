{
 "cells": [
  {
   "cell_type": "code",
   "execution_count": 13,
   "metadata": {},
   "outputs": [],
   "source": [
    "import pandas as pd"
   ]
  },
  {
   "cell_type": "code",
   "execution_count": 19,
   "metadata": {},
   "outputs": [],
   "source": [
    "df=pd.read_csv(\"validation_error_analysis_20200816_v1.csv\")"
   ]
  },
  {
   "cell_type": "code",
   "execution_count": 68,
   "metadata": {},
   "outputs": [
    {
     "data": {
      "text/html": [
       "<div>\n",
       "<style scoped>\n",
       "    .dataframe tbody tr th:only-of-type {\n",
       "        vertical-align: middle;\n",
       "    }\n",
       "\n",
       "    .dataframe tbody tr th {\n",
       "        vertical-align: top;\n",
       "    }\n",
       "\n",
       "    .dataframe thead th {\n",
       "        text-align: right;\n",
       "    }\n",
       "</style>\n",
       "<table border=\"1\" class=\"dataframe\">\n",
       "  <thead>\n",
       "    <tr style=\"text-align: right;\">\n",
       "      <th></th>\n",
       "      <th>id</th>\n",
       "      <th>getty_caption</th>\n",
       "      <th>getty_tag</th>\n",
       "      <th>color_score</th>\n",
       "      <th>img_text</th>\n",
       "      <th>label</th>\n",
       "      <th>combined_text</th>\n",
       "      <th>hate_speech</th>\n",
       "      <th>offensive_language</th>\n",
       "      <th>neither</th>\n",
       "      <th>proba</th>\n",
       "      <th>actual</th>\n",
       "    </tr>\n",
       "  </thead>\n",
       "  <tbody>\n",
       "    <tr>\n",
       "      <th>148</th>\n",
       "      <td>37465</td>\n",
       "      <td>NaN</td>\n",
       "      <td>NaN</td>\n",
       "      <td>99999.0</td>\n",
       "      <td>how black people became christians</td>\n",
       "      <td>1</td>\n",
       "      <td>how black people became christians</td>\n",
       "      <td>0.087138</td>\n",
       "      <td>0.312333</td>\n",
       "      <td>6.005289e-01</td>\n",
       "      <td>0.747698</td>\n",
       "      <td>0</td>\n",
       "    </tr>\n",
       "    <tr>\n",
       "      <th>226</th>\n",
       "      <td>8243</td>\n",
       "      <td>NaN</td>\n",
       "      <td>NaN</td>\n",
       "      <td>99999.0</td>\n",
       "      <td>damn i need some shades</td>\n",
       "      <td>0</td>\n",
       "      <td>damn i need some shades</td>\n",
       "      <td>0.035825</td>\n",
       "      <td>0.804301</td>\n",
       "      <td>1.598734e-01</td>\n",
       "      <td>0.236273</td>\n",
       "      <td>0</td>\n",
       "    </tr>\n",
       "    <tr>\n",
       "      <th>393</th>\n",
       "      <td>76381</td>\n",
       "      <td>NaN</td>\n",
       "      <td>NaN</td>\n",
       "      <td>99999.0</td>\n",
       "      <td>fuck obama fuck backlivesmatter fuck islam and...</td>\n",
       "      <td>1</td>\n",
       "      <td>fuck obama fuck backlivesmatter fuck islam a...</td>\n",
       "      <td>0.261290</td>\n",
       "      <td>0.738710</td>\n",
       "      <td>1.585246e-07</td>\n",
       "      <td>0.903782</td>\n",
       "      <td>1</td>\n",
       "    </tr>\n",
       "    <tr>\n",
       "      <th>1015</th>\n",
       "      <td>2153</td>\n",
       "      <td>NaN</td>\n",
       "      <td>NaN</td>\n",
       "      <td>99999.0</td>\n",
       "      <td>when you're arguing with someone and trying no...</td>\n",
       "      <td>0</td>\n",
       "      <td>when you're arguing with someone and trying ...</td>\n",
       "      <td>0.056580</td>\n",
       "      <td>0.370379</td>\n",
       "      <td>5.730412e-01</td>\n",
       "      <td>0.151949</td>\n",
       "      <td>0</td>\n",
       "    </tr>\n",
       "    <tr>\n",
       "      <th>1624</th>\n",
       "      <td>34876</td>\n",
       "      <td>NaN</td>\n",
       "      <td>NaN</td>\n",
       "      <td>99999.0</td>\n",
       "      <td>on ur way going to d church, u see someone bea...</td>\n",
       "      <td>1</td>\n",
       "      <td>on ur way going to d church, u see someone b...</td>\n",
       "      <td>0.094226</td>\n",
       "      <td>0.361141</td>\n",
       "      <td>5.446324e-01</td>\n",
       "      <td>0.652646</td>\n",
       "      <td>1</td>\n",
       "    </tr>\n",
       "    <tr>\n",
       "      <th>1969</th>\n",
       "      <td>16097</td>\n",
       "      <td>NaN</td>\n",
       "      <td>NaN</td>\n",
       "      <td>99999.0</td>\n",
       "      <td>oh, you're tired of my anti-trump posts? why d...</td>\n",
       "      <td>0</td>\n",
       "      <td>oh, you're tired of my anti-trump posts? why...</td>\n",
       "      <td>0.049083</td>\n",
       "      <td>0.438134</td>\n",
       "      <td>5.127830e-01</td>\n",
       "      <td>0.021913</td>\n",
       "      <td>0</td>\n",
       "    </tr>\n",
       "    <tr>\n",
       "      <th>2119</th>\n",
       "      <td>16593</td>\n",
       "      <td>NaN</td>\n",
       "      <td>NaN</td>\n",
       "      <td>99999.0</td>\n",
       "      <td>michelle is very jealous she didn't get a yumm...</td>\n",
       "      <td>1</td>\n",
       "      <td>michelle is very jealous she didn't get a yu...</td>\n",
       "      <td>0.038411</td>\n",
       "      <td>0.398953</td>\n",
       "      <td>5.626359e-01</td>\n",
       "      <td>0.528099</td>\n",
       "      <td>0</td>\n",
       "    </tr>\n",
       "    <tr>\n",
       "      <th>2125</th>\n",
       "      <td>63579</td>\n",
       "      <td>NaN</td>\n",
       "      <td>NaN</td>\n",
       "      <td>99999.0</td>\n",
       "      <td>53% of white women voted for trump 53% of whit...</td>\n",
       "      <td>1</td>\n",
       "      <td>53% of white women voted for trump 53% of wh...</td>\n",
       "      <td>0.509357</td>\n",
       "      <td>0.440385</td>\n",
       "      <td>5.025767e-02</td>\n",
       "      <td>0.690149</td>\n",
       "      <td>1</td>\n",
       "    </tr>\n",
       "  </tbody>\n",
       "</table>\n",
       "</div>"
      ],
      "text/plain": [
       "         id getty_caption getty_tag  color_score  \\\n",
       "148   37465           NaN       NaN      99999.0   \n",
       "226    8243           NaN       NaN      99999.0   \n",
       "393   76381           NaN       NaN      99999.0   \n",
       "1015   2153           NaN       NaN      99999.0   \n",
       "1624  34876           NaN       NaN      99999.0   \n",
       "1969  16097           NaN       NaN      99999.0   \n",
       "2119  16593           NaN       NaN      99999.0   \n",
       "2125  63579           NaN       NaN      99999.0   \n",
       "\n",
       "                                               img_text  label  \\\n",
       "148                  how black people became christians      1   \n",
       "226                             damn i need some shades      0   \n",
       "393   fuck obama fuck backlivesmatter fuck islam and...      1   \n",
       "1015  when you're arguing with someone and trying no...      0   \n",
       "1624  on ur way going to d church, u see someone bea...      1   \n",
       "1969  oh, you're tired of my anti-trump posts? why d...      0   \n",
       "2119  michelle is very jealous she didn't get a yumm...      1   \n",
       "2125  53% of white women voted for trump 53% of whit...      1   \n",
       "\n",
       "                                          combined_text  hate_speech  \\\n",
       "148                  how black people became christians     0.087138   \n",
       "226                             damn i need some shades     0.035825   \n",
       "393     fuck obama fuck backlivesmatter fuck islam a...     0.261290   \n",
       "1015    when you're arguing with someone and trying ...     0.056580   \n",
       "1624    on ur way going to d church, u see someone b...     0.094226   \n",
       "1969    oh, you're tired of my anti-trump posts? why...     0.049083   \n",
       "2119    michelle is very jealous she didn't get a yu...     0.038411   \n",
       "2125    53% of white women voted for trump 53% of wh...     0.509357   \n",
       "\n",
       "      offensive_language       neither     proba  actual  \n",
       "148             0.312333  6.005289e-01  0.747698       0  \n",
       "226             0.804301  1.598734e-01  0.236273       0  \n",
       "393             0.738710  1.585246e-07  0.903782       1  \n",
       "1015            0.370379  5.730412e-01  0.151949       0  \n",
       "1624            0.361141  5.446324e-01  0.652646       1  \n",
       "1969            0.438134  5.127830e-01  0.021913       0  \n",
       "2119            0.398953  5.626359e-01  0.528099       0  \n",
       "2125            0.440385  5.025767e-02  0.690149       1  "
      ]
     },
     "execution_count": 68,
     "metadata": {},
     "output_type": "execute_result"
    }
   ],
   "source": [
    "df[(df.label==df.actual)&(df.actual==1)]\n",
    "df[(df.getty_tag.isna())]"
   ]
  },
  {
   "cell_type": "code",
   "execution_count": 69,
   "metadata": {},
   "outputs": [
    {
     "name": "stdout",
     "output_type": "stream",
     "text": [
      "[[3 0]\n",
      " [2 3]]\n",
      "0.75\n"
     ]
    }
   ],
   "source": [
    "from sklearn.metrics import confusion_matrix\n",
    "from sklearn.metrics import accuracy_score\n",
    "print(confusion_matrix(df[(df.getty_tag.isna())].label,df[(df.getty_tag.isna())].actual))\n",
    "print(accuracy_score(df[(df.getty_tag.isna())].label,df[(df.getty_tag.isna())].actual))"
   ]
  },
  {
   "cell_type": "code",
   "execution_count": 29,
   "metadata": {},
   "outputs": [
    {
     "name": "stdout",
     "output_type": "stream",
     "text": [
      "Logistic: ROC AUC=0.730\n"
     ]
    },
    {
     "data": {
      "image/png": "[encoded data removed]",
      "text/plain": [
       "<Figure size 432x288 with 1 Axes>"
      ]
     },
     "metadata": {
      "needs_background": "light"
     },
     "output_type": "display_data"
    }
   ],
   "source": [
    "# roc curve and auc\n",
    "from sklearn.datasets import make_classification\n",
    "from sklearn.linear_model import LogisticRegression\n",
    "from sklearn.model_selection import train_test_split\n",
    "from sklearn.metrics import roc_curve\n",
    "from sklearn.metrics import roc_auc_score\n",
    "from matplotlib import pyplot\n",
    "\n",
    "\n",
    "testy = df.actual\n",
    "lr_probs = df.proba\n",
    "\n",
    "# calculate scores\n",
    "lr_auc = roc_auc_score(testy, lr_probs)\n",
    "# summarize scores\n",
    "print('Logistic: ROC AUC=%.3f' % (lr_auc))\n",
    "# calculate roc curves\n",
    "lr_fpr, lr_tpr, _ = roc_curve(testy, lr_probs)\n",
    "# plot the roc curve for the model\n",
    "pyplot.plot(lr_fpr, lr_tpr, marker='.', label='Logistic')\n",
    "# axis labels\n",
    "pyplot.xlabel('False Positive Rate')\n",
    "pyplot.ylabel('True Positive Rate')\n",
    "# show the legend\n",
    "pyplot.legend()\n",
    "# show the plot\n",
    "pyplot.show()"
   ]
  },
  {
   "cell_type": "code",
   "execution_count": 31,
   "metadata": {},
   "outputs": [],
   "source": [
    "# calculate precision-recall curve\n",
    "from sklearn.metrics import precision_recall_curve\n",
    "\n",
    "precision, recall, thresholds = precision_recall_curve(testy, lr_probs)"
   ]
  },
  {
   "cell_type": "code",
   "execution_count": 39,
   "metadata": {},
   "outputs": [],
   "source": [
    "def plot_precision_recall_vs_threshold(precisions, recalls, thresholds):\n",
    "    \"\"\"\n",
    "    Modified from:\n",
    "    Hands-On Machine learning with Scikit-Learn\n",
    "    and TensorFlow; p.89\n",
    "    \"\"\"\n",
    "    plt.figure(figsize=(8, 8))\n",
    "    plt.title(\"Precision and Recall Scores as a function of the decision threshold\")\n",
    "    plt.plot(thresholds, precisions[:-1], \"b--\", label=\"Precision\")\n",
    "    plt.plot(thresholds, recalls[:-1], \"g-\", label=\"Recall\")\n",
    "    plt.ylabel(\"Score\")\n",
    "    plt.xlabel(\"Decision Threshold\")\n",
    "    plt.legend(loc='best')"
   ]
  },
  {
   "cell_type": "code",
   "execution_count": 41,
   "metadata": {},
   "outputs": [
    {
     "data": {
      "image/png": "[encoded data removed]",
      "text/plain": [
       "<Figure size 576x576 with 1 Axes>"
      ]
     },
     "metadata": {
      "needs_background": "light"
     },
     "output_type": "display_data"
    }
   ],
   "source": [
    "# use the same p, r, thresholds that were previously calculated\n",
    "plot_precision_recall_vs_threshold(precision, recall, thresholds)"
   ]
  },
  {
   "cell_type": "code",
   "execution_count": null,
   "metadata": {},
   "outputs": [],
   "source": []
  }
 ],
 "metadata": {
  "kernelspec": {
   "display_name": "Python 3",
   "language": "python",
   "name": "python3"
  },
  "language_info": {
   "codemirror_mode": {
    "name": "ipython",
    "version": 3
   },
   "file_extension": ".py",
   "mimetype": "text/x-python",
   "name": "python",
   "nbconvert_exporter": "python",
   "pygments_lexer": "ipython3",
   "version": "3.7.6"
  }
 },
 "nbformat": 4,
 "nbformat_minor": 4
}
