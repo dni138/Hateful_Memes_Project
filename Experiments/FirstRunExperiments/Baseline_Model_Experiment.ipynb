{
 "cells": [
  {
   "cell_type": "code",
   "execution_count": 3,
   "metadata": {},
   "outputs": [],
   "source": [
    "import numpy as np\n",
    "import pandas as pd\n",
    "import matplotlib.pyplot as plt\n",
    "import seaborn as sns\n",
    "import json\n",
    "import spacy\n",
    "from sklearn.linear_model import LogisticRegression"
   ]
  },
  {
   "cell_type": "code",
   "execution_count": 4,
   "metadata": {},
   "outputs": [],
   "source": [
    "def load_data(file_path):\n",
    "    data = []\n",
    "    with open(file_path) as f:\n",
    "        for el in f:\n",
    "            data.append(json.loads(el))\n",
    "            \n",
    "    return data"
   ]
  },
  {
   "cell_type": "code",
   "execution_count": 5,
   "metadata": {},
   "outputs": [],
   "source": [
    "def create_features(data):\n",
    "    nlp = spacy.load('en_core_web_sm')\n",
    "    for el in data:\n",
    "        doc = nlp(el['text'])\n",
    "        el['vector'] = doc.vector\n",
    "    \n",
    "    return data"
   ]
  },
  {
   "cell_type": "code",
   "execution_count": 6,
   "metadata": {},
   "outputs": [],
   "source": [
    "def format_data(data):\n",
    "    labels = []\n",
    "    for el in data:\n",
    "        labels.append(el['label'])\n",
    "    \n",
    "    train_data = []\n",
    "    for el in data:\n",
    "        train_data.append(el['vector'])\n",
    "    \n",
    "    return labels, train_data"
   ]
  },
  {
   "cell_type": "code",
   "execution_count": 13,
   "metadata": {},
   "outputs": [],
   "source": [
    "def train_model(data, model):\n",
    "    labels, train_data = format_data(data)\n",
    "\n",
    "    model.fit(train_data, labels)\n",
    "    \n",
    "    return model, labels, train_data"
   ]
  },
  {
   "cell_type": "markdown",
   "metadata": {},
   "source": [
    "## Baseline Model 1"
   ]
  },
  {
   "cell_type": "code",
   "execution_count": 8,
   "metadata": {},
   "outputs": [],
   "source": [
    "train_data = load_data('data/train.jsonl')\n",
    "val_data = load_data('data/dev.jsonl')"
   ]
  },
  {
   "cell_type": "code",
   "execution_count": 9,
   "metadata": {},
   "outputs": [],
   "source": [
    "train_data = create_features(train_data)\n",
    "val_data = create_features(val_data)"
   ]
  },
  {
   "cell_type": "code",
   "execution_count": 14,
   "metadata": {},
   "outputs": [
    {
     "name": "stderr",
     "output_type": "stream",
     "text": [
      "/usr/local/lib/python3.7/site-packages/sklearn/linear_model/logistic.py:432: FutureWarning: Default solver will be changed to 'lbfgs' in 0.22. Specify a solver to silence this warning.\n",
      "  FutureWarning)\n"
     ]
    }
   ],
   "source": [
    "model = LogisticRegression()\n",
    "lr, train_labels, train_vectors = train_model(train_data, model)"
   ]
  },
  {
   "cell_type": "code",
   "execution_count": 15,
   "metadata": {},
   "outputs": [
    {
     "name": "stdout",
     "output_type": "stream",
     "text": [
      "Train Accuracy: 0.646235294117647\n",
      "Validation Accuracy: 0.512\n"
     ]
    }
   ],
   "source": [
    "print('Train Accuracy: {}'.format(lr.score(train_vectors, train_labels)))\n",
    "val_labels, val_vectors = format_data(val_data)\n",
    "print('Validation Accuracy: {}'.format(lr.score(val_vectors, val_labels)))"
   ]
  },
  {
   "cell_type": "markdown",
   "metadata": {},
   "source": [
    "## Baseline Model 2"
   ]
  },
  {
   "cell_type": "code",
   "execution_count": 30,
   "metadata": {},
   "outputs": [],
   "source": [
    "image_data = pd.read_csv('data/cleaned_getty_data.csv', index_col = False)\n",
    "image_data = image_data.drop(['Unnamed: 0'], axis = 1)"
   ]
  },
  {
   "cell_type": "code",
   "execution_count": 31,
   "metadata": {},
   "outputs": [
    {
     "data": {
      "text/html": [
       "<div>\n",
       "<style scoped>\n",
       "    .dataframe tbody tr th:only-of-type {\n",
       "        vertical-align: middle;\n",
       "    }\n",
       "\n",
       "    .dataframe tbody tr th {\n",
       "        vertical-align: top;\n",
       "    }\n",
       "\n",
       "    .dataframe thead th {\n",
       "        text-align: right;\n",
       "    }\n",
       "</style>\n",
       "<table border=\"1\" class=\"dataframe\">\n",
       "  <thead>\n",
       "    <tr style=\"text-align: right;\">\n",
       "      <th></th>\n",
       "      <th>url</th>\n",
       "      <th>img_url</th>\n",
       "      <th>tags</th>\n",
       "      <th>caption</th>\n",
       "      <th>src</th>\n",
       "      <th>id</th>\n",
       "      <th>Color_Score</th>\n",
       "      <th>Key_Point_Score</th>\n",
       "      <th>image</th>\n",
       "      <th>color_score_rank</th>\n",
       "      <th>...</th>\n",
       "      <th>color_url</th>\n",
       "      <th>color_img_url</th>\n",
       "      <th>color_tags</th>\n",
       "      <th>color_caption</th>\n",
       "      <th>key_point_url</th>\n",
       "      <th>key_point_img_url</th>\n",
       "      <th>key_point_tags</th>\n",
       "      <th>key_point_caption</th>\n",
       "      <th>best_caption</th>\n",
       "      <th>best_tags</th>\n",
       "    </tr>\n",
       "  </thead>\n",
       "  <tbody>\n",
       "    <tr>\n",
       "      <th>0</th>\n",
       "      <td>https://www.gettyimages.co.uk/detail/photo/dru...</td>\n",
       "      <td>https://media.gettyimages.com/photos/drugs-pic...</td>\n",
       "      <td>Opioid Photos,Syringe Photos,Addiction Photos,...</td>\n",
       "      <td>Drugs</td>\n",
       "      <td>56482</td>\n",
       "      <td>1.0</td>\n",
       "      <td>14.358936</td>\n",
       "      <td>144301.065239</td>\n",
       "      <td>56482</td>\n",
       "      <td>1.0</td>\n",
       "      <td>...</td>\n",
       "      <td>https://www.gettyimages.co.uk/detail/photo/dru...</td>\n",
       "      <td>https://media.gettyimages.com/photos/drugs-pic...</td>\n",
       "      <td>Opioid Photos,Syringe Photos,Addiction Photos,...</td>\n",
       "      <td>Drugs</td>\n",
       "      <td>https://www.gettyimages.co.uk/detail/photo/dru...</td>\n",
       "      <td>https://media.gettyimages.com/photos/drugs-pic...</td>\n",
       "      <td>Opioid Photos,Syringe Photos,Addiction Photos,...</td>\n",
       "      <td>Drugs</td>\n",
       "      <td>Drugs</td>\n",
       "      <td>Opioid   Syringe   Addiction   Despair   Heroi...</td>\n",
       "    </tr>\n",
       "    <tr>\n",
       "      <th>1</th>\n",
       "      <td>https://www.gettyimages.co.uk/detail/photo/bui...</td>\n",
       "      <td>https://media.gettyimages.com/photos/buisnessm...</td>\n",
       "      <td>Men Photos,20-29 Years Photos,Adult,Adults Onl...</td>\n",
       "      <td>Businessman standing outside of his office and...</td>\n",
       "      <td>60183</td>\n",
       "      <td>2.0</td>\n",
       "      <td>37.201224</td>\n",
       "      <td>176873.773315</td>\n",
       "      <td>60183</td>\n",
       "      <td>1.0</td>\n",
       "      <td>...</td>\n",
       "      <td>https://www.gettyimages.co.uk/detail/photo/bui...</td>\n",
       "      <td>https://media.gettyimages.com/photos/buisnessm...</td>\n",
       "      <td>Men Photos,20-29 Years Photos,Adult,Adults Onl...</td>\n",
       "      <td>Businessman standing outside of his office and...</td>\n",
       "      <td>https://www.gettyimages.co.uk/detail/photo/he-...</td>\n",
       "      <td>https://media.gettyimages.com/photos/he-makes-...</td>\n",
       "      <td>Adult,Adults Only Photos,Answering Photos,Brin...</td>\n",
       "      <td>Studio shot of a stylish young businessman usi...</td>\n",
       "      <td>Businessman standing outside of his office and...</td>\n",
       "      <td>Men   20-29 Years   Adult Adults Only   Agreem...</td>\n",
       "    </tr>\n",
       "    <tr>\n",
       "      <th>2</th>\n",
       "      <td>https://www.gettyimages.co.uk/detail/photo/rea...</td>\n",
       "      <td>https://media.gettyimages.com/photos/rear-view...</td>\n",
       "      <td>Animal Photos,Animal Themes Photos,Animals In ...</td>\n",
       "      <td>NaN</td>\n",
       "      <td>43905</td>\n",
       "      <td>1.0</td>\n",
       "      <td>2.254148</td>\n",
       "      <td>162676.233573</td>\n",
       "      <td>43905</td>\n",
       "      <td>1.0</td>\n",
       "      <td>...</td>\n",
       "      <td>https://www.gettyimages.co.uk/detail/photo/rea...</td>\n",
       "      <td>https://media.gettyimages.com/photos/rear-view...</td>\n",
       "      <td>Animal Photos,Animal Themes Photos,Animals In ...</td>\n",
       "      <td>NaN</td>\n",
       "      <td>https://www.gettyimages.co.uk/detail/photo/rea...</td>\n",
       "      <td>https://media.gettyimages.com/photos/rear-view...</td>\n",
       "      <td>Animal Photos,Animal Themes Photos,Animals In ...</td>\n",
       "      <td>NaN</td>\n",
       "      <td>NaN</td>\n",
       "      <td>Animal   Animal Themes   Animals In The Wild  ...</td>\n",
       "    </tr>\n",
       "    <tr>\n",
       "      <th>3</th>\n",
       "      <td>https://www.gettyimages.co.uk/detail/photo/sou...</td>\n",
       "      <td>https://media.gettyimages.com/photos/source-of...</td>\n",
       "      <td>Active Volcano Photos,Akita Prefecture Photos,...</td>\n",
       "      <td>Higashi Naruse Village, Akita Prefecture, Japa...</td>\n",
       "      <td>7825</td>\n",
       "      <td>5.0</td>\n",
       "      <td>20.450264</td>\n",
       "      <td>180862.123245</td>\n",
       "      <td>7825</td>\n",
       "      <td>1.0</td>\n",
       "      <td>...</td>\n",
       "      <td>https://www.gettyimages.co.uk/detail/photo/sou...</td>\n",
       "      <td>https://media.gettyimages.com/photos/source-of...</td>\n",
       "      <td>Active Volcano Photos,Akita Prefecture Photos,...</td>\n",
       "      <td>Higashi Naruse Village, Akita Prefecture, Japa...</td>\n",
       "      <td>https://www.gettyimages.co.uk/detail/photo/wil...</td>\n",
       "      <td>https://media.gettyimages.com/photos/wildebees...</td>\n",
       "      <td>Adventure Photos,Animal Photos,Animal Themes P...</td>\n",
       "      <td>The Great Migration. Wildebeest and Zebra cros...</td>\n",
       "      <td>Higashi Naruse Village, Akita Prefecture, Japa...</td>\n",
       "      <td>Active Volcano   Akita Prefecture   Autumn   A...</td>\n",
       "    </tr>\n",
       "    <tr>\n",
       "      <th>4</th>\n",
       "      <td>https://www.gettyimages.co.uk/detail/photo/see...</td>\n",
       "      <td>https://media.gettyimages.com/photos/see-it-an...</td>\n",
       "      <td>Spectacles Photos,Men Photos,Caucasian Appeara...</td>\n",
       "      <td>Studio shot of a handsome young man posing aga...</td>\n",
       "      <td>50413</td>\n",
       "      <td>2.0</td>\n",
       "      <td>24.906096</td>\n",
       "      <td>174126.235321</td>\n",
       "      <td>50413</td>\n",
       "      <td>1.0</td>\n",
       "      <td>...</td>\n",
       "      <td>https://www.gettyimages.co.uk/detail/photo/see...</td>\n",
       "      <td>https://media.gettyimages.com/photos/see-it-an...</td>\n",
       "      <td>Spectacles Photos,Men Photos,Caucasian Appeara...</td>\n",
       "      <td>Studio shot of a handsome young man posing aga...</td>\n",
       "      <td>https://www.gettyimages.co.uk/detail/photo/por...</td>\n",
       "      <td>https://media.gettyimages.com/photos/portrait-...</td>\n",
       "      <td>Men Photos,Human Face Photos,Portrait Photos,S...</td>\n",
       "      <td>Man with a serious expression</td>\n",
       "      <td>Studio shot of a handsome young man posing aga...</td>\n",
       "      <td>Spectacles   Men   Caucasian Appearance   Port...</td>\n",
       "    </tr>\n",
       "  </tbody>\n",
       "</table>\n",
       "<p>5 rows × 21 columns</p>\n",
       "</div>"
      ],
      "text/plain": [
       "                                                 url  \\\n",
       "0  https://www.gettyimages.co.uk/detail/photo/dru...   \n",
       "1  https://www.gettyimages.co.uk/detail/photo/bui...   \n",
       "2  https://www.gettyimages.co.uk/detail/photo/rea...   \n",
       "3  https://www.gettyimages.co.uk/detail/photo/sou...   \n",
       "4  https://www.gettyimages.co.uk/detail/photo/see...   \n",
       "\n",
       "                                             img_url  \\\n",
       "0  https://media.gettyimages.com/photos/drugs-pic...   \n",
       "1  https://media.gettyimages.com/photos/buisnessm...   \n",
       "2  https://media.gettyimages.com/photos/rear-view...   \n",
       "3  https://media.gettyimages.com/photos/source-of...   \n",
       "4  https://media.gettyimages.com/photos/see-it-an...   \n",
       "\n",
       "                                                tags  \\\n",
       "0  Opioid Photos,Syringe Photos,Addiction Photos,...   \n",
       "1  Men Photos,20-29 Years Photos,Adult,Adults Onl...   \n",
       "2  Animal Photos,Animal Themes Photos,Animals In ...   \n",
       "3  Active Volcano Photos,Akita Prefecture Photos,...   \n",
       "4  Spectacles Photos,Men Photos,Caucasian Appeara...   \n",
       "\n",
       "                                             caption    src   id  Color_Score  \\\n",
       "0                                              Drugs  56482  1.0    14.358936   \n",
       "1  Businessman standing outside of his office and...  60183  2.0    37.201224   \n",
       "2                                                NaN  43905  1.0     2.254148   \n",
       "3  Higashi Naruse Village, Akita Prefecture, Japa...   7825  5.0    20.450264   \n",
       "4  Studio shot of a handsome young man posing aga...  50413  2.0    24.906096   \n",
       "\n",
       "   Key_Point_Score  image  color_score_rank  ...  \\\n",
       "0    144301.065239  56482               1.0  ...   \n",
       "1    176873.773315  60183               1.0  ...   \n",
       "2    162676.233573  43905               1.0  ...   \n",
       "3    180862.123245   7825               1.0  ...   \n",
       "4    174126.235321  50413               1.0  ...   \n",
       "\n",
       "                                           color_url  \\\n",
       "0  https://www.gettyimages.co.uk/detail/photo/dru...   \n",
       "1  https://www.gettyimages.co.uk/detail/photo/bui...   \n",
       "2  https://www.gettyimages.co.uk/detail/photo/rea...   \n",
       "3  https://www.gettyimages.co.uk/detail/photo/sou...   \n",
       "4  https://www.gettyimages.co.uk/detail/photo/see...   \n",
       "\n",
       "                                       color_img_url  \\\n",
       "0  https://media.gettyimages.com/photos/drugs-pic...   \n",
       "1  https://media.gettyimages.com/photos/buisnessm...   \n",
       "2  https://media.gettyimages.com/photos/rear-view...   \n",
       "3  https://media.gettyimages.com/photos/source-of...   \n",
       "4  https://media.gettyimages.com/photos/see-it-an...   \n",
       "\n",
       "                                          color_tags  \\\n",
       "0  Opioid Photos,Syringe Photos,Addiction Photos,...   \n",
       "1  Men Photos,20-29 Years Photos,Adult,Adults Onl...   \n",
       "2  Animal Photos,Animal Themes Photos,Animals In ...   \n",
       "3  Active Volcano Photos,Akita Prefecture Photos,...   \n",
       "4  Spectacles Photos,Men Photos,Caucasian Appeara...   \n",
       "\n",
       "                                       color_caption  \\\n",
       "0                                              Drugs   \n",
       "1  Businessman standing outside of his office and...   \n",
       "2                                                NaN   \n",
       "3  Higashi Naruse Village, Akita Prefecture, Japa...   \n",
       "4  Studio shot of a handsome young man posing aga...   \n",
       "\n",
       "                                       key_point_url  \\\n",
       "0  https://www.gettyimages.co.uk/detail/photo/dru...   \n",
       "1  https://www.gettyimages.co.uk/detail/photo/he-...   \n",
       "2  https://www.gettyimages.co.uk/detail/photo/rea...   \n",
       "3  https://www.gettyimages.co.uk/detail/photo/wil...   \n",
       "4  https://www.gettyimages.co.uk/detail/photo/por...   \n",
       "\n",
       "                                   key_point_img_url  \\\n",
       "0  https://media.gettyimages.com/photos/drugs-pic...   \n",
       "1  https://media.gettyimages.com/photos/he-makes-...   \n",
       "2  https://media.gettyimages.com/photos/rear-view...   \n",
       "3  https://media.gettyimages.com/photos/wildebees...   \n",
       "4  https://media.gettyimages.com/photos/portrait-...   \n",
       "\n",
       "                                      key_point_tags  \\\n",
       "0  Opioid Photos,Syringe Photos,Addiction Photos,...   \n",
       "1  Adult,Adults Only Photos,Answering Photos,Brin...   \n",
       "2  Animal Photos,Animal Themes Photos,Animals In ...   \n",
       "3  Adventure Photos,Animal Photos,Animal Themes P...   \n",
       "4  Men Photos,Human Face Photos,Portrait Photos,S...   \n",
       "\n",
       "                                   key_point_caption  \\\n",
       "0                                              Drugs   \n",
       "1  Studio shot of a stylish young businessman usi...   \n",
       "2                                                NaN   \n",
       "3  The Great Migration. Wildebeest and Zebra cros...   \n",
       "4                      Man with a serious expression   \n",
       "\n",
       "                                        best_caption  \\\n",
       "0                                              Drugs   \n",
       "1  Businessman standing outside of his office and...   \n",
       "2                                                NaN   \n",
       "3  Higashi Naruse Village, Akita Prefecture, Japa...   \n",
       "4  Studio shot of a handsome young man posing aga...   \n",
       "\n",
       "                                           best_tags  \n",
       "0  Opioid   Syringe   Addiction   Despair   Heroi...  \n",
       "1  Men   20-29 Years   Adult Adults Only   Agreem...  \n",
       "2  Animal   Animal Themes   Animals In The Wild  ...  \n",
       "3  Active Volcano   Akita Prefecture   Autumn   A...  \n",
       "4  Spectacles   Men   Caucasian Appearance   Port...  \n",
       "\n",
       "[5 rows x 21 columns]"
      ]
     },
     "execution_count": 31,
     "metadata": {},
     "output_type": "execute_result"
    }
   ],
   "source": [
    "image_data.head()"
   ]
  },
  {
   "cell_type": "code",
   "execution_count": 37,
   "metadata": {},
   "outputs": [],
   "source": [
    "src_photos = set(image_data.src)"
   ]
  },
  {
   "cell_type": "code",
   "execution_count": 38,
   "metadata": {},
   "outputs": [
    {
     "data": {
      "text/plain": [
       "{'id': 42953,\n",
       " 'img': 'img/42953.png',\n",
       " 'label': 0,\n",
       " 'text': 'its their character not their color that matters',\n",
       " 'vector': array([-0.39059347,  0.34201172,  0.79031336, -0.67663956,  1.2195603 ,\n",
       "        -0.03345944, -1.9631115 ,  0.00423736, -0.20557106,  0.32930514,\n",
       "         0.45759752,  0.95797217, -0.7769648 , -0.40923548, -0.24158663,\n",
       "         0.96003276, -0.23099978, -0.63708985,  0.3379006 ,  0.8056612 ,\n",
       "        -0.26968667,  0.48419315,  1.3091208 , -1.0345259 , -0.43772987,\n",
       "         1.5756359 ,  1.1876926 , -0.25269243, -2.6762524 , -1.4061985 ,\n",
       "        -1.12094   ,  0.45184684, -0.893475  , -0.44338486, -0.13037719,\n",
       "        -0.9010774 , -0.6172734 , -0.71861506, -0.27039078, -0.43401954,\n",
       "         1.7497404 ,  0.4978023 ,  0.12083992, -0.96050525,  0.8526076 ,\n",
       "        -0.20645005, -0.32321572,  1.0391794 ,  0.8955164 ,  1.5223812 ,\n",
       "        -0.32024488, -0.5678183 , -1.0750859 , -1.2296531 ,  0.2370046 ,\n",
       "         1.1308669 ,  1.1394649 ,  0.44225276, -0.9677632 , -0.00342326,\n",
       "        -0.49378353, -0.00332806, -0.5862146 , -0.5589204 ,  0.02330884,\n",
       "         1.5273405 ,  1.4507661 , -0.7988194 ,  2.3116806 , -0.26337925,\n",
       "        -0.6286756 , -0.11203084,  1.77976   , -0.0083904 ,  1.011078  ,\n",
       "         0.2236233 ,  0.96017224, -0.29569668,  0.09962532,  0.65619224,\n",
       "        -0.24021733,  0.01792696, -1.5229374 , -2.3515012 ,  0.84624225,\n",
       "         0.34021208, -0.0349444 ,  1.3809803 ,  0.62459236,  0.3057577 ,\n",
       "        -0.07524318, -0.00626896,  0.9326846 , -1.3932596 , -0.12423295,\n",
       "         0.08732508], dtype=float32)}"
      ]
     },
     "execution_count": 38,
     "metadata": {},
     "output_type": "execute_result"
    }
   ],
   "source": [
    "train_data[0]"
   ]
  },
  {
   "cell_type": "code",
   "execution_count": 39,
   "metadata": {},
   "outputs": [],
   "source": [
    "new_train_data = []\n",
    "for el in train_data:\n",
    "    if el['id'] in src_photos:\n",
    "        new_train_data.append(el)"
   ]
  },
  {
   "cell_type": "code",
   "execution_count": 41,
   "metadata": {},
   "outputs": [
    {
     "data": {
      "text/plain": [
       "8483"
      ]
     },
     "execution_count": 41,
     "metadata": {},
     "output_type": "execute_result"
    }
   ],
   "source": [
    "len(new_train_data)"
   ]
  },
  {
   "cell_type": "code",
   "execution_count": 42,
   "metadata": {},
   "outputs": [],
   "source": [
    "new_val_data = []\n",
    "for el in val_data:\n",
    "    if el['id'] in src_photos:\n",
    "        new_val_data.append(el)"
   ]
  },
  {
   "cell_type": "code",
   "execution_count": 43,
   "metadata": {},
   "outputs": [
    {
     "data": {
      "text/plain": [
       "500"
      ]
     },
     "execution_count": 43,
     "metadata": {},
     "output_type": "execute_result"
    }
   ],
   "source": [
    "len(new_val_data)"
   ]
  },
  {
   "cell_type": "code",
   "execution_count": 53,
   "metadata": {},
   "outputs": [],
   "source": [
    "nlp = spacy.load('en_core_web_sm')\n",
    "for el in new_train_data:\n",
    "    image_desc = str(image_data[image_data['src'] == el['id']]['best_caption'].values[0]) + ' ' + str(image_data[image_data['src'] == el['id']]['best_tags'].values[0])\n",
    "    doc = nlp(el['text'] + ' ' + image_desc)\n",
    "    el['new_vector'] = doc.vector"
   ]
  },
  {
   "cell_type": "code",
   "execution_count": 54,
   "metadata": {},
   "outputs": [],
   "source": [
    "nlp = spacy.load('en_core_web_sm')\n",
    "for el in new_val_data:\n",
    "    image_desc = str(image_data[image_data['src'] == el['id']]['best_caption'].values[0]) + ' ' + str(image_data[image_data['src'] == el['id']]['best_tags'].values[0])\n",
    "    doc = nlp(el['text'] + ' ' + image_desc)\n",
    "    el['new_vector'] = doc.vector"
   ]
  },
  {
   "cell_type": "code",
   "execution_count": 60,
   "metadata": {},
   "outputs": [],
   "source": [
    "new_train_labels = []\n",
    "for el in new_train_data:\n",
    "    new_train_labels.append(el['label'])\n",
    "\n",
    "new_train_vectors = []\n",
    "for el in new_train_data:\n",
    "    new_train_vectors.append(el['new_vector'])"
   ]
  },
  {
   "cell_type": "code",
   "execution_count": 56,
   "metadata": {},
   "outputs": [],
   "source": [
    "new_val_vectors = []\n",
    "for el in new_val_data:\n",
    "    new_val_vectors.append(el['new_vector'])"
   ]
  },
  {
   "cell_type": "code",
   "execution_count": 63,
   "metadata": {},
   "outputs": [
    {
     "name": "stderr",
     "output_type": "stream",
     "text": [
      "/usr/local/lib/python3.7/site-packages/sklearn/linear_model/logistic.py:432: FutureWarning: Default solver will be changed to 'lbfgs' in 0.22. Specify a solver to silence this warning.\n",
      "  FutureWarning)\n"
     ]
    },
    {
     "name": "stdout",
     "output_type": "stream",
     "text": [
      "Train Accuracy: 0.6441117529175999\n",
      "Validation Accuracy: 0.502\n"
     ]
    }
   ],
   "source": [
    "new_lr = LogisticRegression()\n",
    "new_lr.fit(new_train_vectors, new_train_labels)\n",
    "print('Train Accuracy: {}'.format(new_lr.score(new_train_vectors, new_train_labels)))\n",
    "print('Validation Accuracy: {}'.format(new_lr.score(new_val_vectors, val_labels)))"
   ]
  },
  {
   "cell_type": "code",
   "execution_count": null,
   "metadata": {},
   "outputs": [],
   "source": []
  }
 ],
 "metadata": {
  "kernelspec": {
   "display_name": "Python 3",
   "language": "python",
   "name": "python3"
  },
  "language_info": {
   "codemirror_mode": {
    "name": "ipython",
    "version": 3
   },
   "file_extension": ".py",
   "mimetype": "text/x-python",
   "name": "python",
   "nbconvert_exporter": "python",
   "pygments_lexer": "ipython3",
   "version": "3.7.4"
  }
 },
 "nbformat": 4,
 "nbformat_minor": 4
}
