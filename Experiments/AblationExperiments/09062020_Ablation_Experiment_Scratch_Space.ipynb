{
 "cells": [
  {
   "cell_type": "code",
   "execution_count": 196,
   "metadata": {},
   "outputs": [],
   "source": [
    "import numpy as np\n",
    "import pandas as pd\n",
    "import json\n",
    "from sklearn.linear_model import LogisticRegression\n",
    "from sklearn.neighbors import KNeighborsClassifier as KNN\n",
    "import xgboost as xgb\n",
    "from sklearn.decomposition import PCA\n",
    "from sklearn.metrics import roc_auc_score\n",
    "import matplotlib.pyplot as plt\n",
    "import seaborn as sns"
   ]
  },
  {
   "cell_type": "code",
   "execution_count": 2,
   "metadata": {},
   "outputs": [],
   "source": [
    "with open('/Users/nissani/Desktop/Hateful_Memes_Project/data/train.json', 'r') as f:\n",
    "    train_data = json.load(f)\n",
    "    \n",
    "with open('/Users/nissani/Desktop/Hateful_Memes_Project/data/dev.json', 'r') as f:\n",
    "    dev_data = json.load(f)"
   ]
  },
  {
   "cell_type": "code",
   "execution_count": 3,
   "metadata": {},
   "outputs": [
    {
     "name": "stdout",
     "output_type": "stream",
     "text": [
      "Hateful: 3050\n",
      "Not Hateful: 5450\n",
      "Hateful: 250\n",
      "Not Hateful: 250\n"
     ]
    }
   ],
   "source": [
    "hateful = 0\n",
    "not_hateful = 0\n",
    "for el in list(train_data.keys()):\n",
    "    if train_data[el]['label'] == 1:\n",
    "        hateful += 1\n",
    "    else:\n",
    "        not_hateful += 1\n",
    "\n",
    "print('Hateful: {}'.format(hateful))\n",
    "print('Not Hateful: {}'.format(not_hateful))\n",
    "\n",
    "hateful = 0\n",
    "not_hateful = 0\n",
    "for el in list(dev_data.keys()):\n",
    "    if dev_data[el]['label'] == 1:\n",
    "        hateful += 1\n",
    "    else:\n",
    "        not_hateful += 1\n",
    "\n",
    "print('Hateful: {}'.format(hateful))\n",
    "print('Not Hateful: {}'.format(not_hateful))"
   ]
  },
  {
   "cell_type": "code",
   "execution_count": 4,
   "metadata": {},
   "outputs": [],
   "source": [
    "columns = []\n",
    "for el in list(train_data['42953'].keys())[6:]:\n",
    "    if el != 'emotion_feature':\n",
    "        columns.append(el)"
   ]
  },
  {
   "cell_type": "code",
   "execution_count": 61,
   "metadata": {},
   "outputs": [],
   "source": [
    "columns.remove('all_text_freq')"
   ]
  },
  {
   "cell_type": "code",
   "execution_count": 62,
   "metadata": {},
   "outputs": [
    {
     "data": {
      "text/plain": [
       "['meme_hate_speech',\n",
       " 'meme_offensive_language',\n",
       " 'meme_neither',\n",
       " 'caption_hate_speech',\n",
       " 'caption_offensive_language',\n",
       " 'caption_neither',\n",
       " 'tag_hate_speech',\n",
       " 'tag_offensive_language',\n",
       " 'tag_neither',\n",
       " 'meme_sentiment',\n",
       " 'caption_sentiment',\n",
       " 'tag_sentiment',\n",
       " 'tag_feature_vector',\n",
       " 'caption_feature_vector',\n",
       " 'meme_feature_vector',\n",
       " 'protected_meme_scores',\n",
       " 'protected_caption_scores',\n",
       " 'train_text_freq',\n",
       " 'dev_text_freq',\n",
       " 'test_text_freq',\n",
       " 'tags_race',\n",
       " 'tags_disability',\n",
       " 'tags_religion',\n",
       " 'tags_sexual_orientation',\n",
       " 'tags_violence',\n",
       " 'tags_criminals',\n",
       " 'tags_gender',\n",
       " 'tags_animals',\n",
       " 'text_race',\n",
       " 'text_disability',\n",
       " 'text_religion',\n",
       " 'text_sexual_orientation',\n",
       " 'text_violence',\n",
       " 'text_criminals',\n",
       " 'text_gender',\n",
       " 'text_animals']"
      ]
     },
     "execution_count": 62,
     "metadata": {},
     "output_type": "execute_result"
    }
   ],
   "source": [
    "columns"
   ]
  },
  {
   "cell_type": "code",
   "execution_count": 85,
   "metadata": {},
   "outputs": [],
   "source": [
    "new_columns = ['tag_feature_vector', 'caption_feature_vector', 'meme_feature_vector']"
   ]
  },
  {
   "cell_type": "code",
   "execution_count": 63,
   "metadata": {},
   "outputs": [
    {
     "data": {
      "text/plain": [
       "['NEGATIVE', 0.9568]"
      ]
     },
     "execution_count": 63,
     "metadata": {},
     "output_type": "execute_result"
    }
   ],
   "source": [
    "train_data['42953']['tag_sentiment']"
   ]
  },
  {
   "cell_type": "code",
   "execution_count": 64,
   "metadata": {},
   "outputs": [],
   "source": [
    "def sentiment_check(data):\n",
    "    sentiment_list = data\n",
    "    sentiment_scores = {}\n",
    "    if sentiment_list[0] == 'NEGATIVE':\n",
    "        sentiment_scores['negative'] = sentiment_list[1]\n",
    "        sentiment_scores['positive'] = 1 - sentiment_list[1]\n",
    "    elif sentiment_list[0] == 'POSITIVE':\n",
    "        sentiment_scores['positive'] = sentiment_list[1]\n",
    "        sentiment_scores['negative'] = 1 - sentiment_list[1]\n",
    "    else:\n",
    "        raise Exception(\"sentiment label not found\")\n",
    "    \n",
    "    return sentiment_scores"
   ]
  },
  {
   "cell_type": "code",
   "execution_count": 65,
   "metadata": {},
   "outputs": [
    {
     "data": {
      "text/plain": [
       "[567.9492130065482,\n",
       " 546.2337104679173,\n",
       " 588.6687470631587,\n",
       " 571.2920274632197,\n",
       " 555.7372433059063,\n",
       " 553.8820845654845,\n",
       " 555.1955790296342,\n",
       " 588.4936292130878,\n",
       " 584.0770774830744]"
      ]
     },
     "execution_count": 65,
     "metadata": {},
     "output_type": "execute_result"
    }
   ],
   "source": [
    "train_data['42953']['protected_meme_scores']"
   ]
  },
  {
   "cell_type": "code",
   "execution_count": 66,
   "metadata": {},
   "outputs": [],
   "source": [
    "def format_data(data, keys1, keys2):\n",
    "    labels = []\n",
    "    feature_vectors = []\n",
    "    for key1 in keys1:\n",
    "        labels.append(data[key1]['label'])\n",
    "        feature_vector = []\n",
    "        for key2 in keys2:\n",
    "            if isinstance(data[key1][key2], list):\n",
    "                if 'sentiment' in key2:\n",
    "                    sentiment_scores = sentiment_check(data[key1][key2])\n",
    "                    feature_vector.append(sentiment_scores['negative'])\n",
    "                    feature_vector.append(sentiment_scores['positive'])\n",
    "                else:\n",
    "                    for el in data[key1][key2]:\n",
    "                        feature_vector.append(el)\n",
    "            else:\n",
    "                feature_vector.append(data[key1][key2])\n",
    "        feature_vectors.append(feature_vector)\n",
    "        \n",
    "    return labels, feature_vectors"
   ]
  },
  {
   "cell_type": "code",
   "execution_count": 86,
   "metadata": {},
   "outputs": [],
   "source": [
    "train_labels, train_feature_vectors = format_data(train_data, list(train_data.keys()), new_columns)\n",
    "dev_labels, dev_feature_vectors = format_data(dev_data, list(dev_data.keys()), new_columns)"
   ]
  },
  {
   "cell_type": "code",
   "execution_count": 87,
   "metadata": {},
   "outputs": [
    {
     "data": {
      "text/plain": [
       "1836"
      ]
     },
     "execution_count": 87,
     "metadata": {},
     "output_type": "execute_result"
    }
   ],
   "source": [
    "len(train_feature_vectors[0])"
   ]
  },
  {
   "cell_type": "code",
   "execution_count": 174,
   "metadata": {},
   "outputs": [],
   "source": [
    "PCA_model = PCA(n_components = 500)\n",
    "reduced_train_feature_vectors = PCA_model.fit_transform(train_feature_vectors)\n",
    "reduced_dev_feature_vectors = PCA_model.transform(dev_feature_vectors)\n",
    "components = PCA_model.components_"
   ]
  },
  {
   "cell_type": "code",
   "execution_count": 175,
   "metadata": {},
   "outputs": [
    {
     "name": "stdout",
     "output_type": "stream",
     "text": [
      "0.950957689649559\n"
     ]
    }
   ],
   "source": [
    "print(sum(PCA_model.explained_variance_ratio_))"
   ]
  },
  {
   "cell_type": "code",
   "execution_count": 176,
   "metadata": {},
   "outputs": [
    {
     "name": "stdout",
     "output_type": "stream",
     "text": [
      "[415.28464968 392.00610309 375.45097992 358.43862168 336.77869796\n",
      " 325.61972752 318.50838871 303.96412266 296.32293861 292.50437024\n",
      " 279.46952487 278.79680343 275.52616386 265.70075647 264.18291974\n",
      " 256.08369858 245.04478752 243.01532897 239.65008122 235.99261549\n",
      " 232.85230243 232.66878654 227.06588399 222.39198962 218.56687206\n",
      " 213.88897746 211.3183953  209.79508975 207.62635168 204.22007817\n",
      " 201.92953764 199.14097119 197.35943299 196.59057309 194.95006509\n",
      " 191.44024397 189.90831446 186.87659476 185.13475772 183.47004093\n",
      " 181.15357747 179.64494893 177.13704348 176.35882829 173.55495549\n",
      " 171.09084036 168.50547926 165.66945839 164.26025203 163.69370219\n",
      " 161.25358039 160.10440539 157.62210853 155.99209437 154.72736297\n",
      " 153.797771   152.22688693 149.7711539  147.75450094 147.110372\n",
      " 145.29647197 143.88071148 143.4849338  143.01061905 141.59711868\n",
      " 140.35808815 137.46169433 136.7116511  133.41993009 132.90663151\n",
      " 131.8776782  131.00357661 128.11062112 127.1125113  126.223483\n",
      " 125.90334737 125.46370009 124.05670124 123.30950012 121.81083274\n",
      " 120.85456438 119.20622141 117.9548858  117.37317695 115.80914014\n",
      " 114.47756498 114.24979067 113.34120175 113.15699559 112.14186365\n",
      " 111.46369194 110.86998586 109.65113506 108.05112249 107.83480276\n",
      " 107.31466028 105.08652318 104.16160048 103.82019245 103.54903073\n",
      " 102.34155747 101.44102143 100.33953022  99.61401598  99.07309424\n",
      "  98.71376917  98.23480241  97.75059142  96.85908208  96.21969697\n",
      "  95.60155753  94.90473689  94.30150993  93.65310478  92.88748298\n",
      "  92.07764506  91.64181059  90.9358818   90.09181644  90.0143565\n",
      "  89.0914876   88.73912442  88.64163609  88.10441164  87.92742432\n",
      "  86.61922414  85.9030191   85.63702755  85.42232581  84.98646765\n",
      "  84.41029601  84.03054715  83.57546648  82.98066113  82.19104178\n",
      "  81.67264782  81.32524539  81.05459595  80.39567574  80.13851998\n",
      "  79.59332299  79.43691935  79.32846937  77.97403456  77.60057724\n",
      "  77.33673636  77.1895321   76.89128167  76.57834161  75.98659192\n",
      "  75.35253493  75.03034228  74.94064704  74.08424026  74.02850368\n",
      "  73.45419747  73.18214826  72.57744447  72.10088147  71.61790432\n",
      "  71.41249737  71.07654762  70.78436906  70.06362486  70.01940021\n",
      "  69.08142932  69.04436875  68.24935276  68.13641184  68.0192224\n",
      "  67.58660024  67.36220254  67.02793851  66.64176277  66.01002843\n",
      "  65.64315555  65.36673659  65.19405533  64.62686783  64.54265865\n",
      "  64.19838474  63.94562704  63.87213169  63.38259344  63.11260156\n",
      "  62.70025398  62.22400101  62.04085782  61.73141629  61.51871989\n",
      "  61.19322337  60.90075908  60.64723319  60.34466092  60.12810269\n",
      "  59.63299302  59.34426772  59.04012985  58.804841    58.52456903\n",
      "  58.20954482  57.63228499  57.43768703  57.3090003   56.85821848\n",
      "  56.56638364  56.15966713  56.00749076  55.71101774  55.54736887\n",
      "  55.18827681  54.98419322  54.83139259  54.69051555  54.46900625\n",
      "  53.59495696  53.52998216  53.51658041  53.23581395  53.21120234\n",
      "  52.68839856  52.58153528  52.3896199   52.01713137  52.00990751\n",
      "  51.68821147  51.23748531  51.11079688  50.83486854  50.63723146\n",
      "  50.45932628  50.23678866  49.93797683  49.85258362  49.64389421\n",
      "  49.26270862  49.19258778  49.07579858  48.6310891   48.4416092\n",
      "  48.21314527  48.05688181  47.85539691  47.55957714  47.44592023\n",
      "  47.30521711  47.28942702  47.09344364  46.98783306  46.54794453\n",
      "  46.49583415  46.46245409  46.37849333  46.27214506  45.78015224\n",
      "  45.66076657  45.56257807  45.35105734  45.1999323   45.15240945\n",
      "  44.82211202  44.74561006  44.49843307  44.45163432  44.36350913\n",
      "  44.20097894  43.98538747  43.94800987  43.66215044  43.611943\n",
      "  43.39517858  43.28927009  43.19383569  43.04773877  42.93217254\n",
      "  42.66855449  42.62403756  42.50302486  42.27308678  42.1288129\n",
      "  42.02062573  41.97230296  41.72932034  41.65070829  41.55734127\n",
      "  41.38607296  41.3065684   41.26530248  41.01097426  40.88574312\n",
      "  40.80520399  40.75340276  40.54877391  40.48109358  40.31707232\n",
      "  40.22149848  39.99460922  39.94628446  39.89791927  39.76442395\n",
      "  39.69393544  39.55480248  39.43898075  39.34580917  39.13045119\n",
      "  39.03909767  39.02200006  38.83289692  38.74855922  38.61100744\n",
      "  38.55449213  38.4690804   38.32766854  38.27922713  38.20156164\n",
      "  38.12636353  37.88058761  37.81200265  37.79163012  37.71598439\n",
      "  37.49845489  37.46105826  37.39152382  37.32302928  37.2538294\n",
      "  36.97091611  36.85322554  36.78918097  36.78402016  36.60475768\n",
      "  36.58967763  36.38549233  36.30834005  36.25042391  36.17333931\n",
      "  36.16910714  36.08582086  35.97460317  35.84770007  35.76731979\n",
      "  35.63220305  35.4816678   35.39592729  35.35451844  35.2758485\n",
      "  35.19481394  35.10706614  35.06450493  34.9835274   34.97414624\n",
      "  34.81992057  34.75476769  34.6546885   34.53314266  34.43782045\n",
      "  34.39187578  34.34367582  34.20866229  34.10455517  34.04451395\n",
      "  33.93830473  33.8096445   33.78253806  33.71866692  33.66079194\n",
      "  33.60591876  33.52917196  33.4431316   33.38508432  33.33162075\n",
      "  33.28951441  33.17553165  33.04376585  33.00865915  32.9757373\n",
      "  32.84993835  32.76318454  32.71244351  32.67746913  32.61094683\n",
      "  32.55363487  32.43223371  32.36294999  32.3615604   32.32095607\n",
      "  32.25838868  32.08918714  32.0374171   31.95906281  31.92774082\n",
      "  31.84588816  31.82993313  31.67418242  31.63052286  31.59785836\n",
      "  31.46554438  31.43732364  31.3405768   31.25212518  31.16886177\n",
      "  31.13619629  31.05876171  31.02850798  30.90372813  30.77948623\n",
      "  30.76897115  30.73984991  30.72095648  30.6390198   30.5650408\n",
      "  30.53801162  30.47615817  30.38210226  30.33590431  30.29468652\n",
      "  30.21349652  30.16185451  30.09970947  30.05981196  29.95804365\n",
      "  29.92369287  29.84722955  29.80474788  29.77925116  29.6646184\n",
      "  29.5885776   29.52378942  29.46849725  29.36056045  29.3119226\n",
      "  29.27391005  29.25806009  29.1399556   29.07143862  29.05643338\n",
      "  28.95534985  28.92426935  28.84728132  28.79963434  28.76646128\n",
      "  28.6950045   28.6263658   28.53872287  28.50403539  28.44278409\n",
      "  28.39658945  28.36478591  28.28930469  28.25017847  28.19796724\n",
      "  28.15232518  28.08809104  27.96050447  27.94005749  27.90293188\n",
      "  27.83378311  27.81103679  27.71240001  27.64303642  27.59855844\n",
      "  27.48490849  27.42823375  27.40594763  27.31963027  27.24785361\n",
      "  27.19157827  27.15653699  27.09605868  27.03260073  27.00606936\n",
      "  26.89947702  26.85366411  26.78324117  26.72385501  26.62919183\n",
      "  26.60843761  26.5082365   26.46842021  26.34858228  26.28999\n",
      "  26.26806127  26.25660006  26.19828032  26.16022863  26.04649078\n",
      "  25.9919389   25.94823565  25.89035181  25.87128003  25.78985031\n",
      "  25.67251103  25.59665394  25.54291328  25.47176525  25.45322972\n",
      "  25.31731645  25.25016145  25.19313675  25.12276702  25.01233123]\n"
     ]
    }
   ],
   "source": [
    "print(PCA_model.singular_values_)"
   ]
  },
  {
   "cell_type": "code",
   "execution_count": 177,
   "metadata": {},
   "outputs": [
    {
     "name": "stderr",
     "output_type": "stream",
     "text": [
      "/usr/local/lib/python3.7/site-packages/sklearn/linear_model/logistic.py:432: FutureWarning: Default solver will be changed to 'lbfgs' in 0.22. Specify a solver to silence this warning.\n",
      "  FutureWarning)\n"
     ]
    },
    {
     "data": {
      "text/plain": [
       "LogisticRegression(C=1.0, class_weight=None, dual=False, fit_intercept=True,\n",
       "                   intercept_scaling=1, l1_ratio=None, max_iter=100,\n",
       "                   multi_class='warn', n_jobs=None, penalty='l2',\n",
       "                   random_state=None, solver='warn', tol=0.0001, verbose=0,\n",
       "                   warm_start=False)"
      ]
     },
     "execution_count": 177,
     "metadata": {},
     "output_type": "execute_result"
    }
   ],
   "source": [
    "lr = LogisticRegression()\n",
    "lr.fit(reduced_train_feature_vectors, train_labels)"
   ]
  },
  {
   "cell_type": "code",
   "execution_count": 178,
   "metadata": {},
   "outputs": [
    {
     "data": {
      "text/plain": [
       "0.7325882352941177"
      ]
     },
     "execution_count": 178,
     "metadata": {},
     "output_type": "execute_result"
    }
   ],
   "source": [
    "lr.score(reduced_train_feature_vectors, train_labels)"
   ]
  },
  {
   "cell_type": "code",
   "execution_count": 179,
   "metadata": {},
   "outputs": [
    {
     "data": {
      "text/plain": [
       "0.544"
      ]
     },
     "execution_count": 179,
     "metadata": {},
     "output_type": "execute_result"
    }
   ],
   "source": [
    "lr.score(reduced_dev_feature_vectors, dev_labels)"
   ]
  },
  {
   "cell_type": "code",
   "execution_count": 201,
   "metadata": {},
   "outputs": [
    {
     "data": {
      "text/plain": [
       "0.7851199879681154"
      ]
     },
     "execution_count": 201,
     "metadata": {},
     "output_type": "execute_result"
    }
   ],
   "source": [
    "predictions = lr.predict_proba(reduced_train_feature_vectors)\n",
    "roc_auc_score(train_labels, predictions[:,1])"
   ]
  },
  {
   "cell_type": "code",
   "execution_count": 194,
   "metadata": {},
   "outputs": [
    {
     "data": {
      "text/plain": [
       "0.608608"
      ]
     },
     "execution_count": 194,
     "metadata": {},
     "output_type": "execute_result"
    }
   ],
   "source": [
    "predictions = lr.predict_proba(reduced_dev_feature_vectors)\n",
    "roc_auc_score(dev_labels, predictions[:,1])"
   ]
  },
  {
   "cell_type": "code",
   "execution_count": 202,
   "metadata": {},
   "outputs": [],
   "source": [
    "# calculate precision-recall curve\n",
    "from sklearn.metrics import precision_recall_curve\n",
    "\n",
    "precision, recall, thresholds = precision_recall_curve(train_labels, predictions[:,1])\n",
    "\n",
    "def plot_precision_recall_vs_threshold(precisions, recalls, thresholds):\n",
    "    \"\"\"\n",
    "    Modified from:\n",
    "    Hands-On Machine learning with Scikit-Learn\n",
    "    and TensorFlow; p.89\n",
    "    \"\"\"\n",
    "    plt.figure(figsize=(8, 8))\n",
    "    plt.title(\"Precision and Recall Scores as a function of the decision threshold\")\n",
    "    plt.plot(thresholds, precisions[:-1], \"b--\", label=\"Precision\")\n",
    "    plt.plot(thresholds, recalls[:-1], \"g-\", label=\"Recall\")\n",
    "    plt.ylabel(\"Score\")\n",
    "    plt.xlabel(\"Decision Threshold\")\n",
    "    plt.legend(loc='best')"
   ]
  },
  {
   "cell_type": "code",
   "execution_count": 203,
   "metadata": {},
   "outputs": [
    {
     "data": {
      "image/png": "[encoded data removed]",
      "text/plain": [
       "<Figure size 576x576 with 1 Axes>"
      ]
     },
     "metadata": {
      "needs_background": "light"
     },
     "output_type": "display_data"
    }
   ],
   "source": [
    "plot_precision_recall_vs_threshold(precision, recall, thresholds)"
   ]
  },
  {
   "cell_type": "code",
   "execution_count": 144,
   "metadata": {},
   "outputs": [],
   "source": [
    "knn = KNN()"
   ]
  },
  {
   "cell_type": "code",
   "execution_count": 159,
   "metadata": {},
   "outputs": [
    {
     "data": {
      "text/plain": [
       "KNeighborsClassifier(algorithm='auto', leaf_size=30, metric='minkowski',\n",
       "                     metric_params=None, n_jobs=None, n_neighbors=5, p=2,\n",
       "                     weights='uniform')"
      ]
     },
     "execution_count": 159,
     "metadata": {},
     "output_type": "execute_result"
    }
   ],
   "source": [
    "knn.fit(reduced_dev_feature_vectors, dev_labels)"
   ]
  },
  {
   "cell_type": "code",
   "execution_count": 160,
   "metadata": {},
   "outputs": [
    {
     "data": {
      "text/plain": [
       "0.5338823529411765"
      ]
     },
     "execution_count": 160,
     "metadata": {},
     "output_type": "execute_result"
    }
   ],
   "source": [
    "knn.score(reduced_train_feature_vectors, train_labels)"
   ]
  },
  {
   "cell_type": "code",
   "execution_count": 161,
   "metadata": {},
   "outputs": [
    {
     "data": {
      "text/plain": [
       "0.608"
      ]
     },
     "execution_count": 161,
     "metadata": {},
     "output_type": "execute_result"
    }
   ],
   "source": [
    "knn.score(reduced_dev_feature_vectors, dev_labels)"
   ]
  },
  {
   "cell_type": "code",
   "execution_count": 148,
   "metadata": {},
   "outputs": [],
   "source": [
    "model = xgb.XGBClassifier()"
   ]
  },
  {
   "cell_type": "code",
   "execution_count": 162,
   "metadata": {},
   "outputs": [
    {
     "data": {
      "text/plain": [
       "XGBClassifier(base_score=0.5, booster='gbtree', colsample_bylevel=1,\n",
       "              colsample_bynode=1, colsample_bytree=1, gamma=0,\n",
       "              learning_rate=0.1, max_delta_step=0, max_depth=3,\n",
       "              min_child_weight=1, missing=None, n_estimators=100, n_jobs=1,\n",
       "              nthread=None, objective='binary:logistic', random_state=0,\n",
       "              reg_alpha=0, reg_lambda=1, scale_pos_weight=1, seed=None,\n",
       "              silent=None, subsample=1, verbosity=1)"
      ]
     },
     "execution_count": 162,
     "metadata": {},
     "output_type": "execute_result"
    }
   ],
   "source": [
    "model.fit(np.array(reduced_dev_feature_vectors), np.array(dev_labels))"
   ]
  },
  {
   "cell_type": "code",
   "execution_count": 163,
   "metadata": {},
   "outputs": [
    {
     "data": {
      "text/plain": [
       "0.536"
      ]
     },
     "execution_count": 163,
     "metadata": {},
     "output_type": "execute_result"
    }
   ],
   "source": [
    "model.score(np.array(reduced_train_feature_vectors), np.array(train_labels))"
   ]
  },
  {
   "cell_type": "code",
   "execution_count": 164,
   "metadata": {},
   "outputs": [
    {
     "data": {
      "text/plain": [
       "1.0"
      ]
     },
     "execution_count": 164,
     "metadata": {},
     "output_type": "execute_result"
    }
   ],
   "source": [
    "model.score(np.array(reduced_dev_feature_vectors), np.array(dev_labels))"
   ]
  },
  {
   "cell_type": "code",
   "execution_count": 165,
   "metadata": {},
   "outputs": [
    {
     "data": {
      "text/plain": [
       "<matplotlib.axes._subplots.AxesSubplot at 0x14131e990>"
      ]
     },
     "execution_count": 165,
     "metadata": {},
     "output_type": "execute_result"
    },
    {
     "data": {
      "image/png": "[encoded data removed]",
      "text/plain": [
       "<Figure size 432x288 with 1 Axes>"
      ]
     },
     "metadata": {
      "needs_background": "light"
     },
     "output_type": "display_data"
    }
   ],
   "source": [
    "xgb.plot_importance(model, max_num_features = 30)"
   ]
  },
  {
   "cell_type": "code",
   "execution_count": 166,
   "metadata": {},
   "outputs": [
    {
     "data": {
      "text/plain": [
       "1836"
      ]
     },
     "execution_count": 166,
     "metadata": {},
     "output_type": "execute_result"
    }
   ],
   "source": [
    "len(train_feature_vectors[0])"
   ]
  },
  {
   "cell_type": "code",
   "execution_count": 167,
   "metadata": {},
   "outputs": [
    {
     "data": {
      "text/plain": [
       "['meme_hate_speech',\n",
       " 'meme_offensive_language',\n",
       " 'meme_neither',\n",
       " 'caption_hate_speech',\n",
       " 'caption_offensive_language',\n",
       " 'caption_neither',\n",
       " 'tag_hate_speech',\n",
       " 'tag_offensive_language',\n",
       " 'tag_neither',\n",
       " 'meme_sentiment',\n",
       " 'caption_sentiment',\n",
       " 'tag_sentiment',\n",
       " 'tag_feature_vector',\n",
       " 'caption_feature_vector',\n",
       " 'meme_feature_vector',\n",
       " 'protected_meme_scores',\n",
       " 'protected_caption_scores',\n",
       " 'train_text_freq',\n",
       " 'dev_text_freq',\n",
       " 'test_text_freq',\n",
       " 'tags_race',\n",
       " 'tags_disability',\n",
       " 'tags_religion',\n",
       " 'tags_sexual_orientation',\n",
       " 'tags_violence',\n",
       " 'tags_criminals',\n",
       " 'tags_gender',\n",
       " 'tags_animals',\n",
       " 'text_race',\n",
       " 'text_disability',\n",
       " 'text_religion',\n",
       " 'text_sexual_orientation',\n",
       " 'text_violence',\n",
       " 'text_criminals',\n",
       " 'text_gender',\n",
       " 'text_animals']"
      ]
     },
     "execution_count": 167,
     "metadata": {},
     "output_type": "execute_result"
    }
   ],
   "source": [
    "columns"
   ]
  },
  {
   "cell_type": "code",
   "execution_count": 172,
   "metadata": {},
   "outputs": [
    {
     "name": "stdout",
     "output_type": "stream",
     "text": [
      "Hateful: 4546\n",
      "Not Hateful: 3954\n"
     ]
    }
   ],
   "source": [
    "predictions = knn.predict(reduced_train_feature_vectors)\n",
    "hateful = 0\n",
    "not_hateful = 0\n",
    "for el in predictions:\n",
    "    if el == 1:\n",
    "        hateful += 1\n",
    "    else:\n",
    "        not_hateful += 1\n",
    "\n",
    "print('Hateful: {}'.format(hateful))\n",
    "print('Not Hateful: {}'.format(not_hateful))"
   ]
  },
  {
   "cell_type": "code",
   "execution_count": 25,
   "metadata": {},
   "outputs": [],
   "source": [
    "def ablation_experiment(train_data, dev_data, keys2, model):\n",
    "    remaining_keys = keys2.copy()\n",
    "    while len(remaining_keys) > 0:\n",
    "        scores = []\n",
    "        print('getting scores')\n",
    "        for name in remaining_keys:\n",
    "            current_keys = remaining_keys.copy()\n",
    "            current_keys.remove(name)\n",
    "            print('making keys')\n",
    "            train_labels, train_feature_vectors = format_data(train_data, list(train_data.keys()), current_keys)\n",
    "            dev_labels, dev_feature_vectors = format_data(dev_data, list(dev_data.keys()), current_keys)\n",
    "            print('formatted_data')\n",
    "            model.fit(np.array(train_feature_vectors), np.array(train_labels))\n",
    "            scores.append(model.score(np.array(dev_feature_vectors), np.array(dev_labels)))\n",
    "            print(name)\n",
    "            print(scores[-1])\n",
    "        min_score = min(scores)\n",
    "        print(min_score)\n",
    "        argmin_score = np.argmin(scores)\n",
    "        print(remaining_keys[argmin_score])\n",
    "        remaining_keys.remove(remaining_keys[argmin_score])\n",
    "    "
   ]
  },
  {
   "cell_type": "code",
   "execution_count": 26,
   "metadata": {},
   "outputs": [
    {
     "name": "stdout",
     "output_type": "stream",
     "text": [
      "getting scores\n",
      "making keys\n",
      "formatted_data\n",
      "meme_hate_speech\n",
      "0.528\n",
      "making keys\n",
      "formatted_data\n",
      "meme_offensive_language\n",
      "0.526\n",
      "making keys\n",
      "formatted_data\n",
      "meme_neither\n",
      "0.526\n",
      "making keys\n",
      "formatted_data\n",
      "caption_hate_speech\n",
      "0.53\n",
      "making keys\n",
      "formatted_data\n",
      "caption_offensive_language\n",
      "0.53\n",
      "making keys\n",
      "formatted_data\n",
      "caption_neither\n",
      "0.528\n",
      "making keys\n",
      "formatted_data\n",
      "tag_hate_speech\n",
      "0.526\n",
      "making keys\n",
      "formatted_data\n",
      "tag_offensive_language\n",
      "0.524\n",
      "making keys\n",
      "formatted_data\n",
      "tag_neither\n",
      "0.528\n",
      "making keys\n",
      "formatted_data\n",
      "meme_sentiment\n",
      "0.518\n",
      "making keys\n",
      "formatted_data\n",
      "caption_sentiment\n",
      "0.528\n",
      "making keys\n",
      "formatted_data\n",
      "tag_sentiment\n",
      "0.53\n",
      "making keys\n",
      "formatted_data\n"
     ]
    },
    {
     "ename": "KeyboardInterrupt",
     "evalue": "",
     "output_type": "error",
     "traceback": [
      "\u001b[0;31m---------------------------------------------------------------------------\u001b[0m",
      "\u001b[0;31mKeyboardInterrupt\u001b[0m                         Traceback (most recent call last)",
      "\u001b[0;32m<ipython-input-26-5de3d0b6122e>\u001b[0m in \u001b[0;36m<module>\u001b[0;34m\u001b[0m\n\u001b[0;32m----> 1\u001b[0;31m \u001b[0mablation_experiment\u001b[0m\u001b[0;34m(\u001b[0m\u001b[0mtrain_data\u001b[0m\u001b[0;34m,\u001b[0m \u001b[0mdev_data\u001b[0m\u001b[0;34m,\u001b[0m \u001b[0mcolumns\u001b[0m\u001b[0;34m,\u001b[0m \u001b[0mmodel\u001b[0m\u001b[0;34m)\u001b[0m\u001b[0;34m\u001b[0m\u001b[0;34m\u001b[0m\u001b[0m\n\u001b[0m",
      "\u001b[0;32m<ipython-input-25-74f327c69a51>\u001b[0m in \u001b[0;36mablation_experiment\u001b[0;34m(train_data, dev_data, keys2, model)\u001b[0m\n\u001b[1;32m     11\u001b[0m             \u001b[0mdev_labels\u001b[0m\u001b[0;34m,\u001b[0m \u001b[0mdev_feature_vectors\u001b[0m \u001b[0;34m=\u001b[0m \u001b[0mformat_data\u001b[0m\u001b[0;34m(\u001b[0m\u001b[0mdev_data\u001b[0m\u001b[0;34m,\u001b[0m \u001b[0mlist\u001b[0m\u001b[0;34m(\u001b[0m\u001b[0mdev_data\u001b[0m\u001b[0;34m.\u001b[0m\u001b[0mkeys\u001b[0m\u001b[0;34m(\u001b[0m\u001b[0;34m)\u001b[0m\u001b[0;34m)\u001b[0m\u001b[0;34m,\u001b[0m \u001b[0mcurrent_keys\u001b[0m\u001b[0;34m)\u001b[0m\u001b[0;34m\u001b[0m\u001b[0;34m\u001b[0m\u001b[0m\n\u001b[1;32m     12\u001b[0m             \u001b[0mprint\u001b[0m\u001b[0;34m(\u001b[0m\u001b[0;34m'formatted_data'\u001b[0m\u001b[0;34m)\u001b[0m\u001b[0;34m\u001b[0m\u001b[0;34m\u001b[0m\u001b[0m\n\u001b[0;32m---> 13\u001b[0;31m             \u001b[0mmodel\u001b[0m\u001b[0;34m.\u001b[0m\u001b[0mfit\u001b[0m\u001b[0;34m(\u001b[0m\u001b[0mnp\u001b[0m\u001b[0;34m.\u001b[0m\u001b[0marray\u001b[0m\u001b[0;34m(\u001b[0m\u001b[0mtrain_feature_vectors\u001b[0m\u001b[0;34m)\u001b[0m\u001b[0;34m,\u001b[0m \u001b[0mnp\u001b[0m\u001b[0;34m.\u001b[0m\u001b[0marray\u001b[0m\u001b[0;34m(\u001b[0m\u001b[0mtrain_labels\u001b[0m\u001b[0;34m)\u001b[0m\u001b[0;34m)\u001b[0m\u001b[0;34m\u001b[0m\u001b[0;34m\u001b[0m\u001b[0m\n\u001b[0m\u001b[1;32m     14\u001b[0m             \u001b[0mscores\u001b[0m\u001b[0;34m.\u001b[0m\u001b[0mappend\u001b[0m\u001b[0;34m(\u001b[0m\u001b[0mmodel\u001b[0m\u001b[0;34m.\u001b[0m\u001b[0mscore\u001b[0m\u001b[0;34m(\u001b[0m\u001b[0mnp\u001b[0m\u001b[0;34m.\u001b[0m\u001b[0marray\u001b[0m\u001b[0;34m(\u001b[0m\u001b[0mdev_feature_vectors\u001b[0m\u001b[0;34m)\u001b[0m\u001b[0;34m,\u001b[0m \u001b[0mnp\u001b[0m\u001b[0;34m.\u001b[0m\u001b[0marray\u001b[0m\u001b[0;34m(\u001b[0m\u001b[0mdev_labels\u001b[0m\u001b[0;34m)\u001b[0m\u001b[0;34m)\u001b[0m\u001b[0;34m)\u001b[0m\u001b[0;34m\u001b[0m\u001b[0;34m\u001b[0m\u001b[0m\n\u001b[1;32m     15\u001b[0m             \u001b[0mprint\u001b[0m\u001b[0;34m(\u001b[0m\u001b[0mname\u001b[0m\u001b[0;34m)\u001b[0m\u001b[0;34m\u001b[0m\u001b[0;34m\u001b[0m\u001b[0m\n",
      "\u001b[0;32m/usr/local/lib/python3.7/site-packages/xgboost/sklearn.py\u001b[0m in \u001b[0;36mfit\u001b[0;34m(self, X, y, sample_weight, eval_set, eval_metric, early_stopping_rounds, verbose, xgb_model, sample_weight_eval_set, callbacks)\u001b[0m\n\u001b[1;32m    730\u001b[0m                               \u001b[0mevals_result\u001b[0m\u001b[0;34m=\u001b[0m\u001b[0mevals_result\u001b[0m\u001b[0;34m,\u001b[0m \u001b[0mobj\u001b[0m\u001b[0;34m=\u001b[0m\u001b[0mobj\u001b[0m\u001b[0;34m,\u001b[0m \u001b[0mfeval\u001b[0m\u001b[0;34m=\u001b[0m\u001b[0mfeval\u001b[0m\u001b[0;34m,\u001b[0m\u001b[0;34m\u001b[0m\u001b[0;34m\u001b[0m\u001b[0m\n\u001b[1;32m    731\u001b[0m                               \u001b[0mverbose_eval\u001b[0m\u001b[0;34m=\u001b[0m\u001b[0mverbose\u001b[0m\u001b[0;34m,\u001b[0m \u001b[0mxgb_model\u001b[0m\u001b[0;34m=\u001b[0m\u001b[0mxgb_model\u001b[0m\u001b[0;34m,\u001b[0m\u001b[0;34m\u001b[0m\u001b[0;34m\u001b[0m\u001b[0m\n\u001b[0;32m--> 732\u001b[0;31m                               callbacks=callbacks)\n\u001b[0m\u001b[1;32m    733\u001b[0m \u001b[0;34m\u001b[0m\u001b[0m\n\u001b[1;32m    734\u001b[0m         \u001b[0mself\u001b[0m\u001b[0;34m.\u001b[0m\u001b[0mobjective\u001b[0m \u001b[0;34m=\u001b[0m \u001b[0mxgb_options\u001b[0m\u001b[0;34m[\u001b[0m\u001b[0;34m\"objective\"\u001b[0m\u001b[0;34m]\u001b[0m\u001b[0;34m\u001b[0m\u001b[0;34m\u001b[0m\u001b[0m\n",
      "\u001b[0;32m/usr/local/lib/python3.7/site-packages/xgboost/training.py\u001b[0m in \u001b[0;36mtrain\u001b[0;34m(params, dtrain, num_boost_round, evals, obj, feval, maximize, early_stopping_rounds, evals_result, verbose_eval, xgb_model, callbacks, learning_rates)\u001b[0m\n\u001b[1;32m    214\u001b[0m                            \u001b[0mevals\u001b[0m\u001b[0;34m=\u001b[0m\u001b[0mevals\u001b[0m\u001b[0;34m,\u001b[0m\u001b[0;34m\u001b[0m\u001b[0;34m\u001b[0m\u001b[0m\n\u001b[1;32m    215\u001b[0m                            \u001b[0mobj\u001b[0m\u001b[0;34m=\u001b[0m\u001b[0mobj\u001b[0m\u001b[0;34m,\u001b[0m \u001b[0mfeval\u001b[0m\u001b[0;34m=\u001b[0m\u001b[0mfeval\u001b[0m\u001b[0;34m,\u001b[0m\u001b[0;34m\u001b[0m\u001b[0;34m\u001b[0m\u001b[0m\n\u001b[0;32m--> 216\u001b[0;31m                            xgb_model=xgb_model, callbacks=callbacks)\n\u001b[0m\u001b[1;32m    217\u001b[0m \u001b[0;34m\u001b[0m\u001b[0m\n\u001b[1;32m    218\u001b[0m \u001b[0;34m\u001b[0m\u001b[0m\n",
      "\u001b[0;32m/usr/local/lib/python3.7/site-packages/xgboost/training.py\u001b[0m in \u001b[0;36m_train_internal\u001b[0;34m(params, dtrain, num_boost_round, evals, obj, feval, xgb_model, callbacks)\u001b[0m\n\u001b[1;32m     72\u001b[0m         \u001b[0;31m# Skip the first update if it is a recovery step.\u001b[0m\u001b[0;34m\u001b[0m\u001b[0;34m\u001b[0m\u001b[0;34m\u001b[0m\u001b[0m\n\u001b[1;32m     73\u001b[0m         \u001b[0;32mif\u001b[0m \u001b[0mversion\u001b[0m \u001b[0;34m%\u001b[0m \u001b[0;36m2\u001b[0m \u001b[0;34m==\u001b[0m \u001b[0;36m0\u001b[0m\u001b[0;34m:\u001b[0m\u001b[0;34m\u001b[0m\u001b[0;34m\u001b[0m\u001b[0m\n\u001b[0;32m---> 74\u001b[0;31m             \u001b[0mbst\u001b[0m\u001b[0;34m.\u001b[0m\u001b[0mupdate\u001b[0m\u001b[0;34m(\u001b[0m\u001b[0mdtrain\u001b[0m\u001b[0;34m,\u001b[0m \u001b[0mi\u001b[0m\u001b[0;34m,\u001b[0m \u001b[0mobj\u001b[0m\u001b[0;34m)\u001b[0m\u001b[0;34m\u001b[0m\u001b[0;34m\u001b[0m\u001b[0m\n\u001b[0m\u001b[1;32m     75\u001b[0m             \u001b[0mbst\u001b[0m\u001b[0;34m.\u001b[0m\u001b[0msave_rabit_checkpoint\u001b[0m\u001b[0;34m(\u001b[0m\u001b[0;34m)\u001b[0m\u001b[0;34m\u001b[0m\u001b[0;34m\u001b[0m\u001b[0m\n\u001b[1;32m     76\u001b[0m             \u001b[0mversion\u001b[0m \u001b[0;34m+=\u001b[0m \u001b[0;36m1\u001b[0m\u001b[0;34m\u001b[0m\u001b[0;34m\u001b[0m\u001b[0m\n",
      "\u001b[0;32m/usr/local/lib/python3.7/site-packages/xgboost/core.py\u001b[0m in \u001b[0;36mupdate\u001b[0;34m(self, dtrain, iteration, fobj)\u001b[0m\n\u001b[1;32m   1107\u001b[0m         \u001b[0;32mif\u001b[0m \u001b[0mfobj\u001b[0m \u001b[0;32mis\u001b[0m \u001b[0;32mNone\u001b[0m\u001b[0;34m:\u001b[0m\u001b[0;34m\u001b[0m\u001b[0;34m\u001b[0m\u001b[0m\n\u001b[1;32m   1108\u001b[0m             _check_call(_LIB.XGBoosterUpdateOneIter(self.handle, ctypes.c_int(iteration),\n\u001b[0;32m-> 1109\u001b[0;31m                                                     dtrain.handle))\n\u001b[0m\u001b[1;32m   1110\u001b[0m         \u001b[0;32melse\u001b[0m\u001b[0;34m:\u001b[0m\u001b[0;34m\u001b[0m\u001b[0;34m\u001b[0m\u001b[0m\n\u001b[1;32m   1111\u001b[0m             \u001b[0mpred\u001b[0m \u001b[0;34m=\u001b[0m \u001b[0mself\u001b[0m\u001b[0;34m.\u001b[0m\u001b[0mpredict\u001b[0m\u001b[0;34m(\u001b[0m\u001b[0mdtrain\u001b[0m\u001b[0;34m)\u001b[0m\u001b[0;34m\u001b[0m\u001b[0;34m\u001b[0m\u001b[0m\n",
      "\u001b[0;31mKeyboardInterrupt\u001b[0m: "
     ]
    }
   ],
   "source": [
    "ablation_experiment(train_data, dev_data, columns, model)"
   ]
  },
  {
   "cell_type": "code",
   "execution_count": null,
   "metadata": {},
   "outputs": [],
   "source": [
    "#remaining_keys=keys2.copy()\n",
    "#while len(remaining_keys) > 0\n",
    "#   worst_score=???\n",
    "#.  associated_key=X\n",
    "# for i in len(keys2):\n",
    "#     current_keys=key2.copy()\n",
    "#     cirrent_keys.remove(key2[i])\n",
    "#      score=pickle_rick(remaining_keys)\n",
    "#"
   ]
  },
  {
   "cell_type": "code",
   "execution_count": null,
   "metadata": {},
   "outputs": [],
   "source": [
    "#[1,2,3,a,v]\n",
    "#[1,2,3,4,5]\n",
    "\n",
    "\n",
    "#t=0\n",
    "#[1,2,3]\n",
    "#t=1\n",
    "#[2,3,a]\n",
    "#t=2\n",
    "#"
   ]
  }
 ],
 "metadata": {
  "kernelspec": {
   "display_name": "Python 3",
   "language": "python",
   "name": "python3"
  },
  "language_info": {
   "codemirror_mode": {
    "name": "ipython",
    "version": 3
   },
   "file_extension": ".py",
   "mimetype": "text/x-python",
   "name": "python",
   "nbconvert_exporter": "python",
   "pygments_lexer": "ipython3",
   "version": "3.7.4"
  }
 },
 "nbformat": 4,
 "nbformat_minor": 4
}
