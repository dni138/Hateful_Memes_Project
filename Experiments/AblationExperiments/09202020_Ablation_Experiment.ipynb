{
 "cells": [
  {
   "cell_type": "code",
   "execution_count": 3,
   "metadata": {},
   "outputs": [
    {
     "name": "stdout",
     "output_type": "stream",
     "text": [
      "Collecting xgboost\n",
      "  Downloading xgboost-1.2.0-py3-none-macosx_10_13_x86_64.macosx_10_14_x86_64.macosx_10_15_x86_64.whl (1.2 MB)\n",
      "\u001b[K     |████████████████████████████████| 1.2 MB 1.1 MB/s eta 0:00:01\n",
      "\u001b[?25hRequirement already satisfied: scipy in /Users/forrest.xiao/opt/anaconda3/lib/python3.7/site-packages (from xgboost) (1.4.1)\n",
      "Requirement already satisfied: numpy in /Users/forrest.xiao/opt/anaconda3/lib/python3.7/site-packages (from xgboost) (1.18.1)\n",
      "Installing collected packages: xgboost\n",
      "Successfully installed xgboost-1.2.0\n"
     ]
    }
   ],
   "source": [
    "!pip install xgboost"
   ]
  },
  {
   "cell_type": "code",
   "execution_count": 7,
   "metadata": {},
   "outputs": [],
   "source": [
    "import numpy as np\n",
    "import pandas as pd\n",
    "import json\n",
    "from sklearn.linear_model import LogisticRegression\n",
    "from sklearn.neighbors import KNeighborsClassifier as KNN\n",
    "import xgboost as xgb"
   ]
  },
  {
   "cell_type": "code",
   "execution_count": 6,
   "metadata": {},
   "outputs": [],
   "source": [
    "with open('/Users/forrest.xiao/projects/Hateful_Memes_Project/data/train.json', 'r') as f:\n",
    "    train_data = json.load(f)\n",
    "    \n",
    "with open('/Users/forrest.xiao/projects/Hateful_Memes_Project/data/dev.json', 'r') as f:\n",
    "    dev_data = json.load(f)"
   ]
  },
  {
   "cell_type": "code",
   "execution_count": 8,
   "metadata": {},
   "outputs": [],
   "source": [
    "columns = []\n",
    "for el in list(train_data['42953'].keys())[6:]:\n",
    "    if el != 'emotion_feature':\n",
    "        columns.append(el)"
   ]
  },
  {
   "cell_type": "code",
   "execution_count": 11,
   "metadata": {},
   "outputs": [],
   "source": [
    "# columns.remove('meme_feature_vector')\n",
    "# columns.remove('tag_feature_vector')\n",
    "# columns.remove('caption_feature_vector')"
   ]
  },
  {
   "cell_type": "code",
   "execution_count": 12,
   "metadata": {},
   "outputs": [
    {
     "data": {
      "text/plain": [
       "['meme_hate_speech',\n",
       " 'meme_offensive_language',\n",
       " 'meme_neither',\n",
       " 'caption_hate_speech',\n",
       " 'caption_offensive_language',\n",
       " 'caption_neither',\n",
       " 'tag_hate_speech',\n",
       " 'tag_offensive_language',\n",
       " 'tag_neither',\n",
       " 'meme_sentiment',\n",
       " 'caption_sentiment',\n",
       " 'tag_sentiment',\n",
       " 'tag_feature_vector',\n",
       " 'caption_feature_vector',\n",
       " 'meme_feature_vector',\n",
       " 'protected_meme_scores',\n",
       " 'protected_caption_scores',\n",
       " 'all_text_freq',\n",
       " 'train_text_freq',\n",
       " 'dev_text_freq',\n",
       " 'test_text_freq',\n",
       " 'tags_race',\n",
       " 'tags_disability',\n",
       " 'tags_religion',\n",
       " 'tags_sexual_orientation',\n",
       " 'tags_violence',\n",
       " 'tags_criminals',\n",
       " 'tags_gender',\n",
       " 'tags_animals',\n",
       " 'text_race',\n",
       " 'text_disability',\n",
       " 'text_religion',\n",
       " 'text_sexual_orientation',\n",
       " 'text_violence',\n",
       " 'text_criminals',\n",
       " 'text_gender',\n",
       " 'text_animals']"
      ]
     },
     "execution_count": 12,
     "metadata": {},
     "output_type": "execute_result"
    }
   ],
   "source": [
    "columns"
   ]
  },
  {
   "cell_type": "code",
   "execution_count": 13,
   "metadata": {},
   "outputs": [
    {
     "data": {
      "text/plain": [
       "'\\n\\nEnd goal: array of labels and matrix of data\\n\\n'"
      ]
     },
     "execution_count": 13,
     "metadata": {},
     "output_type": "execute_result"
    }
   ],
   "source": [
    "'''\n",
    "\n",
    "End goal: array of labels and matrix of data\n",
    "\n",
    "'''"
   ]
  },
  {
   "cell_type": "code",
   "execution_count": 14,
   "metadata": {},
   "outputs": [
    {
     "data": {
      "text/plain": [
       "['NEGATIVE', 0.9568]"
      ]
     },
     "execution_count": 14,
     "metadata": {},
     "output_type": "execute_result"
    }
   ],
   "source": [
    "train_data['42953']['tag_sentiment']"
   ]
  },
  {
   "cell_type": "code",
   "execution_count": 15,
   "metadata": {},
   "outputs": [],
   "source": [
    "def sentiment_check(data):\n",
    "    sentiment_list = data\n",
    "    sentiment_scores = {}\n",
    "    if sentiment_list[0] == 'NEGATIVE':\n",
    "        sentiment_scores['negative'] = sentiment_list[1]\n",
    "        sentiment_scores['positive'] = 1 - sentiment_list[1]\n",
    "    elif sentiment_list[0] == 'POSITIVE':\n",
    "        sentiment_scores['positive'] = sentiment_list[1]\n",
    "        sentiment_scores['negative'] = 1 - sentiment_list[1]\n",
    "    else:\n",
    "        raise Exception(\"sentiment label not found\")\n",
    "    \n",
    "    return sentiment_scores"
   ]
  },
  {
   "cell_type": "code",
   "execution_count": 16,
   "metadata": {},
   "outputs": [
    {
     "data": {
      "text/plain": [
       "[567.9492130065482,\n",
       " 546.2337104679173,\n",
       " 588.6687470631587,\n",
       " 571.2920274632197,\n",
       " 555.7372433059063,\n",
       " 553.8820845654845,\n",
       " 555.1955790296342,\n",
       " 588.4936292130878,\n",
       " 584.0770774830744]"
      ]
     },
     "execution_count": 16,
     "metadata": {},
     "output_type": "execute_result"
    }
   ],
   "source": [
    "train_data['42953']['protected_meme_scores']"
   ]
  },
  {
   "cell_type": "code",
   "execution_count": 17,
   "metadata": {},
   "outputs": [],
   "source": [
    "def format_data(data, keys1, keys2):\n",
    "    labels = []\n",
    "    feature_vectors = []\n",
    "    for key1 in keys1:\n",
    "        labels.append(data[key1]['label'])\n",
    "        feature_vector = []\n",
    "        for key2 in keys2:\n",
    "            if isinstance(data[key1][key2], list):\n",
    "                if 'sentiment' in key2:\n",
    "                    sentiment_scores = sentiment_check(data[key1][key2])\n",
    "                    feature_vector.append(sentiment_scores['negative'])\n",
    "                    feature_vector.append(sentiment_scores['positive'])\n",
    "                else:\n",
    "                    for el in data[key1][key2]:\n",
    "                        feature_vector.append(el)\n",
    "            else:\n",
    "                feature_vector.append(data[key1][key2])\n",
    "        feature_vectors.append(feature_vector)\n",
    "        \n",
    "    return labels, feature_vectors"
   ]
  },
  {
   "cell_type": "code",
   "execution_count": 21,
   "metadata": {},
   "outputs": [],
   "source": [
    "columns=['tag_feature_vector',\n",
    " 'caption_feature_vector',\n",
    " 'meme_feature_vector']\n",
    "\n",
    "train_labels, train_feature_vectors = format_data(train_data, list(train_data.keys()), columns)\n",
    "dev_labels, dev_feature_vectors = format_data(dev_data, list(dev_data.keys()), columns)"
   ]
  },
  {
   "cell_type": "code",
   "execution_count": 22,
   "metadata": {},
   "outputs": [
    {
     "data": {
      "text/plain": [
       "1836"
      ]
     },
     "execution_count": 22,
     "metadata": {},
     "output_type": "execute_result"
    }
   ],
   "source": [
    "len(train_feature_vectors[0])"
   ]
  },
  {
   "cell_type": "code",
   "execution_count": 105,
   "metadata": {},
   "outputs": [],
   "source": [
    "def test_models(train_feature_vectors, train_labels, dev_feature_vectors, dev_labels):\n",
    "    lr = LogisticRegression()\n",
    "    lr.fit(train_feature_vectors, train_labels)\n",
    "    lr_train_score=lr.score(train_feature_vectors, train_labels)\n",
    "    lr_dev_score=lr.score(dev_feature_vectors, dev_labels)\n",
    "    \n",
    "    print(\"LR Train: \", lr_train_score)\n",
    "    print(\"LR Dev: \", lr_dev_score)\n",
    "    \n",
    "    knn = KNN()\n",
    "    knn.fit(train_feature_vectors, train_labels)\n",
    "    knn_train_score=knn.score(train_feature_vectors, train_labels)\n",
    "    knn_dev_score=knn.score(dev_feature_vectors, dev_labels)\n",
    "    print(\"KNN Train: \", knn_train_score)\n",
    "    print(\"KNN Dev: \", knn_dev_score)    \n",
    "    \n",
    "    model = xgb.XGBClassifier()\n",
    "    model.fit(np.array(train_feature_vectors), np.array(train_labels))\n",
    "    xgb_train_score=model.score(np.array(train_feature_vectors), np.array(train_labels))\n",
    "    xgb_dev_score=model.score(np.array(dev_feature_vectors), np.array(dev_labels))\n",
    "    \n",
    "    print(\"XGB Train: \", xgb_train_score)\n",
    "    print(\"XGB Dev: \", xgb_dev_score)\n",
    "    \n",
    "    lr_pred=lr.predict(dev_feature_vectors)\n",
    "    knn_pred=knn.predict(dev_feature_vectors)\n",
    "    xgb_pred=model.predict(np.array(dev_feature_vectors))\n",
    "    \n",
    "    lr_pred_df=pd.DataFrame(lr_pred)\n",
    "    print(\"LR Distribution: \", lr_pred_df[0].value_counts(normalize=True))\n",
    "    \n",
    "    knn_pred_df=pd.DataFrame(knn_pred)\n",
    "    print(\"KNN Distribution: \", knn_pred_df[0].value_counts(normalize=True))    \n",
    "    \n",
    "    xgb_pred_df=pd.DataFrame(xgb_pred)\n",
    "    print(\"XGB Distribution: \", xgb_pred_df[0].value_counts(normalize=True))    \n",
    "    \n",
    "    \n",
    "    lr_knn=accuracy(lr_pred, knn_pred)\n",
    "    print(\"LR/KNN Accuracy: \",lr_knn)\n",
    "    \n",
    "    xgb_knn=accuracy(xgb_pred, knn_pred)\n",
    "    print(\"XGB/KNN Accuracy: \",xgb_knn)\n",
    "        \n",
    "    lr_xgb=accuracy(xgb_pred, lr_pred)\n",
    "    print(\"LR/XGB Accuracy: \",lr_xgb)\n",
    "    \n",
    "    return lr, knn, xgb, lr_pred, knn_pred, xgb_pred"
   ]
  },
  {
   "cell_type": "code",
   "execution_count": 106,
   "metadata": {},
   "outputs": [
    {
     "name": "stderr",
     "output_type": "stream",
     "text": [
      "/Users/forrest.xiao/opt/anaconda3/lib/python3.7/site-packages/sklearn/linear_model/_logistic.py:940: ConvergenceWarning: lbfgs failed to converge (status=1):\n",
      "STOP: TOTAL NO. of ITERATIONS REACHED LIMIT.\n",
      "\n",
      "Increase the number of iterations (max_iter) or scale the data as shown in:\n",
      "    https://scikit-learn.org/stable/modules/preprocessing.html\n",
      "Please also refer to the documentation for alternative solver options:\n",
      "    https://scikit-learn.org/stable/modules/linear_model.html#logistic-regression\n",
      "  extra_warning_msg=_LOGISTIC_SOLVER_CONVERGENCE_MSG)\n"
     ]
    },
    {
     "name": "stdout",
     "output_type": "stream",
     "text": [
      "LR Train:  0.7889411764705883\n",
      "LR Dev:  0.56\n",
      "KNN Train:  0.7385882352941177\n",
      "KNN Dev:  0.564\n",
      "XGB Train:  0.9978823529411764\n",
      "XGB Dev:  0.546\n",
      "LR Distribution:  0    0.724\n",
      "1    0.276\n",
      "Name: 0, dtype: float64\n",
      "KNN Distribution:  0    0.688\n",
      "1    0.312\n",
      "Name: 0, dtype: float64\n",
      "XGB Distribution:  0    0.858\n",
      "1    0.142\n",
      "Name: 0, dtype: float64\n",
      "LR/KNN Accuracy:  0.644\n",
      "XGB/KNN Accuracy:  0.702\n",
      "LR/XGB Accuracy:  0.77\n"
     ]
    }
   ],
   "source": [
    "# Baseline models with raw embeddings\n",
    "lr, knn, xgb, lr_pred, knn_pred, xgb_pred=test_models(train_feature_vectors, train_labels, dev_feature_vectors, dev_labels)"
   ]
  },
  {
   "cell_type": "code",
   "execution_count": 110,
   "metadata": {},
   "outputs": [
    {
     "name": "stderr",
     "output_type": "stream",
     "text": [
      "/Users/forrest.xiao/opt/anaconda3/lib/python3.7/site-packages/sklearn/linear_model/_logistic.py:940: ConvergenceWarning: lbfgs failed to converge (status=1):\n",
      "STOP: TOTAL NO. of ITERATIONS REACHED LIMIT.\n",
      "\n",
      "Increase the number of iterations (max_iter) or scale the data as shown in:\n",
      "    https://scikit-learn.org/stable/modules/preprocessing.html\n",
      "Please also refer to the documentation for alternative solver options:\n",
      "    https://scikit-learn.org/stable/modules/linear_model.html#logistic-regression\n",
      "  extra_warning_msg=_LOGISTIC_SOLVER_CONVERGENCE_MSG)\n"
     ]
    }
   ],
   "source": [
    "from sklearn.ensemble import RandomForestClassifier, VotingClassifier\n",
    "\n",
    "eclf1 = VotingClassifier(estimators=[('lr', lr), ('knn', knn)], voting='hard')\n",
    "eclf1 = eclf1.fit(train_feature_vectors, train_labels)\n",
    "ens_pred=eclf1.predict(train_feature_vectors)"
   ]
  },
  {
   "cell_type": "code",
   "execution_count": 113,
   "metadata": {},
   "outputs": [
    {
     "name": "stdout",
     "output_type": "stream",
     "text": [
      "dev: 0.56\n"
     ]
    }
   ],
   "source": [
    "print(\"dev:\",eclf1.score(dev_feature_vectors, dev_labels))"
   ]
  },
  {
   "cell_type": "code",
   "execution_count": 111,
   "metadata": {},
   "outputs": [
    {
     "name": "stdout",
     "output_type": "stream",
     "text": [
      "0.7692941176470588\n"
     ]
    }
   ],
   "source": [
    "print(accuracy(ens_pred, train_labels))"
   ]
  },
  {
   "cell_type": "code",
   "execution_count": 114,
   "metadata": {},
   "outputs": [
    {
     "name": "stderr",
     "output_type": "stream",
     "text": [
      "/Users/forrest.xiao/opt/anaconda3/lib/python3.7/site-packages/sklearn/linear_model/_logistic.py:940: ConvergenceWarning: lbfgs failed to converge (status=1):\n",
      "STOP: TOTAL NO. of ITERATIONS REACHED LIMIT.\n",
      "\n",
      "Increase the number of iterations (max_iter) or scale the data as shown in:\n",
      "    https://scikit-learn.org/stable/modules/preprocessing.html\n",
      "Please also refer to the documentation for alternative solver options:\n",
      "    https://scikit-learn.org/stable/modules/linear_model.html#logistic-regression\n",
      "  extra_warning_msg=_LOGISTIC_SOLVER_CONVERGENCE_MSG)\n"
     ]
    }
   ],
   "source": [
    "from sklearn.ensemble import RandomForestClassifier, VotingClassifier\n",
    "\n",
    "eclf2 = VotingClassifier(estimators=[('lr', lr), ('knn', knn)], voting='soft')\n",
    "eclf2 = eclf2.fit(train_feature_vectors, train_labels)\n",
    "ens_pred_2=eclf2.predict(train_feature_vectors)"
   ]
  },
  {
   "cell_type": "code",
   "execution_count": 115,
   "metadata": {},
   "outputs": [
    {
     "name": "stdout",
     "output_type": "stream",
     "text": [
      "soft dev: 0.564\n"
     ]
    }
   ],
   "source": [
    "print(\"soft dev:\",eclf2.score(dev_feature_vectors, dev_labels))"
   ]
  },
  {
   "cell_type": "code",
   "execution_count": 116,
   "metadata": {},
   "outputs": [
    {
     "name": "stdout",
     "output_type": "stream",
     "text": [
      "0.810235294117647\n"
     ]
    }
   ],
   "source": [
    "print(accuracy(ens_pred_2, train_labels))"
   ]
  },
  {
   "cell_type": "code",
   "execution_count": null,
   "metadata": {},
   "outputs": [],
   "source": []
  },
  {
   "cell_type": "code",
   "execution_count": 117,
   "metadata": {},
   "outputs": [],
   "source": [
    "new_columns= ['caption_feature_vector','meme_feature_vector']\n",
    "\n",
    "train_labels, train_feature_dif = format_data(train_data, list(train_data.keys()), new_columns)\n",
    "dev_labels, dev_feature_dif = format_data(dev_data, list(dev_data.keys()), new_columns)\n",
    "\n",
    "vector1=np.array(train_feature_dif)[:,:768]\n",
    "vector2=np.array(train_feature_dif)[:,768:]\n",
    "\n",
    "train_feature_dif_vectors=vector1-vector2\n",
    "\n",
    "\n",
    "vector1=np.array(dev_feature_dif)[:,:768]\n",
    "vector2=np.array(dev_feature_dif)[:,768:]\n",
    "\n",
    "dev_feature_vectors_dif=vector1-vector2\n",
    "#train_feature_vectors[0])\n"
   ]
  },
  {
   "cell_type": "code",
   "execution_count": 118,
   "metadata": {},
   "outputs": [
    {
     "name": "stderr",
     "output_type": "stream",
     "text": [
      "/Users/forrest.xiao/opt/anaconda3/lib/python3.7/site-packages/sklearn/linear_model/_logistic.py:940: ConvergenceWarning: lbfgs failed to converge (status=1):\n",
      "STOP: TOTAL NO. of ITERATIONS REACHED LIMIT.\n",
      "\n",
      "Increase the number of iterations (max_iter) or scale the data as shown in:\n",
      "    https://scikit-learn.org/stable/modules/preprocessing.html\n",
      "Please also refer to the documentation for alternative solver options:\n",
      "    https://scikit-learn.org/stable/modules/linear_model.html#logistic-regression\n",
      "  extra_warning_msg=_LOGISTIC_SOLVER_CONVERGENCE_MSG)\n"
     ]
    },
    {
     "name": "stdout",
     "output_type": "stream",
     "text": [
      "LR Train:  0.7345882352941177\n",
      "LR Dev:  0.538\n",
      "KNN Train:  0.7325882352941177\n",
      "KNN Dev:  0.526\n",
      "XGB Train:  0.9977647058823529\n",
      "XGB Dev:  0.556\n",
      "LR Distribution:  0    0.746\n",
      "1    0.254\n",
      "Name: 0, dtype: float64\n",
      "KNN Distribution:  0    0.838\n",
      "1    0.162\n",
      "Name: 0, dtype: float64\n",
      "XGB Distribution:  0    0.804\n",
      "1    0.196\n",
      "Name: 0, dtype: float64\n",
      "LR/KNN Accuracy:  0.708\n",
      "XGB/KNN Accuracy:  0.782\n",
      "LR/XGB Accuracy:  0.774\n"
     ]
    }
   ],
   "source": [
    "lrd, knnd, xgbd, lr_predd, knn_predd, xgb_predd=test_models(train_feature_dif_vectors, train_labels, dev_feature_vectors_dif, dev_labels)"
   ]
  },
  {
   "cell_type": "code",
   "execution_count": 120,
   "metadata": {},
   "outputs": [
    {
     "name": "stdout",
     "output_type": "stream",
     "text": [
      "LR/LR Diff Accuracy:  0.83\n",
      "KNN/KNN Diff Accuracy:  0.738\n",
      "XKB/XKB Diff Accuracy:  1.0\n"
     ]
    }
   ],
   "source": [
    "print(\"LR/LR Diff Accuracy: \", accuracy(lr_predd, lr_pred))\n",
    "print(\"KNN/KNN Diff Accuracy: \", accuracy(knn_predd, knn_pred))\n",
    "print(\"XKB/XKB Diff Accuracy: \", accuracy(xgb_predd, xgb_predd))"
   ]
  },
  {
   "cell_type": "code",
   "execution_count": null,
   "metadata": {},
   "outputs": [],
   "source": []
  },
  {
   "cell_type": "code",
   "execution_count": null,
   "metadata": {},
   "outputs": [],
   "source": []
  },
  {
   "cell_type": "code",
   "execution_count": 100,
   "metadata": {},
   "outputs": [],
   "source": [
    "# Baseline models with PCA'd features\n",
    "\n",
    "from sklearn.decomposition import PCA\n",
    "pca=PCA(n_components=500, whiten=True)\n",
    "len(train_feature_vectors)\n",
    "\n",
    "demeaned_train_feature_vectors=train_feature_vectors-np.array(train_feature_vectors).mean()\n",
    "pca_train_vectors=pca.fit_transform(demeaned_train_feature_vectors, y=None)\n",
    "\n",
    "\n",
    "demeaned_dev_feature_vectors=dev_feature_vectors-np.array(dev_feature_vectors).mean()\n",
    "pca_dev_vectors=pca.fit_transform(demeaned_dev_feature_vectors, y=None)"
   ]
  },
  {
   "cell_type": "code",
   "execution_count": 101,
   "metadata": {},
   "outputs": [
    {
     "name": "stdout",
     "output_type": "stream",
     "text": [
      "LR Train:  0.7370588235294118\n",
      "LR Dev:  0.504\n",
      "KNN Train:  0.7109411764705882\n",
      "KNN Dev:  0.476\n",
      "XGB Train:  0.9978823529411764\n",
      "XGB Dev:  0.502\n",
      "LR Distribution:  0    0.724\n",
      "1    0.276\n",
      "Name: 0, dtype: float64\n",
      "KNN Distribution:  1    0.536\n",
      "0    0.464\n",
      "Name: 0, dtype: float64\n",
      "XGB Distribution:  0    0.806\n",
      "1    0.194\n",
      "Name: 0, dtype: float64\n",
      "LR/KNN Accuracy:  0.532\n",
      "XGB/KNN Accuracy:  0.518\n",
      "LR/XGB Accuracy:  0.754\n"
     ]
    }
   ],
   "source": [
    "lr_pred, knn_pred, xgb_pred=test_models(pca_train_vectors, train_labels, pca_dev_vectors, dev_labels)"
   ]
  },
  {
   "cell_type": "code",
   "execution_count": null,
   "metadata": {},
   "outputs": [],
   "source": []
  }
 ],
 "metadata": {
  "kernelspec": {
   "display_name": "Python 3",
   "language": "python",
   "name": "python3"
  },
  "language_info": {
   "codemirror_mode": {
    "name": "ipython",
    "version": 3
   },
   "file_extension": ".py",
   "mimetype": "text/x-python",
   "name": "python",
   "nbconvert_exporter": "python",
   "pygments_lexer": "ipython3",
   "version": "3.7.6"
  }
 },
 "nbformat": 4,
 "nbformat_minor": 4
}
