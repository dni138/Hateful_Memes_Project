{
 "cells": [
  {
   "cell_type": "code",
   "execution_count": 179,
   "metadata": {},
   "outputs": [],
   "source": [
    "import pandas as pd\n",
    "import os\n",
    "import torch.nn as nn\n",
    "import torch.nn.functional as F\n",
    "import pandas as pd\n",
    "from torch.utils import data as data_torch\n",
    "import torch\n",
    "from torch.utils import data as data_torch\n",
    "from sklearn.metrics import confusion_matrix\n",
    "from sklearn.metrics import accuracy_score"
   ]
  },
  {
   "cell_type": "code",
   "execution_count": 261,
   "metadata": {},
   "outputs": [
    {
     "data": {
      "text/plain": [
       "' \\nresults.to_csv()\\n\\nresults=pd.DataFrame(desc)\\nresults.to_csv(os.path.join(path,title+\"description.csv\"),sep=\",\")\\n\\nresults=pd.DataFrame(img_features)\\nresults.to_csv(os.path.join(path,title+\"image_features.csv\"),sep=\",\")\\n'"
      ]
     },
     "execution_count": 261,
     "metadata": {},
     "output_type": "execute_result"
    }
   ],
   "source": [
    "path=\"/home/data/meme_challenge_mod_data\"\n",
    "title=\"simple_\"\n",
    "\n",
    "image_features=pd.read_csv(os.path.join(path,title+\"image_features.csv\"),sep=\",\",index_col=0)\n",
    "text_features=pd.read_csv(os.path.join(path,title+\"text_features.csv\"),sep=\",\",index_col=0)\n",
    "desc_features=pd.read_csv(os.path.join(path,title+\"description.csv\"),sep=\",\",index_col=0)\n",
    "''' \n",
    "results.to_csv()\n",
    "\n",
    "results=pd.DataFrame(desc)\n",
    "results.to_csv(os.path.join(path,title+\"description.csv\"),sep=\",\")\n",
    "\n",
    "results=pd.DataFrame(img_features)\n",
    "results.to_csv(os.path.join(path,title+\"image_features.csv\"),sep=\",\")\n",
    "'''"
   ]
  },
  {
   "cell_type": "code",
   "execution_count": 181,
   "metadata": {},
   "outputs": [],
   "source": [
    "from nn_simple import SimpleModel"
   ]
  },
  {
   "cell_type": "code",
   "execution_count": 182,
   "metadata": {},
   "outputs": [],
   "source": [
    "class Dataset_Handler_Generic(data_torch.Dataset):\n",
    "    def __init__(self, data, label):\n",
    "        \n",
    "            self.data=data #how is the data bbroken  down\n",
    "            self.label=label\n",
    "          \n",
    "    def __len__(self):\n",
    "            'Denotes the total number of samples'\n",
    "            return len(self.data)\n",
    "    def __getitem__(self, index):\n",
    "            return  self.data[index],self.label[index]"
   ]
  },
  {
   "cell_type": "code",
   "execution_count": 262,
   "metadata": {},
   "outputs": [],
   "source": [
    "input_features=pd.concat((image_features,text_features),axis=1).values\n"
   ]
  },
  {
   "cell_type": "code",
   "execution_count": 263,
   "metadata": {},
   "outputs": [],
   "source": [
    "output_features=desc_features['1'].values.reshape((len(desc_features['1']),1))"
   ]
  },
  {
   "cell_type": "code",
   "execution_count": 264,
   "metadata": {},
   "outputs": [],
   "source": [
    "size=len(input_features)\n",
    "\n",
    "train_size=int(size*.80)\n",
    "\n",
    "handler_tr:data_torch.Dataset=Dataset_Handler_Generic(input_features[:train_size],output_features[:train_size])\n",
    "handler_vl:data_torch.Dataset=Dataset_Handler_Generic(input_features[train_size+1:],output_features[train_size+1:])    \n"
   ]
  },
  {
   "cell_type": "code",
   "execution_count": 265,
   "metadata": {},
   "outputs": [],
   "source": [
    "\n",
    "loader_tr=torch.utils.data.DataLoader(handler_tr, batch_size=10, shuffle=True,num_workers=0)\n",
    "loader_vl=torch.utils.data.DataLoader(handler_vl, batch_size=10, shuffle=True,num_workers=0)\n"
   ]
  },
  {
   "cell_type": "code",
   "execution_count": null,
   "metadata": {},
   "outputs": [],
   "source": []
  },
  {
   "cell_type": "code",
   "execution_count": 266,
   "metadata": {},
   "outputs": [],
   "source": [
    "lossType=nn.SmoothL1Loss(reduction=\"sum\")\n",
    "s=SimpleModel(input_features.shape[1],1,[3],lossType,lr=.001)"
   ]
  },
  {
   "cell_type": "code",
   "execution_count": 267,
   "metadata": {},
   "outputs": [],
   "source": [
    "\n",
    "optimizer=torch.optim.Adam(s.parameters(),lr=.0001,weight_decay=.001)\n"
   ]
  },
  {
   "cell_type": "code",
   "execution_count": 268,
   "metadata": {},
   "outputs": [
    {
     "name": "stdout",
     "output_type": "stream",
     "text": [
      "0.14465006917557202 0.1386703661850721\n",
      "0.10952807286685183 0.10871106754547712\n",
      "0.10097610985552163 0.1052808306931467\n",
      "0.0983298640169769 0.10483465256446807\n",
      "0.09700666924937464 0.1003286216875046\n",
      "0.09609392602840826 0.10014617183476493\n"
     ]
    }
   ],
   "source": [
    "epochs=5\n",
    "norm_tr_size:int=len(input_features[:train_size])\n",
    "norm_vl_size:int=len(input_features[train_size+1:])\n",
    "    \n",
    "initial_tr_loss=s.train_model(1,loader_tr,optimizer,is_training=False)[0]/norm_tr_size\n",
    "intial_vl_loss=s.train_model(1,loader_vl,optimizer,is_training=False)[0]/norm_vl_size\n",
    "tr_loss_ary=[initial_tr_loss]\n",
    "vl_loss_ary=[intial_vl_loss]\n",
    "print(initial_tr_loss,intial_vl_loss)\n",
    "for i in range(epochs):\n",
    "    tr_loss=s.train_model(1,loader_tr,optimizer,is_training=True)[0]/norm_tr_size\n",
    "    vl_loss=s.train_model(1,loader_vl,optimizer,is_training=False)[0]/norm_vl_size\n",
    "    tr_loss_ary.append(tr_loss)\n",
    "    vl_loss_ary.append(vl_loss)\n",
    "    print(tr_loss,vl_loss)"
   ]
  },
  {
   "cell_type": "code",
   "execution_count": 269,
   "metadata": {},
   "outputs": [],
   "source": [
    "results=s(torch.tensor(input_features[:train_size]).float()).detach().numpy()\n",
    "predicted_label=np.apply_along_axis(lambda d: 1 if d >.5 else 0,1,results)"
   ]
  },
  {
   "cell_type": "code",
   "execution_count": 270,
   "metadata": {},
   "outputs": [
    {
     "data": {
      "text/plain": [
       "array([[3955,  492],\n",
       "       [1400,  949]])"
      ]
     },
     "execution_count": 270,
     "metadata": {},
     "output_type": "execute_result"
    }
   ],
   "source": [
    "\n",
    "confusion_matrix(output_features[:train_size],predicted_label)\n",
    "\n"
   ]
  },
  {
   "cell_type": "code",
   "execution_count": 302,
   "metadata": {},
   "outputs": [
    {
     "data": {
      "text/plain": [
       "0.636512388966807"
      ]
     },
     "execution_count": 302,
     "metadata": {},
     "output_type": "execute_result"
    }
   ],
   "source": []
  },
  {
   "cell_type": "code",
   "execution_count": 271,
   "metadata": {},
   "outputs": [
    {
     "data": {
      "text/plain": [
       "0.7216009417304297"
      ]
     },
     "execution_count": 271,
     "metadata": {},
     "output_type": "execute_result"
    }
   ],
   "source": [
    "accuracy_score(output_features[:train_size],predicted_label)"
   ]
  },
  {
   "cell_type": "code",
   "execution_count": 272,
   "metadata": {},
   "outputs": [],
   "source": [
    "from sklearn.metrics import roc_auc_score"
   ]
  },
  {
   "cell_type": "code",
   "execution_count": 303,
   "metadata": {},
   "outputs": [],
   "source": [
    "results_vl=s(torch.tensor(input_features[train_size+1:]).float()).detach().numpy()\n",
    "predicted_label_vl=np.apply_along_axis(lambda d: 1 if d >.63 else 0,1,results_vl)"
   ]
  },
  {
   "cell_type": "code",
   "execution_count": 304,
   "metadata": {},
   "outputs": [
    {
     "data": {
      "text/plain": [
       "0.673925838728664"
      ]
     },
     "execution_count": 304,
     "metadata": {},
     "output_type": "execute_result"
    }
   ],
   "source": [
    "accuracy_score(output_features[train_size+1:],predicted_label_vl)"
   ]
  },
  {
   "cell_type": "code",
   "execution_count": 305,
   "metadata": {},
   "outputs": [
    {
     "data": {
      "text/plain": [
       "0    5446\n",
       "1    3050\n",
       "Name: 0, dtype: int64"
      ]
     },
     "execution_count": 305,
     "metadata": {},
     "output_type": "execute_result"
    }
   ],
   "source": [
    "pd.DataFrame(output_features)[0].value_counts()"
   ]
  },
  {
   "cell_type": "code",
   "execution_count": 306,
   "metadata": {},
   "outputs": [
    {
     "data": {
      "text/plain": [
       "0.6135530690482248"
      ]
     },
     "execution_count": 306,
     "metadata": {},
     "output_type": "execute_result"
    }
   ],
   "source": [
    "roc_auc_score(output_features[train_size+1:],predicted_label_vl)"
   ]
  },
  {
   "cell_type": "code",
   "execution_count": 317,
   "metadata": {},
   "outputs": [
    {
     "data": {
      "text/plain": [
       "0.6466826593865616"
      ]
     },
     "execution_count": 317,
     "metadata": {},
     "output_type": "execute_result"
    }
   ],
   "source": [
    "roc_auc_score(output_features[:train_size],predicted_label)"
   ]
  },
  {
   "cell_type": "markdown",
   "metadata": {},
   "source": [
    "**NOW LETS PREDICT AND FORMAT FOR THE TEST DATA**\n"
   ]
  },
  {
   "cell_type": "code",
   "execution_count": 318,
   "metadata": {},
   "outputs": [],
   "source": [
    "path=\"/home/data/meme_challenge_mod_data\"\n",
    "title=\"simple_test\"\n",
    "\n",
    "image_features_test=pd.read_csv(os.path.join(path,title+\"image_features.csv\"),sep=\",\",index_col=0)\n",
    "text_features_test=pd.read_csv(os.path.join(path,title+\"text_features.csv\"),sep=\",\",index_col=0)\n",
    "desc_features_test=pd.read_csv(os.path.join(path,title+\"description.csv\"),sep=\",\",index_col=0)"
   ]
  },
  {
   "cell_type": "code",
   "execution_count": 319,
   "metadata": {},
   "outputs": [],
   "source": [
    "input_features_test=pd.concat((image_features_test,text_features_test),axis=1).values\n"
   ]
  },
  {
   "cell_type": "code",
   "execution_count": 320,
   "metadata": {},
   "outputs": [],
   "source": [
    "test_predictions=s(torch.tensor(input_features_test).float()).detach().numpy()"
   ]
  },
  {
   "cell_type": "code",
   "execution_count": 321,
   "metadata": {},
   "outputs": [],
   "source": [
    "predicted_label_test=np.apply_along_axis(lambda d: 1 if d >.6 else 0,1,test_predictions)"
   ]
  },
  {
   "cell_type": "code",
   "execution_count": 322,
   "metadata": {},
   "outputs": [],
   "source": [
    "ids=desc_features_test['3']"
   ]
  },
  {
   "cell_type": "code",
   "execution_count": 323,
   "metadata": {},
   "outputs": [],
   "source": [
    "to_leader_board=pd.DataFrame()"
   ]
  },
  {
   "cell_type": "code",
   "execution_count": 324,
   "metadata": {},
   "outputs": [],
   "source": [
    "#id proba label\n",
    "to_leader_board[\"id\"]=ids\n",
    "to_leader_board[\"proba\"]=test_predictions\n",
    "to_leader_board[\"label\"]=predicted_label_test"
   ]
  },
  {
   "cell_type": "code",
   "execution_count": null,
   "metadata": {},
   "outputs": [],
   "source": []
  },
  {
   "cell_type": "code",
   "execution_count": 316,
   "metadata": {},
   "outputs": [
    {
     "data": {
      "text/plain": [
       "1    690\n",
       "0    310\n",
       "Name: label, dtype: int64"
      ]
     },
     "execution_count": 316,
     "metadata": {},
     "output_type": "execute_result"
    }
   ],
   "source": [
    "to_leader_board[\"label\"].value_counts()"
   ]
  },
  {
   "cell_type": "code",
   "execution_count": 328,
   "metadata": {},
   "outputs": [],
   "source": [
    "to_leader_board.to_csv(\"submission.csv\",index=False)"
   ]
  },
  {
   "cell_type": "code",
   "execution_count": 326,
   "metadata": {},
   "outputs": [],
   "source": [
    "desc_features_test[\"predicted\"]=predicted_label_test"
   ]
  },
  {
   "cell_type": "code",
   "execution_count": 327,
   "metadata": {},
   "outputs": [
    {
     "data": {
      "text/html": [
       "<div>\n",
       "<style scoped>\n",
       "    .dataframe tbody tr th:only-of-type {\n",
       "        vertical-align: middle;\n",
       "    }\n",
       "\n",
       "    .dataframe tbody tr th {\n",
       "        vertical-align: top;\n",
       "    }\n",
       "\n",
       "    .dataframe thead th {\n",
       "        text-align: right;\n",
       "    }\n",
       "</style>\n",
       "<table border=\"1\" class=\"dataframe\">\n",
       "  <thead>\n",
       "    <tr style=\"text-align: right;\">\n",
       "      <th></th>\n",
       "      <th>0</th>\n",
       "      <th>1</th>\n",
       "      <th>2</th>\n",
       "      <th>3</th>\n",
       "      <th>predicted</th>\n",
       "    </tr>\n",
       "  </thead>\n",
       "  <tbody>\n",
       "    <tr>\n",
       "      <th>208</th>\n",
       "      <td>things i love to hunt</td>\n",
       "      <td>-1</td>\n",
       "      <td>img/07193.png</td>\n",
       "      <td>7193</td>\n",
       "      <td>0</td>\n",
       "    </tr>\n",
       "    <tr>\n",
       "      <th>15</th>\n",
       "      <td>stop illegal immigrants they're taking the lan...</td>\n",
       "      <td>-1</td>\n",
       "      <td>img/39867.png</td>\n",
       "      <td>39867</td>\n",
       "      <td>1</td>\n",
       "    </tr>\n",
       "    <tr>\n",
       "      <th>498</th>\n",
       "      <td>mainlanders, they are eat dogs, they do</td>\n",
       "      <td>-1</td>\n",
       "      <td>img/91736.png</td>\n",
       "      <td>91736</td>\n",
       "      <td>1</td>\n",
       "    </tr>\n",
       "    <tr>\n",
       "      <th>196</th>\n",
       "      <td>leave that one alone bill he's my weed man</td>\n",
       "      <td>-1</td>\n",
       "      <td>img/71453.png</td>\n",
       "      <td>71453</td>\n",
       "      <td>1</td>\n",
       "    </tr>\n",
       "    <tr>\n",
       "      <th>818</th>\n",
       "      <td>dem rep calls trump supporters 'just plain dum...</td>\n",
       "      <td>-1</td>\n",
       "      <td>img/07645.png</td>\n",
       "      <td>7645</td>\n",
       "      <td>1</td>\n",
       "    </tr>\n",
       "    <tr>\n",
       "      <th>837</th>\n",
       "      <td>half honky all donkey</td>\n",
       "      <td>-1</td>\n",
       "      <td>img/09723.png</td>\n",
       "      <td>9723</td>\n",
       "      <td>1</td>\n",
       "    </tr>\n",
       "    <tr>\n",
       "      <th>751</th>\n",
       "      <td>\"how dark are my memes? well they...\"</td>\n",
       "      <td>-1</td>\n",
       "      <td>img/17062.png</td>\n",
       "      <td>17062</td>\n",
       "      <td>1</td>\n",
       "    </tr>\n",
       "    <tr>\n",
       "      <th>116</th>\n",
       "      <td>things i love to hunt</td>\n",
       "      <td>-1</td>\n",
       "      <td>img/50643.png</td>\n",
       "      <td>50643</td>\n",
       "      <td>0</td>\n",
       "    </tr>\n",
       "    <tr>\n",
       "      <th>294</th>\n",
       "      <td>dss</td>\n",
       "      <td>-1</td>\n",
       "      <td>img/06593.png</td>\n",
       "      <td>6593</td>\n",
       "      <td>0</td>\n",
       "    </tr>\n",
       "    <tr>\n",
       "      <th>411</th>\n",
       "      <td>when black people think it's funny to steal a ...</td>\n",
       "      <td>-1</td>\n",
       "      <td>img/81690.png</td>\n",
       "      <td>81690</td>\n",
       "      <td>1</td>\n",
       "    </tr>\n",
       "  </tbody>\n",
       "</table>\n",
       "</div>"
      ],
      "text/plain": [
       "                                                     0  1              2  \\\n",
       "208                              things i love to hunt -1  img/07193.png   \n",
       "15   stop illegal immigrants they're taking the lan... -1  img/39867.png   \n",
       "498            mainlanders, they are eat dogs, they do -1  img/91736.png   \n",
       "196         leave that one alone bill he's my weed man -1  img/71453.png   \n",
       "818  dem rep calls trump supporters 'just plain dum... -1  img/07645.png   \n",
       "837                              half honky all donkey -1  img/09723.png   \n",
       "751              \"how dark are my memes? well they...\" -1  img/17062.png   \n",
       "116                              things i love to hunt -1  img/50643.png   \n",
       "294                                                dss -1  img/06593.png   \n",
       "411  when black people think it's funny to steal a ... -1  img/81690.png   \n",
       "\n",
       "         3  predicted  \n",
       "208   7193          0  \n",
       "15   39867          1  \n",
       "498  91736          1  \n",
       "196  71453          1  \n",
       "818   7645          1  \n",
       "837   9723          1  \n",
       "751  17062          1  \n",
       "116  50643          0  \n",
       "294   6593          0  \n",
       "411  81690          1  "
      ]
     },
     "execution_count": 327,
     "metadata": {},
     "output_type": "execute_result"
    }
   ],
   "source": [
    "desc_features_test.sample(n=10)"
   ]
  },
  {
   "cell_type": "code",
   "execution_count": null,
   "metadata": {},
   "outputs": [],
   "source": []
  }
 ],
 "metadata": {
  "environment": {
   "name": "pytorch-gpu.1-4.m48",
   "type": "gcloud",
   "uri": "gcr.io/deeplearning-platform-release/pytorch-gpu.1-4:m48"
  },
  "kernelspec": {
   "display_name": "Python 3",
   "language": "python",
   "name": "python3"
  },
  "language_info": {
   "codemirror_mode": {
    "name": "ipython",
    "version": 3
   },
   "file_extension": ".py",
   "mimetype": "text/x-python",
   "name": "python",
   "nbconvert_exporter": "python",
   "pygments_lexer": "ipython3",
   "version": "3.7.6"
  }
 },
 "nbformat": 4,
 "nbformat_minor": 4
}
