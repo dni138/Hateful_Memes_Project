{
 "cells": [
  {
   "cell_type": "code",
   "execution_count": 1,
   "metadata": {},
   "outputs": [],
   "source": [
    "import numpy as np\n",
    "import pandas as pd\n",
    "import json"
   ]
  },
  {
   "cell_type": "code",
   "execution_count": 43,
   "metadata": {},
   "outputs": [],
   "source": [
    "with open('img_rcnn_data.json', 'r') as f:\n",
    "    for el in f:\n",
    "        data = json.loads(el)"
   ]
  },
  {
   "cell_type": "code",
   "execution_count": 42,
   "metadata": {},
   "outputs": [],
   "source": [
    "with open('indicies.txt', 'r') as f:\n",
    "    for el in f:\n",
    "        indicies = json.loads(el)"
   ]
  },
  {
   "cell_type": "code",
   "execution_count": 44,
   "metadata": {},
   "outputs": [
    {
     "data": {
      "text/plain": [
       "10048"
      ]
     },
     "execution_count": 44,
     "metadata": {},
     "output_type": "execute_result"
    }
   ],
   "source": [
    "len(data)"
   ]
  },
  {
   "cell_type": "code",
   "execution_count": 45,
   "metadata": {},
   "outputs": [
    {
     "data": {
      "text/plain": [
       "80"
      ]
     },
     "execution_count": 45,
     "metadata": {},
     "output_type": "execute_result"
    }
   ],
   "source": [
    "len(indicies)"
   ]
  },
  {
   "cell_type": "code",
   "execution_count": 47,
   "metadata": {},
   "outputs": [],
   "source": [
    "keys = list(data.keys())"
   ]
  },
  {
   "cell_type": "code",
   "execution_count": 62,
   "metadata": {},
   "outputs": [
    {
     "data": {
      "text/plain": [
       "([[1, 0.9973909258842468],\n",
       "  [62, 0.9887720942497253],\n",
       "  [67, 0.8930628299713135],\n",
       "  [67, 0.8675768971443176],\n",
       "  [47, 0.7127360701560974],\n",
       "  [47, 0.5844281911849976],\n",
       "  [44, 0.4954741895198822],\n",
       "  [79, 0.314587265253067],\n",
       "  [79, 0.2675117254257202],\n",
       "  [77, 0.2591581642627716],\n",
       "  [49, 0.209644615650177],\n",
       "  [15, 0.1744605451822281],\n",
       "  [77, 0.16589370369911194],\n",
       "  [47, 0.12803858518600464],\n",
       "  [1, 0.11836939305067062],\n",
       "  [44, 0.09220633655786514],\n",
       "  [50, 0.09191763401031494],\n",
       "  [75, 0.08636166155338287],\n",
       "  [86, 0.07721586525440216],\n",
       "  [49, 0.07446754723787308],\n",
       "  [85, 0.06578930467367172],\n",
       "  [44, 0.061861615628004074],\n",
       "  [67, 0.06123202666640282]],\n",
       " '35170.png')"
      ]
     },
     "execution_count": 62,
     "metadata": {},
     "output_type": "execute_result"
    }
   ],
   "source": [
    "(data[keys[1]], keys[1])"
   ]
  },
  {
   "cell_type": "code",
   "execution_count": null,
   "metadata": {},
   "outputs": [],
   "source": []
  }
 ],
 "metadata": {
  "kernelspec": {
   "display_name": "Python 3",
   "language": "python",
   "name": "python3"
  },
  "language_info": {
   "codemirror_mode": {
    "name": "ipython",
    "version": 3
   },
   "file_extension": ".py",
   "mimetype": "text/x-python",
   "name": "python",
   "nbconvert_exporter": "python",
   "pygments_lexer": "ipython3",
   "version": "3.7.4"
  }
 },
 "nbformat": 4,
 "nbformat_minor": 4
}
