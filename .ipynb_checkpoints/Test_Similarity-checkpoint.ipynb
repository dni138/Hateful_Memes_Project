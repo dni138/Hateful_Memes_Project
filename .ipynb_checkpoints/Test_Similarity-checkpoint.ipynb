{
 "cells": [
  {
   "cell_type": "code",
   "execution_count": 25,
   "metadata": {},
   "outputs": [
    {
     "name": "stdout",
     "output_type": "stream",
     "text": [
      "Collecting opencv-python\n",
      "  Downloading opencv_python-4.3.0.36-cp37-cp37m-manylinux2014_x86_64.whl (43.7 MB)\n",
      "\u001b[K     |████████████████████████████████| 43.7 MB 48.3 MB/s eta 0:00:01     |███████████████████████████▎    | 37.2 MB 48.3 MB/s eta 0:00:01\n",
      "\u001b[?25hRequirement already satisfied: numpy>=1.14.5 in /opt/conda/lib/python3.7/site-packages (from opencv-python) (1.18.1)\n",
      "\u001b[31mERROR: craft-text-detector 0.3.1 has requirement opencv-python==3.4.8.29, but you'll have opencv-python 4.3.0.36 which is incompatible.\u001b[0m\n",
      "Installing collected packages: opencv-python\n",
      "Successfully installed opencv-python-4.3.0.36\n"
     ]
    }
   ],
   "source": [
    "!pip install opencv-python"
   ]
  },
  {
   "cell_type": "code",
   "execution_count": 1,
   "metadata": {},
   "outputs": [],
   "source": [
    "%matplotlib inline\n",
    "%load_ext ipython_reload\n",
    "%load_ext autoreload\n",
    "\n",
    "%reload_ext autoreload\n",
    "%autoreload 2"
   ]
  },
  {
   "cell_type": "code",
   "execution_count": 2,
   "metadata": {},
   "outputs": [],
   "source": [
    "import cv2\n",
    "\n",
    "import math"
   ]
  },
  {
   "cell_type": "code",
   "execution_count": 169,
   "metadata": {},
   "outputs": [],
   "source": [
    "import numpy as np\n",
    "import cv2\n",
    "from matplotlib import pyplot as plt\n"
   ]
  },
  {
   "cell_type": "code",
   "execution_count": 155,
   "metadata": {},
   "outputs": [],
   "source": [
    "import pandas as pd"
   ]
  },
  {
   "cell_type": "code",
   "execution_count": 174,
   "metadata": {},
   "outputs": [],
   "source": [
    "def colorScore(img1, img2):\n",
    "    abs_sum_error=0\n",
    "    abs_sum_error+=math.fabs(img1.T[0].mean()-img2.T[0].mean())\n",
    "    abs_sum_error+=math.fabs(img1.T[1].mean()-img2.T[1].mean())\n",
    "    abs_sum_error+=math.fabs(img1.T[2].mean()-img2.T[2].mean())\n",
    "    return abs_sum_error"
   ]
  },
  {
   "cell_type": "code",
   "execution_count": 182,
   "metadata": {},
   "outputs": [],
   "source": [
    "def keyPointScore(img1,img2):\n",
    "    orb = cv2.ORB_create() \n",
    "    queryKeypoints, queryDescriptors = orb.detectAndCompute(img1,None) \n",
    "    trainKeypoints, trainDescriptors = orb.detectAndCompute(img2,None) \n",
    "    matcher = cv2.BFMatcher() \n",
    "    matches = matcher.match(queryDescriptors,trainDescriptors) \n",
    "    sums=0.0\n",
    "    for match in matches:\n",
    "        sums+=match.distance\n",
    "    return sums"
   ]
  },
  {
   "cell_type": "code",
   "execution_count": 177,
   "metadata": {},
   "outputs": [],
   "source": [
    "pd_feature_list=pd.read_csv(\"img_compare_test/related_info.tsv\",sep=\"\\t\",index_col=0)"
   ]
  },
  {
   "cell_type": "code",
   "execution_count": 162,
   "metadata": {},
   "outputs": [
    {
     "data": {
      "text/plain": [
       "array([1, 2, 3, 4, 5, 6])"
      ]
     },
     "execution_count": 162,
     "metadata": {},
     "output_type": "execute_result"
    }
   ],
   "source": []
  },
  {
   "cell_type": "code",
   "execution_count": 178,
   "metadata": {},
   "outputs": [],
   "source": [
    "original=\"01235.png\"\n",
    "target_imgs=pd_feature_list[\"id\"].values\n"
   ]
  },
  {
   "cell_type": "code",
   "execution_count": 183,
   "metadata": {},
   "outputs": [],
   "source": [
    "\n",
    "src_img = cv2.imread('img_compare_test/'+original, cv2.IMREAD_COLOR)  # trainImage\n",
    "color_scores=[]\n",
    "key_point_scores=[]\n",
    "for img_name in target_imgs:\n",
    "    img1 = cv2.imread('img_compare_test/'+str(img_name)+\".jpg\", cv2.IMREAD_COLOR)           # queryImage\n",
    "\n",
    "    img1=cv2.resize(img1,(500,500))\n",
    "    img2=cv2.resize(src_img,(500,500))\n",
    "    \n",
    "    color_score=colorScore(img1,img2)\n",
    "    key_point_score=keyPointScore(img1,img2)\n",
    "    color_scores.append(color_score)\n",
    "    key_point_scores.append(key_point_score)"
   ]
  },
  {
   "cell_type": "code",
   "execution_count": 185,
   "metadata": {},
   "outputs": [
    {
     "name": "stdout",
     "output_type": "stream",
     "text": [
      "[171200.85794067383, 177922.00997924805, 187216.1270751953, 150654.06156301498, 171999.68594360352, 176334.84353637695]\n"
     ]
    }
   ],
   "source": []
  },
  {
   "cell_type": "code",
   "execution_count": 186,
   "metadata": {},
   "outputs": [],
   "source": [
    "\n",
    "\n",
    "pd_feature_list[\"color_score\"]=color_scores\n",
    "pd_feature_list[\"key_point_score\"]=key_point_scores"
   ]
  },
  {
   "cell_type": "code",
   "execution_count": 187,
   "metadata": {},
   "outputs": [
    {
     "data": {
      "text/html": [
       "<div>\n",
       "<style scoped>\n",
       "    .dataframe tbody tr th:only-of-type {\n",
       "        vertical-align: middle;\n",
       "    }\n",
       "\n",
       "    .dataframe tbody tr th {\n",
       "        vertical-align: top;\n",
       "    }\n",
       "\n",
       "    .dataframe thead th {\n",
       "        text-align: right;\n",
       "    }\n",
       "</style>\n",
       "<table border=\"1\" class=\"dataframe\">\n",
       "  <thead>\n",
       "    <tr style=\"text-align: right;\">\n",
       "      <th></th>\n",
       "      <th>url</th>\n",
       "      <th>img_url</th>\n",
       "      <th>tags</th>\n",
       "      <th>caption</th>\n",
       "      <th>src</th>\n",
       "      <th>id</th>\n",
       "      <th>color_score</th>\n",
       "      <th>key_point_score</th>\n",
       "    </tr>\n",
       "  </thead>\n",
       "  <tbody>\n",
       "    <tr>\n",
       "      <th>0</th>\n",
       "      <td>https://www.gettyimages.co.uk/detail/photo/com...</td>\n",
       "      <td>https://media.gettyimages.com/photos/come-on-y...</td>\n",
       "      <td>Men Photos,Ecstatic Photos,Plain Background Ph...</td>\n",
       "      <td>Handsome young man smiling at you and cheering...</td>\n",
       "      <td>1235</td>\n",
       "      <td>1</td>\n",
       "      <td>236.282216</td>\n",
       "      <td>171200.857941</td>\n",
       "    </tr>\n",
       "    <tr>\n",
       "      <th>1</th>\n",
       "      <td>https://www.gettyimages.co.uk/detail/photo/ecs...</td>\n",
       "      <td>https://media.gettyimages.com/photos/ecstatic-...</td>\n",
       "      <td>Thumbs Up Photos,Men Photos,White Background P...</td>\n",
       "      <td>Portrait of an ecstatic young man gesturing th...</td>\n",
       "      <td>1235</td>\n",
       "      <td>2</td>\n",
       "      <td>134.036404</td>\n",
       "      <td>177922.009979</td>\n",
       "    </tr>\n",
       "    <tr>\n",
       "      <th>2</th>\n",
       "      <td>https://www.gettyimages.co.uk/detail/photo/por...</td>\n",
       "      <td>https://media.gettyimages.com/photos/portrait-...</td>\n",
       "      <td>55-59 Years Photos,Gray Background Photos,Men ...</td>\n",
       "      <td>NaN</td>\n",
       "      <td>1235</td>\n",
       "      <td>3</td>\n",
       "      <td>237.725988</td>\n",
       "      <td>187216.127075</td>\n",
       "    </tr>\n",
       "    <tr>\n",
       "      <th>3</th>\n",
       "      <td>https://www.gettyimages.co.uk/detail/photo/che...</td>\n",
       "      <td>https://media.gettyimages.com/photos/cheerful-...</td>\n",
       "      <td>Greeting Photos,Arab Culture Photos,Arabia Pho...</td>\n",
       "      <td>Portrait, Close up, Middle Eastern Ethnicity, ...</td>\n",
       "      <td>1235</td>\n",
       "      <td>4</td>\n",
       "      <td>22.663100</td>\n",
       "      <td>150654.061563</td>\n",
       "    </tr>\n",
       "    <tr>\n",
       "      <th>4</th>\n",
       "      <td>https://www.gettyimages.co.uk/detail/photo/fee...</td>\n",
       "      <td>https://media.gettyimages.com/photos/feel-fant...</td>\n",
       "      <td>Men Photos,Plain Background Photos,White Backg...</td>\n",
       "      <td>Handsome young man feeling excited while isola...</td>\n",
       "      <td>1235</td>\n",
       "      <td>5</td>\n",
       "      <td>222.931088</td>\n",
       "      <td>171999.685944</td>\n",
       "    </tr>\n",
       "    <tr>\n",
       "      <th>5</th>\n",
       "      <td>https://www.gettyimages.co.uk/detail/photo/giv...</td>\n",
       "      <td>https://media.gettyimages.com/photos/giving-a-...</td>\n",
       "      <td>30-39 Years Photos,Abu Dhabi Photos,Adult,Adul...</td>\n",
       "      <td>Portrait, Close up, Middle Eastern Ethnicity, ...</td>\n",
       "      <td>1235</td>\n",
       "      <td>6</td>\n",
       "      <td>22.491856</td>\n",
       "      <td>176334.843536</td>\n",
       "    </tr>\n",
       "  </tbody>\n",
       "</table>\n",
       "</div>"
      ],
      "text/plain": [
       "                                                 url  \\\n",
       "0  https://www.gettyimages.co.uk/detail/photo/com...   \n",
       "1  https://www.gettyimages.co.uk/detail/photo/ecs...   \n",
       "2  https://www.gettyimages.co.uk/detail/photo/por...   \n",
       "3  https://www.gettyimages.co.uk/detail/photo/che...   \n",
       "4  https://www.gettyimages.co.uk/detail/photo/fee...   \n",
       "5  https://www.gettyimages.co.uk/detail/photo/giv...   \n",
       "\n",
       "                                             img_url  \\\n",
       "0  https://media.gettyimages.com/photos/come-on-y...   \n",
       "1  https://media.gettyimages.com/photos/ecstatic-...   \n",
       "2  https://media.gettyimages.com/photos/portrait-...   \n",
       "3  https://media.gettyimages.com/photos/cheerful-...   \n",
       "4  https://media.gettyimages.com/photos/feel-fant...   \n",
       "5  https://media.gettyimages.com/photos/giving-a-...   \n",
       "\n",
       "                                                tags  \\\n",
       "0  Men Photos,Ecstatic Photos,Plain Background Ph...   \n",
       "1  Thumbs Up Photos,Men Photos,White Background P...   \n",
       "2  55-59 Years Photos,Gray Background Photos,Men ...   \n",
       "3  Greeting Photos,Arab Culture Photos,Arabia Pho...   \n",
       "4  Men Photos,Plain Background Photos,White Backg...   \n",
       "5  30-39 Years Photos,Abu Dhabi Photos,Adult,Adul...   \n",
       "\n",
       "                                             caption   src  id  color_score  \\\n",
       "0  Handsome young man smiling at you and cheering...  1235   1   236.282216   \n",
       "1  Portrait of an ecstatic young man gesturing th...  1235   2   134.036404   \n",
       "2                                                NaN  1235   3   237.725988   \n",
       "3  Portrait, Close up, Middle Eastern Ethnicity, ...  1235   4    22.663100   \n",
       "4  Handsome young man feeling excited while isola...  1235   5   222.931088   \n",
       "5  Portrait, Close up, Middle Eastern Ethnicity, ...  1235   6    22.491856   \n",
       "\n",
       "   key_point_score  \n",
       "0    171200.857941  \n",
       "1    177922.009979  \n",
       "2    187216.127075  \n",
       "3    150654.061563  \n",
       "4    171999.685944  \n",
       "5    176334.843536  "
      ]
     },
     "execution_count": 187,
     "metadata": {},
     "output_type": "execute_result"
    }
   ],
   "source": [
    "pd_feature_list"
   ]
  },
  {
   "cell_type": "code",
   "execution_count": 167,
   "metadata": {},
   "outputs": [],
   "source": []
  },
  {
   "cell_type": "code",
   "execution_count": null,
   "metadata": {},
   "outputs": [],
   "source": []
  },
  {
   "cell_type": "code",
   "execution_count": 114,
   "metadata": {},
   "outputs": [],
   "source": []
  },
  {
   "cell_type": "code",
   "execution_count": 115,
   "metadata": {},
   "outputs": [],
   "source": []
  },
  {
   "cell_type": "code",
   "execution_count": 116,
   "metadata": {},
   "outputs": [],
   "source": []
  },
  {
   "cell_type": "code",
   "execution_count": null,
   "metadata": {},
   "outputs": [],
   "source": []
  }
 ],
 "metadata": {
  "environment": {
   "name": "pytorch-gpu.1-4.m48",
   "type": "gcloud",
   "uri": "gcr.io/deeplearning-platform-release/pytorch-gpu.1-4:m48"
  },
  "kernelspec": {
   "display_name": "Python 3",
   "language": "python",
   "name": "python3"
  },
  "language_info": {
   "codemirror_mode": {
    "name": "ipython",
    "version": 3
   },
   "file_extension": ".py",
   "mimetype": "text/x-python",
   "name": "python",
   "nbconvert_exporter": "python",
   "pygments_lexer": "ipython3",
   "version": "3.7.6"
  }
 },
 "nbformat": 4,
 "nbformat_minor": 4
}
