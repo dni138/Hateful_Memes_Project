{
 "cells": [
  {
   "cell_type": "code",
   "execution_count": 56,
   "metadata": {},
   "outputs": [],
   "source": [
    "import pandas as pd\n",
    "import os\n",
    "import torch.nn as nn\n",
    "import torch.nn.functional as F\n",
    "import pandas as pd\n",
    "from torch.utils import data as data_torch\n",
    "import torch\n",
    "from torch.utils import data as data_torch\n",
    "from sklearn.metrics import confusion_matrix\n",
    "from sklearn.metrics import accuracy_score"
   ]
  },
  {
   "cell_type": "code",
   "execution_count": 57,
   "metadata": {},
   "outputs": [
    {
     "data": {
      "text/plain": [
       "' \\nresults.to_csv()\\n\\nresults=pd.DataFrame(desc)\\nresults.to_csv(os.path.join(path,title+\"description.csv\"),sep=\",\")\\n\\nresults=pd.DataFrame(img_features)\\nresults.to_csv(os.path.join(path,title+\"image_features.csv\"),sep=\",\")\\n'"
      ]
     },
     "execution_count": 57,
     "metadata": {},
     "output_type": "execute_result"
    }
   ],
   "source": [
    "path=\"/home/data/meme_challenge_mod_data\"\n",
    "title=\"simple_\"\n",
    "\n",
    "image_features=pd.read_csv(os.path.join(path,title+\"image_features.csv\"),sep=\",\",index_col=0)\n",
    "text_features=pd.read_csv(os.path.join(path,title+\"text_features.csv\"),sep=\",\",index_col=0)\n",
    "desc_features=pd.read_csv(os.path.join(path,title+\"description.csv\"),sep=\",\",index_col=0)\n",
    "''' \n",
    "results.to_csv()\n",
    "\n",
    "results=pd.DataFrame(desc)\n",
    "results.to_csv(os.path.join(path,title+\"description.csv\"),sep=\",\")\n",
    "\n",
    "results=pd.DataFrame(img_features)\n",
    "results.to_csv(os.path.join(path,title+\"image_features.csv\"),sep=\",\")\n",
    "'''"
   ]
  },
  {
   "cell_type": "code",
   "execution_count": 58,
   "metadata": {},
   "outputs": [],
   "source": [
    "from nn_simple import SimpleModel"
   ]
  },
  {
   "cell_type": "code",
   "execution_count": 59,
   "metadata": {},
   "outputs": [],
   "source": [
    "class Dataset_Handler_Generic(data_torch.Dataset):\n",
    "    def __init__(self, data, label):\n",
    "        \n",
    "            self.data=data #how is the data bbroken  down\n",
    "            self.label=label\n",
    "          \n",
    "    def __len__(self):\n",
    "            'Denotes the total number of samples'\n",
    "            return len(self.data)\n",
    "    def __getitem__(self, index):\n",
    "            return  self.data[index],self.label[index]"
   ]
  },
  {
   "cell_type": "code",
   "execution_count": 60,
   "metadata": {},
   "outputs": [],
   "source": [
    "input_features=pd.concat((image_features,text_features),axis=1).values\n"
   ]
  },
  {
   "cell_type": "code",
   "execution_count": 63,
   "metadata": {},
   "outputs": [],
   "source": [
    "output_features=desc_features['1'].values.reshape((len(desc_features['1']),1))"
   ]
  },
  {
   "cell_type": "code",
   "execution_count": 64,
   "metadata": {},
   "outputs": [],
   "source": [
    "size=len(input_features)\n",
    "\n",
    "train_size=int(size*.80)\n",
    "\n",
    "handler_tr:data_torch.Dataset=Dataset_Handler_Generic(input_features[:train_size],output_features[:train_size])\n",
    "handler_vl:data_torch.Dataset=Dataset_Handler_Generic(input_features[train_size+1:],output_features[train_size+1:])    \n"
   ]
  },
  {
   "cell_type": "code",
   "execution_count": 65,
   "metadata": {},
   "outputs": [],
   "source": [
    "\n",
    "loader_tr=torch.utils.data.DataLoader(handler_tr, batch_size=10, shuffle=True,num_workers=0)\n",
    "loader_vl=torch.utils.data.DataLoader(handler_vl, batch_size=10, shuffle=True,num_workers=0)\n"
   ]
  },
  {
   "cell_type": "code",
   "execution_count": 62,
   "metadata": {},
   "outputs": [
    {
     "data": {
      "text/plain": [
       "(8496, 1768)"
      ]
     },
     "execution_count": 62,
     "metadata": {},
     "output_type": "execute_result"
    }
   ],
   "source": []
  },
  {
   "cell_type": "code",
   "execution_count": 164,
   "metadata": {},
   "outputs": [],
   "source": [
    "lossType=nn.SmoothL1Loss(reduction=\"sum\")\n",
    "s=SimpleModel(input_features.shape[1],1,[],lossType,lr=.001)"
   ]
  },
  {
   "cell_type": "code",
   "execution_count": 168,
   "metadata": {},
   "outputs": [],
   "source": [
    "\n",
    "optimizer=torch.optim.Adam(s.parameters(),lr=.0001,weight_decay=.001)\n"
   ]
  },
  {
   "cell_type": "code",
   "execution_count": 169,
   "metadata": {},
   "outputs": [
    {
     "name": "stdout",
     "output_type": "stream",
     "text": [
      "0.10082503976086576 0.12227125431664766\n",
      "0.08744562338772348 0.10457203793764255\n",
      "0.08564200578120401 0.1072271301018062\n",
      "0.0854164738736481 0.1066577859735966\n",
      "0.08499762505345516 0.10307447625441436\n",
      "0.08469752356050433 0.10283715223971363\n"
     ]
    }
   ],
   "source": [
    "epochs=5\n",
    "norm_tr_size:int=len(input_features[:train_size])\n",
    "norm_vl_size:int=len(input_features[train_size+1:])\n",
    "    \n",
    "initial_tr_loss=s.train_model(1,loader_tr,optimizer,is_training=False)[0]/norm_tr_size\n",
    "intial_vl_loss=s.train_model(1,loader_vl,optimizer,is_training=False)[0]/norm_vl_size\n",
    "tr_loss_ary=[initial_tr_loss]\n",
    "vl_loss_ary=[intial_vl_loss]\n",
    "print(initial_tr_loss,intial_vl_loss)\n",
    "for i in range(epochs):\n",
    "    tr_loss=s.train_model(1,loader_tr,optimizer,is_training=True)[0]/norm_tr_size\n",
    "    vl_loss=s.train_model(1,loader_vl,optimizer,is_training=False)[0]/norm_vl_size\n",
    "    tr_loss_ary.append(tr_loss)\n",
    "    vl_loss_ary.append(vl_loss)\n",
    "    print(tr_loss,vl_loss)"
   ]
  },
  {
   "cell_type": "code",
   "execution_count": 170,
   "metadata": {},
   "outputs": [],
   "source": [
    "results=s(torch.tensor(input_features[:train_size]).float()).detach().numpy()\n",
    "predicted_label=np.apply_along_axis(lambda d: 1 if d >.5 else 0,1,results)"
   ]
  },
  {
   "cell_type": "code",
   "execution_count": 171,
   "metadata": {},
   "outputs": [
    {
     "data": {
      "text/plain": [
       "array([[3565,  882],\n",
       "       [ 800, 1549]])"
      ]
     },
     "execution_count": 171,
     "metadata": {},
     "output_type": "execute_result"
    }
   ],
   "source": [
    "\n",
    "confusion_matrix(output_features[:train_size],predicted_label)\n",
    "\n"
   ]
  },
  {
   "cell_type": "code",
   "execution_count": 172,
   "metadata": {},
   "outputs": [
    {
     "data": {
      "text/plain": [
       "0.7525014714537963"
      ]
     },
     "execution_count": 172,
     "metadata": {},
     "output_type": "execute_result"
    }
   ],
   "source": [
    "accuracy_score(output_features[:train_size],predicted_label)"
   ]
  },
  {
   "cell_type": "code",
   "execution_count": 173,
   "metadata": {},
   "outputs": [],
   "source": [
    "from sklearn.metrics import roc_auc_score"
   ]
  },
  {
   "cell_type": "code",
   "execution_count": 174,
   "metadata": {},
   "outputs": [],
   "source": [
    "results_vl=s(torch.tensor(input_features[train_size+1:]).float()).detach().numpy()\n",
    "predicted_label_vl=np.apply_along_axis(lambda d: 1 if d >.5 else 0,1,results_vl)"
   ]
  },
  {
   "cell_type": "code",
   "execution_count": 175,
   "metadata": {},
   "outputs": [
    {
     "data": {
      "text/plain": [
       "0.6909947027663331"
      ]
     },
     "execution_count": 175,
     "metadata": {},
     "output_type": "execute_result"
    }
   ],
   "source": [
    "accuracy_score(output_features[train_size+1:],predicted_label_vl)"
   ]
  },
  {
   "cell_type": "code",
   "execution_count": 176,
   "metadata": {},
   "outputs": [
    {
     "data": {
      "text/plain": [
       "0    5446\n",
       "1    3050\n",
       "Name: 0, dtype: int64"
      ]
     },
     "execution_count": 176,
     "metadata": {},
     "output_type": "execute_result"
    }
   ],
   "source": [
    "pd.DataFrame(output_features)[0].value_counts()"
   ]
  },
  {
   "cell_type": "code",
   "execution_count": 177,
   "metadata": {},
   "outputs": [
    {
     "data": {
      "text/plain": [
       "0.6798747280581132"
      ]
     },
     "execution_count": 177,
     "metadata": {},
     "output_type": "execute_result"
    }
   ],
   "source": [
    "roc_auc_score(output_features[train_size+1:],predicted_label_vl)"
   ]
  },
  {
   "cell_type": "code",
   "execution_count": 178,
   "metadata": {},
   "outputs": [
    {
     "data": {
      "text/plain": [
       "0.730546793831095"
      ]
     },
     "execution_count": 178,
     "metadata": {},
     "output_type": "execute_result"
    }
   ],
   "source": [
    "roc_auc_score(output_features[:train_size],predicted_label)"
   ]
  },
  {
   "cell_type": "code",
   "execution_count": null,
   "metadata": {},
   "outputs": [],
   "source": []
  }
 ],
 "metadata": {
  "environment": {
   "name": "pytorch-gpu.1-4.m48",
   "type": "gcloud",
   "uri": "gcr.io/deeplearning-platform-release/pytorch-gpu.1-4:m48"
  },
  "kernelspec": {
   "display_name": "Python 3",
   "language": "python",
   "name": "python3"
  },
  "language_info": {
   "codemirror_mode": {
    "name": "ipython",
    "version": 3
   },
   "file_extension": ".py",
   "mimetype": "text/x-python",
   "name": "python",
   "nbconvert_exporter": "python",
   "pygments_lexer": "ipython3",
   "version": "3.7.6"
  }
 },
 "nbformat": 4,
 "nbformat_minor": 4
}
