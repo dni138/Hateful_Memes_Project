{
  "nbformat": 4,
  "nbformat_minor": 0,
  "metadata": {
    "colab": {
      "name": "aggregate_getty_data.ipynb",
      "provenance": []
    },
    "kernelspec": {
      "name": "python3",
      "display_name": "Python 3"
    }
  },
  "cells": [
    {
      "cell_type": "code",
      "metadata": {
        "id": "LjC4dR7HZ4ML",
        "colab_type": "code",
        "colab": {
          "base_uri": "https://localhost:8080/",
          "height": 34
        },
        "outputId": "01d13e24-d516-46b0-dde6-244b50e5e08c"
      },
      "source": [
        "from google.colab import drive\n",
        "import csv\n",
        "drive.mount('/content/gdrive')"
      ],
      "execution_count": 3,
      "outputs": [
        {
          "output_type": "stream",
          "text": [
            "Drive already mounted at /content/gdrive; to attempt to forcibly remount, call drive.mount(\"/content/gdrive\", force_remount=True).\n"
          ],
          "name": "stdout"
        }
      ]
    },
    {
      "cell_type": "code",
      "metadata": {
        "id": "IS91afRwZ4yH",
        "colab_type": "code",
        "colab": {}
      },
      "source": [
        "import pandas as pd\n",
        "import glob\n",
        "import os\n",
        "import json\n",
        "import os.path\n",
        "from os import path\n",
        "\n",
        "\n",
        "img_list=[]\n",
        "path = \"/content/gdrive/My Drive/colab/data_sources/hateful_memes/img/*.png\"\n",
        "\n",
        "for img in glob.glob(path):\n",
        "    img_list.append(os.path.basename(img))\n",
        "\n",
        "full=[]\n",
        "\n",
        "for el in img_list:\n",
        "    file_path='/content/gdrive/My Drive/colab/data_sources/hateful_memes/getty/' + os.path.splitext(el)[0]+'/related_info_'+os.path.splitext(el)[0]+'.tsv'\n",
        "    if os.path.isfile(file_path):\n",
        "      df = pd.read_csv(file_path, sep='\\t')\n",
        "      full.append(df)\n",
        "\n",
        "    else:\n",
        "      pass\n",
        "\n",
        "      # print(el, \" already downloaded.\")"
      ],
      "execution_count": 5,
      "outputs": []
    },
    {
      "cell_type": "code",
      "metadata": {
        "id": "CldhbytwavWB",
        "colab_type": "code",
        "colab": {}
      },
      "source": [
        "final = pd.concat(full)"
      ],
      "execution_count": 6,
      "outputs": []
    },
    {
      "cell_type": "code",
      "metadata": {
        "id": "Nh073EtTiUoF",
        "colab_type": "code",
        "colab": {
          "base_uri": "https://localhost:8080/",
          "height": 34
        },
        "outputId": "605a398a-5a0f-4a08-af9b-dc7237468f5d"
      },
      "source": [
        "final.shape"
      ],
      "execution_count": 7,
      "outputs": [
        {
          "output_type": "execute_result",
          "data": {
            "text/plain": [
              "(24130, 9)"
            ]
          },
          "metadata": {
            "tags": []
          },
          "execution_count": 7
        }
      ]
    },
    {
      "cell_type": "code",
      "metadata": {
        "id": "ACzkpMZriVzG",
        "colab_type": "code",
        "colab": {}
      },
      "source": [
        "final.to_csv(\"/content/gdrive/My Drive/colab/data_sources/hateful_memes/getty/getty_data.csv\", index=False)"
      ],
      "execution_count": 10,
      "outputs": []
    },
    {
      "cell_type": "code",
      "metadata": {
        "id": "dvBR8SCWiYVW",
        "colab_type": "code",
        "colab": {}
      },
      "source": [
        ""
      ],
      "execution_count": null,
      "outputs": []
    }
  ]
}