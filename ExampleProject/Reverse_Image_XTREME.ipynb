{
 "cells": [
  {
   "cell_type": "code",
   "execution_count": 66,
   "metadata": {},
   "outputs": [],
   "source": [
    "import selenium\n",
    "import requests\n",
    "import time\n",
    "from selenium import webdriver\n",
    "from selenium.webdriver.common.keys import Keys\n",
    "from bs4 import BeautifulSoup\n",
    "import lxml\n",
    "import requests\n",
    "from lxml import html\n",
    "import math\n",
    "import os\n",
    "import sys\n",
    "import urllib\n",
    "import shutil\n",
    "import pandas as pd\n",
    "import cv2"
   ]
  },
  {
   "cell_type": "code",
   "execution_count": 11,
   "metadata": {},
   "outputs": [],
   "source": [
    "JS_DROP_FILE = \"\"\"\n",
    "    var target = arguments[0],\n",
    "        offsetX = arguments[1],\n",
    "        offsetY = arguments[2],\n",
    "        document = target.ownerDocument || document,\n",
    "        window = document.defaultView || window;\n",
    "\n",
    "    var input = document.createElement('INPUT');\n",
    "    input.type = 'file';\n",
    "    input.onchange = function () {\n",
    "      var rect = target.getBoundingClientRect(),\n",
    "          x = rect.left + (offsetX || (rect.width >> 1)),\n",
    "          y = rect.top + (offsetY || (rect.height >> 1)),\n",
    "          dataTransfer = { files: this.files };\n",
    "\n",
    "      ['dragenter', 'dragover', 'drop'].forEach(function (name) {\n",
    "        var evt = document.createEvent('MouseEvent');\n",
    "        evt.initMouseEvent(name, !0, !0, window, 0, 0, 0, x, y, !1, !1, !1, !1, 0, null);\n",
    "        evt.dataTransfer = dataTransfer;\n",
    "        target.dispatchEvent(evt);\n",
    "      });\n",
    "\n",
    "      setTimeout(function () { document.body.removeChild(input); }, 25);\n",
    "    };\n",
    "    document.body.appendChild(input);\n",
    "    return input;\n",
    "\"\"\"\n",
    "\n",
    "def drag_and_drop_file(drop_target, path):\n",
    "    driver = drop_target.parent\n",
    "    file_input = driver.execute_script(JS_DROP_FILE, drop_target, 0, 0)\n",
    "    file_input.send_keys(path)"
   ]
  },
  {
   "cell_type": "code",
   "execution_count": 12,
   "metadata": {},
   "outputs": [],
   "source": [
    "def colorScore(img1, img2):\n",
    "    abs_sum_error=0\n",
    "    abs_sum_error+=math.fabs(img1.T[0].mean()-img2.T[0].mean())\n",
    "    abs_sum_error+=math.fabs(img1.T[1].mean()-img2.T[1].mean())\n",
    "    abs_sum_error+=math.fabs(img1.T[2].mean()-img2.T[2].mean())\n",
    "    return abs_sum_error\n",
    "\n",
    "def keyPointScore(img1,img2):\n",
    "    orb = cv2.ORB_create() \n",
    "    queryKeypoints, queryDescriptors = orb.detectAndCompute(img1,None) \n",
    "    trainKeypoints, trainDescriptors = orb.detectAndCompute(img2,None) \n",
    "    matcher = cv2.BFMatcher() \n",
    "    matches = matcher.match(queryDescriptors,trainDescriptors) \n",
    "    sums=0.0\n",
    "    for match in matches:\n",
    "        sums+=match.distance\n",
    "    return sums\n"
   ]
  },
  {
   "cell_type": "code",
   "execution_count": 13,
   "metadata": {},
   "outputs": [],
   "source": [
    "def getInformation(url:str):\n",
    "    \n",
    "    # Getting the webpage, creating a Response object.\n",
    "    response = requests.get(url)\n",
    "    \n",
    "    # Extracting the source code of the page.\n",
    "    data = response.text\n",
    "    \n",
    "    # Passing the source code to BeautifulSoup to create a BeautifulSoup object for it.\n",
    "    soup = BeautifulSoup(data, 'html.parser')\n",
    "        \n",
    "    caption = soup.findAll(\"div\", {\"class\": \"asset-description__caption\"})\n",
    "    tags = soup.findAll(\"li\", {\"class\": \"asset-keywords-list__item\"})\n",
    "    imgur=soup.findAll(\"img\", {\"class\": \"asset-card__image\"})\n",
    "    caption_str=\"\"\n",
    "    try:\n",
    "        caption_str:str=caption[0].getText()\n",
    "    except:\n",
    "        pass\n",
    "    tag_list:str=\",\".join([tag.getText().replace(\",\",\"\") for tag in tags])\n",
    "    img_link=imgur[0][\"src\"]\n",
    "    dictionary:{}={}\n",
    "    dictionary[\"img_url\"]=img_link\n",
    "    dictionary[\"tags\"]=tag_list\n",
    "    dictionary[\"caption\"]=caption_str\n",
    "    return  dictionary\n",
    "\n"
   ]
  },
  {
   "cell_type": "code",
   "execution_count": 14,
   "metadata": {},
   "outputs": [],
   "source": [
    "def saveImg(dir,original_img, name, urlLink):\n",
    "        if not os.path.exists(dir):\n",
    "            os.makedirs(dir) \n",
    "            \n",
    "        subpath:str= os.path.join(dir,original_img)\n",
    "        if not os.path.exists(subpath):\n",
    "            os.makedirs(subpath) \n",
    "            \n",
    "        file_name_path:str=os.path.join(subpath,name)+\".jpg\"\n",
    "        \n",
    "        img_url:str=urlLink.replace(\"?s=2048x2048\",\"\") #+\".jpg\"  \n",
    "\n",
    "        urllib.request.urlretrieve(img_url, file_name_path)"
   ]
  },
  {
   "cell_type": "code",
   "execution_count": 108,
   "metadata": {},
   "outputs": [],
   "source": [
    "def upload_file(driver, abs_img_path,url = \"https://www.gettyimages.co.uk/\"):\n",
    "    driver.get(url)\n",
    "    bah=driver.find_element_by_id('btnImageSearch').click()\n",
    "    time.sleep(5)\n",
    "    el=driver.find_element_by_css_selector(\"[ngf-drop^='dragDropUpload']\")\n",
    "    path = abs_img_path\n",
    "    drag_and_drop_file(el,path)\n",
    "    \n",
    "    return driver"
   ]
  },
  {
   "cell_type": "code",
   "execution_count": 109,
   "metadata": {},
   "outputs": [],
   "source": [
    "def save_all(project_path, abs_img_path, img_num, original_img, linkInfo):\n",
    "    projectPath=project_path\n",
    "    elementName=img_num #the original png\n",
    "    img_dir_path = os.path.join(projectPath, elementName)\n",
    "    if not os.path.isdir(img_dir_path):\n",
    "        os.mkdir(img_dir_path)\n",
    "    shutil.copy(abs_img_path, img_dir_path)\n",
    "    \n",
    "    counter = 1\n",
    "    for link in linkInfo:\n",
    "        link[\"src\"]=elementName\n",
    "        link[\"id\"]=str(counter)\n",
    "        time.sleep(2)\n",
    "        print(\"saving Image\")\n",
    "        saveImg(projectPath,elementName,link[\"id\"],link[\"img_url\"])\n",
    "        counter += 1\n",
    "\n",
    "    print (\"saving Misc Info as a clean tsv file\")\n",
    "\n",
    "    all_info=pd.DataFrame(linkInfo)\n",
    "    \n",
    "    return all_info"
   ]
  },
  {
   "cell_type": "code",
   "execution_count": 110,
   "metadata": {},
   "outputs": [],
   "source": [
    "def create_features(project_path, img_num, original_img, all_info, target_imgs):\n",
    "    src_img = cv2.imread(project_path + '/' + img_num + '/' + original_img, cv2.IMREAD_COLOR)# trainImage\n",
    "    color_scores=[]\n",
    "    key_point_scores=[]\n",
    "    for img_name in target_imgs:\n",
    "        img1 = cv2.imread(project_path + '/' + img_num + '/'+ img_name + '.jpg', cv2.IMREAD_COLOR)# queryImage\n",
    "\n",
    "        img1=cv2.resize(img1,(500,500))\n",
    "        img2=cv2.resize(src_img,(500,500))\n",
    "\n",
    "        color_score=colorScore(img1,img2)\n",
    "        key_point_score=keyPointScore(img1,img2)\n",
    "        color_scores.append(color_score)\n",
    "        key_point_scores.append(key_point_score)\n",
    "\n",
    "    all_info['Color_Score'] = color_scores\n",
    "    all_info['Key_Point_Score'] = key_point_scores\n",
    "    all_info.to_csv(os.path.join(img_dir_path,\"related_info_{}.tsv\".format(img_num)),sep=\"\\t\")"
   ]
  },
  {
   "cell_type": "code",
   "execution_count": 111,
   "metadata": {},
   "outputs": [],
   "source": [
    "def run_selenium(driver, abs_img_path, original_img, project_path, img_num, max_num = 6):\n",
    "    driver = upload_file(driver, abs_img_path)\n",
    "    time.sleep(10)\n",
    "    \n",
    "    topN_images=driver.find_elements_by_class_name(\"gallery-mosaic-asset__link\")\n",
    "\n",
    "    if len(topN_images)<max_num: \n",
    "        max_num=len(topN_images)\n",
    "\n",
    "    linkInfo=[]\n",
    "    for image in topN_images[:max]:\n",
    "        linkInfo.append({\"url\":image.get_attribute(\"href\")})\n",
    "        \n",
    "    for link in linkInfo:\n",
    "        url=link[\"url\"]\n",
    "        print(url + '\\n')\n",
    "        time.sleep(3)\n",
    "        link.update(getInformation(url))\n",
    "        print(\"Next Link\")\n",
    "    \n",
    "    all_info = save_all(project_path, abs_img_path, img_num, original_img, linkInfo)\n",
    "    \n",
    "    all_info.head()\n",
    "    \n",
    "    target_imgs = []\n",
    "    for link in linkInfo:\n",
    "        target_imgs.append(str(link['id']))\n",
    "        \n",
    "    create_features(project_path, img_num, original_img, all_info, target_imgs)"
   ]
  },
  {
   "cell_type": "markdown",
   "metadata": {},
   "source": [
    "**RUN COLLECTION ON A SINGLE EXAMPLE**"
   ]
  },
  {
   "cell_type": "code",
   "execution_count": 112,
   "metadata": {},
   "outputs": [
    {
     "name": "stdout",
     "output_type": "stream",
     "text": [
      "https://www.gettyimages.co.uk/detail/photo/come-on-you-can-do-it-royalty-free-image/185288341\n",
      "\n",
      "Next Link\n",
      "https://www.gettyimages.co.uk/detail/photo/ecstatic-young-man-gesturing-thumbs-up-isolated-royalty-free-image/175454964\n",
      "\n",
      "Next Link\n",
      "https://www.gettyimages.co.uk/detail/photo/portrait-of-funny-mature-businessman-royalty-free-image/1163453266\n",
      "\n",
      "Next Link\n",
      "https://www.gettyimages.co.uk/detail/photo/cheerful-arab-man-walking-with-arms-raised-towards-royalty-free-image/1050607276\n",
      "\n",
      "Next Link\n",
      "https://www.gettyimages.co.uk/detail/photo/feel-fantastic-royalty-free-image/185221981\n",
      "\n",
      "Next Link\n",
      "https://www.gettyimages.co.uk/detail/photo/giving-a-thumbs-up-in-approval-royalty-free-image/1050604302\n",
      "\n",
      "Next Link\n",
      "saving Image\n",
      "saving Image\n",
      "saving Image\n",
      "saving Image\n",
      "saving Image\n",
      "saving Image\n",
      "saving Misc Info as a clean tsv file\n",
      "saving Misc Info as a clean tsv file\n"
     ]
    }
   ],
   "source": [
    "driver = webdriver.Chrome('/Users/nissani/Desktop/chromedriver') #use own driver path\n",
    "for el in ['01235.png', '01236.png']:\n",
    "    run_selenium(driver = driver, \n",
    "                 abs_img_path = '/Users/nissani/Desktop/Hateful_Memes_Project/ExampleProject/data/img/' + el,\n",
    "                 original_img = el,\n",
    "                 project_path = \"/Users/nissani/Desktop/Hateful_Memes_Project/ExampleProject/img_compare_test\",\n",
    "                 img_num = el.replace('.png', ''))"
   ]
  },
  {
   "cell_type": "code",
   "execution_count": 18,
   "metadata": {},
   "outputs": [],
   "source": [
    "driver = webdriver.Chrome('/Users/nissani/Desktop/chromedriver')\n",
    "driver.get(\"https://www.gettyimages.co.uk/\")\n",
    "bah=driver.find_element_by_id('btnImageSearch').click()\n",
    "time.sleep(2)\n",
    "el=driver.find_element_by_css_selector(\"[ngf-drop^='dragDropUpload']\")\n",
    "path ='/Users/nissani/Desktop/Hateful_Memes_Project/ExampleProject/img_compare_test/01235.png'\n",
    "drag_and_drop_file(el,path)"
   ]
  },
  {
   "cell_type": "markdown",
   "metadata": {},
   "source": [
    "**NEED TO DEAL WITH TIME OUT FOR UPLOAD OPTION**"
   ]
  },
  {
   "cell_type": "code",
   "execution_count": 19,
   "metadata": {},
   "outputs": [],
   "source": [
    "topN_images=driver.find_elements_by_class_name(\"gallery-mosaic-asset__link\")\n",
    "\n",
    "max_num:int=6\n",
    "\n",
    "if len(topN_images)<max_num: \n",
    "    max_num=len(topN_images)\n",
    "\n",
    "linkInfo=[]\n",
    "\n",
    "for image in topN_images[:max]:\n",
    "    linkInfo.append({\"url\":image.get_attribute(\"href\")})\n",
    "    \n",
    "    "
   ]
  },
  {
   "cell_type": "code",
   "execution_count": 20,
   "metadata": {},
   "outputs": [
    {
     "name": "stdout",
     "output_type": "stream",
     "text": [
      "https://www.gettyimages.co.uk/detail/photo/come-on-you-can-do-it-royalty-free-image/185288341\n",
      "next\n",
      "https://www.gettyimages.co.uk/detail/photo/ecstatic-young-man-gesturing-thumbs-up-isolated-royalty-free-image/175454964\n",
      "next\n",
      "https://www.gettyimages.co.uk/detail/photo/portrait-of-funny-mature-businessman-royalty-free-image/1163453266\n",
      "next\n",
      "https://www.gettyimages.co.uk/detail/photo/cheerful-arab-man-walking-with-arms-raised-towards-royalty-free-image/1050607276\n",
      "next\n",
      "https://www.gettyimages.co.uk/detail/photo/feel-fantastic-royalty-free-image/185221981\n",
      "next\n",
      "https://www.gettyimages.co.uk/detail/photo/giving-a-thumbs-up-in-approval-royalty-free-image/1050604302\n",
      "next\n"
     ]
    }
   ],
   "source": [
    "for link in linkInfo:\n",
    "    url=link[\"url\"]\n",
    "    print(url)\n",
    "    time.sleep(3)\n",
    "    link.update(getInformation(url))\n",
    "    print(\"next\")"
   ]
  },
  {
   "cell_type": "markdown",
   "metadata": {},
   "source": [
    "**SAVE POSSIBLE IMAGE MATCHES AND THEIR TAGS**"
   ]
  },
  {
   "cell_type": "code",
   "execution_count": 76,
   "metadata": {},
   "outputs": [
    {
     "name": "stdout",
     "output_type": "stream",
     "text": [
      "saving Image\n",
      "saving Image\n",
      "saving Image\n",
      "saving Image\n",
      "saving Image\n",
      "saving Image\n",
      "saving Misc Info as a clean csv file\n"
     ]
    }
   ],
   "source": [
    "projectPath=\"/Users/nissani/Desktop/Hateful_Memes_Project/ExampleProject/img_compare_test\"\n",
    "elementName=\"01235\" #the original png\n",
    "img_dir_path = os.path.join(projectPath, elementName)\n",
    "if not os.path.isdir(img_dir_path):\n",
    "    os.mkdir(img_dir_path)\n",
    "shutil.copy(projectPath + '/01235.png', img_dir_path)\n",
    "\n",
    "for counter,link in zip([i for i in range(len(linkInfo))],linkInfo):\n",
    "    link[\"src\"]=elementName\n",
    "    link[\"id\"]=str(counter+1)\n",
    "    time.sleep(2)\n",
    "    print(\"saving Image\")\n",
    "    saveImg(projectPath,elementName,link[\"id\"],link[\"img_url\"])\n",
    "\n",
    "print (\"saving Misc Info as a clean csv file\")\n",
    "\n",
    "all_info=pd.DataFrame(linkInfo)\n",
    "all_info.to_csv(os.path.join(img_dir_path,\"related_info.tsv\"),sep=\"\\t\")"
   ]
  },
  {
   "cell_type": "code",
   "execution_count": 78,
   "metadata": {},
   "outputs": [
    {
     "name": "stdout",
     "output_type": "stream",
     "text": [
      "1\n",
      "2\n",
      "3\n",
      "4\n",
      "5\n",
      "6\n"
     ]
    }
   ],
   "source": [
    "target_imgs = []\n",
    "for link in linkInfo:\n",
    "    target_imgs.append(link['id'])"
   ]
  },
  {
   "cell_type": "markdown",
   "metadata": {},
   "source": [
    "**Find out which is the true image SEE Test_Similarity.ipynb**"
   ]
  },
  {
   "cell_type": "code",
   "execution_count": 50,
   "metadata": {},
   "outputs": [],
   "source": [
    "####SEEE Test Similarity Script - this is broken :(\n",
    "src_img = cv2.imread('/Users/nissani/Desktop/Hateful_Memes_Project/ExampleProject/img_compare_test/01235.png', cv2.IMREAD_COLOR)# trainImage\n",
    "color_scores=[]\n",
    "key_point_scores=[]\n",
    "for img_name in target_imgs:\n",
    "    img1 = cv2.imread('/Users/nissani/Desktop/Hateful_Memes_Project/ExampleProject/img_compare_test'+\"/\"+str(img_name)+\".jpg\", cv2.IMREAD_COLOR)# queryImage\n",
    "\n",
    "    img1=cv2.resize(img1,(500,500))\n",
    "    img2=cv2.resize(src_img,(500,500))\n",
    "    \n",
    "    color_score=colorScore(img1,img2)\n",
    "    key_point_score=keyPointScore(img1,img2)\n",
    "    color_scores.append(color_score)\n",
    "    key_point_scores.append(key_point_score)\n",
    "\n",
    "related = pd.read_csv('img_compare_test/related_info.tsv', sep = '\\t', index_col = 0)\n",
    "related['Color_Score'] = color_scores\n",
    "related['Key_Point_Score'] = key_point_scores\n",
    "related.to_csv(os.path.join(img_dir_path,\"related_info_{}.tsv\".format(img_num)),sep=\"\\t\")"
   ]
  },
  {
   "cell_type": "code",
   "execution_count": 53,
   "metadata": {},
   "outputs": [],
   "source": [
    "related = pd.read_csv('img_compare_test/related_info.tsv', sep = '\\t', index_col = 0)"
   ]
  },
  {
   "cell_type": "code",
   "execution_count": 54,
   "metadata": {},
   "outputs": [],
   "source": [
    "related['Color_Score'] = color_scores\n",
    "related['Key_Point_Score'] = key_point_scores"
   ]
  },
  {
   "cell_type": "code",
   "execution_count": 56,
   "metadata": {},
   "outputs": [
    {
     "data": {
      "text/html": [
       "<div>\n",
       "<style scoped>\n",
       "    .dataframe tbody tr th:only-of-type {\n",
       "        vertical-align: middle;\n",
       "    }\n",
       "\n",
       "    .dataframe tbody tr th {\n",
       "        vertical-align: top;\n",
       "    }\n",
       "\n",
       "    .dataframe thead th {\n",
       "        text-align: right;\n",
       "    }\n",
       "</style>\n",
       "<table border=\"1\" class=\"dataframe\">\n",
       "  <thead>\n",
       "    <tr style=\"text-align: right;\">\n",
       "      <th></th>\n",
       "      <th>url</th>\n",
       "      <th>img_url</th>\n",
       "      <th>tags</th>\n",
       "      <th>caption</th>\n",
       "      <th>src</th>\n",
       "      <th>id</th>\n",
       "      <th>Color_Score</th>\n",
       "      <th>Key_Point_Score</th>\n",
       "    </tr>\n",
       "  </thead>\n",
       "  <tbody>\n",
       "    <tr>\n",
       "      <th>0</th>\n",
       "      <td>https://www.gettyimages.co.uk/detail/photo/com...</td>\n",
       "      <td>https://media.gettyimages.com/photos/come-on-y...</td>\n",
       "      <td>Men Photos,Ecstatic Photos,Plain Background Ph...</td>\n",
       "      <td>Handsome young man smiling at you and cheering...</td>\n",
       "      <td>1235</td>\n",
       "      <td>1</td>\n",
       "      <td>236.282216</td>\n",
       "      <td>171200.857941</td>\n",
       "    </tr>\n",
       "    <tr>\n",
       "      <th>1</th>\n",
       "      <td>https://www.gettyimages.co.uk/detail/photo/ecs...</td>\n",
       "      <td>https://media.gettyimages.com/photos/ecstatic-...</td>\n",
       "      <td>Thumbs Up Photos,Men Photos,White Background P...</td>\n",
       "      <td>Portrait of an ecstatic young man gesturing th...</td>\n",
       "      <td>1235</td>\n",
       "      <td>2</td>\n",
       "      <td>134.036404</td>\n",
       "      <td>177922.009979</td>\n",
       "    </tr>\n",
       "    <tr>\n",
       "      <th>2</th>\n",
       "      <td>https://www.gettyimages.co.uk/detail/photo/por...</td>\n",
       "      <td>https://media.gettyimages.com/photos/portrait-...</td>\n",
       "      <td>55-59 Years Photos,Gray Background Photos,Men ...</td>\n",
       "      <td>NaN</td>\n",
       "      <td>1235</td>\n",
       "      <td>3</td>\n",
       "      <td>237.725988</td>\n",
       "      <td>187216.127075</td>\n",
       "    </tr>\n",
       "    <tr>\n",
       "      <th>3</th>\n",
       "      <td>https://www.gettyimages.co.uk/detail/photo/che...</td>\n",
       "      <td>https://media.gettyimages.com/photos/cheerful-...</td>\n",
       "      <td>Greeting Photos,Arab Culture Photos,Arabia Pho...</td>\n",
       "      <td>Portrait, Close up, Middle Eastern Ethnicity, ...</td>\n",
       "      <td>1235</td>\n",
       "      <td>4</td>\n",
       "      <td>22.663100</td>\n",
       "      <td>150654.061563</td>\n",
       "    </tr>\n",
       "    <tr>\n",
       "      <th>4</th>\n",
       "      <td>https://www.gettyimages.co.uk/detail/photo/fee...</td>\n",
       "      <td>https://media.gettyimages.com/photos/feel-fant...</td>\n",
       "      <td>Men Photos,Plain Background Photos,White Backg...</td>\n",
       "      <td>Handsome young man feeling excited while isola...</td>\n",
       "      <td>1235</td>\n",
       "      <td>5</td>\n",
       "      <td>222.931088</td>\n",
       "      <td>171999.685944</td>\n",
       "    </tr>\n",
       "    <tr>\n",
       "      <th>5</th>\n",
       "      <td>https://www.gettyimages.co.uk/detail/photo/giv...</td>\n",
       "      <td>https://media.gettyimages.com/photos/giving-a-...</td>\n",
       "      <td>30-39 Years Photos,Abu Dhabi Photos,Adult,Adul...</td>\n",
       "      <td>Portrait, Close up, Middle Eastern Ethnicity, ...</td>\n",
       "      <td>1235</td>\n",
       "      <td>6</td>\n",
       "      <td>22.491856</td>\n",
       "      <td>176334.843536</td>\n",
       "    </tr>\n",
       "  </tbody>\n",
       "</table>\n",
       "</div>"
      ],
      "text/plain": [
       "                                                 url  \\\n",
       "0  https://www.gettyimages.co.uk/detail/photo/com...   \n",
       "1  https://www.gettyimages.co.uk/detail/photo/ecs...   \n",
       "2  https://www.gettyimages.co.uk/detail/photo/por...   \n",
       "3  https://www.gettyimages.co.uk/detail/photo/che...   \n",
       "4  https://www.gettyimages.co.uk/detail/photo/fee...   \n",
       "5  https://www.gettyimages.co.uk/detail/photo/giv...   \n",
       "\n",
       "                                             img_url  \\\n",
       "0  https://media.gettyimages.com/photos/come-on-y...   \n",
       "1  https://media.gettyimages.com/photos/ecstatic-...   \n",
       "2  https://media.gettyimages.com/photos/portrait-...   \n",
       "3  https://media.gettyimages.com/photos/cheerful-...   \n",
       "4  https://media.gettyimages.com/photos/feel-fant...   \n",
       "5  https://media.gettyimages.com/photos/giving-a-...   \n",
       "\n",
       "                                                tags  \\\n",
       "0  Men Photos,Ecstatic Photos,Plain Background Ph...   \n",
       "1  Thumbs Up Photos,Men Photos,White Background P...   \n",
       "2  55-59 Years Photos,Gray Background Photos,Men ...   \n",
       "3  Greeting Photos,Arab Culture Photos,Arabia Pho...   \n",
       "4  Men Photos,Plain Background Photos,White Backg...   \n",
       "5  30-39 Years Photos,Abu Dhabi Photos,Adult,Adul...   \n",
       "\n",
       "                                             caption   src  id  Color_Score  \\\n",
       "0  Handsome young man smiling at you and cheering...  1235   1   236.282216   \n",
       "1  Portrait of an ecstatic young man gesturing th...  1235   2   134.036404   \n",
       "2                                                NaN  1235   3   237.725988   \n",
       "3  Portrait, Close up, Middle Eastern Ethnicity, ...  1235   4    22.663100   \n",
       "4  Handsome young man feeling excited while isola...  1235   5   222.931088   \n",
       "5  Portrait, Close up, Middle Eastern Ethnicity, ...  1235   6    22.491856   \n",
       "\n",
       "   Key_Point_Score  \n",
       "0    171200.857941  \n",
       "1    177922.009979  \n",
       "2    187216.127075  \n",
       "3    150654.061563  \n",
       "4    171999.685944  \n",
       "5    176334.843536  "
      ]
     },
     "execution_count": 56,
     "metadata": {},
     "output_type": "execute_result"
    }
   ],
   "source": [
    "related"
   ]
  },
  {
   "cell_type": "code",
   "execution_count": null,
   "metadata": {},
   "outputs": [],
   "source": []
  }
 ],
 "metadata": {
  "environment": {
   "name": "pytorch-gpu.1-4.m48",
   "type": "gcloud",
   "uri": "gcr.io/deeplearning-platform-release/pytorch-gpu.1-4:m48"
  },
  "kernelspec": {
   "display_name": "Python 3",
   "language": "python",
   "name": "python3"
  },
  "language_info": {
   "codemirror_mode": {
    "name": "ipython",
    "version": 3
   },
   "file_extension": ".py",
   "mimetype": "text/x-python",
   "name": "python",
   "nbconvert_exporter": "python",
   "pygments_lexer": "ipython3",
   "version": "3.7.4"
  }
 },
 "nbformat": 4,
 "nbformat_minor": 4
}
