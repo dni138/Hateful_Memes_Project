{
 "cells": [
  {
   "cell_type": "code",
   "execution_count": 1,
   "metadata": {},
   "outputs": [],
   "source": [
    "import numpy as np\n",
    "import pandas as pd\n",
    "import matplotlib.pyplot as plt\n",
    "import json\n",
    "import flair"
   ]
  },
  {
   "cell_type": "code",
   "execution_count": 2,
   "metadata": {},
   "outputs": [],
   "source": [
    "def load_data(path):\n",
    "    data = []\n",
    "    with open(path) as f:\n",
    "        for el in f:\n",
    "            data.append(json.loads(el))\n",
    "            \n",
    "    return data"
   ]
  },
  {
   "cell_type": "code",
   "execution_count": 3,
   "metadata": {},
   "outputs": [],
   "source": [
    "def run_sentiment_classifier(model, data):\n",
    "    for datum in data:\n",
    "        s = flair.data.Sentence(datum['text'])\n",
    "        model.predict(s)\n",
    "        datum['sentiment'] = str(s.labels[0])\n",
    "    \n",
    "    return"
   ]
  },
  {
   "cell_type": "code",
   "execution_count": 4,
   "metadata": {},
   "outputs": [],
   "source": [
    "def count_hate(data):\n",
    "    count_1 = 0\n",
    "    count_0 = 0\n",
    "    for el in data:\n",
    "        if el['label'] == 1:\n",
    "            count_1 += 1\n",
    "        else:\n",
    "            count_0 += 1\n",
    "\n",
    "    print('Not Hateful: {}'.format(count_0))\n",
    "    print('Hateful: {}'.format(count_1))"
   ]
  },
  {
   "cell_type": "code",
   "execution_count": 5,
   "metadata": {},
   "outputs": [],
   "source": [
    "def count_sentiment(data):\n",
    "    count_neg = 0\n",
    "    count_pos = 0\n",
    "    for el in data:\n",
    "        if str(el['sentiment']).split(\" \")[0] == 'NEGATIVE':\n",
    "            count_neg += 1\n",
    "        else:\n",
    "            count_pos += 1\n",
    "\n",
    "    print('Negative: {}'.format(count_neg))\n",
    "    print('Positive: {}'.format(count_pos))"
   ]
  },
  {
   "cell_type": "code",
   "execution_count": 6,
   "metadata": {},
   "outputs": [],
   "source": [
    "def write_data(data, filename):\n",
    "    with open(filename, 'w') as f:\n",
    "        json.dump(data, f)"
   ]
  },
  {
   "cell_type": "code",
   "execution_count": 7,
   "metadata": {},
   "outputs": [],
   "source": [
    "train_data = load_data('data/train.jsonl')\n",
    "dev_data = load_data('data/dev.jsonl')\n",
    "test_data = load_data('data/test.jsonl')"
   ]
  },
  {
   "cell_type": "code",
   "execution_count": 16,
   "metadata": {},
   "outputs": [
    {
     "data": {
      "text/plain": [
       "{'id': 64318,\n",
       " 'img': 'img/64318.png',\n",
       " 'label': 0,\n",
       " 'text': 'when they take too long to blow out the candle'}"
      ]
     },
     "execution_count": 16,
     "metadata": {},
     "output_type": "execute_result"
    }
   ],
   "source": [
    "train_data[28]"
   ]
  },
  {
   "cell_type": "code",
   "execution_count": 17,
   "metadata": {},
   "outputs": [
    {
     "name": "stdout",
     "output_type": "stream",
     "text": [
      "Not Hateful: 5450\n",
      "Hateful: 3050\n"
     ]
    }
   ],
   "source": [
    "count_hate(train_data)"
   ]
  },
  {
   "cell_type": "code",
   "execution_count": 18,
   "metadata": {},
   "outputs": [
    {
     "name": "stdout",
     "output_type": "stream",
     "text": [
      "Not Hateful: 250\n",
      "Hateful: 250\n"
     ]
    }
   ],
   "source": [
    "count_hate(dev_data)"
   ]
  },
  {
   "cell_type": "code",
   "execution_count": 20,
   "metadata": {},
   "outputs": [
    {
     "name": "stdout",
     "output_type": "stream",
     "text": [
      "2020-07-02 16:12:45,361 loading file /Users/nissani/.flair/models/sentiment-en-mix-distillbert.pt\n"
     ]
    }
   ],
   "source": [
    "sentiment_model = flair.models.TextClassifier.load('en-sentiment')"
   ]
  },
  {
   "cell_type": "code",
   "execution_count": 57,
   "metadata": {},
   "outputs": [],
   "source": [
    "run_sentiment_classifier(sentiment_model, train_data)"
   ]
  },
  {
   "cell_type": "code",
   "execution_count": 55,
   "metadata": {},
   "outputs": [],
   "source": [
    "run_sentiment_classifier(sentiment_model, dev_data)"
   ]
  },
  {
   "cell_type": "code",
   "execution_count": 61,
   "metadata": {},
   "outputs": [
    {
     "name": "stdout",
     "output_type": "stream",
     "text": [
      "Negative: 5103\n",
      "Positive: 3397\n"
     ]
    }
   ],
   "source": [
    "count_sentiment(train_results)"
   ]
  },
  {
   "cell_type": "code",
   "execution_count": 62,
   "metadata": {},
   "outputs": [
    {
     "name": "stdout",
     "output_type": "stream",
     "text": [
      "Negative: 281\n",
      "Positive: 219\n"
     ]
    }
   ],
   "source": [
    "count_sentiment(dev_results)"
   ]
  },
  {
   "cell_type": "code",
   "execution_count": 66,
   "metadata": {},
   "outputs": [],
   "source": [
    "write_data(train_results, 'train_data.txt')\n",
    "write_data(dev_results, 'dev_data.txt')"
   ]
  }
 ],
 "metadata": {
  "environment": {
   "name": "pytorch-gpu.1-4.m48",
   "type": "gcloud",
   "uri": "gcr.io/deeplearning-platform-release/pytorch-gpu.1-4:m48"
  },
  "kernelspec": {
   "display_name": "Python 3",
   "language": "python",
   "name": "python3"
  },
  "language_info": {
   "codemirror_mode": {
    "name": "ipython",
    "version": 3
   },
   "file_extension": ".py",
   "mimetype": "text/x-python",
   "name": "python",
   "nbconvert_exporter": "python",
   "pygments_lexer": "ipython3",
   "version": "3.7.6"
  }
 },
 "nbformat": 4,
 "nbformat_minor": 4
}
