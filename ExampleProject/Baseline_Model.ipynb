{
 "cells": [
  {
   "cell_type": "code",
   "execution_count": 3,
   "metadata": {},
   "outputs": [],
   "source": [
    "import numpy as np\n",
    "import pandas as pd\n",
    "import matplotlib.pyplot as plt\n",
    "import seaborn as sns\n",
    "import json\n",
    "import spacy\n",
    "from sklearn.linear_model import LogisticRegression"
   ]
  },
  {
   "cell_type": "code",
   "execution_count": 4,
   "metadata": {},
   "outputs": [],
   "source": [
    "def load_data(file_path):\n",
    "    data = []\n",
    "    with open(file_path) as f:\n",
    "        for el in f:\n",
    "            data.append(json.loads(el))\n",
    "            \n",
    "    return data"
   ]
  },
  {
   "cell_type": "code",
   "execution_count": 5,
   "metadata": {},
   "outputs": [],
   "source": [
    "def create_features(data):\n",
    "    for el in data:\n",
    "        nlp = spacy.load('en_core_web_sm')\n",
    "        doc = nlp(el['text'])\n",
    "        el['vector'] = doc.vector\n",
    "    \n",
    "    return data"
   ]
  },
  {
   "cell_type": "code",
   "execution_count": 6,
   "metadata": {},
   "outputs": [],
   "source": [
    "def format_data(data):\n",
    "    labels = []\n",
    "    for el in data:\n",
    "        labels.append(el['label'])\n",
    "    \n",
    "    train_data = []\n",
    "    for el in data:\n",
    "        train_data.append(el['vector'])\n",
    "    \n",
    "    return labels, train_data"
   ]
  },
  {
   "cell_type": "code",
   "execution_count": 7,
   "metadata": {},
   "outputs": [],
   "source": [
    "def train_model(data):\n",
    "    labels, train_data = generate_labels(data)\n",
    "\n",
    "    model.fit(train_data, labels)\n",
    "    \n",
    "    return model, labels, train_data"
   ]
  },
  {
   "cell_type": "code",
   "execution_count": 8,
   "metadata": {},
   "outputs": [],
   "source": [
    "train_data = load_data('data/train.jsonl')\n",
    "val_data = load_data('data/dev.jsonl')"
   ]
  },
  {
   "cell_type": "code",
   "execution_count": null,
   "metadata": {},
   "outputs": [],
   "source": [
    "train_data = create_features(train_data)\n",
    "val_data = create_features(val_data)"
   ]
  },
  {
   "cell_type": "code",
   "execution_count": null,
   "metadata": {},
   "outputs": [],
   "source": [
    "lr, train_labels, train_vectors = train_model(train_data)"
   ]
  },
  {
   "cell_type": "code",
   "execution_count": null,
   "metadata": {},
   "outputs": [],
   "source": [
    "print('Train Accuracy: {}'.format(lr.score(train_vectors, train_labels)))\n",
    "val_labels, val_vectors = format_data(val_data)\n",
    "print('Validation Accuracy: {}'.format(lr.score(val_vectors, val_labels)))"
   ]
  }
 ],
 "metadata": {
  "kernelspec": {
   "display_name": "Python 3",
   "language": "python",
   "name": "python3"
  },
  "language_info": {
   "codemirror_mode": {
    "name": "ipython",
    "version": 3
   },
   "file_extension": ".py",
   "mimetype": "text/x-python",
   "name": "python",
   "nbconvert_exporter": "python",
   "pygments_lexer": "ipython3",
   "version": "3.7.4"
  }
 },
 "nbformat": 4,
 "nbformat_minor": 4
}
