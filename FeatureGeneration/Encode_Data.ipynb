{
 "cells": [
  {
   "cell_type": "markdown",
   "metadata": {},
   "source": [
    "import pandas "
   ]
  },
  {
   "cell_type": "code",
   "execution_count": 205,
   "metadata": {},
   "outputs": [],
   "source": [
    "import pandas as pd\n",
    "import sentence_encoder"
   ]
  },
  {
   "cell_type": "code",
   "execution_count": 6,
   "metadata": {},
   "outputs": [],
   "source": [
    "bing_data=pd.read_csv(\"../data/bing.csv\",header=None)"
   ]
  },
  {
   "cell_type": "code",
   "execution_count": 132,
   "metadata": {},
   "outputs": [],
   "source": [
    "import numpy as np\n",
    "getty_data_pd=pd.read_csv(\"../data/cleaned_getty_data.csv\",index_col=0)\n",
    "\n",
    "getty_data_pd = getty_data_pd.replace(np.nan, \"\", regex=True)"
   ]
  },
  {
   "cell_type": "code",
   "execution_count": 204,
   "metadata": {},
   "outputs": [],
   "source": [
    "getty_data_pd=getty_data_pd.reset_index()"
   ]
  },
  {
   "cell_type": "code",
   "execution_count": 47,
   "metadata": {},
   "outputs": [],
   "source": []
  },
  {
   "cell_type": "code",
   "execution_count": null,
   "metadata": {},
   "outputs": [],
   "source": [
    "big_encoder=sentence_encoder.SentenceTransform(\"roberta-base-nli-stsb-mean-tokens\")"
   ]
  },
  {
   "cell_type": "code",
   "execution_count": 187,
   "metadata": {},
   "outputs": [],
   "source": [
    "glove_encoder=sentence_encoder.SentenceTransform(\"average_word_embeddings_glove.6B.300d\")"
   ]
  },
  {
   "cell_type": "code",
   "execution_count": 94,
   "metadata": {},
   "outputs": [],
   "source": [
    "mean_caption_embedding=mega.view(6650,768).mean(axis=1)\n",
    "mean_caption_embedding_numpy=[mean_caption_embedding.detach().numpy()]\n",
    "\n"
   ]
  },
  {
   "cell_type": "code",
   "execution_count": 165,
   "metadata": {},
   "outputs": [],
   "source": [
    "#mean for full sentences \n",
    "\n",
    "def embed_mean(word_embedding_model,text_column:list,max_number:int):\n",
    "    counter=0\n",
    "    all_captions=[]\n",
    "    for caption in text_column:\n",
    "        if counter>max_number:\n",
    "            break \n",
    "        if len(caption)==0:\n",
    "            continue\n",
    "        else:\n",
    "            result=big_encoder.extract_text_features_simple([caption])\n",
    "            all_captions.append(result)\n",
    "        counter+=1\n",
    "\n",
    "    mega=torch.Tensor(all_captions)\n",
    "    return mega.view(mega.shape[0],mega.shape[2]).mean(dim=0)\n",
    "\n",
    "\n",
    "def embed_column(word_embedding_model, text_column:list, mean_embedd, max_number:int):\n",
    "    \n",
    "    counter=0\n",
    "    all_captions=[]\n",
    "    for caption in getty_data_pd[\"caption\"].values:\n",
    "        if counter>max_number:\n",
    "            break \n",
    "        if len(caption)==0:\n",
    "            all_captions.append([mean_embedd])\n",
    "\n",
    "        else:\n",
    "            result=big_encoder.extract_text_features_simple([caption])\n",
    "            all_captions.append(result)\n",
    "        counter+=1\n",
    "    return all_captions"
   ]
  },
  {
   "cell_type": "code",
   "execution_count": null,
   "metadata": {},
   "outputs": [],
   "source": [
    "mean_embedding=embed_mean(big_encoder,getty_data_pd[\"caption\"].values,50)\n",
    "all_data=embed_column(big_encoder,getty_data_pd[\"caption\"].values,mean_embedding,15)"
   ]
  },
  {
   "cell_type": "code",
   "execution_count": 211,
   "metadata": {},
   "outputs": [
    {
     "data": {
      "text/plain": [
       "'Opioid   Syringe   Addiction   Despair   Heroin   Addict   Drug Overdose   Recreational Drug   Teenager   IV Drip   Abuse   Adult Amphetamine   Close-Up   Cocaine   Criminal   Danger   Dependency   Depression - Sadness   Emotional Stress   Forbidden   Frustration   Grief   Hand   Healthcare And Medicine   Horizontal   Human Body Part   Human Hand   Illness   Photography   Problems   Risk   Sharp   Snorting   Thailand   Vein   Worried   Photos'"
      ]
     },
     "execution_count": 211,
     "metadata": {},
     "output_type": "execute_result"
    }
   ],
   "source": [
    "getty_data_pd[\"best_tags\"][0]"
   ]
  },
  {
   "cell_type": "code",
   "execution_count": 222,
   "metadata": {},
   "outputs": [],
   "source": [
    "result=glove_encoder.extract_text_features_simple(getty_data_pd[\"best_tags\"][0].replace(\"  \",\" \").split(\" \"))"
   ]
  },
  {
   "cell_type": "code",
   "execution_count": 274,
   "metadata": {},
   "outputs": [],
   "source": [
    "\n",
    "def embed_glove_tags(glove_embedding_model,tag_column_list,mean_embed, max_number):\n",
    "    final_data=[]\n",
    "    for i in range(max_number):\n",
    "        tags_to_look_at=tag_column_list[i]\n",
    "       \n",
    "        \n",
    "        result=_select_tags_glove(glove_embedding_model,tags_to_look_at)\n",
    "  \n",
    "        result=torch.Tensor(result).mean(dim=0).detach().numpy()\n",
    "        final_data.append(result)\n",
    "        \n",
    "    return final_data\n",
    "        \n",
    "def _select_tags_glove(glove_embedding_model,tag_string:str):\n",
    "    #just take out the tags that are actual words \n",
    "    tags=tag_string.replace(\"  \",\" \").split(\" \")\n",
    "\n",
    "    sub_tags=[]\n",
    "    for tag in tags: \n",
    "        if(tag!=\"\"):\n",
    "            sub_tags.append(tag)\n",
    "    \n",
    "    \n",
    "    temp_result=glove_embedding_model.extract_text_features_simple(sub_tags)\n",
    "    final_final=[]\n",
    "\n",
    "    for temp in temp_result:\n",
    "        if temp[0]!=0:\n",
    "  \n",
    "            final_final.append(temp)\n",
    " \n",
    "    return final_final\n",
    "\n"
   ]
  },
  {
   "cell_type": "code",
   "execution_count": 277,
   "metadata": {},
   "outputs": [],
   "source": [
    "result=embed_glove_tags(glove_encoder,getty_data_pd[\"best_tags\"].values,None,1000)"
   ]
  },
  {
   "cell_type": "code",
   "execution_count": 278,
   "metadata": {},
   "outputs": [
    {
     "data": {
      "text/plain": [
       "torch.Size([1000, 300])"
      ]
     },
     "execution_count": 278,
     "metadata": {},
     "output_type": "execute_result"
    }
   ],
   "source": []
  },
  {
   "cell_type": "code",
   "execution_count": 3,
   "metadata": {},
   "outputs": [],
   "source": [
    "cls1=[\"Ethnicity\",\"Religion\",\"Sexual Orientation\",\"Gender\",\"Gender Identity\",\"Disability Disease\",\"Nationality\",\n",
    "      \"Immigration Status\"]\n",
    "ex1=[\"African\",\"Muslim\",\"Lesbian\",\"Male\",\"Transgender\",\"Autistic\",\"Nationality\",\"Migrant\",\"Poor\"]\n",
    "ex2=[\"White\",\"Christian\",\"Gay\",\"Woman\",\"Queer\",\"Cancer\",\"Nationality\",\"Undocumented\",\"Rich\"]\n",
    "    \n",
    "    "
   ]
  },
  {
   "cell_type": "code",
   "execution_count": 4,
   "metadata": {},
   "outputs": [],
   "source": [
    "class ProtectedClassifierSimple():\n",
    "    \n",
    "    def __init__():\n",
    "        cls1=[\"Ethnicity\",\"Religion\",\"Sexual Orientation\",\"Gender\",\"Gender Identity\",\"Disability Disease\",\"Nationality\",\n",
    "      \"Immigration Status\"]\n",
    "        ex1=[\"African\",\"Muslim\",\"Lesbian\",\"Male\",\"Transgender\",\"Autistic\",\"Nationality\",\"Migrant\",\"Poor\"]\n",
    "        ex2=[\"White\",\"Christian\",\"Gay\",\"Woman\",\"Queer\",\"Cancer\",\"Nationality\",\"Undocumented\",\"Rich\"]\n",
    "        \n",
    "        self.class_names=cls1\n",
    "        \n",
    "        self.comparison_names=[]\n",
    "        self.comparison_names.append(ex1)\n",
    "        self.comparison_names.append(ex2)\n",
    "        "
   ]
  },
  {
   "cell_type": "code",
   "execution_count": null,
   "metadata": {},
   "outputs": [],
   "source": []
  }
 ],
 "metadata": {
  "environment": {
   "name": "pytorch-gpu.1-4.m48",
   "type": "gcloud",
   "uri": "gcr.io/deeplearning-platform-release/pytorch-gpu.1-4:m48"
  },
  "kernelspec": {
   "display_name": "Python 3",
   "language": "python",
   "name": "python3"
  },
  "language_info": {
   "codemirror_mode": {
    "name": "ipython",
    "version": 3
   },
   "file_extension": ".py",
   "mimetype": "text/x-python",
   "name": "python",
   "nbconvert_exporter": "python",
   "pygments_lexer": "ipython3",
   "version": "3.7.6"
  }
 },
 "nbformat": 4,
 "nbformat_minor": 4
}
