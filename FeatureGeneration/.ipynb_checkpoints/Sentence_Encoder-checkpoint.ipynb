{
 "cells": [],
 "metadata": {
  "environment": {
   "name": "pytorch-gpu.1-4.m48",
   "type": "gcloud",
   "uri": "gcr.io/deeplearning-platform-release/pytorch-gpu.1-4:m48"
  }
 },
 "nbformat": 4,
 "nbformat_minor": 4
}
