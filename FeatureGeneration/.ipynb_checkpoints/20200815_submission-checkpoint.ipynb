{
<<<<<<< HEAD
  "nbformat": 4,
  "nbformat_minor": 0,
  "metadata": {
    "colab": {
      "name": "naive_model_v3.ipynb",
      "provenance": [],
      "collapsed_sections": [
        "W3QkobJM9osJ",
        "9nXaJyAe9tco",
        "8CdNVoSQXoaf",
        "xDErAJB09SM6"
      ]
    },
    "kernelspec": {
      "name": "python3",
      "display_name": "Python 3"
    },
    "accelerator": "GPU"
  },
  "cells": [
    {
      "cell_type": "markdown",
      "metadata": {
        "id": "W3QkobJM9osJ",
        "colab_type": "text"
      },
      "source": [
        "## Load Packages"
      ]
    },
    {
      "cell_type": "code",
      "metadata": {
        "id": "7nYbKva0wOca",
        "colab_type": "code",
        "colab": {
          "base_uri": "https://localhost:8080/",
          "height": 1000
        },
        "outputId": "daebc4f9-0af9-4447-fa0d-5e78490ea754"
      },
      "source": [
        "!pip install sentence-transformers\n",
        "!pip install fer\n",
        "!pip install torchvision\n",
        "from sentence_transformers import SentenceTransformer"
      ],
      "execution_count": 1,
      "outputs": [
        {
          "output_type": "stream",
          "text": [
            "Requirement already satisfied: sentence-transformers in /usr/local/lib/python3.6/dist-packages (0.3.3)\n",
            "Requirement already satisfied: scikit-learn in /usr/local/lib/python3.6/dist-packages (from sentence-transformers) (0.22.2.post1)\n",
            "Requirement already satisfied: torch>=1.2.0 in /usr/local/lib/python3.6/dist-packages (from sentence-transformers) (1.6.0+cu101)\n",
            "Requirement already satisfied: nltk in /usr/local/lib/python3.6/dist-packages (from sentence-transformers) (3.2.5)\n",
            "Requirement already satisfied: scipy in /usr/local/lib/python3.6/dist-packages (from sentence-transformers) (1.4.1)\n",
            "Requirement already satisfied: transformers>=3.0.2 in /usr/local/lib/python3.6/dist-packages (from sentence-transformers) (3.0.2)\n",
            "Requirement already satisfied: tqdm in /usr/local/lib/python3.6/dist-packages (from sentence-transformers) (4.41.1)\n",
            "Requirement already satisfied: numpy in /usr/local/lib/python3.6/dist-packages (from sentence-transformers) (1.18.5)\n",
            "Requirement already satisfied: joblib>=0.11 in /usr/local/lib/python3.6/dist-packages (from scikit-learn->sentence-transformers) (0.16.0)\n",
            "Requirement already satisfied: future in /usr/local/lib/python3.6/dist-packages (from torch>=1.2.0->sentence-transformers) (0.16.0)\n",
            "Requirement already satisfied: six in /usr/local/lib/python3.6/dist-packages (from nltk->sentence-transformers) (1.15.0)\n",
            "Requirement already satisfied: requests in /usr/local/lib/python3.6/dist-packages (from transformers>=3.0.2->sentence-transformers) (2.23.0)\n",
            "Requirement already satisfied: dataclasses; python_version < \"3.7\" in /usr/local/lib/python3.6/dist-packages (from transformers>=3.0.2->sentence-transformers) (0.7)\n",
            "Requirement already satisfied: tokenizers==0.8.1.rc1 in /usr/local/lib/python3.6/dist-packages (from transformers>=3.0.2->sentence-transformers) (0.8.1rc1)\n",
            "Requirement already satisfied: sacremoses in /usr/local/lib/python3.6/dist-packages (from transformers>=3.0.2->sentence-transformers) (0.0.43)\n",
            "Requirement already satisfied: packaging in /usr/local/lib/python3.6/dist-packages (from transformers>=3.0.2->sentence-transformers) (20.4)\n",
            "Requirement already satisfied: filelock in /usr/local/lib/python3.6/dist-packages (from transformers>=3.0.2->sentence-transformers) (3.0.12)\n",
            "Requirement already satisfied: sentencepiece!=0.1.92 in /usr/local/lib/python3.6/dist-packages (from transformers>=3.0.2->sentence-transformers) (0.1.91)\n",
            "Requirement already satisfied: regex!=2019.12.17 in /usr/local/lib/python3.6/dist-packages (from transformers>=3.0.2->sentence-transformers) (2019.12.20)\n",
            "Requirement already satisfied: urllib3!=1.25.0,!=1.25.1,<1.26,>=1.21.1 in /usr/local/lib/python3.6/dist-packages (from requests->transformers>=3.0.2->sentence-transformers) (1.24.3)\n",
            "Requirement already satisfied: chardet<4,>=3.0.2 in /usr/local/lib/python3.6/dist-packages (from requests->transformers>=3.0.2->sentence-transformers) (3.0.4)\n",
            "Requirement already satisfied: idna<3,>=2.5 in /usr/local/lib/python3.6/dist-packages (from requests->transformers>=3.0.2->sentence-transformers) (2.10)\n",
            "Requirement already satisfied: certifi>=2017.4.17 in /usr/local/lib/python3.6/dist-packages (from requests->transformers>=3.0.2->sentence-transformers) (2020.6.20)\n",
            "Requirement already satisfied: click in /usr/local/lib/python3.6/dist-packages (from sacremoses->transformers>=3.0.2->sentence-transformers) (7.1.2)\n",
            "Requirement already satisfied: pyparsing>=2.0.2 in /usr/local/lib/python3.6/dist-packages (from packaging->transformers>=3.0.2->sentence-transformers) (2.4.7)\n",
            "Requirement already satisfied: fer in /usr/local/lib/python3.6/dist-packages (20.0.0)\n",
            "Requirement already satisfied: opencv-contrib-python in /usr/local/lib/python3.6/dist-packages (from fer) (4.1.2.30)\n",
            "Requirement already satisfied: matplotlib in /usr/local/lib/python3.6/dist-packages (from fer) (3.2.2)\n",
            "Requirement already satisfied: tensorflow>=1.14 in /usr/local/lib/python3.6/dist-packages (from fer) (2.3.0)\n",
            "Requirement already satisfied: mtcnn>=0.1.0 in /usr/local/lib/python3.6/dist-packages (from fer) (0.1.0)\n",
            "Requirement already satisfied: pandas in /usr/local/lib/python3.6/dist-packages (from fer) (1.0.5)\n",
            "Requirement already satisfied: requests in /usr/local/lib/python3.6/dist-packages (from fer) (2.23.0)\n",
            "Requirement already satisfied: keras in /usr/local/lib/python3.6/dist-packages (from fer) (2.4.3)\n",
            "Requirement already satisfied: numpy>=1.11.3 in /usr/local/lib/python3.6/dist-packages (from opencv-contrib-python->fer) (1.18.5)\n",
            "Requirement already satisfied: cycler>=0.10 in /usr/local/lib/python3.6/dist-packages (from matplotlib->fer) (0.10.0)\n",
            "Requirement already satisfied: pyparsing!=2.0.4,!=2.1.2,!=2.1.6,>=2.0.1 in /usr/local/lib/python3.6/dist-packages (from matplotlib->fer) (2.4.7)\n",
            "Requirement already satisfied: python-dateutil>=2.1 in /usr/local/lib/python3.6/dist-packages (from matplotlib->fer) (2.8.1)\n",
            "Requirement already satisfied: kiwisolver>=1.0.1 in /usr/local/lib/python3.6/dist-packages (from matplotlib->fer) (1.2.0)\n",
            "Requirement already satisfied: opt-einsum>=2.3.2 in /usr/local/lib/python3.6/dist-packages (from tensorflow>=1.14->fer) (3.3.0)\n",
            "Requirement already satisfied: tensorboard<3,>=2.3.0 in /usr/local/lib/python3.6/dist-packages (from tensorflow>=1.14->fer) (2.3.0)\n",
            "Requirement already satisfied: wrapt>=1.11.1 in /usr/local/lib/python3.6/dist-packages (from tensorflow>=1.14->fer) (1.12.1)\n",
            "Requirement already satisfied: termcolor>=1.1.0 in /usr/local/lib/python3.6/dist-packages (from tensorflow>=1.14->fer) (1.1.0)\n",
            "Requirement already satisfied: six>=1.12.0 in /usr/local/lib/python3.6/dist-packages (from tensorflow>=1.14->fer) (1.15.0)\n",
            "Requirement already satisfied: tensorflow-estimator<2.4.0,>=2.3.0 in /usr/local/lib/python3.6/dist-packages (from tensorflow>=1.14->fer) (2.3.0)\n",
            "Requirement already satisfied: protobuf>=3.9.2 in /usr/local/lib/python3.6/dist-packages (from tensorflow>=1.14->fer) (3.12.4)\n",
            "Requirement already satisfied: wheel>=0.26 in /usr/local/lib/python3.6/dist-packages (from tensorflow>=1.14->fer) (0.34.2)\n",
            "Requirement already satisfied: keras-preprocessing<1.2,>=1.1.1 in /usr/local/lib/python3.6/dist-packages (from tensorflow>=1.14->fer) (1.1.2)\n",
            "Requirement already satisfied: google-pasta>=0.1.8 in /usr/local/lib/python3.6/dist-packages (from tensorflow>=1.14->fer) (0.2.0)\n",
            "Requirement already satisfied: absl-py>=0.7.0 in /usr/local/lib/python3.6/dist-packages (from tensorflow>=1.14->fer) (0.9.0)\n",
            "Requirement already satisfied: gast==0.3.3 in /usr/local/lib/python3.6/dist-packages (from tensorflow>=1.14->fer) (0.3.3)\n",
            "Requirement already satisfied: h5py<2.11.0,>=2.10.0 in /usr/local/lib/python3.6/dist-packages (from tensorflow>=1.14->fer) (2.10.0)\n",
            "Requirement already satisfied: grpcio>=1.8.6 in /usr/local/lib/python3.6/dist-packages (from tensorflow>=1.14->fer) (1.31.0)\n",
            "Requirement already satisfied: scipy==1.4.1 in /usr/local/lib/python3.6/dist-packages (from tensorflow>=1.14->fer) (1.4.1)\n",
            "Requirement already satisfied: astunparse==1.6.3 in /usr/local/lib/python3.6/dist-packages (from tensorflow>=1.14->fer) (1.6.3)\n",
            "Requirement already satisfied: opencv-python>=4.1.0 in /usr/local/lib/python3.6/dist-packages (from mtcnn>=0.1.0->fer) (4.1.2.30)\n",
            "Requirement already satisfied: pytz>=2017.2 in /usr/local/lib/python3.6/dist-packages (from pandas->fer) (2018.9)\n",
            "Requirement already satisfied: chardet<4,>=3.0.2 in /usr/local/lib/python3.6/dist-packages (from requests->fer) (3.0.4)\n",
            "Requirement already satisfied: idna<3,>=2.5 in /usr/local/lib/python3.6/dist-packages (from requests->fer) (2.10)\n",
            "Requirement already satisfied: certifi>=2017.4.17 in /usr/local/lib/python3.6/dist-packages (from requests->fer) (2020.6.20)\n",
            "Requirement already satisfied: urllib3!=1.25.0,!=1.25.1,<1.26,>=1.21.1 in /usr/local/lib/python3.6/dist-packages (from requests->fer) (1.24.3)\n",
            "Requirement already satisfied: pyyaml in /usr/local/lib/python3.6/dist-packages (from keras->fer) (3.13)\n",
            "Requirement already satisfied: google-auth-oauthlib<0.5,>=0.4.1 in /usr/local/lib/python3.6/dist-packages (from tensorboard<3,>=2.3.0->tensorflow>=1.14->fer) (0.4.1)\n",
            "Requirement already satisfied: tensorboard-plugin-wit>=1.6.0 in /usr/local/lib/python3.6/dist-packages (from tensorboard<3,>=2.3.0->tensorflow>=1.14->fer) (1.7.0)\n",
            "Requirement already satisfied: google-auth<2,>=1.6.3 in /usr/local/lib/python3.6/dist-packages (from tensorboard<3,>=2.3.0->tensorflow>=1.14->fer) (1.17.2)\n",
            "Requirement already satisfied: werkzeug>=0.11.15 in /usr/local/lib/python3.6/dist-packages (from tensorboard<3,>=2.3.0->tensorflow>=1.14->fer) (1.0.1)\n",
            "Requirement already satisfied: setuptools>=41.0.0 in /usr/local/lib/python3.6/dist-packages (from tensorboard<3,>=2.3.0->tensorflow>=1.14->fer) (49.2.0)\n",
            "Requirement already satisfied: markdown>=2.6.8 in /usr/local/lib/python3.6/dist-packages (from tensorboard<3,>=2.3.0->tensorflow>=1.14->fer) (3.2.2)\n",
            "Requirement already satisfied: requests-oauthlib>=0.7.0 in /usr/local/lib/python3.6/dist-packages (from google-auth-oauthlib<0.5,>=0.4.1->tensorboard<3,>=2.3.0->tensorflow>=1.14->fer) (1.3.0)\n",
            "Requirement already satisfied: pyasn1-modules>=0.2.1 in /usr/local/lib/python3.6/dist-packages (from google-auth<2,>=1.6.3->tensorboard<3,>=2.3.0->tensorflow>=1.14->fer) (0.2.8)\n",
            "Requirement already satisfied: cachetools<5.0,>=2.0.0 in /usr/local/lib/python3.6/dist-packages (from google-auth<2,>=1.6.3->tensorboard<3,>=2.3.0->tensorflow>=1.14->fer) (4.1.1)\n",
            "Requirement already satisfied: rsa<5,>=3.1.4; python_version >= \"3\" in /usr/local/lib/python3.6/dist-packages (from google-auth<2,>=1.6.3->tensorboard<3,>=2.3.0->tensorflow>=1.14->fer) (4.6)\n",
            "Requirement already satisfied: importlib-metadata; python_version < \"3.8\" in /usr/local/lib/python3.6/dist-packages (from markdown>=2.6.8->tensorboard<3,>=2.3.0->tensorflow>=1.14->fer) (1.7.0)\n",
            "Requirement already satisfied: oauthlib>=3.0.0 in /usr/local/lib/python3.6/dist-packages (from requests-oauthlib>=0.7.0->google-auth-oauthlib<0.5,>=0.4.1->tensorboard<3,>=2.3.0->tensorflow>=1.14->fer) (3.1.0)\n",
            "Requirement already satisfied: pyasn1<0.5.0,>=0.4.6 in /usr/local/lib/python3.6/dist-packages (from pyasn1-modules>=0.2.1->google-auth<2,>=1.6.3->tensorboard<3,>=2.3.0->tensorflow>=1.14->fer) (0.4.8)\n",
            "Requirement already satisfied: zipp>=0.5 in /usr/local/lib/python3.6/dist-packages (from importlib-metadata; python_version < \"3.8\"->markdown>=2.6.8->tensorboard<3,>=2.3.0->tensorflow>=1.14->fer) (3.1.0)\n",
            "Requirement already satisfied: torchvision in /usr/local/lib/python3.6/dist-packages (0.7.0+cu101)\n",
            "Requirement already satisfied: pillow>=4.1.1 in /usr/local/lib/python3.6/dist-packages (from torchvision) (7.0.0)\n",
            "Requirement already satisfied: numpy in /usr/local/lib/python3.6/dist-packages (from torchvision) (1.18.5)\n",
            "Requirement already satisfied: torch==1.6.0 in /usr/local/lib/python3.6/dist-packages (from torchvision) (1.6.0+cu101)\n",
            "Requirement already satisfied: future in /usr/local/lib/python3.6/dist-packages (from torch==1.6.0->torchvision) (0.16.0)\n"
          ],
          "name": "stdout"
        }
      ]
    },
    {
      "cell_type": "code",
      "metadata": {
        "id": "38xIUfQS7d-1",
        "colab_type": "code",
        "colab": {
          "base_uri": "https://localhost:8080/",
          "height": 71
        },
        "outputId": "96670db2-771a-48a9-a77c-de42099dffff"
      },
      "source": [
        "import numpy as np\n",
        "import pandas as pd\n",
        "import matplotlib.pyplot as plt\n",
        "import torch\n",
        "import torchvision\n",
        "import torchvision.models as models\n",
        "from torchvision import transforms\n",
        "import seaborn as sns\n",
        "import json\n",
        "import cv2\n",
        "import torch.nn as nn\n",
        "import torch.nn.functional as F\n",
        "import pandas as pd\n",
        "from torch.utils import data as data_torch\n",
        "from PIL import Image\n",
        "\n",
        "\n",
        "\n",
        "import os\n",
        "from sklearn.metrics import confusion_matrix\n",
        "from sklearn.metrics import accuracy_score"
      ],
      "execution_count": 2,
      "outputs": [
        {
          "output_type": "stream",
          "text": [
            "/usr/local/lib/python3.6/dist-packages/statsmodels/tools/_testing.py:19: FutureWarning: pandas.util.testing is deprecated. Use the functions in the public API at pandas.testing instead.\n",
            "  import pandas.util.testing as tm\n"
          ],
          "name": "stderr"
        }
      ]
    },
    {
      "cell_type": "code",
      "metadata": {
        "id": "hW7mNGBL7hD9",
        "colab_type": "code",
        "colab": {
          "base_uri": "https://localhost:8080/",
          "height": 34
        },
        "outputId": "b16548d0-60a1-4ec3-bde3-845cba5886a4"
      },
      "source": [
        "model_text=SentenceTransformer('bert-base-nli-mean-tokens')\n",
        "#model_text=SentenceTransformer('roberta-large-nli-stsb-mean-tokens')"
      ],
      "execution_count": 4,
      "outputs": [
        {
          "output_type": "stream",
          "text": [
            "100%|██████████| 405M/405M [00:23<00:00, 17.2MB/s]\n"
          ],
          "name": "stderr"
        }
      ]
    },
    {
      "cell_type": "code",
      "metadata": {
        "id": "1T-v5dP7DkT-",
        "colab_type": "code",
        "colab": {}
      },
      "source": [
        "# from transformers import GPT2LMHeadModel, GPT2Tokenizer\n",
        "\n",
        "# model = GPT2LMHeadModel.from_pretrained('gpt2')  # or any other checkpoint\n",
        "# word_embeddings = model.transformer.wte.weight  # Word Token Embeddings \n",
        "# position_embeddings = model.transformer.wpe.weight  # Word Position Embeddings "
      ],
      "execution_count": null,
      "outputs": []
    },
    {
      "cell_type": "code",
      "metadata": {
        "id": "UNBLoenCEIkp",
        "colab_type": "code",
        "colab": {}
      },
      "source": [
        "# tokenizer = GPT2Tokenizer.from_pretrained('gpt2')\n",
        "# text_index = tokenizer.encode('poop time',add_prefix_space=True)\n",
        "# vector = model.transformer.wte.weight[text_index,:]\n",
        "# # read this https://github.com/huggingface/transformers/issues/3168"
      ],
      "execution_count": null,
      "outputs": []
    },
    {
      "cell_type": "code",
      "metadata": {
        "id": "PezjHaPxEZle",
        "colab_type": "code",
        "colab": {}
      },
      "source": [
        "# vector.shape"
      ],
      "execution_count": null,
      "outputs": []
    },
    {
      "cell_type": "code",
      "metadata": {
        "id": "aM83PByG8R9S",
        "colab_type": "code",
        "colab": {
          "base_uri": "https://localhost:8080/",
          "height": 122
        },
        "outputId": "cb4d2fa9-a359-4a89-90a8-a4dd48f597e7"
      },
      "source": [
        "from google.colab import drive\n",
        "drive.mount('/content/gdrive')\n",
        "saved_path='/content/gdrive/My Drive/colab/data_sources/'\n",
        "import os"
      ],
      "execution_count": 5,
      "outputs": [
        {
          "output_type": "stream",
          "text": [
            "Go to this URL in a browser: https://accounts.google.com/o/oauth2/auth?client_id=947318989803-6bn6qk8qdgf4n4g3pfee6491hc0brc4i.apps.googleusercontent.com&redirect_uri=urn%3aietf%3awg%3aoauth%3a2.0%3aoob&scope=email%20https%3a%2f%2fwww.googleapis.com%2fauth%2fdocs.test%20https%3a%2f%2fwww.googleapis.com%2fauth%2fdrive%20https%3a%2f%2fwww.googleapis.com%2fauth%2fdrive.photos.readonly%20https%3a%2f%2fwww.googleapis.com%2fauth%2fpeopleapi.readonly&response_type=code\n",
            "\n",
            "Enter your authorization code:\n",
            "··········\n",
            "Mounted at /content/gdrive\n"
          ],
          "name": "stdout"
        }
      ]
    },
    {
      "cell_type": "code",
      "metadata": {
        "id": "yR6HlBUH8dm-",
        "colab_type": "code",
        "colab": {}
      },
      "source": [
        "# image_ex_path=\"/content/gdrive/My Drive/colab/data_sources/hateful_memes/img/01235.png\"\n",
        "# data_ex_path=\"/content/gdrive/My Drive/colab/data_sources/hateful_memes/train.jsonl\"\n",
        "# # bert_path=\"~/Documents/hateful_memes/Hateful_Memes_Project/ExampleProject/data/language_models/bert_base\""
      ],
      "execution_count": 9,
      "outputs": []
    },
    {
      "cell_type": "code",
      "metadata": {
        "id": "7hR_SfAe7oTq",
        "colab_type": "code",
        "colab": {}
      },
      "source": [
        "path = \"/content/gdrive/My Drive/colab/data_sources/hateful_memes/img/*.png\"\n"
      ],
      "execution_count": 6,
      "outputs": []
    },
    {
      "cell_type": "markdown",
      "metadata": {
        "id": "9nXaJyAe9tco",
        "colab_type": "text"
      },
      "source": [
        "## Define Feature Extraction Methods"
      ]
    },
    {
      "cell_type": "code",
      "metadata": {
        "id": "x5VBW9L8aZrC",
        "colab_type": "code",
        "colab": {}
      },
      "source": [
        "def extract_image_features_stupid(data, model, size):\n",
        "    '''\n",
        "    THIS NEEDS TO BE DONE IN BATCHES OR YOU'LL RUN OUT OF MEMORY\n",
        "    Converts. resnet features about. animals for use in our meme model \n",
        "    '''\n",
        "    transform = transforms.Compose(\n",
        "    [transforms.Resize(size),transforms.ToTensor(),\n",
        "     transforms.Normalize((0.5, 0.5, 0.5), (0.5, 0.5, 0.5))])\n",
        "    \n",
        "    image_transformed=torch.empty(len(data),3,size[0],size[1])\n",
        "    \n",
        "    for image_counter in range(len(data)):  \n",
        "        img_mod=transform(data[image_counter]) \n",
        "        image_transformed[image_counter]=img_mod\n",
        "        image_transformed[image_counter]\n",
        "    \n",
        "    return model(image_transformed).detach()\n"
      ],
      "execution_count": 7,
      "outputs": []
    },
    {
      "cell_type": "code",
      "metadata": {
        "id": "FuTpGBQR3aGh",
        "colab_type": "code",
        "colab": {}
      },
      "source": [
        "def extract_image_features_rcnn(data, threshold):\n",
        "    '''\n",
        "    '''\n",
        "    import json\n",
        "    with open('/content/gdrive/My Drive/colab/data_sources/hateful_memes/rcnn_mapping.json') as f:\n",
        "      rcnn_mapping = json.load(f)\n",
        "    \n",
        "    with open('/content/gdrive/My Drive/colab/data_sources/hateful_memes/img_rcnn_data.json') as f:\n",
        "      img_data = json.load(f)\n",
        "\n",
        "    img_rcnn_features=[]\n",
        "    \n",
        "    for img in data:\n",
        "      # print(img.get('img'))\n",
        "\n",
        "      file_name=os.path.basename(img.get('img'))\n",
        "      img_features=img_data.get(file_name)\n",
        "\n",
        "      img_feature_list=[]\n",
        "\n",
        "      try:\n",
        "        for feature in img_features:\n",
        "          # print(file_name, feature)\n",
        "          if feature[1]>=threshold:\n",
        "            img_feature_list.append(rcnn_mapping.get(str(feature[0])))\n",
        "      except:\n",
        "        pass\n",
        "      # print(img_feature_list)\n",
        "      # img_rcnn_features[file_name]=img_feature_list\n",
        "      img_feature_str = ''.join(img_feature_list)\n",
        "      img_rcnn_features.append(img_feature_str)\n",
        "    # img_features=rcnn_mapping.get(file_name)\n",
        "    # print(file_name, img_features)\n",
        "    return extract_text_features_simple([d for d in img_rcnn_features],model_text)\n",
        "    \n",
        "    "
      ],
      "execution_count": 8,
      "outputs": []
    },
    {
      "cell_type": "code",
      "metadata": {
        "id": "ojG-c9JZaZvZ",
        "colab_type": "code",
        "colab": {}
      },
      "source": [
        "def extract_text_features_simple(data, model):\n",
        "    return model.encode(data)\n"
      ],
      "execution_count": 9,
      "outputs": []
    },
    {
      "cell_type": "code",
      "metadata": {
        "id": "_ZCepb3UabSp",
        "colab_type": "code",
        "colab": {}
      },
      "source": [
        "def writeFiles(path:str,title:str,desc:[[]],  img_features:[[]],numpy_form_txts:[[]], getty_caption_numpy_form_txts:[[]], getty_tag_numpy_form_txts:[[]]\n",
        "               ):\n",
        "\n",
        "    results=pd.DataFrame(numpy_form_txts)\n",
        "    results.to_csv(os.path.join(path,title+\"text_features.csv\"),sep=\",\")\n",
        "    \n",
        "    results=pd.DataFrame(desc)\n",
        "    results.to_csv(os.path.join(path,title+\"description.csv\"),sep=\",\")\n",
        "    \n",
        "    results=pd.DataFrame(img_features)\n",
        "    results.to_csv(os.path.join(path,title+\"image_features.csv\"),sep=\",\")\n",
        "\n",
        "    results=pd.DataFrame(getty_caption_numpy_form_txts)\n",
        "    results.to_csv(os.path.join(path,title+\"getty_caption_features.csv\"),sep=\",\")\n",
        "\n",
        "    results=pd.DataFrame(getty_tag_numpy_form_txts)\n",
        "    results.to_csv(os.path.join(path,title+\"getty_tag_features.csv\"),sep=\",\")\n"
      ],
      "execution_count": 10,
      "outputs": []
    },
    {
      "cell_type": "code",
      "metadata": {
        "id": "ohTj6c1bbcVQ",
        "colab_type": "code",
        "colab": {}
      },
      "source": [
        "image_ex_path=\"/content/gdrive/My Drive/colab/data_sources/hateful_memes/\"\n",
        "data_ex_path=\"/content/gdrive/My Drive/colab/data_sources/hateful_memes/train.jsonl\"\n",
        "    # bert_path=\"/home/jupyter/ThreeDAnime/bert_folder\"\n",
        "featurized_data_path=\"/content/gdrive/My Drive/colab/data_sources/hateful_memes/\"\n",
        "inception = models.resnet18()\n",
        "\n",
        "data = []\n",
        "\n",
        "with open(data_ex_path) as f:\n",
        "  for el in f:\n",
        "    data.append(json.loads(el))"
      ],
      "execution_count": 11,
      "outputs": []
    },
    {
      "cell_type": "code",
      "metadata": {
        "id": "tMbrOu7vbpNw",
        "colab_type": "code",
        "colab": {
          "base_uri": "https://localhost:8080/",
          "height": 0
        },
        "outputId": "a28794ed-ccd9-4aa2-e42b-4345424d29a7"
      },
      "source": [
        "# data=data[0:20]\n",
        "len(data)"
      ],
      "execution_count": 12,
      "outputs": [
        {
          "output_type": "execute_result",
          "data": {
            "text/plain": [
              "8500"
            ]
          },
          "metadata": {
            "tags": []
          },
          "execution_count": 12
        }
      ]
    },
    {
      "cell_type": "markdown",
      "metadata": {
        "id": "8CdNVoSQXoaf",
        "colab_type": "text"
      },
      "source": [
        "## Experiment with FER Emotion Labels"
      ]
    },
    {
      "cell_type": "code",
      "metadata": {
        "id": "gAgpba2aAi7C",
        "colab_type": "code",
        "colab": {
          "base_uri": "https://localhost:8080/",
          "height": 258
        },
        "outputId": "52546ba0-4e6a-443d-bea2-294a6447dd5a"
      },
      "source": [
        "from fer import FER\n",
        "import cv2\n",
        "import os\n",
        "\n",
        "image_path='/content/gdrive/My Drive/colab/data_sources/hateful_memes/img/96354.png'\n",
        "\n",
        "img = cv2.imread(image_path)\n",
        "image_name=os.path.basename(image_path)\n",
        "detector = FER()\n",
        "emotion_label=detector.detect_emotions(img)\n",
        "print(emotion_label)"
      ],
      "execution_count": null,
      "outputs": [
        {
          "output_type": "stream",
          "text": [
            "WARNING:tensorflow:From /usr/local/lib/python3.6/dist-packages/tensorflow/python/compat/v2_compat.py:96: disable_resource_variables (from tensorflow.python.ops.variable_scope) is deprecated and will be removed in a future version.\n",
            "Instructions for updating:\n",
            "non-resource variables are not supported in the long term\n"
          ],
          "name": "stdout"
        },
        {
          "output_type": "stream",
          "text": [
            "WARNING:tensorflow:From /usr/local/lib/python3.6/dist-packages/tensorflow/python/compat/v2_compat.py:96: disable_resource_variables (from tensorflow.python.ops.variable_scope) is deprecated and will be removed in a future version.\n",
            "Instructions for updating:\n",
            "non-resource variables are not supported in the long term\n"
          ],
          "name": "stderr"
        },
        {
          "output_type": "stream",
          "text": [
            "WARNING:tensorflow:From /usr/local/lib/python3.6/dist-packages/tensorflow/python/ops/resource_variable_ops.py:1666: calling BaseResourceVariable.__init__ (from tensorflow.python.ops.resource_variable_ops) with constraint is deprecated and will be removed in a future version.\n",
            "Instructions for updating:\n",
            "If using Keras pass *_constraint arguments to layers.\n"
          ],
          "name": "stdout"
        },
        {
          "output_type": "stream",
          "text": [
            "WARNING:tensorflow:From /usr/local/lib/python3.6/dist-packages/tensorflow/python/ops/resource_variable_ops.py:1666: calling BaseResourceVariable.__init__ (from tensorflow.python.ops.resource_variable_ops) with constraint is deprecated and will be removed in a future version.\n",
            "Instructions for updating:\n",
            "If using Keras pass *_constraint arguments to layers.\n"
          ],
          "name": "stderr"
        },
        {
          "output_type": "stream",
          "text": [
            "[]\n"
          ],
          "name": "stdout"
        }
      ]
    },
    {
      "cell_type": "code",
      "metadata": {
        "id": "6Bu4eiR2EwPH",
        "colab_type": "code",
        "colab": {}
      },
      "source": [
        "def convert(o):\n",
        "    if isinstance(o, np.int64): return float(o)  \n",
        "    "
      ],
      "execution_count": null,
      "outputs": []
    },
    {
      "cell_type": "code",
      "metadata": {
        "id": "E6h18_Lq9352",
        "colab_type": "code",
        "colab": {
          "base_uri": "https://localhost:8080/",
          "height": 170
        },
        "outputId": "e957d67d-719b-4ca9-c22a-cd6f3a49b38c"
      },
      "source": [
        "img = cv2.imread('/content/gdrive/My Drive/colab/data_sources/hateful_memes/img/37408.png')\n",
        "detector = FER()\n",
        "detector.detect_emotions(img)"
      ],
      "execution_count": null,
      "outputs": [
        {
          "output_type": "execute_result",
          "data": {
            "text/plain": [
              "[OrderedDict([('box', (424, 503, 90, 90)),\n",
              "              ('emotions',\n",
              "               {'angry': 0.02,\n",
              "                'disgust': 0.0,\n",
              "                'fear': 0.06,\n",
              "                'happy': 0.05,\n",
              "                'neutral': 0.46,\n",
              "                'sad': 0.36,\n",
              "                'surprise': 0.05})])]"
            ]
          },
          "metadata": {
            "tags": []
          },
          "execution_count": 16
        }
      ]
    },
    {
      "cell_type": "code",
      "metadata": {
        "id": "Tc3t9D7N-jlO",
        "colab_type": "code",
        "colab": {
          "base_uri": "https://localhost:8080/",
          "height": 85
        },
        "outputId": "48f964e2-eaff-48c0-9543-55e52534f0eb"
      },
      "source": [
        "# def extract_emotions(data, threshold):\n",
        "\n",
        "from fer import FER\n",
        "import cv2\n",
        "import glob\n",
        "import os\n",
        "import json\n",
        "\n",
        "\n",
        "emotions=[]\n",
        "img_emotion_dict={}\n",
        "\n",
        "path = \"/content/gdrive/My Drive/colab/data_sources/hateful_memes/img/*.png\"\n",
        "\n",
        "for image_path in glob.glob(path):\n",
        "  try:\n",
        "    img = cv2.imread(image_path)\n",
        "    image_name=os.path.basename(image_path)\n",
        "    detector = FER()\n",
        "    emotion_label=detector.detect_emotions(img)\n",
        "\n",
        "    img_emotion_dict[image_name]=emotion_label\n",
        "    emotions.append(emotion_label)\n",
        "\n",
        "  except:\n",
        "    print(\"Error \", image_path)\n",
        "\n",
        "\n",
        "\n",
        "\n",
        "save_obj(img_emotion_dict)"
      ],
      "execution_count": null,
      "outputs": [
        {
          "output_type": "stream",
          "text": [
            "Error  /content/gdrive/My Drive/colab/data_sources/hateful_memes/img/29051.png\n",
            "Error  /content/gdrive/My Drive/colab/data_sources/hateful_memes/img/37052.png\n",
            "Error  /content/gdrive/My Drive/colab/data_sources/hateful_memes/img/09467.png\n",
            "Error  /content/gdrive/My Drive/colab/data_sources/hateful_memes/img/28964.png\n"
          ],
          "name": "stdout"
        }
      ]
    },
    {
      "cell_type": "code",
      "metadata": {
        "id": "lmu09A0EAuk8",
        "colab_type": "code",
        "colab": {
          "base_uri": "https://localhost:8080/",
          "height": 329
        },
        "outputId": "a42ca52d-4925-4054-9864-b98f86dd0606"
      },
      "source": [
        "img_emotion_dict"
      ],
      "execution_count": null,
      "outputs": [
        {
          "output_type": "execute_result",
          "data": {
            "text/plain": [
              "{'56482.png': [OrderedDict([('box', (424, 503, 90, 90)),\n",
              "               ('emotions',\n",
              "                {'angry': 0.02,\n",
              "                 'disgust': 0.0,\n",
              "                 'fear': 0.06,\n",
              "                 'happy': 0.05,\n",
              "                 'neutral': 0.46,\n",
              "                 'sad': 0.36,\n",
              "                 'surprise': 0.05})])],\n",
              " '60183.png': [OrderedDict([('box', (424, 503, 90, 90)),\n",
              "               ('emotions',\n",
              "                {'angry': 0.02,\n",
              "                 'disgust': 0.0,\n",
              "                 'fear': 0.06,\n",
              "                 'happy': 0.05,\n",
              "                 'neutral': 0.46,\n",
              "                 'sad': 0.36,\n",
              "                 'surprise': 0.05})])]}"
            ]
          },
          "metadata": {
            "tags": []
          },
          "execution_count": 19
        }
      ]
    },
    {
      "cell_type": "code",
      "metadata": {
        "id": "FUszRqUKIBc1",
        "colab_type": "code",
        "colab": {}
      },
      "source": [
        "# !pip install pickle\n",
        "import pickle"
      ],
      "execution_count": null,
      "outputs": []
    },
    {
      "cell_type": "code",
      "metadata": {
        "id": "HMc0aKO-Hnrg",
        "colab_type": "code",
        "colab": {}
      },
      "source": [
        "def save_obj(obj, name='img_emotion_data'):\n",
        "    with open('/content/gdrive/My Drive/colab/data_sources/hateful_memes/'+ name + '.pkl', 'wb') as f:\n",
        "        pickle.dump(obj, f, pickle.HIGHEST_PROTOCOL)"
      ],
      "execution_count": null,
      "outputs": []
    },
    {
      "cell_type": "code",
      "metadata": {
        "id": "T2TskIwtFvhM",
        "colab_type": "code",
        "colab": {}
      },
      "source": [
        "with open('/content/gdrive/My Drive/colab/data_sources/hateful_memes/img_emotion_data.json', 'w') as fp:\n",
        "  json.dump(img_emotion_dict, fp, default=convert)"
      ],
      "execution_count": null,
      "outputs": []
    },
    {
      "cell_type": "code",
      "metadata": {
        "id": "EgGFZyGjDIty",
        "colab_type": "code",
        "colab": {}
      },
      "source": [
        "with open('outputfile_2', 'w') as file:\n",
        "    file.write(json.dumps(logic_steps, indent=4))\n"
      ],
      "execution_count": null,
      "outputs": []
    },
    {
      "cell_type": "code",
      "metadata": {
        "id": "uDFe3nmixXKl",
        "colab_type": "code",
        "colab": {}
      },
      "source": [
        "save_obj(img_emotion_dict)"
      ],
      "execution_count": null,
      "outputs": []
    },
    {
      "cell_type": "code",
      "metadata": {
        "id": "KqkumYVmxwoP",
        "colab_type": "code",
        "colab": {}
      },
      "source": [
        "test = pickle.load( open( \"/content/gdrive/My Drive/colab/data_sources/hateful_memes/img_emotion_data.pkl\", \"rb\" ) )"
      ],
      "execution_count": null,
      "outputs": []
    },
    {
      "cell_type": "code",
      "metadata": {
        "id": "KhiGzSZNyG88",
        "colab_type": "code",
        "colab": {
          "base_uri": "https://localhost:8080/",
          "height": 173
        },
        "outputId": "69daab99-88d7-482d-d008-bf18140cb632"
      },
      "source": [
        "test['56482.png']"
      ],
      "execution_count": null,
      "outputs": [
        {
          "output_type": "execute_result",
          "data": {
            "text/plain": [
              "[OrderedDict([('box', (424, 503, 90, 90)),\n",
              "              ('emotions',\n",
              "               {'angry': 0.02,\n",
              "                'disgust': 0.0,\n",
              "                'fear': 0.06,\n",
              "                'happy': 0.05,\n",
              "                'neutral': 0.46,\n",
              "                'sad': 0.36,\n",
              "                'surprise': 0.05})])]"
            ]
          },
          "metadata": {
            "tags": []
          },
          "execution_count": 26
        }
      ]
    },
    {
      "cell_type": "markdown",
      "metadata": {
        "id": "xDErAJB09SM6",
        "colab_type": "text"
      },
      "source": [
        "## Run Simple Feature Extraction"
      ]
    },
    {
      "cell_type": "code",
      "metadata": {
        "id": "dWniyfT_b2ZK",
        "colab_type": "code",
        "colab": {
          "base_uri": "https://localhost:8080/",
          "height": 868
        },
        "outputId": "ff06400c-4c94-4e80-9dbb-1a452afee54d"
      },
      "source": [
        "desc=[]\n",
        "numpy_form_txts=[]\n",
        "numpy_form_ims=[]\n",
        "\n",
        "for i in range(len(data)):\n",
        "  try:\n",
        "    im=Image.open(os.path.join(image_ex_path,data[i][\"img\"]))\n",
        "    numpy_form_im=extract_image_features_stupid([im],inception, (299,299))[0].detach().numpy()\n",
        "    numpy_form_ims.append(numpy_form_im)\n",
        "    label=data[i][\"label\"]\n",
        "\n",
        "    text= data[i][\"text\"]\n",
        "\n",
        "    numpy_form_txt=extract_text_features_simple([text],model_text)[0]\n",
        "    numpy_form_txts.append(numpy_form_txt)\n",
        "    if(i%10)==0:\n",
        "        print(i)\n",
        "    desc.append([text,label])\n",
        "  except:\n",
        "    print(\"failure at\"+str(i))\n",
        "  \n",
        "  writeFiles(featurized_data_path, \"simple_\",desc,numpy_form_ims,numpy_form_txts)"
      ],
      "execution_count": null,
      "outputs": [
        {
          "output_type": "stream",
          "text": [
            "failure at0\n",
            "failure at1\n",
            "failure at2\n",
            "failure at3\n",
            "failure at4\n",
            "failure at5\n",
            "failure at6\n",
            "failure at7\n",
            "failure at8\n",
            "failure at9\n",
            "failure at10\n",
            "failure at11\n",
            "failure at12\n",
            "failure at13\n",
            "failure at14\n",
            "failure at15\n",
            "failure at16\n",
            "failure at17\n",
            "failure at18\n",
            "failure at19\n",
            "failure at20\n",
            "failure at21\n",
            "failure at22\n",
            "failure at23\n",
            "failure at24\n",
            "failure at25\n",
            "failure at26\n",
            "failure at27\n",
            "failure at28\n",
            "failure at29\n",
            "failure at30\n"
          ],
          "name": "stdout"
        },
        {
          "output_type": "error",
          "ename": "KeyboardInterrupt",
          "evalue": "ignored",
          "traceback": [
            "\u001b[0;31m---------------------------------------------------------------------------\u001b[0m",
            "\u001b[0;31mKeyboardInterrupt\u001b[0m                         Traceback (most recent call last)",
            "\u001b[0;32m<ipython-input-14-569f5b72b5d2>\u001b[0m in \u001b[0;36m<module>\u001b[0;34m()\u001b[0m\n\u001b[1;32m     20\u001b[0m     \u001b[0mprint\u001b[0m\u001b[0;34m(\u001b[0m\u001b[0;34m\"failure at\"\u001b[0m\u001b[0;34m+\u001b[0m\u001b[0mstr\u001b[0m\u001b[0;34m(\u001b[0m\u001b[0mi\u001b[0m\u001b[0;34m)\u001b[0m\u001b[0;34m)\u001b[0m\u001b[0;34m\u001b[0m\u001b[0;34m\u001b[0m\u001b[0m\n\u001b[1;32m     21\u001b[0m \u001b[0;34m\u001b[0m\u001b[0m\n\u001b[0;32m---> 22\u001b[0;31m   \u001b[0mwriteFiles\u001b[0m\u001b[0;34m(\u001b[0m\u001b[0mfeaturized_data_path\u001b[0m\u001b[0;34m,\u001b[0m \u001b[0;34m\"simple_\"\u001b[0m\u001b[0;34m,\u001b[0m\u001b[0mdesc\u001b[0m\u001b[0;34m,\u001b[0m\u001b[0mnumpy_form_ims\u001b[0m\u001b[0;34m,\u001b[0m\u001b[0mnumpy_form_txts\u001b[0m\u001b[0;34m)\u001b[0m\u001b[0;34m\u001b[0m\u001b[0;34m\u001b[0m\u001b[0m\n\u001b[0m",
            "\u001b[0;32m<ipython-input-10-9fe940b9987e>\u001b[0m in \u001b[0;36mwriteFiles\u001b[0;34m(path, title, desc, img_features, numpy_form_txts)\u001b[0m\n\u001b[1;32m      7\u001b[0m     \u001b[0mresults\u001b[0m\u001b[0;34m.\u001b[0m\u001b[0mto_csv\u001b[0m\u001b[0;34m(\u001b[0m\u001b[0mos\u001b[0m\u001b[0;34m.\u001b[0m\u001b[0mpath\u001b[0m\u001b[0;34m.\u001b[0m\u001b[0mjoin\u001b[0m\u001b[0;34m(\u001b[0m\u001b[0mpath\u001b[0m\u001b[0;34m,\u001b[0m\u001b[0mtitle\u001b[0m\u001b[0;34m+\u001b[0m\u001b[0;34m\"description.csv\"\u001b[0m\u001b[0;34m)\u001b[0m\u001b[0;34m,\u001b[0m\u001b[0msep\u001b[0m\u001b[0;34m=\u001b[0m\u001b[0;34m\",\"\u001b[0m\u001b[0;34m)\u001b[0m\u001b[0;34m\u001b[0m\u001b[0;34m\u001b[0m\u001b[0m\n\u001b[1;32m      8\u001b[0m \u001b[0;34m\u001b[0m\u001b[0m\n\u001b[0;32m----> 9\u001b[0;31m     \u001b[0mresults\u001b[0m\u001b[0;34m=\u001b[0m\u001b[0mpd\u001b[0m\u001b[0;34m.\u001b[0m\u001b[0mDataFrame\u001b[0m\u001b[0;34m(\u001b[0m\u001b[0mimg_features\u001b[0m\u001b[0;34m)\u001b[0m\u001b[0;34m\u001b[0m\u001b[0;34m\u001b[0m\u001b[0m\n\u001b[0m\u001b[1;32m     10\u001b[0m     \u001b[0mresults\u001b[0m\u001b[0;34m.\u001b[0m\u001b[0mto_csv\u001b[0m\u001b[0;34m(\u001b[0m\u001b[0mos\u001b[0m\u001b[0;34m.\u001b[0m\u001b[0mpath\u001b[0m\u001b[0;34m.\u001b[0m\u001b[0mjoin\u001b[0m\u001b[0;34m(\u001b[0m\u001b[0mpath\u001b[0m\u001b[0;34m,\u001b[0m\u001b[0mtitle\u001b[0m\u001b[0;34m+\u001b[0m\u001b[0;34m\"image_features.csv\"\u001b[0m\u001b[0;34m)\u001b[0m\u001b[0;34m,\u001b[0m\u001b[0msep\u001b[0m\u001b[0;34m=\u001b[0m\u001b[0;34m\",\"\u001b[0m\u001b[0;34m)\u001b[0m\u001b[0;34m\u001b[0m\u001b[0;34m\u001b[0m\u001b[0m\n",
            "\u001b[0;32m/usr/local/lib/python3.6/dist-packages/pandas/core/frame.py\u001b[0m in \u001b[0;36m__init__\u001b[0;34m(self, data, index, columns, dtype, copy)\u001b[0m\n\u001b[1;32m    484\u001b[0m                             \u001b[0mindex\u001b[0m \u001b[0;34m=\u001b[0m \u001b[0mibase\u001b[0m\u001b[0;34m.\u001b[0m\u001b[0mdefault_index\u001b[0m\u001b[0;34m(\u001b[0m\u001b[0mlen\u001b[0m\u001b[0;34m(\u001b[0m\u001b[0mdata\u001b[0m\u001b[0;34m)\u001b[0m\u001b[0;34m)\u001b[0m\u001b[0;34m\u001b[0m\u001b[0;34m\u001b[0m\u001b[0m\n\u001b[1;32m    485\u001b[0m \u001b[0;34m\u001b[0m\u001b[0m\n\u001b[0;32m--> 486\u001b[0;31m                     \u001b[0mmgr\u001b[0m \u001b[0;34m=\u001b[0m \u001b[0marrays_to_mgr\u001b[0m\u001b[0;34m(\u001b[0m\u001b[0marrays\u001b[0m\u001b[0;34m,\u001b[0m \u001b[0mcolumns\u001b[0m\u001b[0;34m,\u001b[0m \u001b[0mindex\u001b[0m\u001b[0;34m,\u001b[0m \u001b[0mcolumns\u001b[0m\u001b[0;34m,\u001b[0m \u001b[0mdtype\u001b[0m\u001b[0;34m=\u001b[0m\u001b[0mdtype\u001b[0m\u001b[0;34m)\u001b[0m\u001b[0;34m\u001b[0m\u001b[0;34m\u001b[0m\u001b[0m\n\u001b[0m\u001b[1;32m    487\u001b[0m                 \u001b[0;32melse\u001b[0m\u001b[0;34m:\u001b[0m\u001b[0;34m\u001b[0m\u001b[0;34m\u001b[0m\u001b[0m\n\u001b[1;32m    488\u001b[0m                     \u001b[0mmgr\u001b[0m \u001b[0;34m=\u001b[0m \u001b[0minit_ndarray\u001b[0m\u001b[0;34m(\u001b[0m\u001b[0mdata\u001b[0m\u001b[0;34m,\u001b[0m \u001b[0mindex\u001b[0m\u001b[0;34m,\u001b[0m \u001b[0mcolumns\u001b[0m\u001b[0;34m,\u001b[0m \u001b[0mdtype\u001b[0m\u001b[0;34m=\u001b[0m\u001b[0mdtype\u001b[0m\u001b[0;34m,\u001b[0m \u001b[0mcopy\u001b[0m\u001b[0;34m=\u001b[0m\u001b[0mcopy\u001b[0m\u001b[0;34m)\u001b[0m\u001b[0;34m\u001b[0m\u001b[0;34m\u001b[0m\u001b[0m\n",
            "\u001b[0;32m/usr/local/lib/python3.6/dist-packages/pandas/core/internals/construction.py\u001b[0m in \u001b[0;36marrays_to_mgr\u001b[0;34m(arrays, arr_names, index, columns, dtype)\u001b[0m\n\u001b[1;32m     67\u001b[0m \u001b[0;34m\u001b[0m\u001b[0m\n\u001b[1;32m     68\u001b[0m     \u001b[0;31m# don't force copy because getting jammed in an ndarray anyway\u001b[0m\u001b[0;34m\u001b[0m\u001b[0;34m\u001b[0m\u001b[0;34m\u001b[0m\u001b[0m\n\u001b[0;32m---> 69\u001b[0;31m     \u001b[0marrays\u001b[0m \u001b[0;34m=\u001b[0m \u001b[0m_homogenize\u001b[0m\u001b[0;34m(\u001b[0m\u001b[0marrays\u001b[0m\u001b[0;34m,\u001b[0m \u001b[0mindex\u001b[0m\u001b[0;34m,\u001b[0m \u001b[0mdtype\u001b[0m\u001b[0;34m)\u001b[0m\u001b[0;34m\u001b[0m\u001b[0;34m\u001b[0m\u001b[0m\n\u001b[0m\u001b[1;32m     70\u001b[0m \u001b[0;34m\u001b[0m\u001b[0m\n\u001b[1;32m     71\u001b[0m     \u001b[0;31m# from BlockManager perspective\u001b[0m\u001b[0;34m\u001b[0m\u001b[0;34m\u001b[0m\u001b[0;34m\u001b[0m\u001b[0m\n",
            "\u001b[0;32m/usr/local/lib/python3.6/dist-packages/pandas/core/internals/construction.py\u001b[0m in \u001b[0;36m_homogenize\u001b[0;34m(data, index, dtype)\u001b[0m\n\u001b[1;32m    321\u001b[0m                 \u001b[0mval\u001b[0m \u001b[0;34m=\u001b[0m \u001b[0mlib\u001b[0m\u001b[0;34m.\u001b[0m\u001b[0mfast_multiget\u001b[0m\u001b[0;34m(\u001b[0m\u001b[0mval\u001b[0m\u001b[0;34m,\u001b[0m \u001b[0moindex\u001b[0m\u001b[0;34m.\u001b[0m\u001b[0mvalues\u001b[0m\u001b[0;34m,\u001b[0m \u001b[0mdefault\u001b[0m\u001b[0;34m=\u001b[0m\u001b[0mnp\u001b[0m\u001b[0;34m.\u001b[0m\u001b[0mnan\u001b[0m\u001b[0;34m)\u001b[0m\u001b[0;34m\u001b[0m\u001b[0;34m\u001b[0m\u001b[0m\n\u001b[1;32m    322\u001b[0m             val = sanitize_array(\n\u001b[0;32m--> 323\u001b[0;31m                 \u001b[0mval\u001b[0m\u001b[0;34m,\u001b[0m \u001b[0mindex\u001b[0m\u001b[0;34m,\u001b[0m \u001b[0mdtype\u001b[0m\u001b[0;34m=\u001b[0m\u001b[0mdtype\u001b[0m\u001b[0;34m,\u001b[0m \u001b[0mcopy\u001b[0m\u001b[0;34m=\u001b[0m\u001b[0;32mFalse\u001b[0m\u001b[0;34m,\u001b[0m \u001b[0mraise_cast_failure\u001b[0m\u001b[0;34m=\u001b[0m\u001b[0;32mFalse\u001b[0m\u001b[0;34m\u001b[0m\u001b[0;34m\u001b[0m\u001b[0m\n\u001b[0m\u001b[1;32m    324\u001b[0m             )\n\u001b[1;32m    325\u001b[0m \u001b[0;34m\u001b[0m\u001b[0m\n",
            "\u001b[0;32m/usr/local/lib/python3.6/dist-packages/pandas/core/construction.py\u001b[0m in \u001b[0;36msanitize_array\u001b[0;34m(data, index, dtype, copy, raise_cast_failure)\u001b[0m\n\u001b[1;32m    473\u001b[0m \u001b[0;34m\u001b[0m\u001b[0m\n\u001b[1;32m    474\u001b[0m             \u001b[0;31m# a 1-element ndarray\u001b[0m\u001b[0;34m\u001b[0m\u001b[0;34m\u001b[0m\u001b[0;34m\u001b[0m\u001b[0m\n\u001b[0;32m--> 475\u001b[0;31m             \u001b[0;32mif\u001b[0m \u001b[0mlen\u001b[0m\u001b[0;34m(\u001b[0m\u001b[0msubarr\u001b[0m\u001b[0;34m)\u001b[0m \u001b[0;34m!=\u001b[0m \u001b[0mlen\u001b[0m\u001b[0;34m(\u001b[0m\u001b[0mindex\u001b[0m\u001b[0;34m)\u001b[0m \u001b[0;32mand\u001b[0m \u001b[0mlen\u001b[0m\u001b[0;34m(\u001b[0m\u001b[0msubarr\u001b[0m\u001b[0;34m)\u001b[0m \u001b[0;34m==\u001b[0m \u001b[0;36m1\u001b[0m\u001b[0;34m:\u001b[0m\u001b[0;34m\u001b[0m\u001b[0;34m\u001b[0m\u001b[0m\n\u001b[0m\u001b[1;32m    476\u001b[0m                 subarr = construct_1d_arraylike_from_scalar(\n\u001b[1;32m    477\u001b[0m                     \u001b[0msubarr\u001b[0m\u001b[0;34m[\u001b[0m\u001b[0;36m0\u001b[0m\u001b[0;34m]\u001b[0m\u001b[0;34m,\u001b[0m \u001b[0mlen\u001b[0m\u001b[0;34m(\u001b[0m\u001b[0mindex\u001b[0m\u001b[0;34m)\u001b[0m\u001b[0;34m,\u001b[0m \u001b[0msubarr\u001b[0m\u001b[0;34m.\u001b[0m\u001b[0mdtype\u001b[0m\u001b[0;34m\u001b[0m\u001b[0;34m\u001b[0m\u001b[0m\n",
            "\u001b[0;31mKeyboardInterrupt\u001b[0m: "
          ]
        }
      ]
    },
    {
      "cell_type": "code",
      "metadata": {
        "id": "RliTQDkG9Zgn",
        "colab_type": "code",
        "colab": {}
      },
      "source": [
        "writeFiles(featurized_data_path, \"simple_\",desc,numpy_form_ims,numpy_form_txts)"
      ],
      "execution_count": null,
      "outputs": []
    },
    {
      "cell_type": "code",
      "metadata": {
        "id": "qVq_aZ6Y9aab",
        "colab_type": "code",
        "colab": {}
      },
      "source": [
        "image_features=pd.read_csv(\"/content/gdrive/My Drive/colab/data_sources/hateful_memes/simple_image_features.csv\", sep=\",\",index_col=0)\n",
        "text_features=pd.read_csv(\"/content/gdrive/My Drive/colab/data_sources/hateful_memes/simple_text_features.csv\",sep=\",\",index_col=0)\n",
        "desc_features=pd.read_csv(\"/content/gdrive/My Drive/colab/data_sources/hateful_memes/simple_description.csv\",sep=\",\",index_col=0)\n"
      ],
      "execution_count": null,
      "outputs": []
    },
    {
      "cell_type": "code",
      "metadata": {
        "id": "2U6HJOSV3v03",
        "colab_type": "code",
        "colab": {}
      },
      "source": [
        ""
      ],
      "execution_count": null,
      "outputs": []
    },
    {
      "cell_type": "code",
      "metadata": {
        "id": "ntFJ2EIV9eh_",
        "colab_type": "code",
        "colab": {}
      },
      "source": [
        ""
      ],
      "execution_count": null,
      "outputs": []
    },
    {
      "cell_type": "markdown",
      "metadata": {
        "id": "PM8otBFB9jvW",
        "colab_type": "text"
      },
      "source": [
        ""
      ]
    },
    {
      "cell_type": "markdown",
      "metadata": {
        "id": "vS8qil-wMnnt",
        "colab_type": "text"
      },
      "source": [
        "## Get Celebrity Labels from Bing"
      ]
    },
    {
      "cell_type": "code",
      "metadata": {
        "id": "PSNr2s9CMmsm",
        "colab_type": "code",
        "colab": {}
      },
      "source": [
        "bing=pd.read_csv(\"/content/gdrive/My Drive/colab/data_sources/hateful_memes/bing.csv\", header = None, converters={5: eval, 4: eval, 3: eval, 2: eval, 1: eval})"
      ],
      "execution_count": 13,
      "outputs": []
    },
    {
      "cell_type": "code",
      "metadata": {
        "id": "dLRK_JaaamdN",
        "colab_type": "code",
        "colab": {
          "base_uri": "https://localhost:8080/",
          "height": 34
        },
        "outputId": "6c5012ef-f558-4ac2-ec2b-212e4bf79799"
      },
      "source": [
        "bing.shape"
      ],
      "execution_count": 14,
      "outputs": [
        {
          "output_type": "execute_result",
          "data": {
            "text/plain": [
              "(8422, 6)"
            ]
          },
          "metadata": {
            "tags": []
          },
          "execution_count": 14
        }
      ]
    },
    {
      "cell_type": "code",
      "metadata": {
        "id": "7NNSrxzBNy6f",
        "colab_type": "code",
        "colab": {
          "base_uri": "https://localhost:8080/",
          "height": 306
        },
        "outputId": "708ea690-376d-45b8-8a02-e1e05a5df604"
      },
      "source": [
        "bing.columns=['image','description', 'link', 'img_src', 'rel', 'alternate_hypothesis']\n",
        "bing.head()"
      ],
      "execution_count": 15,
      "outputs": [
        {
          "output_type": "execute_result",
          "data": {
            "text/html": [
              "<div>\n",
              "<style scoped>\n",
              "    .dataframe tbody tr th:only-of-type {\n",
              "        vertical-align: middle;\n",
              "    }\n",
              "\n",
              "    .dataframe tbody tr th {\n",
              "        vertical-align: top;\n",
              "    }\n",
              "\n",
              "    .dataframe thead th {\n",
              "        text-align: right;\n",
              "    }\n",
              "</style>\n",
              "<table border=\"1\" class=\"dataframe\">\n",
              "  <thead>\n",
              "    <tr style=\"text-align: right;\">\n",
              "      <th></th>\n",
              "      <th>image</th>\n",
              "      <th>description</th>\n",
              "      <th>link</th>\n",
              "      <th>img_src</th>\n",
              "      <th>rel</th>\n",
              "      <th>alternate_hypothesis</th>\n",
              "    </tr>\n",
              "  </thead>\n",
              "  <tbody>\n",
              "    <tr>\n",
              "      <th>0</th>\n",
              "      <td>56482.png</td>\n",
              "      <td>[إدمان الحقن.. أخطر أنواع إدمان المخدرات, L'im...</td>\n",
              "      <td>[https://ultratunisia.ultrasawt.com/%D8%A5%D8%...</td>\n",
              "      <td>[https://th.bing.com/th/id/OIP.0qwHZ_2g6IQ07Zv...</td>\n",
              "      <td>[]</td>\n",
              "      <td>[Emmi und Co. kämpfen mit der Teuerung | Unter...</td>\n",
              "    </tr>\n",
              "    <tr>\n",
              "      <th>1</th>\n",
              "      <td>60183.png</td>\n",
              "      <td>[Миляга, такому в Европе прощали все...пока не...</td>\n",
              "      <td>[https://foto-history.livejournal.com/11268197...</td>\n",
              "      <td>[https://th.bing.com/th/id/OIP.UcKwJ2Hv2EU13yR...</td>\n",
              "      <td>[Hitler]</td>\n",
              "      <td>[Triumph of the Will, filmed by Leni Riefensta...</td>\n",
              "    </tr>\n",
              "    <tr>\n",
              "      <th>2</th>\n",
              "      <td>43905.png</td>\n",
              "      <td>[World's Best Donkey Rear Stock Pictures, Phot...</td>\n",
              "      <td>[https://www.gettyimages.com/photos/donkey-rear]</td>\n",
              "      <td>[https://th.bing.com/th/id/OIP.0VbJI8q2DS7PNnG...</td>\n",
              "      <td>[Monkeys]</td>\n",
              "      <td>[Animal photos are a great way to teach childr...</td>\n",
              "    </tr>\n",
              "    <tr>\n",
              "      <th>3</th>\n",
              "      <td>07825.png</td>\n",
              "      <td>[]</td>\n",
              "      <td>[]</td>\n",
              "      <td>[]</td>\n",
              "      <td>[]</td>\n",
              "      <td>[The History Channel: Battle For The Pacific P...</td>\n",
              "    </tr>\n",
              "    <tr>\n",
              "      <th>4</th>\n",
              "      <td>50413.png</td>\n",
              "      <td>[]</td>\n",
              "      <td>[]</td>\n",
              "      <td>[]</td>\n",
              "      <td>[]</td>\n",
              "      <td>[Ugly Man Fat Cheeks Beard Portrait Stock Phot...</td>\n",
              "    </tr>\n",
              "  </tbody>\n",
              "</table>\n",
              "</div>"
            ],
            "text/plain": [
              "       image  ...                               alternate_hypothesis\n",
              "0  56482.png  ...  [Emmi und Co. kämpfen mit der Teuerung | Unter...\n",
              "1  60183.png  ...  [Triumph of the Will, filmed by Leni Riefensta...\n",
              "2  43905.png  ...  [Animal photos are a great way to teach childr...\n",
              "3  07825.png  ...  [The History Channel: Battle For The Pacific P...\n",
              "4  50413.png  ...  [Ugly Man Fat Cheeks Beard Portrait Stock Phot...\n",
              "\n",
              "[5 rows x 6 columns]"
            ]
          },
          "metadata": {
            "tags": []
          },
          "execution_count": 15
        }
      ]
    },
    {
      "cell_type": "code",
      "metadata": {
        "id": "rS5mFZuNhRH8",
        "colab_type": "code",
        "colab": {
          "base_uri": "https://localhost:8080/",
          "height": 340
        },
        "outputId": "c1404548-d130-4545-8d55-4f9279231fdb"
      },
      "source": [
        "bing['image_clean'] = bing['image'].str[:-4]\n",
        "bing.head()"
      ],
      "execution_count": 16,
      "outputs": [
        {
          "output_type": "execute_result",
          "data": {
            "text/html": [
              "<div>\n",
              "<style scoped>\n",
              "    .dataframe tbody tr th:only-of-type {\n",
              "        vertical-align: middle;\n",
              "    }\n",
              "\n",
              "    .dataframe tbody tr th {\n",
              "        vertical-align: top;\n",
              "    }\n",
              "\n",
              "    .dataframe thead th {\n",
              "        text-align: right;\n",
              "    }\n",
              "</style>\n",
              "<table border=\"1\" class=\"dataframe\">\n",
              "  <thead>\n",
              "    <tr style=\"text-align: right;\">\n",
              "      <th></th>\n",
              "      <th>image</th>\n",
              "      <th>description</th>\n",
              "      <th>link</th>\n",
              "      <th>img_src</th>\n",
              "      <th>rel</th>\n",
              "      <th>alternate_hypothesis</th>\n",
              "      <th>image_clean</th>\n",
              "    </tr>\n",
              "  </thead>\n",
              "  <tbody>\n",
              "    <tr>\n",
              "      <th>0</th>\n",
              "      <td>56482.png</td>\n",
              "      <td>[إدمان الحقن.. أخطر أنواع إدمان المخدرات, L'im...</td>\n",
              "      <td>[https://ultratunisia.ultrasawt.com/%D8%A5%D8%...</td>\n",
              "      <td>[https://th.bing.com/th/id/OIP.0qwHZ_2g6IQ07Zv...</td>\n",
              "      <td>[]</td>\n",
              "      <td>[Emmi und Co. kämpfen mit der Teuerung | Unter...</td>\n",
              "      <td>56482</td>\n",
              "    </tr>\n",
              "    <tr>\n",
              "      <th>1</th>\n",
              "      <td>60183.png</td>\n",
              "      <td>[Миляга, такому в Европе прощали все...пока не...</td>\n",
              "      <td>[https://foto-history.livejournal.com/11268197...</td>\n",
              "      <td>[https://th.bing.com/th/id/OIP.UcKwJ2Hv2EU13yR...</td>\n",
              "      <td>[Hitler]</td>\n",
              "      <td>[Triumph of the Will, filmed by Leni Riefensta...</td>\n",
              "      <td>60183</td>\n",
              "    </tr>\n",
              "    <tr>\n",
              "      <th>2</th>\n",
              "      <td>43905.png</td>\n",
              "      <td>[World's Best Donkey Rear Stock Pictures, Phot...</td>\n",
              "      <td>[https://www.gettyimages.com/photos/donkey-rear]</td>\n",
              "      <td>[https://th.bing.com/th/id/OIP.0VbJI8q2DS7PNnG...</td>\n",
              "      <td>[Monkeys]</td>\n",
              "      <td>[Animal photos are a great way to teach childr...</td>\n",
              "      <td>43905</td>\n",
              "    </tr>\n",
              "    <tr>\n",
              "      <th>3</th>\n",
              "      <td>07825.png</td>\n",
              "      <td>[]</td>\n",
              "      <td>[]</td>\n",
              "      <td>[]</td>\n",
              "      <td>[]</td>\n",
              "      <td>[The History Channel: Battle For The Pacific P...</td>\n",
              "      <td>07825</td>\n",
              "    </tr>\n",
              "    <tr>\n",
              "      <th>4</th>\n",
              "      <td>50413.png</td>\n",
              "      <td>[]</td>\n",
              "      <td>[]</td>\n",
              "      <td>[]</td>\n",
              "      <td>[]</td>\n",
              "      <td>[Ugly Man Fat Cheeks Beard Portrait Stock Phot...</td>\n",
              "      <td>50413</td>\n",
              "    </tr>\n",
              "  </tbody>\n",
              "</table>\n",
              "</div>"
            ],
            "text/plain": [
              "       image  ... image_clean\n",
              "0  56482.png  ...       56482\n",
              "1  60183.png  ...       60183\n",
              "2  43905.png  ...       43905\n",
              "3  07825.png  ...       07825\n",
              "4  50413.png  ...       50413\n",
              "\n",
              "[5 rows x 7 columns]"
            ]
          },
          "metadata": {
            "tags": []
          },
          "execution_count": 16
        }
      ]
    },
    {
      "cell_type": "code",
      "metadata": {
        "id": "9F2hl4rhOeJb",
        "colab_type": "code",
        "colab": {
          "base_uri": "https://localhost:8080/",
          "height": 649
        },
        "outputId": "814235ad-dd64-448c-b4d7-b96dd16c45a2"
      },
      "source": [
        "# bing.iloc[0].alternate_hypothesis[0]\n",
        "bing['alt_str'] = [' '.join(map(str, l)) for l in bing['alternate_hypothesis']]\n",
        "bing['rel_str'] = [' '.join(map(str, l)) for l in bing['rel']]\n",
        "bing['desc_str'] = [' '.join(map(str, l)) for l in bing['description']]\n",
        "bing['combined_str'] = bing['rel_str'] +' ' + bing['alt_str'] +' '+ bing['desc_str']\n",
        "\n",
        "bing.head()\n"
      ],
      "execution_count": 17,
      "outputs": [
        {
          "output_type": "execute_result",
          "data": {
            "text/html": [
              "<div>\n",
              "<style scoped>\n",
              "    .dataframe tbody tr th:only-of-type {\n",
              "        vertical-align: middle;\n",
              "    }\n",
              "\n",
              "    .dataframe tbody tr th {\n",
              "        vertical-align: top;\n",
              "    }\n",
              "\n",
              "    .dataframe thead th {\n",
              "        text-align: right;\n",
              "    }\n",
              "</style>\n",
              "<table border=\"1\" class=\"dataframe\">\n",
              "  <thead>\n",
              "    <tr style=\"text-align: right;\">\n",
              "      <th></th>\n",
              "      <th>image</th>\n",
              "      <th>description</th>\n",
              "      <th>link</th>\n",
              "      <th>img_src</th>\n",
              "      <th>rel</th>\n",
              "      <th>alternate_hypothesis</th>\n",
              "      <th>image_clean</th>\n",
              "      <th>alt_str</th>\n",
              "      <th>rel_str</th>\n",
              "      <th>desc_str</th>\n",
              "      <th>combined_str</th>\n",
              "    </tr>\n",
              "  </thead>\n",
              "  <tbody>\n",
              "    <tr>\n",
              "      <th>0</th>\n",
              "      <td>56482.png</td>\n",
              "      <td>[إدمان الحقن.. أخطر أنواع إدمان المخدرات, L'im...</td>\n",
              "      <td>[https://ultratunisia.ultrasawt.com/%D8%A5%D8%...</td>\n",
              "      <td>[https://th.bing.com/th/id/OIP.0qwHZ_2g6IQ07Zv...</td>\n",
              "      <td>[]</td>\n",
              "      <td>[Emmi und Co. kämpfen mit der Teuerung | Unter...</td>\n",
              "      <td>56482</td>\n",
              "      <td>Emmi und Co. kämpfen mit der Teuerung | Untern...</td>\n",
              "      <td></td>\n",
              "      <td>إدمان الحقن.. أخطر أنواع إدمان المخدرات L'impl...</td>\n",
              "      <td>Emmi und Co. kämpfen mit der Teuerung | Unter...</td>\n",
              "    </tr>\n",
              "    <tr>\n",
              "      <th>1</th>\n",
              "      <td>60183.png</td>\n",
              "      <td>[Миляга, такому в Европе прощали все...пока не...</td>\n",
              "      <td>[https://foto-history.livejournal.com/11268197...</td>\n",
              "      <td>[https://th.bing.com/th/id/OIP.UcKwJ2Hv2EU13yR...</td>\n",
              "      <td>[Hitler]</td>\n",
              "      <td>[Triumph of the Will, filmed by Leni Riefensta...</td>\n",
              "      <td>60183</td>\n",
              "      <td>Triumph of the Will, filmed by Leni Riefenstah...</td>\n",
              "      <td>Hitler</td>\n",
              "      <td>Миляга, такому в Европе прощали все...пока не ...</td>\n",
              "      <td>Hitler Triumph of the Will, filmed by Leni Rie...</td>\n",
              "    </tr>\n",
              "    <tr>\n",
              "      <th>2</th>\n",
              "      <td>43905.png</td>\n",
              "      <td>[World's Best Donkey Rear Stock Pictures, Phot...</td>\n",
              "      <td>[https://www.gettyimages.com/photos/donkey-rear]</td>\n",
              "      <td>[https://th.bing.com/th/id/OIP.0VbJI8q2DS7PNnG...</td>\n",
              "      <td>[Monkeys]</td>\n",
              "      <td>[Animal photos are a great way to teach childr...</td>\n",
              "      <td>43905</td>\n",
              "      <td>Animal photos are a great way to teach childre...</td>\n",
              "      <td>Monkeys</td>\n",
              "      <td>World's Best Donkey Rear Stock Pictures, Photo...</td>\n",
              "      <td>Monkeys Animal photos are a great way to teach...</td>\n",
              "    </tr>\n",
              "    <tr>\n",
              "      <th>3</th>\n",
              "      <td>07825.png</td>\n",
              "      <td>[]</td>\n",
              "      <td>[]</td>\n",
              "      <td>[]</td>\n",
              "      <td>[]</td>\n",
              "      <td>[The History Channel: Battle For The Pacific P...</td>\n",
              "      <td>07825</td>\n",
              "      <td>The History Channel: Battle For The Pacific PC...</td>\n",
              "      <td></td>\n",
              "      <td></td>\n",
              "      <td>The History Channel: Battle For The Pacific P...</td>\n",
              "    </tr>\n",
              "    <tr>\n",
              "      <th>4</th>\n",
              "      <td>50413.png</td>\n",
              "      <td>[]</td>\n",
              "      <td>[]</td>\n",
              "      <td>[]</td>\n",
              "      <td>[]</td>\n",
              "      <td>[Ugly Man Fat Cheeks Beard Portrait Stock Phot...</td>\n",
              "      <td>50413</td>\n",
              "      <td>Ugly Man Fat Cheeks Beard Portrait Stock Photo...</td>\n",
              "      <td></td>\n",
              "      <td></td>\n",
              "      <td>Ugly Man Fat Cheeks Beard Portrait Stock Phot...</td>\n",
              "    </tr>\n",
              "  </tbody>\n",
              "</table>\n",
              "</div>"
            ],
            "text/plain": [
              "       image  ...                                       combined_str\n",
              "0  56482.png  ...   Emmi und Co. kämpfen mit der Teuerung | Unter...\n",
              "1  60183.png  ...  Hitler Triumph of the Will, filmed by Leni Rie...\n",
              "2  43905.png  ...  Monkeys Animal photos are a great way to teach...\n",
              "3  07825.png  ...   The History Channel: Battle For The Pacific P...\n",
              "4  50413.png  ...   Ugly Man Fat Cheeks Beard Portrait Stock Phot...\n",
              "\n",
              "[5 rows x 11 columns]"
            ]
          },
          "metadata": {
            "tags": []
          },
          "execution_count": 17
        }
      ]
    },
    {
      "cell_type": "code",
      "metadata": {
        "id": "qMXiwlGlQJZR",
        "colab_type": "code",
        "colab": {
          "base_uri": "https://localhost:8080/",
          "height": 68
        },
        "outputId": "942ea714-f36c-423f-af61-17e39af7d652"
      },
      "source": [
        "bing['feature_hitler'] = bing[\"combined_str\"].str.lower().str.contains(\"hitler\", na=False)\n",
        "bing['feature_hitler'].value_counts(normalize=True)"
      ],
      "execution_count": 18,
      "outputs": [
        {
          "output_type": "execute_result",
          "data": {
            "text/plain": [
              "False    0.967466\n",
              "True     0.032534\n",
              "Name: feature_hitler, dtype: float64"
            ]
          },
          "metadata": {
            "tags": []
          },
          "execution_count": 18
        }
      ]
    },
    {
      "cell_type": "code",
      "metadata": {
        "id": "0663lJgxSIB0",
        "colab_type": "code",
        "colab": {
          "base_uri": "https://localhost:8080/",
          "height": 137
        },
        "outputId": "15d5f32e-b5bb-40fc-ba80-2800656ea424"
      },
      "source": [
        "bing.iloc[1].combined_str"
      ],
      "execution_count": 19,
      "outputs": [
        {
          "output_type": "execute_result",
          "data": {
            "application/vnd.google.colaboratory.intrinsic+json": {
              "type": "string"
            },
            "text/plain": [
              "\"Hitler Triumph of the Will, filmed by Leni Riefenstahl in September, 1934. She later said she “lived in the editing room” for the next two years ... Adolf Hitler’s Personal Bunker Telephone Is Up For Auction! Will You Pay $300,000 For It? ~ vintage everyday Mém - Humor - Vicces videók - Viccek Adolf Hitler on the Nazi Party Congress in Nuremberg, 1936 Stock Photo, Royalty Free Image: 36997613 - Alamy Telefone de Hitler vendido por 239 mil euros NAZI JERMAN: Foto Adolf Hitler di Tahun 1935 Playle's: 1935 NAZI Fuhrer Adolf Hitler Taking Phone Call From Gauleiter Burckel Original Hoffman Photo - Store Item# NKYPHOTOS200 801 best Hist-- WWII-Nazi Germany images on Pinterest | World war two, Wwii and Germany Nazi Party Stockfotos & Nazi Party Bilder - Seite 2 - Alamy Rescuing Israel: The Holocaust – The Man – 12Bytes.org ADOLF HITLER BEST PICTURES Adolf Hitler Portrait Photos & Adolf Hitler Portrait Images - Alamy Hitler's phone book sells for twice expected auction price | Daily Mail Online “Hello, Julia? It’s Hitler.” | Wonkville 144 best images about Adolf on Pinterest | Hitler germany, Luftwaffe and April 20 'Adolf Hitler' - large format cigarette card book published 1936 207 Best WWII | Third Reich images in 2019 | World war two, Germany, Berlin 16 Funny Adolf Hitler Memes | Funny stuff | Pinterest | Funny, Quotes and Funny meme quotes Jak Hitler působil na Němce? | EuroZprávy.cz Gentiuno » Gente del Siglo XXI » El día en que ABC entrevistó a Adolf Hitler 7332 best Uncommon Valor - World War II images on Pinterest | World war two, Wwii and History 258 best images about Adolf Hitler on Pinterest | April 20, Bunker and Hitler youth Imágenes y Carteles de HITLER Pag. 155 | Desmotivaciones Adolf Hitler - JungleKey.fr Image (C) Mourning the Ancient NEIN NEIN NEIN NEIN! - Wikimerda, a enciclopédia que fede 希特勒沒輕生？科學家打臉 齒鑑定1945年亡｜東森新聞 Encuentran una “cápsula nazi” que llevaba 82 años enterrada y esto tenía dentro : AYAYAY Six posed portraits of Adolf Hitler giving a speech 6 works von Heinrich Hoffmann auf artnet Leituras do Giba: Janeiro 2009 Political Science, ..in Conclusion.. | pearlsofprofundity Why Hitler was such a successful orator | Business Insider Desvendando Adolf Hitler III: Viena, o início de Hitler! | Francisco Miranda - BLOG Adolf Hitler practices his speeches - Photos - Bizarre photos show Adolf Hitler practicing his speeches - NY Daily News Adolf Hitler practices his speeches - Photos - Bizarre photos show Adolf Hitler practicing his speeches | Bizarre photos, Ww2 history and Roman empire Миляга, такому в Европе прощали все...пока не случился 1939 г.: foto_history — LiveJournal CAFÉ DU COMMERCE.: septembre 2011\""
            ]
          },
          "metadata": {
            "tags": []
          },
          "execution_count": 19
        }
      ]
    },
    {
      "cell_type": "code",
      "metadata": {
        "id": "rabrNKycTd3V",
        "colab_type": "code",
        "colab": {
          "base_uri": "https://localhost:8080/",
          "height": 156
        },
        "outputId": "ed2b05d9-3ce0-4072-a855-d785c0a49969"
      },
      "source": [
        "import nltk\n",
        "nltk.download('punkt')\n",
        "from nltk.tag import StanfordPOSTagger\n",
        "from nltk import word_tokenize\n",
        "\n",
        "# Add the jar and model via their path (instead of setting environment variables):\n",
        "jar = '/content/gdrive/My Drive/colab/data_sources/hateful_memes/stanford-postagger.jar'\n",
        "model = '/content/gdrive/My Drive/colab/data_sources/hateful_memes/english-left3words-distsim.tagger'\n",
        "\n",
        "pos_tagger = StanfordPOSTagger(model, jar, encoding='utf8')\n",
        "\n",
        "text = pos_tagger.tag(word_tokenize(bing.iloc[1].combined_str))\n",
        "print(text)\n"
      ],
      "execution_count": 20,
      "outputs": [
        {
          "output_type": "stream",
          "text": [
            "[nltk_data] Downloading package punkt to /root/nltk_data...\n",
            "[nltk_data]   Unzipping tokenizers/punkt.zip.\n"
          ],
          "name": "stdout"
        },
        {
          "output_type": "stream",
          "text": [
            "/usr/local/lib/python3.6/dist-packages/nltk/tag/stanford.py:149: DeprecationWarning: \n",
            "The StanfordTokenizer will be deprecated in version 3.2.5.\n",
            "Please use \u001b[91mnltk.tag.corenlp.CoreNLPPOSTagger\u001b[0m or \u001b[91mnltk.tag.corenlp.CoreNLPNERTagger\u001b[0m instead.\n",
            "  super(StanfordPOSTagger, self).__init__(*args, **kwargs)\n"
          ],
          "name": "stderr"
        },
        {
          "output_type": "stream",
          "text": [
            "[('Hitler', 'NNP'), ('Triumph', 'NNP'), ('of', 'IN'), ('the', 'DT'), ('Will', 'NNP'), (',', ','), ('filmed', 'VBN'), ('by', 'IN'), ('Leni', 'NNP'), ('Riefenstahl', 'NNP'), ('in', 'IN'), ('September', 'NNP'), (',', ','), ('1934', 'CD'), ('.', '.'), ('She', 'PRP'), ('later', 'RB'), ('said', 'VBD'), ('she', 'PRP'), ('“', '``'), ('lived', 'VBD'), ('in', 'IN'), ('the', 'DT'), ('editing', 'NN'), ('room', 'NN'), ('”', \"''\"), ('for', 'IN'), ('the', 'DT'), ('next', 'JJ'), ('two', 'CD'), ('years', 'NNS'), ('...', ':'), ('Adolf', 'NNP'), ('Hitler', 'NNP'), ('’', \"''\"), ('s', 'POS'), ('Personal', 'NNP'), ('Bunker', 'NNP'), ('Telephone', 'NNP'), ('Is', 'VBZ'), ('Up', 'RP'), ('For', 'IN'), ('Auction', 'NN'), ('!', '.'), ('Will', 'MD'), ('You', 'PRP'), ('Pay', 'VB'), ('$', '$'), ('300,000', 'CD'), ('For', 'IN'), ('It', 'PRP'), ('?', '.'), ('~', 'SYM'), ('vintage', 'JJ'), ('everyday', 'JJ'), ('Mém', 'NN'), ('-', 'HYPH'), ('Humor', 'NN'), ('-', 'HYPH'), ('Vicces', 'NNS'), ('videók', 'NN'), ('-', 'HYPH'), ('Viccek', 'NN'), ('Adolf', 'NNP'), ('Hitler', 'NNP'), ('on', 'IN'), ('the', 'DT'), ('Nazi', 'NNP'), ('Party', 'NNP'), ('Congress', 'NNP'), ('in', 'IN'), ('Nuremberg', 'NNP'), (',', ','), ('1936', 'CD'), ('Stock', 'NNP'), ('Photo', 'NNP'), (',', ','), ('Royalty', 'NNP'), ('Free', 'NNP'), ('Image', 'NNP'), (':', ':'), ('36997613', 'CD'), ('-', 'HYPH'), ('Alamy', 'NN'), ('Telefone', 'NNP'), ('de', 'NNP'), ('Hitler', 'NNP'), ('vendido', 'NN'), ('por', 'NN'), ('239', 'CD'), ('mil', 'NN'), ('euros', 'NNS'), ('NAZI', 'NNP'), ('JERMAN', 'NNP'), (':', ':'), ('Foto', 'NNP'), ('Adolf', 'NNP'), ('Hitler', 'NNP'), ('di', 'NNP'), ('Tahun', 'NNP'), ('1935', 'CD'), ('Playle', 'NNP'), (\"'s\", 'POS'), (':', ':'), ('1935', 'CD'), ('NAZI', 'NNP'), ('Fuhrer', 'NNP'), ('Adolf', 'NNP'), ('Hitler', 'NNP'), ('Taking', 'VBG'), ('Phone', 'NN'), ('Call', 'NN'), ('From', 'IN'), ('Gauleiter', 'NNP'), ('Burckel', 'NNP'), ('Original', 'NNP'), ('Hoffman', 'NNP'), ('Photo', 'NNP'), ('-', 'HYPH'), ('Store', 'NNP'), ('Item', 'NN'), ('#', 'NN'), ('NKYPHOTOS200', 'NN'), ('801', 'CD'), ('best', 'JJS'), ('Hist', 'NN'), ('--', ':'), ('WWII-Nazi', 'NNP'), ('Germany', 'NNP'), ('images', 'NNS'), ('on', 'IN'), ('Pinterest', 'NNP'), ('|', 'NFP'), ('World', 'NNP'), ('war', 'NN'), ('two', 'CD'), (',', ','), ('Wwii', 'NNP'), ('and', 'CC'), ('Germany', 'NNP'), ('Nazi', 'NNP'), ('Party', 'NNP'), ('Stockfotos', 'NNPS'), ('&', 'CC'), ('Nazi', 'NNP'), ('Party', 'NNP'), ('Bilder', 'NNP'), ('-', 'HYPH'), ('Seite', 'NNP'), ('2', 'CD'), ('-', 'HYPH'), ('Alamy', 'NN'), ('Rescuing', 'VBG'), ('Israel', 'NNP'), (':', ':'), ('The', 'DT'), ('Holocaust', 'NNP'), ('–', 'SYM'), ('The', 'DT'), ('Man', 'NN'), ('–', 'HYPH'), ('12Bytes.org', 'NN'), ('ADOLF', 'NNP'), ('HITLER', 'NNP'), ('BEST', 'JJS'), ('PICTURES', 'NNS'), ('Adolf', 'NNP'), ('Hitler', 'NNP'), ('Portrait', 'NN'), ('Photos', 'NNS'), ('&', 'CC'), ('Adolf', 'NNP'), ('Hitler', 'NNP'), ('Portrait', 'NN'), ('Images', 'NNS'), ('-', ','), ('Alamy', 'NNP'), ('Hitler', 'NNP'), (\"'s\", 'POS'), ('phone', 'NN'), ('book', 'NN'), ('sells', 'VBZ'), ('for', 'IN'), ('twice', 'RB'), ('expected', 'VBN'), ('auction', 'NN'), ('price', 'NN'), ('|', 'NFP'), ('Daily', 'NNP'), ('Mail', 'NNP'), ('Online', 'NNP'), ('“', '``'), ('Hello', 'UH'), (',', ','), ('Julia', 'NNP'), ('?', '.'), ('It', 'PRP'), ('’', \"''\"), ('s', 'POS'), ('Hitler.', 'NN'), ('”', \"''\"), ('|', 'NFP'), ('Wonkville', 'NNP'), ('144', 'CD'), ('best', 'JJS'), ('images', 'NNS'), ('about', 'IN'), ('Adolf', 'NNP'), ('on', 'IN'), ('Pinterest', 'NNP'), ('|', 'NFP'), ('Hitler', 'NNP'), ('germany', 'NNP'), (',', ','), ('Luftwaffe', 'NNP'), ('and', 'CC'), ('April', 'NNP'), ('20', 'CD'), (\"'Adolf\", 'NNP'), ('Hitler', 'NNP'), (\"'\", 'POS'), ('-', 'HYPH'), ('large', 'JJ'), ('format', 'NN'), ('cigarette', 'NN'), ('card', 'NN'), ('book', 'NN'), ('published', 'VBN'), ('1936', 'CD'), ('207', 'CD'), ('Best', 'JJS'), ('WWII', 'NNP'), ('|', 'NFP'), ('Third', 'NNP'), ('Reich', 'NNP'), ('images', 'NNS'), ('in', 'IN'), ('2019', 'CD'), ('|', 'NFP'), ('World', 'NNP'), ('war', 'NN'), ('two', 'CD'), (',', ','), ('Germany', 'NNP'), (',', ','), ('Berlin', 'NNP'), ('16', 'CD'), ('Funny', 'JJ'), ('Adolf', 'NNP'), ('Hitler', 'NNP'), ('Memes', 'NNPS'), ('|', 'NFP'), ('Funny', 'JJ'), ('stuff', 'NN'), ('|', 'NFP'), ('Pinterest', 'JJS'), ('|', 'NFP'), ('Funny', 'NNP'), (',', ','), ('Quotes', 'NNP'), ('and', 'CC'), ('Funny', 'NNP'), ('meme', 'NN'), ('quotes', 'VBZ'), ('Jak', 'NNP'), ('Hitler', 'NNP'), ('působil', 'NN'), ('na', 'TO'), ('Němce', 'NNP'), ('?', '.'), ('|', 'NFP'), ('EuroZprávy.cz', 'NNP'), ('Gentiuno', 'NNP'), ('»', 'SYM'), ('Gente', 'NNP'), ('del', 'NNP'), ('Siglo', 'NNP'), ('XXI', 'NNP'), ('»', 'SYM'), ('El', 'NNP'), ('día', 'FW'), ('en', 'FW'), ('que', 'NN'), ('ABC', 'NNP'), ('entrevistó', 'VBD'), ('a', 'DT'), ('Adolf', 'NNP'), ('Hitler', 'NNP'), ('7332', 'CD'), ('best', 'JJS'), ('Uncommon', 'NNP'), ('Valor', 'NNP'), ('-', 'HYPH'), ('World', 'NNP'), ('War', 'NNP'), ('II', 'NNP'), ('images', 'NNS'), ('on', 'IN'), ('Pinterest', 'NNP'), ('|', 'NFP'), ('World', 'NNP'), ('war', 'NN'), ('two', 'CD'), (',', ','), ('Wwii', 'NNP'), ('and', 'CC'), ('History', 'NNP'), ('258', 'CD'), ('best', 'JJS'), ('images', 'NNS'), ('about', 'IN'), ('Adolf', 'NNP'), ('Hitler', 'NNP'), ('on', 'IN'), ('Pinterest', 'NNP'), ('|', 'NFP'), ('April', 'NNP'), ('20', 'CD'), (',', ','), ('Bunker', 'NNP'), ('and', 'CC'), ('Hitler', 'NNP'), ('youth', 'NN'), ('Imágenes', 'NNP'), ('y', 'NNP'), ('Carteles', 'NNP'), ('de', 'NNP'), ('HITLER', 'NNP'), ('Pag', 'NNP'), ('.', '.'), ('155', 'CD'), ('|', 'NFP'), ('Desmotivaciones', 'NNPS'), ('Adolf', 'NNP'), ('Hitler', 'NNP'), ('-', 'HYPH'), ('JungleKey.fr', 'NNP'), ('Image', 'NN'), ('(', '-LRB-'), ('C', 'NN'), (')', '-RRB-'), ('Mourning', 'VBG'), ('the', 'DT'), ('Ancient', 'NNP'), ('NEIN', 'NNP'), ('NEIN', 'NNP'), ('NEIN', 'NNP'), ('NEIN', 'NNP'), ('!', '.'), ('-', 'HYPH'), ('Wikimerda', 'NNP'), (',', ','), ('a', 'DT'), ('enciclopédia', 'NN'), ('que', 'NN'), ('fede', 'NN'), ('希特勒沒輕生？科學家打臉', 'NN'), ('齒鑑定1945年亡｜東森新聞', 'NN'), ('Encuentran', 'NNP'), ('una', 'FW'), ('“', '``'), ('cápsula', 'NN'), ('nazi', 'NN'), ('”', \"''\"), ('que', 'NN'), ('llevaba', 'NN'), ('82', 'CD'), ('años', 'NNS'), ('enterrada', 'FW'), ('y', 'FW'), ('esto', 'FW'), ('tenía', 'FW'), ('dentro', 'FW'), (':', ':'), ('AYAYAY', 'NNP'), ('Six', 'NNP'), ('posed', 'VBD'), ('portraits', 'NNS'), ('of', 'IN'), ('Adolf', 'NNP'), ('Hitler', 'NNP'), ('giving', 'VBG'), ('a', 'DT'), ('speech', 'NN'), ('6', 'CD'), ('works', 'VBZ'), ('von', 'NNP'), ('Heinrich', 'NNP'), ('Hoffmann', 'NNP'), ('auf', 'NN'), ('artnet', 'NN'), ('Leituras', 'NNP'), ('do', 'VBP'), ('Giba', 'NNP'), (':', ':'), ('Janeiro', 'NNP'), ('2009', 'CD'), ('Political', 'NNP'), ('Science', 'NNP'), (',', ','), ('..in', 'NN'), ('Conclusion..', 'NN'), ('|', 'NFP'), ('pearlsofprofundity', 'NN'), ('Why', 'WRB'), ('Hitler', 'NNP'), ('was', 'VBD'), ('such', 'PDT'), ('a', 'DT'), ('successful', 'JJ'), ('orator', 'NN'), ('|', 'NFP'), ('Business', 'NNP'), ('Insider', 'NNP'), ('Desvendando', 'NNP'), ('Adolf', 'NNP'), ('Hitler', 'NNP'), ('III', 'NNP'), (':', ':'), ('Viena', 'NNP'), (',', ','), ('o', 'NNP'), ('início', 'NNP'), ('de', 'NNP'), ('Hitler', 'NNP'), ('!', '.'), ('|', 'NFP'), ('Francisco', 'NNP'), ('Miranda', 'NNP'), ('-', ':'), ('BLOG', 'NN'), ('Adolf', 'NNP'), ('Hitler', 'NNP'), ('practices', 'VBZ'), ('his', 'PRP$'), ('speeches', 'NNS'), ('-', 'HYPH'), ('Photos', 'NNS'), ('-', 'HYPH'), ('Bizarre', 'JJ'), ('photos', 'NNS'), ('show', 'VBP'), ('Adolf', 'NNP'), ('Hitler', 'NNP'), ('practicing', 'VBG'), ('his', 'PRP$'), ('speeches', 'NNS'), ('-', 'HYPH'), ('NY', 'NNP'), ('Daily', 'NNP'), ('News', 'NNP'), ('Adolf', 'NNP'), ('Hitler', 'NNP'), ('practices', 'VBZ'), ('his', 'PRP$'), ('speeches', 'NNS'), ('-', 'HYPH'), ('Photos', 'NNS'), ('-', 'HYPH'), ('Bizarre', 'JJ'), ('photos', 'NNS'), ('show', 'VBP'), ('Adolf', 'NNP'), ('Hitler', 'NNP'), ('practicing', 'VBG'), ('his', 'PRP$'), ('speeches', 'NNS'), ('|', 'NFP'), ('Bizarre', 'JJ'), ('photos', 'NNS'), (',', ','), ('Ww2', 'NN'), ('history', 'NN'), ('and', 'CC'), ('Roman', 'JJ'), ('empire', 'NN'), ('Миляга', 'NNP'), (',', ','), ('такому', 'NN'), ('в', 'SYM'), ('Европе', 'NN'), ('прощали', 'NN'), ('все', 'NN'), ('...', ':'), ('пока', 'NN'), ('не', 'NN'), ('случился', 'NN'), ('1939', 'CD'), ('г.', 'NN'), (':', ':'), ('fotohistory', 'NN'), ('—', 'HYPH'), ('LiveJournal', 'NNP'), ('CAFÉ', 'NNP'), ('DU', 'NNP'), ('COMMERCE', 'NNP'), ('.', '.'), (':', ':'), ('septembre', 'NNP'), ('2011', 'CD')]\n"
          ],
          "name": "stdout"
        }
      ]
    },
    {
      "cell_type": "markdown",
      "metadata": {
        "id": "3eF6jSQn9ew5",
        "colab_type": "text"
      },
      "source": [
        "## Run More Sophisticated Feature Extraction"
      ]
    },
    {
      "cell_type": "code",
      "metadata": {
        "id": "CGvUTIvwZqr4",
        "colab_type": "code",
        "colab": {}
      },
      "source": [
        "getty=pd.read_csv(\"/content/gdrive/My Drive/colab/data_sources/hateful_memes/cleaned_getty_data.csv\")"
      ],
      "execution_count": 21,
      "outputs": []
    },
    {
      "cell_type": "code",
      "metadata": {
        "id": "NMqIa7vgsyhp",
        "colab_type": "code",
        "colab": {}
      },
      "source": [
        "getty_dict=getty.to_dict('records')"
      ],
      "execution_count": 22,
      "outputs": []
    },
    {
      "cell_type": "code",
      "metadata": {
        "id": "nWNwAjLKs2lt",
        "colab_type": "code",
        "colab": {
          "base_uri": "https://localhost:8080/",
          "height": 411
        },
        "outputId": "bcb62155-be06-4511-d575-77b5468864ad"
      },
      "source": [
        "getty_dict[0]"
      ],
      "execution_count": 23,
      "outputs": [
        {
          "output_type": "execute_result",
          "data": {
            "text/plain": [
              "{'Color_Score': 14.358935999999998,\n",
              " 'Key_Point_Score': 144301.06523895267,\n",
              " 'Unnamed: 0': 0,\n",
              " 'best_caption': 'Drugs',\n",
              " 'best_tags': 'Opioid   Syringe   Addiction   Despair   Heroin   Addict   Drug Overdose   Recreational Drug   Teenager   IV Drip   Abuse   Adult Amphetamine   Close-Up   Cocaine   Criminal   Danger   Dependency   Depression - Sadness   Emotional Stress   Forbidden   Frustration   Grief   Hand   Healthcare And Medicine   Horizontal   Human Body Part   Human Hand   Illness   Photography   Problems   Risk   Sharp   Snorting   Thailand   Vein   Worried   Photos',\n",
              " 'caption': 'Drugs',\n",
              " 'color_caption': 'Drugs',\n",
              " 'color_img_url': 'https://media.gettyimages.com/photos/drugs-picture-id1016370166?s=2048x2048',\n",
              " 'color_score_rank': 1.0,\n",
              " 'color_tags': 'Opioid Photos,Syringe Photos,Addiction Photos,Despair Photos,Heroin Photos,Addict Photos,Drug Overdose Photos,Recreational Drug Photos,Teenager Photos,IV Drip Photos,Abuse Photos,Adult,Amphetamine Photos,Close-Up Photos,Cocaine Photos,Criminal Photos,Danger Photos,Dependency Photos,Depression - Sadness Photos,Emotional Stress Photos,Forbidden Photos,Frustration Photos,Grief Photos,Hand Photos,Healthcare And Medicine Photos,Horizontal Photos,Human Body Part Photos,Human Hand Photos,Illness Photos,Photography Photos,Problems Photos,Risk Photos,Sharp Photos,Snorting Photos,Thailand Photos,Vein Photos,Worried Photos',\n",
              " 'color_url': 'https://www.gettyimages.co.uk/detail/photo/drugs-royalty-free-image/1016370166',\n",
              " 'id': 1.0,\n",
              " 'image': 56482,\n",
              " 'img_url': 'https://media.gettyimages.com/photos/drugs-picture-id1016370166?s=2048x2048',\n",
              " 'key_point_caption': 'Drugs',\n",
              " 'key_point_img_url': 'https://media.gettyimages.com/photos/drugs-picture-id1016370166?s=2048x2048',\n",
              " 'key_point_score_rank': 1.0,\n",
              " 'key_point_tags': 'Opioid Photos,Syringe Photos,Addiction Photos,Despair Photos,Heroin Photos,Addict Photos,Drug Overdose Photos,Recreational Drug Photos,Teenager Photos,IV Drip Photos,Abuse Photos,Adult,Amphetamine Photos,Close-Up Photos,Cocaine Photos,Criminal Photos,Danger Photos,Dependency Photos,Depression - Sadness Photos,Emotional Stress Photos,Forbidden Photos,Frustration Photos,Grief Photos,Hand Photos,Healthcare And Medicine Photos,Horizontal Photos,Human Body Part Photos,Human Hand Photos,Illness Photos,Photography Photos,Problems Photos,Risk Photos,Sharp Photos,Snorting Photos,Thailand Photos,Vein Photos,Worried Photos',\n",
              " 'key_point_url': 'https://www.gettyimages.co.uk/detail/photo/drugs-royalty-free-image/1016370166',\n",
              " 'src': 56482,\n",
              " 'tags': 'Opioid Photos,Syringe Photos,Addiction Photos,Despair Photos,Heroin Photos,Addict Photos,Drug Overdose Photos,Recreational Drug Photos,Teenager Photos,IV Drip Photos,Abuse Photos,Adult,Amphetamine Photos,Close-Up Photos,Cocaine Photos,Criminal Photos,Danger Photos,Dependency Photos,Depression - Sadness Photos,Emotional Stress Photos,Forbidden Photos,Frustration Photos,Grief Photos,Hand Photos,Healthcare And Medicine Photos,Horizontal Photos,Human Body Part Photos,Human Hand Photos,Illness Photos,Photography Photos,Problems Photos,Risk Photos,Sharp Photos,Snorting Photos,Thailand Photos,Vein Photos,Worried Photos',\n",
              " 'url': 'https://www.gettyimages.co.uk/detail/photo/drugs-royalty-free-image/1016370166'}"
            ]
          },
          "metadata": {
            "tags": []
          },
          "execution_count": 23
        }
      ]
    },
    {
      "cell_type": "code",
      "metadata": {
        "id": "k0yECGKRmUx7",
        "colab_type": "code",
        "colab": {
          "base_uri": "https://localhost:8080/",
          "height": 85
        },
        "outputId": "0df716f0-87dd-42e5-86e2-4e40442cbdad"
      },
      "source": [
        "data[0]"
      ],
      "execution_count": 24,
      "outputs": [
        {
          "output_type": "execute_result",
          "data": {
            "text/plain": [
              "{'id': 42953,\n",
              " 'img': 'img/42953.png',\n",
              " 'label': 0,\n",
              " 'text': 'its their character not their color that matters'}"
            ]
          },
          "metadata": {
            "tags": []
          },
          "execution_count": 24
        }
      ]
    },
    {
      "cell_type": "code",
      "metadata": {
        "id": "B_n55oNntK4_",
        "colab_type": "code",
        "colab": {}
      },
      "source": [
        "data_ids=[d.get('id') for d in data]\n",
        "# [getty_dict[x] for id in data_ids]\n",
        "# x=next((item for item in getty_dict if item[\"image\"] == 56482), None)\n",
        "\n",
        "getty_captions=[]\n",
        "getty_tags=[]\n",
        "getty_color_score_features=[]\n",
        "\n",
        "for id in data_ids:\n",
        "  getty_captions.append(next((l['best_caption'] for l in getty_dict if l['image'] == id), ''))\n",
        "  getty_tags.append(next((l['best_tags'] for l in getty_dict if l['image'] == id), ''))\n",
        "  getty_color_score_features.append(next((l['Color_Score'] for l in getty_dict if l['image'] == id), 99999))\n",
        "\n",
        "getty_captions_clean=['' if v is None else str(v) for v in getty_captions]\n",
        "getty_tags_clean=['' if v is None else str(v) for v in getty_tags]\n"
      ],
      "execution_count": 25,
      "outputs": []
    },
    {
      "cell_type": "code",
      "metadata": {
        "id": "s1wzrE-JcGni",
        "colab_type": "code",
        "colab": {}
      },
      "source": [
        ""
      ],
      "execution_count": null,
      "outputs": []
    },
    {
      "cell_type": "code",
      "metadata": {
        "id": "QTIsQWxS0g9g",
        "colab_type": "code",
        "colab": {
          "base_uri": "https://localhost:8080/",
          "height": 34
        },
        "outputId": "32187740-9fb3-461b-9a30-ccb5e3b21428"
      },
      "source": [
        "getty_captions_clean[0]\n",
        "all(isinstance(x, str) for x in getty_captions_clean)"
      ],
      "execution_count": 26,
      "outputs": [
        {
          "output_type": "execute_result",
          "data": {
            "text/plain": [
              "True"
            ]
          },
          "metadata": {
            "tags": []
          },
          "execution_count": 26
        }
      ]
    },
    {
      "cell_type": "code",
      "metadata": {
        "id": "cgEoP4LnxycH",
        "colab_type": "code",
        "colab": {
          "base_uri": "https://localhost:8080/",
          "height": 375
        },
        "outputId": "fe6c5695-5858-4fb4-a999-ed1d839be030"
      },
      "source": [
        "image_ex_path=\"/content/gdrive/My Drive/colab/data_sources/hateful_memes/\"\n",
        "data_ex_path=\"/content/gdrive/My Drive/colab/data_sources/hateful_memes/train.jsonl\"\n",
        "    # bert_path=\"/home/jupyter/ThreeDAnime/bert_folder\"\n",
        "featurized_data_path=\"/content/gdrive/My Drive/colab/data_sources/hateful_memes/\"\n",
        "inception = models.resnet18()\n",
        "\n",
        "data = []\n",
        "\n",
        "with open(data_ex_path) as f:\n",
        "  for el in f:\n",
        "    data.append(json.loads(el))# Create features without looping\n",
        "textData=extract_text_features_simple([d.get('text') for d in data],model_text)\n",
        "image_rcnn_data=extract_image_features_rcnn(data,0.7)\n",
        "desc_labels=[[x[\"text\"],x[\"label\"]] for x in data]\n",
        "getty_tag_data=extract_text_features_simple(getty_tags_clean,model_text)\n",
        "getty_caption_data=extract_text_features_simple(getty_captions_clean,model_text)"
      ],
      "execution_count": null,
      "outputs": [
        {
          "output_type": "error",
          "ename": "KeyboardInterrupt",
          "evalue": "ignored",
          "traceback": [
            "\u001b[0;31m---------------------------------------------------------------------------\u001b[0m",
            "\u001b[0;31mKeyboardInterrupt\u001b[0m                         Traceback (most recent call last)",
            "\u001b[0;32m<ipython-input-131-fab5ea58541d>\u001b[0m in \u001b[0;36m<module>\u001b[0;34m()\u001b[0m\n\u001b[1;32m     13\u001b[0m \u001b[0mimage_rcnn_data\u001b[0m\u001b[0;34m=\u001b[0m\u001b[0mextract_image_features_rcnn\u001b[0m\u001b[0;34m(\u001b[0m\u001b[0mdata\u001b[0m\u001b[0;34m,\u001b[0m\u001b[0;36m0.7\u001b[0m\u001b[0;34m)\u001b[0m\u001b[0;34m\u001b[0m\u001b[0;34m\u001b[0m\u001b[0m\n\u001b[1;32m     14\u001b[0m \u001b[0mdesc_labels\u001b[0m\u001b[0;34m=\u001b[0m\u001b[0;34m[\u001b[0m\u001b[0;34m[\u001b[0m\u001b[0mx\u001b[0m\u001b[0;34m[\u001b[0m\u001b[0;34m\"text\"\u001b[0m\u001b[0;34m]\u001b[0m\u001b[0;34m,\u001b[0m\u001b[0mx\u001b[0m\u001b[0;34m[\u001b[0m\u001b[0;34m\"label\"\u001b[0m\u001b[0;34m]\u001b[0m\u001b[0;34m]\u001b[0m \u001b[0;32mfor\u001b[0m \u001b[0mx\u001b[0m \u001b[0;32min\u001b[0m \u001b[0mdata\u001b[0m\u001b[0;34m]\u001b[0m\u001b[0;34m\u001b[0m\u001b[0;34m\u001b[0m\u001b[0m\n\u001b[0;32m---> 15\u001b[0;31m \u001b[0mgetty_tag_data\u001b[0m\u001b[0;34m=\u001b[0m\u001b[0mextract_text_features_simple\u001b[0m\u001b[0;34m(\u001b[0m\u001b[0mgetty_tags_clean\u001b[0m\u001b[0;34m,\u001b[0m\u001b[0mmodel_text\u001b[0m\u001b[0;34m)\u001b[0m\u001b[0;34m\u001b[0m\u001b[0;34m\u001b[0m\u001b[0m\n\u001b[0m\u001b[1;32m     16\u001b[0m \u001b[0mgetty_caption_data\u001b[0m\u001b[0;34m=\u001b[0m\u001b[0mextract_text_features_simple\u001b[0m\u001b[0;34m(\u001b[0m\u001b[0mgetty_captions_clean\u001b[0m\u001b[0;34m,\u001b[0m\u001b[0mmodel_text\u001b[0m\u001b[0;34m)\u001b[0m\u001b[0;34m\u001b[0m\u001b[0;34m\u001b[0m\u001b[0m\n",
            "\u001b[0;32m<ipython-input-11-8feacd4242a6>\u001b[0m in \u001b[0;36mextract_text_features_simple\u001b[0;34m(data, model)\u001b[0m\n\u001b[1;32m      1\u001b[0m \u001b[0;32mdef\u001b[0m \u001b[0mextract_text_features_simple\u001b[0m\u001b[0;34m(\u001b[0m\u001b[0mdata\u001b[0m\u001b[0;34m,\u001b[0m \u001b[0mmodel\u001b[0m\u001b[0;34m)\u001b[0m\u001b[0;34m:\u001b[0m\u001b[0;34m\u001b[0m\u001b[0;34m\u001b[0m\u001b[0m\n\u001b[0;32m----> 2\u001b[0;31m     \u001b[0;32mreturn\u001b[0m \u001b[0mmodel\u001b[0m\u001b[0;34m.\u001b[0m\u001b[0mencode\u001b[0m\u001b[0;34m(\u001b[0m\u001b[0mdata\u001b[0m\u001b[0;34m)\u001b[0m\u001b[0;34m\u001b[0m\u001b[0;34m\u001b[0m\u001b[0m\n\u001b[0m",
            "\u001b[0;32m/usr/local/lib/python3.6/dist-packages/sentence_transformers/SentenceTransformer.py\u001b[0m in \u001b[0;36mencode\u001b[0;34m(self, sentences, batch_size, show_progress_bar, output_value, convert_to_numpy, convert_to_tensor, is_pretokenized)\u001b[0m\n\u001b[1;32m    182\u001b[0m \u001b[0;34m\u001b[0m\u001b[0m\n\u001b[1;32m    183\u001b[0m             \u001b[0;32mfor\u001b[0m \u001b[0mfeature_name\u001b[0m \u001b[0;32min\u001b[0m \u001b[0mfeatures\u001b[0m\u001b[0;34m:\u001b[0m\u001b[0;34m\u001b[0m\u001b[0;34m\u001b[0m\u001b[0m\n\u001b[0;32m--> 184\u001b[0;31m                 \u001b[0mfeatures\u001b[0m\u001b[0;34m[\u001b[0m\u001b[0mfeature_name\u001b[0m\u001b[0;34m]\u001b[0m \u001b[0;34m=\u001b[0m \u001b[0mtorch\u001b[0m\u001b[0;34m.\u001b[0m\u001b[0mcat\u001b[0m\u001b[0;34m(\u001b[0m\u001b[0mfeatures\u001b[0m\u001b[0;34m[\u001b[0m\u001b[0mfeature_name\u001b[0m\u001b[0;34m]\u001b[0m\u001b[0;34m)\u001b[0m\u001b[0;34m.\u001b[0m\u001b[0mto\u001b[0m\u001b[0;34m(\u001b[0m\u001b[0mself\u001b[0m\u001b[0;34m.\u001b[0m\u001b[0m_target_device\u001b[0m\u001b[0;34m)\u001b[0m\u001b[0;34m\u001b[0m\u001b[0;34m\u001b[0m\u001b[0m\n\u001b[0m\u001b[1;32m    185\u001b[0m \u001b[0;34m\u001b[0m\u001b[0m\n\u001b[1;32m    186\u001b[0m             \u001b[0;32mwith\u001b[0m \u001b[0mtorch\u001b[0m\u001b[0;34m.\u001b[0m\u001b[0mno_grad\u001b[0m\u001b[0;34m(\u001b[0m\u001b[0;34m)\u001b[0m\u001b[0;34m:\u001b[0m\u001b[0;34m\u001b[0m\u001b[0;34m\u001b[0m\u001b[0m\n",
            "\u001b[0;31mKeyboardInterrupt\u001b[0m: "
          ]
        }
      ]
    },
    {
      "cell_type": "code",
      "metadata": {
        "id": "9IUOkXKwcMAH",
        "colab_type": "code",
        "colab": {
          "base_uri": "https://localhost:8080/",
          "height": 204
        },
        "outputId": "0ac42fb4-b9b9-4d80-e228-36fc3e23eedb"
      },
      "source": [
        "text_df = pd.DataFrame({'id':data_ids, 'getty_caption':getty_captions_clean,'getty_tag':getty_tags_clean, 'color_score':getty_color_score_features, 'img_text': [d.get('text') for d in data],\n",
        "                         'label': [d.get('label') for d in data]})\n",
        "#10423 (tail 10) is fucked up\n",
        "\n",
        "text_df.head()"
      ],
      "execution_count": 27,
      "outputs": [
        {
          "output_type": "execute_result",
          "data": {
            "text/html": [
              "<div>\n",
              "<style scoped>\n",
              "    .dataframe tbody tr th:only-of-type {\n",
              "        vertical-align: middle;\n",
              "    }\n",
              "\n",
              "    .dataframe tbody tr th {\n",
              "        vertical-align: top;\n",
              "    }\n",
              "\n",
              "    .dataframe thead th {\n",
              "        text-align: right;\n",
              "    }\n",
              "</style>\n",
              "<table border=\"1\" class=\"dataframe\">\n",
              "  <thead>\n",
              "    <tr style=\"text-align: right;\">\n",
              "      <th></th>\n",
              "      <th>id</th>\n",
              "      <th>getty_caption</th>\n",
              "      <th>getty_tag</th>\n",
              "      <th>color_score</th>\n",
              "      <th>img_text</th>\n",
              "      <th>label</th>\n",
              "    </tr>\n",
              "  </thead>\n",
              "  <tbody>\n",
              "    <tr>\n",
              "      <th>0</th>\n",
              "      <td>42953</td>\n",
              "      <td>Portrait of a real young man. Sharp focus on eyes</td>\n",
              "      <td>Men   Overweight   Portrait   Human Face   Bea...</td>\n",
              "      <td>9.633716</td>\n",
              "      <td>its their character not their color that matters</td>\n",
              "      <td>0</td>\n",
              "    </tr>\n",
              "    <tr>\n",
              "      <th>1</th>\n",
              "      <td>23058</td>\n",
              "      <td>Handsome young groom sweetly kisses his bride'...</td>\n",
              "      <td>Wedding   African Ethnicity   Bride   Couple -...</td>\n",
              "      <td>4.856464</td>\n",
              "      <td>don't be afraid to love again everyone is not ...</td>\n",
              "      <td>0</td>\n",
              "    </tr>\n",
              "    <tr>\n",
              "      <th>2</th>\n",
              "      <td>13894</td>\n",
              "      <td>A local/homeless cat in daily life in the vill...</td>\n",
              "      <td>Domestic Cat   Portrait   Abandoned   Animal  ...</td>\n",
              "      <td>26.664872</td>\n",
              "      <td>putting bows on your pet</td>\n",
              "      <td>0</td>\n",
              "    </tr>\n",
              "    <tr>\n",
              "      <th>3</th>\n",
              "      <td>37408</td>\n",
              "      <td>Photo taken in Kirkcaldy, United Kingdom</td>\n",
              "      <td>Animal   Animal Body Part   Animal Eye   Anima...</td>\n",
              "      <td>11.788920</td>\n",
              "      <td>i love everything and everybody! except for sq...</td>\n",
              "      <td>0</td>\n",
              "    </tr>\n",
              "    <tr>\n",
              "      <th>4</th>\n",
              "      <td>82403</td>\n",
              "      <td>Large group of business people cheering while ...</td>\n",
              "      <td>Excitement   Business   Watching TV   Board Ro...</td>\n",
              "      <td>136.522464</td>\n",
              "      <td>everybody loves chocolate chip cookies, even h...</td>\n",
              "      <td>0</td>\n",
              "    </tr>\n",
              "  </tbody>\n",
              "</table>\n",
              "</div>"
            ],
            "text/plain": [
              "      id  ... label\n",
              "0  42953  ...     0\n",
              "1  23058  ...     0\n",
              "2  13894  ...     0\n",
              "3  37408  ...     0\n",
              "4  82403  ...     0\n",
              "\n",
              "[5 rows x 6 columns]"
            ]
          },
          "metadata": {
            "tags": []
          },
          "execution_count": 27
        }
      ]
    },
    {
      "cell_type": "code",
      "metadata": {
        "id": "Ppcb_Zb1hnf1",
        "colab_type": "code",
        "colab": {}
      },
      "source": [
        "bing=bing[~bing['image_clean'].str.contains(\"\\(\")]\n",
        "bing['image_clean']=bing['image_clean'].astype(int)"
      ],
      "execution_count": 28,
      "outputs": []
    },
    {
      "cell_type": "code",
      "metadata": {
        "id": "AWKuLFUEzz-W",
        "colab_type": "code",
        "colab": {
          "base_uri": "https://localhost:8080/",
          "height": 34
        },
        "outputId": "5d54f370-90e2-4867-ccd8-d56d2a7a9488"
      },
      "source": [
        "text_df=text_df.merge(bing, how='left',  left_on=['id'], right_on = ['image_clean'])\n",
        "text_df.head()\n",
        "text_df.shape"
      ],
      "execution_count": 29,
      "outputs": [
        {
          "output_type": "execute_result",
          "data": {
            "text/plain": [
              "(8500, 18)"
            ]
          },
          "metadata": {
            "tags": []
          },
          "execution_count": 29
        }
      ]
    },
    {
      "cell_type": "code",
      "metadata": {
        "id": "E_1vW-k22Bpk",
        "colab_type": "code",
        "colab": {}
      },
      "source": [
        ""
      ],
      "execution_count": 29,
      "outputs": []
    },
    {
      "cell_type": "code",
      "metadata": {
        "id": "QS1uMZ1C0HiG",
        "colab_type": "code",
        "colab": {
          "base_uri": "https://localhost:8080/",
          "height": 68
        },
        "outputId": "246d4faa-f69d-4782-97c6-acebdcd9062a"
      },
      "source": [
        "text_df[\"combined_text\"] = text_df[\"getty_caption\"] + ' '+ text_df[\"getty_tag\"] + ' '+ text_df[\"img_text\"]+ ' '+ text_df[\"combined_str\"].fillna('')\n",
        "text_df['feature_hitler'] = text_df[\"combined_text\"].str.lower().str.contains(\"hitler\", na=False)\n",
        "text_df['feature_hitler'].value_counts(normalize=True)"
      ],
      "execution_count": 30,
      "outputs": [
        {
          "output_type": "execute_result",
          "data": {
            "text/plain": [
              "False    0.971412\n",
              "True     0.028588\n",
              "Name: feature_hitler, dtype: float64"
            ]
          },
          "metadata": {
            "tags": []
          },
          "execution_count": 30
        }
      ]
    },
    {
      "cell_type": "code",
      "metadata": {
        "id": "mEmC7EFLe9TA",
        "colab_type": "code",
        "colab": {
          "base_uri": "https://localhost:8080/",
          "height": 258
        },
        "outputId": "964b0f4a-7e7d-41fe-fc7c-5739bc639e2d"
      },
      "source": [
        "!pip install hatesonar"
      ],
      "execution_count": 31,
      "outputs": [
        {
          "output_type": "stream",
          "text": [
            "Collecting hatesonar\n",
            "\u001b[?25l  Downloading https://files.pythonhosted.org/packages/d7/85/8b2fc72232935c1833a556969194c183c5781c445f08404472e2dd941a3d/hatesonar-0.0.7-py3-none-any.whl (883kB)\n",
            "\u001b[K     |████████████████████████████████| 890kB 4.9MB/s \n",
            "\u001b[?25hRequirement already satisfied: scikit-learn>=0.19.1 in /usr/local/lib/python3.6/dist-packages (from hatesonar) (0.22.2.post1)\n",
            "Requirement already satisfied: joblib>=0.16.0 in /usr/local/lib/python3.6/dist-packages (from hatesonar) (0.16.0)\n",
            "Requirement already satisfied: numpy>=1.14.0 in /usr/local/lib/python3.6/dist-packages (from hatesonar) (1.18.5)\n",
            "Requirement already satisfied: pandas>=0.22.0 in /usr/local/lib/python3.6/dist-packages (from hatesonar) (1.0.5)\n",
            "Requirement already satisfied: scipy>=1.0.0 in /usr/local/lib/python3.6/dist-packages (from hatesonar) (1.4.1)\n",
            "Requirement already satisfied: pytz>=2017.2 in /usr/local/lib/python3.6/dist-packages (from pandas>=0.22.0->hatesonar) (2018.9)\n",
            "Requirement already satisfied: python-dateutil>=2.6.1 in /usr/local/lib/python3.6/dist-packages (from pandas>=0.22.0->hatesonar) (2.8.1)\n",
            "Requirement already satisfied: six>=1.5 in /usr/local/lib/python3.6/dist-packages (from python-dateutil>=2.6.1->pandas>=0.22.0->hatesonar) (1.15.0)\n",
            "Installing collected packages: hatesonar\n",
            "Successfully installed hatesonar-0.0.7\n"
          ],
          "name": "stdout"
        }
      ]
    },
    {
      "cell_type": "code",
      "metadata": {
        "id": "-3y36DVWfBYt",
        "colab_type": "code",
        "colab": {
          "base_uri": "https://localhost:8080/",
          "height": 173
        },
        "outputId": "56409989-5321-4006-889c-5f99689cb4f4"
      },
      "source": [
        "from hatesonar import Sonar\n",
        "sonar = Sonar()\n",
        "# sonar.ping(text=\"At least I'm not a nigger\")"
      ],
      "execution_count": 32,
      "outputs": [
        {
          "output_type": "stream",
          "text": [
            "/usr/local/lib/python3.6/dist-packages/sklearn/utils/deprecation.py:144: FutureWarning: The sklearn.linear_model.logistic module is  deprecated in version 0.22 and will be removed in version 0.24. The corresponding classes / functions should instead be imported from sklearn.linear_model. Anything that cannot be imported from sklearn.linear_model is now part of the private API.\n",
            "  warnings.warn(message, FutureWarning)\n",
            "/usr/local/lib/python3.6/dist-packages/sklearn/base.py:318: UserWarning: Trying to unpickle estimator LogisticRegression from version 0.19.1 when using version 0.22.2.post1. This might lead to breaking code or invalid results. Use at your own risk.\n",
            "  UserWarning)\n",
            "/usr/local/lib/python3.6/dist-packages/sklearn/base.py:318: UserWarning: Trying to unpickle estimator TfidfTransformer from version 0.19.1 when using version 0.22.2.post1. This might lead to breaking code or invalid results. Use at your own risk.\n",
            "  UserWarning)\n",
            "/usr/local/lib/python3.6/dist-packages/sklearn/base.py:318: UserWarning: Trying to unpickle estimator TfidfVectorizer from version 0.19.1 when using version 0.22.2.post1. This might lead to breaking code or invalid results. Use at your own risk.\n",
            "  UserWarning)\n"
          ],
          "name": "stderr"
        }
      ]
    },
    {
      "cell_type": "code",
      "metadata": {
        "id": "KYOvfanvlvIL",
        "colab_type": "code",
        "colab": {}
      },
      "source": [
        "# [d.get('text') for d in data][0]\n",
        "# getty_captions_clean[0]"
      ],
      "execution_count": 33,
      "outputs": []
    },
    {
      "cell_type": "code",
      "metadata": {
        "id": "N_3oHmRpfKnL",
        "colab_type": "code",
        "colab": {}
      },
      "source": [
        "ctext_list=text_df.combined_text.to_list()\n",
        "#ctext_list = [a + ' ' + b+ ' ' + c for a, b, c in zip([d.get('text') for d in data], getty_captions_clean, getty_tags_clean)]\n",
        "# ctext_list=[d.get('text') for d in data]"
      ],
      "execution_count": 34,
      "outputs": []
    },
    {
      "cell_type": "code",
      "metadata": {
        "id": "lUr5i-_Zl8-t",
        "colab_type": "code",
        "colab": {
          "base_uri": "https://localhost:8080/",
          "height": 137
        },
        "outputId": "d6a36811-476a-4ec0-b23a-82ed3ac5c31a"
      },
      "source": [
        "ctext_list[0]"
      ],
      "execution_count": 35,
      "outputs": [
        {
          "output_type": "execute_result",
          "data": {
            "application/vnd.google.colaboratory.intrinsic+json": {
              "type": "string"
            },
            "text/plain": [
              "'Portrait of a real young man. Sharp focus on eyes Men   Overweight   Portrait   Human Face   Beard   Pride   Males   Negative Emotion   Sadness   Black Background   Studio Shot   Displeased   Attitude   Moustache   Young Adult   Characters   Latin American and Hispanic   Pale Complexion   Youth Culture   20-29 Years   Authority   Black   Fine Art Portrait   Masculinity   Photography   Serious   Staring   Young Men   Adult Adults Only   Beautiful People   Catalonia   Caucasian Appearance   Colour Image   Differential Focus   Disappointment   Extreme Close Up   Facial Expression   Facial Hair   Handsome People   Headshot   Human Body Part   Human Head   Image Focus Technique   Individuality   Long Hair   Looking At Camera   Macro   Mixed Race Person   Mug Shot   One Man Only   One Person   One Young Man Only   Only Men   People   Real People   Rebellion   Serene People   Southern European   Spain   Spanish Culture   Vertical   Vignette   Photos its their character not their color that matters  Say Hello To The Stunning 600bhp Carbonfibre Aston Martin ... Anti Bo Dallas J. Edgar (2011) – Deep Focus Review – Movie Reviews ... Vin Diesel Stills @vindieselgallery - \"Her name was Letty ... Tuco Breaking Bad Quotes. QuotesGram Oigame NO | Facebook Happy Birthday Willi meme - Kevin Hart The Hell (81291 ... Vegan documentary on farmer who saved his cows from ... Some thoughts and disagreements on The Matrix as a trans ... Screenat Sarcasm | Facebook Stanley Tucci Quotes. QuotesGram the green mile on Tumblr 1000+ images about Adapt. Evolve. Become. on Pinterest ... Dont know if she love me ....or she love Deez Nuts | Make ... I\\'ll just wait for the nets to turn it over again classic quotes on Tumblr Snowfall | Season 1 Ep. 6: A Long Time Coming Trailer | FX ... Being nosey Memes Beard Shaping Tool - Shape Your Beard Like a Master Barber ... Missile Maintenance Memes & Humor - Home | Facebook Best bounce GIFs - Primo GIF - Latest Animated GIFs The Walking Dead Finale: And the memes just keep on coming Phil Collins Hello, I Must Be Going! Records, LPs, Vinyl ... John Wick 2 | Geekdom Amino “Nowhere” tells the story of how one man escaped the hell ... Kendrick Nunn 20 Points/5 Assists Full Highlights (11/12 ... 40 Glocc & Zoo Life Talking Wreckless About Young Money ... The Blacklist : The Complete Fourth Season – Now on Blu ... Duke Ellington - This Is Jazz │ 7 | Releases | Discogs Dean and Abaddon | Supernatural quote | Tv supernatural ... Reader Girls Blog: Blog Tour: Someone Else\\'s Skye by ... 1x09 Home (With images) | Supernatural cast, Supernatural My favorite on Sons of Anarchy and Breaking Bad | Breaking ... Jang Ki Yong \"Please, stop.. Please\" [Come and Hug Me Ep ... 229 Best West Wing Awesomeness images | West wing, West ... '"
            ]
          },
          "metadata": {
            "tags": []
          },
          "execution_count": 35
        }
      ]
    },
    {
      "cell_type": "code",
      "metadata": {
        "id": "ZJ6oRqhY1oj5",
        "colab_type": "code",
        "colab": {}
      },
      "source": [
        ""
      ],
      "execution_count": 35,
      "outputs": []
    },
    {
      "cell_type": "code",
      "metadata": {
        "id": "B-ktyWtxfSYG",
        "colab_type": "code",
        "colab": {}
      },
      "source": [
        "hate_list=[]\n",
        "\n",
        "for text in ctext_list:\n",
        "  row=[]\n",
        "  row.append(sonar.ping(text=str(text or '')).get('classes')[0].get('confidence'))\n",
        "  row.append(sonar.ping(text=str(text or '')).get('classes')[1].get('confidence'))\n",
        "  row.append(sonar.ping(text=str(text or '')).get('classes')[2].get('confidence'))\n",
        "  hate_list.append(row)\n",
        "  # hate_speech=sonar.ping(text=ctext_list[0]).get('classes')[0].get('confidence')\n",
        "  # offensive_language=sonar.ping(text=ctext_list[0]).get('classes')[1].get('confidence')\n",
        "  # neither=sonar.ping(text=ctext_list[0]).get('classes')[2].get('confidence')\n"
      ],
      "execution_count": 36,
      "outputs": []
    },
    {
      "cell_type": "code",
      "metadata": {
        "id": "U41nKZZMgnSy",
        "colab_type": "code",
        "colab": {
          "base_uri": "https://localhost:8080/",
          "height": 204
        },
        "outputId": "00b5f4bc-dfa5-4fc3-e554-564dd1b20aaa"
      },
      "source": [
        "hate_df = pd.DataFrame(hate_list, columns=['hate_speech','offensive_language','neither'])\n",
        "hate_df.tail()"
      ],
      "execution_count": 37,
      "outputs": [
        {
          "output_type": "execute_result",
          "data": {
            "text/html": [
              "<div>\n",
              "<style scoped>\n",
              "    .dataframe tbody tr th:only-of-type {\n",
              "        vertical-align: middle;\n",
              "    }\n",
              "\n",
              "    .dataframe tbody tr th {\n",
              "        vertical-align: top;\n",
              "    }\n",
              "\n",
              "    .dataframe thead th {\n",
              "        text-align: right;\n",
              "    }\n",
              "</style>\n",
              "<table border=\"1\" class=\"dataframe\">\n",
              "  <thead>\n",
              "    <tr style=\"text-align: right;\">\n",
              "      <th></th>\n",
              "      <th>hate_speech</th>\n",
              "      <th>offensive_language</th>\n",
              "      <th>neither</th>\n",
              "    </tr>\n",
              "  </thead>\n",
              "  <tbody>\n",
              "    <tr>\n",
              "      <th>8495</th>\n",
              "      <td>0.109257</td>\n",
              "      <td>0.333365</td>\n",
              "      <td>0.557378</td>\n",
              "    </tr>\n",
              "    <tr>\n",
              "      <th>8496</th>\n",
              "      <td>0.165727</td>\n",
              "      <td>0.390107</td>\n",
              "      <td>0.444166</td>\n",
              "    </tr>\n",
              "    <tr>\n",
              "      <th>8497</th>\n",
              "      <td>0.043007</td>\n",
              "      <td>0.352724</td>\n",
              "      <td>0.604268</td>\n",
              "    </tr>\n",
              "    <tr>\n",
              "      <th>8498</th>\n",
              "      <td>0.058414</td>\n",
              "      <td>0.428047</td>\n",
              "      <td>0.513538</td>\n",
              "    </tr>\n",
              "    <tr>\n",
              "      <th>8499</th>\n",
              "      <td>0.136578</td>\n",
              "      <td>0.269248</td>\n",
              "      <td>0.594175</td>\n",
              "    </tr>\n",
              "  </tbody>\n",
              "</table>\n",
              "</div>"
            ],
            "text/plain": [
              "      hate_speech  offensive_language   neither\n",
              "8495     0.109257            0.333365  0.557378\n",
              "8496     0.165727            0.390107  0.444166\n",
              "8497     0.043007            0.352724  0.604268\n",
              "8498     0.058414            0.428047  0.513538\n",
              "8499     0.136578            0.269248  0.594175"
            ]
          },
          "metadata": {
            "tags": []
          },
          "execution_count": 37
        }
      ]
    },
    {
      "cell_type": "code",
      "metadata": {
        "id": "kzJgWaE1og5V",
        "colab_type": "code",
        "colab": {
          "base_uri": "https://localhost:8080/",
          "height": 34
        },
        "outputId": "69634bcb-920b-40ec-9dfd-5b1a715abf92"
      },
      "source": [
        "hate_df.shape"
      ],
      "execution_count": 38,
      "outputs": [
        {
          "output_type": "execute_result",
          "data": {
            "text/plain": [
              "(8500, 3)"
            ]
          },
          "metadata": {
            "tags": []
          },
          "execution_count": 38
        }
      ]
    },
    {
      "cell_type": "code",
      "metadata": {
        "id": "TjIFMDoBhSYX",
        "colab_type": "code",
        "colab": {
          "base_uri": "https://localhost:8080/",
          "height": 615
        },
        "outputId": "4bd3ff61-184a-47c0-a824-a3dda1a5d956"
      },
      "source": [
        "feature_df= pd.concat([text_df,hate_df],axis=1)\n",
        "feature_df.head()"
      ],
      "execution_count": 39,
      "outputs": [
        {
          "output_type": "execute_result",
          "data": {
            "text/html": [
              "<div>\n",
              "<style scoped>\n",
              "    .dataframe tbody tr th:only-of-type {\n",
              "        vertical-align: middle;\n",
              "    }\n",
              "\n",
              "    .dataframe tbody tr th {\n",
              "        vertical-align: top;\n",
              "    }\n",
              "\n",
              "    .dataframe thead th {\n",
              "        text-align: right;\n",
              "    }\n",
              "</style>\n",
              "<table border=\"1\" class=\"dataframe\">\n",
              "  <thead>\n",
              "    <tr style=\"text-align: right;\">\n",
              "      <th></th>\n",
              "      <th>id</th>\n",
              "      <th>getty_caption</th>\n",
              "      <th>getty_tag</th>\n",
              "      <th>color_score</th>\n",
              "      <th>img_text</th>\n",
              "      <th>label</th>\n",
              "      <th>image</th>\n",
              "      <th>description</th>\n",
              "      <th>link</th>\n",
              "      <th>img_src</th>\n",
              "      <th>rel</th>\n",
              "      <th>alternate_hypothesis</th>\n",
              "      <th>image_clean</th>\n",
              "      <th>alt_str</th>\n",
              "      <th>rel_str</th>\n",
              "      <th>desc_str</th>\n",
              "      <th>combined_str</th>\n",
              "      <th>feature_hitler</th>\n",
              "      <th>combined_text</th>\n",
              "      <th>hate_speech</th>\n",
              "      <th>offensive_language</th>\n",
              "      <th>neither</th>\n",
              "    </tr>\n",
              "  </thead>\n",
              "  <tbody>\n",
              "    <tr>\n",
              "      <th>0</th>\n",
              "      <td>42953</td>\n",
              "      <td>Portrait of a real young man. Sharp focus on eyes</td>\n",
              "      <td>Men   Overweight   Portrait   Human Face   Bea...</td>\n",
              "      <td>9.633716</td>\n",
              "      <td>its their character not their color that matters</td>\n",
              "      <td>0</td>\n",
              "      <td>42953.png</td>\n",
              "      <td>[]</td>\n",
              "      <td>[]</td>\n",
              "      <td>[]</td>\n",
              "      <td>[]</td>\n",
              "      <td>[Say Hello To The Stunning 600bhp Carbonfibre ...</td>\n",
              "      <td>42953.0</td>\n",
              "      <td>Say Hello To The Stunning 600bhp Carbonfibre A...</td>\n",
              "      <td></td>\n",
              "      <td></td>\n",
              "      <td>Say Hello To The Stunning 600bhp Carbonfibre ...</td>\n",
              "      <td>False</td>\n",
              "      <td>Portrait of a real young man. Sharp focus on e...</td>\n",
              "      <td>0.076131</td>\n",
              "      <td>0.450052</td>\n",
              "      <td>0.473817</td>\n",
              "    </tr>\n",
              "    <tr>\n",
              "      <th>1</th>\n",
              "      <td>23058</td>\n",
              "      <td>Handsome young groom sweetly kisses his bride'...</td>\n",
              "      <td>Wedding   African Ethnicity   Bride   Couple -...</td>\n",
              "      <td>4.856464</td>\n",
              "      <td>don't be afraid to love again everyone is not ...</td>\n",
              "      <td>0</td>\n",
              "      <td>23058.png</td>\n",
              "      <td>[]</td>\n",
              "      <td>[]</td>\n",
              "      <td>[]</td>\n",
              "      <td>[]</td>\n",
              "      <td>[Ready For Hillary - To Struggle With A Carpet...</td>\n",
              "      <td>23058.0</td>\n",
              "      <td>Ready For Hillary - To Struggle With A Carpetb...</td>\n",
              "      <td></td>\n",
              "      <td></td>\n",
              "      <td>Ready For Hillary - To Struggle With A Carpet...</td>\n",
              "      <td>False</td>\n",
              "      <td>Handsome young groom sweetly kisses his bride'...</td>\n",
              "      <td>0.103628</td>\n",
              "      <td>0.391444</td>\n",
              "      <td>0.504928</td>\n",
              "    </tr>\n",
              "    <tr>\n",
              "      <th>2</th>\n",
              "      <td>13894</td>\n",
              "      <td>A local/homeless cat in daily life in the vill...</td>\n",
              "      <td>Domestic Cat   Portrait   Abandoned   Animal  ...</td>\n",
              "      <td>26.664872</td>\n",
              "      <td>putting bows on your pet</td>\n",
              "      <td>0</td>\n",
              "      <td>13894.png</td>\n",
              "      <td>[]</td>\n",
              "      <td>[]</td>\n",
              "      <td>[]</td>\n",
              "      <td>[Cats, Mammals, Animals, House Cats]</td>\n",
              "      <td>[DUDUPETS ถุงมือแปรงขนสัตว์เลี้ยงข้างขวา ขนาด ...</td>\n",
              "      <td>13894.0</td>\n",
              "      <td>DUDUPETS ถุงมือแปรงขนสัตว์เลี้ยงข้างขวา ขนาด 1...</td>\n",
              "      <td>Cats Mammals Animals House Cats</td>\n",
              "      <td></td>\n",
              "      <td>Cats Mammals Animals House Cats DUDUPETS ถุงมื...</td>\n",
              "      <td>False</td>\n",
              "      <td>A local/homeless cat in daily life in the vill...</td>\n",
              "      <td>0.092051</td>\n",
              "      <td>0.333393</td>\n",
              "      <td>0.574556</td>\n",
              "    </tr>\n",
              "    <tr>\n",
              "      <th>3</th>\n",
              "      <td>37408</td>\n",
              "      <td>Photo taken in Kirkcaldy, United Kingdom</td>\n",
              "      <td>Animal   Animal Body Part   Animal Eye   Anima...</td>\n",
              "      <td>11.788920</td>\n",
              "      <td>i love everything and everybody! except for sq...</td>\n",
              "      <td>0</td>\n",
              "      <td>37408.png</td>\n",
              "      <td>[]</td>\n",
              "      <td>[]</td>\n",
              "      <td>[]</td>\n",
              "      <td>[]</td>\n",
              "      <td>[9 Best Rottweiler images in 2014 | Cubs, Cut ...</td>\n",
              "      <td>37408.0</td>\n",
              "      <td>9 Best Rottweiler images in 2014 | Cubs, Cut a...</td>\n",
              "      <td></td>\n",
              "      <td></td>\n",
              "      <td>9 Best Rottweiler images in 2014 | Cubs, Cut ...</td>\n",
              "      <td>False</td>\n",
              "      <td>Photo taken in Kirkcaldy, United Kingdom Anima...</td>\n",
              "      <td>0.041845</td>\n",
              "      <td>0.305829</td>\n",
              "      <td>0.652326</td>\n",
              "    </tr>\n",
              "    <tr>\n",
              "      <th>4</th>\n",
              "      <td>82403</td>\n",
              "      <td>Large group of business people cheering while ...</td>\n",
              "      <td>Excitement   Business   Watching TV   Board Ro...</td>\n",
              "      <td>136.522464</td>\n",
              "      <td>everybody loves chocolate chip cookies, even h...</td>\n",
              "      <td>0</td>\n",
              "      <td>NaN</td>\n",
              "      <td>NaN</td>\n",
              "      <td>NaN</td>\n",
              "      <td>NaN</td>\n",
              "      <td>NaN</td>\n",
              "      <td>NaN</td>\n",
              "      <td>NaN</td>\n",
              "      <td>NaN</td>\n",
              "      <td>NaN</td>\n",
              "      <td>NaN</td>\n",
              "      <td>NaN</td>\n",
              "      <td>True</td>\n",
              "      <td>Large group of business people cheering while ...</td>\n",
              "      <td>0.057202</td>\n",
              "      <td>0.348490</td>\n",
              "      <td>0.594308</td>\n",
              "    </tr>\n",
              "  </tbody>\n",
              "</table>\n",
              "</div>"
            ],
            "text/plain": [
              "      id  ...   neither\n",
              "0  42953  ...  0.473817\n",
              "1  23058  ...  0.504928\n",
              "2  13894  ...  0.574556\n",
              "3  37408  ...  0.652326\n",
              "4  82403  ...  0.594308\n",
              "\n",
              "[5 rows x 22 columns]"
            ]
          },
          "metadata": {
            "tags": []
          },
          "execution_count": 39
        }
      ]
    },
    {
      "cell_type": "code",
      "metadata": {
        "id": "V5mjdc494J68",
        "colab_type": "code",
        "colab": {
          "base_uri": "https://localhost:8080/",
          "height": 265
        },
        "outputId": "8bc7abc0-2c2f-4a80-c0e1-825ee9aafcc5"
      },
      "source": [
        "s = feature_df.offensive_language\n",
        "ax = s.plot.kde()"
      ],
      "execution_count": 40,
      "outputs": [
        {
          "output_type": "display_data",
          "data": {
            "image/png": "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\n",
            "text/plain": [
              "<Figure size 432x288 with 1 Axes>"
            ]
          },
          "metadata": {
            "tags": [],
            "needs_background": "light"
          }
        }
      ]
    },
    {
      "cell_type": "code",
      "metadata": {
        "id": "ZaXsRXcOhdAl",
        "colab_type": "code",
        "colab": {
          "base_uri": "https://localhost:8080/",
          "height": 51
        },
        "outputId": "f4b3feed-5ee8-47aa-e7e5-0017e1b1c4e5"
      },
      "source": [
        "feature_df['predicted_label'] = np.where(feature_df['hate_speech']>=0.1, 1, 0)\n",
        "feature_df.sort_values(by='hate_speech', ascending=False).head()\n",
        "confusion_matrix(feature_df.label,feature_df.predicted_label)"
      ],
      "execution_count": 41,
      "outputs": [
        {
          "output_type": "execute_result",
          "data": {
            "text/plain": [
              "array([[4708,  742],\n",
              "       [2477,  573]])"
            ]
          },
          "metadata": {
            "tags": []
          },
          "execution_count": 41
        }
      ]
    },
    {
      "cell_type": "code",
      "metadata": {
        "id": "KWFbbj6l4DvL",
        "colab_type": "code",
        "colab": {}
      },
      "source": [
        ""
      ],
      "execution_count": 41,
      "outputs": []
    },
    {
      "cell_type": "code",
      "metadata": {
        "id": "qSKaXjJgi6bE",
        "colab_type": "code",
        "colab": {
          "base_uri": "https://localhost:8080/",
          "height": 34
        },
        "outputId": "0992be69-59e3-447a-f9d0-cfd7d429c376"
      },
      "source": [
        "accuracy_score(feature_df.label,feature_df.predicted_label)"
      ],
      "execution_count": 42,
      "outputs": [
        {
          "output_type": "execute_result",
          "data": {
            "text/plain": [
              "0.6212941176470588"
            ]
          },
          "metadata": {
            "tags": []
          },
          "execution_count": 42
        }
      ]
    },
    {
      "cell_type": "code",
      "metadata": {
        "id": "fjbfAOK9i6g-",
        "colab_type": "code",
        "colab": {
          "base_uri": "https://localhost:8080/",
          "height": 34
        },
        "outputId": "fad0826b-f97e-4bf7-85d5-2acd25520e77"
      },
      "source": [
        "from sklearn.metrics import roc_auc_score\n",
        "roc_auc_score(feature_df.label,feature_df.predicted_label)"
      ],
      "execution_count": 43,
      "outputs": [
        {
          "output_type": "execute_result",
          "data": {
            "text/plain": [
              "0.5258610317340954"
            ]
          },
          "metadata": {
            "tags": []
          },
          "execution_count": 43
        }
      ]
    },
    {
      "cell_type": "code",
      "metadata": {
        "id": "6evhdVM4Z1eW",
        "colab_type": "code",
        "colab": {
          "base_uri": "https://localhost:8080/",
          "height": 164
        },
        "outputId": "54b99474-0092-4543-9635-dca61e00b2cb"
      },
      "source": [
        "getty_caption_data.shape"
      ],
      "execution_count": 44,
      "outputs": [
        {
          "output_type": "error",
          "ename": "NameError",
          "evalue": "ignored",
          "traceback": [
            "\u001b[0;31m---------------------------------------------------------------------------\u001b[0m",
            "\u001b[0;31mNameError\u001b[0m                                 Traceback (most recent call last)",
            "\u001b[0;32m<ipython-input-44-c3620d5aa855>\u001b[0m in \u001b[0;36m<module>\u001b[0;34m()\u001b[0m\n\u001b[0;32m----> 1\u001b[0;31m \u001b[0mgetty_caption_data\u001b[0m\u001b[0;34m.\u001b[0m\u001b[0mshape\u001b[0m\u001b[0;34m\u001b[0m\u001b[0;34m\u001b[0m\u001b[0m\n\u001b[0m",
            "\u001b[0;31mNameError\u001b[0m: name 'getty_caption_data' is not defined"
          ]
        }
      ]
    },
    {
      "cell_type": "code",
      "metadata": {
        "id": "s56SiZ-0fAu_",
        "colab_type": "code",
        "colab": {}
      },
      "source": [
        "image_ex_path=\"/content/gdrive/My Drive/colab/data_sources/hateful_memes/\"\n",
        "data_ex_path=\"/content/gdrive/My Drive/colab/data_sources/hateful_memes/train.jsonl\"\n",
        "    # bert_path=\"/home/jupyter/ThreeDAnime/bert_folder\"\n",
        "featurized_data_path=\"/content/gdrive/My Drive/colab/data_sources/hateful_memes/\"\n",
        "\n"
      ],
      "execution_count": 111,
      "outputs": []
    },
    {
      "cell_type": "code",
      "metadata": {
        "id": "gzI6GdbiACIr",
        "colab_type": "code",
        "colab": {}
      },
      "source": [
        "bing_alt_str_features=extract_text_features_simple(feature_df.alt_str.fillna('').to_list(),model_text)\n",
        "bing_rel_str_features=extract_text_features_simple(feature_df.rel_str.fillna('').to_list(),model_text)\n",
        "bing_desc_str_features=extract_text_features_simple(feature_df.desc_str.fillna('').to_list(),model_text)\n",
        "hitler_features=feature_df.feature_hitler.astype(int).to_list()\n",
        "hate_speech_features=feature_df.hate_speech.to_list()\n",
        "offensive_features=feature_df.offensive_language.to_list()\n",
        "neither_features=feature_df.neither.to_list()"
      ],
      "execution_count": 45,
      "outputs": []
    },
    {
      "cell_type": "code",
      "metadata": {
        "id": "LDigzmmge8c6",
        "colab_type": "code",
        "colab": {
          "base_uri": "https://localhost:8080/",
          "height": 615
        },
        "outputId": "cb7c2ddf-9efa-4f2f-9422-62a9996259e4"
      },
      "source": [
        "# feature_df[['feature_hitler','hate_speech','offensive_language','neither']].head()\n",
        "feature_df.head()"
      ],
      "execution_count": 74,
      "outputs": [
        {
          "output_type": "execute_result",
          "data": {
            "text/html": [
              "<div>\n",
              "<style scoped>\n",
              "    .dataframe tbody tr th:only-of-type {\n",
              "        vertical-align: middle;\n",
              "    }\n",
              "\n",
              "    .dataframe tbody tr th {\n",
              "        vertical-align: top;\n",
              "    }\n",
              "\n",
              "    .dataframe thead th {\n",
              "        text-align: right;\n",
              "    }\n",
              "</style>\n",
              "<table border=\"1\" class=\"dataframe\">\n",
              "  <thead>\n",
              "    <tr style=\"text-align: right;\">\n",
              "      <th></th>\n",
              "      <th>id</th>\n",
              "      <th>getty_caption</th>\n",
              "      <th>getty_tag</th>\n",
              "      <th>color_score</th>\n",
              "      <th>img_text</th>\n",
              "      <th>label</th>\n",
              "      <th>image</th>\n",
              "      <th>description</th>\n",
              "      <th>link</th>\n",
              "      <th>img_src</th>\n",
              "      <th>rel</th>\n",
              "      <th>alternate_hypothesis</th>\n",
              "      <th>image_clean</th>\n",
              "      <th>alt_str</th>\n",
              "      <th>rel_str</th>\n",
              "      <th>desc_str</th>\n",
              "      <th>combined_str</th>\n",
              "      <th>feature_hitler</th>\n",
              "      <th>combined_text</th>\n",
              "      <th>hate_speech</th>\n",
              "      <th>offensive_language</th>\n",
              "      <th>neither</th>\n",
              "      <th>predicted_label</th>\n",
              "    </tr>\n",
              "  </thead>\n",
              "  <tbody>\n",
              "    <tr>\n",
              "      <th>0</th>\n",
              "      <td>42953</td>\n",
              "      <td>Portrait of a real young man. Sharp focus on eyes</td>\n",
              "      <td>Men   Overweight   Portrait   Human Face   Bea...</td>\n",
              "      <td>9.633716</td>\n",
              "      <td>its their character not their color that matters</td>\n",
              "      <td>0</td>\n",
              "      <td>42953.png</td>\n",
              "      <td>[]</td>\n",
              "      <td>[]</td>\n",
              "      <td>[]</td>\n",
              "      <td>[]</td>\n",
              "      <td>[Say Hello To The Stunning 600bhp Carbonfibre ...</td>\n",
              "      <td>42953.0</td>\n",
              "      <td>Say Hello To The Stunning 600bhp Carbonfibre A...</td>\n",
              "      <td></td>\n",
              "      <td></td>\n",
              "      <td>Say Hello To The Stunning 600bhp Carbonfibre ...</td>\n",
              "      <td>False</td>\n",
              "      <td>Portrait of a real young man. Sharp focus on e...</td>\n",
              "      <td>0.076131</td>\n",
              "      <td>0.450052</td>\n",
              "      <td>0.473817</td>\n",
              "      <td>0</td>\n",
              "    </tr>\n",
              "    <tr>\n",
              "      <th>1</th>\n",
              "      <td>23058</td>\n",
              "      <td>Handsome young groom sweetly kisses his bride'...</td>\n",
              "      <td>Wedding   African Ethnicity   Bride   Couple -...</td>\n",
              "      <td>4.856464</td>\n",
              "      <td>don't be afraid to love again everyone is not ...</td>\n",
              "      <td>0</td>\n",
              "      <td>23058.png</td>\n",
              "      <td>[]</td>\n",
              "      <td>[]</td>\n",
              "      <td>[]</td>\n",
              "      <td>[]</td>\n",
              "      <td>[Ready For Hillary - To Struggle With A Carpet...</td>\n",
              "      <td>23058.0</td>\n",
              "      <td>Ready For Hillary - To Struggle With A Carpetb...</td>\n",
              "      <td></td>\n",
              "      <td></td>\n",
              "      <td>Ready For Hillary - To Struggle With A Carpet...</td>\n",
              "      <td>False</td>\n",
              "      <td>Handsome young groom sweetly kisses his bride'...</td>\n",
              "      <td>0.103628</td>\n",
              "      <td>0.391444</td>\n",
              "      <td>0.504928</td>\n",
              "      <td>1</td>\n",
              "    </tr>\n",
              "    <tr>\n",
              "      <th>2</th>\n",
              "      <td>13894</td>\n",
              "      <td>A local/homeless cat in daily life in the vill...</td>\n",
              "      <td>Domestic Cat   Portrait   Abandoned   Animal  ...</td>\n",
              "      <td>26.664872</td>\n",
              "      <td>putting bows on your pet</td>\n",
              "      <td>0</td>\n",
              "      <td>13894.png</td>\n",
              "      <td>[]</td>\n",
              "      <td>[]</td>\n",
              "      <td>[]</td>\n",
              "      <td>[Cats, Mammals, Animals, House Cats]</td>\n",
              "      <td>[DUDUPETS ถุงมือแปรงขนสัตว์เลี้ยงข้างขวา ขนาด ...</td>\n",
              "      <td>13894.0</td>\n",
              "      <td>DUDUPETS ถุงมือแปรงขนสัตว์เลี้ยงข้างขวา ขนาด 1...</td>\n",
              "      <td>Cats Mammals Animals House Cats</td>\n",
              "      <td></td>\n",
              "      <td>Cats Mammals Animals House Cats DUDUPETS ถุงมื...</td>\n",
              "      <td>False</td>\n",
              "      <td>A local/homeless cat in daily life in the vill...</td>\n",
              "      <td>0.092051</td>\n",
              "      <td>0.333393</td>\n",
              "      <td>0.574556</td>\n",
              "      <td>0</td>\n",
              "    </tr>\n",
              "    <tr>\n",
              "      <th>3</th>\n",
              "      <td>37408</td>\n",
              "      <td>Photo taken in Kirkcaldy, United Kingdom</td>\n",
              "      <td>Animal   Animal Body Part   Animal Eye   Anima...</td>\n",
              "      <td>11.788920</td>\n",
              "      <td>i love everything and everybody! except for sq...</td>\n",
              "      <td>0</td>\n",
              "      <td>37408.png</td>\n",
              "      <td>[]</td>\n",
              "      <td>[]</td>\n",
              "      <td>[]</td>\n",
              "      <td>[]</td>\n",
              "      <td>[9 Best Rottweiler images in 2014 | Cubs, Cut ...</td>\n",
              "      <td>37408.0</td>\n",
              "      <td>9 Best Rottweiler images in 2014 | Cubs, Cut a...</td>\n",
              "      <td></td>\n",
              "      <td></td>\n",
              "      <td>9 Best Rottweiler images in 2014 | Cubs, Cut ...</td>\n",
              "      <td>False</td>\n",
              "      <td>Photo taken in Kirkcaldy, United Kingdom Anima...</td>\n",
              "      <td>0.041845</td>\n",
              "      <td>0.305829</td>\n",
              "      <td>0.652326</td>\n",
              "      <td>0</td>\n",
              "    </tr>\n",
              "    <tr>\n",
              "      <th>4</th>\n",
              "      <td>82403</td>\n",
              "      <td>Large group of business people cheering while ...</td>\n",
              "      <td>Excitement   Business   Watching TV   Board Ro...</td>\n",
              "      <td>136.522464</td>\n",
              "      <td>everybody loves chocolate chip cookies, even h...</td>\n",
              "      <td>0</td>\n",
              "      <td>NaN</td>\n",
              "      <td>NaN</td>\n",
              "      <td>NaN</td>\n",
              "      <td>NaN</td>\n",
              "      <td>NaN</td>\n",
              "      <td>NaN</td>\n",
              "      <td>NaN</td>\n",
              "      <td>NaN</td>\n",
              "      <td>NaN</td>\n",
              "      <td>NaN</td>\n",
              "      <td>NaN</td>\n",
              "      <td>True</td>\n",
              "      <td>Large group of business people cheering while ...</td>\n",
              "      <td>0.057202</td>\n",
              "      <td>0.348490</td>\n",
              "      <td>0.594308</td>\n",
              "      <td>0</td>\n",
              "    </tr>\n",
              "  </tbody>\n",
              "</table>\n",
              "</div>"
            ],
            "text/plain": [
              "      id  ... predicted_label\n",
              "0  42953  ...               0\n",
              "1  23058  ...               1\n",
              "2  13894  ...               0\n",
              "3  37408  ...               0\n",
              "4  82403  ...               0\n",
              "\n",
              "[5 rows x 23 columns]"
            ]
          },
          "metadata": {
            "tags": []
          },
          "execution_count": 74
        }
      ]
    },
    {
      "cell_type": "code",
      "metadata": {
        "id": "7FWUi9qT5HWh",
        "colab_type": "code",
        "colab": {
          "base_uri": "https://localhost:8080/",
          "height": 164
        },
        "outputId": "1e1821f3-00c0-460c-bc2d-a0cbe2fce8cf"
      },
      "source": [
        "len(getty_color_score)"
      ],
      "execution_count": 47,
      "outputs": [
        {
          "output_type": "error",
          "ename": "NameError",
          "evalue": "ignored",
          "traceback": [
            "\u001b[0;31m---------------------------------------------------------------------------\u001b[0m",
            "\u001b[0;31mNameError\u001b[0m                                 Traceback (most recent call last)",
            "\u001b[0;32m<ipython-input-47-328d4fb01fec>\u001b[0m in \u001b[0;36m<module>\u001b[0;34m()\u001b[0m\n\u001b[0;32m----> 1\u001b[0;31m \u001b[0mlen\u001b[0m\u001b[0;34m(\u001b[0m\u001b[0mgetty_color_score\u001b[0m\u001b[0;34m)\u001b[0m\u001b[0;34m\u001b[0m\u001b[0;34m\u001b[0m\u001b[0m\n\u001b[0m",
            "\u001b[0;31mNameError\u001b[0m: name 'getty_color_score' is not defined"
          ]
        }
      ]
    },
    {
      "cell_type": "code",
      "metadata": {
        "id": "zsy4eR4M4rMb",
        "colab_type": "code",
        "colab": {}
      },
      "source": [
        "writeFiles(featurized_data_path, \"v5roberta_\",desc_labels,image_rcnn_data,textData, getty_caption_data, getty_tag_data)"
      ],
      "execution_count": null,
      "outputs": []
    },
    {
      "cell_type": "code",
      "metadata": {
        "id": "LiEQz4190mRi",
        "colab_type": "code",
        "colab": {}
      },
      "source": [
        "# todo look into twitter sentiment https://github.com/sharmaroshan/Twitter-Sentiment-Analysis\n",
        "#https://medium.com/isiway-tech/deep-nlp-for-hate-speech-detection-25eed707997"
      ],
      "execution_count": null,
      "outputs": []
    },
    {
      "cell_type": "markdown",
      "metadata": {
        "id": "eJKgopgVTeGg",
        "colab_type": "text"
      },
      "source": [
        "## Get Celebrities from facial recognition"
      ]
    },
    {
      "cell_type": "code",
      "metadata": {
        "id": "k8DJ4f7dSDhl",
        "colab_type": "code",
        "colab": {
          "base_uri": "https://localhost:8080/",
          "height": 309
        },
        "outputId": "dc3e0144-26b0-462d-b1b4-f2941574eb3c"
      },
      "source": [
        "!pip3 install face_recognition"
      ],
      "execution_count": 51,
      "outputs": [
        {
          "output_type": "stream",
          "text": [
            "Collecting face_recognition\n",
            "  Downloading https://files.pythonhosted.org/packages/1e/95/f6c9330f54ab07bfa032bf3715c12455a381083125d8880c43cbe76bb3d0/face_recognition-1.3.0-py2.py3-none-any.whl\n",
            "Requirement already satisfied: Pillow in /usr/local/lib/python3.6/dist-packages (from face_recognition) (7.0.0)\n",
            "Requirement already satisfied: numpy in /usr/local/lib/python3.6/dist-packages (from face_recognition) (1.18.5)\n",
            "Collecting face-recognition-models>=0.3.0\n",
            "\u001b[?25l  Downloading https://files.pythonhosted.org/packages/cf/3b/4fd8c534f6c0d1b80ce0973d01331525538045084c73c153ee6df20224cf/face_recognition_models-0.3.0.tar.gz (100.1MB)\n",
            "\u001b[K     |████████████████████████████████| 100.2MB 124kB/s \n",
            "\u001b[?25hRequirement already satisfied: Click>=6.0 in /usr/local/lib/python3.6/dist-packages (from face_recognition) (7.1.2)\n",
            "Requirement already satisfied: dlib>=19.7 in /usr/local/lib/python3.6/dist-packages (from face_recognition) (19.18.0)\n",
            "Building wheels for collected packages: face-recognition-models\n",
            "  Building wheel for face-recognition-models (setup.py) ... \u001b[?25l\u001b[?25hdone\n",
            "  Created wheel for face-recognition-models: filename=face_recognition_models-0.3.0-py2.py3-none-any.whl size=100566172 sha256=3fc7bd10c329a140b375b97d5f4a983bae8d1a90c5f79135b8b8788f4ee5c065\n",
            "  Stored in directory: /root/.cache/pip/wheels/d2/99/18/59c6c8f01e39810415c0e63f5bede7d83dfb0ffc039865465f\n",
            "Successfully built face-recognition-models\n",
            "Installing collected packages: face-recognition-models, face-recognition\n",
            "Successfully installed face-recognition-1.3.0 face-recognition-models-0.3.0\n"
          ],
          "name": "stdout"
        }
      ]
    },
    {
      "cell_type": "code",
      "metadata": {
        "id": "zN25_pb0UIsA",
        "colab_type": "code",
        "colab": {}
      },
      "source": [
        "# use microsft dataset\n",
        "# https://ibug.doc.ic.ac.uk/resources/lightweight-face-recognition-challenge-workshop/"
      ],
      "execution_count": null,
      "outputs": []
    },
    {
      "cell_type": "markdown",
      "metadata": {
        "id": "Bm7TlpK2Xr_A",
        "colab_type": "text"
      },
      "source": [
        "## Read features and Run Model"
      ]
    },
    {
      "cell_type": "code",
      "metadata": {
        "id": "aaa5PEJltBLI",
        "colab_type": "code",
        "colab": {}
      },
      "source": [
        "image_features=pd.read_csv(\"/content/gdrive/My Drive/colab/data_sources/hateful_memes/v5roberta_image_features.csv\", sep=\",\",index_col=0)\n",
        "text_features=pd.read_csv(\"/content/gdrive/My Drive/colab/data_sources/hateful_memes/v5roberta_text_features.csv\",sep=\",\",index_col=0)\n",
        "desc_features=pd.read_csv(\"/content/gdrive/My Drive/colab/data_sources/hateful_memes/v5roberta_description.csv\",sep=\",\",index_col=0)\n",
        "getty_caption_features=pd.read_csv(\"/content/gdrive/My Drive/colab/data_sources/hateful_memes/v5roberta_getty_caption_features.csv\",sep=\",\",index_col=0)\n",
        "getty_tag_features=pd.read_csv(\"/content/gdrive/My Drive/colab/data_sources/hateful_memes/v5roberta_getty_tag_features.csv\",sep=\",\",index_col=0)"
      ],
      "execution_count": 48,
      "outputs": []
    },
    {
      "cell_type": "code",
      "metadata": {
        "id": "dRuYa0Lqefpu",
        "colab_type": "code",
        "colab": {
          "base_uri": "https://localhost:8080/",
          "height": 34
        },
        "outputId": "9f548d93-8681-49a8-cfd5-da9a9d9b04c6"
      },
      "source": [
        "getty_caption_features.shape"
      ],
      "execution_count": null,
      "outputs": [
        {
          "output_type": "execute_result",
          "data": {
            "text/plain": [
              "(8500, 1024)"
            ]
          },
          "metadata": {
            "tags": []
          },
          "execution_count": 144
        }
      ]
    },
    {
      "cell_type": "code",
      "metadata": {
        "id": "g9YrMiQV5kWx",
        "colab_type": "code",
        "colab": {}
      },
      "source": [
        ""
      ],
      "execution_count": null,
      "outputs": []
    },
    {
      "cell_type": "code",
      "metadata": {
        "id": "9Udt6sXU5sQO",
        "colab_type": "code",
        "colab": {
          "base_uri": "https://localhost:8080/",
          "height": 34
        },
        "outputId": "8f3a3f56-3f28-4798-f597-131169e16e1e"
      },
      "source": [
        "getty_color_score_features[0]"
      ],
      "execution_count": null,
      "outputs": [
        {
          "output_type": "execute_result",
          "data": {
            "text/plain": [
              "9.63371599999999"
            ]
          },
          "metadata": {
            "tags": []
          },
          "execution_count": 43
        }
      ]
    },
    {
      "cell_type": "code",
      "metadata": {
        "id": "E3G9-WBXaZxm",
        "colab_type": "code",
        "colab": {}
      },
      "source": [
        "input_features=pd.concat((image_features,text_features,getty_caption_features, getty_tag_features, hate_df,\n",
        "                          pd.DataFrame(bing_alt_str_features), pd.DataFrame(bing_rel_str_features), pd.DataFrame(bing_desc_str_features), pd.DataFrame(hitler_features)\n",
        "                          ),axis=1).values\n",
        "\n",
        "\n",
        "# input_features=input_features[0:5]"
      ],
      "execution_count": 57,
      "outputs": []
    },
    {
      "cell_type": "code",
      "metadata": {
        "id": "B5-x9zAb4NFT",
        "colab_type": "code",
        "colab": {
          "base_uri": "https://localhost:8080/",
          "height": 51
        },
        "outputId": "a8746543-248b-47a5-cb5b-049b4d893a13"
      },
      "source": [
        "input_features[0]"
      ],
      "execution_count": 58,
      "outputs": [
        {
          "output_type": "execute_result",
          "data": {
            "text/plain": [
              "array([-1.1996577 ,  0.3317025 ,  0.04904119, ...,  0.05757688,\n",
              "        0.08896391,  0.        ])"
            ]
          },
          "metadata": {
            "tags": []
          },
          "execution_count": 58
        }
      ]
    },
    {
      "cell_type": "code",
      "metadata": {
        "id": "Ux3XYt_9aZzw",
        "colab_type": "code",
        "colab": {}
      },
      "source": [
        "class SimpleModel(nn.Module):  \n",
        "    '''\n",
        "    A really simple network arcchitecture\n",
        "    '''\n",
        "    def __init__(self,input_size, output_size, n_layers:[],loss_func, lr=.001):\n",
        "        super(SimpleModel,self).__init__()\n",
        "        self.lr=lr\n",
        "        self.loss_func=loss_func\n",
        "        if len(n_layers)>0:\n",
        "            self.input_lay=nn.Linear(input_size,n_layers[0])\n",
        "            self.intermediate_layers:[nn.Sequential]=[]\n",
        "            for n in range(len(n_layers)-1):\n",
        "                self.intermediate_layers.append(nn.Sequential((nn.Linear(n_layers[n],n_layers[n+1])),nn.ELU()))\n",
        "\n",
        "            self.output_lay=nn.Linear(n_layers[len(n_layers)-1],output_size)\n",
        "        else:\n",
        "            self.input_lay=nn.Linear(input_size,output_size)\n",
        "            self.intermediate_layers=[]\n",
        "            self.output_lay=None\n",
        "    \n",
        "    \n",
        "    def setActivationFunction(): #if we want to override this in some way\n",
        "        pass \n",
        "    \n",
        "    def setLossFunction(self, loss_func):\n",
        "        self.loss_func=loss_func \n",
        "        \n",
        "\n",
        "    def setLearnRate(self,lr):\n",
        "        self.lr=lr\n",
        "    def forward(self,x):\n",
        "   \n",
        "        x=self.input_lay(x)\n",
        "        #If I want to just linear regression effectively\n",
        "        if(type(self.output_lay)!=type(None)): \n",
        "            x=F.elu(x)\n",
        "    \n",
        "        for n in self.intermediate_layers:\n",
        "            x=n(x)\n",
        "        \n",
        "        if(type(self.output_lay)!=type(None)):\n",
        "            x=self.output_lay(x)\n",
        "           \n",
        "        return (torch.tanh(x)+1.0)/2.0 # Yes i could be using SIGMOID. BBUT BAH \n",
        "    \n",
        "    \n",
        "            \n",
        "    def _prepareLoss(self, batched_data:[]):\n",
        "        '''\n",
        "        This is just so i can customize the loss function and such \n",
        "        '''\n",
        "        expected_output=batched_data[0][1].float()  #ground truth\n",
        "        \n",
        "        output=self(batched_data[0][0].float())\n",
        " \n",
        "        return self.loss_func(output,expected_output)\n",
        "            \n",
        "    \n",
        "    def train_model(self,epochs,dataloader,optimizer,is_training=True)->[float]:\n",
        "        loss_vals=[]\n",
        "        \n",
        "        \n",
        "        for epoch in range(epochs):\n",
        "            cycle=(iter(dataloader))\n",
        "            temp_losses_batch = []\n",
        "            \n",
        "            for i in range(len(cycle)):\n",
        "                relevant_data=next(cycle)\n",
        "\n",
        "                loss=self._prepareLoss([relevant_data]) #array so it can. be arbitrary features\n",
        "                temp_losses_batch.append(loss.detach().numpy())\n",
        "                optimizer.zero_grad()\n",
        "\n",
        "                if is_training==True:\n",
        "                    loss.backward()\n",
        "                    optimizer.step()\n",
        "         \n",
        "            loss_vals.append(np.array(temp_losses_batch).sum())\n",
        "        \n",
        "        return loss_vals\n"
      ],
      "execution_count": 59,
      "outputs": []
    },
    {
      "cell_type": "code",
      "metadata": {
        "id": "DrNkg-zF-WB0",
        "colab_type": "code",
        "colab": {}
      },
      "source": [
        "# this seems great\n",
        "# https://mlwhiz.com/blog/2019/03/09/deeplearning_architectures_text_classification/"
      ],
      "execution_count": 60,
      "outputs": []
    },
    {
      "cell_type": "code",
      "metadata": {
        "id": "GEs7KdnUgT9X",
        "colab_type": "code",
        "colab": {}
      },
      "source": [
        "class Dataset_Handler_Generic(data_torch.Dataset):\n",
        "    def __init__(self, data, label):\n",
        "        \n",
        "            self.data=data #how is the data bbroken  down\n",
        "            self.label=label\n",
        "          \n",
        "    def __len__(self):\n",
        "            'Denotes the total number of samples'\n",
        "            return len(self.data)\n",
        "    def __getitem__(self, index):\n",
        "            return  self.data[index],self.label[index]"
      ],
      "execution_count": 61,
      "outputs": []
    },
    {
      "cell_type": "code",
      "metadata": {
        "id": "piNCsR3uBx5N",
        "colab_type": "code",
        "colab": {}
      },
      "source": [
        ""
      ],
      "execution_count": 61,
      "outputs": []
    },
    {
      "cell_type": "code",
      "metadata": {
        "id": "LrKi_56JuXr4",
        "colab_type": "code",
        "colab": {}
      },
      "source": [
        "# input_features=pd.concat((image_features,text_features,getty_caption_features,getty_tag_features,getty_color_score_features),axis=1).values\n",
        "# input_features=pd.concat((text_features, getty_tag_features,hate_df),axis=1).values\n",
        "# input_features=input_features[0:50]"
      ],
      "execution_count": 62,
      "outputs": []
    },
    {
      "cell_type": "code",
      "metadata": {
        "id": "7o2Bg2G5jiS1",
        "colab_type": "code",
        "colab": {
          "base_uri": "https://localhost:8080/",
          "height": 51
        },
        "outputId": "cc6db66f-c019-46d5-9bf8-a0a1b9f7b166"
      },
      "source": [
        "input_features[0]"
      ],
      "execution_count": 63,
      "outputs": [
        {
          "output_type": "execute_result",
          "data": {
            "text/plain": [
              "array([-1.1996577 ,  0.3317025 ,  0.04904119, ...,  0.05757688,\n",
              "        0.08896391,  0.        ])"
            ]
          },
          "metadata": {
            "tags": []
          },
          "execution_count": 63
        }
      ]
    },
    {
      "cell_type": "code",
      "metadata": {
        "id": "FXLeE5AbEgvm",
        "colab_type": "code",
        "colab": {
          "base_uri": "https://localhost:8080/",
          "height": 120
        },
        "outputId": "75e870a8-9ace-4ec3-c0b1-63c3590f8426"
      },
      "source": [
        "getty_tags[0]"
      ],
      "execution_count": 64,
      "outputs": [
        {
          "output_type": "execute_result",
          "data": {
            "application/vnd.google.colaboratory.intrinsic+json": {
              "type": "string"
            },
            "text/plain": [
              "'Men   Overweight   Portrait   Human Face   Beard   Pride   Males   Negative Emotion   Sadness   Black Background   Studio Shot   Displeased   Attitude   Moustache   Young Adult   Characters   Latin American and Hispanic   Pale Complexion   Youth Culture   20-29 Years   Authority   Black   Fine Art Portrait   Masculinity   Photography   Serious   Staring   Young Men   Adult Adults Only   Beautiful People   Catalonia   Caucasian Appearance   Colour Image   Differential Focus   Disappointment   Extreme Close Up   Facial Expression   Facial Hair   Handsome People   Headshot   Human Body Part   Human Head   Image Focus Technique   Individuality   Long Hair   Looking At Camera   Macro   Mixed Race Person   Mug Shot   One Man Only   One Person   One Young Man Only   Only Men   People   Real People   Rebellion   Serene People   Southern European   Spain   Spanish Culture   Vertical   Vignette   Photos'"
            ]
          },
          "metadata": {
            "tags": []
          },
          "execution_count": 64
        }
      ]
    },
    {
      "cell_type": "code",
      "metadata": {
        "id": "TVBhbMzMuXqH",
        "colab_type": "code",
        "colab": {}
      },
      "source": [
        "output_features=desc_features['1'].values.reshape((len(desc_features['1']),1))\n",
        "# output_features=output_features[0:50]"
      ],
      "execution_count": 65,
      "outputs": []
    },
    {
      "cell_type": "code",
      "metadata": {
        "id": "vLN5UcTzuXoO",
        "colab_type": "code",
        "colab": {}
      },
      "source": [
        ""
      ],
      "execution_count": 65,
      "outputs": []
    },
    {
      "cell_type": "code",
      "metadata": {
        "id": "qUEmZGf1u_Cb",
        "colab_type": "code",
        "colab": {}
      },
      "source": [
        ""
      ],
      "execution_count": 65,
      "outputs": []
    },
    {
      "cell_type": "code",
      "metadata": {
        "id": "nKyIPRCpu-_7",
        "colab_type": "code",
        "colab": {}
      },
      "source": [
        ""
      ],
      "execution_count": 65,
      "outputs": []
    },
    {
      "cell_type": "code",
      "metadata": {
        "id": "KQCPvtyX-Anx",
        "colab_type": "code",
        "colab": {
          "base_uri": "https://localhost:8080/",
          "height": 34
        },
        "outputId": "ecdafbf5-9c53-4d12-fb31-c30d2283ea0c"
      },
      "source": [
        "round(input_features.shape[1]*0.5,0)"
      ],
      "execution_count": 66,
      "outputs": [
        {
          "output_type": "execute_result",
          "data": {
            "text/plain": [
              "3202.0"
            ]
          },
          "metadata": {
            "tags": []
          },
          "execution_count": 66
        }
      ]
    },
    {
      "cell_type": "code",
      "metadata": {
        "id": "F7smQWvq4rEA",
        "colab_type": "code",
        "colab": {
          "base_uri": "https://localhost:8080/",
          "height": 34
        },
        "outputId": "1f08b303-619d-4336-d748-75e9164b199c"
      },
      "source": [
        "input_features.shape"
      ],
      "execution_count": 67,
      "outputs": [
        {
          "output_type": "execute_result",
          "data": {
            "text/plain": [
              "(8500, 6404)"
            ]
          },
          "metadata": {
            "tags": []
          },
          "execution_count": 67
        }
      ]
    },
    {
      "cell_type": "code",
      "metadata": {
        "id": "J6bdUXgiu-9F",
        "colab_type": "code",
        "colab": {}
      },
      "source": [
        ""
      ],
      "execution_count": 67,
      "outputs": []
    },
    {
      "cell_type": "code",
      "metadata": {
        "id": "9cAJleJJu-0p",
        "colab_type": "code",
        "colab": {}
      },
      "source": [
        ""
      ],
      "execution_count": 67,
      "outputs": []
    },
    {
      "cell_type": "code",
      "metadata": {
        "id": "rhFuzfrjaaAU",
        "colab_type": "code",
        "colab": {}
      },
      "source": [
        "def hidden_layer_grid_search(layer_size):\n",
        "  size=len(input_features)\n",
        "\n",
        "  train_size=int(size*.7)\n",
        "\n",
        "  handler_tr:data_torch.Dataset=Dataset_Handler_Generic(input_features[:train_size],output_features[:train_size])\n",
        "  handler_vl:data_torch.Dataset=Dataset_Handler_Generic(input_features[train_size+1:],output_features[train_size+1:])\n",
        "\n",
        "\n",
        "  loader_tr=torch.utils.data.DataLoader(handler_tr, batch_size=10, shuffle=True,num_workers=0)\n",
        "  loader_vl=torch.utils.data.DataLoader(handler_vl, batch_size=10, shuffle=True,num_workers=0)\n",
        "\n",
        "  lossType=nn.SmoothL1Loss(reduction=\"sum\")\n",
        "\n",
        "  # s=SimpleModel(input_features.shape[1],1,[],lossType, lr=.5)\n",
        "  s=SimpleModel(input_features.shape[1],1,[layer_size],lossType, lr=.0001)\n",
        "\n",
        "  optimizer=torch.optim.Adam(s.parameters(),lr=.0001,weight_decay=.0001)\n",
        "\n",
        "  epochs=10\n",
        "  norm_tr_size:int=len(input_features[:train_size])\n",
        "  norm_vl_size:int=len(input_features[train_size+1:])\n",
        "      \n",
        "  initial_tr_loss=s.train_model(1,loader_tr,optimizer,is_training=False)[0]/norm_tr_size\n",
        "  intial_vl_loss=s.train_model(1,loader_vl,optimizer,is_training=False)[0]/norm_vl_size\n",
        "  tr_loss_ary=[initial_tr_loss]\n",
        "  vl_loss_ary=[intial_vl_loss]\n",
        "  print(initial_tr_loss,intial_vl_loss)\n",
        "  for i in range(epochs):\n",
        "      tr_loss=s.train_model(1,loader_tr,optimizer,is_training=True)[0]/norm_tr_size\n",
        "      vl_loss=s.train_model(1,loader_vl,optimizer,is_training=False)[0]/norm_vl_size\n",
        "      tr_loss_ary.append(tr_loss)\n",
        "      vl_loss_ary.append(vl_loss)\n",
        "      print(tr_loss,vl_loss)\n",
        "\n",
        "\n",
        "  results=s(torch.tensor(input_features[:train_size]).float()).detach().numpy()\n",
        "  predicted_label=np.apply_along_axis(lambda d: 1 if d >.4 else 0,1,results)\n",
        "\n",
        "  train_feature_df=feature_df[:train_size]\n",
        "  train_feature_df['label']=predicted_label\n",
        "  train_feature_df['proba']=results\n",
        "  train_feature_df['actual']=output_features[:train_size]\n",
        "  \n",
        "\n",
        "  confusion_matrix(output_features[:train_size],predicted_label)\n",
        "\n",
        "  accuracy_score(output_features[:train_size],predicted_label)\n",
        "\n",
        "  from sklearn.metrics import roc_auc_score\n",
        "  results_vl=s(torch.tensor(input_features[train_size+1:]).float()).detach().numpy()\n",
        "  predicted_label_vl=np.apply_along_axis(lambda d: 1 if d >.4 else 0,1,results_vl)\n",
        "\n",
        "  validation_feature_df=feature_df[train_size+1:]\n",
        "  validation_feature_df['label']=predicted_label_vl\n",
        "  validation_feature_df['proba']=results_vl\n",
        "  validation_feature_df['actual']=output_features[train_size+1:]\n",
        "\n",
        "  print(\"layer size: \", layer_size,\n",
        "      \", validation accuracy: \", accuracy_score(output_features[train_size+1:],predicted_label_vl), \n",
        "        \", train accuracy: \", accuracy_score(output_features[:train_size],predicted_label), \n",
        "        \", validation AUC: \", roc_auc_score(output_features[train_size+1:],predicted_label_vl),\n",
        "        \", train AUC: \", roc_auc_score(output_features[:train_size],predicted_label))\n",
        "  return s, train_feature_df, validation_feature_df"
      ],
      "execution_count": 68,
      "outputs": []
    },
    {
      "cell_type": "code",
      "metadata": {
        "id": "aLfUDgFRVKKt",
        "colab_type": "code",
        "colab": {
          "base_uri": "https://localhost:8080/",
          "height": 1000
        },
        "outputId": "fbb1819b-c8bd-417d-d5d1-eb67a512f816"
      },
      "source": [
        "for layer_size in [1,2,3,4,5,6,7,8,9,10]:\n",
        "  model, train_features, validation_features=hidden_layer_grid_search(layer_size)"
      ],
      "execution_count": 69,
      "outputs": [
        {
          "output_type": "stream",
          "text": [
            "0.16883242310596114 0.16024077495157416\n",
            "0.10857159269957983 0.1173478340157905\n",
            "0.09881985704438025 0.10474887517163593\n",
            "0.0944134162454044 0.10403135890070248\n",
            "0.09185651506696428 0.10236565465317281\n",
            "0.08946230591846113 0.10434559776811986\n",
            "0.08802830800288866 0.10182212090295827\n",
            "0.08605309750853467 0.10281854556934092\n",
            "0.08525754271435136 0.10088151143830915\n",
            "0.08321629628413865 0.10355864173526996\n",
            "0.08193718405330883 0.10320211644732002\n"
          ],
          "name": "stdout"
        },
        {
          "output_type": "stream",
          "text": [
            "/usr/local/lib/python3.6/dist-packages/ipykernel_launcher.py:41: SettingWithCopyWarning: \n",
            "A value is trying to be set on a copy of a slice from a DataFrame.\n",
            "Try using .loc[row_indexer,col_indexer] = value instead\n",
            "\n",
            "See the caveats in the documentation: https://pandas.pydata.org/pandas-docs/stable/user_guide/indexing.html#returning-a-view-versus-a-copy\n",
            "/usr/local/lib/python3.6/dist-packages/ipykernel_launcher.py:42: SettingWithCopyWarning: \n",
            "A value is trying to be set on a copy of a slice from a DataFrame.\n",
            "Try using .loc[row_indexer,col_indexer] = value instead\n",
            "\n",
            "See the caveats in the documentation: https://pandas.pydata.org/pandas-docs/stable/user_guide/indexing.html#returning-a-view-versus-a-copy\n",
            "/usr/local/lib/python3.6/dist-packages/ipykernel_launcher.py:43: SettingWithCopyWarning: \n",
            "A value is trying to be set on a copy of a slice from a DataFrame.\n",
            "Try using .loc[row_indexer,col_indexer] = value instead\n",
            "\n",
            "See the caveats in the documentation: https://pandas.pydata.org/pandas-docs/stable/user_guide/indexing.html#returning-a-view-versus-a-copy\n",
            "/usr/local/lib/python3.6/dist-packages/ipykernel_launcher.py:55: SettingWithCopyWarning: \n",
            "A value is trying to be set on a copy of a slice from a DataFrame.\n",
            "Try using .loc[row_indexer,col_indexer] = value instead\n",
            "\n",
            "See the caveats in the documentation: https://pandas.pydata.org/pandas-docs/stable/user_guide/indexing.html#returning-a-view-versus-a-copy\n",
            "/usr/local/lib/python3.6/dist-packages/ipykernel_launcher.py:56: SettingWithCopyWarning: \n",
            "A value is trying to be set on a copy of a slice from a DataFrame.\n",
            "Try using .loc[row_indexer,col_indexer] = value instead\n",
            "\n",
            "See the caveats in the documentation: https://pandas.pydata.org/pandas-docs/stable/user_guide/indexing.html#returning-a-view-versus-a-copy\n",
            "/usr/local/lib/python3.6/dist-packages/ipykernel_launcher.py:57: SettingWithCopyWarning: \n",
            "A value is trying to be set on a copy of a slice from a DataFrame.\n",
            "Try using .loc[row_indexer,col_indexer] = value instead\n",
            "\n",
            "See the caveats in the documentation: https://pandas.pydata.org/pandas-docs/stable/user_guide/indexing.html#returning-a-view-versus-a-copy\n"
          ],
          "name": "stderr"
        },
        {
          "output_type": "stream",
          "text": [
            "layer size:  1 , validation accuracy:  0.6943899568458219 , train accuracy:  0.7833613445378151 , validation AUC:  0.6709001592722522 , train AUC:  0.7598315132121269\n",
            "0.21632968421743698 0.2017735106751422\n",
            "0.11124267578125 0.10733047790647067\n",
            "0.0983824350052521 0.10379149241277216\n",
            "0.09217315930278361 0.1128073715144113\n",
            "0.08877519367121849 0.10390157838015521\n",
            "0.08604092125131302 0.10303004950624019\n",
            "0.08243878019957983 0.10286703367895499\n",
            "0.08069549304096639 0.1040740404095356\n",
            "0.07888248732110031 0.10380257882993331\n",
            "0.07566032858455882 0.10634355930404693\n",
            "0.07460073775603991 0.11457856433819022\n"
          ],
          "name": "stdout"
        },
        {
          "output_type": "stream",
          "text": [
            "/usr/local/lib/python3.6/dist-packages/ipykernel_launcher.py:41: SettingWithCopyWarning: \n",
            "A value is trying to be set on a copy of a slice from a DataFrame.\n",
            "Try using .loc[row_indexer,col_indexer] = value instead\n",
            "\n",
            "See the caveats in the documentation: https://pandas.pydata.org/pandas-docs/stable/user_guide/indexing.html#returning-a-view-versus-a-copy\n",
            "/usr/local/lib/python3.6/dist-packages/ipykernel_launcher.py:42: SettingWithCopyWarning: \n",
            "A value is trying to be set on a copy of a slice from a DataFrame.\n",
            "Try using .loc[row_indexer,col_indexer] = value instead\n",
            "\n",
            "See the caveats in the documentation: https://pandas.pydata.org/pandas-docs/stable/user_guide/indexing.html#returning-a-view-versus-a-copy\n",
            "/usr/local/lib/python3.6/dist-packages/ipykernel_launcher.py:43: SettingWithCopyWarning: \n",
            "A value is trying to be set on a copy of a slice from a DataFrame.\n",
            "Try using .loc[row_indexer,col_indexer] = value instead\n",
            "\n",
            "See the caveats in the documentation: https://pandas.pydata.org/pandas-docs/stable/user_guide/indexing.html#returning-a-view-versus-a-copy\n",
            "/usr/local/lib/python3.6/dist-packages/ipykernel_launcher.py:55: SettingWithCopyWarning: \n",
            "A value is trying to be set on a copy of a slice from a DataFrame.\n",
            "Try using .loc[row_indexer,col_indexer] = value instead\n",
            "\n",
            "See the caveats in the documentation: https://pandas.pydata.org/pandas-docs/stable/user_guide/indexing.html#returning-a-view-versus-a-copy\n",
            "/usr/local/lib/python3.6/dist-packages/ipykernel_launcher.py:56: SettingWithCopyWarning: \n",
            "A value is trying to be set on a copy of a slice from a DataFrame.\n",
            "Try using .loc[row_indexer,col_indexer] = value instead\n",
            "\n",
            "See the caveats in the documentation: https://pandas.pydata.org/pandas-docs/stable/user_guide/indexing.html#returning-a-view-versus-a-copy\n",
            "/usr/local/lib/python3.6/dist-packages/ipykernel_launcher.py:57: SettingWithCopyWarning: \n",
            "A value is trying to be set on a copy of a slice from a DataFrame.\n",
            "Try using .loc[row_indexer,col_indexer] = value instead\n",
            "\n",
            "See the caveats in the documentation: https://pandas.pydata.org/pandas-docs/stable/user_guide/indexing.html#returning-a-view-versus-a-copy\n"
          ],
          "name": "stderr"
        },
        {
          "output_type": "stream",
          "text": [
            "layer size:  2 , validation accuracy:  0.6673205178501374 , train accuracy:  0.8115966386554622 , validation AUC:  0.6224908812118115 , train AUC:  0.7613225400902699\n",
            "0.20552285074185925 0.19269808099147337\n",
            "0.10850820845916491 0.10542690655725898\n",
            "0.09681308265493697 0.11181798660320223\n",
            "0.09264986951811975 0.10213015808129414\n",
            "0.08819844734768907 0.10340890326935809\n",
            "0.08452470026096376 0.10550876166971117\n",
            "0.0827821362920168 0.10299595218866467\n",
            "0.07977220038405987 0.10209143942783935\n",
            "0.07772675329897584 0.10694762537085621\n",
            "0.07583335555902049 0.10658483853196106\n",
            "0.07373164329208245 0.10962272036445052\n"
          ],
          "name": "stdout"
        },
        {
          "output_type": "stream",
          "text": [
            "/usr/local/lib/python3.6/dist-packages/ipykernel_launcher.py:41: SettingWithCopyWarning: \n",
            "A value is trying to be set on a copy of a slice from a DataFrame.\n",
            "Try using .loc[row_indexer,col_indexer] = value instead\n",
            "\n",
            "See the caveats in the documentation: https://pandas.pydata.org/pandas-docs/stable/user_guide/indexing.html#returning-a-view-versus-a-copy\n",
            "/usr/local/lib/python3.6/dist-packages/ipykernel_launcher.py:42: SettingWithCopyWarning: \n",
            "A value is trying to be set on a copy of a slice from a DataFrame.\n",
            "Try using .loc[row_indexer,col_indexer] = value instead\n",
            "\n",
            "See the caveats in the documentation: https://pandas.pydata.org/pandas-docs/stable/user_guide/indexing.html#returning-a-view-versus-a-copy\n",
            "/usr/local/lib/python3.6/dist-packages/ipykernel_launcher.py:43: SettingWithCopyWarning: \n",
            "A value is trying to be set on a copy of a slice from a DataFrame.\n",
            "Try using .loc[row_indexer,col_indexer] = value instead\n",
            "\n",
            "See the caveats in the documentation: https://pandas.pydata.org/pandas-docs/stable/user_guide/indexing.html#returning-a-view-versus-a-copy\n",
            "/usr/local/lib/python3.6/dist-packages/ipykernel_launcher.py:55: SettingWithCopyWarning: \n",
            "A value is trying to be set on a copy of a slice from a DataFrame.\n",
            "Try using .loc[row_indexer,col_indexer] = value instead\n",
            "\n",
            "See the caveats in the documentation: https://pandas.pydata.org/pandas-docs/stable/user_guide/indexing.html#returning-a-view-versus-a-copy\n",
            "/usr/local/lib/python3.6/dist-packages/ipykernel_launcher.py:56: SettingWithCopyWarning: \n",
            "A value is trying to be set on a copy of a slice from a DataFrame.\n",
            "Try using .loc[row_indexer,col_indexer] = value instead\n",
            "\n",
            "See the caveats in the documentation: https://pandas.pydata.org/pandas-docs/stable/user_guide/indexing.html#returning-a-view-versus-a-copy\n",
            "/usr/local/lib/python3.6/dist-packages/ipykernel_launcher.py:57: SettingWithCopyWarning: \n",
            "A value is trying to be set on a copy of a slice from a DataFrame.\n",
            "Try using .loc[row_indexer,col_indexer] = value instead\n",
            "\n",
            "See the caveats in the documentation: https://pandas.pydata.org/pandas-docs/stable/user_guide/indexing.html#returning-a-view-versus-a-copy\n"
          ],
          "name": "stderr"
        },
        {
          "output_type": "stream",
          "text": [
            "layer size:  3 , validation accuracy:  0.6837975676735975 , train accuracy:  0.825546218487395 , validation AUC:  0.6450584299421508 , train AUC:  0.7853993463652436\n",
            "0.14450691800157564 0.13918665111088294\n",
            "0.10792962595194328 0.11233419939881449\n",
            "0.09719487550879727 0.1027298302873063\n",
            "0.0912206826089811 0.10630170388893316\n",
            "0.08770453445049894 0.10029717584178231\n",
            "0.08362106195017069 0.10083012601449097\n",
            "0.08038754759716386 0.10035636725262971\n",
            "0.07701868906742385 0.10344294072506988\n",
            "0.07497228285845588 0.10120733956254291\n",
            "0.07114110097163866 0.10479022774709446\n",
            "0.068604792747177 0.10175064583767532\n"
          ],
          "name": "stdout"
        },
        {
          "output_type": "stream",
          "text": [
            "/usr/local/lib/python3.6/dist-packages/ipykernel_launcher.py:41: SettingWithCopyWarning: \n",
            "A value is trying to be set on a copy of a slice from a DataFrame.\n",
            "Try using .loc[row_indexer,col_indexer] = value instead\n",
            "\n",
            "See the caveats in the documentation: https://pandas.pydata.org/pandas-docs/stable/user_guide/indexing.html#returning-a-view-versus-a-copy\n",
            "/usr/local/lib/python3.6/dist-packages/ipykernel_launcher.py:42: SettingWithCopyWarning: \n",
            "A value is trying to be set on a copy of a slice from a DataFrame.\n",
            "Try using .loc[row_indexer,col_indexer] = value instead\n",
            "\n",
            "See the caveats in the documentation: https://pandas.pydata.org/pandas-docs/stable/user_guide/indexing.html#returning-a-view-versus-a-copy\n",
            "/usr/local/lib/python3.6/dist-packages/ipykernel_launcher.py:43: SettingWithCopyWarning: \n",
            "A value is trying to be set on a copy of a slice from a DataFrame.\n",
            "Try using .loc[row_indexer,col_indexer] = value instead\n",
            "\n",
            "See the caveats in the documentation: https://pandas.pydata.org/pandas-docs/stable/user_guide/indexing.html#returning-a-view-versus-a-copy\n",
            "/usr/local/lib/python3.6/dist-packages/ipykernel_launcher.py:55: SettingWithCopyWarning: \n",
            "A value is trying to be set on a copy of a slice from a DataFrame.\n",
            "Try using .loc[row_indexer,col_indexer] = value instead\n",
            "\n",
            "See the caveats in the documentation: https://pandas.pydata.org/pandas-docs/stable/user_guide/indexing.html#returning-a-view-versus-a-copy\n",
            "/usr/local/lib/python3.6/dist-packages/ipykernel_launcher.py:56: SettingWithCopyWarning: \n",
            "A value is trying to be set on a copy of a slice from a DataFrame.\n",
            "Try using .loc[row_indexer,col_indexer] = value instead\n",
            "\n",
            "See the caveats in the documentation: https://pandas.pydata.org/pandas-docs/stable/user_guide/indexing.html#returning-a-view-versus-a-copy\n",
            "/usr/local/lib/python3.6/dist-packages/ipykernel_launcher.py:57: SettingWithCopyWarning: \n",
            "A value is trying to be set on a copy of a slice from a DataFrame.\n",
            "Try using .loc[row_indexer,col_indexer] = value instead\n",
            "\n",
            "See the caveats in the documentation: https://pandas.pydata.org/pandas-docs/stable/user_guide/indexing.html#returning-a-view-versus-a-copy\n"
          ],
          "name": "stderr"
        },
        {
          "output_type": "stream",
          "text": [
            "layer size:  4 , validation accuracy:  0.6708513142408787 , train accuracy:  0.7966386554621848 , validation AUC:  0.6723476781616315 , train AUC:  0.8100409488175435\n",
            "0.11781451056985294 0.12257212253120096\n",
            "0.10693860991662289 0.10671148229084935\n",
            "0.09565699473148634 0.1071425595438775\n",
            "0.08990015879398634 0.10229663392430242\n",
            "0.0852079195936187 0.10281585178547346\n",
            "0.08138675978203781 0.10407836243609626\n",
            "0.0774103757714023 0.10312925258679874\n",
            "0.07379621233258929 0.10155880053682204\n",
            "0.07082468241202731 0.1066526261064388\n",
            "0.06773884749212185 0.10737551797273441\n",
            "0.06446024405856092 0.10506123437653246\n"
          ],
          "name": "stdout"
        },
        {
          "output_type": "stream",
          "text": [
            "/usr/local/lib/python3.6/dist-packages/ipykernel_launcher.py:41: SettingWithCopyWarning: \n",
            "A value is trying to be set on a copy of a slice from a DataFrame.\n",
            "Try using .loc[row_indexer,col_indexer] = value instead\n",
            "\n",
            "See the caveats in the documentation: https://pandas.pydata.org/pandas-docs/stable/user_guide/indexing.html#returning-a-view-versus-a-copy\n",
            "/usr/local/lib/python3.6/dist-packages/ipykernel_launcher.py:42: SettingWithCopyWarning: \n",
            "A value is trying to be set on a copy of a slice from a DataFrame.\n",
            "Try using .loc[row_indexer,col_indexer] = value instead\n",
            "\n",
            "See the caveats in the documentation: https://pandas.pydata.org/pandas-docs/stable/user_guide/indexing.html#returning-a-view-versus-a-copy\n",
            "/usr/local/lib/python3.6/dist-packages/ipykernel_launcher.py:43: SettingWithCopyWarning: \n",
            "A value is trying to be set on a copy of a slice from a DataFrame.\n",
            "Try using .loc[row_indexer,col_indexer] = value instead\n",
            "\n",
            "See the caveats in the documentation: https://pandas.pydata.org/pandas-docs/stable/user_guide/indexing.html#returning-a-view-versus-a-copy\n",
            "/usr/local/lib/python3.6/dist-packages/ipykernel_launcher.py:55: SettingWithCopyWarning: \n",
            "A value is trying to be set on a copy of a slice from a DataFrame.\n",
            "Try using .loc[row_indexer,col_indexer] = value instead\n",
            "\n",
            "See the caveats in the documentation: https://pandas.pydata.org/pandas-docs/stable/user_guide/indexing.html#returning-a-view-versus-a-copy\n",
            "/usr/local/lib/python3.6/dist-packages/ipykernel_launcher.py:56: SettingWithCopyWarning: \n",
            "A value is trying to be set on a copy of a slice from a DataFrame.\n",
            "Try using .loc[row_indexer,col_indexer] = value instead\n",
            "\n",
            "See the caveats in the documentation: https://pandas.pydata.org/pandas-docs/stable/user_guide/indexing.html#returning-a-view-versus-a-copy\n",
            "/usr/local/lib/python3.6/dist-packages/ipykernel_launcher.py:57: SettingWithCopyWarning: \n",
            "A value is trying to be set on a copy of a slice from a DataFrame.\n",
            "Try using .loc[row_indexer,col_indexer] = value instead\n",
            "\n",
            "See the caveats in the documentation: https://pandas.pydata.org/pandas-docs/stable/user_guide/indexing.html#returning-a-view-versus-a-copy\n"
          ],
          "name": "stderr"
        },
        {
          "output_type": "stream",
          "text": [
            "layer size:  5 , validation accuracy:  0.6794821498626913 , train accuracy:  0.8484033613445379 , validation AUC:  0.6632153376339424 , train AUC:  0.8463900773024498\n",
            "0.11633522354254201 0.12121182154000343\n",
            "0.10689705472032562 0.1056477130277805\n",
            "0.0975649434578519 0.10467195267675436\n",
            "0.09079228761817226 0.10662231205865046\n",
            "0.08657023453912815 0.10149187497318188\n",
            "0.08277122689896271 0.10140223781844596\n",
            "0.0795772161403624 0.10118056933708684\n",
            "0.07576904296875 0.10164148174299358\n",
            "0.07243939568014705 0.10675580401474843\n",
            "0.06902123202796744 0.10385731651811986\n",
            "0.06620506991859244 0.11138959116166879\n"
          ],
          "name": "stdout"
        },
        {
          "output_type": "stream",
          "text": [
            "/usr/local/lib/python3.6/dist-packages/ipykernel_launcher.py:41: SettingWithCopyWarning: \n",
            "A value is trying to be set on a copy of a slice from a DataFrame.\n",
            "Try using .loc[row_indexer,col_indexer] = value instead\n",
            "\n",
            "See the caveats in the documentation: https://pandas.pydata.org/pandas-docs/stable/user_guide/indexing.html#returning-a-view-versus-a-copy\n",
            "/usr/local/lib/python3.6/dist-packages/ipykernel_launcher.py:42: SettingWithCopyWarning: \n",
            "A value is trying to be set on a copy of a slice from a DataFrame.\n",
            "Try using .loc[row_indexer,col_indexer] = value instead\n",
            "\n",
            "See the caveats in the documentation: https://pandas.pydata.org/pandas-docs/stable/user_guide/indexing.html#returning-a-view-versus-a-copy\n",
            "/usr/local/lib/python3.6/dist-packages/ipykernel_launcher.py:43: SettingWithCopyWarning: \n",
            "A value is trying to be set on a copy of a slice from a DataFrame.\n",
            "Try using .loc[row_indexer,col_indexer] = value instead\n",
            "\n",
            "See the caveats in the documentation: https://pandas.pydata.org/pandas-docs/stable/user_guide/indexing.html#returning-a-view-versus-a-copy\n",
            "/usr/local/lib/python3.6/dist-packages/ipykernel_launcher.py:55: SettingWithCopyWarning: \n",
            "A value is trying to be set on a copy of a slice from a DataFrame.\n",
            "Try using .loc[row_indexer,col_indexer] = value instead\n",
            "\n",
            "See the caveats in the documentation: https://pandas.pydata.org/pandas-docs/stable/user_guide/indexing.html#returning-a-view-versus-a-copy\n",
            "/usr/local/lib/python3.6/dist-packages/ipykernel_launcher.py:56: SettingWithCopyWarning: \n",
            "A value is trying to be set on a copy of a slice from a DataFrame.\n",
            "Try using .loc[row_indexer,col_indexer] = value instead\n",
            "\n",
            "See the caveats in the documentation: https://pandas.pydata.org/pandas-docs/stable/user_guide/indexing.html#returning-a-view-versus-a-copy\n",
            "/usr/local/lib/python3.6/dist-packages/ipykernel_launcher.py:57: SettingWithCopyWarning: \n",
            "A value is trying to be set on a copy of a slice from a DataFrame.\n",
            "Try using .loc[row_indexer,col_indexer] = value instead\n",
            "\n",
            "See the caveats in the documentation: https://pandas.pydata.org/pandas-docs/stable/user_guide/indexing.html#returning-a-view-versus-a-copy\n"
          ],
          "name": "stderr"
        },
        {
          "output_type": "stream",
          "text": [
            "layer size:  6 , validation accuracy:  0.6783052177324441 , train accuracy:  0.8541176470588235 , validation AUC:  0.6354178766969465 , train AUC:  0.8159931711519453\n",
            "0.12836722237723214 0.13094078713466065\n",
            "0.10804343856683299 0.11454307822537638\n",
            "0.09661018948595063 0.10713514864514884\n",
            "0.09119488371520483 0.10396042259219301\n",
            "0.08713953354779412 0.10281265516195076\n",
            "0.08181836552980568 0.10295094803951918\n",
            "0.07753247172892594 0.10275924640713884\n",
            "0.07370968089384192 0.10317862665199588\n",
            "0.07072883670069591 0.10598184997869875\n",
            "0.06749983587184874 0.11124638961127525\n",
            "0.06385630888097427 0.10764945783349475\n"
          ],
          "name": "stdout"
        },
        {
          "output_type": "stream",
          "text": [
            "/usr/local/lib/python3.6/dist-packages/ipykernel_launcher.py:41: SettingWithCopyWarning: \n",
            "A value is trying to be set on a copy of a slice from a DataFrame.\n",
            "Try using .loc[row_indexer,col_indexer] = value instead\n",
            "\n",
            "See the caveats in the documentation: https://pandas.pydata.org/pandas-docs/stable/user_guide/indexing.html#returning-a-view-versus-a-copy\n",
            "/usr/local/lib/python3.6/dist-packages/ipykernel_launcher.py:42: SettingWithCopyWarning: \n",
            "A value is trying to be set on a copy of a slice from a DataFrame.\n",
            "Try using .loc[row_indexer,col_indexer] = value instead\n",
            "\n",
            "See the caveats in the documentation: https://pandas.pydata.org/pandas-docs/stable/user_guide/indexing.html#returning-a-view-versus-a-copy\n",
            "/usr/local/lib/python3.6/dist-packages/ipykernel_launcher.py:43: SettingWithCopyWarning: \n",
            "A value is trying to be set on a copy of a slice from a DataFrame.\n",
            "Try using .loc[row_indexer,col_indexer] = value instead\n",
            "\n",
            "See the caveats in the documentation: https://pandas.pydata.org/pandas-docs/stable/user_guide/indexing.html#returning-a-view-versus-a-copy\n",
            "/usr/local/lib/python3.6/dist-packages/ipykernel_launcher.py:55: SettingWithCopyWarning: \n",
            "A value is trying to be set on a copy of a slice from a DataFrame.\n",
            "Try using .loc[row_indexer,col_indexer] = value instead\n",
            "\n",
            "See the caveats in the documentation: https://pandas.pydata.org/pandas-docs/stable/user_guide/indexing.html#returning-a-view-versus-a-copy\n",
            "/usr/local/lib/python3.6/dist-packages/ipykernel_launcher.py:56: SettingWithCopyWarning: \n",
            "A value is trying to be set on a copy of a slice from a DataFrame.\n",
            "Try using .loc[row_indexer,col_indexer] = value instead\n",
            "\n",
            "See the caveats in the documentation: https://pandas.pydata.org/pandas-docs/stable/user_guide/indexing.html#returning-a-view-versus-a-copy\n",
            "/usr/local/lib/python3.6/dist-packages/ipykernel_launcher.py:57: SettingWithCopyWarning: \n",
            "A value is trying to be set on a copy of a slice from a DataFrame.\n",
            "Try using .loc[row_indexer,col_indexer] = value instead\n",
            "\n",
            "See the caveats in the documentation: https://pandas.pydata.org/pandas-docs/stable/user_guide/indexing.html#returning-a-view-versus-a-copy\n"
          ],
          "name": "stderr"
        },
        {
          "output_type": "stream",
          "text": [
            "layer size:  7 , validation accuracy:  0.685366810513927 , train accuracy:  0.8497478991596639 , validation AUC:  0.6654127526220549 , train AUC:  0.8383792170019602\n",
            "0.11716206013655463 0.122560652998112\n",
            "0.10666011521796219 0.1085037464906581\n",
            "0.09597037692029937 0.10320891675503874\n",
            "0.08984291910123425 0.10893235743490094\n",
            "0.08421410312171744 0.10462150109801024\n",
            "0.07977978105304621 0.10416811931455963\n",
            "0.07506085564108456 0.10528463885193949\n",
            "0.0712418346244748 0.10277264349223961\n",
            "0.0669150164948792 0.10793893783407708\n",
            "0.06352048729648109 0.10456028635616908\n",
            "0.060388409269957984 0.1082045808405257\n"
          ],
          "name": "stdout"
        },
        {
          "output_type": "stream",
          "text": [
            "/usr/local/lib/python3.6/dist-packages/ipykernel_launcher.py:41: SettingWithCopyWarning: \n",
            "A value is trying to be set on a copy of a slice from a DataFrame.\n",
            "Try using .loc[row_indexer,col_indexer] = value instead\n",
            "\n",
            "See the caveats in the documentation: https://pandas.pydata.org/pandas-docs/stable/user_guide/indexing.html#returning-a-view-versus-a-copy\n",
            "/usr/local/lib/python3.6/dist-packages/ipykernel_launcher.py:42: SettingWithCopyWarning: \n",
            "A value is trying to be set on a copy of a slice from a DataFrame.\n",
            "Try using .loc[row_indexer,col_indexer] = value instead\n",
            "\n",
            "See the caveats in the documentation: https://pandas.pydata.org/pandas-docs/stable/user_guide/indexing.html#returning-a-view-versus-a-copy\n",
            "/usr/local/lib/python3.6/dist-packages/ipykernel_launcher.py:43: SettingWithCopyWarning: \n",
            "A value is trying to be set on a copy of a slice from a DataFrame.\n",
            "Try using .loc[row_indexer,col_indexer] = value instead\n",
            "\n",
            "See the caveats in the documentation: https://pandas.pydata.org/pandas-docs/stable/user_guide/indexing.html#returning-a-view-versus-a-copy\n",
            "/usr/local/lib/python3.6/dist-packages/ipykernel_launcher.py:55: SettingWithCopyWarning: \n",
            "A value is trying to be set on a copy of a slice from a DataFrame.\n",
            "Try using .loc[row_indexer,col_indexer] = value instead\n",
            "\n",
            "See the caveats in the documentation: https://pandas.pydata.org/pandas-docs/stable/user_guide/indexing.html#returning-a-view-versus-a-copy\n",
            "/usr/local/lib/python3.6/dist-packages/ipykernel_launcher.py:56: SettingWithCopyWarning: \n",
            "A value is trying to be set on a copy of a slice from a DataFrame.\n",
            "Try using .loc[row_indexer,col_indexer] = value instead\n",
            "\n",
            "See the caveats in the documentation: https://pandas.pydata.org/pandas-docs/stable/user_guide/indexing.html#returning-a-view-versus-a-copy\n",
            "/usr/local/lib/python3.6/dist-packages/ipykernel_launcher.py:57: SettingWithCopyWarning: \n",
            "A value is trying to be set on a copy of a slice from a DataFrame.\n",
            "Try using .loc[row_indexer,col_indexer] = value instead\n",
            "\n",
            "See the caveats in the documentation: https://pandas.pydata.org/pandas-docs/stable/user_guide/indexing.html#returning-a-view-versus-a-copy\n"
          ],
          "name": "stderr"
        },
        {
          "output_type": "stream",
          "text": [
            "layer size:  8 , validation accuracy:  0.6786975284425265 , train accuracy:  0.8778151260504201 , validation AUC:  0.6512731454591921 , train AUC:  0.8604790802723683\n",
            "0.13608170709690126 0.13361047061577458\n",
            "0.10778677291228991 0.10494541364260494\n"
          ],
          "name": "stdout"
        },
        {
          "output_type": "error",
          "ename": "KeyboardInterrupt",
          "evalue": "ignored",
          "traceback": [
            "\u001b[0;31m---------------------------------------------------------------------------\u001b[0m",
            "\u001b[0;31mKeyboardInterrupt\u001b[0m                         Traceback (most recent call last)",
            "\u001b[0;32m<ipython-input-69-ea0034d8294b>\u001b[0m in \u001b[0;36m<module>\u001b[0;34m()\u001b[0m\n\u001b[1;32m      1\u001b[0m \u001b[0;32mfor\u001b[0m \u001b[0mlayer_size\u001b[0m \u001b[0;32min\u001b[0m \u001b[0;34m[\u001b[0m\u001b[0;36m1\u001b[0m\u001b[0;34m,\u001b[0m\u001b[0;36m2\u001b[0m\u001b[0;34m,\u001b[0m\u001b[0;36m3\u001b[0m\u001b[0;34m,\u001b[0m\u001b[0;36m4\u001b[0m\u001b[0;34m,\u001b[0m\u001b[0;36m5\u001b[0m\u001b[0;34m,\u001b[0m\u001b[0;36m6\u001b[0m\u001b[0;34m,\u001b[0m\u001b[0;36m7\u001b[0m\u001b[0;34m,\u001b[0m\u001b[0;36m8\u001b[0m\u001b[0;34m,\u001b[0m\u001b[0;36m9\u001b[0m\u001b[0;34m,\u001b[0m\u001b[0;36m10\u001b[0m\u001b[0;34m]\u001b[0m\u001b[0;34m:\u001b[0m\u001b[0;34m\u001b[0m\u001b[0;34m\u001b[0m\u001b[0m\n\u001b[0;32m----> 2\u001b[0;31m   \u001b[0mmodel\u001b[0m\u001b[0;34m,\u001b[0m \u001b[0mtrain_features\u001b[0m\u001b[0;34m,\u001b[0m \u001b[0mvalidation_features\u001b[0m\u001b[0;34m=\u001b[0m\u001b[0mhidden_layer_grid_search\u001b[0m\u001b[0;34m(\u001b[0m\u001b[0mlayer_size\u001b[0m\u001b[0;34m)\u001b[0m\u001b[0;34m\u001b[0m\u001b[0;34m\u001b[0m\u001b[0m\n\u001b[0m",
            "\u001b[0;32m<ipython-input-68-f1ac1787dff6>\u001b[0m in \u001b[0;36mhidden_layer_grid_search\u001b[0;34m(layer_size)\u001b[0m\n\u001b[1;32m     29\u001b[0m   \u001b[0;32mfor\u001b[0m \u001b[0mi\u001b[0m \u001b[0;32min\u001b[0m \u001b[0mrange\u001b[0m\u001b[0;34m(\u001b[0m\u001b[0mepochs\u001b[0m\u001b[0;34m)\u001b[0m\u001b[0;34m:\u001b[0m\u001b[0;34m\u001b[0m\u001b[0;34m\u001b[0m\u001b[0m\n\u001b[1;32m     30\u001b[0m       \u001b[0mtr_loss\u001b[0m\u001b[0;34m=\u001b[0m\u001b[0ms\u001b[0m\u001b[0;34m.\u001b[0m\u001b[0mtrain_model\u001b[0m\u001b[0;34m(\u001b[0m\u001b[0;36m1\u001b[0m\u001b[0;34m,\u001b[0m\u001b[0mloader_tr\u001b[0m\u001b[0;34m,\u001b[0m\u001b[0moptimizer\u001b[0m\u001b[0;34m,\u001b[0m\u001b[0mis_training\u001b[0m\u001b[0;34m=\u001b[0m\u001b[0;32mTrue\u001b[0m\u001b[0;34m)\u001b[0m\u001b[0;34m[\u001b[0m\u001b[0;36m0\u001b[0m\u001b[0;34m]\u001b[0m\u001b[0;34m/\u001b[0m\u001b[0mnorm_tr_size\u001b[0m\u001b[0;34m\u001b[0m\u001b[0;34m\u001b[0m\u001b[0m\n\u001b[0;32m---> 31\u001b[0;31m       \u001b[0mvl_loss\u001b[0m\u001b[0;34m=\u001b[0m\u001b[0ms\u001b[0m\u001b[0;34m.\u001b[0m\u001b[0mtrain_model\u001b[0m\u001b[0;34m(\u001b[0m\u001b[0;36m1\u001b[0m\u001b[0;34m,\u001b[0m\u001b[0mloader_vl\u001b[0m\u001b[0;34m,\u001b[0m\u001b[0moptimizer\u001b[0m\u001b[0;34m,\u001b[0m\u001b[0mis_training\u001b[0m\u001b[0;34m=\u001b[0m\u001b[0;32mFalse\u001b[0m\u001b[0;34m)\u001b[0m\u001b[0;34m[\u001b[0m\u001b[0;36m0\u001b[0m\u001b[0;34m]\u001b[0m\u001b[0;34m/\u001b[0m\u001b[0mnorm_vl_size\u001b[0m\u001b[0;34m\u001b[0m\u001b[0;34m\u001b[0m\u001b[0m\n\u001b[0m\u001b[1;32m     32\u001b[0m       \u001b[0mtr_loss_ary\u001b[0m\u001b[0;34m.\u001b[0m\u001b[0mappend\u001b[0m\u001b[0;34m(\u001b[0m\u001b[0mtr_loss\u001b[0m\u001b[0;34m)\u001b[0m\u001b[0;34m\u001b[0m\u001b[0;34m\u001b[0m\u001b[0m\n\u001b[1;32m     33\u001b[0m       \u001b[0mvl_loss_ary\u001b[0m\u001b[0;34m.\u001b[0m\u001b[0mappend\u001b[0m\u001b[0;34m(\u001b[0m\u001b[0mvl_loss\u001b[0m\u001b[0;34m)\u001b[0m\u001b[0;34m\u001b[0m\u001b[0;34m\u001b[0m\u001b[0m\n",
            "\u001b[0;32m<ipython-input-59-23b3fa77cebb>\u001b[0m in \u001b[0;36mtrain_model\u001b[0;34m(self, epochs, dataloader, optimizer, is_training)\u001b[0m\n\u001b[1;32m     69\u001b[0m \u001b[0;34m\u001b[0m\u001b[0m\n\u001b[1;32m     70\u001b[0m                 \u001b[0mloss\u001b[0m\u001b[0;34m=\u001b[0m\u001b[0mself\u001b[0m\u001b[0;34m.\u001b[0m\u001b[0m_prepareLoss\u001b[0m\u001b[0;34m(\u001b[0m\u001b[0;34m[\u001b[0m\u001b[0mrelevant_data\u001b[0m\u001b[0;34m]\u001b[0m\u001b[0;34m)\u001b[0m \u001b[0;31m#array so it can. be arbitrary features\u001b[0m\u001b[0;34m\u001b[0m\u001b[0;34m\u001b[0m\u001b[0m\n\u001b[0;32m---> 71\u001b[0;31m                 \u001b[0mtemp_losses_batch\u001b[0m\u001b[0;34m.\u001b[0m\u001b[0mappend\u001b[0m\u001b[0;34m(\u001b[0m\u001b[0mloss\u001b[0m\u001b[0;34m.\u001b[0m\u001b[0mdetach\u001b[0m\u001b[0;34m(\u001b[0m\u001b[0;34m)\u001b[0m\u001b[0;34m.\u001b[0m\u001b[0mnumpy\u001b[0m\u001b[0;34m(\u001b[0m\u001b[0;34m)\u001b[0m\u001b[0;34m)\u001b[0m\u001b[0;34m\u001b[0m\u001b[0;34m\u001b[0m\u001b[0m\n\u001b[0m\u001b[1;32m     72\u001b[0m                 \u001b[0moptimizer\u001b[0m\u001b[0;34m.\u001b[0m\u001b[0mzero_grad\u001b[0m\u001b[0;34m(\u001b[0m\u001b[0;34m)\u001b[0m\u001b[0;34m\u001b[0m\u001b[0;34m\u001b[0m\u001b[0m\n\u001b[1;32m     73\u001b[0m \u001b[0;34m\u001b[0m\u001b[0m\n",
            "\u001b[0;31mKeyboardInterrupt\u001b[0m: "
          ]
        }
      ]
    },
    {
      "cell_type": "code",
      "metadata": {
        "id": "A63LWJPLaaE8",
        "colab_type": "code",
        "colab": {
          "base_uri": "https://localhost:8080/",
          "height": 1000
        },
        "outputId": "956e6512-f1a5-4414-9333-51e7f9049507"
      },
      "source": [
        "for layer_size in [x * 4 for x in range(0, 1000)][1:]:\n",
        "  model=hidden_layer_grid_search(layer_size)"
      ],
      "execution_count": null,
      "outputs": [
        {
          "output_type": "stream",
          "text": [
            "0.11896847508534664 0.131343489864285\n",
            "0.10750004103203782 0.10588774712892923\n",
            "0.09869903820903361 0.1036527805021577\n",
            "0.09409974683232668 0.10471705260488182\n",
            "0.09090604894301471 0.10233483776572921\n",
            "0.08839722705488445 0.10612002313253972\n",
            "0.08652590968027836 0.09930694089210843\n",
            "0.08465242786567752 0.10219027136484284\n",
            "0.0830239278328519 0.09893571951661498\n",
            "0.08071300346310399 0.10200746520541143\n",
            "0.07977832441570377 0.10065449130633336\n",
            "layer size:  4 , validation accuracy:  0.6943899568458219 , train accuracy:  0.7991596638655463 , validation AUC:  0.6520143293399108 , train AUC:  0.7491732607511759\n",
            "0.11855163061318277 0.1231855988829872\n",
            "0.10651368213300945 0.10327033502721655\n",
            "0.09569632393973214 0.1062919104880284\n",
            "0.0895391076352416 0.09926194871533567\n",
            "0.08497124167049633 0.10238221244467806\n",
            "0.08096487349822741 0.10346180918451477\n",
            "0.07715597713694852 0.09908237509654522\n",
            "0.07369296546743698 0.1025217025595209\n",
            "0.07055242458311449 0.09952250346336798\n",
            "0.06794746975938813 0.10128763826653835\n",
            "0.06429062787224264 0.10395364622921979\n",
            "layer size:  8 , validation accuracy:  0.6896822283248333 , train accuracy:  0.8541176470588235 , validation AUC:  0.6440787894276266 , train AUC:  0.8099690122128337\n",
            "0.13898501099658614 0.1360668902211958\n",
            "0.1076849929424895 0.10417166313689191\n",
            "0.09589907349658613 0.10172361222001888\n",
            "0.089387319869354 0.1064695206376888\n",
            "0.0849340050961791 0.09988309337186457\n",
            "0.08072985737263655 0.10050871569579982\n",
            "0.07700933889180672 0.10169922449673892\n",
            "0.07287360696231618 0.10172216356291683\n",
            "0.06920092157956932 0.10760562697687819\n",
            "0.06513988847492122 0.10422699944371568\n",
            "0.062095018915769434 0.10435255371668424\n",
            "layer size:  12 , validation accuracy:  0.6987053746567281 , train accuracy:  0.8734453781512606 , validation AUC:  0.6626274242553313 , train AUC:  0.8409277119693377\n",
            "0.11827511571034664 0.1222305387644358\n",
            "0.10566980698529412 0.10519144590249853\n",
            "0.0947183048023897 0.10117983902234945\n",
            "0.08836232930672269 0.10299292317836038\n",
            "0.08391613359210871 0.10544305728809092\n",
            "0.07898363642331933 0.09946194720202775\n",
            "0.07437378442587973 0.10415233972728276\n",
            "0.07046515969669118 0.10101205819071205\n",
            "0.06584579852448792 0.10216242362583978\n",
            "0.06137332178965336 0.10515245188447063\n",
            "0.05779966210116859 0.10656913077892065\n",
            "layer size:  16 , validation accuracy:  0.6892899176147509 , train accuracy:  0.8773109243697479 , validation AUC:  0.6515219276847184 , train AUC:  0.8458451106065956\n",
            "0.11926199776785715 0.12533501093412858\n",
            "0.10709661403623949 0.10474492428863034\n",
            "0.095196420365021 0.10163111366819709\n",
            "0.088387338333771 0.10357553475321205\n",
            "0.08251499720982143 0.10110886679672175\n",
            "0.07772191151851365 0.10036288022340256\n",
            "0.07238635151326156 0.10228826523575421\n",
            "0.06782814346441701 0.10142328524973028\n",
            "0.06287484305245536 0.10320273901070273\n",
            "0.05804931640625 0.10480308607542173\n",
            "0.054071116727941175 0.10464812765499339\n",
            "layer size:  20 , validation accuracy:  0.6951745782659866 , train accuracy:  0.8947899159663866 , validation AUC:  0.6711931479373341 , train AUC:  0.8810705267723646\n",
            "0.15237624737394959 0.1453920037384452\n",
            "0.10805878454897584 0.10250276226583954\n",
            "0.09521904953387605 0.10253827232339888\n",
            "0.08830217633928572 0.09969002090280502\n",
            "0.08313267812007616 0.0994935063765815\n",
            "0.07701657078847164 0.10546664286239701\n",
            "0.07093212480304621 0.10029702618712301\n",
            "0.06579939641872375 0.10024085181420717\n",
            "0.060929026884191176 0.10462688866574514\n",
            "0.0550192645417542 0.10353729499466703\n",
            "0.050669253052783615 0.11427009615443556\n",
            "layer size:  24 , validation accuracy:  0.6692820714005492 , train accuracy:  0.8640336134453781 , validation AUC:  0.6064555599439321 , train AUC:  0.80872663577271\n",
            "0.14064098197872898 0.13733010724181052\n",
            "0.10637229598870798 0.11066449637878825\n",
            "0.09506337398240547 0.10177660194178477\n",
            "0.08792648700105042 0.09988345852923328\n",
            "0.0820048151096376 0.10293841296525598\n",
            "0.07578558913799895 0.10228986953370194\n",
            "0.07086970481551996 0.10112200048962215\n",
            "0.06460481018579307 0.10440544765946817\n",
            "0.059171286190257355 0.10447728189593346\n",
            "0.054137865595456934 0.10425397319950838\n",
            "0.04894588694852941 0.10598466348629365\n",
            "layer size:  28 , validation accuracy:  0.6896822283248333 , train accuracy:  0.9238655462184874 , validation AUC:  0.6611995885251699 , train AUC:  0.9090367888800771\n",
            "0.14519033736541492 0.14022896588199416\n",
            "0.1073341382451418 0.10313449648606071\n",
            "0.09440056295955883 0.10395195812466286\n",
            "0.0877465615152311 0.10074734902933749\n",
            "0.08167965672597163 0.09909563449935943\n",
            "0.07511849026720063 0.09988803197562157\n",
            "0.06948647378873424 0.1012571087160406\n",
            "0.06424554392069327 0.10395414906887505\n",
            "0.05832655962775735 0.10749483463950324\n",
            "0.05292315314797794 0.10558287065699784\n",
            "0.04762274221211922 0.10674548382944292\n",
            "layer size:  32 , validation accuracy:  0.6841898783836798 , train accuracy:  0.9124369747899159 , validation AUC:  0.6711508775462264 , train AUC:  0.9108633531040145\n",
            "0.12162070394564076 0.12637866661098715\n",
            "0.10730527220653886 0.10678377147747892\n",
            "0.09463195287880777 0.10689294754453339\n",
            "0.08740770868894433 0.10356150313235582\n",
            "0.0817133542870273 0.1063514610700581\n",
            "0.07647004456079307 0.10051465399268095\n",
            "0.07127622973017332 0.10119968921635936\n",
            "0.06520396000196954 0.10910284402277855\n",
            "0.059183816348805145 0.1049172665942833\n",
            "0.05479078789719013 0.10524381306088172\n",
            "0.04878760586265756 0.10730825718265742\n",
            "layer size:  36 , validation accuracy:  0.6790898391526089 , train accuracy:  0.9099159663865546 , validation AUC:  0.6577737507970065 , train AUC:  0.8983984910077367\n",
            "0.14503953436843486 0.1399159721413422\n",
            "0.10695318654805672 0.10310379932234455\n",
            "0.09398431345194327 0.10133303750398441\n",
            "0.08777058577337185 0.10170627622428526\n",
            "0.08135304683396796 0.10017168143067748\n",
            "0.07498806480600052 0.10153331135524961\n",
            "0.06919491551503414 0.10213770067612299\n",
            "0.06320046817555147 0.10440635755979673\n",
            "0.0573452374113708 0.1049262817909597\n",
            "0.05185383772649685 0.10492891571296342\n",
            "0.04607892717633929 0.10577949293457606\n",
            "layer size:  40 , validation accuracy:  0.6912514711651628 , train accuracy:  0.9290756302521008 , validation AUC:  0.6612560566048937 , train AUC:  0.9120833353663245\n",
            "0.1229191012342437 0.12546286390266403\n",
            "0.10737403164390756 0.10524213692869752\n",
            "0.09467533400078781 0.10214111280235509\n",
            "0.0880951697085084 0.10164489386922568\n",
            "0.08135089265198267 0.10424275508624706\n",
            "0.07533761160714286 0.10318803693697283\n",
            "0.06993449235162816 0.10984980035829002\n",
            "0.06427061449579832 0.10437624704234504\n",
            "0.05781124339384191 0.10541856181345625\n",
            "0.05297572544642857 0.10521215810734602\n",
            "0.04700609736081933 0.10711313145167223\n",
            "layer size:  44 , validation accuracy:  0.685366810513927 , train accuracy:  0.9225210084033614 , validation AUC:  0.6539400521958662 , train AUC:  0.9044200852505063\n",
            "0.12539780560661765 0.1276487677459298\n",
            "0.10715063271402311 0.10539758621640839\n",
            "0.09405606822807248 0.10241815350765619\n",
            "0.08726785098805147 0.10162736631552814\n",
            "0.08041383887539391 0.10237571144627795\n",
            "0.0736340537191439 0.10803118496607125\n",
            "0.06735307965959822 0.10811081321719301\n",
            "0.06097390567555147 0.10654164221109994\n",
            "0.05462522875361082 0.10550424808518659\n",
            "0.049085601037289914 0.10629271263700225\n",
            "0.043076854032628675 0.1080049295526432\n",
            "layer size:  48 , validation accuracy:  0.6841898783836798 , train accuracy:  0.9364705882352942 , validation AUC:  0.653147563031284 , train AUC:  0.9209666928515908\n",
            "0.12322216386554621 0.12525750179298253\n",
            "0.10780611951811975 0.10281634265275598\n",
            "0.09413028492647059 0.1003506624170171\n",
            "0.08633033047203256 0.10135782031556492\n",
            "0.07963950790277048 0.11407993895813923\n",
            "0.07315446100315126 0.10403760847927496\n",
            "0.06578139361213235 0.10120744731389761\n",
            "0.059855864709164916 0.10261833157993944\n",
            "0.05338301971179096 0.10511657068335621\n",
            "0.04656420282956933 0.10674100616203658\n",
            "0.04143962443375788 0.10890206733185809\n",
            "layer size:  52 , validation accuracy:  0.6837975676735975 , train accuracy:  0.94 , validation AUC:  0.6521185532813439 , train AUC:  0.9243534056477616\n",
            "0.1334938062138918 0.1340636129517703\n",
            "0.10805418896074055 0.10756396311972832\n",
            "0.09461528361344537 0.10303265948349843\n",
            "0.08780195476628151 0.10430424519266134\n",
            "0.08111961044183298 0.09994803750781557\n",
            "0.07366938230370274 0.10338677832452678\n",
            "0.06677199932707457 0.10112644223991026\n",
            "0.0598573110884979 0.10222560183681101\n",
            "0.0538774865414916 0.10273101555220797\n",
            "0.046916688550420166 0.10763704248295901\n",
            "0.04062394598952863 0.1068606460828695\n",
            "layer size:  56 , validation accuracy:  0.6896822283248333 , train accuracy:  0.945546218487395 , validation AUC:  0.6557279929372953 , train AUC:  0.9321744158653867\n",
            "0.11674237419577206 0.1224761400189106\n",
            "0.10833923852744223 0.11001257673812034\n",
            "0.09464119534532563 0.10362082623930341\n",
            "0.08667237353925945 0.10080984481506228\n",
            "0.07960594882484244 0.10336622176052496\n",
            "0.07266096868434874 0.10364146660991443\n",
            "0.06540131897485557 0.11180967777651775\n",
            "0.058921703691242125 0.10421143535914819\n",
            "0.052563963817949054 0.1054549937437169\n",
            "0.04660870207457983 0.1069501395691325\n",
            "0.03972641375886292 0.10877927867699343\n",
            "layer size:  60 , validation accuracy:  0.6877206747744213 , train accuracy:  0.9363025210084034 , validation AUC:  0.6505829441875954 , train AUC:  0.920490972956966\n",
            "0.11918561662946428 0.1278842762901812\n",
            "0.10854065454306723 0.10335761362452187\n",
            "0.0941265099789916 0.10290605164172838\n",
            "0.08634785115217962 0.10199736052281531\n",
            "0.07892349884289654 0.10323687224539647\n",
            "0.07250217982700893 0.10160199685768316\n",
            "0.06465120716255252 0.1011122908953266\n",
            "0.05803070837710084 0.10271153650175315\n",
            "0.0512802508698792 0.10747687608038692\n",
            "0.04459308015198267 0.11047631462399471\n",
            "0.037733051716780465 0.1101621715355593\n",
            "layer size:  64 , validation accuracy:  0.6747744213417026 , train accuracy:  0.9467226890756303 , validation AUC:  0.6476901651320255 , train AUC:  0.932839923289307\n",
            "0.12738623867515755 0.12879886978885716\n",
            "0.10752065963103992 0.10611143894128212\n",
            "0.09374910755317752 0.10310628957587534\n",
            "0.0871389385832458 0.10039563663523073\n",
            "0.08125684209230567 0.10532945144312107\n",
            "0.0741390042345063 0.10197522360561127\n",
            "0.06721578646106881 0.10569399822080963\n",
            "0.06078672777704832 0.10455585657825373\n",
            "0.0543196118779543 0.10971973250079688\n",
            "0.04803534499737395 0.10850020266832582\n",
            "0.042012206005449054 0.1106962710560514\n",
            "layer size:  68 , validation accuracy:  0.6818360141231855 , train accuracy:  0.9252100840336135 , validation AUC:  0.6323237486028185 , train AUC:  0.897434603058194\n",
            "0.11879831522452731 0.12403488308834347\n",
            "0.10765464975052522 0.1047791652746788\n",
            "0.09409522305015756 0.10140827189430904\n",
            "0.08694937056853992 0.10087319063925192\n",
            "0.07940164005055148 0.10283858732131473\n",
            "0.07233049665178572 0.10071660397613034\n",
            "0.06571660402442227 0.10175161559986759\n",
            "0.057998646968553044 0.10303341374298132\n",
            "0.05150969176733193 0.10476599566466016\n",
            "0.043603741301207984 0.10790023115299505\n",
            "0.03827235630580357 0.10762969144609405\n",
            "layer size:  72 , validation accuracy:  0.6892899176147509 , train accuracy:  0.9514285714285714 , validation AUC:  0.6629946281109071 , train AUC:  0.9421053579759368\n",
            "0.13499558905593487 0.13295762910240536\n",
            "0.107645150833771 0.11358478556618404\n",
            "0.09364005465467437 0.10062852322985116\n",
            "0.08640200318408614 0.10241622595564437\n",
            "0.07925708418132878 0.09996127895207066\n",
            "0.07167507652475053 0.10187251261983866\n",
            "0.06519988757221638 0.10324296618312329\n",
            "0.058177977489824055 0.10525437269364211\n",
            "0.05154053760175945 0.1084671349748063\n",
            "0.04482722434676996 0.10799367552226363\n",
            "0.03801971435546875 0.10930275870286142\n",
            "layer size:  76 , validation accuracy:  0.6834052569635151 , train accuracy:  0.9485714285714286 , validation AUC:  0.654090095950561 , train AUC:  0.9364509531850338\n",
            "0.14162297096573004 0.1375122309759955\n",
            "0.10890836314994748 0.10448191520418547\n",
            "0.09369891511292017 0.10157981205098814\n",
            "0.08700406627494747 0.10316700147806125\n",
            "0.07989246015789128 0.10092446831171538\n",
            "0.07247883772649685 0.10167666854648882\n",
            "0.06490017931000525 0.10477614823674726\n",
            "0.05769670758928572 0.1022405194132503\n",
            "0.050762662486869746 0.10750055743367497\n",
            "0.04340901350774685 0.10609641361348814\n",
            "0.036988663873752624 0.11221525387560073\n",
            "layer size:  80 , validation accuracy:  0.6775205963122793 , train accuracy:  0.9389915966386555 , validation AUC:  0.6434205329554167 , train AUC:  0.9254379594325091\n",
            "0.14217003060990022 0.13910903421838222\n",
            "0.10831605542607668 0.10700760695830473\n",
            "0.09355444130777311 0.10251020908168644\n",
            "0.08702264353006828 0.10473192229183013\n",
            "0.07982103876706932 0.11195702176788079\n",
            "0.07208829479057248 0.10158606162956062\n",
            "0.06498414111738446 0.10490448010019247\n",
            "0.05755197733390231 0.10438486715072087\n",
            "0.05078175777146796 0.10545153372799382\n",
            "0.04326124688156512 0.1129131953170974\n",
            "0.036833147321428575 0.10951886003089446\n",
            "layer size:  84 , validation accuracy:  0.6841898783836798 , train accuracy:  0.95109243697479 , validation AUC:  0.6455579304416514 , train AUC:  0.9354773068786781\n",
            "0.12014654592305672 0.12601676572767506\n",
            "0.10993857503939075 0.11814318268193409\n",
            "0.09421948857668067 0.10178099580258189\n",
            "0.08700131712841387 0.1009812053861502\n",
            "0.07929443872275473 0.10062264479483375\n",
            "0.07208853585379464 0.1011800425526861\n",
            "0.06396176121815914 0.10572559331248162\n",
            "0.05618550789456408 0.1047331075567318\n",
            "0.048490985261292016 0.10699300066355678\n",
            "0.04238831079306723 0.11279529139031237\n",
            "0.03516095586183692 0.10868888726277462\n",
            "layer size:  88 , validation accuracy:  0.6806590819929385 , train accuracy:  0.9594957983193277 , validation AUC:  0.6523586232888559 , train AUC:  0.9494161187286763\n",
            "0.12309960116859243 0.12503771297414426\n",
            "0.10962872160582983 0.10375732326096018\n",
            "0.09470255875787816 0.10271625361661436\n",
            "0.08729740431328782 0.10159605856080203\n",
            "0.07999765091583508 0.10184364722915236\n",
            "0.07242329060530463 0.10131926927532856\n",
            "0.06470603109407826 0.10305708312389662\n",
            "0.0571439547498687 0.1041599062668571\n",
            "0.050563564781381305 0.10659205787272583\n",
            "0.04332903180803571 0.10764142437138338\n",
            "0.0367195706407563 0.10958906602466653\n",
            "layer size:  92 , validation accuracy:  0.6912514711651628 , train accuracy:  0.9492436974789916 , validation AUC:  0.6575494918518174 , train AUC:  0.9344149596110368\n",
            "0.13871440470719537 0.13582699978852\n",
            "0.10939831645548845 0.10321672274206797\n",
            "0.09448545824579832 0.10159135341831356\n",
            "0.08718333524816177 0.10571978671170067\n",
            "0.07830447413340336 0.10374399801009587\n",
            "0.07121125549829306 0.1045071888830485\n",
            "0.0641007059562106 0.10567985884859872\n",
            "0.05670512736344538 0.1032691018728239\n",
            "0.048916236172203253 0.10772960089664452\n",
            "0.042217776514902834 0.1070809018242448\n",
            "0.03517357577796744 0.11445916386481218\n",
            "layer size:  96 , validation accuracy:  0.6779129070223617 , train accuracy:  0.9401680672268907 , validation AUC:  0.6326238361122082 , train AUC:  0.9189208158136425\n",
            "0.12793616030396535 0.1293113472041732\n",
            "0.10862427783613446 0.10792447520780207\n",
            "0.09396870076155463 0.1044392217229796\n",
            "0.08588459944524685 0.10214475240366933\n",
            "0.079198110884979 0.10114804040034082\n",
            "0.07060530462184873 0.10642061349502868\n",
            "0.06325635381105567 0.1037869788282476\n",
            "0.05605263589810924 0.10347678662281777\n",
            "0.04875378520548845 0.11165009802021013\n",
            "0.04141930844603466 0.10827042889061887\n",
            "0.03560428907891282 0.11112746803280699\n",
            "layer size:  100 , validation accuracy:  0.6885052961945861 , train accuracy:  0.9485714285714286 , validation AUC:  0.6450513310978427 , train AUC:  0.9298475481940848\n",
            "0.12776745708048845 0.12672064546605286\n",
            "0.10874371184020483 0.10399413679384072\n",
            "0.09371387129070378 0.10490056513430512\n",
            "0.08634337866005777 0.10330009834585867\n",
            "0.07881586154969801 0.10545589167167271\n",
            "0.07168109284729517 0.103560090392372\n",
            "0.06340568991268382 0.10197336788783591\n",
            "0.05579881171218488 0.10439249355215893\n",
            "0.04861662536108193 0.11017537706269616\n",
            "0.04152387859440651 0.10824244945551564\n",
            "0.03534348431755515 0.10976948968192184\n",
            "layer size:  104 , validation accuracy:  0.6857591212240094 , train accuracy:  0.9561344537815126 , validation AUC:  0.6563810866136448 , train AUC:  0.9440722924094122\n",
            "0.13305709197741597 0.13317780103717144\n",
            "0.11220647731748949 0.10674019204068998\n",
            "0.09353983390231092 0.10344583803927399\n",
            "0.08457270261620273 0.10119013526290947\n",
            "0.07654627182904412 0.10136283673974475\n",
            "0.0683939547498687 0.1033935546875\n",
            "0.06032000886292017 0.1171671349939621\n",
            "0.05246101956407563 0.10902574194230581\n",
            "0.04476282456341912 0.1102121083022754\n",
            "0.03782215535139837 0.11281126253555315\n",
            "0.031914842108718484 0.11118258883692134\n",
            "layer size:  108 , validation accuracy:  0.6794821498626913 , train accuracy:  0.9636974789915966 , validation AUC:  0.6434469922842015 , train AUC:  0.952272877685628\n",
            "0.1294865250787815 0.1307403097530588\n",
            "0.10961449374671743 0.1099484407373296\n",
            "0.09440308642988446 0.10670358052483817\n",
            "0.08705330472032563 0.10106830439786436\n",
            "0.07840013007155987 0.10602978735916659\n",
            "0.07209694742154675 0.11010136385439143\n",
            "0.06408215434611345 0.10608774561562133\n",
            "0.05762500410320378 0.10426394618600432\n",
            "0.048629955644367125 0.1098008932156299\n",
            "0.042048314198726365 0.11240626111036191\n",
            "0.03538659360228466 0.11264270349968737\n",
            "layer size:  112 , validation accuracy:  0.6759513534719498 , train accuracy:  0.933781512605042 , validation AUC:  0.6693100181472275 , train AUC:  0.9362933181903653\n",
            "0.13981849478072478 0.1367365648906434\n",
            "0.10971616087841386 0.10499289607290849\n",
            "0.09317169445903362 0.1023221350782476\n",
            "0.08639540728400735 0.10340006765827285\n",
            "0.07689112559086135 0.10406034401511623\n",
            "0.06915422712053572 0.10366451342744704\n",
            "0.06135399057083771 0.10810088812018806\n",
            "0.05274777708935136 0.10723014942287416\n",
            "0.045057034532563024 0.11169943616828903\n",
            "0.0380277925379136 0.10836170626042076\n",
            "0.03147941012342437 0.11325402482437966\n",
            "layer size:  116 , validation accuracy:  0.6806590819929385 , train accuracy:  0.9515966386554622 , validation AUC:  0.6338257995234741 , train AUC:  0.9327338949893216\n",
            "0.12590405888918066 0.1283396574598801\n",
            "0.11086747882746849 0.10344233013405993\n",
            "0.09357947085084034 0.10146379975909671\n",
            "0.08613692596179097 0.1037402147403087\n",
            "0.07939192571559874 0.10274620849322039\n",
            "0.07172133501838235 0.10831780356956772\n",
            "0.06386980842141544 0.10578963353429041\n",
            "0.055737150817358194 0.10526483654742055\n",
            "0.04881657448135504 0.10589999486624657\n",
            "0.04144044251001182 0.1110326707854183\n",
            "0.034376238654641546 0.11308020991687917\n",
            "layer size:  120 , validation accuracy:  0.6826206355433503 , train accuracy:  0.9484033613445378 , validation AUC:  0.6432069222766897 , train AUC:  0.9307620188238703\n",
            "0.13627917377888654 0.1350291848135911\n",
            "0.11049160484506303 0.10231568196933846\n",
            "0.09378512342436975 0.10949637591488083\n",
            "0.08528857832195379 0.10026655051230261\n",
            "0.07777551987591912 0.10161003031979453\n",
            "0.06977113355107668 0.10136940957238133\n",
            "0.061529623079700634 0.10529169057948583\n",
            "0.05372411904214811 0.10672910562352883\n",
            "0.04617205451516544 0.11128124118833366\n",
            "0.038485566467798056 0.11025553209821866\n",
            "0.03234698640198267 0.10877290937469351\n",
            "layer size:  124 , validation accuracy:  0.6908591604550804 , train accuracy:  0.9625210084033613 , validation AUC:  0.6635806054410707 , train AUC:  0.9542719021001612\n",
            "0.1338323820739233 0.1328596472038667\n",
            "0.11054119206276261 0.10488911954596165\n",
            "0.09397368615414917 0.1021600411236637\n",
            "0.08593850528492647 0.10132848800234161\n",
            "0.07846080619747899 0.10204383727380835\n",
            "0.07052400989692752 0.10238272725670607\n",
            "0.06341286539029674 0.10835639052692232\n",
            "0.05489566065684086 0.10826058760022313\n",
            "0.04695945932083771 0.10808976578590869\n",
            "0.03914314590582327 0.11210559891363647\n",
            "0.03354824547006303 0.11265940495966556\n",
            "layer size:  128 , validation accuracy:  0.6885052961945861 , train accuracy:  0.946218487394958 , validation AUC:  0.6424037848456453 , train AUC:  0.9256203030870561\n",
            "0.12469236229648109 0.1272510694681125\n",
            "0.10855341550682773 0.11610749619949\n",
            "0.09385543182116597 0.10192270080638241\n",
            "0.08629506343553046 0.10251916441649912\n",
            "0.07851500951943277 0.10207484571921586\n",
            "0.07089669876739758 0.10331074178522827\n",
            "0.06278416737788865 0.10387583777875514\n",
            "0.054876796177455354 0.10477720180554874\n",
            "0.04643869608390231 0.10885841606083269\n",
            "0.039545983066078 0.11008747590200814\n",
            "0.033093836167279414 0.11106097347458563\n",
            "layer size:  132 , validation accuracy:  0.6865437426441742 , train accuracy:  0.9568067226890756 , validation AUC:  0.6448483686855779 , train AUC:  0.9419204496250477\n",
            "0.15103248916754203 0.14386541846220333\n",
            "0.11020794010963761 0.10525918558748529\n",
            "0.0941213604582458 0.10370809286423598\n",
            "0.08672859768907563 0.10207761133731978\n",
            "0.0786637506565126 0.10242075151254168\n",
            "0.07123689026391807 0.10503733752053501\n",
            "0.06430824087447479 0.10257978053970307\n",
            "0.05594760413931198 0.10255630271675167\n",
            "0.0485916522370667 0.10543362305836848\n",
            "0.04047054002264969 0.10761441469847244\n",
            "0.033673793247767855 0.11000788356800462\n",
            "layer size:  136 , validation accuracy:  0.6885052961945861 , train accuracy:  0.957983193277311 , validation AUC:  0.6473458711830804 , train AUC:  0.9427018062593354\n",
            "0.1250293173910189 0.1267952572929948\n",
            "0.11049020975577731 0.10389336533245268\n",
            "0.09423714261095063 0.11063426613760911\n",
            "0.08581649139147847 0.10150074650138535\n",
            "0.07759013712907038 0.1037681343135482\n",
            "0.06994690454306722 0.10193084201984846\n",
            "0.06084006942620798 0.10927158264423549\n",
            "0.05348141453847164 0.11028306855553036\n",
            "0.04446504480698529 0.10882750339440712\n",
            "0.037879628413865545 0.10872416984525181\n",
            "0.03183584261341255 0.11101838774473445\n",
            "layer size:  140 , validation accuracy:  0.6885052961945861 , train accuracy:  0.9620168067226891 , validation AUC:  0.6639371610301843 , train AUC:  0.9557409726754751\n",
            "0.12899981330422794 0.12880410171574638\n",
            "0.11216940487132353 0.1026950864616026\n",
            "0.09419480780593488 0.1037958623288238\n",
            "0.08604806082589286 0.10583074666229404\n",
            "0.0774335486147584 0.10267728354333194\n",
            "0.07008197175354516 0.10734728711780354\n",
            "0.06246611779477416 0.10557420265913103\n",
            "0.05312091218323267 0.10784046506825594\n",
            "0.045737355977547266 0.10772946920054433\n",
            "0.03807325860031512 0.11039147839072921\n",
            "0.030824738831079307 0.11348892277762113\n",
            "layer size:  144 , validation accuracy:  0.6688897606904668 , train accuracy:  0.9428571428571428 , validation AUC:  0.6555534259022632 , train AUC:  0.944373112524238\n",
            "0.12083350430015756 0.12230612035357002\n",
            "0.11087218725380778 0.11184169190123577\n",
            "0.09332004579175421 0.10087107152927619\n",
            "0.0859759521484375 0.10251087953456012\n",
            "0.07797615115382091 0.1035013299869434\n",
            "0.0701399602809874 0.10278486728481144\n",
            "0.06168697068671219 0.10165811136873529\n",
            "0.053440120921415445 0.10585347022576255\n",
            "0.04592646238182773 0.10801750054402462\n",
            "0.038507357044380255 0.10963884715053697\n",
            "0.03240335159942884 0.1100668594761426\n",
            "layer size:  148 , validation accuracy:  0.6908591604550804 , train accuracy:  0.9544537815126051 , validation AUC:  0.6718762503646225 , train AUC:  0.9509000144999173\n",
            "0.13927785665047268 0.13722830615636647\n",
            "0.11084089006696428 0.10809498574042517\n",
            "0.09338466099330357 0.10988825561954443\n",
            "0.08585345612854517 0.10405013158116541\n",
            "0.07708775624507616 0.10170254084398907\n",
            "0.06884300937171743 0.10597328973218664\n",
            "0.06019681016938025 0.1058919614041352\n",
            "0.0517430307083771 0.10534991222814094\n",
            "0.04335821584493172 0.10929425831821303\n",
            "0.03616653057707458 0.11268833021221558\n",
            "0.02931336987920168 0.11665025174547616\n",
            "layer size:  152 , validation accuracy:  0.6783052177324441 , train accuracy:  0.9552941176470588 , validation AUC:  0.6295932749421121 , train AUC:  0.938102367414895\n",
            "0.12588471228335085 0.1283615070401383\n",
            "0.11159279190191701 0.10702669092045901\n",
            "0.09448674049698004 0.1025218103108756\n",
            "0.08584903492647059 0.10506335348650819\n",
            "0.07738955201221114 0.10753829435256473\n",
            "0.07076825310202206 0.10588034820257332\n",
            "0.06198695591517857 0.10353851617668694\n",
            "0.053820923877363445 0.106998747402474\n",
            "0.04509703051142332 0.11168394391795802\n",
            "0.038316199038209035 0.10864637336715992\n",
            "0.03097989891757484 0.11060798677943556\n",
            "layer size:  156 , validation accuracy:  0.6865437426441742 , train accuracy:  0.965546218487395 , validation AUC:  0.6559680629448071 , train AUC:  0.9573899473161328\n",
            "0.14047654608718488 0.13633557421032144\n",
            "0.11099719135701155 0.1026547395654546\n",
            "0.09327226398371849 0.1013925282241504\n",
            "0.08672338662027311 0.10249732680861368\n",
            "0.07891041475183823 0.10321763264239653\n",
            "0.07112754501214548 0.10142057949349009\n",
            "0.06245310550978204 0.10587464935314707\n",
            "0.0546764367368041 0.10721848833182131\n",
            "0.04664702599789916 0.1083403834645633\n",
            "0.03889146307937237 0.10582722678470724\n",
            "0.03231021913159795 0.11075607305790874\n",
            "layer size:  160 , validation accuracy:  0.685366810513927 , train accuracy:  0.9559663865546218 , validation AUC:  0.6597646539507005 , train AUC:  0.9468403504050781\n",
            "0.13730489266018908 0.1364251874203119\n",
            "0.11174423089548319 0.11155472609892973\n",
            "0.0939222524947479 0.10201318799958317\n",
            "0.08571980452337184 0.10078175762860435\n",
            "0.07801115661108193 0.10420518578057572\n",
            "0.0700276761095063 0.10330845506203414\n",
            "0.060925810998227414 0.10781464066024667\n",
            "0.05286456452698267 0.11476256773489604\n",
            "0.04415943306033351 0.10851391103511794\n",
            "0.0367494778673188 0.11061653505357494\n",
            "0.029823446834788603 0.11092463209377453\n",
            "layer size:  164 , validation accuracy:  0.69242840329541 , train accuracy:  0.9658823529411765 , validation AUC:  0.6586949871833594 , train AUC:  0.9557927044772967\n",
            "0.13766010701155462 0.13701507819779202\n",
            "0.11219394202993697 0.10664954920664353\n",
            "0.09384730747767857 0.10280475339593959\n",
            "0.08558232668067227 0.1006437760327273\n",
            "0.07672114524520746 0.10047521699686152\n",
            "0.0685611910779937 0.10432298195600603\n",
            "0.05984926368008141 0.10458056755559779\n",
            "0.0514375112838104 0.10735917568393856\n",
            "0.044552699497767856 0.10884680285927079\n",
            "0.03666952694163603 0.1114445922420557\n",
            "0.030015658851431197 0.11284443798042737\n",
            "layer size:  168 , validation accuracy:  0.6783052177324441 , train accuracy:  0.9665546218487395 , validation AUC:  0.6438900247039782 , train AUC:  0.9560736951106503\n",
            "0.1388018029477416 0.13610916466935563\n",
            "0.11051281840861345 0.10874933577276015\n",
            "0.09373641839548319 0.10017929585974279\n",
            "0.08627351135766807 0.1016520772928722\n",
            "0.07761037618172269 0.09969317562302313\n",
            "0.06809205127363445 0.1049149678987164\n",
            "0.06040131384585084 0.10559770442682792\n",
            "0.05188179593126313 0.10601472611425436\n",
            "0.04427812335871849 0.10748443064758852\n",
            "0.036005351603532035 0.10959211897971631\n",
            "0.02942990086659664 0.1118963697275586\n",
            "layer size:  172 , validation accuracy:  0.6747744213417026 , train accuracy:  0.9687394957983193 , validation AUC:  0.6401005325423931 , train AUC:  0.9595935219023191\n",
            "0.1450822487198004 0.1429074011675841\n",
            "0.11173277269892332 0.10269833097461627\n",
            "0.0934239183954832 0.10221073214986269\n",
            "0.08555593282234769 0.10254983763546979\n",
            "0.07729987136456144 0.10283112853309509\n",
            "0.0684087929605436 0.10367864082728522\n",
            "0.0591292386095063 0.1092258481803526\n",
            "0.05085413315716912 0.10662453891998087\n",
            "0.04279670266544117 0.10812750270479846\n",
            "0.035543233406643907 0.11039736879811936\n",
            "0.028238961356026784 0.1119496587586431\n",
            "layer size:  176 , validation accuracy:  0.6830129462534327 , train accuracy:  0.9678991596638655 , validation AUC:  0.6481189998631859 , train AUC:  0.9599953034780161\n",
            "0.1264531701352416 0.12659576164595798\n",
            "0.11127413709624474 0.10528207676417223\n",
            "0.09362986845128676 0.10541730471431812\n",
            "0.085945932083771 0.10184794531096754\n",
            "0.07775727087710084 0.10164439102957042\n",
            "0.06849847360819328 0.10150048310918497\n",
            "0.060902833057050944 0.10493442300442575\n",
            "0.05317137646074055 0.10749330217579198\n",
            "0.04502297794117647 0.1075986710283138\n",
            "0.03679356422744879 0.10944436792767998\n",
            "0.03037623814174107 0.1120537226225358\n",
            "layer size:  180 , validation accuracy:  0.6786975284425265 , train accuracy:  0.9583193277310924 , validation AUC:  0.6627458458853808 , train AUC:  0.9575551512926882\n",
            "0.14380107462907038 0.13908666982609602\n",
            "0.11059994994091386 0.10643216683472685\n",
            "0.09407313755580357 0.10400457670287368\n",
            "0.08541218733587184 0.10040810586144383\n",
            "0.07741546374409139 0.10501691265263338\n",
            "0.0691608999556854 0.1035656934628163\n",
            "0.060360194614955356 0.1044983891890815\n",
            "0.05166239249606092 0.10983011777749853\n",
            "0.04322348201976103 0.11016803799820395\n",
            "0.03575228138130252 0.11086457867208954\n",
            "0.0295499041901917 0.1146719009561041\n",
            "layer size:  184 , validation accuracy:  0.664966653589643 , train accuracy:  0.9563025210084034 , validation AUC:  0.6482638808220204 , train AUC:  0.9553219888682171\n",
            "0.1373529822085084 0.13643131727515692\n",
            "0.11114065987723214 0.1032220384755664\n",
            "0.09394522017791491 0.10224188426374313\n",
            "0.0853087045365021 0.10024618550626471\n",
            "0.07631237895548844 0.1099042507095307\n",
            "0.0684598727186187 0.10288790152464815\n",
            "0.059270291368500524 0.10462582312457092\n",
            "0.0503851318359375 0.10863351503883263\n",
            "0.04344948648404674 0.10932444066990119\n",
            "0.035468367889147846 0.11281896077122769\n",
            "0.02843291466977416 0.11183495145538079\n",
            "layer size:  188 , validation accuracy:  0.6857591212240094 , train accuracy:  0.9635294117647059 , validation AUC:  0.6565575896971245 , train AUC:  0.9593273564648925\n",
            "0.14100810587907037 0.13780760138396797\n",
            "0.11280123670561974 0.1038396452959494\n",
            "0.09311420857405463 0.10099382426702261\n",
            "0.08449860388491334 0.10549207218210573\n",
            "0.07698419651063551 0.10215188793782488\n",
            "0.06881522042410715 0.11767271632257748\n",
            "0.05921115394399947 0.1053249378585965\n",
            "0.05160542976956407 0.10973005268610239\n",
            "0.043165944844734766 0.11177141407322724\n",
            "0.035062101989233194 0.11605790663158347\n",
            "0.028514078605074843 0.11420596015364481\n",
            "layer size:  192 , validation accuracy:  0.6826206355433503 , train accuracy:  0.959327731092437 , validation AUC:  0.637735326688815 , train AUC:  0.9450015256815556\n",
            "0.12565946691176472 0.1265217364652805\n",
            "0.11250351849724265 0.10231607705763902\n",
            "0.09349090319721638 0.1090303153886941\n",
            "0.08611656381302521 0.10195212889858768\n",
            "0.07750681644728204 0.10845746129762897\n",
            "0.06931307239692752 0.10176522818767776\n",
            "0.06029275333180147 0.10419510504272508\n",
            "0.05096044716714811 0.10615997494038716\n",
            "0.04348977481617647 0.11546498684379904\n",
            "0.03556196453190651 0.10973453035350873\n",
            "0.028410408597032564 0.11110213449208023\n",
            "layer size:  196 , validation accuracy:  0.6837975676735975 , train accuracy:  0.9714285714285714 , validation AUC:  0.6611202105388151 , train AUC:  0.9660465481126399\n",
            "0.13452786485688026 0.13433770845337634\n",
            "0.11350081243434874 0.10749691783236073\n",
            "0.09364858931853992 0.10182998675185122\n",
            "0.08468198119091387 0.10675242780563456\n",
            "0.07656089975052521 0.105477549693967\n",
            "0.068245849609375 0.10502552078863647\n",
            "0.058783348788734244 0.11031181422248922\n",
            "0.049390130563944326 0.10810018175019616\n",
            "0.041822617474724266 0.10952132633967977\n",
            "0.03407506606158088 0.11098607431069782\n",
            "0.027380830139673056 0.11461946196348445\n",
            "layer size:  200 , validation accuracy:  0.6822283248332679 , train accuracy:  0.9715966386554622 , validation AUC:  0.6411188940258707 , train AUC:  0.9608456566992558\n",
            "0.1262334846047794 0.12747093012118724\n",
            "0.11255699350052521 0.10897270433104894\n",
            "0.09410355255383403 0.10466571507055462\n",
            "0.08552831826089811 0.10445198427232494\n",
            "0.07847642401687237 0.10180142067048352\n",
            "0.0699539364085478 0.10343385369415702\n",
            "0.06106299648765756 0.10974020525818949\n",
            "0.05326794536173845 0.1098318417991737\n",
            "0.04456995346966912 0.11187236512020646\n",
            "0.03694448262703519 0.10836137103398391\n",
            "0.02997888901654412 0.10970153449422568\n",
            "layer size:  204 , validation accuracy:  0.6928207140054924 , train accuracy:  0.9663865546218487 , validation AUC:  0.665019089437694 , train AUC:  0.9582625070544786\n",
            "0.1205361758961397 0.12555733789598864\n",
            "0.1136471737132353 0.1045021245693777\n",
            "0.09404060940782563 0.10144994772383165\n",
            "0.08616436613707983 0.09991893865586075\n",
            "0.07757891486672794 0.10199185323135299\n",
            "0.0682956522452731 0.10509607398121812\n",
            "0.059446949678308825 0.1043679262432878\n",
            "0.050478951590401784 0.106087901256467\n",
            "0.04284589494977679 0.10710702554157267\n",
            "0.03465295615316439 0.11385151805855237\n",
            "0.027794633112033874 0.11455690631589593\n",
            "layer size:  208 , validation accuracy:  0.6739897999215378 , train accuracy:  0.9712605042016806 , validation AUC:  0.6507507350530606 , train AUC:  0.967076867952793\n",
            "0.13266447692358194 0.1322952216632135\n",
            "0.11283422646402311 0.10661888796004561\n",
            "0.09364114200367647 0.10214742224279129\n",
            "0.08537744858685661 0.10356356238046784\n",
            "0.07688693006499475 0.10468848652351412\n",
            "0.06881703609178046 0.10467238368217316\n",
            "0.06026679030987395 0.10711149123660627\n",
            "0.05269354812237395 0.10703753789016526\n",
            "0.043231385816045166 0.10651719462595625\n",
            "0.03508946522945115 0.11283203460226437\n",
            "0.028298916856781774 0.11149274512523294\n",
            "layer size:  212 , validation accuracy:  0.687328364064339 , train accuracy:  0.9690756302521009 , validation AUC:  0.6516719714394134 , train AUC:  0.9593864695878933\n",
            "0.13044599773503152 0.13001434098696793\n",
            "0.11552508698792016 0.10693373741847292\n",
            "0.0935500713957458 0.10504364696097121\n",
            "0.08480475930606618 0.11003587497548058\n",
            "0.07592264640231093 0.10451402510788545\n",
            "0.06686719365480567 0.11324849358817184\n",
            "0.05791952694163603 0.1079633375297298\n",
            "0.04856319651884191 0.11211336898354747\n",
            "0.04082695199661896 0.10940696623522705\n",
            "0.03359231387867647 0.11114814432053624\n",
            "0.02632647346047794 0.11471374439884513\n",
            "layer size:  216 , validation accuracy:  0.6822283248332679 , train accuracy:  0.9678991596638655 , validation AUC:  0.6427074217771892 , train AUC:  0.9590685097950757\n",
            "0.13709924008665966 0.13331057465090476\n",
            "0.11343251460740546 0.10377655089158738\n",
            "0.09390144925157563 0.10075501134789379\n",
            "0.08532360429523372 0.10260627540058602\n",
            "0.07778347496225052 0.10434129968630468\n",
            "0.06838411731880252 0.10350457449995709\n",
            "0.05920594800420168 0.10738851996953462\n",
            "0.05072207154346114 0.11506094320842733\n",
            "0.04274345077386423 0.10853085194255101\n",
            "0.035823725852645746 0.1118298631969645\n",
            "0.02803104432691045 0.11224566370237103\n",
            "layer size:  220 , validation accuracy:  0.6755590427618674 , train accuracy:  0.9678991596638655 , validation AUC:  0.6391579996231158 , train AUC:  0.9581417161121356\n",
            "0.12482186966583508 0.12766579245997206\n",
            "0.11265385988379727 0.10315605872937304\n",
            "0.09300715598739495 0.10720143967303354\n",
            "0.08582453879989496 0.10860684059235852\n",
            "0.07684566209296219 0.1069317260598519\n",
            "0.0678885272370667 0.10293069078483597\n",
            "0.058864592223608195 0.10267299743388951\n",
            "0.04982346991530987 0.11320280701377991\n",
            "0.04207093054506959 0.11360501887612176\n",
            "0.03479872759650735 0.12409060251109504\n",
            "0.027765723476890755 0.11016230323165947\n",
            "layer size:  224 , validation accuracy:  0.6943899568458219 , train accuracy:  0.9690756302521009 , validation AUC:  0.6689586253539742 , train AUC:  0.9629777951092867\n",
            "0.17194697019432773 0.16495593831603692\n",
            "0.11712783941701681 0.10885223831649667\n",
            "0.09365412864364496 0.11348681564001814\n",
            "0.08575894395844275 0.11026026118545262\n",
            "0.07694234383206408 0.11422727097712951\n",
            "0.0684197228696166 0.10495436897741761\n",
            "0.058804470030199577 0.10632700151254168\n",
            "0.050035985097163865 0.11055039966653589\n",
            "0.04121550487870929 0.11262418223905207\n",
            "0.03399833871536896 0.11044254056048328\n",
            "0.026874192181755515 0.11825267003067992\n",
            "layer size:  228 , validation accuracy:  0.6747744213417026 , train accuracy:  0.9502521008403362 , validation AUC:  0.6176846409404549 , train AUC:  0.9298549295152637\n",
            "0.1273665432970063 0.129521797572271\n",
            "0.1140596790474002 0.10477388545829859\n",
            "0.0938313870470063 0.10680053279932081\n",
            "0.08510384182970063 0.1027876448752881\n",
            "0.07726992310596113 0.10356068901100922\n",
            "0.06839482668067227 0.10492134917338908\n",
            "0.058976024980304624 0.11147409216849745\n",
            "0.05046466731223739 0.11018017798416659\n",
            "0.042475650050059086 0.10857294680511966\n",
            "0.034350560292476365 0.11075716254382846\n",
            "0.027119345785189077 0.11102455351669772\n",
            "layer size:  232 , validation accuracy:  0.6786975284425265 , train accuracy:  0.973109243697479 , validation AUC:  0.6551562132957481 , train AUC:  0.9695294057448448\n",
            "0.13155636571034665 0.1320293631540555\n",
            "0.11302045036764706 0.10432227558601412\n",
            "0.09357491629464286 0.101219036570714\n",
            "0.08567095588235295 0.10186410801417223\n",
            "0.07625035903033088 0.10470476895044625\n",
            "0.0678555887687106 0.10397663318488869\n",
            "0.05858915954076943 0.10243908121521307\n",
            "0.05047574596244748 0.10608561453327285\n",
            "0.041275429605435926 0.11104109933583023\n",
            "0.035088580476135764 0.11368155825507552\n",
            "0.026788273659073006 0.11510720445671097\n",
            "layer size:  236 , validation accuracy:  0.6888976069046685 , train accuracy:  0.9635294117647059 , validation AUC:  0.6441388069295045 , train AUC:  0.9506386656873281\n",
            "0.12102984260110294 0.12509609026364504\n",
            "0.11408064641872374 0.10467626273094228\n",
            "0.09432586413471639 0.10663471543681345\n",
            "0.08515150567062763 0.10313517891130713\n",
            "0.07756872866334033 0.1102081813640153\n",
            "0.06802379960773372 0.10521474413985876\n",
            "0.059304024832589286 0.10596636970074048\n",
            "0.049802482027967436 0.10589652287815074\n",
            "0.041629972057182246 0.11302465810734602\n",
            "0.03353370474166229 0.11300811228821352\n",
            "0.02672359434496455 0.11540676519514392\n",
            "layer size:  240 , validation accuracy:  0.6814437034131032 , train accuracy:  0.9603361344537815 , validation AUC:  0.6496510595347805 , train AUC:  0.9531849087262104\n",
            "0.13497168789390757 0.13403885408493527\n",
            "0.11432839786305148 0.10350513720147607\n",
            "0.09423922498686975 0.10002966514518562\n",
            "0.08604825572807248 0.1017436300272472\n",
            "0.07709628065093224 0.10404243334549088\n",
            "0.06832117417279411 0.10981584670918743\n",
            "0.059997727850905985 0.10751650463417026\n",
            "0.050020033892463234 0.10742584982775108\n",
            "0.04164934430803571 0.1127383507855409\n",
            "0.03493627211626838 0.11012566777106218\n",
            "0.02772020868894433 0.11385242795888094\n",
            "layer size:  244 , validation accuracy:  0.6775205963122793 , train accuracy:  0.9675630252100841 , validation AUC:  0.6566582642164038 , train AUC:  0.9642570781553054\n",
            "0.13051490078453257 0.13020787439237813\n",
            "0.11395682198660714 0.10661804989395351\n",
            "0.09407685095522585 0.1064596075130566\n",
            "0.08600643382352942 0.10608202282144959\n",
            "0.07782573283219538 0.10299597613341016\n",
            "0.06864212677258404 0.10388668474846141\n",
            "0.05930039862624737 0.10834235890606611\n",
            "0.05096694048713235 0.10936587705196892\n",
            "0.041954117462414654 0.11505662118186666\n",
            "0.034776590812106094 0.11186364923284867\n",
            "0.028203566094406513 0.11482424939927423\n",
            "layer size:  248 , validation accuracy:  0.6739897999215378 , train accuracy:  0.9677310924369747 , validation AUC:  0.6428080962964684 , train AUC:  0.9594037343730237\n",
            "0.14203643029477417 0.14067074643625563\n",
            "0.11369321165966387 0.10300296799909278\n",
            "0.09390469078256303 0.10242759970975138\n",
            "0.08568196785550157 0.11106643287655699\n",
            "0.07770153911173845 0.10311046793396307\n",
            "0.06917348140428047 0.1038981901986686\n",
            "0.05998738264837185 0.10520450776116247\n",
            "0.051979595793395485 0.10958978436703119\n",
            "0.042688721728925946 0.10945370637842046\n",
            "0.03510470606699711 0.11161876632073853\n"
          ],
          "name": "stdout"
        },
        {
          "output_type": "error",
          "ename": "KeyboardInterrupt",
          "evalue": "ignored",
          "traceback": [
            "\u001b[0;31m---------------------------------------------------------------------------\u001b[0m",
            "\u001b[0;31mKeyboardInterrupt\u001b[0m                         Traceback (most recent call last)",
            "\u001b[0;32m<ipython-input-90-20590c151e81>\u001b[0m in \u001b[0;36m<module>\u001b[0;34m()\u001b[0m\n\u001b[1;32m      1\u001b[0m \u001b[0;32mfor\u001b[0m \u001b[0mlayer_size\u001b[0m \u001b[0;32min\u001b[0m \u001b[0;34m[\u001b[0m\u001b[0mx\u001b[0m \u001b[0;34m*\u001b[0m \u001b[0;36m4\u001b[0m \u001b[0;32mfor\u001b[0m \u001b[0mx\u001b[0m \u001b[0;32min\u001b[0m \u001b[0mrange\u001b[0m\u001b[0;34m(\u001b[0m\u001b[0;36m0\u001b[0m\u001b[0;34m,\u001b[0m \u001b[0;36m1000\u001b[0m\u001b[0;34m)\u001b[0m\u001b[0;34m]\u001b[0m\u001b[0;34m[\u001b[0m\u001b[0;36m1\u001b[0m\u001b[0;34m:\u001b[0m\u001b[0;34m]\u001b[0m\u001b[0;34m:\u001b[0m\u001b[0;34m\u001b[0m\u001b[0;34m\u001b[0m\u001b[0m\n\u001b[0;32m----> 2\u001b[0;31m   \u001b[0mhidden_layer_grid_search\u001b[0m\u001b[0;34m(\u001b[0m\u001b[0mlayer_size\u001b[0m\u001b[0;34m)\u001b[0m\u001b[0;34m\u001b[0m\u001b[0;34m\u001b[0m\u001b[0m\n\u001b[0m",
            "\u001b[0;32m<ipython-input-89-c077e7bd54c1>\u001b[0m in \u001b[0;36mhidden_layer_grid_search\u001b[0;34m(layer_size)\u001b[0m\n\u001b[1;32m     28\u001b[0m   \u001b[0mprint\u001b[0m\u001b[0;34m(\u001b[0m\u001b[0minitial_tr_loss\u001b[0m\u001b[0;34m,\u001b[0m\u001b[0mintial_vl_loss\u001b[0m\u001b[0;34m)\u001b[0m\u001b[0;34m\u001b[0m\u001b[0;34m\u001b[0m\u001b[0m\n\u001b[1;32m     29\u001b[0m   \u001b[0;32mfor\u001b[0m \u001b[0mi\u001b[0m \u001b[0;32min\u001b[0m \u001b[0mrange\u001b[0m\u001b[0;34m(\u001b[0m\u001b[0mepochs\u001b[0m\u001b[0;34m)\u001b[0m\u001b[0;34m:\u001b[0m\u001b[0;34m\u001b[0m\u001b[0;34m\u001b[0m\u001b[0m\n\u001b[0;32m---> 30\u001b[0;31m       \u001b[0mtr_loss\u001b[0m\u001b[0;34m=\u001b[0m\u001b[0ms\u001b[0m\u001b[0;34m.\u001b[0m\u001b[0mtrain_model\u001b[0m\u001b[0;34m(\u001b[0m\u001b[0;36m1\u001b[0m\u001b[0;34m,\u001b[0m\u001b[0mloader_tr\u001b[0m\u001b[0;34m,\u001b[0m\u001b[0moptimizer\u001b[0m\u001b[0;34m,\u001b[0m\u001b[0mis_training\u001b[0m\u001b[0;34m=\u001b[0m\u001b[0;32mTrue\u001b[0m\u001b[0;34m)\u001b[0m\u001b[0;34m[\u001b[0m\u001b[0;36m0\u001b[0m\u001b[0;34m]\u001b[0m\u001b[0;34m/\u001b[0m\u001b[0mnorm_tr_size\u001b[0m\u001b[0;34m\u001b[0m\u001b[0;34m\u001b[0m\u001b[0m\n\u001b[0m\u001b[1;32m     31\u001b[0m       \u001b[0mvl_loss\u001b[0m\u001b[0;34m=\u001b[0m\u001b[0ms\u001b[0m\u001b[0;34m.\u001b[0m\u001b[0mtrain_model\u001b[0m\u001b[0;34m(\u001b[0m\u001b[0;36m1\u001b[0m\u001b[0;34m,\u001b[0m\u001b[0mloader_vl\u001b[0m\u001b[0;34m,\u001b[0m\u001b[0moptimizer\u001b[0m\u001b[0;34m,\u001b[0m\u001b[0mis_training\u001b[0m\u001b[0;34m=\u001b[0m\u001b[0;32mFalse\u001b[0m\u001b[0;34m)\u001b[0m\u001b[0;34m[\u001b[0m\u001b[0;36m0\u001b[0m\u001b[0;34m]\u001b[0m\u001b[0;34m/\u001b[0m\u001b[0mnorm_vl_size\u001b[0m\u001b[0;34m\u001b[0m\u001b[0;34m\u001b[0m\u001b[0m\n\u001b[1;32m     32\u001b[0m       \u001b[0mtr_loss_ary\u001b[0m\u001b[0;34m.\u001b[0m\u001b[0mappend\u001b[0m\u001b[0;34m(\u001b[0m\u001b[0mtr_loss\u001b[0m\u001b[0;34m)\u001b[0m\u001b[0;34m\u001b[0m\u001b[0;34m\u001b[0m\u001b[0m\n",
            "\u001b[0;32m<ipython-input-46-23b3fa77cebb>\u001b[0m in \u001b[0;36mtrain_model\u001b[0;34m(self, epochs, dataloader, optimizer, is_training)\u001b[0m\n\u001b[1;32m     74\u001b[0m                 \u001b[0;32mif\u001b[0m \u001b[0mis_training\u001b[0m\u001b[0;34m==\u001b[0m\u001b[0;32mTrue\u001b[0m\u001b[0;34m:\u001b[0m\u001b[0;34m\u001b[0m\u001b[0;34m\u001b[0m\u001b[0m\n\u001b[1;32m     75\u001b[0m                     \u001b[0mloss\u001b[0m\u001b[0;34m.\u001b[0m\u001b[0mbackward\u001b[0m\u001b[0;34m(\u001b[0m\u001b[0;34m)\u001b[0m\u001b[0;34m\u001b[0m\u001b[0;34m\u001b[0m\u001b[0m\n\u001b[0;32m---> 76\u001b[0;31m                     \u001b[0moptimizer\u001b[0m\u001b[0;34m.\u001b[0m\u001b[0mstep\u001b[0m\u001b[0;34m(\u001b[0m\u001b[0;34m)\u001b[0m\u001b[0;34m\u001b[0m\u001b[0;34m\u001b[0m\u001b[0m\n\u001b[0m\u001b[1;32m     77\u001b[0m \u001b[0;34m\u001b[0m\u001b[0m\n\u001b[1;32m     78\u001b[0m             \u001b[0mloss_vals\u001b[0m\u001b[0;34m.\u001b[0m\u001b[0mappend\u001b[0m\u001b[0;34m(\u001b[0m\u001b[0mnp\u001b[0m\u001b[0;34m.\u001b[0m\u001b[0marray\u001b[0m\u001b[0;34m(\u001b[0m\u001b[0mtemp_losses_batch\u001b[0m\u001b[0;34m)\u001b[0m\u001b[0;34m.\u001b[0m\u001b[0msum\u001b[0m\u001b[0;34m(\u001b[0m\u001b[0;34m)\u001b[0m\u001b[0;34m)\u001b[0m\u001b[0;34m\u001b[0m\u001b[0;34m\u001b[0m\u001b[0m\n",
            "\u001b[0;32m/usr/local/lib/python3.6/dist-packages/torch/autograd/grad_mode.py\u001b[0m in \u001b[0;36mdecorate_context\u001b[0;34m(*args, **kwargs)\u001b[0m\n\u001b[1;32m     13\u001b[0m         \u001b[0;32mdef\u001b[0m \u001b[0mdecorate_context\u001b[0m\u001b[0;34m(\u001b[0m\u001b[0;34m*\u001b[0m\u001b[0margs\u001b[0m\u001b[0;34m,\u001b[0m \u001b[0;34m**\u001b[0m\u001b[0mkwargs\u001b[0m\u001b[0;34m)\u001b[0m\u001b[0;34m:\u001b[0m\u001b[0;34m\u001b[0m\u001b[0;34m\u001b[0m\u001b[0m\n\u001b[1;32m     14\u001b[0m             \u001b[0;32mwith\u001b[0m \u001b[0mself\u001b[0m\u001b[0;34m:\u001b[0m\u001b[0;34m\u001b[0m\u001b[0;34m\u001b[0m\u001b[0m\n\u001b[0;32m---> 15\u001b[0;31m                 \u001b[0;32mreturn\u001b[0m \u001b[0mfunc\u001b[0m\u001b[0;34m(\u001b[0m\u001b[0;34m*\u001b[0m\u001b[0margs\u001b[0m\u001b[0;34m,\u001b[0m \u001b[0;34m**\u001b[0m\u001b[0mkwargs\u001b[0m\u001b[0;34m)\u001b[0m\u001b[0;34m\u001b[0m\u001b[0;34m\u001b[0m\u001b[0m\n\u001b[0m\u001b[1;32m     16\u001b[0m         \u001b[0;32mreturn\u001b[0m \u001b[0mdecorate_context\u001b[0m\u001b[0;34m\u001b[0m\u001b[0;34m\u001b[0m\u001b[0m\n\u001b[1;32m     17\u001b[0m \u001b[0;34m\u001b[0m\u001b[0m\n",
            "\u001b[0;32m/usr/local/lib/python3.6/dist-packages/torch/optim/adam.py\u001b[0m in \u001b[0;36mstep\u001b[0;34m(self, closure)\u001b[0m\n\u001b[1;32m    105\u001b[0m                     \u001b[0mdenom\u001b[0m \u001b[0;34m=\u001b[0m \u001b[0;34m(\u001b[0m\u001b[0mmax_exp_avg_sq\u001b[0m\u001b[0;34m.\u001b[0m\u001b[0msqrt\u001b[0m\u001b[0;34m(\u001b[0m\u001b[0;34m)\u001b[0m \u001b[0;34m/\u001b[0m \u001b[0mmath\u001b[0m\u001b[0;34m.\u001b[0m\u001b[0msqrt\u001b[0m\u001b[0;34m(\u001b[0m\u001b[0mbias_correction2\u001b[0m\u001b[0;34m)\u001b[0m\u001b[0;34m)\u001b[0m\u001b[0;34m.\u001b[0m\u001b[0madd_\u001b[0m\u001b[0;34m(\u001b[0m\u001b[0mgroup\u001b[0m\u001b[0;34m[\u001b[0m\u001b[0;34m'eps'\u001b[0m\u001b[0;34m]\u001b[0m\u001b[0;34m)\u001b[0m\u001b[0;34m\u001b[0m\u001b[0;34m\u001b[0m\u001b[0m\n\u001b[1;32m    106\u001b[0m                 \u001b[0;32melse\u001b[0m\u001b[0;34m:\u001b[0m\u001b[0;34m\u001b[0m\u001b[0;34m\u001b[0m\u001b[0m\n\u001b[0;32m--> 107\u001b[0;31m                     \u001b[0mdenom\u001b[0m \u001b[0;34m=\u001b[0m \u001b[0;34m(\u001b[0m\u001b[0mexp_avg_sq\u001b[0m\u001b[0;34m.\u001b[0m\u001b[0msqrt\u001b[0m\u001b[0;34m(\u001b[0m\u001b[0;34m)\u001b[0m \u001b[0;34m/\u001b[0m \u001b[0mmath\u001b[0m\u001b[0;34m.\u001b[0m\u001b[0msqrt\u001b[0m\u001b[0;34m(\u001b[0m\u001b[0mbias_correction2\u001b[0m\u001b[0;34m)\u001b[0m\u001b[0;34m)\u001b[0m\u001b[0;34m.\u001b[0m\u001b[0madd_\u001b[0m\u001b[0;34m(\u001b[0m\u001b[0mgroup\u001b[0m\u001b[0;34m[\u001b[0m\u001b[0;34m'eps'\u001b[0m\u001b[0;34m]\u001b[0m\u001b[0;34m)\u001b[0m\u001b[0;34m\u001b[0m\u001b[0;34m\u001b[0m\u001b[0m\n\u001b[0m\u001b[1;32m    108\u001b[0m \u001b[0;34m\u001b[0m\u001b[0m\n\u001b[1;32m    109\u001b[0m                 \u001b[0mstep_size\u001b[0m \u001b[0;34m=\u001b[0m \u001b[0mgroup\u001b[0m\u001b[0;34m[\u001b[0m\u001b[0;34m'lr'\u001b[0m\u001b[0;34m]\u001b[0m \u001b[0;34m/\u001b[0m \u001b[0mbias_correction1\u001b[0m\u001b[0;34m\u001b[0m\u001b[0;34m\u001b[0m\u001b[0m\n",
            "\u001b[0;31mKeyboardInterrupt\u001b[0m: "
          ]
        }
      ]
    },
    {
      "cell_type": "code",
      "metadata": {
        "id": "RqWKHiNnaaIP",
        "colab_type": "code",
        "colab": {
          "base_uri": "https://localhost:8080/",
          "height": 751
        },
        "outputId": "aa266ed7-5715-46cf-8481-e4bb4c93d9d5"
      },
      "source": [
        "model, train_output, validation_output= hidden_layer_grid_search(32)"
      ],
      "execution_count": 70,
      "outputs": [
        {
          "output_type": "stream",
          "text": [
            "0.13367154674369747 0.1325891553864567\n",
            "0.10834147477350316 0.10630008761861269\n",
            "0.09618972393644958 0.10308804367981317\n",
            "0.08872282653295693 0.10344158784694979\n",
            "0.08185127835313813 0.1027982045080485\n",
            "0.07396664403065914 0.10316004552949685\n",
            "0.06696081337808561 0.10665312894609405\n",
            "0.059551571116727944 0.11966083656810882\n",
            "0.0530052377396271 0.10800542041992571\n",
            "0.04605884199382878 0.10899068683491075\n",
            "0.041559181533941704 0.11374177928997892\n",
            "layer size:  32 , validation accuracy:  0.6716359356610435 , train accuracy:  0.9463865546218487 , validation AUC:  0.637163547047268 , train AUC:  0.9331628248141002\n"
          ],
          "name": "stdout"
        },
        {
          "output_type": "stream",
          "text": [
            "/usr/local/lib/python3.6/dist-packages/ipykernel_launcher.py:41: SettingWithCopyWarning: \n",
            "A value is trying to be set on a copy of a slice from a DataFrame.\n",
            "Try using .loc[row_indexer,col_indexer] = value instead\n",
            "\n",
            "See the caveats in the documentation: https://pandas.pydata.org/pandas-docs/stable/user_guide/indexing.html#returning-a-view-versus-a-copy\n",
            "/usr/local/lib/python3.6/dist-packages/ipykernel_launcher.py:42: SettingWithCopyWarning: \n",
            "A value is trying to be set on a copy of a slice from a DataFrame.\n",
            "Try using .loc[row_indexer,col_indexer] = value instead\n",
            "\n",
            "See the caveats in the documentation: https://pandas.pydata.org/pandas-docs/stable/user_guide/indexing.html#returning-a-view-versus-a-copy\n",
            "/usr/local/lib/python3.6/dist-packages/ipykernel_launcher.py:43: SettingWithCopyWarning: \n",
            "A value is trying to be set on a copy of a slice from a DataFrame.\n",
            "Try using .loc[row_indexer,col_indexer] = value instead\n",
            "\n",
            "See the caveats in the documentation: https://pandas.pydata.org/pandas-docs/stable/user_guide/indexing.html#returning-a-view-versus-a-copy\n",
            "/usr/local/lib/python3.6/dist-packages/ipykernel_launcher.py:55: SettingWithCopyWarning: \n",
            "A value is trying to be set on a copy of a slice from a DataFrame.\n",
            "Try using .loc[row_indexer,col_indexer] = value instead\n",
            "\n",
            "See the caveats in the documentation: https://pandas.pydata.org/pandas-docs/stable/user_guide/indexing.html#returning-a-view-versus-a-copy\n",
            "/usr/local/lib/python3.6/dist-packages/ipykernel_launcher.py:56: SettingWithCopyWarning: \n",
            "A value is trying to be set on a copy of a slice from a DataFrame.\n",
            "Try using .loc[row_indexer,col_indexer] = value instead\n",
            "\n",
            "See the caveats in the documentation: https://pandas.pydata.org/pandas-docs/stable/user_guide/indexing.html#returning-a-view-versus-a-copy\n",
            "/usr/local/lib/python3.6/dist-packages/ipykernel_launcher.py:57: SettingWithCopyWarning: \n",
            "A value is trying to be set on a copy of a slice from a DataFrame.\n",
            "Try using .loc[row_indexer,col_indexer] = value instead\n",
            "\n",
            "See the caveats in the documentation: https://pandas.pydata.org/pandas-docs/stable/user_guide/indexing.html#returning-a-view-versus-a-copy\n"
          ],
          "name": "stderr"
        }
      ]
    },
    {
      "cell_type": "code",
      "metadata": {
        "id": "px3xC1uwaaDM",
        "colab_type": "code",
        "colab": {}
      },
      "source": [
        "train_output.to_csv(\"/content/gdrive/My Drive/colab/data_sources/hateful_memes/train_error_analysis_20200816_v2.csv\", index=False)\n",
        "validation_output.to_csv(\"/content/gdrive/My Drive/colab/data_sources/hateful_memes/validation_error_analysis_20200816_v2.csv\", index=False)"
      ],
      "execution_count": 75,
      "outputs": []
    },
    {
      "cell_type": "code",
      "metadata": {
        "id": "BlH9xCJ5aZ-b",
        "colab_type": "code",
        "colab": {
          "base_uri": "https://localhost:8080/",
          "height": 408
        },
        "outputId": "ddd8a686-d586-4e73-f589-4c4ec187adf9"
      },
      "source": [
        "validation_output.head()"
      ],
      "execution_count": null,
      "outputs": [
        {
          "output_type": "execute_result",
          "data": {
            "text/html": [
              "<div>\n",
              "<style scoped>\n",
              "    .dataframe tbody tr th:only-of-type {\n",
              "        vertical-align: middle;\n",
              "    }\n",
              "\n",
              "    .dataframe tbody tr th {\n",
              "        vertical-align: top;\n",
              "    }\n",
              "\n",
              "    .dataframe thead th {\n",
              "        text-align: right;\n",
              "    }\n",
              "</style>\n",
              "<table border=\"1\" class=\"dataframe\">\n",
              "  <thead>\n",
              "    <tr style=\"text-align: right;\">\n",
              "      <th></th>\n",
              "      <th>id</th>\n",
              "      <th>getty_caption</th>\n",
              "      <th>getty_tag</th>\n",
              "      <th>color_score</th>\n",
              "      <th>img_text</th>\n",
              "      <th>label</th>\n",
              "      <th>combined_text</th>\n",
              "      <th>hate_speech</th>\n",
              "      <th>offensive_language</th>\n",
              "      <th>neither</th>\n",
              "      <th>proba</th>\n",
              "      <th>actual</th>\n",
              "    </tr>\n",
              "  </thead>\n",
              "  <tbody>\n",
              "    <tr>\n",
              "      <th>5951</th>\n",
              "      <td>39102</td>\n",
              "      <td>Airplane against a blue and cloudy sky</td>\n",
              "      <td>Above   Abstract   Aeroplane   Atmosphere   Ba...</td>\n",
              "      <td>24.951344</td>\n",
              "      <td>we could destroy all of them but we let some o...</td>\n",
              "      <td>1</td>\n",
              "      <td>Airplane against a blue and cloudy sky Above  ...</td>\n",
              "      <td>0.080602</td>\n",
              "      <td>0.431205</td>\n",
              "      <td>0.488193</td>\n",
              "      <td>0.422595</td>\n",
              "      <td>0</td>\n",
              "    </tr>\n",
              "    <tr>\n",
              "      <th>5952</th>\n",
              "      <td>23485</td>\n",
              "      <td>nan</td>\n",
              "      <td>10-11 Years   Caucasian Appearance   Child   C...</td>\n",
              "      <td>9.572024</td>\n",
              "      <td>are my sins forgiven now father ?</td>\n",
              "      <td>0</td>\n",
              "      <td>nan 10-11 Years   Caucasian Appearance   Child...</td>\n",
              "      <td>0.143294</td>\n",
              "      <td>0.251604</td>\n",
              "      <td>0.605101</td>\n",
              "      <td>0.123608</td>\n",
              "      <td>1</td>\n",
              "    </tr>\n",
              "    <tr>\n",
              "      <th>5953</th>\n",
              "      <td>56310</td>\n",
              "      <td>Beijing,China</td>\n",
              "      <td>Men   T-Shirt   Middle Eastern Ethnicity   Mix...</td>\n",
              "      <td>65.909224</td>\n",
              "      <td>yes hello, maria? your uber has arrived</td>\n",
              "      <td>0</td>\n",
              "      <td>Beijing,China Men   T-Shirt   Middle Eastern E...</td>\n",
              "      <td>0.142939</td>\n",
              "      <td>0.306267</td>\n",
              "      <td>0.550794</td>\n",
              "      <td>0.239688</td>\n",
              "      <td>0</td>\n",
              "    </tr>\n",
              "    <tr>\n",
              "      <th>5954</th>\n",
              "      <td>42983</td>\n",
              "      <td>Close-up of a italian mature woman kissing her...</td>\n",
              "      <td>Mother   Eating   Italy   Humour   Italian Cul...</td>\n",
              "      <td>11.152928</td>\n",
              "      <td>i protested trump today mommy oo00h, who's my ...</td>\n",
              "      <td>0</td>\n",
              "      <td>Close-up of a italian mature woman kissing her...</td>\n",
              "      <td>0.037564</td>\n",
              "      <td>0.462442</td>\n",
              "      <td>0.499994</td>\n",
              "      <td>0.002753</td>\n",
              "      <td>0</td>\n",
              "    </tr>\n",
              "    <tr>\n",
              "      <th>5955</th>\n",
              "      <td>15208</td>\n",
              "      <td>African American man (20s) in service garage r...</td>\n",
              "      <td>Mechanic   Heavy Goods Vehicle   Articulated L...</td>\n",
              "      <td>8.992800</td>\n",
              "      <td>i work hard to provide for my cocaine addiction</td>\n",
              "      <td>0</td>\n",
              "      <td>African American man (20s) in service garage r...</td>\n",
              "      <td>0.063994</td>\n",
              "      <td>0.401192</td>\n",
              "      <td>0.534814</td>\n",
              "      <td>0.177582</td>\n",
              "      <td>1</td>\n",
              "    </tr>\n",
              "  </tbody>\n",
              "</table>\n",
              "</div>"
            ],
            "text/plain": [
              "         id  ... actual\n",
              "5951  39102  ...      0\n",
              "5952  23485  ...      1\n",
              "5953  56310  ...      0\n",
              "5954  42983  ...      0\n",
              "5955  15208  ...      1\n",
              "\n",
              "[5 rows x 12 columns]"
            ]
          },
          "metadata": {
            "tags": []
          },
          "execution_count": 234
        }
      ]
    },
    {
      "cell_type": "code",
      "metadata": {
        "id": "o9DeCBXNaZ87",
        "colab_type": "code",
        "colab": {
          "base_uri": "https://localhost:8080/",
          "height": 68
        },
        "outputId": "21d8d19b-6d21-4b84-e9df-7628603b940d"
      },
      "source": [
        "pd.DataFrame(output_features)[0].value_counts()\n"
      ],
      "execution_count": 71,
      "outputs": [
        {
          "output_type": "execute_result",
          "data": {
            "text/plain": [
              "0    5450\n",
              "1    3050\n",
              "Name: 0, dtype: int64"
            ]
          },
          "metadata": {
            "tags": []
          },
          "execution_count": 71
        }
      ]
    },
    {
      "cell_type": "code",
      "metadata": {
        "id": "HyF0S0quaZ7q",
        "colab_type": "code",
        "colab": {
          "base_uri": "https://localhost:8080/",
          "height": 34
        },
        "outputId": "e6de8063-75ef-4c2d-a3a0-48c252506994"
      },
      "source": [
        ""
      ],
      "execution_count": null,
      "outputs": [
        {
          "output_type": "execute_result",
          "data": {
            "text/plain": [
              "0.6750955762583669"
            ]
          },
          "metadata": {
            "tags": []
          },
          "execution_count": 67
        }
      ]
    },
    {
      "cell_type": "code",
      "metadata": {
        "id": "qrF3dQavaZ3s",
        "colab_type": "code",
        "colab": {
          "base_uri": "https://localhost:8080/",
          "height": 34
        },
        "outputId": "2b7d4d18-7476-4284-da6e-c03318d9f555"
      },
      "source": [
        ""
      ],
      "execution_count": null,
      "outputs": [
        {
          "output_type": "execute_result",
          "data": {
            "text/plain": [
              "0.8053968467246139"
            ]
          },
          "metadata": {
            "tags": []
          },
          "execution_count": 68
        }
      ]
    },
    {
      "cell_type": "code",
      "metadata": {
        "id": "qOdDsORbaZ2D",
        "colab_type": "code",
        "colab": {}
      },
      "source": [
        ""
      ],
      "execution_count": null,
      "outputs": []
    },
    {
      "cell_type": "code",
      "metadata": {
        "id": "fSKOLcK1aZuF",
        "colab_type": "code",
        "colab": {}
      },
      "source": [
        ""
      ],
      "execution_count": null,
      "outputs": []
    },
    {
      "cell_type": "code",
      "metadata": {
        "id": "SvSomNAVw1Vc",
        "colab_type": "code",
        "colab": {}
      },
      "source": [
        ""
      ],
      "execution_count": null,
      "outputs": []
    },
    {
      "cell_type": "markdown",
      "metadata": {
        "id": "nJABwt6EX6Mj",
        "colab_type": "text"
      },
      "source": [
        "## Pull features for Test Dataset"
      ]
    },
    {
      "cell_type": "code",
      "metadata": {
        "id": "1NjXe3H8X0Bq",
        "colab_type": "code",
        "colab": {}
      },
      "source": [
        "# image_ex_path=\"/content/gdrive/My Drive/colab/data_sources/hateful_memes/\"\n",
        "test_data_ex_path=\"/content/gdrive/My Drive/colab/data_sources/hateful_memes/test.jsonl\"\n",
        "    # bert_path=\"/home/jupyter/ThreeDAnime/bert_folder\"\n",
        "# featurized_data_path=\"/content/gdrive/My Drive/colab/data_sources/hateful_memes/\"\n",
        "# inception = models.resnet18()\n",
        "\n",
        "test_data = []\n",
        "\n",
        "with open(test_data_ex_path) as f:\n",
        "  for el in f:\n",
        "    test_data.append(json.loads(el))"
      ],
      "execution_count": 72,
      "outputs": []
    },
    {
      "cell_type": "code",
      "metadata": {
        "id": "hdCYwhCWX5RD",
        "colab_type": "code",
        "colab": {
          "base_uri": "https://localhost:8080/",
          "height": 34
        },
        "outputId": "b35e6f72-acd9-465a-efb8-97f84e4d73e3"
      },
      "source": [
        "len(test_data)"
      ],
      "execution_count": 73,
      "outputs": [
        {
          "output_type": "execute_result",
          "data": {
            "text/plain": [
              "1000"
            ]
          },
          "metadata": {
            "tags": []
          },
          "execution_count": 73
        }
      ]
    },
    {
      "cell_type": "code",
      "metadata": {
        "id": "szchGNvQcKLZ",
        "colab_type": "code",
        "colab": {}
      },
      "source": [
        "test_data_ids=[d.get('id') for d in test_data]\n",
        "# [getty_dict[x] for id in data_ids]\n",
        "# x=next((item for item in getty_dict if item[\"image\"] == 56482), None)\n",
        "\n",
        "test_getty_captions=[]\n",
        "test_getty_tags=[]\n",
        "test_getty_color_score_features=[]\n",
        "\n",
        "for id in test_data_ids:\n",
        "  test_getty_captions.append(next((l['best_caption'] for l in getty_dict if l['image'] == id), ''))\n",
        "  test_getty_tags.append(next((l['best_tags'] for l in getty_dict if l['image'] == id), ''))\n",
        "  test_getty_color_score_features.append(next((l['Color_Score'] for l in getty_dict if l['image'] == id), 99999))\n",
        "\n",
        "test_getty_captions_clean=['' if v is None else str(v) for v in test_getty_captions]\n",
        "test_getty_tags_clean=['' if v is None else str(v) for v in test_getty_tags]\n"
      ],
      "execution_count": null,
      "outputs": []
    },
    {
      "cell_type": "code",
      "metadata": {
        "id": "9n7kSdLMc9o6",
        "colab_type": "code",
        "colab": {
          "base_uri": "https://localhost:8080/",
          "height": 34
        },
        "outputId": "47e3a0b8-bf35-4b29-9dbb-691f8a86ebb7"
      },
      "source": [
        "test_getty_captions_clean[0]\n",
        "all(isinstance(x, str) for x in getty_captions_clean)"
      ],
      "execution_count": null,
      "outputs": [
        {
          "output_type": "execute_result",
          "data": {
            "text/plain": [
              "True"
            ]
          },
          "metadata": {
            "tags": []
          },
          "execution_count": 102
        }
      ]
    },
    {
      "cell_type": "code",
      "metadata": {
        "id": "bMVeAY58dPub",
        "colab_type": "code",
        "colab": {}
      },
      "source": [
        "# image_ex_path=\"/content/gdrive/My Drive/colab/data_sources/hateful_memes/\"\n",
        "# data_ex_path=\"/content/gdrive/My Drive/colab/data_sources/hateful_memes/train.jsonl\"\n",
        "    # bert_path=\"/home/jupyter/ThreeDAnime/bert_folder\"\n",
        "# featurized_data_path=\"/content/gdrive/My Drive/colab/data_sources/hateful_memes/\"\n",
        "inception = models.resnet18()\n",
        "\n",
        "test_data = []\n",
        "\n",
        "with open(test_data_ex_path) as f:\n",
        "  for el in f:\n",
        "    test_data.append(json.loads(el))# Create features without looping\n",
        "test_textData=extract_text_features_simple([d.get('text') for d in test_data],model_text)\n",
        "test_image_rcnn_data=extract_image_features_rcnn(test_data,0.7)\n",
        "# test_desc_labels=[[x[\"text\"],x[\"label\"]] for x in test_data]\n",
        "test_getty_tag_data=extract_text_features_simple(test_getty_tags_clean,model_text)\n",
        "test_getty_caption_data=extract_text_features_simple(test_getty_captions_clean,model_text)"
      ],
      "execution_count": null,
      "outputs": []
    },
    {
      "cell_type": "code",
      "metadata": {
        "id": "RBSzWrzQeDdl",
        "colab_type": "code",
        "colab": {
          "base_uri": "https://localhost:8080/",
          "height": 34
        },
        "outputId": "6e9e4a21-2163-4d06-db0c-67b5f1f0de19"
      },
      "source": [
        "test_data[0]"
      ],
      "execution_count": null,
      "outputs": [
        {
          "output_type": "execute_result",
          "data": {
            "text/plain": [
              "{'id': 16395, 'img': 'img/16395.png', 'text': 'handjobs sold seperately'}"
            ]
          },
          "metadata": {
            "tags": []
          },
          "execution_count": 104
        }
      ]
    },
    {
      "cell_type": "code",
      "metadata": {
        "id": "fBUiJGZ0d586",
        "colab_type": "code",
        "colab": {}
      },
      "source": [
        "test_text_df = pd.DataFrame({'id':test_data_ids, 'getty_caption':test_getty_captions_clean,'getty_tag':test_getty_tags_clean, 'color_score':test_getty_color_score_features, 'img_text': [d.get('text') for d in test_data]})\n",
        "#10423 (tail 10) is fucked up\n",
        "test_text_df[\"combined_text\"] = test_text_df[\"getty_caption\"] + ' '+ test_text_df[\"getty_tag\"] + ' '+ test_text_df[\"img_text\"]"
      ],
      "execution_count": null,
      "outputs": []
    },
    {
      "cell_type": "code",
      "metadata": {
        "id": "a-ukXuBKgXGL",
        "colab_type": "code",
        "colab": {
          "base_uri": "https://localhost:8080/",
          "height": 289
        },
        "outputId": "d3c82907-17ad-4bf1-dc25-955b06f0c76f"
      },
      "source": [
        "test_text_df.head()"
      ],
      "execution_count": null,
      "outputs": [
        {
          "output_type": "execute_result",
          "data": {
            "text/html": [
              "<div>\n",
              "<style scoped>\n",
              "    .dataframe tbody tr th:only-of-type {\n",
              "        vertical-align: middle;\n",
              "    }\n",
              "\n",
              "    .dataframe tbody tr th {\n",
              "        vertical-align: top;\n",
              "    }\n",
              "\n",
              "    .dataframe thead th {\n",
              "        text-align: right;\n",
              "    }\n",
              "</style>\n",
              "<table border=\"1\" class=\"dataframe\">\n",
              "  <thead>\n",
              "    <tr style=\"text-align: right;\">\n",
              "      <th></th>\n",
              "      <th>id</th>\n",
              "      <th>getty_caption</th>\n",
              "      <th>getty_tag</th>\n",
              "      <th>color_score</th>\n",
              "      <th>img_text</th>\n",
              "      <th>combined_text</th>\n",
              "    </tr>\n",
              "  </thead>\n",
              "  <tbody>\n",
              "    <tr>\n",
              "      <th>0</th>\n",
              "      <td>16395</td>\n",
              "      <td>Closeup portrait of a beautiful woman smiling ...</td>\n",
              "      <td>Looking At Camera   One Woman Only   Women   3...</td>\n",
              "      <td>18.282644</td>\n",
              "      <td>handjobs sold seperately</td>\n",
              "      <td>Closeup portrait of a beautiful woman smiling ...</td>\n",
              "    </tr>\n",
              "    <tr>\n",
              "      <th>1</th>\n",
              "      <td>37405</td>\n",
              "      <td>This picture was taken early in the morning in...</td>\n",
              "      <td>Amstel River   Amsterdam   Arch   Arch Bridge ...</td>\n",
              "      <td>9.970300</td>\n",
              "      <td>introducing fidget spinner for women</td>\n",
              "      <td>This picture was taken early in the morning in...</td>\n",
              "    </tr>\n",
              "    <tr>\n",
              "      <th>2</th>\n",
              "      <td>94180</td>\n",
              "      <td>Transexual gay whit hands in hair, standing up...</td>\n",
              "      <td>Cross Dressing   Transgender   Humour   Men   ...</td>\n",
              "      <td>10.257412</td>\n",
              "      <td>happy pride month let's go beat up lesbians</td>\n",
              "      <td>Transexual gay whit hands in hair, standing up...</td>\n",
              "    </tr>\n",
              "    <tr>\n",
              "      <th>3</th>\n",
              "      <td>54321</td>\n",
              "      <td>Shot of a sporty young couple out for a workout</td>\n",
              "      <td>Laughing   Exercising   Couple - Relationship ...</td>\n",
              "      <td>6.485984</td>\n",
              "      <td>laughs in [majority of u.s crime rate]</td>\n",
              "      <td>Shot of a sporty young couple out for a workou...</td>\n",
              "    </tr>\n",
              "    <tr>\n",
              "      <th>4</th>\n",
              "      <td>97015</td>\n",
              "      <td>Smiling male and female friend with eyes close...</td>\n",
              "      <td>18-19 Years   20-24 Years   Adult Adults Only ...</td>\n",
              "      <td>45.356488</td>\n",
              "      <td>finds out those 72 virgins.. are goats</td>\n",
              "      <td>Smiling male and female friend with eyes close...</td>\n",
              "    </tr>\n",
              "  </tbody>\n",
              "</table>\n",
              "</div>"
            ],
            "text/plain": [
              "      id  ...                                      combined_text\n",
              "0  16395  ...  Closeup portrait of a beautiful woman smiling ...\n",
              "1  37405  ...  This picture was taken early in the morning in...\n",
              "2  94180  ...  Transexual gay whit hands in hair, standing up...\n",
              "3  54321  ...  Shot of a sporty young couple out for a workou...\n",
              "4  97015  ...  Smiling male and female friend with eyes close...\n",
              "\n",
              "[5 rows x 6 columns]"
            ]
          },
          "metadata": {
            "tags": []
          },
          "execution_count": 110
        }
      ]
    },
    {
      "cell_type": "code",
      "metadata": {
        "id": "6QDLNtJegyPZ",
        "colab_type": "code",
        "colab": {
          "base_uri": "https://localhost:8080/",
          "height": 103
        },
        "outputId": "fdc1ac34-3e2b-4623-cf64-2e8a7809b440"
      },
      "source": [
        "test_ctext_list = [a + ' ' + b+ ' ' + c for a, b, c in zip([d.get('text') for d in test_data], test_getty_captions_clean, test_getty_tags_clean)]\n",
        "\n",
        "test_ctext_list[0]\n"
      ],
      "execution_count": null,
      "outputs": [
        {
          "output_type": "execute_result",
          "data": {
            "application/vnd.google.colaboratory.intrinsic+json": {
              "type": "string"
            },
            "text/plain": [
              "'handjobs sold seperately Closeup portrait of a beautiful woman smiling against white background Looking At Camera   One Woman Only   Women   30-34 Years   30-39 Years   Adult Adults Only   Beautiful People   Beautiful Woman   Beauty   Blonde Hair   Blue Eyes   Brown   Casual Clothing   Caucasian Appearance   Central Europe   Cheerful   Clothing   Collar   Colour Image   Content   Curly   Day   Earring   Emotion   Europe   Exhilaration   Front View   Fun   Germany   Grace   Happiness   Headshot   Hesse - Germany   Human Body Part   Human Face   Human Head   Indoors   Jewellery   Long Hair   Mid Adult   Mid Adult Women   One Mid Adult Woman Only   One Person   Only Women   People   Personal Accessory   Photography   Portrait   Smiling   Top - Garment   Vertical   Photos'"
            ]
          },
          "metadata": {
            "tags": []
          },
          "execution_count": 111
        }
      ]
    },
    {
      "cell_type": "code",
      "metadata": {
        "id": "JFkv5pOwh-9C",
        "colab_type": "code",
        "colab": {}
      },
      "source": [
        "test_hate_list=[]\n",
        "\n",
        "for text in test_ctext_list:\n",
        "  # ctext_list[0]\n",
        "  row=[]\n",
        "  row.append(sonar.ping(text=text).get('classes')[0].get('confidence'))\n",
        "  row.append(sonar.ping(text=text).get('classes')[1].get('confidence'))\n",
        "  row.append(sonar.ping(text=text).get('classes')[2].get('confidence'))\n",
        "  test_hate_list.append(row)\n"
      ],
      "execution_count": null,
      "outputs": []
    },
    {
      "cell_type": "code",
      "metadata": {
        "id": "E2YzAO2JiTNC",
        "colab_type": "code",
        "colab": {
          "base_uri": "https://localhost:8080/",
          "height": 204
        },
        "outputId": "cd94317b-49c5-4a8f-fd2b-512458ca58bc"
      },
      "source": [
        "test_hate_df = pd.DataFrame(test_hate_list, columns=['hate_speech','offensive_language','neither'])\n",
        "test_hate_df.tail()"
      ],
      "execution_count": null,
      "outputs": [
        {
          "output_type": "execute_result",
          "data": {
            "text/html": [
              "<div>\n",
              "<style scoped>\n",
              "    .dataframe tbody tr th:only-of-type {\n",
              "        vertical-align: middle;\n",
              "    }\n",
              "\n",
              "    .dataframe tbody tr th {\n",
              "        vertical-align: top;\n",
              "    }\n",
              "\n",
              "    .dataframe thead th {\n",
              "        text-align: right;\n",
              "    }\n",
              "</style>\n",
              "<table border=\"1\" class=\"dataframe\">\n",
              "  <thead>\n",
              "    <tr style=\"text-align: right;\">\n",
              "      <th></th>\n",
              "      <th>hate_speech</th>\n",
              "      <th>offensive_language</th>\n",
              "      <th>neither</th>\n",
              "    </tr>\n",
              "  </thead>\n",
              "  <tbody>\n",
              "    <tr>\n",
              "      <th>995</th>\n",
              "      <td>0.043127</td>\n",
              "      <td>0.305570</td>\n",
              "      <td>0.651303</td>\n",
              "    </tr>\n",
              "    <tr>\n",
              "      <th>996</th>\n",
              "      <td>0.047398</td>\n",
              "      <td>0.279789</td>\n",
              "      <td>0.672813</td>\n",
              "    </tr>\n",
              "    <tr>\n",
              "      <th>997</th>\n",
              "      <td>0.171986</td>\n",
              "      <td>0.314214</td>\n",
              "      <td>0.513799</td>\n",
              "    </tr>\n",
              "    <tr>\n",
              "      <th>998</th>\n",
              "      <td>0.045037</td>\n",
              "      <td>0.263150</td>\n",
              "      <td>0.691813</td>\n",
              "    </tr>\n",
              "    <tr>\n",
              "      <th>999</th>\n",
              "      <td>0.044748</td>\n",
              "      <td>0.371930</td>\n",
              "      <td>0.583322</td>\n",
              "    </tr>\n",
              "  </tbody>\n",
              "</table>\n",
              "</div>"
            ],
            "text/plain": [
              "     hate_speech  offensive_language   neither\n",
              "995     0.043127            0.305570  0.651303\n",
              "996     0.047398            0.279789  0.672813\n",
              "997     0.171986            0.314214  0.513799\n",
              "998     0.045037            0.263150  0.691813\n",
              "999     0.044748            0.371930  0.583322"
            ]
          },
          "metadata": {
            "tags": []
          },
          "execution_count": 113
        }
      ]
    },
    {
      "cell_type": "code",
      "metadata": {
        "id": "EpR2QthAi4c3",
        "colab_type": "code",
        "colab": {
          "base_uri": "https://localhost:8080/",
          "height": 289
        },
        "outputId": "5340c47e-3cf4-48b5-82cd-c07ac86642c7"
      },
      "source": [
        "test_feature_df= pd.concat([test_text_df,test_hate_df],axis=1)\n",
        "test_feature_df.head()"
      ],
      "execution_count": null,
      "outputs": [
        {
          "output_type": "execute_result",
          "data": {
            "text/html": [
              "<div>\n",
              "<style scoped>\n",
              "    .dataframe tbody tr th:only-of-type {\n",
              "        vertical-align: middle;\n",
              "    }\n",
              "\n",
              "    .dataframe tbody tr th {\n",
              "        vertical-align: top;\n",
              "    }\n",
              "\n",
              "    .dataframe thead th {\n",
              "        text-align: right;\n",
              "    }\n",
              "</style>\n",
              "<table border=\"1\" class=\"dataframe\">\n",
              "  <thead>\n",
              "    <tr style=\"text-align: right;\">\n",
              "      <th></th>\n",
              "      <th>id</th>\n",
              "      <th>getty_caption</th>\n",
              "      <th>getty_tag</th>\n",
              "      <th>color_score</th>\n",
              "      <th>img_text</th>\n",
              "      <th>combined_text</th>\n",
              "      <th>hate_speech</th>\n",
              "      <th>offensive_language</th>\n",
              "      <th>neither</th>\n",
              "    </tr>\n",
              "  </thead>\n",
              "  <tbody>\n",
              "    <tr>\n",
              "      <th>0</th>\n",
              "      <td>16395</td>\n",
              "      <td>Closeup portrait of a beautiful woman smiling ...</td>\n",
              "      <td>Looking At Camera   One Woman Only   Women   3...</td>\n",
              "      <td>18.282644</td>\n",
              "      <td>handjobs sold seperately</td>\n",
              "      <td>Closeup portrait of a beautiful woman smiling ...</td>\n",
              "      <td>0.149131</td>\n",
              "      <td>0.344875</td>\n",
              "      <td>0.505994</td>\n",
              "    </tr>\n",
              "    <tr>\n",
              "      <th>1</th>\n",
              "      <td>37405</td>\n",
              "      <td>This picture was taken early in the morning in...</td>\n",
              "      <td>Amstel River   Amsterdam   Arch   Arch Bridge ...</td>\n",
              "      <td>9.970300</td>\n",
              "      <td>introducing fidget spinner for women</td>\n",
              "      <td>This picture was taken early in the morning in...</td>\n",
              "      <td>0.086252</td>\n",
              "      <td>0.301467</td>\n",
              "      <td>0.612281</td>\n",
              "    </tr>\n",
              "    <tr>\n",
              "      <th>2</th>\n",
              "      <td>94180</td>\n",
              "      <td>Transexual gay whit hands in hair, standing up...</td>\n",
              "      <td>Cross Dressing   Transgender   Humour   Men   ...</td>\n",
              "      <td>10.257412</td>\n",
              "      <td>happy pride month let's go beat up lesbians</td>\n",
              "      <td>Transexual gay whit hands in hair, standing up...</td>\n",
              "      <td>0.142391</td>\n",
              "      <td>0.254497</td>\n",
              "      <td>0.603112</td>\n",
              "    </tr>\n",
              "    <tr>\n",
              "      <th>3</th>\n",
              "      <td>54321</td>\n",
              "      <td>Shot of a sporty young couple out for a workout</td>\n",
              "      <td>Laughing   Exercising   Couple - Relationship ...</td>\n",
              "      <td>6.485984</td>\n",
              "      <td>laughs in [majority of u.s crime rate]</td>\n",
              "      <td>Shot of a sporty young couple out for a workou...</td>\n",
              "      <td>0.068924</td>\n",
              "      <td>0.354387</td>\n",
              "      <td>0.576689</td>\n",
              "    </tr>\n",
              "    <tr>\n",
              "      <th>4</th>\n",
              "      <td>97015</td>\n",
              "      <td>Smiling male and female friend with eyes close...</td>\n",
              "      <td>18-19 Years   20-24 Years   Adult Adults Only ...</td>\n",
              "      <td>45.356488</td>\n",
              "      <td>finds out those 72 virgins.. are goats</td>\n",
              "      <td>Smiling male and female friend with eyes close...</td>\n",
              "      <td>0.131492</td>\n",
              "      <td>0.326618</td>\n",
              "      <td>0.541889</td>\n",
              "    </tr>\n",
              "  </tbody>\n",
              "</table>\n",
              "</div>"
            ],
            "text/plain": [
              "      id  ...   neither\n",
              "0  16395  ...  0.505994\n",
              "1  37405  ...  0.612281\n",
              "2  94180  ...  0.603112\n",
              "3  54321  ...  0.576689\n",
              "4  97015  ...  0.541889\n",
              "\n",
              "[5 rows x 9 columns]"
            ]
          },
          "metadata": {
            "tags": []
          },
          "execution_count": 114
        }
      ]
    },
    {
      "cell_type": "code",
      "metadata": {
        "id": "dL9s050DjxLg",
        "colab_type": "code",
        "colab": {}
      },
      "source": [
        "def test_writeFiles(path:str,title:str,  img_features:[[]],numpy_form_txts:[[]], getty_caption_numpy_form_txts:[[]], getty_tag_numpy_form_txts:[[]]\n",
        "               ):\n",
        "\n",
        "    results=pd.DataFrame(numpy_form_txts)\n",
        "    results.to_csv(os.path.join(path,title+\"text_features.csv\"),sep=\",\")\n",
        "        \n",
        "    results=pd.DataFrame(img_features)\n",
        "    results.to_csv(os.path.join(path,title+\"image_features.csv\"),sep=\",\")\n",
        "\n",
        "    results=pd.DataFrame(getty_caption_numpy_form_txts)\n",
        "    results.to_csv(os.path.join(path,title+\"getty_caption_features.csv\"),sep=\",\")\n",
        "\n",
        "    results=pd.DataFrame(getty_tag_numpy_form_txts)\n",
        "    results.to_csv(os.path.join(path,title+\"getty_tag_features.csv\"),sep=\",\")\n"
      ],
      "execution_count": null,
      "outputs": []
    },
    {
      "cell_type": "code",
      "metadata": {
        "id": "sL0RqOfEi_z9",
        "colab_type": "code",
        "colab": {}
      },
      "source": [
        "test_writeFiles(featurized_data_path, \"test_20200816_v1\", test_image_rcnn_data, test_textData, test_getty_caption_data, test_getty_tag_data)"
      ],
      "execution_count": null,
      "outputs": []
    },
    {
      "cell_type": "code",
      "metadata": {
        "id": "E6Fp9MLBkqbS",
        "colab_type": "code",
        "colab": {}
      },
      "source": [
        "test_image_features=pd.read_csv(\"/content/gdrive/My Drive/colab/data_sources/hateful_memes/test_20200816_v1image_features.csv\", sep=\",\",index_col=0)\n",
        "test_text_features=pd.read_csv(\"/content/gdrive/My Drive/colab/data_sources/hateful_memes/test_20200816_v1text_features.csv\",sep=\",\",index_col=0)\n",
        "# test_desc_features=pd.read_csv(\"/content/gdrive/My Drive/colab/data_sources/hateful_memes/test_20200816_v1description.csv\",sep=\",\",index_col=0)\n",
        "test_getty_caption_features=pd.read_csv(\"/content/gdrive/My Drive/colab/data_sources/hateful_memes/test_20200816_v1getty_caption_features.csv\",sep=\",\",index_col=0)\n",
        "test_getty_tag_features=pd.read_csv(\"/content/gdrive/My Drive/colab/data_sources/hateful_memes/test_20200816_v1getty_tag_features.csv\",sep=\",\",index_col=0)"
      ],
      "execution_count": null,
      "outputs": []
    },
    {
      "cell_type": "code",
      "metadata": {
        "id": "jhYKuJcXlHUe",
        "colab_type": "code",
        "colab": {
          "base_uri": "https://localhost:8080/",
          "height": 34
        },
        "outputId": "3fd5d45d-f4df-4503-ac8d-1234a55c5f34"
      },
      "source": [
        "test_input_features=pd.concat((test_image_features,test_text_features,test_getty_caption_features, test_getty_tag_features, test_hate_df),axis=1).values\n",
        "# input_features=input_features[0:5]\n",
        "test_getty_color_score_features[0]\n"
      ],
      "execution_count": null,
      "outputs": [
        {
          "output_type": "execute_result",
          "data": {
            "text/plain": [
              "18.282643999999987"
            ]
          },
          "metadata": {
            "tags": []
          },
          "execution_count": 159
        }
      ]
    },
    {
      "cell_type": "code",
      "metadata": {
        "id": "WZ-srysuq0AE",
        "colab_type": "code",
        "colab": {
          "base_uri": "https://localhost:8080/",
          "height": 34
        },
        "outputId": "75c54803-4308-45d7-b620-58b470673b3c"
      },
      "source": [
        "test_input_features.shape"
      ],
      "execution_count": null,
      "outputs": [
        {
          "output_type": "execute_result",
          "data": {
            "text/plain": [
              "(1000, 4099)"
            ]
          },
          "metadata": {
            "tags": []
          },
          "execution_count": 161
        }
      ]
    },
    {
      "cell_type": "code",
      "metadata": {
        "id": "7_egg83klRSn",
        "colab_type": "code",
        "colab": {
          "base_uri": "https://localhost:8080/",
          "height": 504
        },
        "outputId": "4b903e77-40cd-4def-9cbf-35ef86197f2d"
      },
      "source": [
        "model, train_features, validation_features=hidden_layer_grid_search(32)\n",
        "# results=model(torch.tensor(input_features[:train_size]).float()).detach().numpy()\n",
        "# predicted_label=np.apply_along_axis(lambda d: 1 if d >.63 else 0,1,results)\n"
      ],
      "execution_count": null,
      "outputs": [
        {
          "output_type": "stream",
          "text": [
            "0.11487312893907563 0.12237322550280134\n",
            "0.10642155495010504 0.10447952072963662\n",
            "0.09468697684151786 0.10970960387345528\n",
            "0.08788506515887605 0.10190684938486906\n",
            "0.08177012724034927 0.11400900264962975\n",
            "0.07604342933462448 0.10267600249944832\n",
            "0.07040861754858194 0.10737193823328389\n",
            "0.06440510212874212 0.10293077459144517\n",
            "0.05869812524619223 0.10241538788955228\n",
            "0.053726124482996324 0.11258472129848715\n",
            "0.04841686088497899 0.10575190858777339\n"
          ],
          "name": "stdout"
        },
        {
          "output_type": "error",
          "ename": "IndexError",
          "evalue": "ignored",
          "traceback": [
            "\u001b[0;31m---------------------------------------------------------------------------\u001b[0m",
            "\u001b[0;31mIndexError\u001b[0m                                Traceback (most recent call last)",
            "\u001b[0;32m<ipython-input-216-92970f5fbbc4>\u001b[0m in \u001b[0;36m<module>\u001b[0;34m()\u001b[0m\n\u001b[0;32m----> 1\u001b[0;31m \u001b[0mmodel\u001b[0m\u001b[0;34m,\u001b[0m \u001b[0mtrain_features\u001b[0m\u001b[0;34m,\u001b[0m \u001b[0mvalidation_features\u001b[0m\u001b[0;34m=\u001b[0m\u001b[0mhidden_layer_grid_search\u001b[0m\u001b[0;34m(\u001b[0m\u001b[0;36m32\u001b[0m\u001b[0;34m)\u001b[0m\u001b[0;34m\u001b[0m\u001b[0;34m\u001b[0m\u001b[0m\n\u001b[0m\u001b[1;32m      2\u001b[0m \u001b[0;31m# results=model(torch.tensor(input_features[:train_size]).float()).detach().numpy()\u001b[0m\u001b[0;34m\u001b[0m\u001b[0;34m\u001b[0m\u001b[0;34m\u001b[0m\u001b[0m\n\u001b[1;32m      3\u001b[0m \u001b[0;31m# predicted_label=np.apply_along_axis(lambda d: 1 if d >.63 else 0,1,results)\u001b[0m\u001b[0;34m\u001b[0m\u001b[0;34m\u001b[0m\u001b[0;34m\u001b[0m\u001b[0m\n",
            "\u001b[0;32m<ipython-input-215-e0d23cd25111>\u001b[0m in \u001b[0;36mhidden_layer_grid_search\u001b[0;34m(layer_size)\u001b[0m\n\u001b[1;32m     39\u001b[0m \u001b[0;34m\u001b[0m\u001b[0m\n\u001b[1;32m     40\u001b[0m   \u001b[0mtrain_feature_df\u001b[0m\u001b[0;34m=\u001b[0m\u001b[0minput_features\u001b[0m\u001b[0;34m[\u001b[0m\u001b[0;34m:\u001b[0m\u001b[0mtrain_size\u001b[0m\u001b[0;34m]\u001b[0m\u001b[0;34m\u001b[0m\u001b[0;34m\u001b[0m\u001b[0m\n\u001b[0;32m---> 41\u001b[0;31m   \u001b[0mtrain_feature_df\u001b[0m\u001b[0;34m[\u001b[0m\u001b[0;34m'label'\u001b[0m\u001b[0;34m]\u001b[0m\u001b[0;34m=\u001b[0m\u001b[0mpredicted_label\u001b[0m\u001b[0;34m\u001b[0m\u001b[0;34m\u001b[0m\u001b[0m\n\u001b[0m\u001b[1;32m     42\u001b[0m   \u001b[0mtrain_feature_df\u001b[0m\u001b[0;34m[\u001b[0m\u001b[0;34m'proba'\u001b[0m\u001b[0;34m]\u001b[0m\u001b[0;34m=\u001b[0m\u001b[0mresults\u001b[0m\u001b[0;34m\u001b[0m\u001b[0;34m\u001b[0m\u001b[0m\n\u001b[1;32m     43\u001b[0m \u001b[0;34m\u001b[0m\u001b[0m\n",
            "\u001b[0;31mIndexError\u001b[0m: only integers, slices (`:`), ellipsis (`...`), numpy.newaxis (`None`) and integer or boolean arrays are valid indices"
          ]
        }
      ]
    },
    {
      "cell_type": "code",
      "metadata": {
        "id": "jcegF-2NptUm",
        "colab_type": "code",
        "colab": {}
      },
      "source": [
        "test_results=model(torch.tensor(test_input_features).float()).detach().numpy()\n",
        "test_predicted_label=np.apply_along_axis(lambda d: 1 if d >.4 else 0,1,test_results)\n"
      ],
      "execution_count": null,
      "outputs": []
    },
    {
      "cell_type": "code",
      "metadata": {
        "id": "ZT5wnGONqsK4",
        "colab_type": "code",
        "colab": {
          "base_uri": "https://localhost:8080/",
          "height": 34
        },
        "outputId": "b09f3353-c6f9-416f-e8fe-5e0eead5f7f0"
      },
      "source": [
        "test_predicted_label[0]"
      ],
      "execution_count": null,
      "outputs": [
        {
          "output_type": "execute_result",
          "data": {
            "text/plain": [
              "0"
            ]
          },
          "metadata": {
            "tags": []
          },
          "execution_count": 198
        }
      ]
    },
    {
      "cell_type": "code",
      "metadata": {
        "id": "qjMWB5ugquPi",
        "colab_type": "code",
        "colab": {}
      },
      "source": [
        "test_df_final=pd.concat((test_image_features,test_text_features,test_getty_caption_features, test_getty_tag_features, test_hate_df),axis=1)"
      ],
      "execution_count": null,
      "outputs": []
    },
    {
      "cell_type": "code",
      "metadata": {
        "id": "8n0JoKKBrR6Y",
        "colab_type": "code",
        "colab": {
          "base_uri": "https://localhost:8080/",
          "height": 253
        },
        "outputId": "07f1e1ed-a4c9-4f88-d1b9-41a180e7efe3"
      },
      "source": [
        "test_df_final.head()"
      ],
      "execution_count": null,
      "outputs": [
        {
          "output_type": "execute_result",
          "data": {
            "text/html": [
              "<div>\n",
              "<style scoped>\n",
              "    .dataframe tbody tr th:only-of-type {\n",
              "        vertical-align: middle;\n",
              "    }\n",
              "\n",
              "    .dataframe tbody tr th {\n",
              "        vertical-align: top;\n",
              "    }\n",
              "\n",
              "    .dataframe thead th {\n",
              "        text-align: right;\n",
              "    }\n",
              "</style>\n",
              "<table border=\"1\" class=\"dataframe\">\n",
              "  <thead>\n",
              "    <tr style=\"text-align: right;\">\n",
              "      <th></th>\n",
              "      <th>0</th>\n",
              "      <th>1</th>\n",
              "      <th>2</th>\n",
              "      <th>3</th>\n",
              "      <th>4</th>\n",
              "      <th>5</th>\n",
              "      <th>6</th>\n",
              "      <th>7</th>\n",
              "      <th>8</th>\n",
              "      <th>9</th>\n",
              "      <th>10</th>\n",
              "      <th>11</th>\n",
              "      <th>12</th>\n",
              "      <th>13</th>\n",
              "      <th>14</th>\n",
              "      <th>15</th>\n",
              "      <th>16</th>\n",
              "      <th>17</th>\n",
              "      <th>18</th>\n",
              "      <th>19</th>\n",
              "      <th>20</th>\n",
              "      <th>21</th>\n",
              "      <th>22</th>\n",
              "      <th>23</th>\n",
              "      <th>24</th>\n",
              "      <th>25</th>\n",
              "      <th>26</th>\n",
              "      <th>27</th>\n",
              "      <th>28</th>\n",
              "      <th>29</th>\n",
              "      <th>30</th>\n",
              "      <th>31</th>\n",
              "      <th>32</th>\n",
              "      <th>33</th>\n",
              "      <th>34</th>\n",
              "      <th>35</th>\n",
              "      <th>36</th>\n",
              "      <th>37</th>\n",
              "      <th>38</th>\n",
              "      <th>39</th>\n",
              "      <th>...</th>\n",
              "      <th>987</th>\n",
              "      <th>988</th>\n",
              "      <th>989</th>\n",
              "      <th>990</th>\n",
              "      <th>991</th>\n",
              "      <th>992</th>\n",
              "      <th>993</th>\n",
              "      <th>994</th>\n",
              "      <th>995</th>\n",
              "      <th>996</th>\n",
              "      <th>997</th>\n",
              "      <th>998</th>\n",
              "      <th>999</th>\n",
              "      <th>1000</th>\n",
              "      <th>1001</th>\n",
              "      <th>1002</th>\n",
              "      <th>1003</th>\n",
              "      <th>1004</th>\n",
              "      <th>1005</th>\n",
              "      <th>1006</th>\n",
              "      <th>1007</th>\n",
              "      <th>1008</th>\n",
              "      <th>1009</th>\n",
              "      <th>1010</th>\n",
              "      <th>1011</th>\n",
              "      <th>1012</th>\n",
              "      <th>1013</th>\n",
              "      <th>1014</th>\n",
              "      <th>1015</th>\n",
              "      <th>1016</th>\n",
              "      <th>1017</th>\n",
              "      <th>1018</th>\n",
              "      <th>1019</th>\n",
              "      <th>1020</th>\n",
              "      <th>1021</th>\n",
              "      <th>1022</th>\n",
              "      <th>1023</th>\n",
              "      <th>hate_speech</th>\n",
              "      <th>offensive_language</th>\n",
              "      <th>neither</th>\n",
              "    </tr>\n",
              "  </thead>\n",
              "  <tbody>\n",
              "    <tr>\n",
              "      <th>0</th>\n",
              "      <td>-1.212119</td>\n",
              "      <td>0.462333</td>\n",
              "      <td>0.120778</td>\n",
              "      <td>-0.024422</td>\n",
              "      <td>-0.509383</td>\n",
              "      <td>-0.810325</td>\n",
              "      <td>-0.781072</td>\n",
              "      <td>-0.238344</td>\n",
              "      <td>-0.185636</td>\n",
              "      <td>0.167529</td>\n",
              "      <td>0.053613</td>\n",
              "      <td>1.323488</td>\n",
              "      <td>0.312570</td>\n",
              "      <td>0.270627</td>\n",
              "      <td>-0.214704</td>\n",
              "      <td>-0.205468</td>\n",
              "      <td>0.587229</td>\n",
              "      <td>0.737695</td>\n",
              "      <td>0.173893</td>\n",
              "      <td>0.171494</td>\n",
              "      <td>0.054414</td>\n",
              "      <td>-0.266440</td>\n",
              "      <td>0.823458</td>\n",
              "      <td>-1.046153</td>\n",
              "      <td>-0.003901</td>\n",
              "      <td>0.432109</td>\n",
              "      <td>-0.082183</td>\n",
              "      <td>0.405796</td>\n",
              "      <td>0.319951</td>\n",
              "      <td>-1.201726</td>\n",
              "      <td>0.896155</td>\n",
              "      <td>0.171577</td>\n",
              "      <td>-0.596987</td>\n",
              "      <td>-0.666461</td>\n",
              "      <td>1.353034</td>\n",
              "      <td>-1.781110</td>\n",
              "      <td>1.646237</td>\n",
              "      <td>1.242993</td>\n",
              "      <td>0.910672</td>\n",
              "      <td>-0.547757</td>\n",
              "      <td>...</td>\n",
              "      <td>-0.037956</td>\n",
              "      <td>0.305193</td>\n",
              "      <td>0.840467</td>\n",
              "      <td>-0.778575</td>\n",
              "      <td>-1.112256</td>\n",
              "      <td>-0.206794</td>\n",
              "      <td>-1.278592</td>\n",
              "      <td>1.142491</td>\n",
              "      <td>0.057558</td>\n",
              "      <td>-1.741428</td>\n",
              "      <td>0.973890</td>\n",
              "      <td>-0.080023</td>\n",
              "      <td>-0.195326</td>\n",
              "      <td>0.087894</td>\n",
              "      <td>-1.670285</td>\n",
              "      <td>-0.861833</td>\n",
              "      <td>0.213059</td>\n",
              "      <td>0.689346</td>\n",
              "      <td>0.314621</td>\n",
              "      <td>0.063994</td>\n",
              "      <td>-0.854510</td>\n",
              "      <td>1.893992</td>\n",
              "      <td>0.871671</td>\n",
              "      <td>-2.175935</td>\n",
              "      <td>-0.289507</td>\n",
              "      <td>-0.666609</td>\n",
              "      <td>0.769390</td>\n",
              "      <td>-1.103921</td>\n",
              "      <td>0.282819</td>\n",
              "      <td>0.052237</td>\n",
              "      <td>-0.086631</td>\n",
              "      <td>-0.793893</td>\n",
              "      <td>1.037761</td>\n",
              "      <td>-0.736792</td>\n",
              "      <td>-0.206302</td>\n",
              "      <td>-0.986229</td>\n",
              "      <td>-0.185613</td>\n",
              "      <td>0.149131</td>\n",
              "      <td>0.344875</td>\n",
              "      <td>0.505994</td>\n",
              "    </tr>\n",
              "    <tr>\n",
              "      <th>1</th>\n",
              "      <td>-1.212119</td>\n",
              "      <td>0.462333</td>\n",
              "      <td>0.120778</td>\n",
              "      <td>-0.024422</td>\n",
              "      <td>-0.509383</td>\n",
              "      <td>-0.810325</td>\n",
              "      <td>-0.781072</td>\n",
              "      <td>-0.238344</td>\n",
              "      <td>-0.185636</td>\n",
              "      <td>0.167529</td>\n",
              "      <td>0.053613</td>\n",
              "      <td>1.323488</td>\n",
              "      <td>0.312570</td>\n",
              "      <td>0.270627</td>\n",
              "      <td>-0.214704</td>\n",
              "      <td>-0.205468</td>\n",
              "      <td>0.587229</td>\n",
              "      <td>0.737695</td>\n",
              "      <td>0.173893</td>\n",
              "      <td>0.171494</td>\n",
              "      <td>0.054414</td>\n",
              "      <td>-0.266440</td>\n",
              "      <td>0.823458</td>\n",
              "      <td>-1.046153</td>\n",
              "      <td>-0.003901</td>\n",
              "      <td>0.432109</td>\n",
              "      <td>-0.082183</td>\n",
              "      <td>0.405796</td>\n",
              "      <td>0.319951</td>\n",
              "      <td>-1.201726</td>\n",
              "      <td>0.896155</td>\n",
              "      <td>0.171577</td>\n",
              "      <td>-0.596987</td>\n",
              "      <td>-0.666461</td>\n",
              "      <td>1.353034</td>\n",
              "      <td>-1.781110</td>\n",
              "      <td>1.646237</td>\n",
              "      <td>1.242993</td>\n",
              "      <td>0.910672</td>\n",
              "      <td>-0.547757</td>\n",
              "      <td>...</td>\n",
              "      <td>0.713828</td>\n",
              "      <td>-0.570180</td>\n",
              "      <td>-0.085948</td>\n",
              "      <td>-0.218955</td>\n",
              "      <td>-0.993092</td>\n",
              "      <td>0.600718</td>\n",
              "      <td>-2.370812</td>\n",
              "      <td>1.476859</td>\n",
              "      <td>-1.346072</td>\n",
              "      <td>-0.440357</td>\n",
              "      <td>-0.227957</td>\n",
              "      <td>-0.519096</td>\n",
              "      <td>-0.697062</td>\n",
              "      <td>1.006396</td>\n",
              "      <td>-0.698335</td>\n",
              "      <td>-2.091238</td>\n",
              "      <td>-0.239397</td>\n",
              "      <td>-0.675082</td>\n",
              "      <td>-0.007744</td>\n",
              "      <td>-0.376119</td>\n",
              "      <td>-0.141720</td>\n",
              "      <td>-0.011706</td>\n",
              "      <td>0.501063</td>\n",
              "      <td>-0.875444</td>\n",
              "      <td>-1.275239</td>\n",
              "      <td>-0.974362</td>\n",
              "      <td>0.906138</td>\n",
              "      <td>-0.501606</td>\n",
              "      <td>-0.454272</td>\n",
              "      <td>-0.361903</td>\n",
              "      <td>-1.019451</td>\n",
              "      <td>0.594238</td>\n",
              "      <td>0.854294</td>\n",
              "      <td>0.844977</td>\n",
              "      <td>0.220065</td>\n",
              "      <td>-1.872593</td>\n",
              "      <td>-1.669706</td>\n",
              "      <td>0.086252</td>\n",
              "      <td>0.301467</td>\n",
              "      <td>0.612281</td>\n",
              "    </tr>\n",
              "    <tr>\n",
              "      <th>2</th>\n",
              "      <td>-1.212119</td>\n",
              "      <td>0.462333</td>\n",
              "      <td>0.120778</td>\n",
              "      <td>-0.024422</td>\n",
              "      <td>-0.509383</td>\n",
              "      <td>-0.810325</td>\n",
              "      <td>-0.781072</td>\n",
              "      <td>-0.238344</td>\n",
              "      <td>-0.185636</td>\n",
              "      <td>0.167529</td>\n",
              "      <td>0.053613</td>\n",
              "      <td>1.323488</td>\n",
              "      <td>0.312570</td>\n",
              "      <td>0.270627</td>\n",
              "      <td>-0.214704</td>\n",
              "      <td>-0.205468</td>\n",
              "      <td>0.587229</td>\n",
              "      <td>0.737695</td>\n",
              "      <td>0.173893</td>\n",
              "      <td>0.171494</td>\n",
              "      <td>0.054414</td>\n",
              "      <td>-0.266440</td>\n",
              "      <td>0.823458</td>\n",
              "      <td>-1.046153</td>\n",
              "      <td>-0.003901</td>\n",
              "      <td>0.432109</td>\n",
              "      <td>-0.082183</td>\n",
              "      <td>0.405796</td>\n",
              "      <td>0.319951</td>\n",
              "      <td>-1.201726</td>\n",
              "      <td>0.896155</td>\n",
              "      <td>0.171577</td>\n",
              "      <td>-0.596987</td>\n",
              "      <td>-0.666461</td>\n",
              "      <td>1.353034</td>\n",
              "      <td>-1.781110</td>\n",
              "      <td>1.646237</td>\n",
              "      <td>1.242993</td>\n",
              "      <td>0.910672</td>\n",
              "      <td>-0.547757</td>\n",
              "      <td>...</td>\n",
              "      <td>-0.061073</td>\n",
              "      <td>1.687162</td>\n",
              "      <td>-1.415173</td>\n",
              "      <td>0.738038</td>\n",
              "      <td>1.135473</td>\n",
              "      <td>-0.653039</td>\n",
              "      <td>-0.649049</td>\n",
              "      <td>0.426142</td>\n",
              "      <td>-1.538316</td>\n",
              "      <td>-0.802370</td>\n",
              "      <td>0.015529</td>\n",
              "      <td>-1.781700</td>\n",
              "      <td>-1.442530</td>\n",
              "      <td>0.960431</td>\n",
              "      <td>-0.821701</td>\n",
              "      <td>-0.452099</td>\n",
              "      <td>0.694419</td>\n",
              "      <td>0.814496</td>\n",
              "      <td>0.106948</td>\n",
              "      <td>1.075225</td>\n",
              "      <td>-0.559201</td>\n",
              "      <td>2.206959</td>\n",
              "      <td>0.918294</td>\n",
              "      <td>-0.450416</td>\n",
              "      <td>-0.795978</td>\n",
              "      <td>-0.711532</td>\n",
              "      <td>0.633536</td>\n",
              "      <td>-0.531926</td>\n",
              "      <td>-0.554170</td>\n",
              "      <td>0.172510</td>\n",
              "      <td>-0.795326</td>\n",
              "      <td>-1.040579</td>\n",
              "      <td>0.029235</td>\n",
              "      <td>0.881793</td>\n",
              "      <td>-0.172089</td>\n",
              "      <td>-1.600800</td>\n",
              "      <td>-0.353933</td>\n",
              "      <td>0.142391</td>\n",
              "      <td>0.254497</td>\n",
              "      <td>0.603112</td>\n",
              "    </tr>\n",
              "    <tr>\n",
              "      <th>3</th>\n",
              "      <td>-1.199658</td>\n",
              "      <td>0.331703</td>\n",
              "      <td>0.049041</td>\n",
              "      <td>0.001857</td>\n",
              "      <td>-0.548146</td>\n",
              "      <td>-0.525462</td>\n",
              "      <td>-0.919624</td>\n",
              "      <td>-0.411369</td>\n",
              "      <td>-0.002905</td>\n",
              "      <td>0.260373</td>\n",
              "      <td>0.491370</td>\n",
              "      <td>1.554957</td>\n",
              "      <td>0.206599</td>\n",
              "      <td>0.581014</td>\n",
              "      <td>-0.158539</td>\n",
              "      <td>-0.511032</td>\n",
              "      <td>0.819606</td>\n",
              "      <td>0.461830</td>\n",
              "      <td>0.741218</td>\n",
              "      <td>0.453815</td>\n",
              "      <td>0.213696</td>\n",
              "      <td>-0.425177</td>\n",
              "      <td>1.092432</td>\n",
              "      <td>-0.919984</td>\n",
              "      <td>0.572151</td>\n",
              "      <td>0.766395</td>\n",
              "      <td>0.243817</td>\n",
              "      <td>0.683271</td>\n",
              "      <td>-0.024414</td>\n",
              "      <td>-0.675773</td>\n",
              "      <td>0.704020</td>\n",
              "      <td>0.236654</td>\n",
              "      <td>-0.541538</td>\n",
              "      <td>-0.513566</td>\n",
              "      <td>1.390883</td>\n",
              "      <td>-1.872833</td>\n",
              "      <td>1.602096</td>\n",
              "      <td>1.217990</td>\n",
              "      <td>0.811343</td>\n",
              "      <td>-0.425067</td>\n",
              "      <td>...</td>\n",
              "      <td>0.233918</td>\n",
              "      <td>1.393461</td>\n",
              "      <td>0.064751</td>\n",
              "      <td>-0.199463</td>\n",
              "      <td>-1.224119</td>\n",
              "      <td>0.419543</td>\n",
              "      <td>-0.381264</td>\n",
              "      <td>-0.023503</td>\n",
              "      <td>-1.486822</td>\n",
              "      <td>-1.324831</td>\n",
              "      <td>0.747049</td>\n",
              "      <td>-0.457200</td>\n",
              "      <td>0.492066</td>\n",
              "      <td>-0.738996</td>\n",
              "      <td>-1.458989</td>\n",
              "      <td>-0.128206</td>\n",
              "      <td>0.422953</td>\n",
              "      <td>0.162293</td>\n",
              "      <td>0.017337</td>\n",
              "      <td>0.372441</td>\n",
              "      <td>-1.017976</td>\n",
              "      <td>-0.072918</td>\n",
              "      <td>-0.991769</td>\n",
              "      <td>0.180132</td>\n",
              "      <td>-0.597659</td>\n",
              "      <td>0.407485</td>\n",
              "      <td>0.460785</td>\n",
              "      <td>0.305210</td>\n",
              "      <td>0.453373</td>\n",
              "      <td>0.762131</td>\n",
              "      <td>-0.694694</td>\n",
              "      <td>-0.789272</td>\n",
              "      <td>-0.293356</td>\n",
              "      <td>0.045454</td>\n",
              "      <td>0.056860</td>\n",
              "      <td>-0.953779</td>\n",
              "      <td>0.113336</td>\n",
              "      <td>0.068924</td>\n",
              "      <td>0.354387</td>\n",
              "      <td>0.576689</td>\n",
              "    </tr>\n",
              "    <tr>\n",
              "      <th>4</th>\n",
              "      <td>-0.892075</td>\n",
              "      <td>-0.691683</td>\n",
              "      <td>1.015247</td>\n",
              "      <td>-0.391825</td>\n",
              "      <td>-0.977769</td>\n",
              "      <td>0.131717</td>\n",
              "      <td>-0.469966</td>\n",
              "      <td>0.702625</td>\n",
              "      <td>0.184561</td>\n",
              "      <td>0.460340</td>\n",
              "      <td>-0.514596</td>\n",
              "      <td>1.309393</td>\n",
              "      <td>-1.058578</td>\n",
              "      <td>0.445633</td>\n",
              "      <td>0.925121</td>\n",
              "      <td>-1.877412</td>\n",
              "      <td>0.583521</td>\n",
              "      <td>-0.439095</td>\n",
              "      <td>1.497074</td>\n",
              "      <td>0.886215</td>\n",
              "      <td>-0.190998</td>\n",
              "      <td>-0.143501</td>\n",
              "      <td>1.343251</td>\n",
              "      <td>-0.100404</td>\n",
              "      <td>0.139539</td>\n",
              "      <td>0.977299</td>\n",
              "      <td>-0.208358</td>\n",
              "      <td>0.584005</td>\n",
              "      <td>-0.560737</td>\n",
              "      <td>-0.106046</td>\n",
              "      <td>0.058078</td>\n",
              "      <td>0.072384</td>\n",
              "      <td>-0.576630</td>\n",
              "      <td>1.069131</td>\n",
              "      <td>1.188931</td>\n",
              "      <td>-2.007029</td>\n",
              "      <td>2.725813</td>\n",
              "      <td>0.283347</td>\n",
              "      <td>-0.188377</td>\n",
              "      <td>-0.138478</td>\n",
              "      <td>...</td>\n",
              "      <td>0.218129</td>\n",
              "      <td>0.670527</td>\n",
              "      <td>-0.374949</td>\n",
              "      <td>-0.351575</td>\n",
              "      <td>-0.756054</td>\n",
              "      <td>-0.399224</td>\n",
              "      <td>-0.474581</td>\n",
              "      <td>0.851321</td>\n",
              "      <td>-0.452653</td>\n",
              "      <td>-0.680042</td>\n",
              "      <td>0.050409</td>\n",
              "      <td>-0.193612</td>\n",
              "      <td>0.769195</td>\n",
              "      <td>0.027947</td>\n",
              "      <td>-0.517500</td>\n",
              "      <td>-0.702285</td>\n",
              "      <td>-1.251939</td>\n",
              "      <td>0.350303</td>\n",
              "      <td>-0.271046</td>\n",
              "      <td>0.752687</td>\n",
              "      <td>-0.767012</td>\n",
              "      <td>-0.195427</td>\n",
              "      <td>0.564195</td>\n",
              "      <td>-0.979537</td>\n",
              "      <td>0.843924</td>\n",
              "      <td>-0.135996</td>\n",
              "      <td>0.615432</td>\n",
              "      <td>-0.449029</td>\n",
              "      <td>0.916682</td>\n",
              "      <td>-1.018086</td>\n",
              "      <td>-0.007758</td>\n",
              "      <td>-0.646989</td>\n",
              "      <td>0.111764</td>\n",
              "      <td>-0.220956</td>\n",
              "      <td>-0.407445</td>\n",
              "      <td>0.044500</td>\n",
              "      <td>0.123301</td>\n",
              "      <td>0.131492</td>\n",
              "      <td>0.326618</td>\n",
              "      <td>0.541889</td>\n",
              "    </tr>\n",
              "  </tbody>\n",
              "</table>\n",
              "<p>5 rows × 4099 columns</p>\n",
              "</div>"
            ],
            "text/plain": [
              "          0         1         2  ...  hate_speech  offensive_language   neither\n",
              "0 -1.212119  0.462333  0.120778  ...     0.149131            0.344875  0.505994\n",
              "1 -1.212119  0.462333  0.120778  ...     0.086252            0.301467  0.612281\n",
              "2 -1.212119  0.462333  0.120778  ...     0.142391            0.254497  0.603112\n",
              "3 -1.199658  0.331703  0.049041  ...     0.068924            0.354387  0.576689\n",
              "4 -0.892075 -0.691683  1.015247  ...     0.131492            0.326618  0.541889\n",
              "\n",
              "[5 rows x 4099 columns]"
            ]
          },
          "metadata": {
            "tags": []
          },
          "execution_count": 200
        }
      ]
    },
    {
      "cell_type": "code",
      "metadata": {
        "id": "jrWCWbimrTAd",
        "colab_type": "code",
        "colab": {
          "base_uri": "https://localhost:8080/",
          "height": 699
        },
        "outputId": "2985e141-12d9-4762-ac12-35e3e9fa9113"
      },
      "source": [
        "test_feature_df.head(10)"
      ],
      "execution_count": null,
      "outputs": [
        {
          "output_type": "execute_result",
          "data": {
            "text/html": [
              "<div>\n",
              "<style scoped>\n",
              "    .dataframe tbody tr th:only-of-type {\n",
              "        vertical-align: middle;\n",
              "    }\n",
              "\n",
              "    .dataframe tbody tr th {\n",
              "        vertical-align: top;\n",
              "    }\n",
              "\n",
              "    .dataframe thead th {\n",
              "        text-align: right;\n",
              "    }\n",
              "</style>\n",
              "<table border=\"1\" class=\"dataframe\">\n",
              "  <thead>\n",
              "    <tr style=\"text-align: right;\">\n",
              "      <th></th>\n",
              "      <th>id</th>\n",
              "      <th>getty_caption</th>\n",
              "      <th>getty_tag</th>\n",
              "      <th>color_score</th>\n",
              "      <th>img_text</th>\n",
              "      <th>combined_text</th>\n",
              "      <th>hate_speech</th>\n",
              "      <th>offensive_language</th>\n",
              "      <th>neither</th>\n",
              "      <th>prediction</th>\n",
              "      <th>proba</th>\n",
              "    </tr>\n",
              "  </thead>\n",
              "  <tbody>\n",
              "    <tr>\n",
              "      <th>0</th>\n",
              "      <td>16395</td>\n",
              "      <td>Closeup portrait of a beautiful woman smiling ...</td>\n",
              "      <td>Looking At Camera   One Woman Only   Women   3...</td>\n",
              "      <td>18.282644</td>\n",
              "      <td>handjobs sold seperately</td>\n",
              "      <td>Closeup portrait of a beautiful woman smiling ...</td>\n",
              "      <td>0.149131</td>\n",
              "      <td>0.344875</td>\n",
              "      <td>0.505994</td>\n",
              "      <td>0</td>\n",
              "      <td>0.164456</td>\n",
              "    </tr>\n",
              "    <tr>\n",
              "      <th>1</th>\n",
              "      <td>37405</td>\n",
              "      <td>This picture was taken early in the morning in...</td>\n",
              "      <td>Amstel River   Amsterdam   Arch   Arch Bridge ...</td>\n",
              "      <td>9.970300</td>\n",
              "      <td>introducing fidget spinner for women</td>\n",
              "      <td>This picture was taken early in the morning in...</td>\n",
              "      <td>0.086252</td>\n",
              "      <td>0.301467</td>\n",
              "      <td>0.612281</td>\n",
              "      <td>1</td>\n",
              "      <td>0.424541</td>\n",
              "    </tr>\n",
              "    <tr>\n",
              "      <th>2</th>\n",
              "      <td>94180</td>\n",
              "      <td>Transexual gay whit hands in hair, standing up...</td>\n",
              "      <td>Cross Dressing   Transgender   Humour   Men   ...</td>\n",
              "      <td>10.257412</td>\n",
              "      <td>happy pride month let's go beat up lesbians</td>\n",
              "      <td>Transexual gay whit hands in hair, standing up...</td>\n",
              "      <td>0.142391</td>\n",
              "      <td>0.254497</td>\n",
              "      <td>0.603112</td>\n",
              "      <td>1</td>\n",
              "      <td>0.452507</td>\n",
              "    </tr>\n",
              "    <tr>\n",
              "      <th>3</th>\n",
              "      <td>54321</td>\n",
              "      <td>Shot of a sporty young couple out for a workout</td>\n",
              "      <td>Laughing   Exercising   Couple - Relationship ...</td>\n",
              "      <td>6.485984</td>\n",
              "      <td>laughs in [majority of u.s crime rate]</td>\n",
              "      <td>Shot of a sporty young couple out for a workou...</td>\n",
              "      <td>0.068924</td>\n",
              "      <td>0.354387</td>\n",
              "      <td>0.576689</td>\n",
              "      <td>1</td>\n",
              "      <td>0.633741</td>\n",
              "    </tr>\n",
              "    <tr>\n",
              "      <th>4</th>\n",
              "      <td>97015</td>\n",
              "      <td>Smiling male and female friend with eyes close...</td>\n",
              "      <td>18-19 Years   20-24 Years   Adult Adults Only ...</td>\n",
              "      <td>45.356488</td>\n",
              "      <td>finds out those 72 virgins.. are goats</td>\n",
              "      <td>Smiling male and female friend with eyes close...</td>\n",
              "      <td>0.131492</td>\n",
              "      <td>0.326618</td>\n",
              "      <td>0.541889</td>\n",
              "      <td>0</td>\n",
              "      <td>0.146220</td>\n",
              "    </tr>\n",
              "    <tr>\n",
              "      <th>5</th>\n",
              "      <td>73506</td>\n",
              "      <td>Four friends splashing each other with water i...</td>\n",
              "      <td>20-29 Years   25-29 Years   Activity   Adult A...</td>\n",
              "      <td>18.786128</td>\n",
              "      <td>look your dad fucked goats.. i capped him...so...</td>\n",
              "      <td>Four friends splashing each other with water i...</td>\n",
              "      <td>0.052632</td>\n",
              "      <td>0.405921</td>\n",
              "      <td>0.541447</td>\n",
              "      <td>1</td>\n",
              "      <td>0.632322</td>\n",
              "    </tr>\n",
              "    <tr>\n",
              "      <th>6</th>\n",
              "      <td>5429</td>\n",
              "      <td>A medical team are discussing something around...</td>\n",
              "      <td>Nurse   Doctor   Meeting   Multiracial Group  ...</td>\n",
              "      <td>48.365616</td>\n",
              "      <td>claims that her ancestors created a safe space...</td>\n",
              "      <td>A medical team are discussing something around...</td>\n",
              "      <td>0.061399</td>\n",
              "      <td>0.396469</td>\n",
              "      <td>0.542131</td>\n",
              "      <td>0</td>\n",
              "      <td>0.250191</td>\n",
              "    </tr>\n",
              "    <tr>\n",
              "      <th>7</th>\n",
              "      <td>70691</td>\n",
              "      <td>Close up view of slices of fresh and tasty wat...</td>\n",
              "      <td>Australia   Close-Up   Copy Space   Cross Sect...</td>\n",
              "      <td>23.641096</td>\n",
              "      <td>overdose</td>\n",
              "      <td>Close up view of slices of fresh and tasty wat...</td>\n",
              "      <td>0.042165</td>\n",
              "      <td>0.335473</td>\n",
              "      <td>0.622362</td>\n",
              "      <td>0</td>\n",
              "      <td>0.020130</td>\n",
              "    </tr>\n",
              "    <tr>\n",
              "      <th>8</th>\n",
              "      <td>69421</td>\n",
              "      <td>Smiling businessman looking at colleagues in m...</td>\n",
              "      <td>Corporate Business   Meeting   Adult Adults On...</td>\n",
              "      <td>8.904152</td>\n",
              "      <td>when they laugh about your 9cm in the change r...</td>\n",
              "      <td>Smiling businessman looking at colleagues in m...</td>\n",
              "      <td>0.087821</td>\n",
              "      <td>0.409324</td>\n",
              "      <td>0.502855</td>\n",
              "      <td>0</td>\n",
              "      <td>0.110819</td>\n",
              "    </tr>\n",
              "    <tr>\n",
              "      <th>9</th>\n",
              "      <td>50162</td>\n",
              "      <td>Group of friends practicing as a band, before ...</td>\n",
              "      <td>Drum Kit   Guitar   Performance Group   Person...</td>\n",
              "      <td>25.198300</td>\n",
              "      <td>roses are black, violets are black everything ...</td>\n",
              "      <td>Group of friends practicing as a band, before ...</td>\n",
              "      <td>0.062751</td>\n",
              "      <td>0.334522</td>\n",
              "      <td>0.602727</td>\n",
              "      <td>1</td>\n",
              "      <td>0.777052</td>\n",
              "    </tr>\n",
              "  </tbody>\n",
              "</table>\n",
              "</div>"
            ],
            "text/plain": [
              "      id  ...     proba\n",
              "0  16395  ...  0.164456\n",
              "1  37405  ...  0.424541\n",
              "2  94180  ...  0.452507\n",
              "3  54321  ...  0.633741\n",
              "4  97015  ...  0.146220\n",
              "5  73506  ...  0.632322\n",
              "6   5429  ...  0.250191\n",
              "7  70691  ...  0.020130\n",
              "8  69421  ...  0.110819\n",
              "9  50162  ...  0.777052\n",
              "\n",
              "[10 rows x 11 columns]"
            ]
          },
          "metadata": {
            "tags": []
          },
          "execution_count": 201
        }
      ]
    },
    {
      "cell_type": "code",
      "metadata": {
        "id": "AykVe3X2r4QX",
        "colab_type": "code",
        "colab": {
          "base_uri": "https://localhost:8080/",
          "height": 34
        },
        "outputId": "6292cf2c-d363-43d2-c703-74bac088e097"
      },
      "source": [
        "test_predicted_label[0:10]"
      ],
      "execution_count": null,
      "outputs": [
        {
          "output_type": "execute_result",
          "data": {
            "text/plain": [
              "array([0, 1, 1, 1, 0, 1, 0, 0, 0, 1])"
            ]
          },
          "metadata": {
            "tags": []
          },
          "execution_count": 202
        }
      ]
    },
    {
      "cell_type": "code",
      "metadata": {
        "id": "zq-72xcLr9QA",
        "colab_type": "code",
        "colab": {
          "base_uri": "https://localhost:8080/",
          "height": 374
        },
        "outputId": "d3ab6ae4-7d47-4e07-bc47-192a885b6ce4"
      },
      "source": [
        "test_feature_df['label']=test_predicted_label\n",
        "test_feature_df['proba']=test_results\n",
        "\n",
        "test_feature_df.head()"
      ],
      "execution_count": null,
      "outputs": [
        {
          "output_type": "execute_result",
          "data": {
            "text/html": [
              "<div>\n",
              "<style scoped>\n",
              "    .dataframe tbody tr th:only-of-type {\n",
              "        vertical-align: middle;\n",
              "    }\n",
              "\n",
              "    .dataframe tbody tr th {\n",
              "        vertical-align: top;\n",
              "    }\n",
              "\n",
              "    .dataframe thead th {\n",
              "        text-align: right;\n",
              "    }\n",
              "</style>\n",
              "<table border=\"1\" class=\"dataframe\">\n",
              "  <thead>\n",
              "    <tr style=\"text-align: right;\">\n",
              "      <th></th>\n",
              "      <th>id</th>\n",
              "      <th>getty_caption</th>\n",
              "      <th>getty_tag</th>\n",
              "      <th>color_score</th>\n",
              "      <th>img_text</th>\n",
              "      <th>combined_text</th>\n",
              "      <th>hate_speech</th>\n",
              "      <th>offensive_language</th>\n",
              "      <th>neither</th>\n",
              "      <th>prediction</th>\n",
              "      <th>proba</th>\n",
              "      <th>label</th>\n",
              "    </tr>\n",
              "  </thead>\n",
              "  <tbody>\n",
              "    <tr>\n",
              "      <th>0</th>\n",
              "      <td>16395</td>\n",
              "      <td>Closeup portrait of a beautiful woman smiling ...</td>\n",
              "      <td>Looking At Camera   One Woman Only   Women   3...</td>\n",
              "      <td>18.282644</td>\n",
              "      <td>handjobs sold seperately</td>\n",
              "      <td>Closeup portrait of a beautiful woman smiling ...</td>\n",
              "      <td>0.149131</td>\n",
              "      <td>0.344875</td>\n",
              "      <td>0.505994</td>\n",
              "      <td>0</td>\n",
              "      <td>0.164456</td>\n",
              "      <td>0</td>\n",
              "    </tr>\n",
              "    <tr>\n",
              "      <th>1</th>\n",
              "      <td>37405</td>\n",
              "      <td>This picture was taken early in the morning in...</td>\n",
              "      <td>Amstel River   Amsterdam   Arch   Arch Bridge ...</td>\n",
              "      <td>9.970300</td>\n",
              "      <td>introducing fidget spinner for women</td>\n",
              "      <td>This picture was taken early in the morning in...</td>\n",
              "      <td>0.086252</td>\n",
              "      <td>0.301467</td>\n",
              "      <td>0.612281</td>\n",
              "      <td>1</td>\n",
              "      <td>0.424541</td>\n",
              "      <td>1</td>\n",
              "    </tr>\n",
              "    <tr>\n",
              "      <th>2</th>\n",
              "      <td>94180</td>\n",
              "      <td>Transexual gay whit hands in hair, standing up...</td>\n",
              "      <td>Cross Dressing   Transgender   Humour   Men   ...</td>\n",
              "      <td>10.257412</td>\n",
              "      <td>happy pride month let's go beat up lesbians</td>\n",
              "      <td>Transexual gay whit hands in hair, standing up...</td>\n",
              "      <td>0.142391</td>\n",
              "      <td>0.254497</td>\n",
              "      <td>0.603112</td>\n",
              "      <td>1</td>\n",
              "      <td>0.452507</td>\n",
              "      <td>1</td>\n",
              "    </tr>\n",
              "    <tr>\n",
              "      <th>3</th>\n",
              "      <td>54321</td>\n",
              "      <td>Shot of a sporty young couple out for a workout</td>\n",
              "      <td>Laughing   Exercising   Couple - Relationship ...</td>\n",
              "      <td>6.485984</td>\n",
              "      <td>laughs in [majority of u.s crime rate]</td>\n",
              "      <td>Shot of a sporty young couple out for a workou...</td>\n",
              "      <td>0.068924</td>\n",
              "      <td>0.354387</td>\n",
              "      <td>0.576689</td>\n",
              "      <td>1</td>\n",
              "      <td>0.633741</td>\n",
              "      <td>1</td>\n",
              "    </tr>\n",
              "    <tr>\n",
              "      <th>4</th>\n",
              "      <td>97015</td>\n",
              "      <td>Smiling male and female friend with eyes close...</td>\n",
              "      <td>18-19 Years   20-24 Years   Adult Adults Only ...</td>\n",
              "      <td>45.356488</td>\n",
              "      <td>finds out those 72 virgins.. are goats</td>\n",
              "      <td>Smiling male and female friend with eyes close...</td>\n",
              "      <td>0.131492</td>\n",
              "      <td>0.326618</td>\n",
              "      <td>0.541889</td>\n",
              "      <td>0</td>\n",
              "      <td>0.146220</td>\n",
              "      <td>0</td>\n",
              "    </tr>\n",
              "  </tbody>\n",
              "</table>\n",
              "</div>"
            ],
            "text/plain": [
              "      id                                      getty_caption  ...     proba  label\n",
              "0  16395  Closeup portrait of a beautiful woman smiling ...  ...  0.164456      0\n",
              "1  37405  This picture was taken early in the morning in...  ...  0.424541      1\n",
              "2  94180  Transexual gay whit hands in hair, standing up...  ...  0.452507      1\n",
              "3  54321    Shot of a sporty young couple out for a workout  ...  0.633741      1\n",
              "4  97015  Smiling male and female friend with eyes close...  ...  0.146220      0\n",
              "\n",
              "[5 rows x 12 columns]"
            ]
          },
          "metadata": {
            "tags": []
          },
          "execution_count": 206
        }
      ]
    },
    {
      "cell_type": "code",
      "metadata": {
        "id": "UuoC3IYWttN6",
        "colab_type": "code",
        "colab": {
          "base_uri": "https://localhost:8080/",
          "height": 750
        },
        "outputId": "96683ff0-009b-4a78-9bda-8e05805ed859"
      },
      "source": [
        "test_feature_df.tail(10)"
      ],
      "execution_count": null,
      "outputs": [
        {
          "output_type": "execute_result",
          "data": {
            "text/html": [
              "<div>\n",
              "<style scoped>\n",
              "    .dataframe tbody tr th:only-of-type {\n",
              "        vertical-align: middle;\n",
              "    }\n",
              "\n",
              "    .dataframe tbody tr th {\n",
              "        vertical-align: top;\n",
              "    }\n",
              "\n",
              "    .dataframe thead th {\n",
              "        text-align: right;\n",
              "    }\n",
              "</style>\n",
              "<table border=\"1\" class=\"dataframe\">\n",
              "  <thead>\n",
              "    <tr style=\"text-align: right;\">\n",
              "      <th></th>\n",
              "      <th>id</th>\n",
              "      <th>getty_caption</th>\n",
              "      <th>getty_tag</th>\n",
              "      <th>color_score</th>\n",
              "      <th>img_text</th>\n",
              "      <th>combined_text</th>\n",
              "      <th>hate_speech</th>\n",
              "      <th>offensive_language</th>\n",
              "      <th>neither</th>\n",
              "      <th>prediction</th>\n",
              "      <th>proba</th>\n",
              "      <th>label</th>\n",
              "    </tr>\n",
              "  </thead>\n",
              "  <tbody>\n",
              "    <tr>\n",
              "      <th>990</th>\n",
              "      <td>86173</td>\n",
              "      <td>A wide shot of a group of three young Asian fr...</td>\n",
              "      <td>Child   Examining   Boot   Cold Temperature   ...</td>\n",
              "      <td>39.565004</td>\n",
              "      <td>when i said i wanted a little pussy this is no...</td>\n",
              "      <td>A wide shot of a group of three young Asian fr...</td>\n",
              "      <td>0.042209</td>\n",
              "      <td>0.541440</td>\n",
              "      <td>0.416352</td>\n",
              "      <td>0</td>\n",
              "      <td>0.109032</td>\n",
              "      <td>0</td>\n",
              "    </tr>\n",
              "    <tr>\n",
              "      <th>991</th>\n",
              "      <td>50839</td>\n",
              "      <td>A group of business people are walking in the ...</td>\n",
              "      <td>30-39 Years   Adult Adults Only   Ankara - Tur...</td>\n",
              "      <td>23.405352</td>\n",
              "      <td>\"you think i'm a terrorist but i identify as a...</td>\n",
              "      <td>A group of business people are walking in the ...</td>\n",
              "      <td>0.098550</td>\n",
              "      <td>0.394753</td>\n",
              "      <td>0.506697</td>\n",
              "      <td>0</td>\n",
              "      <td>0.394321</td>\n",
              "      <td>0</td>\n",
              "    </tr>\n",
              "    <tr>\n",
              "      <th>992</th>\n",
              "      <td>31405</td>\n",
              "      <td>Photo taken in Goreme, Turkey</td>\n",
              "      <td>Ancient Civilisation   Asia   Beauty In Nature...</td>\n",
              "      <td>28.897868</td>\n",
              "      <td>\"they were uneducated false. they all had thei...</td>\n",
              "      <td>Photo taken in Goreme, Turkey Ancient Civilisa...</td>\n",
              "      <td>0.044195</td>\n",
              "      <td>0.338238</td>\n",
              "      <td>0.617567</td>\n",
              "      <td>1</td>\n",
              "      <td>0.487844</td>\n",
              "      <td>1</td>\n",
              "    </tr>\n",
              "    <tr>\n",
              "      <th>993</th>\n",
              "      <td>36421</td>\n",
              "      <td>Cropped shot of an attractive young woman usin...</td>\n",
              "      <td>Computer   Women   Laptop   One Woman Only   H...</td>\n",
              "      <td>102.482232</td>\n",
              "      <td>freakin white people... so annoying.</td>\n",
              "      <td>Cropped shot of an attractive young woman usin...</td>\n",
              "      <td>0.075075</td>\n",
              "      <td>0.508427</td>\n",
              "      <td>0.416498</td>\n",
              "      <td>0</td>\n",
              "      <td>0.186952</td>\n",
              "      <td>0</td>\n",
              "    </tr>\n",
              "    <tr>\n",
              "      <th>994</th>\n",
              "      <td>79405</td>\n",
              "      <td>Beijing,China</td>\n",
              "      <td>30-39 Years   Adult Boys   Budapest   Casual C...</td>\n",
              "      <td>29.615308</td>\n",
              "      <td>congress is now stronger than ever to fight te...</td>\n",
              "      <td>Beijing,China 30-39 Years   Adult Boys   Budap...</td>\n",
              "      <td>0.045195</td>\n",
              "      <td>0.381714</td>\n",
              "      <td>0.573091</td>\n",
              "      <td>0</td>\n",
              "      <td>0.038173</td>\n",
              "      <td>0</td>\n",
              "    </tr>\n",
              "    <tr>\n",
              "      <th>995</th>\n",
              "      <td>3869</td>\n",
              "      <td>nan</td>\n",
              "      <td>Baby   Flower   Animal   Animal Family   Beaut...</td>\n",
              "      <td>1.097940</td>\n",
              "      <td>a mother's love for the child is a divine thing</td>\n",
              "      <td>nan Baby   Flower   Animal   Animal Family   B...</td>\n",
              "      <td>0.043127</td>\n",
              "      <td>0.305570</td>\n",
              "      <td>0.651303</td>\n",
              "      <td>0</td>\n",
              "      <td>0.027279</td>\n",
              "      <td>0</td>\n",
              "    </tr>\n",
              "    <tr>\n",
              "      <th>996</th>\n",
              "      <td>23817</td>\n",
              "      <td>nan</td>\n",
              "      <td>Animal Themes   Asia   Close-Up   Colour Image...</td>\n",
              "      <td>10.965708</td>\n",
              "      <td>sea monkeys</td>\n",
              "      <td>nan Animal Themes   Asia   Close-Up   Colour I...</td>\n",
              "      <td>0.047398</td>\n",
              "      <td>0.279789</td>\n",
              "      <td>0.672813</td>\n",
              "      <td>0</td>\n",
              "      <td>0.013908</td>\n",
              "      <td>0</td>\n",
              "    </tr>\n",
              "    <tr>\n",
              "      <th>997</th>\n",
              "      <td>56280</td>\n",
              "      <td>nan</td>\n",
              "      <td>Coworker   Hand   Togetherness   Working   30-...</td>\n",
              "      <td>18.604428</td>\n",
              "      <td>little miss muffet sat on her tuffet</td>\n",
              "      <td>nan Coworker   Hand   Togetherness   Working  ...</td>\n",
              "      <td>0.171986</td>\n",
              "      <td>0.314214</td>\n",
              "      <td>0.513799</td>\n",
              "      <td>0</td>\n",
              "      <td>0.041246</td>\n",
              "      <td>0</td>\n",
              "    </tr>\n",
              "    <tr>\n",
              "      <th>998</th>\n",
              "      <td>29384</td>\n",
              "      <td>row of trash can</td>\n",
              "      <td>Dustbin   Container   Environment   Horizontal...</td>\n",
              "      <td>10.998736</td>\n",
              "      <td>they're in a row</td>\n",
              "      <td>row of trash can Dustbin   Container   Environ...</td>\n",
              "      <td>0.045037</td>\n",
              "      <td>0.263150</td>\n",
              "      <td>0.691813</td>\n",
              "      <td>0</td>\n",
              "      <td>0.008169</td>\n",
              "      <td>0</td>\n",
              "    </tr>\n",
              "    <tr>\n",
              "      <th>999</th>\n",
              "      <td>34127</td>\n",
              "      <td>Arab man taking a selfie with his son on the s...</td>\n",
              "      <td>Domestic Life   Family   Residential Building ...</td>\n",
              "      <td>10.209960</td>\n",
              "      <td>that feeling when you win a fifa game after be...</td>\n",
              "      <td>Arab man taking a selfie with his son on the s...</td>\n",
              "      <td>0.044748</td>\n",
              "      <td>0.371930</td>\n",
              "      <td>0.583322</td>\n",
              "      <td>1</td>\n",
              "      <td>0.622442</td>\n",
              "      <td>1</td>\n",
              "    </tr>\n",
              "  </tbody>\n",
              "</table>\n",
              "</div>"
            ],
            "text/plain": [
              "        id                                      getty_caption  ...     proba  label\n",
              "990  86173  A wide shot of a group of three young Asian fr...  ...  0.109032      0\n",
              "991  50839  A group of business people are walking in the ...  ...  0.394321      0\n",
              "992  31405                      Photo taken in Goreme, Turkey  ...  0.487844      1\n",
              "993  36421  Cropped shot of an attractive young woman usin...  ...  0.186952      0\n",
              "994  79405                                      Beijing,China  ...  0.038173      0\n",
              "995   3869                                                nan  ...  0.027279      0\n",
              "996  23817                                                nan  ...  0.013908      0\n",
              "997  56280                                                nan  ...  0.041246      0\n",
              "998  29384                                   row of trash can  ...  0.008169      0\n",
              "999  34127  Arab man taking a selfie with his son on the s...  ...  0.622442      1\n",
              "\n",
              "[10 rows x 12 columns]"
            ]
          },
          "metadata": {
            "tags": []
          },
          "execution_count": 210
        }
      ]
    },
    {
      "cell_type": "code",
      "metadata": {
        "id": "gML67xV2tyxp",
        "colab_type": "code",
        "colab": {
          "base_uri": "https://localhost:8080/",
          "height": 68
        },
        "outputId": "4e21f2cf-71fc-409f-dd32-5a4e0d41507a"
      },
      "source": [
        "test_feature_df.prediction.value_counts()"
      ],
      "execution_count": null,
      "outputs": [
        {
          "output_type": "execute_result",
          "data": {
            "text/plain": [
              "0    751\n",
              "1    249\n",
              "Name: prediction, dtype: int64"
            ]
          },
          "metadata": {
            "tags": []
          },
          "execution_count": 205
        }
      ]
    },
    {
      "cell_type": "code",
      "metadata": {
        "id": "fopb1rT-t31z",
        "colab_type": "code",
        "colab": {}
      },
      "source": [
        "test_feature_df[['id','proba','label']].to_csv(\"/content/gdrive/My Drive/colab/data_sources/hateful_memes/test_20200816_v1.csv\")"
      ],
      "execution_count": null,
      "outputs": []
    },
    {
      "cell_type": "code",
      "metadata": {
        "id": "__Mbf45Cwa6o",
        "colab_type": "code",
        "colab": {}
      },
      "source": [
        "test_feature_df.to_csv(\"/content/gdrive/My Drive/colab/data_sources/hateful_memes/test_error_analysis_20200816_v1.csv\", index=False)"
      ],
      "execution_count": null,
      "outputs": []
    },
    {
      "cell_type": "code",
      "metadata": {
        "id": "_qek8UeMy168",
        "colab_type": "code",
        "colab": {}
      },
      "source": [
        "# this seems helpful for classifying celebrities \n",
        "# https://cloud.google.com/vision/docs/celebrity-recognition"
      ],
      "execution_count": null,
      "outputs": []
    }
  ]
}
=======
 "cells": [
  {
   "cell_type": "markdown",
   "metadata": {
    "colab_type": "text",
    "id": "W3QkobJM9osJ"
   },
   "source": [
    "## Load Packages"
   ]
  },
  {
   "cell_type": "code",
   "execution_count": 1,
   "metadata": {
    "colab": {
     "base_uri": "https://localhost:8080/",
     "height": 1000
    },
    "colab_type": "code",
    "id": "7nYbKva0wOca",
    "outputId": "daebc4f9-0af9-4447-fa0d-5e78490ea754"
   },
   "outputs": [
    {
     "name": "stdout",
     "output_type": "stream",
     "text": [
      "Requirement already satisfied: sentence-transformers in /usr/local/lib/python3.6/dist-packages (0.3.3)\n",
      "Requirement already satisfied: scikit-learn in /usr/local/lib/python3.6/dist-packages (from sentence-transformers) (0.22.2.post1)\n",
      "Requirement already satisfied: torch>=1.2.0 in /usr/local/lib/python3.6/dist-packages (from sentence-transformers) (1.6.0+cu101)\n",
      "Requirement already satisfied: nltk in /usr/local/lib/python3.6/dist-packages (from sentence-transformers) (3.2.5)\n",
      "Requirement already satisfied: scipy in /usr/local/lib/python3.6/dist-packages (from sentence-transformers) (1.4.1)\n",
      "Requirement already satisfied: transformers>=3.0.2 in /usr/local/lib/python3.6/dist-packages (from sentence-transformers) (3.0.2)\n",
      "Requirement already satisfied: tqdm in /usr/local/lib/python3.6/dist-packages (from sentence-transformers) (4.41.1)\n",
      "Requirement already satisfied: numpy in /usr/local/lib/python3.6/dist-packages (from sentence-transformers) (1.18.5)\n",
      "Requirement already satisfied: joblib>=0.11 in /usr/local/lib/python3.6/dist-packages (from scikit-learn->sentence-transformers) (0.16.0)\n",
      "Requirement already satisfied: future in /usr/local/lib/python3.6/dist-packages (from torch>=1.2.0->sentence-transformers) (0.16.0)\n",
      "Requirement already satisfied: six in /usr/local/lib/python3.6/dist-packages (from nltk->sentence-transformers) (1.15.0)\n",
      "Requirement already satisfied: requests in /usr/local/lib/python3.6/dist-packages (from transformers>=3.0.2->sentence-transformers) (2.23.0)\n",
      "Requirement already satisfied: dataclasses; python_version < \"3.7\" in /usr/local/lib/python3.6/dist-packages (from transformers>=3.0.2->sentence-transformers) (0.7)\n",
      "Requirement already satisfied: tokenizers==0.8.1.rc1 in /usr/local/lib/python3.6/dist-packages (from transformers>=3.0.2->sentence-transformers) (0.8.1rc1)\n",
      "Requirement already satisfied: sacremoses in /usr/local/lib/python3.6/dist-packages (from transformers>=3.0.2->sentence-transformers) (0.0.43)\n",
      "Requirement already satisfied: packaging in /usr/local/lib/python3.6/dist-packages (from transformers>=3.0.2->sentence-transformers) (20.4)\n",
      "Requirement already satisfied: filelock in /usr/local/lib/python3.6/dist-packages (from transformers>=3.0.2->sentence-transformers) (3.0.12)\n",
      "Requirement already satisfied: sentencepiece!=0.1.92 in /usr/local/lib/python3.6/dist-packages (from transformers>=3.0.2->sentence-transformers) (0.1.91)\n",
      "Requirement already satisfied: regex!=2019.12.17 in /usr/local/lib/python3.6/dist-packages (from transformers>=3.0.2->sentence-transformers) (2019.12.20)\n",
      "Requirement already satisfied: urllib3!=1.25.0,!=1.25.1,<1.26,>=1.21.1 in /usr/local/lib/python3.6/dist-packages (from requests->transformers>=3.0.2->sentence-transformers) (1.24.3)\n",
      "Requirement already satisfied: chardet<4,>=3.0.2 in /usr/local/lib/python3.6/dist-packages (from requests->transformers>=3.0.2->sentence-transformers) (3.0.4)\n",
      "Requirement already satisfied: idna<3,>=2.5 in /usr/local/lib/python3.6/dist-packages (from requests->transformers>=3.0.2->sentence-transformers) (2.10)\n",
      "Requirement already satisfied: certifi>=2017.4.17 in /usr/local/lib/python3.6/dist-packages (from requests->transformers>=3.0.2->sentence-transformers) (2020.6.20)\n",
      "Requirement already satisfied: click in /usr/local/lib/python3.6/dist-packages (from sacremoses->transformers>=3.0.2->sentence-transformers) (7.1.2)\n",
      "Requirement already satisfied: pyparsing>=2.0.2 in /usr/local/lib/python3.6/dist-packages (from packaging->transformers>=3.0.2->sentence-transformers) (2.4.7)\n",
      "Requirement already satisfied: fer in /usr/local/lib/python3.6/dist-packages (20.0.0)\n",
      "Requirement already satisfied: opencv-contrib-python in /usr/local/lib/python3.6/dist-packages (from fer) (4.1.2.30)\n",
      "Requirement already satisfied: matplotlib in /usr/local/lib/python3.6/dist-packages (from fer) (3.2.2)\n",
      "Requirement already satisfied: tensorflow>=1.14 in /usr/local/lib/python3.6/dist-packages (from fer) (2.3.0)\n",
      "Requirement already satisfied: mtcnn>=0.1.0 in /usr/local/lib/python3.6/dist-packages (from fer) (0.1.0)\n",
      "Requirement already satisfied: pandas in /usr/local/lib/python3.6/dist-packages (from fer) (1.0.5)\n",
      "Requirement already satisfied: requests in /usr/local/lib/python3.6/dist-packages (from fer) (2.23.0)\n",
      "Requirement already satisfied: keras in /usr/local/lib/python3.6/dist-packages (from fer) (2.4.3)\n",
      "Requirement already satisfied: numpy>=1.11.3 in /usr/local/lib/python3.6/dist-packages (from opencv-contrib-python->fer) (1.18.5)\n",
      "Requirement already satisfied: cycler>=0.10 in /usr/local/lib/python3.6/dist-packages (from matplotlib->fer) (0.10.0)\n",
      "Requirement already satisfied: pyparsing!=2.0.4,!=2.1.2,!=2.1.6,>=2.0.1 in /usr/local/lib/python3.6/dist-packages (from matplotlib->fer) (2.4.7)\n",
      "Requirement already satisfied: python-dateutil>=2.1 in /usr/local/lib/python3.6/dist-packages (from matplotlib->fer) (2.8.1)\n",
      "Requirement already satisfied: kiwisolver>=1.0.1 in /usr/local/lib/python3.6/dist-packages (from matplotlib->fer) (1.2.0)\n",
      "Requirement already satisfied: opt-einsum>=2.3.2 in /usr/local/lib/python3.6/dist-packages (from tensorflow>=1.14->fer) (3.3.0)\n",
      "Requirement already satisfied: tensorboard<3,>=2.3.0 in /usr/local/lib/python3.6/dist-packages (from tensorflow>=1.14->fer) (2.3.0)\n",
      "Requirement already satisfied: wrapt>=1.11.1 in /usr/local/lib/python3.6/dist-packages (from tensorflow>=1.14->fer) (1.12.1)\n",
      "Requirement already satisfied: termcolor>=1.1.0 in /usr/local/lib/python3.6/dist-packages (from tensorflow>=1.14->fer) (1.1.0)\n",
      "Requirement already satisfied: six>=1.12.0 in /usr/local/lib/python3.6/dist-packages (from tensorflow>=1.14->fer) (1.15.0)\n",
      "Requirement already satisfied: tensorflow-estimator<2.4.0,>=2.3.0 in /usr/local/lib/python3.6/dist-packages (from tensorflow>=1.14->fer) (2.3.0)\n",
      "Requirement already satisfied: protobuf>=3.9.2 in /usr/local/lib/python3.6/dist-packages (from tensorflow>=1.14->fer) (3.12.4)\n",
      "Requirement already satisfied: wheel>=0.26 in /usr/local/lib/python3.6/dist-packages (from tensorflow>=1.14->fer) (0.34.2)\n",
      "Requirement already satisfied: keras-preprocessing<1.2,>=1.1.1 in /usr/local/lib/python3.6/dist-packages (from tensorflow>=1.14->fer) (1.1.2)\n",
      "Requirement already satisfied: google-pasta>=0.1.8 in /usr/local/lib/python3.6/dist-packages (from tensorflow>=1.14->fer) (0.2.0)\n",
      "Requirement already satisfied: absl-py>=0.7.0 in /usr/local/lib/python3.6/dist-packages (from tensorflow>=1.14->fer) (0.9.0)\n",
      "Requirement already satisfied: gast==0.3.3 in /usr/local/lib/python3.6/dist-packages (from tensorflow>=1.14->fer) (0.3.3)\n",
      "Requirement already satisfied: h5py<2.11.0,>=2.10.0 in /usr/local/lib/python3.6/dist-packages (from tensorflow>=1.14->fer) (2.10.0)\n",
      "Requirement already satisfied: grpcio>=1.8.6 in /usr/local/lib/python3.6/dist-packages (from tensorflow>=1.14->fer) (1.31.0)\n",
      "Requirement already satisfied: scipy==1.4.1 in /usr/local/lib/python3.6/dist-packages (from tensorflow>=1.14->fer) (1.4.1)\n",
      "Requirement already satisfied: astunparse==1.6.3 in /usr/local/lib/python3.6/dist-packages (from tensorflow>=1.14->fer) (1.6.3)\n",
      "Requirement already satisfied: opencv-python>=4.1.0 in /usr/local/lib/python3.6/dist-packages (from mtcnn>=0.1.0->fer) (4.1.2.30)\n",
      "Requirement already satisfied: pytz>=2017.2 in /usr/local/lib/python3.6/dist-packages (from pandas->fer) (2018.9)\n",
      "Requirement already satisfied: chardet<4,>=3.0.2 in /usr/local/lib/python3.6/dist-packages (from requests->fer) (3.0.4)\n",
      "Requirement already satisfied: idna<3,>=2.5 in /usr/local/lib/python3.6/dist-packages (from requests->fer) (2.10)\n",
      "Requirement already satisfied: certifi>=2017.4.17 in /usr/local/lib/python3.6/dist-packages (from requests->fer) (2020.6.20)\n",
      "Requirement already satisfied: urllib3!=1.25.0,!=1.25.1,<1.26,>=1.21.1 in /usr/local/lib/python3.6/dist-packages (from requests->fer) (1.24.3)\n",
      "Requirement already satisfied: pyyaml in /usr/local/lib/python3.6/dist-packages (from keras->fer) (3.13)\n",
      "Requirement already satisfied: google-auth-oauthlib<0.5,>=0.4.1 in /usr/local/lib/python3.6/dist-packages (from tensorboard<3,>=2.3.0->tensorflow>=1.14->fer) (0.4.1)\n",
      "Requirement already satisfied: tensorboard-plugin-wit>=1.6.0 in /usr/local/lib/python3.6/dist-packages (from tensorboard<3,>=2.3.0->tensorflow>=1.14->fer) (1.7.0)\n",
      "Requirement already satisfied: google-auth<2,>=1.6.3 in /usr/local/lib/python3.6/dist-packages (from tensorboard<3,>=2.3.0->tensorflow>=1.14->fer) (1.17.2)\n",
      "Requirement already satisfied: werkzeug>=0.11.15 in /usr/local/lib/python3.6/dist-packages (from tensorboard<3,>=2.3.0->tensorflow>=1.14->fer) (1.0.1)\n",
      "Requirement already satisfied: setuptools>=41.0.0 in /usr/local/lib/python3.6/dist-packages (from tensorboard<3,>=2.3.0->tensorflow>=1.14->fer) (49.2.0)\n",
      "Requirement already satisfied: markdown>=2.6.8 in /usr/local/lib/python3.6/dist-packages (from tensorboard<3,>=2.3.0->tensorflow>=1.14->fer) (3.2.2)\n",
      "Requirement already satisfied: requests-oauthlib>=0.7.0 in /usr/local/lib/python3.6/dist-packages (from google-auth-oauthlib<0.5,>=0.4.1->tensorboard<3,>=2.3.0->tensorflow>=1.14->fer) (1.3.0)\n",
      "Requirement already satisfied: pyasn1-modules>=0.2.1 in /usr/local/lib/python3.6/dist-packages (from google-auth<2,>=1.6.3->tensorboard<3,>=2.3.0->tensorflow>=1.14->fer) (0.2.8)\n",
      "Requirement already satisfied: cachetools<5.0,>=2.0.0 in /usr/local/lib/python3.6/dist-packages (from google-auth<2,>=1.6.3->tensorboard<3,>=2.3.0->tensorflow>=1.14->fer) (4.1.1)\n",
      "Requirement already satisfied: rsa<5,>=3.1.4; python_version >= \"3\" in /usr/local/lib/python3.6/dist-packages (from google-auth<2,>=1.6.3->tensorboard<3,>=2.3.0->tensorflow>=1.14->fer) (4.6)\n",
      "Requirement already satisfied: importlib-metadata; python_version < \"3.8\" in /usr/local/lib/python3.6/dist-packages (from markdown>=2.6.8->tensorboard<3,>=2.3.0->tensorflow>=1.14->fer) (1.7.0)\n",
      "Requirement already satisfied: oauthlib>=3.0.0 in /usr/local/lib/python3.6/dist-packages (from requests-oauthlib>=0.7.0->google-auth-oauthlib<0.5,>=0.4.1->tensorboard<3,>=2.3.0->tensorflow>=1.14->fer) (3.1.0)\n",
      "Requirement already satisfied: pyasn1<0.5.0,>=0.4.6 in /usr/local/lib/python3.6/dist-packages (from pyasn1-modules>=0.2.1->google-auth<2,>=1.6.3->tensorboard<3,>=2.3.0->tensorflow>=1.14->fer) (0.4.8)\n",
      "Requirement already satisfied: zipp>=0.5 in /usr/local/lib/python3.6/dist-packages (from importlib-metadata; python_version < \"3.8\"->markdown>=2.6.8->tensorboard<3,>=2.3.0->tensorflow>=1.14->fer) (3.1.0)\n",
      "Requirement already satisfied: torchvision in /usr/local/lib/python3.6/dist-packages (0.7.0+cu101)\n",
      "Requirement already satisfied: pillow>=4.1.1 in /usr/local/lib/python3.6/dist-packages (from torchvision) (7.0.0)\n",
      "Requirement already satisfied: numpy in /usr/local/lib/python3.6/dist-packages (from torchvision) (1.18.5)\n",
      "Requirement already satisfied: torch==1.6.0 in /usr/local/lib/python3.6/dist-packages (from torchvision) (1.6.0+cu101)\n",
      "Requirement already satisfied: future in /usr/local/lib/python3.6/dist-packages (from torch==1.6.0->torchvision) (0.16.0)\n"
     ]
    }
   ],
   "source": [
    "!pip install sentence-transformers\n",
    "!pip install fer\n",
    "!pip install torchvision\n",
    "from sentence_transformers import SentenceTransformer"
   ]
  },
  {
   "cell_type": "code",
   "execution_count": 2,
   "metadata": {
    "colab": {
     "base_uri": "https://localhost:8080/",
     "height": 71
    },
    "colab_type": "code",
    "id": "38xIUfQS7d-1",
    "outputId": "96670db2-771a-48a9-a77c-de42099dffff"
   },
   "outputs": [
    {
     "name": "stderr",
     "output_type": "stream",
     "text": [
      "/usr/local/lib/python3.6/dist-packages/statsmodels/tools/_testing.py:19: FutureWarning: pandas.util.testing is deprecated. Use the functions in the public API at pandas.testing instead.\n",
      "  import pandas.util.testing as tm\n"
     ]
    }
   ],
   "source": [
    "import numpy as np\n",
    "import pandas as pd\n",
    "import matplotlib.pyplot as plt\n",
    "import torch\n",
    "import torchvision\n",
    "import torchvision.models as models\n",
    "from torchvision import transforms\n",
    "import seaborn as sns\n",
    "import json\n",
    "import cv2\n",
    "import torch.nn as nn\n",
    "import torch.nn.functional as F\n",
    "import pandas as pd\n",
    "from torch.utils import data as data_torch\n",
    "from PIL import Image\n",
    "\n",
    "\n",
    "\n",
    "import os\n",
    "from sklearn.metrics import confusion_matrix\n",
    "from sklearn.metrics import accuracy_score"
   ]
  },
  {
   "cell_type": "code",
   "execution_count": 4,
   "metadata": {
    "colab": {
     "base_uri": "https://localhost:8080/",
     "height": 34
    },
    "colab_type": "code",
    "id": "hW7mNGBL7hD9",
    "outputId": "b16548d0-60a1-4ec3-bde3-845cba5886a4"
   },
   "outputs": [
    {
     "name": "stderr",
     "output_type": "stream",
     "text": [
      "100%|██████████| 405M/405M [00:23<00:00, 17.2MB/s]\n"
     ]
    }
   ],
   "source": [
    "model_text=SentenceTransformer('bert-base-nli-mean-tokens')\n",
    "#model_text=SentenceTransformer('roberta-large-nli-stsb-mean-tokens')"
   ]
  },
  {
   "cell_type": "code",
   "execution_count": null,
   "metadata": {
    "colab": {},
    "colab_type": "code",
    "id": "1T-v5dP7DkT-"
   },
   "outputs": [],
   "source": [
    "# from transformers import GPT2LMHeadModel, GPT2Tokenizer\n",
    "\n",
    "# model = GPT2LMHeadModel.from_pretrained('gpt2')  # or any other checkpoint\n",
    "# word_embeddings = model.transformer.wte.weight  # Word Token Embeddings \n",
    "# position_embeddings = model.transformer.wpe.weight  # Word Position Embeddings "
   ]
  },
  {
   "cell_type": "code",
   "execution_count": null,
   "metadata": {
    "colab": {},
    "colab_type": "code",
    "id": "UNBLoenCEIkp"
   },
   "outputs": [],
   "source": [
    "# tokenizer = GPT2Tokenizer.from_pretrained('gpt2')\n",
    "# text_index = tokenizer.encode('poop time',add_prefix_space=True)\n",
    "# vector = model.transformer.wte.weight[text_index,:]\n",
    "# # read this https://github.com/huggingface/transformers/issues/3168"
   ]
  },
  {
   "cell_type": "code",
   "execution_count": null,
   "metadata": {
    "colab": {},
    "colab_type": "code",
    "id": "PezjHaPxEZle"
   },
   "outputs": [],
   "source": [
    "# vector.shape"
   ]
  },
  {
   "cell_type": "code",
   "execution_count": 5,
   "metadata": {
    "colab": {
     "base_uri": "https://localhost:8080/",
     "height": 122
    },
    "colab_type": "code",
    "id": "aM83PByG8R9S",
    "outputId": "cb4d2fa9-a359-4a89-90a8-a4dd48f597e7"
   },
   "outputs": [
    {
     "name": "stdout",
     "output_type": "stream",
     "text": [
      "Go to this URL in a browser: https://accounts.google.com/o/oauth2/auth?client_id=947318989803-6bn6qk8qdgf4n4g3pfee6491hc0brc4i.apps.googleusercontent.com&redirect_uri=urn%3aietf%3awg%3aoauth%3a2.0%3aoob&scope=email%20https%3a%2f%2fwww.googleapis.com%2fauth%2fdocs.test%20https%3a%2f%2fwww.googleapis.com%2fauth%2fdrive%20https%3a%2f%2fwww.googleapis.com%2fauth%2fdrive.photos.readonly%20https%3a%2f%2fwww.googleapis.com%2fauth%2fpeopleapi.readonly&response_type=code\n",
      "\n",
      "Enter your authorization code:\n",
      "··········\n",
      "Mounted at /content/gdrive\n"
     ]
    }
   ],
   "source": [
    "from google.colab import drive\n",
    "drive.mount('/content/gdrive')\n",
    "saved_path='/content/gdrive/My Drive/colab/data_sources/'\n",
    "import os"
   ]
  },
  {
   "cell_type": "code",
   "execution_count": 9,
   "metadata": {
    "colab": {},
    "colab_type": "code",
    "id": "yR6HlBUH8dm-"
   },
   "outputs": [],
   "source": [
    "# image_ex_path=\"/content/gdrive/My Drive/colab/data_sources/hateful_memes/img/01235.png\"\n",
    "# data_ex_path=\"/content/gdrive/My Drive/colab/data_sources/hateful_memes/train.jsonl\"\n",
    "# # bert_path=\"~/Documents/hateful_memes/Hateful_Memes_Project/ExampleProject/data/language_models/bert_base\""
   ]
  },
  {
   "cell_type": "code",
   "execution_count": 6,
   "metadata": {
    "colab": {},
    "colab_type": "code",
    "id": "7hR_SfAe7oTq"
   },
   "outputs": [],
   "source": [
    "path = \"/content/gdrive/My Drive/colab/data_sources/hateful_memes/img/*.png\"\n"
   ]
  },
  {
   "cell_type": "markdown",
   "metadata": {
    "colab_type": "text",
    "id": "9nXaJyAe9tco"
   },
   "source": [
    "## Define Feature Extraction Methods"
   ]
  },
  {
   "cell_type": "code",
   "execution_count": 7,
   "metadata": {
    "colab": {},
    "colab_type": "code",
    "id": "x5VBW9L8aZrC"
   },
   "outputs": [],
   "source": [
    "def extract_image_features_stupid(data, model, size):\n",
    "    '''\n",
    "    THIS NEEDS TO BE DONE IN BATCHES OR YOU'LL RUN OUT OF MEMORY\n",
    "    Converts. resnet features about. animals for use in our meme model \n",
    "    '''\n",
    "    transform = transforms.Compose(\n",
    "    [transforms.Resize(size),transforms.ToTensor(),\n",
    "     transforms.Normalize((0.5, 0.5, 0.5), (0.5, 0.5, 0.5))])\n",
    "    \n",
    "    image_transformed=torch.empty(len(data),3,size[0],size[1])\n",
    "    \n",
    "    for image_counter in range(len(data)):  \n",
    "        img_mod=transform(data[image_counter]) \n",
    "        image_transformed[image_counter]=img_mod\n",
    "        image_transformed[image_counter]\n",
    "    \n",
    "    return model(image_transformed).detach()\n"
   ]
  },
  {
   "cell_type": "code",
   "execution_count": 8,
   "metadata": {
    "colab": {},
    "colab_type": "code",
    "id": "FuTpGBQR3aGh"
   },
   "outputs": [],
   "source": [
    "def extract_image_features_rcnn(data, threshold):\n",
    "    '''\n",
    "    '''\n",
    "    import json\n",
    "    with open('/content/gdrive/My Drive/colab/data_sources/hateful_memes/rcnn_mapping.json') as f:\n",
    "      rcnn_mapping = json.load(f)\n",
    "    \n",
    "    with open('/content/gdrive/My Drive/colab/data_sources/hateful_memes/img_rcnn_data.json') as f:\n",
    "      img_data = json.load(f)\n",
    "\n",
    "    img_rcnn_features=[]\n",
    "    \n",
    "    for img in data:\n",
    "      # print(img.get('img'))\n",
    "\n",
    "      file_name=os.path.basename(img.get('img'))\n",
    "      img_features=img_data.get(file_name)\n",
    "\n",
    "      img_feature_list=[]\n",
    "\n",
    "      try:\n",
    "        for feature in img_features:\n",
    "          # print(file_name, feature)\n",
    "          if feature[1]>=threshold:\n",
    "            img_feature_list.append(rcnn_mapping.get(str(feature[0])))\n",
    "      except:\n",
    "        pass\n",
    "      # print(img_feature_list)\n",
    "      # img_rcnn_features[file_name]=img_feature_list\n",
    "      img_feature_str = ''.join(img_feature_list)\n",
    "      img_rcnn_features.append(img_feature_str)\n",
    "    # img_features=rcnn_mapping.get(file_name)\n",
    "    # print(file_name, img_features)\n",
    "    return extract_text_features_simple([d for d in img_rcnn_features],model_text)\n",
    "    \n",
    "    "
   ]
  },
  {
   "cell_type": "code",
   "execution_count": 9,
   "metadata": {
    "colab": {},
    "colab_type": "code",
    "id": "ojG-c9JZaZvZ"
   },
   "outputs": [],
   "source": [
    "def extract_text_features_simple(data, model):\n",
    "    return model.encode(data)\n"
   ]
  },
  {
   "cell_type": "code",
   "execution_count": 10,
   "metadata": {
    "colab": {},
    "colab_type": "code",
    "id": "_ZCepb3UabSp"
   },
   "outputs": [],
   "source": [
    "def writeFiles(path:str,title:str,desc:[[]],  img_features:[[]],numpy_form_txts:[[]], getty_caption_numpy_form_txts:[[]], getty_tag_numpy_form_txts:[[]]\n",
    "               ):\n",
    "\n",
    "    results=pd.DataFrame(numpy_form_txts)\n",
    "    results.to_csv(os.path.join(path,title+\"text_features.csv\"),sep=\",\")\n",
    "    \n",
    "    results=pd.DataFrame(desc)\n",
    "    results.to_csv(os.path.join(path,title+\"description.csv\"),sep=\",\")\n",
    "    \n",
    "    results=pd.DataFrame(img_features)\n",
    "    results.to_csv(os.path.join(path,title+\"image_features.csv\"),sep=\",\")\n",
    "\n",
    "    results=pd.DataFrame(getty_caption_numpy_form_txts)\n",
    "    results.to_csv(os.path.join(path,title+\"getty_caption_features.csv\"),sep=\",\")\n",
    "\n",
    "    results=pd.DataFrame(getty_tag_numpy_form_txts)\n",
    "    results.to_csv(os.path.join(path,title+\"getty_tag_features.csv\"),sep=\",\")\n"
   ]
  },
  {
   "cell_type": "code",
   "execution_count": 11,
   "metadata": {
    "colab": {},
    "colab_type": "code",
    "id": "ohTj6c1bbcVQ"
   },
   "outputs": [],
   "source": [
    "image_ex_path=\"/content/gdrive/My Drive/colab/data_sources/hateful_memes/\"\n",
    "data_ex_path=\"/content/gdrive/My Drive/colab/data_sources/hateful_memes/train.jsonl\"\n",
    "    # bert_path=\"/home/jupyter/ThreeDAnime/bert_folder\"\n",
    "featurized_data_path=\"/content/gdrive/My Drive/colab/data_sources/hateful_memes/\"\n",
    "inception = models.resnet18()\n",
    "\n",
    "data = []\n",
    "\n",
    "with open(data_ex_path) as f:\n",
    "  for el in f:\n",
    "    data.append(json.loads(el))"
   ]
  },
  {
   "cell_type": "code",
   "execution_count": 12,
   "metadata": {
    "colab": {
     "base_uri": "https://localhost:8080/",
     "height": 0
    },
    "colab_type": "code",
    "id": "tMbrOu7vbpNw",
    "outputId": "a28794ed-ccd9-4aa2-e42b-4345424d29a7"
   },
   "outputs": [
    {
     "data": {
      "text/plain": [
       "8500"
      ]
     },
     "execution_count": 12,
     "metadata": {
      "tags": []
     },
     "output_type": "execute_result"
    }
   ],
   "source": [
    "# data=data[0:20]\n",
    "len(data)"
   ]
  },
  {
   "cell_type": "markdown",
   "metadata": {
    "colab_type": "text",
    "id": "8CdNVoSQXoaf"
   },
   "source": [
    "## Experiment with FER Emotion Labels"
   ]
  },
  {
   "cell_type": "code",
   "execution_count": null,
   "metadata": {
    "colab": {
     "base_uri": "https://localhost:8080/",
     "height": 258
    },
    "colab_type": "code",
    "id": "gAgpba2aAi7C",
    "outputId": "52546ba0-4e6a-443d-bea2-294a6447dd5a"
   },
   "outputs": [
    {
     "name": "stdout",
     "output_type": "stream",
     "text": [
      "WARNING:tensorflow:From /usr/local/lib/python3.6/dist-packages/tensorflow/python/compat/v2_compat.py:96: disable_resource_variables (from tensorflow.python.ops.variable_scope) is deprecated and will be removed in a future version.\n",
      "Instructions for updating:\n",
      "non-resource variables are not supported in the long term\n"
     ]
    },
    {
     "name": "stderr",
     "output_type": "stream",
     "text": [
      "WARNING:tensorflow:From /usr/local/lib/python3.6/dist-packages/tensorflow/python/compat/v2_compat.py:96: disable_resource_variables (from tensorflow.python.ops.variable_scope) is deprecated and will be removed in a future version.\n",
      "Instructions for updating:\n",
      "non-resource variables are not supported in the long term\n"
     ]
    },
    {
     "name": "stdout",
     "output_type": "stream",
     "text": [
      "WARNING:tensorflow:From /usr/local/lib/python3.6/dist-packages/tensorflow/python/ops/resource_variable_ops.py:1666: calling BaseResourceVariable.__init__ (from tensorflow.python.ops.resource_variable_ops) with constraint is deprecated and will be removed in a future version.\n",
      "Instructions for updating:\n",
      "If using Keras pass *_constraint arguments to layers.\n"
     ]
    },
    {
     "name": "stderr",
     "output_type": "stream",
     "text": [
      "WARNING:tensorflow:From /usr/local/lib/python3.6/dist-packages/tensorflow/python/ops/resource_variable_ops.py:1666: calling BaseResourceVariable.__init__ (from tensorflow.python.ops.resource_variable_ops) with constraint is deprecated and will be removed in a future version.\n",
      "Instructions for updating:\n",
      "If using Keras pass *_constraint arguments to layers.\n"
     ]
    },
    {
     "name": "stdout",
     "output_type": "stream",
     "text": [
      "[]\n"
     ]
    }
   ],
   "source": [
    "from fer import FER\n",
    "import cv2\n",
    "import os\n",
    "\n",
    "image_path='/content/gdrive/My Drive/colab/data_sources/hateful_memes/img/96354.png'\n",
    "\n",
    "img = cv2.imread(image_path)\n",
    "image_name=os.path.basename(image_path)\n",
    "detector = FER()\n",
    "emotion_label=detector.detect_emotions(img)\n",
    "print(emotion_label)"
   ]
  },
  {
   "cell_type": "code",
   "execution_count": null,
   "metadata": {
    "colab": {},
    "colab_type": "code",
    "id": "6Bu4eiR2EwPH"
   },
   "outputs": [],
   "source": [
    "def convert(o):\n",
    "    if isinstance(o, np.int64): return float(o)  \n",
    "    "
   ]
  },
  {
   "cell_type": "code",
   "execution_count": null,
   "metadata": {
    "colab": {
     "base_uri": "https://localhost:8080/",
     "height": 170
    },
    "colab_type": "code",
    "id": "E6h18_Lq9352",
    "outputId": "e957d67d-719b-4ca9-c22a-cd6f3a49b38c"
   },
   "outputs": [
    {
     "data": {
      "text/plain": [
       "[OrderedDict([('box', (424, 503, 90, 90)),\n",
       "              ('emotions',\n",
       "               {'angry': 0.02,\n",
       "                'disgust': 0.0,\n",
       "                'fear': 0.06,\n",
       "                'happy': 0.05,\n",
       "                'neutral': 0.46,\n",
       "                'sad': 0.36,\n",
       "                'surprise': 0.05})])]"
      ]
     },
     "execution_count": 16,
     "metadata": {
      "tags": []
     },
     "output_type": "execute_result"
    }
   ],
   "source": [
    "img = cv2.imread('/content/gdrive/My Drive/colab/data_sources/hateful_memes/img/37408.png')\n",
    "detector = FER()\n",
    "detector.detect_emotions(img)"
   ]
  },
  {
   "cell_type": "code",
   "execution_count": null,
   "metadata": {
    "colab": {
     "base_uri": "https://localhost:8080/",
     "height": 85
    },
    "colab_type": "code",
    "id": "Tc3t9D7N-jlO",
    "outputId": "48f964e2-eaff-48c0-9543-55e52534f0eb"
   },
   "outputs": [
    {
     "name": "stdout",
     "output_type": "stream",
     "text": [
      "Error  /content/gdrive/My Drive/colab/data_sources/hateful_memes/img/29051.png\n",
      "Error  /content/gdrive/My Drive/colab/data_sources/hateful_memes/img/37052.png\n",
      "Error  /content/gdrive/My Drive/colab/data_sources/hateful_memes/img/09467.png\n",
      "Error  /content/gdrive/My Drive/colab/data_sources/hateful_memes/img/28964.png\n"
     ]
    }
   ],
   "source": [
    "# def extract_emotions(data, threshold):\n",
    "\n",
    "from fer import FER\n",
    "import cv2\n",
    "import glob\n",
    "import os\n",
    "import json\n",
    "\n",
    "\n",
    "emotions=[]\n",
    "img_emotion_dict={}\n",
    "\n",
    "path = \"/content/gdrive/My Drive/colab/data_sources/hateful_memes/img/*.png\"\n",
    "\n",
    "for image_path in glob.glob(path):\n",
    "  try:\n",
    "    img = cv2.imread(image_path)\n",
    "    image_name=os.path.basename(image_path)\n",
    "    detector = FER()\n",
    "    emotion_label=detector.detect_emotions(img)\n",
    "\n",
    "    img_emotion_dict[image_name]=emotion_label\n",
    "    emotions.append(emotion_label)\n",
    "\n",
    "  except:\n",
    "    print(\"Error \", image_path)\n",
    "\n",
    "\n",
    "\n",
    "\n",
    "save_obj(img_emotion_dict)"
   ]
  },
  {
   "cell_type": "code",
   "execution_count": null,
   "metadata": {
    "colab": {
     "base_uri": "https://localhost:8080/",
     "height": 329
    },
    "colab_type": "code",
    "id": "lmu09A0EAuk8",
    "outputId": "a42ca52d-4925-4054-9864-b98f86dd0606"
   },
   "outputs": [
    {
     "data": {
      "text/plain": [
       "{'56482.png': [OrderedDict([('box', (424, 503, 90, 90)),\n",
       "               ('emotions',\n",
       "                {'angry': 0.02,\n",
       "                 'disgust': 0.0,\n",
       "                 'fear': 0.06,\n",
       "                 'happy': 0.05,\n",
       "                 'neutral': 0.46,\n",
       "                 'sad': 0.36,\n",
       "                 'surprise': 0.05})])],\n",
       " '60183.png': [OrderedDict([('box', (424, 503, 90, 90)),\n",
       "               ('emotions',\n",
       "                {'angry': 0.02,\n",
       "                 'disgust': 0.0,\n",
       "                 'fear': 0.06,\n",
       "                 'happy': 0.05,\n",
       "                 'neutral': 0.46,\n",
       "                 'sad': 0.36,\n",
       "                 'surprise': 0.05})])]}"
      ]
     },
     "execution_count": 19,
     "metadata": {
      "tags": []
     },
     "output_type": "execute_result"
    }
   ],
   "source": [
    "img_emotion_dict"
   ]
  },
  {
   "cell_type": "code",
   "execution_count": null,
   "metadata": {
    "colab": {},
    "colab_type": "code",
    "id": "FUszRqUKIBc1"
   },
   "outputs": [],
   "source": [
    "# !pip install pickle\n",
    "import pickle"
   ]
  },
  {
   "cell_type": "code",
   "execution_count": null,
   "metadata": {
    "colab": {},
    "colab_type": "code",
    "id": "HMc0aKO-Hnrg"
   },
   "outputs": [],
   "source": [
    "def save_obj(obj, name='img_emotion_data'):\n",
    "    with open('/content/gdrive/My Drive/colab/data_sources/hateful_memes/'+ name + '.pkl', 'wb') as f:\n",
    "        pickle.dump(obj, f, pickle.HIGHEST_PROTOCOL)"
   ]
  },
  {
   "cell_type": "code",
   "execution_count": null,
   "metadata": {
    "colab": {},
    "colab_type": "code",
    "id": "T2TskIwtFvhM"
   },
   "outputs": [],
   "source": [
    "with open('/content/gdrive/My Drive/colab/data_sources/hateful_memes/img_emotion_data.json', 'w') as fp:\n",
    "  json.dump(img_emotion_dict, fp, default=convert)"
   ]
  },
  {
   "cell_type": "code",
   "execution_count": null,
   "metadata": {
    "colab": {},
    "colab_type": "code",
    "id": "EgGFZyGjDIty"
   },
   "outputs": [],
   "source": [
    "with open('outputfile_2', 'w') as file:\n",
    "    file.write(json.dumps(logic_steps, indent=4))\n"
   ]
  },
  {
   "cell_type": "code",
   "execution_count": null,
   "metadata": {
    "colab": {},
    "colab_type": "code",
    "id": "uDFe3nmixXKl"
   },
   "outputs": [],
   "source": [
    "save_obj(img_emotion_dict)"
   ]
  },
  {
   "cell_type": "code",
   "execution_count": null,
   "metadata": {
    "colab": {},
    "colab_type": "code",
    "id": "KqkumYVmxwoP"
   },
   "outputs": [],
   "source": [
    "test = pickle.load( open( \"/content/gdrive/My Drive/colab/data_sources/hateful_memes/img_emotion_data.pkl\", \"rb\" ) )"
   ]
  },
  {
   "cell_type": "code",
   "execution_count": null,
   "metadata": {
    "colab": {
     "base_uri": "https://localhost:8080/",
     "height": 173
    },
    "colab_type": "code",
    "id": "KhiGzSZNyG88",
    "outputId": "69daab99-88d7-482d-d008-bf18140cb632"
   },
   "outputs": [
    {
     "data": {
      "text/plain": [
       "[OrderedDict([('box', (424, 503, 90, 90)),\n",
       "              ('emotions',\n",
       "               {'angry': 0.02,\n",
       "                'disgust': 0.0,\n",
       "                'fear': 0.06,\n",
       "                'happy': 0.05,\n",
       "                'neutral': 0.46,\n",
       "                'sad': 0.36,\n",
       "                'surprise': 0.05})])]"
      ]
     },
     "execution_count": 26,
     "metadata": {
      "tags": []
     },
     "output_type": "execute_result"
    }
   ],
   "source": [
    "test['56482.png']"
   ]
  },
  {
   "cell_type": "markdown",
   "metadata": {
    "colab_type": "text",
    "id": "xDErAJB09SM6"
   },
   "source": [
    "## Run Simple Feature Extraction"
   ]
  },
  {
   "cell_type": "code",
   "execution_count": null,
   "metadata": {
    "colab": {
     "base_uri": "https://localhost:8080/",
     "height": 868
    },
    "colab_type": "code",
    "id": "dWniyfT_b2ZK",
    "outputId": "ff06400c-4c94-4e80-9dbb-1a452afee54d"
   },
   "outputs": [
    {
     "name": "stdout",
     "output_type": "stream",
     "text": [
      "failure at0\n",
      "failure at1\n",
      "failure at2\n",
      "failure at3\n",
      "failure at4\n",
      "failure at5\n",
      "failure at6\n",
      "failure at7\n",
      "failure at8\n",
      "failure at9\n",
      "failure at10\n",
      "failure at11\n",
      "failure at12\n",
      "failure at13\n",
      "failure at14\n",
      "failure at15\n",
      "failure at16\n",
      "failure at17\n",
      "failure at18\n",
      "failure at19\n",
      "failure at20\n",
      "failure at21\n",
      "failure at22\n",
      "failure at23\n",
      "failure at24\n",
      "failure at25\n",
      "failure at26\n",
      "failure at27\n",
      "failure at28\n",
      "failure at29\n",
      "failure at30\n"
     ]
    },
    {
     "ename": "KeyboardInterrupt",
     "evalue": "ignored",
     "output_type": "error",
     "traceback": [
      "\u001b[0;31m---------------------------------------------------------------------------\u001b[0m",
      "\u001b[0;31mKeyboardInterrupt\u001b[0m                         Traceback (most recent call last)",
      "\u001b[0;32m<ipython-input-14-569f5b72b5d2>\u001b[0m in \u001b[0;36m<module>\u001b[0;34m()\u001b[0m\n\u001b[1;32m     20\u001b[0m     \u001b[0mprint\u001b[0m\u001b[0;34m(\u001b[0m\u001b[0;34m\"failure at\"\u001b[0m\u001b[0;34m+\u001b[0m\u001b[0mstr\u001b[0m\u001b[0;34m(\u001b[0m\u001b[0mi\u001b[0m\u001b[0;34m)\u001b[0m\u001b[0;34m)\u001b[0m\u001b[0;34m\u001b[0m\u001b[0;34m\u001b[0m\u001b[0m\n\u001b[1;32m     21\u001b[0m \u001b[0;34m\u001b[0m\u001b[0m\n\u001b[0;32m---> 22\u001b[0;31m   \u001b[0mwriteFiles\u001b[0m\u001b[0;34m(\u001b[0m\u001b[0mfeaturized_data_path\u001b[0m\u001b[0;34m,\u001b[0m \u001b[0;34m\"simple_\"\u001b[0m\u001b[0;34m,\u001b[0m\u001b[0mdesc\u001b[0m\u001b[0;34m,\u001b[0m\u001b[0mnumpy_form_ims\u001b[0m\u001b[0;34m,\u001b[0m\u001b[0mnumpy_form_txts\u001b[0m\u001b[0;34m)\u001b[0m\u001b[0;34m\u001b[0m\u001b[0;34m\u001b[0m\u001b[0m\n\u001b[0m",
      "\u001b[0;32m<ipython-input-10-9fe940b9987e>\u001b[0m in \u001b[0;36mwriteFiles\u001b[0;34m(path, title, desc, img_features, numpy_form_txts)\u001b[0m\n\u001b[1;32m      7\u001b[0m     \u001b[0mresults\u001b[0m\u001b[0;34m.\u001b[0m\u001b[0mto_csv\u001b[0m\u001b[0;34m(\u001b[0m\u001b[0mos\u001b[0m\u001b[0;34m.\u001b[0m\u001b[0mpath\u001b[0m\u001b[0;34m.\u001b[0m\u001b[0mjoin\u001b[0m\u001b[0;34m(\u001b[0m\u001b[0mpath\u001b[0m\u001b[0;34m,\u001b[0m\u001b[0mtitle\u001b[0m\u001b[0;34m+\u001b[0m\u001b[0;34m\"description.csv\"\u001b[0m\u001b[0;34m)\u001b[0m\u001b[0;34m,\u001b[0m\u001b[0msep\u001b[0m\u001b[0;34m=\u001b[0m\u001b[0;34m\",\"\u001b[0m\u001b[0;34m)\u001b[0m\u001b[0;34m\u001b[0m\u001b[0;34m\u001b[0m\u001b[0m\n\u001b[1;32m      8\u001b[0m \u001b[0;34m\u001b[0m\u001b[0m\n\u001b[0;32m----> 9\u001b[0;31m     \u001b[0mresults\u001b[0m\u001b[0;34m=\u001b[0m\u001b[0mpd\u001b[0m\u001b[0;34m.\u001b[0m\u001b[0mDataFrame\u001b[0m\u001b[0;34m(\u001b[0m\u001b[0mimg_features\u001b[0m\u001b[0;34m)\u001b[0m\u001b[0;34m\u001b[0m\u001b[0;34m\u001b[0m\u001b[0m\n\u001b[0m\u001b[1;32m     10\u001b[0m     \u001b[0mresults\u001b[0m\u001b[0;34m.\u001b[0m\u001b[0mto_csv\u001b[0m\u001b[0;34m(\u001b[0m\u001b[0mos\u001b[0m\u001b[0;34m.\u001b[0m\u001b[0mpath\u001b[0m\u001b[0;34m.\u001b[0m\u001b[0mjoin\u001b[0m\u001b[0;34m(\u001b[0m\u001b[0mpath\u001b[0m\u001b[0;34m,\u001b[0m\u001b[0mtitle\u001b[0m\u001b[0;34m+\u001b[0m\u001b[0;34m\"image_features.csv\"\u001b[0m\u001b[0;34m)\u001b[0m\u001b[0;34m,\u001b[0m\u001b[0msep\u001b[0m\u001b[0;34m=\u001b[0m\u001b[0;34m\",\"\u001b[0m\u001b[0;34m)\u001b[0m\u001b[0;34m\u001b[0m\u001b[0;34m\u001b[0m\u001b[0m\n",
      "\u001b[0;32m/usr/local/lib/python3.6/dist-packages/pandas/core/frame.py\u001b[0m in \u001b[0;36m__init__\u001b[0;34m(self, data, index, columns, dtype, copy)\u001b[0m\n\u001b[1;32m    484\u001b[0m                             \u001b[0mindex\u001b[0m \u001b[0;34m=\u001b[0m \u001b[0mibase\u001b[0m\u001b[0;34m.\u001b[0m\u001b[0mdefault_index\u001b[0m\u001b[0;34m(\u001b[0m\u001b[0mlen\u001b[0m\u001b[0;34m(\u001b[0m\u001b[0mdata\u001b[0m\u001b[0;34m)\u001b[0m\u001b[0;34m)\u001b[0m\u001b[0;34m\u001b[0m\u001b[0;34m\u001b[0m\u001b[0m\n\u001b[1;32m    485\u001b[0m \u001b[0;34m\u001b[0m\u001b[0m\n\u001b[0;32m--> 486\u001b[0;31m                     \u001b[0mmgr\u001b[0m \u001b[0;34m=\u001b[0m \u001b[0marrays_to_mgr\u001b[0m\u001b[0;34m(\u001b[0m\u001b[0marrays\u001b[0m\u001b[0;34m,\u001b[0m \u001b[0mcolumns\u001b[0m\u001b[0;34m,\u001b[0m \u001b[0mindex\u001b[0m\u001b[0;34m,\u001b[0m \u001b[0mcolumns\u001b[0m\u001b[0;34m,\u001b[0m \u001b[0mdtype\u001b[0m\u001b[0;34m=\u001b[0m\u001b[0mdtype\u001b[0m\u001b[0;34m)\u001b[0m\u001b[0;34m\u001b[0m\u001b[0;34m\u001b[0m\u001b[0m\n\u001b[0m\u001b[1;32m    487\u001b[0m                 \u001b[0;32melse\u001b[0m\u001b[0;34m:\u001b[0m\u001b[0;34m\u001b[0m\u001b[0;34m\u001b[0m\u001b[0m\n\u001b[1;32m    488\u001b[0m                     \u001b[0mmgr\u001b[0m \u001b[0;34m=\u001b[0m \u001b[0minit_ndarray\u001b[0m\u001b[0;34m(\u001b[0m\u001b[0mdata\u001b[0m\u001b[0;34m,\u001b[0m \u001b[0mindex\u001b[0m\u001b[0;34m,\u001b[0m \u001b[0mcolumns\u001b[0m\u001b[0;34m,\u001b[0m \u001b[0mdtype\u001b[0m\u001b[0;34m=\u001b[0m\u001b[0mdtype\u001b[0m\u001b[0;34m,\u001b[0m \u001b[0mcopy\u001b[0m\u001b[0;34m=\u001b[0m\u001b[0mcopy\u001b[0m\u001b[0;34m)\u001b[0m\u001b[0;34m\u001b[0m\u001b[0;34m\u001b[0m\u001b[0m\n",
      "\u001b[0;32m/usr/local/lib/python3.6/dist-packages/pandas/core/internals/construction.py\u001b[0m in \u001b[0;36marrays_to_mgr\u001b[0;34m(arrays, arr_names, index, columns, dtype)\u001b[0m\n\u001b[1;32m     67\u001b[0m \u001b[0;34m\u001b[0m\u001b[0m\n\u001b[1;32m     68\u001b[0m     \u001b[0;31m# don't force copy because getting jammed in an ndarray anyway\u001b[0m\u001b[0;34m\u001b[0m\u001b[0;34m\u001b[0m\u001b[0;34m\u001b[0m\u001b[0m\n\u001b[0;32m---> 69\u001b[0;31m     \u001b[0marrays\u001b[0m \u001b[0;34m=\u001b[0m \u001b[0m_homogenize\u001b[0m\u001b[0;34m(\u001b[0m\u001b[0marrays\u001b[0m\u001b[0;34m,\u001b[0m \u001b[0mindex\u001b[0m\u001b[0;34m,\u001b[0m \u001b[0mdtype\u001b[0m\u001b[0;34m)\u001b[0m\u001b[0;34m\u001b[0m\u001b[0;34m\u001b[0m\u001b[0m\n\u001b[0m\u001b[1;32m     70\u001b[0m \u001b[0;34m\u001b[0m\u001b[0m\n\u001b[1;32m     71\u001b[0m     \u001b[0;31m# from BlockManager perspective\u001b[0m\u001b[0;34m\u001b[0m\u001b[0;34m\u001b[0m\u001b[0;34m\u001b[0m\u001b[0m\n",
      "\u001b[0;32m/usr/local/lib/python3.6/dist-packages/pandas/core/internals/construction.py\u001b[0m in \u001b[0;36m_homogenize\u001b[0;34m(data, index, dtype)\u001b[0m\n\u001b[1;32m    321\u001b[0m                 \u001b[0mval\u001b[0m \u001b[0;34m=\u001b[0m \u001b[0mlib\u001b[0m\u001b[0;34m.\u001b[0m\u001b[0mfast_multiget\u001b[0m\u001b[0;34m(\u001b[0m\u001b[0mval\u001b[0m\u001b[0;34m,\u001b[0m \u001b[0moindex\u001b[0m\u001b[0;34m.\u001b[0m\u001b[0mvalues\u001b[0m\u001b[0;34m,\u001b[0m \u001b[0mdefault\u001b[0m\u001b[0;34m=\u001b[0m\u001b[0mnp\u001b[0m\u001b[0;34m.\u001b[0m\u001b[0mnan\u001b[0m\u001b[0;34m)\u001b[0m\u001b[0;34m\u001b[0m\u001b[0;34m\u001b[0m\u001b[0m\n\u001b[1;32m    322\u001b[0m             val = sanitize_array(\n\u001b[0;32m--> 323\u001b[0;31m                 \u001b[0mval\u001b[0m\u001b[0;34m,\u001b[0m \u001b[0mindex\u001b[0m\u001b[0;34m,\u001b[0m \u001b[0mdtype\u001b[0m\u001b[0;34m=\u001b[0m\u001b[0mdtype\u001b[0m\u001b[0;34m,\u001b[0m \u001b[0mcopy\u001b[0m\u001b[0;34m=\u001b[0m\u001b[0;32mFalse\u001b[0m\u001b[0;34m,\u001b[0m \u001b[0mraise_cast_failure\u001b[0m\u001b[0;34m=\u001b[0m\u001b[0;32mFalse\u001b[0m\u001b[0;34m\u001b[0m\u001b[0;34m\u001b[0m\u001b[0m\n\u001b[0m\u001b[1;32m    324\u001b[0m             )\n\u001b[1;32m    325\u001b[0m \u001b[0;34m\u001b[0m\u001b[0m\n",
      "\u001b[0;32m/usr/local/lib/python3.6/dist-packages/pandas/core/construction.py\u001b[0m in \u001b[0;36msanitize_array\u001b[0;34m(data, index, dtype, copy, raise_cast_failure)\u001b[0m\n\u001b[1;32m    473\u001b[0m \u001b[0;34m\u001b[0m\u001b[0m\n\u001b[1;32m    474\u001b[0m             \u001b[0;31m# a 1-element ndarray\u001b[0m\u001b[0;34m\u001b[0m\u001b[0;34m\u001b[0m\u001b[0;34m\u001b[0m\u001b[0m\n\u001b[0;32m--> 475\u001b[0;31m             \u001b[0;32mif\u001b[0m \u001b[0mlen\u001b[0m\u001b[0;34m(\u001b[0m\u001b[0msubarr\u001b[0m\u001b[0;34m)\u001b[0m \u001b[0;34m!=\u001b[0m \u001b[0mlen\u001b[0m\u001b[0;34m(\u001b[0m\u001b[0mindex\u001b[0m\u001b[0;34m)\u001b[0m \u001b[0;32mand\u001b[0m \u001b[0mlen\u001b[0m\u001b[0;34m(\u001b[0m\u001b[0msubarr\u001b[0m\u001b[0;34m)\u001b[0m \u001b[0;34m==\u001b[0m \u001b[0;36m1\u001b[0m\u001b[0;34m:\u001b[0m\u001b[0;34m\u001b[0m\u001b[0;34m\u001b[0m\u001b[0m\n\u001b[0m\u001b[1;32m    476\u001b[0m                 subarr = construct_1d_arraylike_from_scalar(\n\u001b[1;32m    477\u001b[0m                     \u001b[0msubarr\u001b[0m\u001b[0;34m[\u001b[0m\u001b[0;36m0\u001b[0m\u001b[0;34m]\u001b[0m\u001b[0;34m,\u001b[0m \u001b[0mlen\u001b[0m\u001b[0;34m(\u001b[0m\u001b[0mindex\u001b[0m\u001b[0;34m)\u001b[0m\u001b[0;34m,\u001b[0m \u001b[0msubarr\u001b[0m\u001b[0;34m.\u001b[0m\u001b[0mdtype\u001b[0m\u001b[0;34m\u001b[0m\u001b[0;34m\u001b[0m\u001b[0m\n",
      "\u001b[0;31mKeyboardInterrupt\u001b[0m: "
     ]
    }
   ],
   "source": [
    "desc=[]\n",
    "numpy_form_txts=[]\n",
    "numpy_form_ims=[]\n",
    "\n",
    "for i in range(len(data)):\n",
    "  try:\n",
    "    im=Image.open(os.path.join(image_ex_path,data[i][\"img\"]))\n",
    "    numpy_form_im=extract_image_features_stupid([im],inception, (299,299))[0].detach().numpy()\n",
    "    numpy_form_ims.append(numpy_form_im)\n",
    "    label=data[i][\"label\"]\n",
    "\n",
    "    text= data[i][\"text\"]\n",
    "\n",
    "    numpy_form_txt=extract_text_features_simple([text],model_text)[0]\n",
    "    numpy_form_txts.append(numpy_form_txt)\n",
    "    if(i%10)==0:\n",
    "        print(i)\n",
    "    desc.append([text,label])\n",
    "  except:\n",
    "    print(\"failure at\"+str(i))\n",
    "  \n",
    "  writeFiles(featurized_data_path, \"simple_\",desc,numpy_form_ims,numpy_form_txts)"
   ]
  },
  {
   "cell_type": "code",
   "execution_count": null,
   "metadata": {
    "colab": {},
    "colab_type": "code",
    "id": "RliTQDkG9Zgn"
   },
   "outputs": [],
   "source": [
    "writeFiles(featurized_data_path, \"simple_\",desc,numpy_form_ims,numpy_form_txts)"
   ]
  },
  {
   "cell_type": "code",
   "execution_count": null,
   "metadata": {
    "colab": {},
    "colab_type": "code",
    "id": "qVq_aZ6Y9aab"
   },
   "outputs": [],
   "source": [
    "image_features=pd.read_csv(\"/content/gdrive/My Drive/colab/data_sources/hateful_memes/simple_image_features.csv\", sep=\",\",index_col=0)\n",
    "text_features=pd.read_csv(\"/content/gdrive/My Drive/colab/data_sources/hateful_memes/simple_text_features.csv\",sep=\",\",index_col=0)\n",
    "desc_features=pd.read_csv(\"/content/gdrive/My Drive/colab/data_sources/hateful_memes/simple_description.csv\",sep=\",\",index_col=0)\n"
   ]
  },
  {
   "cell_type": "code",
   "execution_count": null,
   "metadata": {
    "colab": {},
    "colab_type": "code",
    "id": "2U6HJOSV3v03"
   },
   "outputs": [],
   "source": []
  },
  {
   "cell_type": "code",
   "execution_count": null,
   "metadata": {
    "colab": {},
    "colab_type": "code",
    "id": "ntFJ2EIV9eh_"
   },
   "outputs": [],
   "source": []
  },
  {
   "cell_type": "markdown",
   "metadata": {
    "colab_type": "text",
    "id": "PM8otBFB9jvW"
   },
   "source": []
  },
  {
   "cell_type": "markdown",
   "metadata": {
    "colab_type": "text",
    "id": "vS8qil-wMnnt"
   },
   "source": [
    "## Get Celebrity Labels from Bing"
   ]
  },
  {
   "cell_type": "code",
   "execution_count": 13,
   "metadata": {
    "colab": {},
    "colab_type": "code",
    "id": "PSNr2s9CMmsm"
   },
   "outputs": [],
   "source": [
    "bing=pd.read_csv(\"/content/gdrive/My Drive/colab/data_sources/hateful_memes/bing.csv\", header = None, converters={5: eval, 4: eval, 3: eval, 2: eval, 1: eval})"
   ]
  },
  {
   "cell_type": "code",
   "execution_count": 14,
   "metadata": {
    "colab": {
     "base_uri": "https://localhost:8080/",
     "height": 34
    },
    "colab_type": "code",
    "id": "dLRK_JaaamdN",
    "outputId": "6c5012ef-f558-4ac2-ec2b-212e4bf79799"
   },
   "outputs": [
    {
     "data": {
      "text/plain": [
       "(8422, 6)"
      ]
     },
     "execution_count": 14,
     "metadata": {
      "tags": []
     },
     "output_type": "execute_result"
    }
   ],
   "source": [
    "bing.shape"
   ]
  },
  {
   "cell_type": "code",
   "execution_count": 15,
   "metadata": {
    "colab": {
     "base_uri": "https://localhost:8080/",
     "height": 306
    },
    "colab_type": "code",
    "id": "7NNSrxzBNy6f",
    "outputId": "708ea690-376d-45b8-8a02-e1e05a5df604"
   },
   "outputs": [
    {
     "data": {
      "text/html": [
       "<div>\n",
       "<style scoped>\n",
       "    .dataframe tbody tr th:only-of-type {\n",
       "        vertical-align: middle;\n",
       "    }\n",
       "\n",
       "    .dataframe tbody tr th {\n",
       "        vertical-align: top;\n",
       "    }\n",
       "\n",
       "    .dataframe thead th {\n",
       "        text-align: right;\n",
       "    }\n",
       "</style>\n",
       "<table border=\"1\" class=\"dataframe\">\n",
       "  <thead>\n",
       "    <tr style=\"text-align: right;\">\n",
       "      <th></th>\n",
       "      <th>image</th>\n",
       "      <th>description</th>\n",
       "      <th>link</th>\n",
       "      <th>img_src</th>\n",
       "      <th>rel</th>\n",
       "      <th>alternate_hypothesis</th>\n",
       "    </tr>\n",
       "  </thead>\n",
       "  <tbody>\n",
       "    <tr>\n",
       "      <th>0</th>\n",
       "      <td>56482.png</td>\n",
       "      <td>[إدمان الحقن.. أخطر أنواع إدمان المخدرات, L'im...</td>\n",
       "      <td>[https://ultratunisia.ultrasawt.com/%D8%A5%D8%...</td>\n",
       "      <td>[https://th.bing.com/th/id/OIP.0qwHZ_2g6IQ07Zv...</td>\n",
       "      <td>[]</td>\n",
       "      <td>[Emmi und Co. kämpfen mit der Teuerung | Unter...</td>\n",
       "    </tr>\n",
       "    <tr>\n",
       "      <th>1</th>\n",
       "      <td>60183.png</td>\n",
       "      <td>[Миляга, такому в Европе прощали все...пока не...</td>\n",
       "      <td>[https://foto-history.livejournal.com/11268197...</td>\n",
       "      <td>[https://th.bing.com/th/id/OIP.UcKwJ2Hv2EU13yR...</td>\n",
       "      <td>[Hitler]</td>\n",
       "      <td>[Triumph of the Will, filmed by Leni Riefensta...</td>\n",
       "    </tr>\n",
       "    <tr>\n",
       "      <th>2</th>\n",
       "      <td>43905.png</td>\n",
       "      <td>[World's Best Donkey Rear Stock Pictures, Phot...</td>\n",
       "      <td>[https://www.gettyimages.com/photos/donkey-rear]</td>\n",
       "      <td>[https://th.bing.com/th/id/OIP.0VbJI8q2DS7PNnG...</td>\n",
       "      <td>[Monkeys]</td>\n",
       "      <td>[Animal photos are a great way to teach childr...</td>\n",
       "    </tr>\n",
       "    <tr>\n",
       "      <th>3</th>\n",
       "      <td>07825.png</td>\n",
       "      <td>[]</td>\n",
       "      <td>[]</td>\n",
       "      <td>[]</td>\n",
       "      <td>[]</td>\n",
       "      <td>[The History Channel: Battle For The Pacific P...</td>\n",
       "    </tr>\n",
       "    <tr>\n",
       "      <th>4</th>\n",
       "      <td>50413.png</td>\n",
       "      <td>[]</td>\n",
       "      <td>[]</td>\n",
       "      <td>[]</td>\n",
       "      <td>[]</td>\n",
       "      <td>[Ugly Man Fat Cheeks Beard Portrait Stock Phot...</td>\n",
       "    </tr>\n",
       "  </tbody>\n",
       "</table>\n",
       "</div>"
      ],
      "text/plain": [
       "       image  ...                               alternate_hypothesis\n",
       "0  56482.png  ...  [Emmi und Co. kämpfen mit der Teuerung | Unter...\n",
       "1  60183.png  ...  [Triumph of the Will, filmed by Leni Riefensta...\n",
       "2  43905.png  ...  [Animal photos are a great way to teach childr...\n",
       "3  07825.png  ...  [The History Channel: Battle For The Pacific P...\n",
       "4  50413.png  ...  [Ugly Man Fat Cheeks Beard Portrait Stock Phot...\n",
       "\n",
       "[5 rows x 6 columns]"
      ]
     },
     "execution_count": 15,
     "metadata": {
      "tags": []
     },
     "output_type": "execute_result"
    }
   ],
   "source": [
    "bing.columns=['image','description', 'link', 'img_src', 'rel', 'alternate_hypothesis']\n",
    "bing.head()"
   ]
  },
  {
   "cell_type": "code",
   "execution_count": 16,
   "metadata": {
    "colab": {
     "base_uri": "https://localhost:8080/",
     "height": 340
    },
    "colab_type": "code",
    "id": "rS5mFZuNhRH8",
    "outputId": "c1404548-d130-4545-8d55-4f9279231fdb"
   },
   "outputs": [
    {
     "data": {
      "text/html": [
       "<div>\n",
       "<style scoped>\n",
       "    .dataframe tbody tr th:only-of-type {\n",
       "        vertical-align: middle;\n",
       "    }\n",
       "\n",
       "    .dataframe tbody tr th {\n",
       "        vertical-align: top;\n",
       "    }\n",
       "\n",
       "    .dataframe thead th {\n",
       "        text-align: right;\n",
       "    }\n",
       "</style>\n",
       "<table border=\"1\" class=\"dataframe\">\n",
       "  <thead>\n",
       "    <tr style=\"text-align: right;\">\n",
       "      <th></th>\n",
       "      <th>image</th>\n",
       "      <th>description</th>\n",
       "      <th>link</th>\n",
       "      <th>img_src</th>\n",
       "      <th>rel</th>\n",
       "      <th>alternate_hypothesis</th>\n",
       "      <th>image_clean</th>\n",
       "    </tr>\n",
       "  </thead>\n",
       "  <tbody>\n",
       "    <tr>\n",
       "      <th>0</th>\n",
       "      <td>56482.png</td>\n",
       "      <td>[إدمان الحقن.. أخطر أنواع إدمان المخدرات, L'im...</td>\n",
       "      <td>[https://ultratunisia.ultrasawt.com/%D8%A5%D8%...</td>\n",
       "      <td>[https://th.bing.com/th/id/OIP.0qwHZ_2g6IQ07Zv...</td>\n",
       "      <td>[]</td>\n",
       "      <td>[Emmi und Co. kämpfen mit der Teuerung | Unter...</td>\n",
       "      <td>56482</td>\n",
       "    </tr>\n",
       "    <tr>\n",
       "      <th>1</th>\n",
       "      <td>60183.png</td>\n",
       "      <td>[Миляга, такому в Европе прощали все...пока не...</td>\n",
       "      <td>[https://foto-history.livejournal.com/11268197...</td>\n",
       "      <td>[https://th.bing.com/th/id/OIP.UcKwJ2Hv2EU13yR...</td>\n",
       "      <td>[Hitler]</td>\n",
       "      <td>[Triumph of the Will, filmed by Leni Riefensta...</td>\n",
       "      <td>60183</td>\n",
       "    </tr>\n",
       "    <tr>\n",
       "      <th>2</th>\n",
       "      <td>43905.png</td>\n",
       "      <td>[World's Best Donkey Rear Stock Pictures, Phot...</td>\n",
       "      <td>[https://www.gettyimages.com/photos/donkey-rear]</td>\n",
       "      <td>[https://th.bing.com/th/id/OIP.0VbJI8q2DS7PNnG...</td>\n",
       "      <td>[Monkeys]</td>\n",
       "      <td>[Animal photos are a great way to teach childr...</td>\n",
       "      <td>43905</td>\n",
       "    </tr>\n",
       "    <tr>\n",
       "      <th>3</th>\n",
       "      <td>07825.png</td>\n",
       "      <td>[]</td>\n",
       "      <td>[]</td>\n",
       "      <td>[]</td>\n",
       "      <td>[]</td>\n",
       "      <td>[The History Channel: Battle For The Pacific P...</td>\n",
       "      <td>07825</td>\n",
       "    </tr>\n",
       "    <tr>\n",
       "      <th>4</th>\n",
       "      <td>50413.png</td>\n",
       "      <td>[]</td>\n",
       "      <td>[]</td>\n",
       "      <td>[]</td>\n",
       "      <td>[]</td>\n",
       "      <td>[Ugly Man Fat Cheeks Beard Portrait Stock Phot...</td>\n",
       "      <td>50413</td>\n",
       "    </tr>\n",
       "  </tbody>\n",
       "</table>\n",
       "</div>"
      ],
      "text/plain": [
       "       image  ... image_clean\n",
       "0  56482.png  ...       56482\n",
       "1  60183.png  ...       60183\n",
       "2  43905.png  ...       43905\n",
       "3  07825.png  ...       07825\n",
       "4  50413.png  ...       50413\n",
       "\n",
       "[5 rows x 7 columns]"
      ]
     },
     "execution_count": 16,
     "metadata": {
      "tags": []
     },
     "output_type": "execute_result"
    }
   ],
   "source": [
    "bing['image_clean'] = bing['image'].str[:-4]\n",
    "bing.head()"
   ]
  },
  {
   "cell_type": "code",
   "execution_count": 17,
   "metadata": {
    "colab": {
     "base_uri": "https://localhost:8080/",
     "height": 649
    },
    "colab_type": "code",
    "id": "9F2hl4rhOeJb",
    "outputId": "814235ad-dd64-448c-b4d7-b96dd16c45a2"
   },
   "outputs": [
    {
     "data": {
      "text/html": [
       "<div>\n",
       "<style scoped>\n",
       "    .dataframe tbody tr th:only-of-type {\n",
       "        vertical-align: middle;\n",
       "    }\n",
       "\n",
       "    .dataframe tbody tr th {\n",
       "        vertical-align: top;\n",
       "    }\n",
       "\n",
       "    .dataframe thead th {\n",
       "        text-align: right;\n",
       "    }\n",
       "</style>\n",
       "<table border=\"1\" class=\"dataframe\">\n",
       "  <thead>\n",
       "    <tr style=\"text-align: right;\">\n",
       "      <th></th>\n",
       "      <th>image</th>\n",
       "      <th>description</th>\n",
       "      <th>link</th>\n",
       "      <th>img_src</th>\n",
       "      <th>rel</th>\n",
       "      <th>alternate_hypothesis</th>\n",
       "      <th>image_clean</th>\n",
       "      <th>alt_str</th>\n",
       "      <th>rel_str</th>\n",
       "      <th>desc_str</th>\n",
       "      <th>combined_str</th>\n",
       "    </tr>\n",
       "  </thead>\n",
       "  <tbody>\n",
       "    <tr>\n",
       "      <th>0</th>\n",
       "      <td>56482.png</td>\n",
       "      <td>[إدمان الحقن.. أخطر أنواع إدمان المخدرات, L'im...</td>\n",
       "      <td>[https://ultratunisia.ultrasawt.com/%D8%A5%D8%...</td>\n",
       "      <td>[https://th.bing.com/th/id/OIP.0qwHZ_2g6IQ07Zv...</td>\n",
       "      <td>[]</td>\n",
       "      <td>[Emmi und Co. kämpfen mit der Teuerung | Unter...</td>\n",
       "      <td>56482</td>\n",
       "      <td>Emmi und Co. kämpfen mit der Teuerung | Untern...</td>\n",
       "      <td></td>\n",
       "      <td>إدمان الحقن.. أخطر أنواع إدمان المخدرات L'impl...</td>\n",
       "      <td>Emmi und Co. kämpfen mit der Teuerung | Unter...</td>\n",
       "    </tr>\n",
       "    <tr>\n",
       "      <th>1</th>\n",
       "      <td>60183.png</td>\n",
       "      <td>[Миляга, такому в Европе прощали все...пока не...</td>\n",
       "      <td>[https://foto-history.livejournal.com/11268197...</td>\n",
       "      <td>[https://th.bing.com/th/id/OIP.UcKwJ2Hv2EU13yR...</td>\n",
       "      <td>[Hitler]</td>\n",
       "      <td>[Triumph of the Will, filmed by Leni Riefensta...</td>\n",
       "      <td>60183</td>\n",
       "      <td>Triumph of the Will, filmed by Leni Riefenstah...</td>\n",
       "      <td>Hitler</td>\n",
       "      <td>Миляга, такому в Европе прощали все...пока не ...</td>\n",
       "      <td>Hitler Triumph of the Will, filmed by Leni Rie...</td>\n",
       "    </tr>\n",
       "    <tr>\n",
       "      <th>2</th>\n",
       "      <td>43905.png</td>\n",
       "      <td>[World's Best Donkey Rear Stock Pictures, Phot...</td>\n",
       "      <td>[https://www.gettyimages.com/photos/donkey-rear]</td>\n",
       "      <td>[https://th.bing.com/th/id/OIP.0VbJI8q2DS7PNnG...</td>\n",
       "      <td>[Monkeys]</td>\n",
       "      <td>[Animal photos are a great way to teach childr...</td>\n",
       "      <td>43905</td>\n",
       "      <td>Animal photos are a great way to teach childre...</td>\n",
       "      <td>Monkeys</td>\n",
       "      <td>World's Best Donkey Rear Stock Pictures, Photo...</td>\n",
       "      <td>Monkeys Animal photos are a great way to teach...</td>\n",
       "    </tr>\n",
       "    <tr>\n",
       "      <th>3</th>\n",
       "      <td>07825.png</td>\n",
       "      <td>[]</td>\n",
       "      <td>[]</td>\n",
       "      <td>[]</td>\n",
       "      <td>[]</td>\n",
       "      <td>[The History Channel: Battle For The Pacific P...</td>\n",
       "      <td>07825</td>\n",
       "      <td>The History Channel: Battle For The Pacific PC...</td>\n",
       "      <td></td>\n",
       "      <td></td>\n",
       "      <td>The History Channel: Battle For The Pacific P...</td>\n",
       "    </tr>\n",
       "    <tr>\n",
       "      <th>4</th>\n",
       "      <td>50413.png</td>\n",
       "      <td>[]</td>\n",
       "      <td>[]</td>\n",
       "      <td>[]</td>\n",
       "      <td>[]</td>\n",
       "      <td>[Ugly Man Fat Cheeks Beard Portrait Stock Phot...</td>\n",
       "      <td>50413</td>\n",
       "      <td>Ugly Man Fat Cheeks Beard Portrait Stock Photo...</td>\n",
       "      <td></td>\n",
       "      <td></td>\n",
       "      <td>Ugly Man Fat Cheeks Beard Portrait Stock Phot...</td>\n",
       "    </tr>\n",
       "  </tbody>\n",
       "</table>\n",
       "</div>"
      ],
      "text/plain": [
       "       image  ...                                       combined_str\n",
       "0  56482.png  ...   Emmi und Co. kämpfen mit der Teuerung | Unter...\n",
       "1  60183.png  ...  Hitler Triumph of the Will, filmed by Leni Rie...\n",
       "2  43905.png  ...  Monkeys Animal photos are a great way to teach...\n",
       "3  07825.png  ...   The History Channel: Battle For The Pacific P...\n",
       "4  50413.png  ...   Ugly Man Fat Cheeks Beard Portrait Stock Phot...\n",
       "\n",
       "[5 rows x 11 columns]"
      ]
     },
     "execution_count": 17,
     "metadata": {
      "tags": []
     },
     "output_type": "execute_result"
    }
   ],
   "source": [
    "# bing.iloc[0].alternate_hypothesis[0]\n",
    "bing['alt_str'] = [' '.join(map(str, l)) for l in bing['alternate_hypothesis']]\n",
    "bing['rel_str'] = [' '.join(map(str, l)) for l in bing['rel']]\n",
    "bing['desc_str'] = [' '.join(map(str, l)) for l in bing['description']]\n",
    "bing['combined_str'] = bing['rel_str'] +' ' + bing['alt_str'] +' '+ bing['desc_str']\n",
    "\n",
    "bing.head()\n"
   ]
  },
  {
   "cell_type": "code",
   "execution_count": 18,
   "metadata": {
    "colab": {
     "base_uri": "https://localhost:8080/",
     "height": 68
    },
    "colab_type": "code",
    "id": "qMXiwlGlQJZR",
    "outputId": "942ea714-f36c-423f-af61-17e39af7d652"
   },
   "outputs": [
    {
     "data": {
      "text/plain": [
       "False    0.967466\n",
       "True     0.032534\n",
       "Name: feature_hitler, dtype: float64"
      ]
     },
     "execution_count": 18,
     "metadata": {
      "tags": []
     },
     "output_type": "execute_result"
    }
   ],
   "source": [
    "bing['feature_hitler'] = bing[\"combined_str\"].str.lower().str.contains(\"hitler\", na=False)\n",
    "bing['feature_hitler'].value_counts(normalize=True)"
   ]
  },
  {
   "cell_type": "code",
   "execution_count": 19,
   "metadata": {
    "colab": {
     "base_uri": "https://localhost:8080/",
     "height": 137
    },
    "colab_type": "code",
    "id": "0663lJgxSIB0",
    "outputId": "15d5f32e-b5bb-40fc-ba80-2800656ea424"
   },
   "outputs": [
    {
     "data": {
      "application/vnd.google.colaboratory.intrinsic+json": {
       "type": "string"
      },
      "text/plain": [
       "\"Hitler Triumph of the Will, filmed by Leni Riefenstahl in September, 1934. She later said she “lived in the editing room” for the next two years ... Adolf Hitler’s Personal Bunker Telephone Is Up For Auction! Will You Pay $300,000 For It? ~ vintage everyday Mém - Humor - Vicces videók - Viccek Adolf Hitler on the Nazi Party Congress in Nuremberg, 1936 Stock Photo, Royalty Free Image: 36997613 - Alamy Telefone de Hitler vendido por 239 mil euros NAZI JERMAN: Foto Adolf Hitler di Tahun 1935 Playle's: 1935 NAZI Fuhrer Adolf Hitler Taking Phone Call From Gauleiter Burckel Original Hoffman Photo - Store Item# NKYPHOTOS200 801 best Hist-- WWII-Nazi Germany images on Pinterest | World war two, Wwii and Germany Nazi Party Stockfotos & Nazi Party Bilder - Seite 2 - Alamy Rescuing Israel: The Holocaust – The Man – 12Bytes.org ADOLF HITLER BEST PICTURES Adolf Hitler Portrait Photos & Adolf Hitler Portrait Images - Alamy Hitler's phone book sells for twice expected auction price | Daily Mail Online “Hello, Julia? It’s Hitler.” | Wonkville 144 best images about Adolf on Pinterest | Hitler germany, Luftwaffe and April 20 'Adolf Hitler' - large format cigarette card book published 1936 207 Best WWII | Third Reich images in 2019 | World war two, Germany, Berlin 16 Funny Adolf Hitler Memes | Funny stuff | Pinterest | Funny, Quotes and Funny meme quotes Jak Hitler působil na Němce? | EuroZprávy.cz Gentiuno » Gente del Siglo XXI » El día en que ABC entrevistó a Adolf Hitler 7332 best Uncommon Valor - World War II images on Pinterest | World war two, Wwii and History 258 best images about Adolf Hitler on Pinterest | April 20, Bunker and Hitler youth Imágenes y Carteles de HITLER Pag. 155 | Desmotivaciones Adolf Hitler - JungleKey.fr Image (C) Mourning the Ancient NEIN NEIN NEIN NEIN! - Wikimerda, a enciclopédia que fede 希特勒沒輕生？科學家打臉 齒鑑定1945年亡｜東森新聞 Encuentran una “cápsula nazi” que llevaba 82 años enterrada y esto tenía dentro : AYAYAY Six posed portraits of Adolf Hitler giving a speech 6 works von Heinrich Hoffmann auf artnet Leituras do Giba: Janeiro 2009 Political Science, ..in Conclusion.. | pearlsofprofundity Why Hitler was such a successful orator | Business Insider Desvendando Adolf Hitler III: Viena, o início de Hitler! | Francisco Miranda - BLOG Adolf Hitler practices his speeches - Photos - Bizarre photos show Adolf Hitler practicing his speeches - NY Daily News Adolf Hitler practices his speeches - Photos - Bizarre photos show Adolf Hitler practicing his speeches | Bizarre photos, Ww2 history and Roman empire Миляга, такому в Европе прощали все...пока не случился 1939 г.: foto_history — LiveJournal CAFÉ DU COMMERCE.: septembre 2011\""
      ]
     },
     "execution_count": 19,
     "metadata": {
      "tags": []
     },
     "output_type": "execute_result"
    }
   ],
   "source": [
    "bing.iloc[1].combined_str"
   ]
  },
  {
   "cell_type": "code",
   "execution_count": 20,
   "metadata": {
    "colab": {
     "base_uri": "https://localhost:8080/",
     "height": 156
    },
    "colab_type": "code",
    "id": "rabrNKycTd3V",
    "outputId": "ed2b05d9-3ce0-4072-a855-d785c0a49969"
   },
   "outputs": [
    {
     "name": "stdout",
     "output_type": "stream",
     "text": [
      "[nltk_data] Downloading package punkt to /root/nltk_data...\n",
      "[nltk_data]   Unzipping tokenizers/punkt.zip.\n"
     ]
    },
    {
     "name": "stderr",
     "output_type": "stream",
     "text": [
      "/usr/local/lib/python3.6/dist-packages/nltk/tag/stanford.py:149: DeprecationWarning: \n",
      "The StanfordTokenizer will be deprecated in version 3.2.5.\n",
      "Please use \u001b[91mnltk.tag.corenlp.CoreNLPPOSTagger\u001b[0m or \u001b[91mnltk.tag.corenlp.CoreNLPNERTagger\u001b[0m instead.\n",
      "  super(StanfordPOSTagger, self).__init__(*args, **kwargs)\n"
     ]
    },
    {
     "name": "stdout",
     "output_type": "stream",
     "text": [
      "[('Hitler', 'NNP'), ('Triumph', 'NNP'), ('of', 'IN'), ('the', 'DT'), ('Will', 'NNP'), (',', ','), ('filmed', 'VBN'), ('by', 'IN'), ('Leni', 'NNP'), ('Riefenstahl', 'NNP'), ('in', 'IN'), ('September', 'NNP'), (',', ','), ('1934', 'CD'), ('.', '.'), ('She', 'PRP'), ('later', 'RB'), ('said', 'VBD'), ('she', 'PRP'), ('“', '``'), ('lived', 'VBD'), ('in', 'IN'), ('the', 'DT'), ('editing', 'NN'), ('room', 'NN'), ('”', \"''\"), ('for', 'IN'), ('the', 'DT'), ('next', 'JJ'), ('two', 'CD'), ('years', 'NNS'), ('...', ':'), ('Adolf', 'NNP'), ('Hitler', 'NNP'), ('’', \"''\"), ('s', 'POS'), ('Personal', 'NNP'), ('Bunker', 'NNP'), ('Telephone', 'NNP'), ('Is', 'VBZ'), ('Up', 'RP'), ('For', 'IN'), ('Auction', 'NN'), ('!', '.'), ('Will', 'MD'), ('You', 'PRP'), ('Pay', 'VB'), ('$', '$'), ('300,000', 'CD'), ('For', 'IN'), ('It', 'PRP'), ('?', '.'), ('~', 'SYM'), ('vintage', 'JJ'), ('everyday', 'JJ'), ('Mém', 'NN'), ('-', 'HYPH'), ('Humor', 'NN'), ('-', 'HYPH'), ('Vicces', 'NNS'), ('videók', 'NN'), ('-', 'HYPH'), ('Viccek', 'NN'), ('Adolf', 'NNP'), ('Hitler', 'NNP'), ('on', 'IN'), ('the', 'DT'), ('Nazi', 'NNP'), ('Party', 'NNP'), ('Congress', 'NNP'), ('in', 'IN'), ('Nuremberg', 'NNP'), (',', ','), ('1936', 'CD'), ('Stock', 'NNP'), ('Photo', 'NNP'), (',', ','), ('Royalty', 'NNP'), ('Free', 'NNP'), ('Image', 'NNP'), (':', ':'), ('36997613', 'CD'), ('-', 'HYPH'), ('Alamy', 'NN'), ('Telefone', 'NNP'), ('de', 'NNP'), ('Hitler', 'NNP'), ('vendido', 'NN'), ('por', 'NN'), ('239', 'CD'), ('mil', 'NN'), ('euros', 'NNS'), ('NAZI', 'NNP'), ('JERMAN', 'NNP'), (':', ':'), ('Foto', 'NNP'), ('Adolf', 'NNP'), ('Hitler', 'NNP'), ('di', 'NNP'), ('Tahun', 'NNP'), ('1935', 'CD'), ('Playle', 'NNP'), (\"'s\", 'POS'), (':', ':'), ('1935', 'CD'), ('NAZI', 'NNP'), ('Fuhrer', 'NNP'), ('Adolf', 'NNP'), ('Hitler', 'NNP'), ('Taking', 'VBG'), ('Phone', 'NN'), ('Call', 'NN'), ('From', 'IN'), ('Gauleiter', 'NNP'), ('Burckel', 'NNP'), ('Original', 'NNP'), ('Hoffman', 'NNP'), ('Photo', 'NNP'), ('-', 'HYPH'), ('Store', 'NNP'), ('Item', 'NN'), ('#', 'NN'), ('NKYPHOTOS200', 'NN'), ('801', 'CD'), ('best', 'JJS'), ('Hist', 'NN'), ('--', ':'), ('WWII-Nazi', 'NNP'), ('Germany', 'NNP'), ('images', 'NNS'), ('on', 'IN'), ('Pinterest', 'NNP'), ('|', 'NFP'), ('World', 'NNP'), ('war', 'NN'), ('two', 'CD'), (',', ','), ('Wwii', 'NNP'), ('and', 'CC'), ('Germany', 'NNP'), ('Nazi', 'NNP'), ('Party', 'NNP'), ('Stockfotos', 'NNPS'), ('&', 'CC'), ('Nazi', 'NNP'), ('Party', 'NNP'), ('Bilder', 'NNP'), ('-', 'HYPH'), ('Seite', 'NNP'), ('2', 'CD'), ('-', 'HYPH'), ('Alamy', 'NN'), ('Rescuing', 'VBG'), ('Israel', 'NNP'), (':', ':'), ('The', 'DT'), ('Holocaust', 'NNP'), ('–', 'SYM'), ('The', 'DT'), ('Man', 'NN'), ('–', 'HYPH'), ('12Bytes.org', 'NN'), ('ADOLF', 'NNP'), ('HITLER', 'NNP'), ('BEST', 'JJS'), ('PICTURES', 'NNS'), ('Adolf', 'NNP'), ('Hitler', 'NNP'), ('Portrait', 'NN'), ('Photos', 'NNS'), ('&', 'CC'), ('Adolf', 'NNP'), ('Hitler', 'NNP'), ('Portrait', 'NN'), ('Images', 'NNS'), ('-', ','), ('Alamy', 'NNP'), ('Hitler', 'NNP'), (\"'s\", 'POS'), ('phone', 'NN'), ('book', 'NN'), ('sells', 'VBZ'), ('for', 'IN'), ('twice', 'RB'), ('expected', 'VBN'), ('auction', 'NN'), ('price', 'NN'), ('|', 'NFP'), ('Daily', 'NNP'), ('Mail', 'NNP'), ('Online', 'NNP'), ('“', '``'), ('Hello', 'UH'), (',', ','), ('Julia', 'NNP'), ('?', '.'), ('It', 'PRP'), ('’', \"''\"), ('s', 'POS'), ('Hitler.', 'NN'), ('”', \"''\"), ('|', 'NFP'), ('Wonkville', 'NNP'), ('144', 'CD'), ('best', 'JJS'), ('images', 'NNS'), ('about', 'IN'), ('Adolf', 'NNP'), ('on', 'IN'), ('Pinterest', 'NNP'), ('|', 'NFP'), ('Hitler', 'NNP'), ('germany', 'NNP'), (',', ','), ('Luftwaffe', 'NNP'), ('and', 'CC'), ('April', 'NNP'), ('20', 'CD'), (\"'Adolf\", 'NNP'), ('Hitler', 'NNP'), (\"'\", 'POS'), ('-', 'HYPH'), ('large', 'JJ'), ('format', 'NN'), ('cigarette', 'NN'), ('card', 'NN'), ('book', 'NN'), ('published', 'VBN'), ('1936', 'CD'), ('207', 'CD'), ('Best', 'JJS'), ('WWII', 'NNP'), ('|', 'NFP'), ('Third', 'NNP'), ('Reich', 'NNP'), ('images', 'NNS'), ('in', 'IN'), ('2019', 'CD'), ('|', 'NFP'), ('World', 'NNP'), ('war', 'NN'), ('two', 'CD'), (',', ','), ('Germany', 'NNP'), (',', ','), ('Berlin', 'NNP'), ('16', 'CD'), ('Funny', 'JJ'), ('Adolf', 'NNP'), ('Hitler', 'NNP'), ('Memes', 'NNPS'), ('|', 'NFP'), ('Funny', 'JJ'), ('stuff', 'NN'), ('|', 'NFP'), ('Pinterest', 'JJS'), ('|', 'NFP'), ('Funny', 'NNP'), (',', ','), ('Quotes', 'NNP'), ('and', 'CC'), ('Funny', 'NNP'), ('meme', 'NN'), ('quotes', 'VBZ'), ('Jak', 'NNP'), ('Hitler', 'NNP'), ('působil', 'NN'), ('na', 'TO'), ('Němce', 'NNP'), ('?', '.'), ('|', 'NFP'), ('EuroZprávy.cz', 'NNP'), ('Gentiuno', 'NNP'), ('»', 'SYM'), ('Gente', 'NNP'), ('del', 'NNP'), ('Siglo', 'NNP'), ('XXI', 'NNP'), ('»', 'SYM'), ('El', 'NNP'), ('día', 'FW'), ('en', 'FW'), ('que', 'NN'), ('ABC', 'NNP'), ('entrevistó', 'VBD'), ('a', 'DT'), ('Adolf', 'NNP'), ('Hitler', 'NNP'), ('7332', 'CD'), ('best', 'JJS'), ('Uncommon', 'NNP'), ('Valor', 'NNP'), ('-', 'HYPH'), ('World', 'NNP'), ('War', 'NNP'), ('II', 'NNP'), ('images', 'NNS'), ('on', 'IN'), ('Pinterest', 'NNP'), ('|', 'NFP'), ('World', 'NNP'), ('war', 'NN'), ('two', 'CD'), (',', ','), ('Wwii', 'NNP'), ('and', 'CC'), ('History', 'NNP'), ('258', 'CD'), ('best', 'JJS'), ('images', 'NNS'), ('about', 'IN'), ('Adolf', 'NNP'), ('Hitler', 'NNP'), ('on', 'IN'), ('Pinterest', 'NNP'), ('|', 'NFP'), ('April', 'NNP'), ('20', 'CD'), (',', ','), ('Bunker', 'NNP'), ('and', 'CC'), ('Hitler', 'NNP'), ('youth', 'NN'), ('Imágenes', 'NNP'), ('y', 'NNP'), ('Carteles', 'NNP'), ('de', 'NNP'), ('HITLER', 'NNP'), ('Pag', 'NNP'), ('.', '.'), ('155', 'CD'), ('|', 'NFP'), ('Desmotivaciones', 'NNPS'), ('Adolf', 'NNP'), ('Hitler', 'NNP'), ('-', 'HYPH'), ('JungleKey.fr', 'NNP'), ('Image', 'NN'), ('(', '-LRB-'), ('C', 'NN'), (')', '-RRB-'), ('Mourning', 'VBG'), ('the', 'DT'), ('Ancient', 'NNP'), ('NEIN', 'NNP'), ('NEIN', 'NNP'), ('NEIN', 'NNP'), ('NEIN', 'NNP'), ('!', '.'), ('-', 'HYPH'), ('Wikimerda', 'NNP'), (',', ','), ('a', 'DT'), ('enciclopédia', 'NN'), ('que', 'NN'), ('fede', 'NN'), ('希特勒沒輕生？科學家打臉', 'NN'), ('齒鑑定1945年亡｜東森新聞', 'NN'), ('Encuentran', 'NNP'), ('una', 'FW'), ('“', '``'), ('cápsula', 'NN'), ('nazi', 'NN'), ('”', \"''\"), ('que', 'NN'), ('llevaba', 'NN'), ('82', 'CD'), ('años', 'NNS'), ('enterrada', 'FW'), ('y', 'FW'), ('esto', 'FW'), ('tenía', 'FW'), ('dentro', 'FW'), (':', ':'), ('AYAYAY', 'NNP'), ('Six', 'NNP'), ('posed', 'VBD'), ('portraits', 'NNS'), ('of', 'IN'), ('Adolf', 'NNP'), ('Hitler', 'NNP'), ('giving', 'VBG'), ('a', 'DT'), ('speech', 'NN'), ('6', 'CD'), ('works', 'VBZ'), ('von', 'NNP'), ('Heinrich', 'NNP'), ('Hoffmann', 'NNP'), ('auf', 'NN'), ('artnet', 'NN'), ('Leituras', 'NNP'), ('do', 'VBP'), ('Giba', 'NNP'), (':', ':'), ('Janeiro', 'NNP'), ('2009', 'CD'), ('Political', 'NNP'), ('Science', 'NNP'), (',', ','), ('..in', 'NN'), ('Conclusion..', 'NN'), ('|', 'NFP'), ('pearlsofprofundity', 'NN'), ('Why', 'WRB'), ('Hitler', 'NNP'), ('was', 'VBD'), ('such', 'PDT'), ('a', 'DT'), ('successful', 'JJ'), ('orator', 'NN'), ('|', 'NFP'), ('Business', 'NNP'), ('Insider', 'NNP'), ('Desvendando', 'NNP'), ('Adolf', 'NNP'), ('Hitler', 'NNP'), ('III', 'NNP'), (':', ':'), ('Viena', 'NNP'), (',', ','), ('o', 'NNP'), ('início', 'NNP'), ('de', 'NNP'), ('Hitler', 'NNP'), ('!', '.'), ('|', 'NFP'), ('Francisco', 'NNP'), ('Miranda', 'NNP'), ('-', ':'), ('BLOG', 'NN'), ('Adolf', 'NNP'), ('Hitler', 'NNP'), ('practices', 'VBZ'), ('his', 'PRP$'), ('speeches', 'NNS'), ('-', 'HYPH'), ('Photos', 'NNS'), ('-', 'HYPH'), ('Bizarre', 'JJ'), ('photos', 'NNS'), ('show', 'VBP'), ('Adolf', 'NNP'), ('Hitler', 'NNP'), ('practicing', 'VBG'), ('his', 'PRP$'), ('speeches', 'NNS'), ('-', 'HYPH'), ('NY', 'NNP'), ('Daily', 'NNP'), ('News', 'NNP'), ('Adolf', 'NNP'), ('Hitler', 'NNP'), ('practices', 'VBZ'), ('his', 'PRP$'), ('speeches', 'NNS'), ('-', 'HYPH'), ('Photos', 'NNS'), ('-', 'HYPH'), ('Bizarre', 'JJ'), ('photos', 'NNS'), ('show', 'VBP'), ('Adolf', 'NNP'), ('Hitler', 'NNP'), ('practicing', 'VBG'), ('his', 'PRP$'), ('speeches', 'NNS'), ('|', 'NFP'), ('Bizarre', 'JJ'), ('photos', 'NNS'), (',', ','), ('Ww2', 'NN'), ('history', 'NN'), ('and', 'CC'), ('Roman', 'JJ'), ('empire', 'NN'), ('Миляга', 'NNP'), (',', ','), ('такому', 'NN'), ('в', 'SYM'), ('Европе', 'NN'), ('прощали', 'NN'), ('все', 'NN'), ('...', ':'), ('пока', 'NN'), ('не', 'NN'), ('случился', 'NN'), ('1939', 'CD'), ('г.', 'NN'), (':', ':'), ('fotohistory', 'NN'), ('—', 'HYPH'), ('LiveJournal', 'NNP'), ('CAFÉ', 'NNP'), ('DU', 'NNP'), ('COMMERCE', 'NNP'), ('.', '.'), (':', ':'), ('septembre', 'NNP'), ('2011', 'CD')]\n"
     ]
    }
   ],
   "source": [
    "import nltk\n",
    "nltk.download('punkt')\n",
    "from nltk.tag import StanfordPOSTagger\n",
    "from nltk import word_tokenize\n",
    "\n",
    "# Add the jar and model via their path (instead of setting environment variables):\n",
    "jar = '/content/gdrive/My Drive/colab/data_sources/hateful_memes/stanford-postagger.jar'\n",
    "model = '/content/gdrive/My Drive/colab/data_sources/hateful_memes/english-left3words-distsim.tagger'\n",
    "\n",
    "pos_tagger = StanfordPOSTagger(model, jar, encoding='utf8')\n",
    "\n",
    "text = pos_tagger.tag(word_tokenize(bing.iloc[1].combined_str))\n",
    "print(text)\n"
   ]
  },
  {
   "cell_type": "markdown",
   "metadata": {
    "colab_type": "text",
    "id": "3eF6jSQn9ew5"
   },
   "source": [
    "## Run More Sophisticated Feature Extraction"
   ]
  },
  {
   "cell_type": "code",
   "execution_count": 21,
   "metadata": {
    "colab": {},
    "colab_type": "code",
    "id": "CGvUTIvwZqr4"
   },
   "outputs": [],
   "source": [
    "getty=pd.read_csv(\"/content/gdrive/My Drive/colab/data_sources/hateful_memes/cleaned_getty_data.csv\")"
   ]
  },
  {
   "cell_type": "code",
   "execution_count": 22,
   "metadata": {
    "colab": {},
    "colab_type": "code",
    "id": "NMqIa7vgsyhp"
   },
   "outputs": [],
   "source": [
    "getty_dict=getty.to_dict('records')"
   ]
  },
  {
   "cell_type": "code",
   "execution_count": 23,
   "metadata": {
    "colab": {
     "base_uri": "https://localhost:8080/",
     "height": 411
    },
    "colab_type": "code",
    "id": "nWNwAjLKs2lt",
    "outputId": "bcb62155-be06-4511-d575-77b5468864ad"
   },
   "outputs": [
    {
     "data": {
      "text/plain": [
       "{'Color_Score': 14.358935999999998,\n",
       " 'Key_Point_Score': 144301.06523895267,\n",
       " 'Unnamed: 0': 0,\n",
       " 'best_caption': 'Drugs',\n",
       " 'best_tags': 'Opioid   Syringe   Addiction   Despair   Heroin   Addict   Drug Overdose   Recreational Drug   Teenager   IV Drip   Abuse   Adult Amphetamine   Close-Up   Cocaine   Criminal   Danger   Dependency   Depression - Sadness   Emotional Stress   Forbidden   Frustration   Grief   Hand   Healthcare And Medicine   Horizontal   Human Body Part   Human Hand   Illness   Photography   Problems   Risk   Sharp   Snorting   Thailand   Vein   Worried   Photos',\n",
       " 'caption': 'Drugs',\n",
       " 'color_caption': 'Drugs',\n",
       " 'color_img_url': 'https://media.gettyimages.com/photos/drugs-picture-id1016370166?s=2048x2048',\n",
       " 'color_score_rank': 1.0,\n",
       " 'color_tags': 'Opioid Photos,Syringe Photos,Addiction Photos,Despair Photos,Heroin Photos,Addict Photos,Drug Overdose Photos,Recreational Drug Photos,Teenager Photos,IV Drip Photos,Abuse Photos,Adult,Amphetamine Photos,Close-Up Photos,Cocaine Photos,Criminal Photos,Danger Photos,Dependency Photos,Depression - Sadness Photos,Emotional Stress Photos,Forbidden Photos,Frustration Photos,Grief Photos,Hand Photos,Healthcare And Medicine Photos,Horizontal Photos,Human Body Part Photos,Human Hand Photos,Illness Photos,Photography Photos,Problems Photos,Risk Photos,Sharp Photos,Snorting Photos,Thailand Photos,Vein Photos,Worried Photos',\n",
       " 'color_url': 'https://www.gettyimages.co.uk/detail/photo/drugs-royalty-free-image/1016370166',\n",
       " 'id': 1.0,\n",
       " 'image': 56482,\n",
       " 'img_url': 'https://media.gettyimages.com/photos/drugs-picture-id1016370166?s=2048x2048',\n",
       " 'key_point_caption': 'Drugs',\n",
       " 'key_point_img_url': 'https://media.gettyimages.com/photos/drugs-picture-id1016370166?s=2048x2048',\n",
       " 'key_point_score_rank': 1.0,\n",
       " 'key_point_tags': 'Opioid Photos,Syringe Photos,Addiction Photos,Despair Photos,Heroin Photos,Addict Photos,Drug Overdose Photos,Recreational Drug Photos,Teenager Photos,IV Drip Photos,Abuse Photos,Adult,Amphetamine Photos,Close-Up Photos,Cocaine Photos,Criminal Photos,Danger Photos,Dependency Photos,Depression - Sadness Photos,Emotional Stress Photos,Forbidden Photos,Frustration Photos,Grief Photos,Hand Photos,Healthcare And Medicine Photos,Horizontal Photos,Human Body Part Photos,Human Hand Photos,Illness Photos,Photography Photos,Problems Photos,Risk Photos,Sharp Photos,Snorting Photos,Thailand Photos,Vein Photos,Worried Photos',\n",
       " 'key_point_url': 'https://www.gettyimages.co.uk/detail/photo/drugs-royalty-free-image/1016370166',\n",
       " 'src': 56482,\n",
       " 'tags': 'Opioid Photos,Syringe Photos,Addiction Photos,Despair Photos,Heroin Photos,Addict Photos,Drug Overdose Photos,Recreational Drug Photos,Teenager Photos,IV Drip Photos,Abuse Photos,Adult,Amphetamine Photos,Close-Up Photos,Cocaine Photos,Criminal Photos,Danger Photos,Dependency Photos,Depression - Sadness Photos,Emotional Stress Photos,Forbidden Photos,Frustration Photos,Grief Photos,Hand Photos,Healthcare And Medicine Photos,Horizontal Photos,Human Body Part Photos,Human Hand Photos,Illness Photos,Photography Photos,Problems Photos,Risk Photos,Sharp Photos,Snorting Photos,Thailand Photos,Vein Photos,Worried Photos',\n",
       " 'url': 'https://www.gettyimages.co.uk/detail/photo/drugs-royalty-free-image/1016370166'}"
      ]
     },
     "execution_count": 23,
     "metadata": {
      "tags": []
     },
     "output_type": "execute_result"
    }
   ],
   "source": [
    "getty_dict[0]"
   ]
  },
  {
   "cell_type": "code",
   "execution_count": 24,
   "metadata": {
    "colab": {
     "base_uri": "https://localhost:8080/",
     "height": 85
    },
    "colab_type": "code",
    "id": "k0yECGKRmUx7",
    "outputId": "0df716f0-87dd-42e5-86e2-4e40442cbdad"
   },
   "outputs": [
    {
     "data": {
      "text/plain": [
       "{'id': 42953,\n",
       " 'img': 'img/42953.png',\n",
       " 'label': 0,\n",
       " 'text': 'its their character not their color that matters'}"
      ]
     },
     "execution_count": 24,
     "metadata": {
      "tags": []
     },
     "output_type": "execute_result"
    }
   ],
   "source": [
    "data[0]"
   ]
  },
  {
   "cell_type": "code",
   "execution_count": 25,
   "metadata": {
    "colab": {},
    "colab_type": "code",
    "id": "B_n55oNntK4_"
   },
   "outputs": [],
   "source": [
    "data_ids=[d.get('id') for d in data]\n",
    "# [getty_dict[x] for id in data_ids]\n",
    "# x=next((item for item in getty_dict if item[\"image\"] == 56482), None)\n",
    "\n",
    "getty_captions=[]\n",
    "getty_tags=[]\n",
    "getty_color_score_features=[]\n",
    "\n",
    "for id in data_ids:\n",
    "  getty_captions.append(next((l['best_caption'] for l in getty_dict if l['image'] == id), ''))\n",
    "  getty_tags.append(next((l['best_tags'] for l in getty_dict if l['image'] == id), ''))\n",
    "  getty_color_score_features.append(next((l['Color_Score'] for l in getty_dict if l['image'] == id), 99999))\n",
    "\n",
    "getty_captions_clean=['' if v is None else str(v) for v in getty_captions]\n",
    "getty_tags_clean=['' if v is None else str(v) for v in getty_tags]\n"
   ]
  },
  {
   "cell_type": "code",
   "execution_count": null,
   "metadata": {
    "colab": {},
    "colab_type": "code",
    "id": "s1wzrE-JcGni"
   },
   "outputs": [],
   "source": []
  },
  {
   "cell_type": "code",
   "execution_count": 26,
   "metadata": {
    "colab": {
     "base_uri": "https://localhost:8080/",
     "height": 34
    },
    "colab_type": "code",
    "id": "QTIsQWxS0g9g",
    "outputId": "32187740-9fb3-461b-9a30-ccb5e3b21428"
   },
   "outputs": [
    {
     "data": {
      "text/plain": [
       "True"
      ]
     },
     "execution_count": 26,
     "metadata": {
      "tags": []
     },
     "output_type": "execute_result"
    }
   ],
   "source": [
    "getty_captions_clean[0]\n",
    "all(isinstance(x, str) for x in getty_captions_clean)"
   ]
  },
  {
   "cell_type": "code",
   "execution_count": null,
   "metadata": {
    "colab": {
     "base_uri": "https://localhost:8080/",
     "height": 375
    },
    "colab_type": "code",
    "id": "cgEoP4LnxycH",
    "outputId": "fe6c5695-5858-4fb4-a999-ed1d839be030"
   },
   "outputs": [
    {
     "ename": "KeyboardInterrupt",
     "evalue": "ignored",
     "output_type": "error",
     "traceback": [
      "\u001b[0;31m---------------------------------------------------------------------------\u001b[0m",
      "\u001b[0;31mKeyboardInterrupt\u001b[0m                         Traceback (most recent call last)",
      "\u001b[0;32m<ipython-input-131-fab5ea58541d>\u001b[0m in \u001b[0;36m<module>\u001b[0;34m()\u001b[0m\n\u001b[1;32m     13\u001b[0m \u001b[0mimage_rcnn_data\u001b[0m\u001b[0;34m=\u001b[0m\u001b[0mextract_image_features_rcnn\u001b[0m\u001b[0;34m(\u001b[0m\u001b[0mdata\u001b[0m\u001b[0;34m,\u001b[0m\u001b[0;36m0.7\u001b[0m\u001b[0;34m)\u001b[0m\u001b[0;34m\u001b[0m\u001b[0;34m\u001b[0m\u001b[0m\n\u001b[1;32m     14\u001b[0m \u001b[0mdesc_labels\u001b[0m\u001b[0;34m=\u001b[0m\u001b[0;34m[\u001b[0m\u001b[0;34m[\u001b[0m\u001b[0mx\u001b[0m\u001b[0;34m[\u001b[0m\u001b[0;34m\"text\"\u001b[0m\u001b[0;34m]\u001b[0m\u001b[0;34m,\u001b[0m\u001b[0mx\u001b[0m\u001b[0;34m[\u001b[0m\u001b[0;34m\"label\"\u001b[0m\u001b[0;34m]\u001b[0m\u001b[0;34m]\u001b[0m \u001b[0;32mfor\u001b[0m \u001b[0mx\u001b[0m \u001b[0;32min\u001b[0m \u001b[0mdata\u001b[0m\u001b[0;34m]\u001b[0m\u001b[0;34m\u001b[0m\u001b[0;34m\u001b[0m\u001b[0m\n\u001b[0;32m---> 15\u001b[0;31m \u001b[0mgetty_tag_data\u001b[0m\u001b[0;34m=\u001b[0m\u001b[0mextract_text_features_simple\u001b[0m\u001b[0;34m(\u001b[0m\u001b[0mgetty_tags_clean\u001b[0m\u001b[0;34m,\u001b[0m\u001b[0mmodel_text\u001b[0m\u001b[0;34m)\u001b[0m\u001b[0;34m\u001b[0m\u001b[0;34m\u001b[0m\u001b[0m\n\u001b[0m\u001b[1;32m     16\u001b[0m \u001b[0mgetty_caption_data\u001b[0m\u001b[0;34m=\u001b[0m\u001b[0mextract_text_features_simple\u001b[0m\u001b[0;34m(\u001b[0m\u001b[0mgetty_captions_clean\u001b[0m\u001b[0;34m,\u001b[0m\u001b[0mmodel_text\u001b[0m\u001b[0;34m)\u001b[0m\u001b[0;34m\u001b[0m\u001b[0;34m\u001b[0m\u001b[0m\n",
      "\u001b[0;32m<ipython-input-11-8feacd4242a6>\u001b[0m in \u001b[0;36mextract_text_features_simple\u001b[0;34m(data, model)\u001b[0m\n\u001b[1;32m      1\u001b[0m \u001b[0;32mdef\u001b[0m \u001b[0mextract_text_features_simple\u001b[0m\u001b[0;34m(\u001b[0m\u001b[0mdata\u001b[0m\u001b[0;34m,\u001b[0m \u001b[0mmodel\u001b[0m\u001b[0;34m)\u001b[0m\u001b[0;34m:\u001b[0m\u001b[0;34m\u001b[0m\u001b[0;34m\u001b[0m\u001b[0m\n\u001b[0;32m----> 2\u001b[0;31m     \u001b[0;32mreturn\u001b[0m \u001b[0mmodel\u001b[0m\u001b[0;34m.\u001b[0m\u001b[0mencode\u001b[0m\u001b[0;34m(\u001b[0m\u001b[0mdata\u001b[0m\u001b[0;34m)\u001b[0m\u001b[0;34m\u001b[0m\u001b[0;34m\u001b[0m\u001b[0m\n\u001b[0m",
      "\u001b[0;32m/usr/local/lib/python3.6/dist-packages/sentence_transformers/SentenceTransformer.py\u001b[0m in \u001b[0;36mencode\u001b[0;34m(self, sentences, batch_size, show_progress_bar, output_value, convert_to_numpy, convert_to_tensor, is_pretokenized)\u001b[0m\n\u001b[1;32m    182\u001b[0m \u001b[0;34m\u001b[0m\u001b[0m\n\u001b[1;32m    183\u001b[0m             \u001b[0;32mfor\u001b[0m \u001b[0mfeature_name\u001b[0m \u001b[0;32min\u001b[0m \u001b[0mfeatures\u001b[0m\u001b[0;34m:\u001b[0m\u001b[0;34m\u001b[0m\u001b[0;34m\u001b[0m\u001b[0m\n\u001b[0;32m--> 184\u001b[0;31m                 \u001b[0mfeatures\u001b[0m\u001b[0;34m[\u001b[0m\u001b[0mfeature_name\u001b[0m\u001b[0;34m]\u001b[0m \u001b[0;34m=\u001b[0m \u001b[0mtorch\u001b[0m\u001b[0;34m.\u001b[0m\u001b[0mcat\u001b[0m\u001b[0;34m(\u001b[0m\u001b[0mfeatures\u001b[0m\u001b[0;34m[\u001b[0m\u001b[0mfeature_name\u001b[0m\u001b[0;34m]\u001b[0m\u001b[0;34m)\u001b[0m\u001b[0;34m.\u001b[0m\u001b[0mto\u001b[0m\u001b[0;34m(\u001b[0m\u001b[0mself\u001b[0m\u001b[0;34m.\u001b[0m\u001b[0m_target_device\u001b[0m\u001b[0;34m)\u001b[0m\u001b[0;34m\u001b[0m\u001b[0;34m\u001b[0m\u001b[0m\n\u001b[0m\u001b[1;32m    185\u001b[0m \u001b[0;34m\u001b[0m\u001b[0m\n\u001b[1;32m    186\u001b[0m             \u001b[0;32mwith\u001b[0m \u001b[0mtorch\u001b[0m\u001b[0;34m.\u001b[0m\u001b[0mno_grad\u001b[0m\u001b[0;34m(\u001b[0m\u001b[0;34m)\u001b[0m\u001b[0;34m:\u001b[0m\u001b[0;34m\u001b[0m\u001b[0;34m\u001b[0m\u001b[0m\n",
      "\u001b[0;31mKeyboardInterrupt\u001b[0m: "
     ]
    }
   ],
   "source": [
    "image_ex_path=\"/content/gdrive/My Drive/colab/data_sources/hateful_memes/\"\n",
    "data_ex_path=\"/content/gdrive/My Drive/colab/data_sources/hateful_memes/train.jsonl\"\n",
    "    # bert_path=\"/home/jupyter/ThreeDAnime/bert_folder\"\n",
    "featurized_data_path=\"/content/gdrive/My Drive/colab/data_sources/hateful_memes/\"\n",
    "inception = models.resnet18()\n",
    "\n",
    "data = []\n",
    "\n",
    "with open(data_ex_path) as f:\n",
    "  for el in f:\n",
    "    data.append(json.loads(el))# Create features without looping\n",
    "textData=extract_text_features_simple([d.get('text') for d in data],model_text)\n",
    "image_rcnn_data=extract_image_features_rcnn(data,0.7)\n",
    "desc_labels=[[x[\"text\"],x[\"label\"]] for x in data]\n",
    "getty_tag_data=extract_text_features_simple(getty_tags_clean,model_text)\n",
    "getty_caption_data=extract_text_features_simple(getty_captions_clean,model_text)"
   ]
  },
  {
   "cell_type": "code",
   "execution_count": 27,
   "metadata": {
    "colab": {
     "base_uri": "https://localhost:8080/",
     "height": 204
    },
    "colab_type": "code",
    "id": "9IUOkXKwcMAH",
    "outputId": "0ac42fb4-b9b9-4d80-e228-36fc3e23eedb"
   },
   "outputs": [
    {
     "data": {
      "text/html": [
       "<div>\n",
       "<style scoped>\n",
       "    .dataframe tbody tr th:only-of-type {\n",
       "        vertical-align: middle;\n",
       "    }\n",
       "\n",
       "    .dataframe tbody tr th {\n",
       "        vertical-align: top;\n",
       "    }\n",
       "\n",
       "    .dataframe thead th {\n",
       "        text-align: right;\n",
       "    }\n",
       "</style>\n",
       "<table border=\"1\" class=\"dataframe\">\n",
       "  <thead>\n",
       "    <tr style=\"text-align: right;\">\n",
       "      <th></th>\n",
       "      <th>id</th>\n",
       "      <th>getty_caption</th>\n",
       "      <th>getty_tag</th>\n",
       "      <th>color_score</th>\n",
       "      <th>img_text</th>\n",
       "      <th>label</th>\n",
       "    </tr>\n",
       "  </thead>\n",
       "  <tbody>\n",
       "    <tr>\n",
       "      <th>0</th>\n",
       "      <td>42953</td>\n",
       "      <td>Portrait of a real young man. Sharp focus on eyes</td>\n",
       "      <td>Men   Overweight   Portrait   Human Face   Bea...</td>\n",
       "      <td>9.633716</td>\n",
       "      <td>its their character not their color that matters</td>\n",
       "      <td>0</td>\n",
       "    </tr>\n",
       "    <tr>\n",
       "      <th>1</th>\n",
       "      <td>23058</td>\n",
       "      <td>Handsome young groom sweetly kisses his bride'...</td>\n",
       "      <td>Wedding   African Ethnicity   Bride   Couple -...</td>\n",
       "      <td>4.856464</td>\n",
       "      <td>don't be afraid to love again everyone is not ...</td>\n",
       "      <td>0</td>\n",
       "    </tr>\n",
       "    <tr>\n",
       "      <th>2</th>\n",
       "      <td>13894</td>\n",
       "      <td>A local/homeless cat in daily life in the vill...</td>\n",
       "      <td>Domestic Cat   Portrait   Abandoned   Animal  ...</td>\n",
       "      <td>26.664872</td>\n",
       "      <td>putting bows on your pet</td>\n",
       "      <td>0</td>\n",
       "    </tr>\n",
       "    <tr>\n",
       "      <th>3</th>\n",
       "      <td>37408</td>\n",
       "      <td>Photo taken in Kirkcaldy, United Kingdom</td>\n",
       "      <td>Animal   Animal Body Part   Animal Eye   Anima...</td>\n",
       "      <td>11.788920</td>\n",
       "      <td>i love everything and everybody! except for sq...</td>\n",
       "      <td>0</td>\n",
       "    </tr>\n",
       "    <tr>\n",
       "      <th>4</th>\n",
       "      <td>82403</td>\n",
       "      <td>Large group of business people cheering while ...</td>\n",
       "      <td>Excitement   Business   Watching TV   Board Ro...</td>\n",
       "      <td>136.522464</td>\n",
       "      <td>everybody loves chocolate chip cookies, even h...</td>\n",
       "      <td>0</td>\n",
       "    </tr>\n",
       "  </tbody>\n",
       "</table>\n",
       "</div>"
      ],
      "text/plain": [
       "      id  ... label\n",
       "0  42953  ...     0\n",
       "1  23058  ...     0\n",
       "2  13894  ...     0\n",
       "3  37408  ...     0\n",
       "4  82403  ...     0\n",
       "\n",
       "[5 rows x 6 columns]"
      ]
     },
     "execution_count": 27,
     "metadata": {
      "tags": []
     },
     "output_type": "execute_result"
    }
   ],
   "source": [
    "text_df = pd.DataFrame({'id':data_ids, 'getty_caption':getty_captions_clean,'getty_tag':getty_tags_clean, 'color_score':getty_color_score_features, 'img_text': [d.get('text') for d in data],\n",
    "                         'label': [d.get('label') for d in data]})\n",
    "#10423 (tail 10) is fucked up\n",
    "\n",
    "text_df.head()"
   ]
  },
  {
   "cell_type": "code",
   "execution_count": 28,
   "metadata": {
    "colab": {},
    "colab_type": "code",
    "id": "Ppcb_Zb1hnf1"
   },
   "outputs": [],
   "source": [
    "bing=bing[~bing['image_clean'].str.contains(\"\\(\")]\n",
    "bing['image_clean']=bing['image_clean'].astype(int)"
   ]
  },
  {
   "cell_type": "code",
   "execution_count": 29,
   "metadata": {
    "colab": {
     "base_uri": "https://localhost:8080/",
     "height": 34
    },
    "colab_type": "code",
    "id": "AWKuLFUEzz-W",
    "outputId": "5d54f370-90e2-4867-ccd8-d56d2a7a9488"
   },
   "outputs": [
    {
     "data": {
      "text/plain": [
       "(8500, 18)"
      ]
     },
     "execution_count": 29,
     "metadata": {
      "tags": []
     },
     "output_type": "execute_result"
    }
   ],
   "source": [
    "text_df=text_df.merge(bing, how='left',  left_on=['id'], right_on = ['image_clean'])\n",
    "text_df.head()\n",
    "text_df.shape"
   ]
  },
  {
   "cell_type": "code",
   "execution_count": 29,
   "metadata": {
    "colab": {},
    "colab_type": "code",
    "id": "E_1vW-k22Bpk"
   },
   "outputs": [],
   "source": []
  },
  {
   "cell_type": "code",
   "execution_count": 30,
   "metadata": {
    "colab": {
     "base_uri": "https://localhost:8080/",
     "height": 68
    },
    "colab_type": "code",
    "id": "QS1uMZ1C0HiG",
    "outputId": "246d4faa-f69d-4782-97c6-acebdcd9062a"
   },
   "outputs": [
    {
     "data": {
      "text/plain": [
       "False    0.971412\n",
       "True     0.028588\n",
       "Name: feature_hitler, dtype: float64"
      ]
     },
     "execution_count": 30,
     "metadata": {
      "tags": []
     },
     "output_type": "execute_result"
    }
   ],
   "source": [
    "text_df[\"combined_text\"] = text_df[\"getty_caption\"] + ' '+ text_df[\"getty_tag\"] + ' '+ text_df[\"img_text\"]+ ' '+ text_df[\"combined_str\"].fillna('')\n",
    "text_df['feature_hitler'] = text_df[\"combined_text\"].str.lower().str.contains(\"hitler\", na=False)\n",
    "text_df['feature_hitler'].value_counts(normalize=True)"
   ]
  },
  {
   "cell_type": "code",
   "execution_count": 31,
   "metadata": {
    "colab": {
     "base_uri": "https://localhost:8080/",
     "height": 258
    },
    "colab_type": "code",
    "id": "mEmC7EFLe9TA",
    "outputId": "964b0f4a-7e7d-41fe-fc7c-5739bc639e2d"
   },
   "outputs": [
    {
     "name": "stdout",
     "output_type": "stream",
     "text": [
      "Collecting hatesonar\n",
      "\u001b[?25l  Downloading https://files.pythonhosted.org/packages/d7/85/8b2fc72232935c1833a556969194c183c5781c445f08404472e2dd941a3d/hatesonar-0.0.7-py3-none-any.whl (883kB)\n",
      "\u001b[K     |████████████████████████████████| 890kB 4.9MB/s \n",
      "\u001b[?25hRequirement already satisfied: scikit-learn>=0.19.1 in /usr/local/lib/python3.6/dist-packages (from hatesonar) (0.22.2.post1)\n",
      "Requirement already satisfied: joblib>=0.16.0 in /usr/local/lib/python3.6/dist-packages (from hatesonar) (0.16.0)\n",
      "Requirement already satisfied: numpy>=1.14.0 in /usr/local/lib/python3.6/dist-packages (from hatesonar) (1.18.5)\n",
      "Requirement already satisfied: pandas>=0.22.0 in /usr/local/lib/python3.6/dist-packages (from hatesonar) (1.0.5)\n",
      "Requirement already satisfied: scipy>=1.0.0 in /usr/local/lib/python3.6/dist-packages (from hatesonar) (1.4.1)\n",
      "Requirement already satisfied: pytz>=2017.2 in /usr/local/lib/python3.6/dist-packages (from pandas>=0.22.0->hatesonar) (2018.9)\n",
      "Requirement already satisfied: python-dateutil>=2.6.1 in /usr/local/lib/python3.6/dist-packages (from pandas>=0.22.0->hatesonar) (2.8.1)\n",
      "Requirement already satisfied: six>=1.5 in /usr/local/lib/python3.6/dist-packages (from python-dateutil>=2.6.1->pandas>=0.22.0->hatesonar) (1.15.0)\n",
      "Installing collected packages: hatesonar\n",
      "Successfully installed hatesonar-0.0.7\n"
     ]
    }
   ],
   "source": [
    "!pip install hatesonar"
   ]
  },
  {
   "cell_type": "code",
   "execution_count": 32,
   "metadata": {
    "colab": {
     "base_uri": "https://localhost:8080/",
     "height": 173
    },
    "colab_type": "code",
    "id": "-3y36DVWfBYt",
    "outputId": "56409989-5321-4006-889c-5f99689cb4f4"
   },
   "outputs": [
    {
     "name": "stderr",
     "output_type": "stream",
     "text": [
      "/usr/local/lib/python3.6/dist-packages/sklearn/utils/deprecation.py:144: FutureWarning: The sklearn.linear_model.logistic module is  deprecated in version 0.22 and will be removed in version 0.24. The corresponding classes / functions should instead be imported from sklearn.linear_model. Anything that cannot be imported from sklearn.linear_model is now part of the private API.\n",
      "  warnings.warn(message, FutureWarning)\n",
      "/usr/local/lib/python3.6/dist-packages/sklearn/base.py:318: UserWarning: Trying to unpickle estimator LogisticRegression from version 0.19.1 when using version 0.22.2.post1. This might lead to breaking code or invalid results. Use at your own risk.\n",
      "  UserWarning)\n",
      "/usr/local/lib/python3.6/dist-packages/sklearn/base.py:318: UserWarning: Trying to unpickle estimator TfidfTransformer from version 0.19.1 when using version 0.22.2.post1. This might lead to breaking code or invalid results. Use at your own risk.\n",
      "  UserWarning)\n",
      "/usr/local/lib/python3.6/dist-packages/sklearn/base.py:318: UserWarning: Trying to unpickle estimator TfidfVectorizer from version 0.19.1 when using version 0.22.2.post1. This might lead to breaking code or invalid results. Use at your own risk.\n",
      "  UserWarning)\n"
     ]
    }
   ],
   "source": [
    "from hatesonar import Sonar\n",
    "sonar = Sonar()\n",
    "# sonar.ping(text=\"At least I'm not a nigger\")"
   ]
  },
  {
   "cell_type": "code",
   "execution_count": 33,
   "metadata": {
    "colab": {},
    "colab_type": "code",
    "id": "KYOvfanvlvIL"
   },
   "outputs": [],
   "source": [
    "# [d.get('text') for d in data][0]\n",
    "# getty_captions_clean[0]"
   ]
  },
  {
   "cell_type": "code",
   "execution_count": 34,
   "metadata": {
    "colab": {},
    "colab_type": "code",
    "id": "N_3oHmRpfKnL"
   },
   "outputs": [],
   "source": [
    "ctext_list=text_df.combined_text.to_list()\n",
    "#ctext_list = [a + ' ' + b+ ' ' + c for a, b, c in zip([d.get('text') for d in data], getty_captions_clean, getty_tags_clean)]\n",
    "# ctext_list=[d.get('text') for d in data]"
   ]
  },
  {
   "cell_type": "code",
   "execution_count": 35,
   "metadata": {
    "colab": {
     "base_uri": "https://localhost:8080/",
     "height": 137
    },
    "colab_type": "code",
    "id": "lUr5i-_Zl8-t",
    "outputId": "d6a36811-476a-4ec0-b23a-82ed3ac5c31a"
   },
   "outputs": [
    {
     "data": {
      "application/vnd.google.colaboratory.intrinsic+json": {
       "type": "string"
      },
      "text/plain": [
       "'Portrait of a real young man. Sharp focus on eyes Men   Overweight   Portrait   Human Face   Beard   Pride   Males   Negative Emotion   Sadness   Black Background   Studio Shot   Displeased   Attitude   Moustache   Young Adult   Characters   Latin American and Hispanic   Pale Complexion   Youth Culture   20-29 Years   Authority   Black   Fine Art Portrait   Masculinity   Photography   Serious   Staring   Young Men   Adult Adults Only   Beautiful People   Catalonia   Caucasian Appearance   Colour Image   Differential Focus   Disappointment   Extreme Close Up   Facial Expression   Facial Hair   Handsome People   Headshot   Human Body Part   Human Head   Image Focus Technique   Individuality   Long Hair   Looking At Camera   Macro   Mixed Race Person   Mug Shot   One Man Only   One Person   One Young Man Only   Only Men   People   Real People   Rebellion   Serene People   Southern European   Spain   Spanish Culture   Vertical   Vignette   Photos its their character not their color that matters  Say Hello To The Stunning 600bhp Carbonfibre Aston Martin ... Anti Bo Dallas J. Edgar (2011) – Deep Focus Review – Movie Reviews ... Vin Diesel Stills @vindieselgallery - \"Her name was Letty ... Tuco Breaking Bad Quotes. QuotesGram Oigame NO | Facebook Happy Birthday Willi meme - Kevin Hart The Hell (81291 ... Vegan documentary on farmer who saved his cows from ... Some thoughts and disagreements on The Matrix as a trans ... Screenat Sarcasm | Facebook Stanley Tucci Quotes. QuotesGram the green mile on Tumblr 1000+ images about Adapt. Evolve. Become. on Pinterest ... Dont know if she love me ....or she love Deez Nuts | Make ... I\\'ll just wait for the nets to turn it over again classic quotes on Tumblr Snowfall | Season 1 Ep. 6: A Long Time Coming Trailer | FX ... Being nosey Memes Beard Shaping Tool - Shape Your Beard Like a Master Barber ... Missile Maintenance Memes & Humor - Home | Facebook Best bounce GIFs - Primo GIF - Latest Animated GIFs The Walking Dead Finale: And the memes just keep on coming Phil Collins Hello, I Must Be Going! Records, LPs, Vinyl ... John Wick 2 | Geekdom Amino “Nowhere” tells the story of how one man escaped the hell ... Kendrick Nunn 20 Points/5 Assists Full Highlights (11/12 ... 40 Glocc & Zoo Life Talking Wreckless About Young Money ... The Blacklist : The Complete Fourth Season – Now on Blu ... Duke Ellington - This Is Jazz │ 7 | Releases | Discogs Dean and Abaddon | Supernatural quote | Tv supernatural ... Reader Girls Blog: Blog Tour: Someone Else\\'s Skye by ... 1x09 Home (With images) | Supernatural cast, Supernatural My favorite on Sons of Anarchy and Breaking Bad | Breaking ... Jang Ki Yong \"Please, stop.. Please\" [Come and Hug Me Ep ... 229 Best West Wing Awesomeness images | West wing, West ... '"
      ]
     },
     "execution_count": 35,
     "metadata": {
      "tags": []
     },
     "output_type": "execute_result"
    }
   ],
   "source": [
    "ctext_list[0]"
   ]
  },
  {
   "cell_type": "code",
   "execution_count": 35,
   "metadata": {
    "colab": {},
    "colab_type": "code",
    "id": "ZJ6oRqhY1oj5"
   },
   "outputs": [],
   "source": []
  },
  {
   "cell_type": "code",
   "execution_count": 36,
   "metadata": {
    "colab": {},
    "colab_type": "code",
    "id": "B-ktyWtxfSYG"
   },
   "outputs": [],
   "source": [
    "hate_list=[]\n",
    "\n",
    "for text in ctext_list:\n",
    "  row=[]\n",
    "  row.append(sonar.ping(text=str(text or '')).get('classes')[0].get('confidence'))\n",
    "  row.append(sonar.ping(text=str(text or '')).get('classes')[1].get('confidence'))\n",
    "  row.append(sonar.ping(text=str(text or '')).get('classes')[2].get('confidence'))\n",
    "  hate_list.append(row)\n",
    "  # hate_speech=sonar.ping(text=ctext_list[0]).get('classes')[0].get('confidence')\n",
    "  # offensive_language=sonar.ping(text=ctext_list[0]).get('classes')[1].get('confidence')\n",
    "  # neither=sonar.ping(text=ctext_list[0]).get('classes')[2].get('confidence')\n"
   ]
  },
  {
   "cell_type": "code",
   "execution_count": 37,
   "metadata": {
    "colab": {
     "base_uri": "https://localhost:8080/",
     "height": 204
    },
    "colab_type": "code",
    "id": "U41nKZZMgnSy",
    "outputId": "00b5f4bc-dfa5-4fc3-e554-564dd1b20aaa"
   },
   "outputs": [
    {
     "data": {
      "text/html": [
       "<div>\n",
       "<style scoped>\n",
       "    .dataframe tbody tr th:only-of-type {\n",
       "        vertical-align: middle;\n",
       "    }\n",
       "\n",
       "    .dataframe tbody tr th {\n",
       "        vertical-align: top;\n",
       "    }\n",
       "\n",
       "    .dataframe thead th {\n",
       "        text-align: right;\n",
       "    }\n",
       "</style>\n",
       "<table border=\"1\" class=\"dataframe\">\n",
       "  <thead>\n",
       "    <tr style=\"text-align: right;\">\n",
       "      <th></th>\n",
       "      <th>hate_speech</th>\n",
       "      <th>offensive_language</th>\n",
       "      <th>neither</th>\n",
       "    </tr>\n",
       "  </thead>\n",
       "  <tbody>\n",
       "    <tr>\n",
       "      <th>8495</th>\n",
       "      <td>0.109257</td>\n",
       "      <td>0.333365</td>\n",
       "      <td>0.557378</td>\n",
       "    </tr>\n",
       "    <tr>\n",
       "      <th>8496</th>\n",
       "      <td>0.165727</td>\n",
       "      <td>0.390107</td>\n",
       "      <td>0.444166</td>\n",
       "    </tr>\n",
       "    <tr>\n",
       "      <th>8497</th>\n",
       "      <td>0.043007</td>\n",
       "      <td>0.352724</td>\n",
       "      <td>0.604268</td>\n",
       "    </tr>\n",
       "    <tr>\n",
       "      <th>8498</th>\n",
       "      <td>0.058414</td>\n",
       "      <td>0.428047</td>\n",
       "      <td>0.513538</td>\n",
       "    </tr>\n",
       "    <tr>\n",
       "      <th>8499</th>\n",
       "      <td>0.136578</td>\n",
       "      <td>0.269248</td>\n",
       "      <td>0.594175</td>\n",
       "    </tr>\n",
       "  </tbody>\n",
       "</table>\n",
       "</div>"
      ],
      "text/plain": [
       "      hate_speech  offensive_language   neither\n",
       "8495     0.109257            0.333365  0.557378\n",
       "8496     0.165727            0.390107  0.444166\n",
       "8497     0.043007            0.352724  0.604268\n",
       "8498     0.058414            0.428047  0.513538\n",
       "8499     0.136578            0.269248  0.594175"
      ]
     },
     "execution_count": 37,
     "metadata": {
      "tags": []
     },
     "output_type": "execute_result"
    }
   ],
   "source": [
    "hate_df = pd.DataFrame(hate_list, columns=['hate_speech','offensive_language','neither'])\n",
    "hate_df.tail()"
   ]
  },
  {
   "cell_type": "code",
   "execution_count": 38,
   "metadata": {
    "colab": {
     "base_uri": "https://localhost:8080/",
     "height": 34
    },
    "colab_type": "code",
    "id": "kzJgWaE1og5V",
    "outputId": "69634bcb-920b-40ec-9dfd-5b1a715abf92"
   },
   "outputs": [
    {
     "data": {
      "text/plain": [
       "(8500, 3)"
      ]
     },
     "execution_count": 38,
     "metadata": {
      "tags": []
     },
     "output_type": "execute_result"
    }
   ],
   "source": [
    "hate_df.shape"
   ]
  },
  {
   "cell_type": "code",
   "execution_count": 39,
   "metadata": {
    "colab": {
     "base_uri": "https://localhost:8080/",
     "height": 615
    },
    "colab_type": "code",
    "id": "TjIFMDoBhSYX",
    "outputId": "4bd3ff61-184a-47c0-a824-a3dda1a5d956"
   },
   "outputs": [
    {
     "data": {
      "text/html": [
       "<div>\n",
       "<style scoped>\n",
       "    .dataframe tbody tr th:only-of-type {\n",
       "        vertical-align: middle;\n",
       "    }\n",
       "\n",
       "    .dataframe tbody tr th {\n",
       "        vertical-align: top;\n",
       "    }\n",
       "\n",
       "    .dataframe thead th {\n",
       "        text-align: right;\n",
       "    }\n",
       "</style>\n",
       "<table border=\"1\" class=\"dataframe\">\n",
       "  <thead>\n",
       "    <tr style=\"text-align: right;\">\n",
       "      <th></th>\n",
       "      <th>id</th>\n",
       "      <th>getty_caption</th>\n",
       "      <th>getty_tag</th>\n",
       "      <th>color_score</th>\n",
       "      <th>img_text</th>\n",
       "      <th>label</th>\n",
       "      <th>image</th>\n",
       "      <th>description</th>\n",
       "      <th>link</th>\n",
       "      <th>img_src</th>\n",
       "      <th>rel</th>\n",
       "      <th>alternate_hypothesis</th>\n",
       "      <th>image_clean</th>\n",
       "      <th>alt_str</th>\n",
       "      <th>rel_str</th>\n",
       "      <th>desc_str</th>\n",
       "      <th>combined_str</th>\n",
       "      <th>feature_hitler</th>\n",
       "      <th>combined_text</th>\n",
       "      <th>hate_speech</th>\n",
       "      <th>offensive_language</th>\n",
       "      <th>neither</th>\n",
       "    </tr>\n",
       "  </thead>\n",
       "  <tbody>\n",
       "    <tr>\n",
       "      <th>0</th>\n",
       "      <td>42953</td>\n",
       "      <td>Portrait of a real young man. Sharp focus on eyes</td>\n",
       "      <td>Men   Overweight   Portrait   Human Face   Bea...</td>\n",
       "      <td>9.633716</td>\n",
       "      <td>its their character not their color that matters</td>\n",
       "      <td>0</td>\n",
       "      <td>42953.png</td>\n",
       "      <td>[]</td>\n",
       "      <td>[]</td>\n",
       "      <td>[]</td>\n",
       "      <td>[]</td>\n",
       "      <td>[Say Hello To The Stunning 600bhp Carbonfibre ...</td>\n",
       "      <td>42953.0</td>\n",
       "      <td>Say Hello To The Stunning 600bhp Carbonfibre A...</td>\n",
       "      <td></td>\n",
       "      <td></td>\n",
       "      <td>Say Hello To The Stunning 600bhp Carbonfibre ...</td>\n",
       "      <td>False</td>\n",
       "      <td>Portrait of a real young man. Sharp focus on e...</td>\n",
       "      <td>0.076131</td>\n",
       "      <td>0.450052</td>\n",
       "      <td>0.473817</td>\n",
       "    </tr>\n",
       "    <tr>\n",
       "      <th>1</th>\n",
       "      <td>23058</td>\n",
       "      <td>Handsome young groom sweetly kisses his bride'...</td>\n",
       "      <td>Wedding   African Ethnicity   Bride   Couple -...</td>\n",
       "      <td>4.856464</td>\n",
       "      <td>don't be afraid to love again everyone is not ...</td>\n",
       "      <td>0</td>\n",
       "      <td>23058.png</td>\n",
       "      <td>[]</td>\n",
       "      <td>[]</td>\n",
       "      <td>[]</td>\n",
       "      <td>[]</td>\n",
       "      <td>[Ready For Hillary - To Struggle With A Carpet...</td>\n",
       "      <td>23058.0</td>\n",
       "      <td>Ready For Hillary - To Struggle With A Carpetb...</td>\n",
       "      <td></td>\n",
       "      <td></td>\n",
       "      <td>Ready For Hillary - To Struggle With A Carpet...</td>\n",
       "      <td>False</td>\n",
       "      <td>Handsome young groom sweetly kisses his bride'...</td>\n",
       "      <td>0.103628</td>\n",
       "      <td>0.391444</td>\n",
       "      <td>0.504928</td>\n",
       "    </tr>\n",
       "    <tr>\n",
       "      <th>2</th>\n",
       "      <td>13894</td>\n",
       "      <td>A local/homeless cat in daily life in the vill...</td>\n",
       "      <td>Domestic Cat   Portrait   Abandoned   Animal  ...</td>\n",
       "      <td>26.664872</td>\n",
       "      <td>putting bows on your pet</td>\n",
       "      <td>0</td>\n",
       "      <td>13894.png</td>\n",
       "      <td>[]</td>\n",
       "      <td>[]</td>\n",
       "      <td>[]</td>\n",
       "      <td>[Cats, Mammals, Animals, House Cats]</td>\n",
       "      <td>[DUDUPETS ถุงมือแปรงขนสัตว์เลี้ยงข้างขวา ขนาด ...</td>\n",
       "      <td>13894.0</td>\n",
       "      <td>DUDUPETS ถุงมือแปรงขนสัตว์เลี้ยงข้างขวา ขนาด 1...</td>\n",
       "      <td>Cats Mammals Animals House Cats</td>\n",
       "      <td></td>\n",
       "      <td>Cats Mammals Animals House Cats DUDUPETS ถุงมื...</td>\n",
       "      <td>False</td>\n",
       "      <td>A local/homeless cat in daily life in the vill...</td>\n",
       "      <td>0.092051</td>\n",
       "      <td>0.333393</td>\n",
       "      <td>0.574556</td>\n",
       "    </tr>\n",
       "    <tr>\n",
       "      <th>3</th>\n",
       "      <td>37408</td>\n",
       "      <td>Photo taken in Kirkcaldy, United Kingdom</td>\n",
       "      <td>Animal   Animal Body Part   Animal Eye   Anima...</td>\n",
       "      <td>11.788920</td>\n",
       "      <td>i love everything and everybody! except for sq...</td>\n",
       "      <td>0</td>\n",
       "      <td>37408.png</td>\n",
       "      <td>[]</td>\n",
       "      <td>[]</td>\n",
       "      <td>[]</td>\n",
       "      <td>[]</td>\n",
       "      <td>[9 Best Rottweiler images in 2014 | Cubs, Cut ...</td>\n",
       "      <td>37408.0</td>\n",
       "      <td>9 Best Rottweiler images in 2014 | Cubs, Cut a...</td>\n",
       "      <td></td>\n",
       "      <td></td>\n",
       "      <td>9 Best Rottweiler images in 2014 | Cubs, Cut ...</td>\n",
       "      <td>False</td>\n",
       "      <td>Photo taken in Kirkcaldy, United Kingdom Anima...</td>\n",
       "      <td>0.041845</td>\n",
       "      <td>0.305829</td>\n",
       "      <td>0.652326</td>\n",
       "    </tr>\n",
       "    <tr>\n",
       "      <th>4</th>\n",
       "      <td>82403</td>\n",
       "      <td>Large group of business people cheering while ...</td>\n",
       "      <td>Excitement   Business   Watching TV   Board Ro...</td>\n",
       "      <td>136.522464</td>\n",
       "      <td>everybody loves chocolate chip cookies, even h...</td>\n",
       "      <td>0</td>\n",
       "      <td>NaN</td>\n",
       "      <td>NaN</td>\n",
       "      <td>NaN</td>\n",
       "      <td>NaN</td>\n",
       "      <td>NaN</td>\n",
       "      <td>NaN</td>\n",
       "      <td>NaN</td>\n",
       "      <td>NaN</td>\n",
       "      <td>NaN</td>\n",
       "      <td>NaN</td>\n",
       "      <td>NaN</td>\n",
       "      <td>True</td>\n",
       "      <td>Large group of business people cheering while ...</td>\n",
       "      <td>0.057202</td>\n",
       "      <td>0.348490</td>\n",
       "      <td>0.594308</td>\n",
       "    </tr>\n",
       "  </tbody>\n",
       "</table>\n",
       "</div>"
      ],
      "text/plain": [
       "      id  ...   neither\n",
       "0  42953  ...  0.473817\n",
       "1  23058  ...  0.504928\n",
       "2  13894  ...  0.574556\n",
       "3  37408  ...  0.652326\n",
       "4  82403  ...  0.594308\n",
       "\n",
       "[5 rows x 22 columns]"
      ]
     },
     "execution_count": 39,
     "metadata": {
      "tags": []
     },
     "output_type": "execute_result"
    }
   ],
   "source": [
    "feature_df= pd.concat([text_df,hate_df],axis=1)\n",
    "feature_df.head()"
   ]
  },
  {
   "cell_type": "code",
   "execution_count": 40,
   "metadata": {
    "colab": {
     "base_uri": "https://localhost:8080/",
     "height": 265
    },
    "colab_type": "code",
    "id": "V5mjdc494J68",
    "outputId": "8bc7abc0-2c2f-4a80-c0e1-825ee9aafcc5"
   },
   "outputs": [
    {
     "data": {
      "image/png": "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\n",
      "text/plain": [
       "<Figure size 432x288 with 1 Axes>"
      ]
     },
     "metadata": {
      "needs_background": "light",
      "tags": []
     },
     "output_type": "display_data"
    }
   ],
   "source": [
    "s = feature_df.offensive_language\n",
    "ax = s.plot.kde()"
   ]
  },
  {
   "cell_type": "code",
   "execution_count": 41,
   "metadata": {
    "colab": {
     "base_uri": "https://localhost:8080/",
     "height": 51
    },
    "colab_type": "code",
    "id": "ZaXsRXcOhdAl",
    "outputId": "f4b3feed-5ee8-47aa-e7e5-0017e1b1c4e5"
   },
   "outputs": [
    {
     "data": {
      "text/plain": [
       "array([[4708,  742],\n",
       "       [2477,  573]])"
      ]
     },
     "execution_count": 41,
     "metadata": {
      "tags": []
     },
     "output_type": "execute_result"
    }
   ],
   "source": [
    "feature_df['predicted_label'] = np.where(feature_df['hate_speech']>=0.1, 1, 0)\n",
    "feature_df.sort_values(by='hate_speech', ascending=False).head()\n",
    "confusion_matrix(feature_df.label,feature_df.predicted_label)"
   ]
  },
  {
   "cell_type": "code",
   "execution_count": 41,
   "metadata": {
    "colab": {},
    "colab_type": "code",
    "id": "KWFbbj6l4DvL"
   },
   "outputs": [],
   "source": []
  },
  {
   "cell_type": "code",
   "execution_count": 42,
   "metadata": {
    "colab": {
     "base_uri": "https://localhost:8080/",
     "height": 34
    },
    "colab_type": "code",
    "id": "qSKaXjJgi6bE",
    "outputId": "0992be69-59e3-447a-f9d0-cfd7d429c376"
   },
   "outputs": [
    {
     "data": {
      "text/plain": [
       "0.6212941176470588"
      ]
     },
     "execution_count": 42,
     "metadata": {
      "tags": []
     },
     "output_type": "execute_result"
    }
   ],
   "source": [
    "accuracy_score(feature_df.label,feature_df.predicted_label)"
   ]
  },
  {
   "cell_type": "code",
   "execution_count": 43,
   "metadata": {
    "colab": {
     "base_uri": "https://localhost:8080/",
     "height": 34
    },
    "colab_type": "code",
    "id": "fjbfAOK9i6g-",
    "outputId": "fad0826b-f97e-4bf7-85d5-2acd25520e77"
   },
   "outputs": [
    {
     "data": {
      "text/plain": [
       "0.5258610317340954"
      ]
     },
     "execution_count": 43,
     "metadata": {
      "tags": []
     },
     "output_type": "execute_result"
    }
   ],
   "source": [
    "from sklearn.metrics import roc_auc_score\n",
    "roc_auc_score(feature_df.label,feature_df.predicted_label)"
   ]
  },
  {
   "cell_type": "code",
   "execution_count": 44,
   "metadata": {
    "colab": {
     "base_uri": "https://localhost:8080/",
     "height": 164
    },
    "colab_type": "code",
    "id": "6evhdVM4Z1eW",
    "outputId": "54b99474-0092-4543-9635-dca61e00b2cb"
   },
   "outputs": [
    {
     "ename": "NameError",
     "evalue": "ignored",
     "output_type": "error",
     "traceback": [
      "\u001b[0;31m---------------------------------------------------------------------------\u001b[0m",
      "\u001b[0;31mNameError\u001b[0m                                 Traceback (most recent call last)",
      "\u001b[0;32m<ipython-input-44-c3620d5aa855>\u001b[0m in \u001b[0;36m<module>\u001b[0;34m()\u001b[0m\n\u001b[0;32m----> 1\u001b[0;31m \u001b[0mgetty_caption_data\u001b[0m\u001b[0;34m.\u001b[0m\u001b[0mshape\u001b[0m\u001b[0;34m\u001b[0m\u001b[0;34m\u001b[0m\u001b[0m\n\u001b[0m",
      "\u001b[0;31mNameError\u001b[0m: name 'getty_caption_data' is not defined"
     ]
    }
   ],
   "source": [
    "getty_caption_data.shape"
   ]
  },
  {
   "cell_type": "code",
   "execution_count": 111,
   "metadata": {
    "colab": {},
    "colab_type": "code",
    "id": "s56SiZ-0fAu_"
   },
   "outputs": [],
   "source": [
    "image_ex_path=\"/content/gdrive/My Drive/colab/data_sources/hateful_memes/\"\n",
    "data_ex_path=\"/content/gdrive/My Drive/colab/data_sources/hateful_memes/train.jsonl\"\n",
    "    # bert_path=\"/home/jupyter/ThreeDAnime/bert_folder\"\n",
    "featurized_data_path=\"/content/gdrive/My Drive/colab/data_sources/hateful_memes/\"\n",
    "\n"
   ]
  },
  {
   "cell_type": "code",
   "execution_count": 45,
   "metadata": {
    "colab": {},
    "colab_type": "code",
    "id": "gzI6GdbiACIr"
   },
   "outputs": [],
   "source": [
    "bing_alt_str_features=extract_text_features_simple(feature_df.alt_str.fillna('').to_list(),model_text)\n",
    "bing_rel_str_features=extract_text_features_simple(feature_df.rel_str.fillna('').to_list(),model_text)\n",
    "bing_desc_str_features=extract_text_features_simple(feature_df.desc_str.fillna('').to_list(),model_text)\n",
    "hitler_features=feature_df.feature_hitler.astype(int).to_list()\n",
    "hate_speech_features=feature_df.hate_speech.to_list()\n",
    "offensive_features=feature_df.offensive_language.to_list()\n",
    "neither_features=feature_df.neither.to_list()"
   ]
  },
  {
   "cell_type": "code",
   "execution_count": 74,
   "metadata": {
    "colab": {
     "base_uri": "https://localhost:8080/",
     "height": 615
    },
    "colab_type": "code",
    "id": "LDigzmmge8c6",
    "outputId": "cb7c2ddf-9efa-4f2f-9422-62a9996259e4"
   },
   "outputs": [
    {
     "data": {
      "text/html": [
       "<div>\n",
       "<style scoped>\n",
       "    .dataframe tbody tr th:only-of-type {\n",
       "        vertical-align: middle;\n",
       "    }\n",
       "\n",
       "    .dataframe tbody tr th {\n",
       "        vertical-align: top;\n",
       "    }\n",
       "\n",
       "    .dataframe thead th {\n",
       "        text-align: right;\n",
       "    }\n",
       "</style>\n",
       "<table border=\"1\" class=\"dataframe\">\n",
       "  <thead>\n",
       "    <tr style=\"text-align: right;\">\n",
       "      <th></th>\n",
       "      <th>id</th>\n",
       "      <th>getty_caption</th>\n",
       "      <th>getty_tag</th>\n",
       "      <th>color_score</th>\n",
       "      <th>img_text</th>\n",
       "      <th>label</th>\n",
       "      <th>image</th>\n",
       "      <th>description</th>\n",
       "      <th>link</th>\n",
       "      <th>img_src</th>\n",
       "      <th>rel</th>\n",
       "      <th>alternate_hypothesis</th>\n",
       "      <th>image_clean</th>\n",
       "      <th>alt_str</th>\n",
       "      <th>rel_str</th>\n",
       "      <th>desc_str</th>\n",
       "      <th>combined_str</th>\n",
       "      <th>feature_hitler</th>\n",
       "      <th>combined_text</th>\n",
       "      <th>hate_speech</th>\n",
       "      <th>offensive_language</th>\n",
       "      <th>neither</th>\n",
       "      <th>predicted_label</th>\n",
       "    </tr>\n",
       "  </thead>\n",
       "  <tbody>\n",
       "    <tr>\n",
       "      <th>0</th>\n",
       "      <td>42953</td>\n",
       "      <td>Portrait of a real young man. Sharp focus on eyes</td>\n",
       "      <td>Men   Overweight   Portrait   Human Face   Bea...</td>\n",
       "      <td>9.633716</td>\n",
       "      <td>its their character not their color that matters</td>\n",
       "      <td>0</td>\n",
       "      <td>42953.png</td>\n",
       "      <td>[]</td>\n",
       "      <td>[]</td>\n",
       "      <td>[]</td>\n",
       "      <td>[]</td>\n",
       "      <td>[Say Hello To The Stunning 600bhp Carbonfibre ...</td>\n",
       "      <td>42953.0</td>\n",
       "      <td>Say Hello To The Stunning 600bhp Carbonfibre A...</td>\n",
       "      <td></td>\n",
       "      <td></td>\n",
       "      <td>Say Hello To The Stunning 600bhp Carbonfibre ...</td>\n",
       "      <td>False</td>\n",
       "      <td>Portrait of a real young man. Sharp focus on e...</td>\n",
       "      <td>0.076131</td>\n",
       "      <td>0.450052</td>\n",
       "      <td>0.473817</td>\n",
       "      <td>0</td>\n",
       "    </tr>\n",
       "    <tr>\n",
       "      <th>1</th>\n",
       "      <td>23058</td>\n",
       "      <td>Handsome young groom sweetly kisses his bride'...</td>\n",
       "      <td>Wedding   African Ethnicity   Bride   Couple -...</td>\n",
       "      <td>4.856464</td>\n",
       "      <td>don't be afraid to love again everyone is not ...</td>\n",
       "      <td>0</td>\n",
       "      <td>23058.png</td>\n",
       "      <td>[]</td>\n",
       "      <td>[]</td>\n",
       "      <td>[]</td>\n",
       "      <td>[]</td>\n",
       "      <td>[Ready For Hillary - To Struggle With A Carpet...</td>\n",
       "      <td>23058.0</td>\n",
       "      <td>Ready For Hillary - To Struggle With A Carpetb...</td>\n",
       "      <td></td>\n",
       "      <td></td>\n",
       "      <td>Ready For Hillary - To Struggle With A Carpet...</td>\n",
       "      <td>False</td>\n",
       "      <td>Handsome young groom sweetly kisses his bride'...</td>\n",
       "      <td>0.103628</td>\n",
       "      <td>0.391444</td>\n",
       "      <td>0.504928</td>\n",
       "      <td>1</td>\n",
       "    </tr>\n",
       "    <tr>\n",
       "      <th>2</th>\n",
       "      <td>13894</td>\n",
       "      <td>A local/homeless cat in daily life in the vill...</td>\n",
       "      <td>Domestic Cat   Portrait   Abandoned   Animal  ...</td>\n",
       "      <td>26.664872</td>\n",
       "      <td>putting bows on your pet</td>\n",
       "      <td>0</td>\n",
       "      <td>13894.png</td>\n",
       "      <td>[]</td>\n",
       "      <td>[]</td>\n",
       "      <td>[]</td>\n",
       "      <td>[Cats, Mammals, Animals, House Cats]</td>\n",
       "      <td>[DUDUPETS ถุงมือแปรงขนสัตว์เลี้ยงข้างขวา ขนาด ...</td>\n",
       "      <td>13894.0</td>\n",
       "      <td>DUDUPETS ถุงมือแปรงขนสัตว์เลี้ยงข้างขวา ขนาด 1...</td>\n",
       "      <td>Cats Mammals Animals House Cats</td>\n",
       "      <td></td>\n",
       "      <td>Cats Mammals Animals House Cats DUDUPETS ถุงมื...</td>\n",
       "      <td>False</td>\n",
       "      <td>A local/homeless cat in daily life in the vill...</td>\n",
       "      <td>0.092051</td>\n",
       "      <td>0.333393</td>\n",
       "      <td>0.574556</td>\n",
       "      <td>0</td>\n",
       "    </tr>\n",
       "    <tr>\n",
       "      <th>3</th>\n",
       "      <td>37408</td>\n",
       "      <td>Photo taken in Kirkcaldy, United Kingdom</td>\n",
       "      <td>Animal   Animal Body Part   Animal Eye   Anima...</td>\n",
       "      <td>11.788920</td>\n",
       "      <td>i love everything and everybody! except for sq...</td>\n",
       "      <td>0</td>\n",
       "      <td>37408.png</td>\n",
       "      <td>[]</td>\n",
       "      <td>[]</td>\n",
       "      <td>[]</td>\n",
       "      <td>[]</td>\n",
       "      <td>[9 Best Rottweiler images in 2014 | Cubs, Cut ...</td>\n",
       "      <td>37408.0</td>\n",
       "      <td>9 Best Rottweiler images in 2014 | Cubs, Cut a...</td>\n",
       "      <td></td>\n",
       "      <td></td>\n",
       "      <td>9 Best Rottweiler images in 2014 | Cubs, Cut ...</td>\n",
       "      <td>False</td>\n",
       "      <td>Photo taken in Kirkcaldy, United Kingdom Anima...</td>\n",
       "      <td>0.041845</td>\n",
       "      <td>0.305829</td>\n",
       "      <td>0.652326</td>\n",
       "      <td>0</td>\n",
       "    </tr>\n",
       "    <tr>\n",
       "      <th>4</th>\n",
       "      <td>82403</td>\n",
       "      <td>Large group of business people cheering while ...</td>\n",
       "      <td>Excitement   Business   Watching TV   Board Ro...</td>\n",
       "      <td>136.522464</td>\n",
       "      <td>everybody loves chocolate chip cookies, even h...</td>\n",
       "      <td>0</td>\n",
       "      <td>NaN</td>\n",
       "      <td>NaN</td>\n",
       "      <td>NaN</td>\n",
       "      <td>NaN</td>\n",
       "      <td>NaN</td>\n",
       "      <td>NaN</td>\n",
       "      <td>NaN</td>\n",
       "      <td>NaN</td>\n",
       "      <td>NaN</td>\n",
       "      <td>NaN</td>\n",
       "      <td>NaN</td>\n",
       "      <td>True</td>\n",
       "      <td>Large group of business people cheering while ...</td>\n",
       "      <td>0.057202</td>\n",
       "      <td>0.348490</td>\n",
       "      <td>0.594308</td>\n",
       "      <td>0</td>\n",
       "    </tr>\n",
       "  </tbody>\n",
       "</table>\n",
       "</div>"
      ],
      "text/plain": [
       "      id  ... predicted_label\n",
       "0  42953  ...               0\n",
       "1  23058  ...               1\n",
       "2  13894  ...               0\n",
       "3  37408  ...               0\n",
       "4  82403  ...               0\n",
       "\n",
       "[5 rows x 23 columns]"
      ]
     },
     "execution_count": 74,
     "metadata": {
      "tags": []
     },
     "output_type": "execute_result"
    }
   ],
   "source": [
    "# feature_df[['feature_hitler','hate_speech','offensive_language','neither']].head()\n",
    "feature_df.head()"
   ]
  },
  {
   "cell_type": "code",
   "execution_count": 47,
   "metadata": {
    "colab": {
     "base_uri": "https://localhost:8080/",
     "height": 164
    },
    "colab_type": "code",
    "id": "7FWUi9qT5HWh",
    "outputId": "1e1821f3-00c0-460c-bc2d-a0cbe2fce8cf"
   },
   "outputs": [
    {
     "ename": "NameError",
     "evalue": "ignored",
     "output_type": "error",
     "traceback": [
      "\u001b[0;31m---------------------------------------------------------------------------\u001b[0m",
      "\u001b[0;31mNameError\u001b[0m                                 Traceback (most recent call last)",
      "\u001b[0;32m<ipython-input-47-328d4fb01fec>\u001b[0m in \u001b[0;36m<module>\u001b[0;34m()\u001b[0m\n\u001b[0;32m----> 1\u001b[0;31m \u001b[0mlen\u001b[0m\u001b[0;34m(\u001b[0m\u001b[0mgetty_color_score\u001b[0m\u001b[0;34m)\u001b[0m\u001b[0;34m\u001b[0m\u001b[0;34m\u001b[0m\u001b[0m\n\u001b[0m",
      "\u001b[0;31mNameError\u001b[0m: name 'getty_color_score' is not defined"
     ]
    }
   ],
   "source": [
    "len(getty_color_score)"
   ]
  },
  {
   "cell_type": "code",
   "execution_count": null,
   "metadata": {
    "colab": {},
    "colab_type": "code",
    "id": "zsy4eR4M4rMb"
   },
   "outputs": [],
   "source": [
    "writeFiles(featurized_data_path, \"v5roberta_\",desc_labels,image_rcnn_data,textData, getty_caption_data, getty_tag_data)"
   ]
  },
  {
   "cell_type": "code",
   "execution_count": null,
   "metadata": {
    "colab": {},
    "colab_type": "code",
    "id": "LiEQz4190mRi"
   },
   "outputs": [],
   "source": [
    "# todo look into twitter sentiment https://github.com/sharmaroshan/Twitter-Sentiment-Analysis\n",
    "#https://medium.com/isiway-tech/deep-nlp-for-hate-speech-detection-25eed707997"
   ]
  },
  {
   "cell_type": "markdown",
   "metadata": {
    "colab_type": "text",
    "id": "eJKgopgVTeGg"
   },
   "source": [
    "## Get Celebrities from facial recognition"
   ]
  },
  {
   "cell_type": "code",
   "execution_count": 51,
   "metadata": {
    "colab": {
     "base_uri": "https://localhost:8080/",
     "height": 309
    },
    "colab_type": "code",
    "id": "k8DJ4f7dSDhl",
    "outputId": "dc3e0144-26b0-462d-b1b4-f2941574eb3c"
   },
   "outputs": [
    {
     "name": "stdout",
     "output_type": "stream",
     "text": [
      "Collecting face_recognition\n",
      "  Downloading https://files.pythonhosted.org/packages/1e/95/f6c9330f54ab07bfa032bf3715c12455a381083125d8880c43cbe76bb3d0/face_recognition-1.3.0-py2.py3-none-any.whl\n",
      "Requirement already satisfied: Pillow in /usr/local/lib/python3.6/dist-packages (from face_recognition) (7.0.0)\n",
      "Requirement already satisfied: numpy in /usr/local/lib/python3.6/dist-packages (from face_recognition) (1.18.5)\n",
      "Collecting face-recognition-models>=0.3.0\n",
      "\u001b[?25l  Downloading https://files.pythonhosted.org/packages/cf/3b/4fd8c534f6c0d1b80ce0973d01331525538045084c73c153ee6df20224cf/face_recognition_models-0.3.0.tar.gz (100.1MB)\n",
      "\u001b[K     |████████████████████████████████| 100.2MB 124kB/s \n",
      "\u001b[?25hRequirement already satisfied: Click>=6.0 in /usr/local/lib/python3.6/dist-packages (from face_recognition) (7.1.2)\n",
      "Requirement already satisfied: dlib>=19.7 in /usr/local/lib/python3.6/dist-packages (from face_recognition) (19.18.0)\n",
      "Building wheels for collected packages: face-recognition-models\n",
      "  Building wheel for face-recognition-models (setup.py) ... \u001b[?25l\u001b[?25hdone\n",
      "  Created wheel for face-recognition-models: filename=face_recognition_models-0.3.0-py2.py3-none-any.whl size=100566172 sha256=3fc7bd10c329a140b375b97d5f4a983bae8d1a90c5f79135b8b8788f4ee5c065\n",
      "  Stored in directory: /root/.cache/pip/wheels/d2/99/18/59c6c8f01e39810415c0e63f5bede7d83dfb0ffc039865465f\n",
      "Successfully built face-recognition-models\n",
      "Installing collected packages: face-recognition-models, face-recognition\n",
      "Successfully installed face-recognition-1.3.0 face-recognition-models-0.3.0\n"
     ]
    }
   ],
   "source": [
    "!pip3 install face_recognition"
   ]
  },
  {
   "cell_type": "code",
   "execution_count": null,
   "metadata": {
    "colab": {},
    "colab_type": "code",
    "id": "zN25_pb0UIsA"
   },
   "outputs": [],
   "source": [
    "# use microsft dataset\n",
    "# https://ibug.doc.ic.ac.uk/resources/lightweight-face-recognition-challenge-workshop/"
   ]
  },
  {
   "cell_type": "markdown",
   "metadata": {
    "colab_type": "text",
    "id": "Bm7TlpK2Xr_A"
   },
   "source": [
    "## Read features and Run Model"
   ]
  },
  {
   "cell_type": "code",
   "execution_count": 48,
   "metadata": {
    "colab": {},
    "colab_type": "code",
    "id": "aaa5PEJltBLI"
   },
   "outputs": [],
   "source": [
    "image_features=pd.read_csv(\"/content/gdrive/My Drive/colab/data_sources/hateful_memes/v5roberta_image_features.csv\", sep=\",\",index_col=0)\n",
    "text_features=pd.read_csv(\"/content/gdrive/My Drive/colab/data_sources/hateful_memes/v5roberta_text_features.csv\",sep=\",\",index_col=0)\n",
    "desc_features=pd.read_csv(\"/content/gdrive/My Drive/colab/data_sources/hateful_memes/v5roberta_description.csv\",sep=\",\",index_col=0)\n",
    "getty_caption_features=pd.read_csv(\"/content/gdrive/My Drive/colab/data_sources/hateful_memes/v5roberta_getty_caption_features.csv\",sep=\",\",index_col=0)\n",
    "getty_tag_features=pd.read_csv(\"/content/gdrive/My Drive/colab/data_sources/hateful_memes/v5roberta_getty_tag_features.csv\",sep=\",\",index_col=0)"
   ]
  },
  {
   "cell_type": "code",
   "execution_count": null,
   "metadata": {
    "colab": {
     "base_uri": "https://localhost:8080/",
     "height": 34
    },
    "colab_type": "code",
    "id": "dRuYa0Lqefpu",
    "outputId": "9f548d93-8681-49a8-cfd5-da9a9d9b04c6"
   },
   "outputs": [
    {
     "data": {
      "text/plain": [
       "(8500, 1024)"
      ]
     },
     "execution_count": 144,
     "metadata": {
      "tags": []
     },
     "output_type": "execute_result"
    }
   ],
   "source": [
    "getty_caption_features.shape"
   ]
  },
  {
   "cell_type": "code",
   "execution_count": null,
   "metadata": {
    "colab": {},
    "colab_type": "code",
    "id": "g9YrMiQV5kWx"
   },
   "outputs": [],
   "source": []
  },
  {
   "cell_type": "code",
   "execution_count": null,
   "metadata": {
    "colab": {
     "base_uri": "https://localhost:8080/",
     "height": 34
    },
    "colab_type": "code",
    "id": "9Udt6sXU5sQO",
    "outputId": "8f3a3f56-3f28-4798-f597-131169e16e1e"
   },
   "outputs": [
    {
     "data": {
      "text/plain": [
       "9.63371599999999"
      ]
     },
     "execution_count": 43,
     "metadata": {
      "tags": []
     },
     "output_type": "execute_result"
    }
   ],
   "source": [
    "getty_color_score_features[0]"
   ]
  },
  {
   "cell_type": "code",
   "execution_count": 57,
   "metadata": {
    "colab": {},
    "colab_type": "code",
    "id": "E3G9-WBXaZxm"
   },
   "outputs": [],
   "source": [
    "input_features=pd.concat((image_features,text_features,getty_caption_features, getty_tag_features, hate_df,\n",
    "                          pd.DataFrame(bing_alt_str_features), pd.DataFrame(bing_rel_str_features), pd.DataFrame(bing_desc_str_features), pd.DataFrame(hitler_features)\n",
    "                          ),axis=1).values\n",
    "\n",
    "\n",
    "# input_features=input_features[0:5]"
   ]
  },
  {
   "cell_type": "code",
   "execution_count": 58,
   "metadata": {
    "colab": {
     "base_uri": "https://localhost:8080/",
     "height": 51
    },
    "colab_type": "code",
    "id": "B5-x9zAb4NFT",
    "outputId": "a8746543-248b-47a5-cb5b-049b4d893a13"
   },
   "outputs": [
    {
     "data": {
      "text/plain": [
       "array([-1.1996577 ,  0.3317025 ,  0.04904119, ...,  0.05757688,\n",
       "        0.08896391,  0.        ])"
      ]
     },
     "execution_count": 58,
     "metadata": {
      "tags": []
     },
     "output_type": "execute_result"
    }
   ],
   "source": [
    "input_features[0]"
   ]
  },
  {
   "cell_type": "code",
   "execution_count": 59,
   "metadata": {
    "colab": {},
    "colab_type": "code",
    "id": "Ux3XYt_9aZzw"
   },
   "outputs": [],
   "source": [
    "class SimpleModel(nn.Module):  \n",
    "    '''\n",
    "    A really simple network arcchitecture\n",
    "    '''\n",
    "    def __init__(self,input_size, output_size, n_layers:[],loss_func, lr=.001):\n",
    "        super(SimpleModel,self).__init__()\n",
    "        self.lr=lr\n",
    "        self.loss_func=loss_func\n",
    "        if len(n_layers)>0:\n",
    "            self.input_lay=nn.Linear(input_size,n_layers[0])\n",
    "            self.intermediate_layers:[nn.Sequential]=[]\n",
    "            for n in range(len(n_layers)-1):\n",
    "                self.intermediate_layers.append(nn.Sequential((nn.Linear(n_layers[n],n_layers[n+1])),nn.ELU()))\n",
    "\n",
    "            self.output_lay=nn.Linear(n_layers[len(n_layers)-1],output_size)\n",
    "        else:\n",
    "            self.input_lay=nn.Linear(input_size,output_size)\n",
    "            self.intermediate_layers=[]\n",
    "            self.output_lay=None\n",
    "    \n",
    "    \n",
    "    def setActivationFunction(): #if we want to override this in some way\n",
    "        pass \n",
    "    \n",
    "    def setLossFunction(self, loss_func):\n",
    "        self.loss_func=loss_func \n",
    "        \n",
    "\n",
    "    def setLearnRate(self,lr):\n",
    "        self.lr=lr\n",
    "    def forward(self,x):\n",
    "   \n",
    "        x=self.input_lay(x)\n",
    "        #If I want to just linear regression effectively\n",
    "        if(type(self.output_lay)!=type(None)): \n",
    "            x=F.elu(x)\n",
    "    \n",
    "        for n in self.intermediate_layers:\n",
    "            x=n(x)\n",
    "        \n",
    "        if(type(self.output_lay)!=type(None)):\n",
    "            x=self.output_lay(x)\n",
    "           \n",
    "        return (torch.tanh(x)+1.0)/2.0 # Yes i could be using SIGMOID. BBUT BAH \n",
    "    \n",
    "    \n",
    "            \n",
    "    def _prepareLoss(self, batched_data:[]):\n",
    "        '''\n",
    "        This is just so i can customize the loss function and such \n",
    "        '''\n",
    "        expected_output=batched_data[0][1].float()  #ground truth\n",
    "        \n",
    "        output=self(batched_data[0][0].float())\n",
    " \n",
    "        return self.loss_func(output,expected_output)\n",
    "            \n",
    "    \n",
    "    def train_model(self,epochs,dataloader,optimizer,is_training=True)->[float]:\n",
    "        loss_vals=[]\n",
    "        \n",
    "        \n",
    "        for epoch in range(epochs):\n",
    "            cycle=(iter(dataloader))\n",
    "            temp_losses_batch = []\n",
    "            \n",
    "            for i in range(len(cycle)):\n",
    "                relevant_data=next(cycle)\n",
    "\n",
    "                loss=self._prepareLoss([relevant_data]) #array so it can. be arbitrary features\n",
    "                temp_losses_batch.append(loss.detach().numpy())\n",
    "                optimizer.zero_grad()\n",
    "\n",
    "                if is_training==True:\n",
    "                    loss.backward()\n",
    "                    optimizer.step()\n",
    "         \n",
    "            loss_vals.append(np.array(temp_losses_batch).sum())\n",
    "        \n",
    "        return loss_vals\n"
   ]
  },
  {
   "cell_type": "code",
   "execution_count": 60,
   "metadata": {
    "colab": {},
    "colab_type": "code",
    "id": "DrNkg-zF-WB0"
   },
   "outputs": [],
   "source": [
    "# this seems great\n",
    "# https://mlwhiz.com/blog/2019/03/09/deeplearning_architectures_text_classification/"
   ]
  },
  {
   "cell_type": "code",
   "execution_count": 61,
   "metadata": {
    "colab": {},
    "colab_type": "code",
    "id": "GEs7KdnUgT9X"
   },
   "outputs": [],
   "source": [
    "class Dataset_Handler_Generic(data_torch.Dataset):\n",
    "    def __init__(self, data, label):\n",
    "        \n",
    "            self.data=data #how is the data bbroken  down\n",
    "            self.label=label\n",
    "          \n",
    "    def __len__(self):\n",
    "            'Denotes the total number of samples'\n",
    "            return len(self.data)\n",
    "    def __getitem__(self, index):\n",
    "            return  self.data[index],self.label[index]"
   ]
  },
  {
   "cell_type": "code",
   "execution_count": 61,
   "metadata": {
    "colab": {},
    "colab_type": "code",
    "id": "piNCsR3uBx5N"
   },
   "outputs": [],
   "source": []
  },
  {
   "cell_type": "code",
   "execution_count": 62,
   "metadata": {
    "colab": {},
    "colab_type": "code",
    "id": "LrKi_56JuXr4"
   },
   "outputs": [],
   "source": [
    "# input_features=pd.concat((image_features,text_features,getty_caption_features,getty_tag_features,getty_color_score_features),axis=1).values\n",
    "# input_features=pd.concat((text_features, getty_tag_features,hate_df),axis=1).values\n",
    "# input_features=input_features[0:50]"
   ]
  },
  {
   "cell_type": "code",
   "execution_count": 63,
   "metadata": {
    "colab": {
     "base_uri": "https://localhost:8080/",
     "height": 51
    },
    "colab_type": "code",
    "id": "7o2Bg2G5jiS1",
    "outputId": "cc6db66f-c019-46d5-9bf8-a0a1b9f7b166"
   },
   "outputs": [
    {
     "data": {
      "text/plain": [
       "array([-1.1996577 ,  0.3317025 ,  0.04904119, ...,  0.05757688,\n",
       "        0.08896391,  0.        ])"
      ]
     },
     "execution_count": 63,
     "metadata": {
      "tags": []
     },
     "output_type": "execute_result"
    }
   ],
   "source": [
    "input_features[0]"
   ]
  },
  {
   "cell_type": "code",
   "execution_count": 64,
   "metadata": {
    "colab": {
     "base_uri": "https://localhost:8080/",
     "height": 120
    },
    "colab_type": "code",
    "id": "FXLeE5AbEgvm",
    "outputId": "75e870a8-9ace-4ec3-c0b1-63c3590f8426"
   },
   "outputs": [
    {
     "data": {
      "application/vnd.google.colaboratory.intrinsic+json": {
       "type": "string"
      },
      "text/plain": [
       "'Men   Overweight   Portrait   Human Face   Beard   Pride   Males   Negative Emotion   Sadness   Black Background   Studio Shot   Displeased   Attitude   Moustache   Young Adult   Characters   Latin American and Hispanic   Pale Complexion   Youth Culture   20-29 Years   Authority   Black   Fine Art Portrait   Masculinity   Photography   Serious   Staring   Young Men   Adult Adults Only   Beautiful People   Catalonia   Caucasian Appearance   Colour Image   Differential Focus   Disappointment   Extreme Close Up   Facial Expression   Facial Hair   Handsome People   Headshot   Human Body Part   Human Head   Image Focus Technique   Individuality   Long Hair   Looking At Camera   Macro   Mixed Race Person   Mug Shot   One Man Only   One Person   One Young Man Only   Only Men   People   Real People   Rebellion   Serene People   Southern European   Spain   Spanish Culture   Vertical   Vignette   Photos'"
      ]
     },
     "execution_count": 64,
     "metadata": {
      "tags": []
     },
     "output_type": "execute_result"
    }
   ],
   "source": [
    "getty_tags[0]"
   ]
  },
  {
   "cell_type": "code",
   "execution_count": 65,
   "metadata": {
    "colab": {},
    "colab_type": "code",
    "id": "TVBhbMzMuXqH"
   },
   "outputs": [],
   "source": [
    "output_features=desc_features['1'].values.reshape((len(desc_features['1']),1))\n",
    "# output_features=output_features[0:50]"
   ]
  },
  {
   "cell_type": "code",
   "execution_count": 65,
   "metadata": {
    "colab": {},
    "colab_type": "code",
    "id": "vLN5UcTzuXoO"
   },
   "outputs": [],
   "source": []
  },
  {
   "cell_type": "code",
   "execution_count": 65,
   "metadata": {
    "colab": {},
    "colab_type": "code",
    "id": "qUEmZGf1u_Cb"
   },
   "outputs": [],
   "source": []
  },
  {
   "cell_type": "code",
   "execution_count": 65,
   "metadata": {
    "colab": {},
    "colab_type": "code",
    "id": "nKyIPRCpu-_7"
   },
   "outputs": [],
   "source": []
  },
  {
   "cell_type": "code",
   "execution_count": 66,
   "metadata": {
    "colab": {
     "base_uri": "https://localhost:8080/",
     "height": 34
    },
    "colab_type": "code",
    "id": "KQCPvtyX-Anx",
    "outputId": "ecdafbf5-9c53-4d12-fb31-c30d2283ea0c"
   },
   "outputs": [
    {
     "data": {
      "text/plain": [
       "3202.0"
      ]
     },
     "execution_count": 66,
     "metadata": {
      "tags": []
     },
     "output_type": "execute_result"
    }
   ],
   "source": [
    "round(input_features.shape[1]*0.5,0)"
   ]
  },
  {
   "cell_type": "code",
   "execution_count": 67,
   "metadata": {
    "colab": {
     "base_uri": "https://localhost:8080/",
     "height": 34
    },
    "colab_type": "code",
    "id": "F7smQWvq4rEA",
    "outputId": "1f08b303-619d-4336-d748-75e9164b199c"
   },
   "outputs": [
    {
     "data": {
      "text/plain": [
       "(8500, 6404)"
      ]
     },
     "execution_count": 67,
     "metadata": {
      "tags": []
     },
     "output_type": "execute_result"
    }
   ],
   "source": [
    "input_features.shape"
   ]
  },
  {
   "cell_type": "code",
   "execution_count": 67,
   "metadata": {
    "colab": {},
    "colab_type": "code",
    "id": "J6bdUXgiu-9F"
   },
   "outputs": [],
   "source": []
  },
  {
   "cell_type": "code",
   "execution_count": 67,
   "metadata": {
    "colab": {},
    "colab_type": "code",
    "id": "9cAJleJJu-0p"
   },
   "outputs": [],
   "source": []
  },
  {
   "cell_type": "code",
   "execution_count": 68,
   "metadata": {
    "colab": {},
    "colab_type": "code",
    "id": "rhFuzfrjaaAU"
   },
   "outputs": [],
   "source": [
    "def hidden_layer_grid_search(layer_size):\n",
    "  size=len(input_features)\n",
    "\n",
    "  train_size=int(size*.7)\n",
    "\n",
    "  handler_tr:data_torch.Dataset=Dataset_Handler_Generic(input_features[:train_size],output_features[:train_size])\n",
    "  handler_vl:data_torch.Dataset=Dataset_Handler_Generic(input_features[train_size+1:],output_features[train_size+1:])\n",
    "\n",
    "\n",
    "  loader_tr=torch.utils.data.DataLoader(handler_tr, batch_size=10, shuffle=True,num_workers=0)\n",
    "  loader_vl=torch.utils.data.DataLoader(handler_vl, batch_size=10, shuffle=True,num_workers=0)\n",
    "\n",
    "  lossType=nn.SmoothL1Loss(reduction=\"sum\")\n",
    "\n",
    "  # s=SimpleModel(input_features.shape[1],1,[],lossType, lr=.5)\n",
    "  s=SimpleModel(input_features.shape[1],1,[layer_size],lossType, lr=.0001)\n",
    "\n",
    "  optimizer=torch.optim.Adam(s.parameters(),lr=.0001,weight_decay=.0001)\n",
    "\n",
    "  epochs=10\n",
    "  norm_tr_size:int=len(input_features[:train_size])\n",
    "  norm_vl_size:int=len(input_features[train_size+1:])\n",
    "      \n",
    "  initial_tr_loss=s.train_model(1,loader_tr,optimizer,is_training=False)[0]/norm_tr_size\n",
    "  intial_vl_loss=s.train_model(1,loader_vl,optimizer,is_training=False)[0]/norm_vl_size\n",
    "  tr_loss_ary=[initial_tr_loss]\n",
    "  vl_loss_ary=[intial_vl_loss]\n",
    "  print(initial_tr_loss,intial_vl_loss)\n",
    "  for i in range(epochs):\n",
    "      tr_loss=s.train_model(1,loader_tr,optimizer,is_training=True)[0]/norm_tr_size\n",
    "      vl_loss=s.train_model(1,loader_vl,optimizer,is_training=False)[0]/norm_vl_size\n",
    "      tr_loss_ary.append(tr_loss)\n",
    "      vl_loss_ary.append(vl_loss)\n",
    "      print(tr_loss,vl_loss)\n",
    "\n",
    "\n",
    "  results=s(torch.tensor(input_features[:train_size]).float()).detach().numpy()\n",
    "  predicted_label=np.apply_along_axis(lambda d: 1 if d >.4 else 0,1,results)\n",
    "\n",
    "  train_feature_df=feature_df[:train_size]\n",
    "  train_feature_df['label']=predicted_label\n",
    "  train_feature_df['proba']=results\n",
    "  train_feature_df['actual']=output_features[:train_size]\n",
    "  \n",
    "\n",
    "  confusion_matrix(output_features[:train_size],predicted_label)\n",
    "\n",
    "  accuracy_score(output_features[:train_size],predicted_label)\n",
    "\n",
    "  from sklearn.metrics import roc_auc_score\n",
    "  results_vl=s(torch.tensor(input_features[train_size+1:]).float()).detach().numpy()\n",
    "  predicted_label_vl=np.apply_along_axis(lambda d: 1 if d >.4 else 0,1,results_vl)\n",
    "\n",
    "  validation_feature_df=feature_df[train_size+1:]\n",
    "  validation_feature_df['label']=predicted_label_vl\n",
    "  validation_feature_df['proba']=results_vl\n",
    "  validation_feature_df['actual']=output_features[train_size+1:]\n",
    "\n",
    "  print(\"layer size: \", layer_size,\n",
    "      \", validation accuracy: \", accuracy_score(output_features[train_size+1:],predicted_label_vl), \n",
    "        \", train accuracy: \", accuracy_score(output_features[:train_size],predicted_label), \n",
    "        \", validation AUC: \", roc_auc_score(output_features[train_size+1:],predicted_label_vl),\n",
    "        \", train AUC: \", roc_auc_score(output_features[:train_size],predicted_label))\n",
    "  return s, train_feature_df, validation_feature_df"
   ]
  },
  {
   "cell_type": "code",
   "execution_count": 69,
   "metadata": {
    "colab": {
     "base_uri": "https://localhost:8080/",
     "height": 1000
    },
    "colab_type": "code",
    "id": "aLfUDgFRVKKt",
    "outputId": "fbb1819b-c8bd-417d-d5d1-eb67a512f816"
   },
   "outputs": [
    {
     "name": "stdout",
     "output_type": "stream",
     "text": [
      "0.16883242310596114 0.16024077495157416\n",
      "0.10857159269957983 0.1173478340157905\n",
      "0.09881985704438025 0.10474887517163593\n",
      "0.0944134162454044 0.10403135890070248\n",
      "0.09185651506696428 0.10236565465317281\n",
      "0.08946230591846113 0.10434559776811986\n",
      "0.08802830800288866 0.10182212090295827\n",
      "0.08605309750853467 0.10281854556934092\n",
      "0.08525754271435136 0.10088151143830915\n",
      "0.08321629628413865 0.10355864173526996\n",
      "0.08193718405330883 0.10320211644732002\n"
     ]
    },
    {
     "name": "stderr",
     "output_type": "stream",
     "text": [
      "/usr/local/lib/python3.6/dist-packages/ipykernel_launcher.py:41: SettingWithCopyWarning: \n",
      "A value is trying to be set on a copy of a slice from a DataFrame.\n",
      "Try using .loc[row_indexer,col_indexer] = value instead\n",
      "\n",
      "See the caveats in the documentation: https://pandas.pydata.org/pandas-docs/stable/user_guide/indexing.html#returning-a-view-versus-a-copy\n",
      "/usr/local/lib/python3.6/dist-packages/ipykernel_launcher.py:42: SettingWithCopyWarning: \n",
      "A value is trying to be set on a copy of a slice from a DataFrame.\n",
      "Try using .loc[row_indexer,col_indexer] = value instead\n",
      "\n",
      "See the caveats in the documentation: https://pandas.pydata.org/pandas-docs/stable/user_guide/indexing.html#returning-a-view-versus-a-copy\n",
      "/usr/local/lib/python3.6/dist-packages/ipykernel_launcher.py:43: SettingWithCopyWarning: \n",
      "A value is trying to be set on a copy of a slice from a DataFrame.\n",
      "Try using .loc[row_indexer,col_indexer] = value instead\n",
      "\n",
      "See the caveats in the documentation: https://pandas.pydata.org/pandas-docs/stable/user_guide/indexing.html#returning-a-view-versus-a-copy\n",
      "/usr/local/lib/python3.6/dist-packages/ipykernel_launcher.py:55: SettingWithCopyWarning: \n",
      "A value is trying to be set on a copy of a slice from a DataFrame.\n",
      "Try using .loc[row_indexer,col_indexer] = value instead\n",
      "\n",
      "See the caveats in the documentation: https://pandas.pydata.org/pandas-docs/stable/user_guide/indexing.html#returning-a-view-versus-a-copy\n",
      "/usr/local/lib/python3.6/dist-packages/ipykernel_launcher.py:56: SettingWithCopyWarning: \n",
      "A value is trying to be set on a copy of a slice from a DataFrame.\n",
      "Try using .loc[row_indexer,col_indexer] = value instead\n",
      "\n",
      "See the caveats in the documentation: https://pandas.pydata.org/pandas-docs/stable/user_guide/indexing.html#returning-a-view-versus-a-copy\n",
      "/usr/local/lib/python3.6/dist-packages/ipykernel_launcher.py:57: SettingWithCopyWarning: \n",
      "A value is trying to be set on a copy of a slice from a DataFrame.\n",
      "Try using .loc[row_indexer,col_indexer] = value instead\n",
      "\n",
      "See the caveats in the documentation: https://pandas.pydata.org/pandas-docs/stable/user_guide/indexing.html#returning-a-view-versus-a-copy\n"
     ]
    },
    {
     "name": "stdout",
     "output_type": "stream",
     "text": [
      "layer size:  1 , validation accuracy:  0.6943899568458219 , train accuracy:  0.7833613445378151 , validation AUC:  0.6709001592722522 , train AUC:  0.7598315132121269\n",
      "0.21632968421743698 0.2017735106751422\n",
      "0.11124267578125 0.10733047790647067\n",
      "0.0983824350052521 0.10379149241277216\n",
      "0.09217315930278361 0.1128073715144113\n",
      "0.08877519367121849 0.10390157838015521\n",
      "0.08604092125131302 0.10303004950624019\n",
      "0.08243878019957983 0.10286703367895499\n",
      "0.08069549304096639 0.1040740404095356\n",
      "0.07888248732110031 0.10380257882993331\n",
      "0.07566032858455882 0.10634355930404693\n",
      "0.07460073775603991 0.11457856433819022\n"
     ]
    },
    {
     "name": "stderr",
     "output_type": "stream",
     "text": [
      "/usr/local/lib/python3.6/dist-packages/ipykernel_launcher.py:41: SettingWithCopyWarning: \n",
      "A value is trying to be set on a copy of a slice from a DataFrame.\n",
      "Try using .loc[row_indexer,col_indexer] = value instead\n",
      "\n",
      "See the caveats in the documentation: https://pandas.pydata.org/pandas-docs/stable/user_guide/indexing.html#returning-a-view-versus-a-copy\n",
      "/usr/local/lib/python3.6/dist-packages/ipykernel_launcher.py:42: SettingWithCopyWarning: \n",
      "A value is trying to be set on a copy of a slice from a DataFrame.\n",
      "Try using .loc[row_indexer,col_indexer] = value instead\n",
      "\n",
      "See the caveats in the documentation: https://pandas.pydata.org/pandas-docs/stable/user_guide/indexing.html#returning-a-view-versus-a-copy\n",
      "/usr/local/lib/python3.6/dist-packages/ipykernel_launcher.py:43: SettingWithCopyWarning: \n",
      "A value is trying to be set on a copy of a slice from a DataFrame.\n",
      "Try using .loc[row_indexer,col_indexer] = value instead\n",
      "\n",
      "See the caveats in the documentation: https://pandas.pydata.org/pandas-docs/stable/user_guide/indexing.html#returning-a-view-versus-a-copy\n",
      "/usr/local/lib/python3.6/dist-packages/ipykernel_launcher.py:55: SettingWithCopyWarning: \n",
      "A value is trying to be set on a copy of a slice from a DataFrame.\n",
      "Try using .loc[row_indexer,col_indexer] = value instead\n",
      "\n",
      "See the caveats in the documentation: https://pandas.pydata.org/pandas-docs/stable/user_guide/indexing.html#returning-a-view-versus-a-copy\n",
      "/usr/local/lib/python3.6/dist-packages/ipykernel_launcher.py:56: SettingWithCopyWarning: \n",
      "A value is trying to be set on a copy of a slice from a DataFrame.\n",
      "Try using .loc[row_indexer,col_indexer] = value instead\n",
      "\n",
      "See the caveats in the documentation: https://pandas.pydata.org/pandas-docs/stable/user_guide/indexing.html#returning-a-view-versus-a-copy\n",
      "/usr/local/lib/python3.6/dist-packages/ipykernel_launcher.py:57: SettingWithCopyWarning: \n",
      "A value is trying to be set on a copy of a slice from a DataFrame.\n",
      "Try using .loc[row_indexer,col_indexer] = value instead\n",
      "\n",
      "See the caveats in the documentation: https://pandas.pydata.org/pandas-docs/stable/user_guide/indexing.html#returning-a-view-versus-a-copy\n"
     ]
    },
    {
     "name": "stdout",
     "output_type": "stream",
     "text": [
      "layer size:  2 , validation accuracy:  0.6673205178501374 , train accuracy:  0.8115966386554622 , validation AUC:  0.6224908812118115 , train AUC:  0.7613225400902699\n",
      "0.20552285074185925 0.19269808099147337\n",
      "0.10850820845916491 0.10542690655725898\n",
      "0.09681308265493697 0.11181798660320223\n",
      "0.09264986951811975 0.10213015808129414\n",
      "0.08819844734768907 0.10340890326935809\n",
      "0.08452470026096376 0.10550876166971117\n",
      "0.0827821362920168 0.10299595218866467\n",
      "0.07977220038405987 0.10209143942783935\n",
      "0.07772675329897584 0.10694762537085621\n",
      "0.07583335555902049 0.10658483853196106\n",
      "0.07373164329208245 0.10962272036445052\n"
     ]
    },
    {
     "name": "stderr",
     "output_type": "stream",
     "text": [
      "/usr/local/lib/python3.6/dist-packages/ipykernel_launcher.py:41: SettingWithCopyWarning: \n",
      "A value is trying to be set on a copy of a slice from a DataFrame.\n",
      "Try using .loc[row_indexer,col_indexer] = value instead\n",
      "\n",
      "See the caveats in the documentation: https://pandas.pydata.org/pandas-docs/stable/user_guide/indexing.html#returning-a-view-versus-a-copy\n",
      "/usr/local/lib/python3.6/dist-packages/ipykernel_launcher.py:42: SettingWithCopyWarning: \n",
      "A value is trying to be set on a copy of a slice from a DataFrame.\n",
      "Try using .loc[row_indexer,col_indexer] = value instead\n",
      "\n",
      "See the caveats in the documentation: https://pandas.pydata.org/pandas-docs/stable/user_guide/indexing.html#returning-a-view-versus-a-copy\n",
      "/usr/local/lib/python3.6/dist-packages/ipykernel_launcher.py:43: SettingWithCopyWarning: \n",
      "A value is trying to be set on a copy of a slice from a DataFrame.\n",
      "Try using .loc[row_indexer,col_indexer] = value instead\n",
      "\n",
      "See the caveats in the documentation: https://pandas.pydata.org/pandas-docs/stable/user_guide/indexing.html#returning-a-view-versus-a-copy\n",
      "/usr/local/lib/python3.6/dist-packages/ipykernel_launcher.py:55: SettingWithCopyWarning: \n",
      "A value is trying to be set on a copy of a slice from a DataFrame.\n",
      "Try using .loc[row_indexer,col_indexer] = value instead\n",
      "\n",
      "See the caveats in the documentation: https://pandas.pydata.org/pandas-docs/stable/user_guide/indexing.html#returning-a-view-versus-a-copy\n",
      "/usr/local/lib/python3.6/dist-packages/ipykernel_launcher.py:56: SettingWithCopyWarning: \n",
      "A value is trying to be set on a copy of a slice from a DataFrame.\n",
      "Try using .loc[row_indexer,col_indexer] = value instead\n",
      "\n",
      "See the caveats in the documentation: https://pandas.pydata.org/pandas-docs/stable/user_guide/indexing.html#returning-a-view-versus-a-copy\n",
      "/usr/local/lib/python3.6/dist-packages/ipykernel_launcher.py:57: SettingWithCopyWarning: \n",
      "A value is trying to be set on a copy of a slice from a DataFrame.\n",
      "Try using .loc[row_indexer,col_indexer] = value instead\n",
      "\n",
      "See the caveats in the documentation: https://pandas.pydata.org/pandas-docs/stable/user_guide/indexing.html#returning-a-view-versus-a-copy\n"
     ]
    },
    {
     "name": "stdout",
     "output_type": "stream",
     "text": [
      "layer size:  3 , validation accuracy:  0.6837975676735975 , train accuracy:  0.825546218487395 , validation AUC:  0.6450584299421508 , train AUC:  0.7853993463652436\n",
      "0.14450691800157564 0.13918665111088294\n",
      "0.10792962595194328 0.11233419939881449\n",
      "0.09719487550879727 0.1027298302873063\n",
      "0.0912206826089811 0.10630170388893316\n",
      "0.08770453445049894 0.10029717584178231\n",
      "0.08362106195017069 0.10083012601449097\n",
      "0.08038754759716386 0.10035636725262971\n",
      "0.07701868906742385 0.10344294072506988\n",
      "0.07497228285845588 0.10120733956254291\n",
      "0.07114110097163866 0.10479022774709446\n",
      "0.068604792747177 0.10175064583767532\n"
     ]
    },
    {
     "name": "stderr",
     "output_type": "stream",
     "text": [
      "/usr/local/lib/python3.6/dist-packages/ipykernel_launcher.py:41: SettingWithCopyWarning: \n",
      "A value is trying to be set on a copy of a slice from a DataFrame.\n",
      "Try using .loc[row_indexer,col_indexer] = value instead\n",
      "\n",
      "See the caveats in the documentation: https://pandas.pydata.org/pandas-docs/stable/user_guide/indexing.html#returning-a-view-versus-a-copy\n",
      "/usr/local/lib/python3.6/dist-packages/ipykernel_launcher.py:42: SettingWithCopyWarning: \n",
      "A value is trying to be set on a copy of a slice from a DataFrame.\n",
      "Try using .loc[row_indexer,col_indexer] = value instead\n",
      "\n",
      "See the caveats in the documentation: https://pandas.pydata.org/pandas-docs/stable/user_guide/indexing.html#returning-a-view-versus-a-copy\n",
      "/usr/local/lib/python3.6/dist-packages/ipykernel_launcher.py:43: SettingWithCopyWarning: \n",
      "A value is trying to be set on a copy of a slice from a DataFrame.\n",
      "Try using .loc[row_indexer,col_indexer] = value instead\n",
      "\n",
      "See the caveats in the documentation: https://pandas.pydata.org/pandas-docs/stable/user_guide/indexing.html#returning-a-view-versus-a-copy\n",
      "/usr/local/lib/python3.6/dist-packages/ipykernel_launcher.py:55: SettingWithCopyWarning: \n",
      "A value is trying to be set on a copy of a slice from a DataFrame.\n",
      "Try using .loc[row_indexer,col_indexer] = value instead\n",
      "\n",
      "See the caveats in the documentation: https://pandas.pydata.org/pandas-docs/stable/user_guide/indexing.html#returning-a-view-versus-a-copy\n",
      "/usr/local/lib/python3.6/dist-packages/ipykernel_launcher.py:56: SettingWithCopyWarning: \n",
      "A value is trying to be set on a copy of a slice from a DataFrame.\n",
      "Try using .loc[row_indexer,col_indexer] = value instead\n",
      "\n",
      "See the caveats in the documentation: https://pandas.pydata.org/pandas-docs/stable/user_guide/indexing.html#returning-a-view-versus-a-copy\n",
      "/usr/local/lib/python3.6/dist-packages/ipykernel_launcher.py:57: SettingWithCopyWarning: \n",
      "A value is trying to be set on a copy of a slice from a DataFrame.\n",
      "Try using .loc[row_indexer,col_indexer] = value instead\n",
      "\n",
      "See the caveats in the documentation: https://pandas.pydata.org/pandas-docs/stable/user_guide/indexing.html#returning-a-view-versus-a-copy\n"
     ]
    },
    {
     "name": "stdout",
     "output_type": "stream",
     "text": [
      "layer size:  4 , validation accuracy:  0.6708513142408787 , train accuracy:  0.7966386554621848 , validation AUC:  0.6723476781616315 , train AUC:  0.8100409488175435\n",
      "0.11781451056985294 0.12257212253120096\n",
      "0.10693860991662289 0.10671148229084935\n",
      "0.09565699473148634 0.1071425595438775\n",
      "0.08990015879398634 0.10229663392430242\n",
      "0.0852079195936187 0.10281585178547346\n",
      "0.08138675978203781 0.10407836243609626\n",
      "0.0774103757714023 0.10312925258679874\n",
      "0.07379621233258929 0.10155880053682204\n",
      "0.07082468241202731 0.1066526261064388\n",
      "0.06773884749212185 0.10737551797273441\n",
      "0.06446024405856092 0.10506123437653246\n"
     ]
    },
    {
     "name": "stderr",
     "output_type": "stream",
     "text": [
      "/usr/local/lib/python3.6/dist-packages/ipykernel_launcher.py:41: SettingWithCopyWarning: \n",
      "A value is trying to be set on a copy of a slice from a DataFrame.\n",
      "Try using .loc[row_indexer,col_indexer] = value instead\n",
      "\n",
      "See the caveats in the documentation: https://pandas.pydata.org/pandas-docs/stable/user_guide/indexing.html#returning-a-view-versus-a-copy\n",
      "/usr/local/lib/python3.6/dist-packages/ipykernel_launcher.py:42: SettingWithCopyWarning: \n",
      "A value is trying to be set on a copy of a slice from a DataFrame.\n",
      "Try using .loc[row_indexer,col_indexer] = value instead\n",
      "\n",
      "See the caveats in the documentation: https://pandas.pydata.org/pandas-docs/stable/user_guide/indexing.html#returning-a-view-versus-a-copy\n",
      "/usr/local/lib/python3.6/dist-packages/ipykernel_launcher.py:43: SettingWithCopyWarning: \n",
      "A value is trying to be set on a copy of a slice from a DataFrame.\n",
      "Try using .loc[row_indexer,col_indexer] = value instead\n",
      "\n",
      "See the caveats in the documentation: https://pandas.pydata.org/pandas-docs/stable/user_guide/indexing.html#returning-a-view-versus-a-copy\n",
      "/usr/local/lib/python3.6/dist-packages/ipykernel_launcher.py:55: SettingWithCopyWarning: \n",
      "A value is trying to be set on a copy of a slice from a DataFrame.\n",
      "Try using .loc[row_indexer,col_indexer] = value instead\n",
      "\n",
      "See the caveats in the documentation: https://pandas.pydata.org/pandas-docs/stable/user_guide/indexing.html#returning-a-view-versus-a-copy\n",
      "/usr/local/lib/python3.6/dist-packages/ipykernel_launcher.py:56: SettingWithCopyWarning: \n",
      "A value is trying to be set on a copy of a slice from a DataFrame.\n",
      "Try using .loc[row_indexer,col_indexer] = value instead\n",
      "\n",
      "See the caveats in the documentation: https://pandas.pydata.org/pandas-docs/stable/user_guide/indexing.html#returning-a-view-versus-a-copy\n",
      "/usr/local/lib/python3.6/dist-packages/ipykernel_launcher.py:57: SettingWithCopyWarning: \n",
      "A value is trying to be set on a copy of a slice from a DataFrame.\n",
      "Try using .loc[row_indexer,col_indexer] = value instead\n",
      "\n",
      "See the caveats in the documentation: https://pandas.pydata.org/pandas-docs/stable/user_guide/indexing.html#returning-a-view-versus-a-copy\n"
     ]
    },
    {
     "name": "stdout",
     "output_type": "stream",
     "text": [
      "layer size:  5 , validation accuracy:  0.6794821498626913 , train accuracy:  0.8484033613445379 , validation AUC:  0.6632153376339424 , train AUC:  0.8463900773024498\n",
      "0.11633522354254201 0.12121182154000343\n",
      "0.10689705472032562 0.1056477130277805\n",
      "0.0975649434578519 0.10467195267675436\n",
      "0.09079228761817226 0.10662231205865046\n",
      "0.08657023453912815 0.10149187497318188\n",
      "0.08277122689896271 0.10140223781844596\n",
      "0.0795772161403624 0.10118056933708684\n",
      "0.07576904296875 0.10164148174299358\n",
      "0.07243939568014705 0.10675580401474843\n",
      "0.06902123202796744 0.10385731651811986\n",
      "0.06620506991859244 0.11138959116166879\n"
     ]
    },
    {
     "name": "stderr",
     "output_type": "stream",
     "text": [
      "/usr/local/lib/python3.6/dist-packages/ipykernel_launcher.py:41: SettingWithCopyWarning: \n",
      "A value is trying to be set on a copy of a slice from a DataFrame.\n",
      "Try using .loc[row_indexer,col_indexer] = value instead\n",
      "\n",
      "See the caveats in the documentation: https://pandas.pydata.org/pandas-docs/stable/user_guide/indexing.html#returning-a-view-versus-a-copy\n",
      "/usr/local/lib/python3.6/dist-packages/ipykernel_launcher.py:42: SettingWithCopyWarning: \n",
      "A value is trying to be set on a copy of a slice from a DataFrame.\n",
      "Try using .loc[row_indexer,col_indexer] = value instead\n",
      "\n",
      "See the caveats in the documentation: https://pandas.pydata.org/pandas-docs/stable/user_guide/indexing.html#returning-a-view-versus-a-copy\n",
      "/usr/local/lib/python3.6/dist-packages/ipykernel_launcher.py:43: SettingWithCopyWarning: \n",
      "A value is trying to be set on a copy of a slice from a DataFrame.\n",
      "Try using .loc[row_indexer,col_indexer] = value instead\n",
      "\n",
      "See the caveats in the documentation: https://pandas.pydata.org/pandas-docs/stable/user_guide/indexing.html#returning-a-view-versus-a-copy\n",
      "/usr/local/lib/python3.6/dist-packages/ipykernel_launcher.py:55: SettingWithCopyWarning: \n",
      "A value is trying to be set on a copy of a slice from a DataFrame.\n",
      "Try using .loc[row_indexer,col_indexer] = value instead\n",
      "\n",
      "See the caveats in the documentation: https://pandas.pydata.org/pandas-docs/stable/user_guide/indexing.html#returning-a-view-versus-a-copy\n",
      "/usr/local/lib/python3.6/dist-packages/ipykernel_launcher.py:56: SettingWithCopyWarning: \n",
      "A value is trying to be set on a copy of a slice from a DataFrame.\n",
      "Try using .loc[row_indexer,col_indexer] = value instead\n",
      "\n",
      "See the caveats in the documentation: https://pandas.pydata.org/pandas-docs/stable/user_guide/indexing.html#returning-a-view-versus-a-copy\n",
      "/usr/local/lib/python3.6/dist-packages/ipykernel_launcher.py:57: SettingWithCopyWarning: \n",
      "A value is trying to be set on a copy of a slice from a DataFrame.\n",
      "Try using .loc[row_indexer,col_indexer] = value instead\n",
      "\n",
      "See the caveats in the documentation: https://pandas.pydata.org/pandas-docs/stable/user_guide/indexing.html#returning-a-view-versus-a-copy\n"
     ]
    },
    {
     "name": "stdout",
     "output_type": "stream",
     "text": [
      "layer size:  6 , validation accuracy:  0.6783052177324441 , train accuracy:  0.8541176470588235 , validation AUC:  0.6354178766969465 , train AUC:  0.8159931711519453\n",
      "0.12836722237723214 0.13094078713466065\n",
      "0.10804343856683299 0.11454307822537638\n",
      "0.09661018948595063 0.10713514864514884\n",
      "0.09119488371520483 0.10396042259219301\n",
      "0.08713953354779412 0.10281265516195076\n",
      "0.08181836552980568 0.10295094803951918\n",
      "0.07753247172892594 0.10275924640713884\n",
      "0.07370968089384192 0.10317862665199588\n",
      "0.07072883670069591 0.10598184997869875\n",
      "0.06749983587184874 0.11124638961127525\n",
      "0.06385630888097427 0.10764945783349475\n"
     ]
    },
    {
     "name": "stderr",
     "output_type": "stream",
     "text": [
      "/usr/local/lib/python3.6/dist-packages/ipykernel_launcher.py:41: SettingWithCopyWarning: \n",
      "A value is trying to be set on a copy of a slice from a DataFrame.\n",
      "Try using .loc[row_indexer,col_indexer] = value instead\n",
      "\n",
      "See the caveats in the documentation: https://pandas.pydata.org/pandas-docs/stable/user_guide/indexing.html#returning-a-view-versus-a-copy\n",
      "/usr/local/lib/python3.6/dist-packages/ipykernel_launcher.py:42: SettingWithCopyWarning: \n",
      "A value is trying to be set on a copy of a slice from a DataFrame.\n",
      "Try using .loc[row_indexer,col_indexer] = value instead\n",
      "\n",
      "See the caveats in the documentation: https://pandas.pydata.org/pandas-docs/stable/user_guide/indexing.html#returning-a-view-versus-a-copy\n",
      "/usr/local/lib/python3.6/dist-packages/ipykernel_launcher.py:43: SettingWithCopyWarning: \n",
      "A value is trying to be set on a copy of a slice from a DataFrame.\n",
      "Try using .loc[row_indexer,col_indexer] = value instead\n",
      "\n",
      "See the caveats in the documentation: https://pandas.pydata.org/pandas-docs/stable/user_guide/indexing.html#returning-a-view-versus-a-copy\n",
      "/usr/local/lib/python3.6/dist-packages/ipykernel_launcher.py:55: SettingWithCopyWarning: \n",
      "A value is trying to be set on a copy of a slice from a DataFrame.\n",
      "Try using .loc[row_indexer,col_indexer] = value instead\n",
      "\n",
      "See the caveats in the documentation: https://pandas.pydata.org/pandas-docs/stable/user_guide/indexing.html#returning-a-view-versus-a-copy\n",
      "/usr/local/lib/python3.6/dist-packages/ipykernel_launcher.py:56: SettingWithCopyWarning: \n",
      "A value is trying to be set on a copy of a slice from a DataFrame.\n",
      "Try using .loc[row_indexer,col_indexer] = value instead\n",
      "\n",
      "See the caveats in the documentation: https://pandas.pydata.org/pandas-docs/stable/user_guide/indexing.html#returning-a-view-versus-a-copy\n",
      "/usr/local/lib/python3.6/dist-packages/ipykernel_launcher.py:57: SettingWithCopyWarning: \n",
      "A value is trying to be set on a copy of a slice from a DataFrame.\n",
      "Try using .loc[row_indexer,col_indexer] = value instead\n",
      "\n",
      "See the caveats in the documentation: https://pandas.pydata.org/pandas-docs/stable/user_guide/indexing.html#returning-a-view-versus-a-copy\n"
     ]
    },
    {
     "name": "stdout",
     "output_type": "stream",
     "text": [
      "layer size:  7 , validation accuracy:  0.685366810513927 , train accuracy:  0.8497478991596639 , validation AUC:  0.6654127526220549 , train AUC:  0.8383792170019602\n",
      "0.11716206013655463 0.122560652998112\n",
      "0.10666011521796219 0.1085037464906581\n",
      "0.09597037692029937 0.10320891675503874\n",
      "0.08984291910123425 0.10893235743490094\n",
      "0.08421410312171744 0.10462150109801024\n",
      "0.07977978105304621 0.10416811931455963\n",
      "0.07506085564108456 0.10528463885193949\n",
      "0.0712418346244748 0.10277264349223961\n",
      "0.0669150164948792 0.10793893783407708\n",
      "0.06352048729648109 0.10456028635616908\n",
      "0.060388409269957984 0.1082045808405257\n"
     ]
    },
    {
     "name": "stderr",
     "output_type": "stream",
     "text": [
      "/usr/local/lib/python3.6/dist-packages/ipykernel_launcher.py:41: SettingWithCopyWarning: \n",
      "A value is trying to be set on a copy of a slice from a DataFrame.\n",
      "Try using .loc[row_indexer,col_indexer] = value instead\n",
      "\n",
      "See the caveats in the documentation: https://pandas.pydata.org/pandas-docs/stable/user_guide/indexing.html#returning-a-view-versus-a-copy\n",
      "/usr/local/lib/python3.6/dist-packages/ipykernel_launcher.py:42: SettingWithCopyWarning: \n",
      "A value is trying to be set on a copy of a slice from a DataFrame.\n",
      "Try using .loc[row_indexer,col_indexer] = value instead\n",
      "\n",
      "See the caveats in the documentation: https://pandas.pydata.org/pandas-docs/stable/user_guide/indexing.html#returning-a-view-versus-a-copy\n",
      "/usr/local/lib/python3.6/dist-packages/ipykernel_launcher.py:43: SettingWithCopyWarning: \n",
      "A value is trying to be set on a copy of a slice from a DataFrame.\n",
      "Try using .loc[row_indexer,col_indexer] = value instead\n",
      "\n",
      "See the caveats in the documentation: https://pandas.pydata.org/pandas-docs/stable/user_guide/indexing.html#returning-a-view-versus-a-copy\n",
      "/usr/local/lib/python3.6/dist-packages/ipykernel_launcher.py:55: SettingWithCopyWarning: \n",
      "A value is trying to be set on a copy of a slice from a DataFrame.\n",
      "Try using .loc[row_indexer,col_indexer] = value instead\n",
      "\n",
      "See the caveats in the documentation: https://pandas.pydata.org/pandas-docs/stable/user_guide/indexing.html#returning-a-view-versus-a-copy\n",
      "/usr/local/lib/python3.6/dist-packages/ipykernel_launcher.py:56: SettingWithCopyWarning: \n",
      "A value is trying to be set on a copy of a slice from a DataFrame.\n",
      "Try using .loc[row_indexer,col_indexer] = value instead\n",
      "\n",
      "See the caveats in the documentation: https://pandas.pydata.org/pandas-docs/stable/user_guide/indexing.html#returning-a-view-versus-a-copy\n",
      "/usr/local/lib/python3.6/dist-packages/ipykernel_launcher.py:57: SettingWithCopyWarning: \n",
      "A value is trying to be set on a copy of a slice from a DataFrame.\n",
      "Try using .loc[row_indexer,col_indexer] = value instead\n",
      "\n",
      "See the caveats in the documentation: https://pandas.pydata.org/pandas-docs/stable/user_guide/indexing.html#returning-a-view-versus-a-copy\n"
     ]
    },
    {
     "name": "stdout",
     "output_type": "stream",
     "text": [
      "layer size:  8 , validation accuracy:  0.6786975284425265 , train accuracy:  0.8778151260504201 , validation AUC:  0.6512731454591921 , train AUC:  0.8604790802723683\n",
      "0.13608170709690126 0.13361047061577458\n",
      "0.10778677291228991 0.10494541364260494\n"
     ]
    },
    {
     "ename": "KeyboardInterrupt",
     "evalue": "ignored",
     "output_type": "error",
     "traceback": [
      "\u001b[0;31m---------------------------------------------------------------------------\u001b[0m",
      "\u001b[0;31mKeyboardInterrupt\u001b[0m                         Traceback (most recent call last)",
      "\u001b[0;32m<ipython-input-69-ea0034d8294b>\u001b[0m in \u001b[0;36m<module>\u001b[0;34m()\u001b[0m\n\u001b[1;32m      1\u001b[0m \u001b[0;32mfor\u001b[0m \u001b[0mlayer_size\u001b[0m \u001b[0;32min\u001b[0m \u001b[0;34m[\u001b[0m\u001b[0;36m1\u001b[0m\u001b[0;34m,\u001b[0m\u001b[0;36m2\u001b[0m\u001b[0;34m,\u001b[0m\u001b[0;36m3\u001b[0m\u001b[0;34m,\u001b[0m\u001b[0;36m4\u001b[0m\u001b[0;34m,\u001b[0m\u001b[0;36m5\u001b[0m\u001b[0;34m,\u001b[0m\u001b[0;36m6\u001b[0m\u001b[0;34m,\u001b[0m\u001b[0;36m7\u001b[0m\u001b[0;34m,\u001b[0m\u001b[0;36m8\u001b[0m\u001b[0;34m,\u001b[0m\u001b[0;36m9\u001b[0m\u001b[0;34m,\u001b[0m\u001b[0;36m10\u001b[0m\u001b[0;34m]\u001b[0m\u001b[0;34m:\u001b[0m\u001b[0;34m\u001b[0m\u001b[0;34m\u001b[0m\u001b[0m\n\u001b[0;32m----> 2\u001b[0;31m   \u001b[0mmodel\u001b[0m\u001b[0;34m,\u001b[0m \u001b[0mtrain_features\u001b[0m\u001b[0;34m,\u001b[0m \u001b[0mvalidation_features\u001b[0m\u001b[0;34m=\u001b[0m\u001b[0mhidden_layer_grid_search\u001b[0m\u001b[0;34m(\u001b[0m\u001b[0mlayer_size\u001b[0m\u001b[0;34m)\u001b[0m\u001b[0;34m\u001b[0m\u001b[0;34m\u001b[0m\u001b[0m\n\u001b[0m",
      "\u001b[0;32m<ipython-input-68-f1ac1787dff6>\u001b[0m in \u001b[0;36mhidden_layer_grid_search\u001b[0;34m(layer_size)\u001b[0m\n\u001b[1;32m     29\u001b[0m   \u001b[0;32mfor\u001b[0m \u001b[0mi\u001b[0m \u001b[0;32min\u001b[0m \u001b[0mrange\u001b[0m\u001b[0;34m(\u001b[0m\u001b[0mepochs\u001b[0m\u001b[0;34m)\u001b[0m\u001b[0;34m:\u001b[0m\u001b[0;34m\u001b[0m\u001b[0;34m\u001b[0m\u001b[0m\n\u001b[1;32m     30\u001b[0m       \u001b[0mtr_loss\u001b[0m\u001b[0;34m=\u001b[0m\u001b[0ms\u001b[0m\u001b[0;34m.\u001b[0m\u001b[0mtrain_model\u001b[0m\u001b[0;34m(\u001b[0m\u001b[0;36m1\u001b[0m\u001b[0;34m,\u001b[0m\u001b[0mloader_tr\u001b[0m\u001b[0;34m,\u001b[0m\u001b[0moptimizer\u001b[0m\u001b[0;34m,\u001b[0m\u001b[0mis_training\u001b[0m\u001b[0;34m=\u001b[0m\u001b[0;32mTrue\u001b[0m\u001b[0;34m)\u001b[0m\u001b[0;34m[\u001b[0m\u001b[0;36m0\u001b[0m\u001b[0;34m]\u001b[0m\u001b[0;34m/\u001b[0m\u001b[0mnorm_tr_size\u001b[0m\u001b[0;34m\u001b[0m\u001b[0;34m\u001b[0m\u001b[0m\n\u001b[0;32m---> 31\u001b[0;31m       \u001b[0mvl_loss\u001b[0m\u001b[0;34m=\u001b[0m\u001b[0ms\u001b[0m\u001b[0;34m.\u001b[0m\u001b[0mtrain_model\u001b[0m\u001b[0;34m(\u001b[0m\u001b[0;36m1\u001b[0m\u001b[0;34m,\u001b[0m\u001b[0mloader_vl\u001b[0m\u001b[0;34m,\u001b[0m\u001b[0moptimizer\u001b[0m\u001b[0;34m,\u001b[0m\u001b[0mis_training\u001b[0m\u001b[0;34m=\u001b[0m\u001b[0;32mFalse\u001b[0m\u001b[0;34m)\u001b[0m\u001b[0;34m[\u001b[0m\u001b[0;36m0\u001b[0m\u001b[0;34m]\u001b[0m\u001b[0;34m/\u001b[0m\u001b[0mnorm_vl_size\u001b[0m\u001b[0;34m\u001b[0m\u001b[0;34m\u001b[0m\u001b[0m\n\u001b[0m\u001b[1;32m     32\u001b[0m       \u001b[0mtr_loss_ary\u001b[0m\u001b[0;34m.\u001b[0m\u001b[0mappend\u001b[0m\u001b[0;34m(\u001b[0m\u001b[0mtr_loss\u001b[0m\u001b[0;34m)\u001b[0m\u001b[0;34m\u001b[0m\u001b[0;34m\u001b[0m\u001b[0m\n\u001b[1;32m     33\u001b[0m       \u001b[0mvl_loss_ary\u001b[0m\u001b[0;34m.\u001b[0m\u001b[0mappend\u001b[0m\u001b[0;34m(\u001b[0m\u001b[0mvl_loss\u001b[0m\u001b[0;34m)\u001b[0m\u001b[0;34m\u001b[0m\u001b[0;34m\u001b[0m\u001b[0m\n",
      "\u001b[0;32m<ipython-input-59-23b3fa77cebb>\u001b[0m in \u001b[0;36mtrain_model\u001b[0;34m(self, epochs, dataloader, optimizer, is_training)\u001b[0m\n\u001b[1;32m     69\u001b[0m \u001b[0;34m\u001b[0m\u001b[0m\n\u001b[1;32m     70\u001b[0m                 \u001b[0mloss\u001b[0m\u001b[0;34m=\u001b[0m\u001b[0mself\u001b[0m\u001b[0;34m.\u001b[0m\u001b[0m_prepareLoss\u001b[0m\u001b[0;34m(\u001b[0m\u001b[0;34m[\u001b[0m\u001b[0mrelevant_data\u001b[0m\u001b[0;34m]\u001b[0m\u001b[0;34m)\u001b[0m \u001b[0;31m#array so it can. be arbitrary features\u001b[0m\u001b[0;34m\u001b[0m\u001b[0;34m\u001b[0m\u001b[0m\n\u001b[0;32m---> 71\u001b[0;31m                 \u001b[0mtemp_losses_batch\u001b[0m\u001b[0;34m.\u001b[0m\u001b[0mappend\u001b[0m\u001b[0;34m(\u001b[0m\u001b[0mloss\u001b[0m\u001b[0;34m.\u001b[0m\u001b[0mdetach\u001b[0m\u001b[0;34m(\u001b[0m\u001b[0;34m)\u001b[0m\u001b[0;34m.\u001b[0m\u001b[0mnumpy\u001b[0m\u001b[0;34m(\u001b[0m\u001b[0;34m)\u001b[0m\u001b[0;34m)\u001b[0m\u001b[0;34m\u001b[0m\u001b[0;34m\u001b[0m\u001b[0m\n\u001b[0m\u001b[1;32m     72\u001b[0m                 \u001b[0moptimizer\u001b[0m\u001b[0;34m.\u001b[0m\u001b[0mzero_grad\u001b[0m\u001b[0;34m(\u001b[0m\u001b[0;34m)\u001b[0m\u001b[0;34m\u001b[0m\u001b[0;34m\u001b[0m\u001b[0m\n\u001b[1;32m     73\u001b[0m \u001b[0;34m\u001b[0m\u001b[0m\n",
      "\u001b[0;31mKeyboardInterrupt\u001b[0m: "
     ]
    }
   ],
   "source": [
    "for layer_size in [1,2,3,4,5,6,7,8,9,10]:\n",
    "  model, train_features, validation_features=hidden_layer_grid_search(layer_size)"
   ]
  },
  {
   "cell_type": "code",
   "execution_count": null,
   "metadata": {
    "colab": {
     "base_uri": "https://localhost:8080/",
     "height": 1000
    },
    "colab_type": "code",
    "id": "A63LWJPLaaE8",
    "outputId": "956e6512-f1a5-4414-9333-51e7f9049507"
   },
   "outputs": [
    {
     "name": "stdout",
     "output_type": "stream",
     "text": [
      "0.11896847508534664 0.131343489864285\n",
      "0.10750004103203782 0.10588774712892923\n",
      "0.09869903820903361 0.1036527805021577\n",
      "0.09409974683232668 0.10471705260488182\n",
      "0.09090604894301471 0.10233483776572921\n",
      "0.08839722705488445 0.10612002313253972\n",
      "0.08652590968027836 0.09930694089210843\n",
      "0.08465242786567752 0.10219027136484284\n",
      "0.0830239278328519 0.09893571951661498\n",
      "0.08071300346310399 0.10200746520541143\n",
      "0.07977832441570377 0.10065449130633336\n",
      "layer size:  4 , validation accuracy:  0.6943899568458219 , train accuracy:  0.7991596638655463 , validation AUC:  0.6520143293399108 , train AUC:  0.7491732607511759\n",
      "0.11855163061318277 0.1231855988829872\n",
      "0.10651368213300945 0.10327033502721655\n",
      "0.09569632393973214 0.1062919104880284\n",
      "0.0895391076352416 0.09926194871533567\n",
      "0.08497124167049633 0.10238221244467806\n",
      "0.08096487349822741 0.10346180918451477\n",
      "0.07715597713694852 0.09908237509654522\n",
      "0.07369296546743698 0.1025217025595209\n",
      "0.07055242458311449 0.09952250346336798\n",
      "0.06794746975938813 0.10128763826653835\n",
      "0.06429062787224264 0.10395364622921979\n",
      "layer size:  8 , validation accuracy:  0.6896822283248333 , train accuracy:  0.8541176470588235 , validation AUC:  0.6440787894276266 , train AUC:  0.8099690122128337\n",
      "0.13898501099658614 0.1360668902211958\n",
      "0.1076849929424895 0.10417166313689191\n",
      "0.09589907349658613 0.10172361222001888\n",
      "0.089387319869354 0.1064695206376888\n",
      "0.0849340050961791 0.09988309337186457\n",
      "0.08072985737263655 0.10050871569579982\n",
      "0.07700933889180672 0.10169922449673892\n",
      "0.07287360696231618 0.10172216356291683\n",
      "0.06920092157956932 0.10760562697687819\n",
      "0.06513988847492122 0.10422699944371568\n",
      "0.062095018915769434 0.10435255371668424\n",
      "layer size:  12 , validation accuracy:  0.6987053746567281 , train accuracy:  0.8734453781512606 , validation AUC:  0.6626274242553313 , train AUC:  0.8409277119693377\n",
      "0.11827511571034664 0.1222305387644358\n",
      "0.10566980698529412 0.10519144590249853\n",
      "0.0947183048023897 0.10117983902234945\n",
      "0.08836232930672269 0.10299292317836038\n",
      "0.08391613359210871 0.10544305728809092\n",
      "0.07898363642331933 0.09946194720202775\n",
      "0.07437378442587973 0.10415233972728276\n",
      "0.07046515969669118 0.10101205819071205\n",
      "0.06584579852448792 0.10216242362583978\n",
      "0.06137332178965336 0.10515245188447063\n",
      "0.05779966210116859 0.10656913077892065\n",
      "layer size:  16 , validation accuracy:  0.6892899176147509 , train accuracy:  0.8773109243697479 , validation AUC:  0.6515219276847184 , train AUC:  0.8458451106065956\n",
      "0.11926199776785715 0.12533501093412858\n",
      "0.10709661403623949 0.10474492428863034\n",
      "0.095196420365021 0.10163111366819709\n",
      "0.088387338333771 0.10357553475321205\n",
      "0.08251499720982143 0.10110886679672175\n",
      "0.07772191151851365 0.10036288022340256\n",
      "0.07238635151326156 0.10228826523575421\n",
      "0.06782814346441701 0.10142328524973028\n",
      "0.06287484305245536 0.10320273901070273\n",
      "0.05804931640625 0.10480308607542173\n",
      "0.054071116727941175 0.10464812765499339\n",
      "layer size:  20 , validation accuracy:  0.6951745782659866 , train accuracy:  0.8947899159663866 , validation AUC:  0.6711931479373341 , train AUC:  0.8810705267723646\n",
      "0.15237624737394959 0.1453920037384452\n",
      "0.10805878454897584 0.10250276226583954\n",
      "0.09521904953387605 0.10253827232339888\n",
      "0.08830217633928572 0.09969002090280502\n",
      "0.08313267812007616 0.0994935063765815\n",
      "0.07701657078847164 0.10546664286239701\n",
      "0.07093212480304621 0.10029702618712301\n",
      "0.06579939641872375 0.10024085181420717\n",
      "0.060929026884191176 0.10462688866574514\n",
      "0.0550192645417542 0.10353729499466703\n",
      "0.050669253052783615 0.11427009615443556\n",
      "layer size:  24 , validation accuracy:  0.6692820714005492 , train accuracy:  0.8640336134453781 , validation AUC:  0.6064555599439321 , train AUC:  0.80872663577271\n",
      "0.14064098197872898 0.13733010724181052\n",
      "0.10637229598870798 0.11066449637878825\n",
      "0.09506337398240547 0.10177660194178477\n",
      "0.08792648700105042 0.09988345852923328\n",
      "0.0820048151096376 0.10293841296525598\n",
      "0.07578558913799895 0.10228986953370194\n",
      "0.07086970481551996 0.10112200048962215\n",
      "0.06460481018579307 0.10440544765946817\n",
      "0.059171286190257355 0.10447728189593346\n",
      "0.054137865595456934 0.10425397319950838\n",
      "0.04894588694852941 0.10598466348629365\n",
      "layer size:  28 , validation accuracy:  0.6896822283248333 , train accuracy:  0.9238655462184874 , validation AUC:  0.6611995885251699 , train AUC:  0.9090367888800771\n",
      "0.14519033736541492 0.14022896588199416\n",
      "0.1073341382451418 0.10313449648606071\n",
      "0.09440056295955883 0.10395195812466286\n",
      "0.0877465615152311 0.10074734902933749\n",
      "0.08167965672597163 0.09909563449935943\n",
      "0.07511849026720063 0.09988803197562157\n",
      "0.06948647378873424 0.1012571087160406\n",
      "0.06424554392069327 0.10395414906887505\n",
      "0.05832655962775735 0.10749483463950324\n",
      "0.05292315314797794 0.10558287065699784\n",
      "0.04762274221211922 0.10674548382944292\n",
      "layer size:  32 , validation accuracy:  0.6841898783836798 , train accuracy:  0.9124369747899159 , validation AUC:  0.6711508775462264 , train AUC:  0.9108633531040145\n",
      "0.12162070394564076 0.12637866661098715\n",
      "0.10730527220653886 0.10678377147747892\n",
      "0.09463195287880777 0.10689294754453339\n",
      "0.08740770868894433 0.10356150313235582\n",
      "0.0817133542870273 0.1063514610700581\n",
      "0.07647004456079307 0.10051465399268095\n",
      "0.07127622973017332 0.10119968921635936\n",
      "0.06520396000196954 0.10910284402277855\n",
      "0.059183816348805145 0.1049172665942833\n",
      "0.05479078789719013 0.10524381306088172\n",
      "0.04878760586265756 0.10730825718265742\n",
      "layer size:  36 , validation accuracy:  0.6790898391526089 , train accuracy:  0.9099159663865546 , validation AUC:  0.6577737507970065 , train AUC:  0.8983984910077367\n",
      "0.14503953436843486 0.1399159721413422\n",
      "0.10695318654805672 0.10310379932234455\n",
      "0.09398431345194327 0.10133303750398441\n",
      "0.08777058577337185 0.10170627622428526\n",
      "0.08135304683396796 0.10017168143067748\n",
      "0.07498806480600052 0.10153331135524961\n",
      "0.06919491551503414 0.10213770067612299\n",
      "0.06320046817555147 0.10440635755979673\n",
      "0.0573452374113708 0.1049262817909597\n",
      "0.05185383772649685 0.10492891571296342\n",
      "0.04607892717633929 0.10577949293457606\n",
      "layer size:  40 , validation accuracy:  0.6912514711651628 , train accuracy:  0.9290756302521008 , validation AUC:  0.6612560566048937 , train AUC:  0.9120833353663245\n",
      "0.1229191012342437 0.12546286390266403\n",
      "0.10737403164390756 0.10524213692869752\n",
      "0.09467533400078781 0.10214111280235509\n",
      "0.0880951697085084 0.10164489386922568\n",
      "0.08135089265198267 0.10424275508624706\n",
      "0.07533761160714286 0.10318803693697283\n",
      "0.06993449235162816 0.10984980035829002\n",
      "0.06427061449579832 0.10437624704234504\n",
      "0.05781124339384191 0.10541856181345625\n",
      "0.05297572544642857 0.10521215810734602\n",
      "0.04700609736081933 0.10711313145167223\n",
      "layer size:  44 , validation accuracy:  0.685366810513927 , train accuracy:  0.9225210084033614 , validation AUC:  0.6539400521958662 , train AUC:  0.9044200852505063\n",
      "0.12539780560661765 0.1276487677459298\n",
      "0.10715063271402311 0.10539758621640839\n",
      "0.09405606822807248 0.10241815350765619\n",
      "0.08726785098805147 0.10162736631552814\n",
      "0.08041383887539391 0.10237571144627795\n",
      "0.0736340537191439 0.10803118496607125\n",
      "0.06735307965959822 0.10811081321719301\n",
      "0.06097390567555147 0.10654164221109994\n",
      "0.05462522875361082 0.10550424808518659\n",
      "0.049085601037289914 0.10629271263700225\n",
      "0.043076854032628675 0.1080049295526432\n",
      "layer size:  48 , validation accuracy:  0.6841898783836798 , train accuracy:  0.9364705882352942 , validation AUC:  0.653147563031284 , train AUC:  0.9209666928515908\n",
      "0.12322216386554621 0.12525750179298253\n",
      "0.10780611951811975 0.10281634265275598\n",
      "0.09413028492647059 0.1003506624170171\n",
      "0.08633033047203256 0.10135782031556492\n",
      "0.07963950790277048 0.11407993895813923\n",
      "0.07315446100315126 0.10403760847927496\n",
      "0.06578139361213235 0.10120744731389761\n",
      "0.059855864709164916 0.10261833157993944\n",
      "0.05338301971179096 0.10511657068335621\n",
      "0.04656420282956933 0.10674100616203658\n",
      "0.04143962443375788 0.10890206733185809\n",
      "layer size:  52 , validation accuracy:  0.6837975676735975 , train accuracy:  0.94 , validation AUC:  0.6521185532813439 , train AUC:  0.9243534056477616\n",
      "0.1334938062138918 0.1340636129517703\n",
      "0.10805418896074055 0.10756396311972832\n",
      "0.09461528361344537 0.10303265948349843\n",
      "0.08780195476628151 0.10430424519266134\n",
      "0.08111961044183298 0.09994803750781557\n",
      "0.07366938230370274 0.10338677832452678\n",
      "0.06677199932707457 0.10112644223991026\n",
      "0.0598573110884979 0.10222560183681101\n",
      "0.0538774865414916 0.10273101555220797\n",
      "0.046916688550420166 0.10763704248295901\n",
      "0.04062394598952863 0.1068606460828695\n",
      "layer size:  56 , validation accuracy:  0.6896822283248333 , train accuracy:  0.945546218487395 , validation AUC:  0.6557279929372953 , train AUC:  0.9321744158653867\n",
      "0.11674237419577206 0.1224761400189106\n",
      "0.10833923852744223 0.11001257673812034\n",
      "0.09464119534532563 0.10362082623930341\n",
      "0.08667237353925945 0.10080984481506228\n",
      "0.07960594882484244 0.10336622176052496\n",
      "0.07266096868434874 0.10364146660991443\n",
      "0.06540131897485557 0.11180967777651775\n",
      "0.058921703691242125 0.10421143535914819\n",
      "0.052563963817949054 0.1054549937437169\n",
      "0.04660870207457983 0.1069501395691325\n",
      "0.03972641375886292 0.10877927867699343\n",
      "layer size:  60 , validation accuracy:  0.6877206747744213 , train accuracy:  0.9363025210084034 , validation AUC:  0.6505829441875954 , train AUC:  0.920490972956966\n",
      "0.11918561662946428 0.1278842762901812\n",
      "0.10854065454306723 0.10335761362452187\n",
      "0.0941265099789916 0.10290605164172838\n",
      "0.08634785115217962 0.10199736052281531\n",
      "0.07892349884289654 0.10323687224539647\n",
      "0.07250217982700893 0.10160199685768316\n",
      "0.06465120716255252 0.1011122908953266\n",
      "0.05803070837710084 0.10271153650175315\n",
      "0.0512802508698792 0.10747687608038692\n",
      "0.04459308015198267 0.11047631462399471\n",
      "0.037733051716780465 0.1101621715355593\n",
      "layer size:  64 , validation accuracy:  0.6747744213417026 , train accuracy:  0.9467226890756303 , validation AUC:  0.6476901651320255 , train AUC:  0.932839923289307\n",
      "0.12738623867515755 0.12879886978885716\n",
      "0.10752065963103992 0.10611143894128212\n",
      "0.09374910755317752 0.10310628957587534\n",
      "0.0871389385832458 0.10039563663523073\n",
      "0.08125684209230567 0.10532945144312107\n",
      "0.0741390042345063 0.10197522360561127\n",
      "0.06721578646106881 0.10569399822080963\n",
      "0.06078672777704832 0.10455585657825373\n",
      "0.0543196118779543 0.10971973250079688\n",
      "0.04803534499737395 0.10850020266832582\n",
      "0.042012206005449054 0.1106962710560514\n",
      "layer size:  68 , validation accuracy:  0.6818360141231855 , train accuracy:  0.9252100840336135 , validation AUC:  0.6323237486028185 , train AUC:  0.897434603058194\n",
      "0.11879831522452731 0.12403488308834347\n",
      "0.10765464975052522 0.1047791652746788\n",
      "0.09409522305015756 0.10140827189430904\n",
      "0.08694937056853992 0.10087319063925192\n",
      "0.07940164005055148 0.10283858732131473\n",
      "0.07233049665178572 0.10071660397613034\n",
      "0.06571660402442227 0.10175161559986759\n",
      "0.057998646968553044 0.10303341374298132\n",
      "0.05150969176733193 0.10476599566466016\n",
      "0.043603741301207984 0.10790023115299505\n",
      "0.03827235630580357 0.10762969144609405\n",
      "layer size:  72 , validation accuracy:  0.6892899176147509 , train accuracy:  0.9514285714285714 , validation AUC:  0.6629946281109071 , train AUC:  0.9421053579759368\n",
      "0.13499558905593487 0.13295762910240536\n",
      "0.107645150833771 0.11358478556618404\n",
      "0.09364005465467437 0.10062852322985116\n",
      "0.08640200318408614 0.10241622595564437\n",
      "0.07925708418132878 0.09996127895207066\n",
      "0.07167507652475053 0.10187251261983866\n",
      "0.06519988757221638 0.10324296618312329\n",
      "0.058177977489824055 0.10525437269364211\n",
      "0.05154053760175945 0.1084671349748063\n",
      "0.04482722434676996 0.10799367552226363\n",
      "0.03801971435546875 0.10930275870286142\n",
      "layer size:  76 , validation accuracy:  0.6834052569635151 , train accuracy:  0.9485714285714286 , validation AUC:  0.654090095950561 , train AUC:  0.9364509531850338\n",
      "0.14162297096573004 0.1375122309759955\n",
      "0.10890836314994748 0.10448191520418547\n",
      "0.09369891511292017 0.10157981205098814\n",
      "0.08700406627494747 0.10316700147806125\n",
      "0.07989246015789128 0.10092446831171538\n",
      "0.07247883772649685 0.10167666854648882\n",
      "0.06490017931000525 0.10477614823674726\n",
      "0.05769670758928572 0.1022405194132503\n",
      "0.050762662486869746 0.10750055743367497\n",
      "0.04340901350774685 0.10609641361348814\n",
      "0.036988663873752624 0.11221525387560073\n",
      "layer size:  80 , validation accuracy:  0.6775205963122793 , train accuracy:  0.9389915966386555 , validation AUC:  0.6434205329554167 , train AUC:  0.9254379594325091\n",
      "0.14217003060990022 0.13910903421838222\n",
      "0.10831605542607668 0.10700760695830473\n",
      "0.09355444130777311 0.10251020908168644\n",
      "0.08702264353006828 0.10473192229183013\n",
      "0.07982103876706932 0.11195702176788079\n",
      "0.07208829479057248 0.10158606162956062\n",
      "0.06498414111738446 0.10490448010019247\n",
      "0.05755197733390231 0.10438486715072087\n",
      "0.05078175777146796 0.10545153372799382\n",
      "0.04326124688156512 0.1129131953170974\n",
      "0.036833147321428575 0.10951886003089446\n",
      "layer size:  84 , validation accuracy:  0.6841898783836798 , train accuracy:  0.95109243697479 , validation AUC:  0.6455579304416514 , train AUC:  0.9354773068786781\n",
      "0.12014654592305672 0.12601676572767506\n",
      "0.10993857503939075 0.11814318268193409\n",
      "0.09421948857668067 0.10178099580258189\n",
      "0.08700131712841387 0.1009812053861502\n",
      "0.07929443872275473 0.10062264479483375\n",
      "0.07208853585379464 0.1011800425526861\n",
      "0.06396176121815914 0.10572559331248162\n",
      "0.05618550789456408 0.1047331075567318\n",
      "0.048490985261292016 0.10699300066355678\n",
      "0.04238831079306723 0.11279529139031237\n",
      "0.03516095586183692 0.10868888726277462\n",
      "layer size:  88 , validation accuracy:  0.6806590819929385 , train accuracy:  0.9594957983193277 , validation AUC:  0.6523586232888559 , train AUC:  0.9494161187286763\n",
      "0.12309960116859243 0.12503771297414426\n",
      "0.10962872160582983 0.10375732326096018\n",
      "0.09470255875787816 0.10271625361661436\n",
      "0.08729740431328782 0.10159605856080203\n",
      "0.07999765091583508 0.10184364722915236\n",
      "0.07242329060530463 0.10131926927532856\n",
      "0.06470603109407826 0.10305708312389662\n",
      "0.0571439547498687 0.1041599062668571\n",
      "0.050563564781381305 0.10659205787272583\n",
      "0.04332903180803571 0.10764142437138338\n",
      "0.0367195706407563 0.10958906602466653\n",
      "layer size:  92 , validation accuracy:  0.6912514711651628 , train accuracy:  0.9492436974789916 , validation AUC:  0.6575494918518174 , train AUC:  0.9344149596110368\n",
      "0.13871440470719537 0.13582699978852\n",
      "0.10939831645548845 0.10321672274206797\n",
      "0.09448545824579832 0.10159135341831356\n",
      "0.08718333524816177 0.10571978671170067\n",
      "0.07830447413340336 0.10374399801009587\n",
      "0.07121125549829306 0.1045071888830485\n",
      "0.0641007059562106 0.10567985884859872\n",
      "0.05670512736344538 0.1032691018728239\n",
      "0.048916236172203253 0.10772960089664452\n",
      "0.042217776514902834 0.1070809018242448\n",
      "0.03517357577796744 0.11445916386481218\n",
      "layer size:  96 , validation accuracy:  0.6779129070223617 , train accuracy:  0.9401680672268907 , validation AUC:  0.6326238361122082 , train AUC:  0.9189208158136425\n",
      "0.12793616030396535 0.1293113472041732\n",
      "0.10862427783613446 0.10792447520780207\n",
      "0.09396870076155463 0.1044392217229796\n",
      "0.08588459944524685 0.10214475240366933\n",
      "0.079198110884979 0.10114804040034082\n",
      "0.07060530462184873 0.10642061349502868\n",
      "0.06325635381105567 0.1037869788282476\n",
      "0.05605263589810924 0.10347678662281777\n",
      "0.04875378520548845 0.11165009802021013\n",
      "0.04141930844603466 0.10827042889061887\n",
      "0.03560428907891282 0.11112746803280699\n",
      "layer size:  100 , validation accuracy:  0.6885052961945861 , train accuracy:  0.9485714285714286 , validation AUC:  0.6450513310978427 , train AUC:  0.9298475481940848\n",
      "0.12776745708048845 0.12672064546605286\n",
      "0.10874371184020483 0.10399413679384072\n",
      "0.09371387129070378 0.10490056513430512\n",
      "0.08634337866005777 0.10330009834585867\n",
      "0.07881586154969801 0.10545589167167271\n",
      "0.07168109284729517 0.103560090392372\n",
      "0.06340568991268382 0.10197336788783591\n",
      "0.05579881171218488 0.10439249355215893\n",
      "0.04861662536108193 0.11017537706269616\n",
      "0.04152387859440651 0.10824244945551564\n",
      "0.03534348431755515 0.10976948968192184\n",
      "layer size:  104 , validation accuracy:  0.6857591212240094 , train accuracy:  0.9561344537815126 , validation AUC:  0.6563810866136448 , train AUC:  0.9440722924094122\n",
      "0.13305709197741597 0.13317780103717144\n",
      "0.11220647731748949 0.10674019204068998\n",
      "0.09353983390231092 0.10344583803927399\n",
      "0.08457270261620273 0.10119013526290947\n",
      "0.07654627182904412 0.10136283673974475\n",
      "0.0683939547498687 0.1033935546875\n",
      "0.06032000886292017 0.1171671349939621\n",
      "0.05246101956407563 0.10902574194230581\n",
      "0.04476282456341912 0.1102121083022754\n",
      "0.03782215535139837 0.11281126253555315\n",
      "0.031914842108718484 0.11118258883692134\n",
      "layer size:  108 , validation accuracy:  0.6794821498626913 , train accuracy:  0.9636974789915966 , validation AUC:  0.6434469922842015 , train AUC:  0.952272877685628\n",
      "0.1294865250787815 0.1307403097530588\n",
      "0.10961449374671743 0.1099484407373296\n",
      "0.09440308642988446 0.10670358052483817\n",
      "0.08705330472032563 0.10106830439786436\n",
      "0.07840013007155987 0.10602978735916659\n",
      "0.07209694742154675 0.11010136385439143\n",
      "0.06408215434611345 0.10608774561562133\n",
      "0.05762500410320378 0.10426394618600432\n",
      "0.048629955644367125 0.1098008932156299\n",
      "0.042048314198726365 0.11240626111036191\n",
      "0.03538659360228466 0.11264270349968737\n",
      "layer size:  112 , validation accuracy:  0.6759513534719498 , train accuracy:  0.933781512605042 , validation AUC:  0.6693100181472275 , train AUC:  0.9362933181903653\n",
      "0.13981849478072478 0.1367365648906434\n",
      "0.10971616087841386 0.10499289607290849\n",
      "0.09317169445903362 0.1023221350782476\n",
      "0.08639540728400735 0.10340006765827285\n",
      "0.07689112559086135 0.10406034401511623\n",
      "0.06915422712053572 0.10366451342744704\n",
      "0.06135399057083771 0.10810088812018806\n",
      "0.05274777708935136 0.10723014942287416\n",
      "0.045057034532563024 0.11169943616828903\n",
      "0.0380277925379136 0.10836170626042076\n",
      "0.03147941012342437 0.11325402482437966\n",
      "layer size:  116 , validation accuracy:  0.6806590819929385 , train accuracy:  0.9515966386554622 , validation AUC:  0.6338257995234741 , train AUC:  0.9327338949893216\n",
      "0.12590405888918066 0.1283396574598801\n",
      "0.11086747882746849 0.10344233013405993\n",
      "0.09357947085084034 0.10146379975909671\n",
      "0.08613692596179097 0.1037402147403087\n",
      "0.07939192571559874 0.10274620849322039\n",
      "0.07172133501838235 0.10831780356956772\n",
      "0.06386980842141544 0.10578963353429041\n",
      "0.055737150817358194 0.10526483654742055\n",
      "0.04881657448135504 0.10589999486624657\n",
      "0.04144044251001182 0.1110326707854183\n",
      "0.034376238654641546 0.11308020991687917\n",
      "layer size:  120 , validation accuracy:  0.6826206355433503 , train accuracy:  0.9484033613445378 , validation AUC:  0.6432069222766897 , train AUC:  0.9307620188238703\n",
      "0.13627917377888654 0.1350291848135911\n",
      "0.11049160484506303 0.10231568196933846\n",
      "0.09378512342436975 0.10949637591488083\n",
      "0.08528857832195379 0.10026655051230261\n",
      "0.07777551987591912 0.10161003031979453\n",
      "0.06977113355107668 0.10136940957238133\n",
      "0.061529623079700634 0.10529169057948583\n",
      "0.05372411904214811 0.10672910562352883\n",
      "0.04617205451516544 0.11128124118833366\n",
      "0.038485566467798056 0.11025553209821866\n",
      "0.03234698640198267 0.10877290937469351\n",
      "layer size:  124 , validation accuracy:  0.6908591604550804 , train accuracy:  0.9625210084033613 , validation AUC:  0.6635806054410707 , train AUC:  0.9542719021001612\n",
      "0.1338323820739233 0.1328596472038667\n",
      "0.11054119206276261 0.10488911954596165\n",
      "0.09397368615414917 0.1021600411236637\n",
      "0.08593850528492647 0.10132848800234161\n",
      "0.07846080619747899 0.10204383727380835\n",
      "0.07052400989692752 0.10238272725670607\n",
      "0.06341286539029674 0.10835639052692232\n",
      "0.05489566065684086 0.10826058760022313\n",
      "0.04695945932083771 0.10808976578590869\n",
      "0.03914314590582327 0.11210559891363647\n",
      "0.03354824547006303 0.11265940495966556\n",
      "layer size:  128 , validation accuracy:  0.6885052961945861 , train accuracy:  0.946218487394958 , validation AUC:  0.6424037848456453 , train AUC:  0.9256203030870561\n",
      "0.12469236229648109 0.1272510694681125\n",
      "0.10855341550682773 0.11610749619949\n",
      "0.09385543182116597 0.10192270080638241\n",
      "0.08629506343553046 0.10251916441649912\n",
      "0.07851500951943277 0.10207484571921586\n",
      "0.07089669876739758 0.10331074178522827\n",
      "0.06278416737788865 0.10387583777875514\n",
      "0.054876796177455354 0.10477720180554874\n",
      "0.04643869608390231 0.10885841606083269\n",
      "0.039545983066078 0.11008747590200814\n",
      "0.033093836167279414 0.11106097347458563\n",
      "layer size:  132 , validation accuracy:  0.6865437426441742 , train accuracy:  0.9568067226890756 , validation AUC:  0.6448483686855779 , train AUC:  0.9419204496250477\n",
      "0.15103248916754203 0.14386541846220333\n",
      "0.11020794010963761 0.10525918558748529\n",
      "0.0941213604582458 0.10370809286423598\n",
      "0.08672859768907563 0.10207761133731978\n",
      "0.0786637506565126 0.10242075151254168\n",
      "0.07123689026391807 0.10503733752053501\n",
      "0.06430824087447479 0.10257978053970307\n",
      "0.05594760413931198 0.10255630271675167\n",
      "0.0485916522370667 0.10543362305836848\n",
      "0.04047054002264969 0.10761441469847244\n",
      "0.033673793247767855 0.11000788356800462\n",
      "layer size:  136 , validation accuracy:  0.6885052961945861 , train accuracy:  0.957983193277311 , validation AUC:  0.6473458711830804 , train AUC:  0.9427018062593354\n",
      "0.1250293173910189 0.1267952572929948\n",
      "0.11049020975577731 0.10389336533245268\n",
      "0.09423714261095063 0.11063426613760911\n",
      "0.08581649139147847 0.10150074650138535\n",
      "0.07759013712907038 0.1037681343135482\n",
      "0.06994690454306722 0.10193084201984846\n",
      "0.06084006942620798 0.10927158264423549\n",
      "0.05348141453847164 0.11028306855553036\n",
      "0.04446504480698529 0.10882750339440712\n",
      "0.037879628413865545 0.10872416984525181\n",
      "0.03183584261341255 0.11101838774473445\n",
      "layer size:  140 , validation accuracy:  0.6885052961945861 , train accuracy:  0.9620168067226891 , validation AUC:  0.6639371610301843 , train AUC:  0.9557409726754751\n",
      "0.12899981330422794 0.12880410171574638\n",
      "0.11216940487132353 0.1026950864616026\n",
      "0.09419480780593488 0.1037958623288238\n",
      "0.08604806082589286 0.10583074666229404\n",
      "0.0774335486147584 0.10267728354333194\n",
      "0.07008197175354516 0.10734728711780354\n",
      "0.06246611779477416 0.10557420265913103\n",
      "0.05312091218323267 0.10784046506825594\n",
      "0.045737355977547266 0.10772946920054433\n",
      "0.03807325860031512 0.11039147839072921\n",
      "0.030824738831079307 0.11348892277762113\n",
      "layer size:  144 , validation accuracy:  0.6688897606904668 , train accuracy:  0.9428571428571428 , validation AUC:  0.6555534259022632 , train AUC:  0.944373112524238\n",
      "0.12083350430015756 0.12230612035357002\n",
      "0.11087218725380778 0.11184169190123577\n",
      "0.09332004579175421 0.10087107152927619\n",
      "0.0859759521484375 0.10251087953456012\n",
      "0.07797615115382091 0.1035013299869434\n",
      "0.0701399602809874 0.10278486728481144\n",
      "0.06168697068671219 0.10165811136873529\n",
      "0.053440120921415445 0.10585347022576255\n",
      "0.04592646238182773 0.10801750054402462\n",
      "0.038507357044380255 0.10963884715053697\n",
      "0.03240335159942884 0.1100668594761426\n",
      "layer size:  148 , validation accuracy:  0.6908591604550804 , train accuracy:  0.9544537815126051 , validation AUC:  0.6718762503646225 , train AUC:  0.9509000144999173\n",
      "0.13927785665047268 0.13722830615636647\n",
      "0.11084089006696428 0.10809498574042517\n",
      "0.09338466099330357 0.10988825561954443\n",
      "0.08585345612854517 0.10405013158116541\n",
      "0.07708775624507616 0.10170254084398907\n",
      "0.06884300937171743 0.10597328973218664\n",
      "0.06019681016938025 0.1058919614041352\n",
      "0.0517430307083771 0.10534991222814094\n",
      "0.04335821584493172 0.10929425831821303\n",
      "0.03616653057707458 0.11268833021221558\n",
      "0.02931336987920168 0.11665025174547616\n",
      "layer size:  152 , validation accuracy:  0.6783052177324441 , train accuracy:  0.9552941176470588 , validation AUC:  0.6295932749421121 , train AUC:  0.938102367414895\n",
      "0.12588471228335085 0.1283615070401383\n",
      "0.11159279190191701 0.10702669092045901\n",
      "0.09448674049698004 0.1025218103108756\n",
      "0.08584903492647059 0.10506335348650819\n",
      "0.07738955201221114 0.10753829435256473\n",
      "0.07076825310202206 0.10588034820257332\n",
      "0.06198695591517857 0.10353851617668694\n",
      "0.053820923877363445 0.106998747402474\n",
      "0.04509703051142332 0.11168394391795802\n",
      "0.038316199038209035 0.10864637336715992\n",
      "0.03097989891757484 0.11060798677943556\n",
      "layer size:  156 , validation accuracy:  0.6865437426441742 , train accuracy:  0.965546218487395 , validation AUC:  0.6559680629448071 , train AUC:  0.9573899473161328\n",
      "0.14047654608718488 0.13633557421032144\n",
      "0.11099719135701155 0.1026547395654546\n",
      "0.09327226398371849 0.1013925282241504\n",
      "0.08672338662027311 0.10249732680861368\n",
      "0.07891041475183823 0.10321763264239653\n",
      "0.07112754501214548 0.10142057949349009\n",
      "0.06245310550978204 0.10587464935314707\n",
      "0.0546764367368041 0.10721848833182131\n",
      "0.04664702599789916 0.1083403834645633\n",
      "0.03889146307937237 0.10582722678470724\n",
      "0.03231021913159795 0.11075607305790874\n",
      "layer size:  160 , validation accuracy:  0.685366810513927 , train accuracy:  0.9559663865546218 , validation AUC:  0.6597646539507005 , train AUC:  0.9468403504050781\n",
      "0.13730489266018908 0.1364251874203119\n",
      "0.11174423089548319 0.11155472609892973\n",
      "0.0939222524947479 0.10201318799958317\n",
      "0.08571980452337184 0.10078175762860435\n",
      "0.07801115661108193 0.10420518578057572\n",
      "0.0700276761095063 0.10330845506203414\n",
      "0.060925810998227414 0.10781464066024667\n",
      "0.05286456452698267 0.11476256773489604\n",
      "0.04415943306033351 0.10851391103511794\n",
      "0.0367494778673188 0.11061653505357494\n",
      "0.029823446834788603 0.11092463209377453\n",
      "layer size:  164 , validation accuracy:  0.69242840329541 , train accuracy:  0.9658823529411765 , validation AUC:  0.6586949871833594 , train AUC:  0.9557927044772967\n",
      "0.13766010701155462 0.13701507819779202\n",
      "0.11219394202993697 0.10664954920664353\n",
      "0.09384730747767857 0.10280475339593959\n",
      "0.08558232668067227 0.1006437760327273\n",
      "0.07672114524520746 0.10047521699686152\n",
      "0.0685611910779937 0.10432298195600603\n",
      "0.05984926368008141 0.10458056755559779\n",
      "0.0514375112838104 0.10735917568393856\n",
      "0.044552699497767856 0.10884680285927079\n",
      "0.03666952694163603 0.1114445922420557\n",
      "0.030015658851431197 0.11284443798042737\n",
      "layer size:  168 , validation accuracy:  0.6783052177324441 , train accuracy:  0.9665546218487395 , validation AUC:  0.6438900247039782 , train AUC:  0.9560736951106503\n",
      "0.1388018029477416 0.13610916466935563\n",
      "0.11051281840861345 0.10874933577276015\n",
      "0.09373641839548319 0.10017929585974279\n",
      "0.08627351135766807 0.1016520772928722\n",
      "0.07761037618172269 0.09969317562302313\n",
      "0.06809205127363445 0.1049149678987164\n",
      "0.06040131384585084 0.10559770442682792\n",
      "0.05188179593126313 0.10601472611425436\n",
      "0.04427812335871849 0.10748443064758852\n",
      "0.036005351603532035 0.10959211897971631\n",
      "0.02942990086659664 0.1118963697275586\n",
      "layer size:  172 , validation accuracy:  0.6747744213417026 , train accuracy:  0.9687394957983193 , validation AUC:  0.6401005325423931 , train AUC:  0.9595935219023191\n",
      "0.1450822487198004 0.1429074011675841\n",
      "0.11173277269892332 0.10269833097461627\n",
      "0.0934239183954832 0.10221073214986269\n",
      "0.08555593282234769 0.10254983763546979\n",
      "0.07729987136456144 0.10283112853309509\n",
      "0.0684087929605436 0.10367864082728522\n",
      "0.0591292386095063 0.1092258481803526\n",
      "0.05085413315716912 0.10662453891998087\n",
      "0.04279670266544117 0.10812750270479846\n",
      "0.035543233406643907 0.11039736879811936\n",
      "0.028238961356026784 0.1119496587586431\n",
      "layer size:  176 , validation accuracy:  0.6830129462534327 , train accuracy:  0.9678991596638655 , validation AUC:  0.6481189998631859 , train AUC:  0.9599953034780161\n",
      "0.1264531701352416 0.12659576164595798\n",
      "0.11127413709624474 0.10528207676417223\n",
      "0.09362986845128676 0.10541730471431812\n",
      "0.085945932083771 0.10184794531096754\n",
      "0.07775727087710084 0.10164439102957042\n",
      "0.06849847360819328 0.10150048310918497\n",
      "0.060902833057050944 0.10493442300442575\n",
      "0.05317137646074055 0.10749330217579198\n",
      "0.04502297794117647 0.1075986710283138\n",
      "0.03679356422744879 0.10944436792767998\n",
      "0.03037623814174107 0.1120537226225358\n",
      "layer size:  180 , validation accuracy:  0.6786975284425265 , train accuracy:  0.9583193277310924 , validation AUC:  0.6627458458853808 , train AUC:  0.9575551512926882\n",
      "0.14380107462907038 0.13908666982609602\n",
      "0.11059994994091386 0.10643216683472685\n",
      "0.09407313755580357 0.10400457670287368\n",
      "0.08541218733587184 0.10040810586144383\n",
      "0.07741546374409139 0.10501691265263338\n",
      "0.0691608999556854 0.1035656934628163\n",
      "0.060360194614955356 0.1044983891890815\n",
      "0.05166239249606092 0.10983011777749853\n",
      "0.04322348201976103 0.11016803799820395\n",
      "0.03575228138130252 0.11086457867208954\n",
      "0.0295499041901917 0.1146719009561041\n",
      "layer size:  184 , validation accuracy:  0.664966653589643 , train accuracy:  0.9563025210084034 , validation AUC:  0.6482638808220204 , train AUC:  0.9553219888682171\n",
      "0.1373529822085084 0.13643131727515692\n",
      "0.11114065987723214 0.1032220384755664\n",
      "0.09394522017791491 0.10224188426374313\n",
      "0.0853087045365021 0.10024618550626471\n",
      "0.07631237895548844 0.1099042507095307\n",
      "0.0684598727186187 0.10288790152464815\n",
      "0.059270291368500524 0.10462582312457092\n",
      "0.0503851318359375 0.10863351503883263\n",
      "0.04344948648404674 0.10932444066990119\n",
      "0.035468367889147846 0.11281896077122769\n",
      "0.02843291466977416 0.11183495145538079\n",
      "layer size:  188 , validation accuracy:  0.6857591212240094 , train accuracy:  0.9635294117647059 , validation AUC:  0.6565575896971245 , train AUC:  0.9593273564648925\n",
      "0.14100810587907037 0.13780760138396797\n",
      "0.11280123670561974 0.1038396452959494\n",
      "0.09311420857405463 0.10099382426702261\n",
      "0.08449860388491334 0.10549207218210573\n",
      "0.07698419651063551 0.10215188793782488\n",
      "0.06881522042410715 0.11767271632257748\n",
      "0.05921115394399947 0.1053249378585965\n",
      "0.05160542976956407 0.10973005268610239\n",
      "0.043165944844734766 0.11177141407322724\n",
      "0.035062101989233194 0.11605790663158347\n",
      "0.028514078605074843 0.11420596015364481\n",
      "layer size:  192 , validation accuracy:  0.6826206355433503 , train accuracy:  0.959327731092437 , validation AUC:  0.637735326688815 , train AUC:  0.9450015256815556\n",
      "0.12565946691176472 0.1265217364652805\n",
      "0.11250351849724265 0.10231607705763902\n",
      "0.09349090319721638 0.1090303153886941\n",
      "0.08611656381302521 0.10195212889858768\n",
      "0.07750681644728204 0.10845746129762897\n",
      "0.06931307239692752 0.10176522818767776\n",
      "0.06029275333180147 0.10419510504272508\n",
      "0.05096044716714811 0.10615997494038716\n",
      "0.04348977481617647 0.11546498684379904\n",
      "0.03556196453190651 0.10973453035350873\n",
      "0.028410408597032564 0.11110213449208023\n",
      "layer size:  196 , validation accuracy:  0.6837975676735975 , train accuracy:  0.9714285714285714 , validation AUC:  0.6611202105388151 , train AUC:  0.9660465481126399\n",
      "0.13452786485688026 0.13433770845337634\n",
      "0.11350081243434874 0.10749691783236073\n",
      "0.09364858931853992 0.10182998675185122\n",
      "0.08468198119091387 0.10675242780563456\n",
      "0.07656089975052521 0.105477549693967\n",
      "0.068245849609375 0.10502552078863647\n",
      "0.058783348788734244 0.11031181422248922\n",
      "0.049390130563944326 0.10810018175019616\n",
      "0.041822617474724266 0.10952132633967977\n",
      "0.03407506606158088 0.11098607431069782\n",
      "0.027380830139673056 0.11461946196348445\n",
      "layer size:  200 , validation accuracy:  0.6822283248332679 , train accuracy:  0.9715966386554622 , validation AUC:  0.6411188940258707 , train AUC:  0.9608456566992558\n",
      "0.1262334846047794 0.12747093012118724\n",
      "0.11255699350052521 0.10897270433104894\n",
      "0.09410355255383403 0.10466571507055462\n",
      "0.08552831826089811 0.10445198427232494\n",
      "0.07847642401687237 0.10180142067048352\n",
      "0.0699539364085478 0.10343385369415702\n",
      "0.06106299648765756 0.10974020525818949\n",
      "0.05326794536173845 0.1098318417991737\n",
      "0.04456995346966912 0.11187236512020646\n",
      "0.03694448262703519 0.10836137103398391\n",
      "0.02997888901654412 0.10970153449422568\n",
      "layer size:  204 , validation accuracy:  0.6928207140054924 , train accuracy:  0.9663865546218487 , validation AUC:  0.665019089437694 , train AUC:  0.9582625070544786\n",
      "0.1205361758961397 0.12555733789598864\n",
      "0.1136471737132353 0.1045021245693777\n",
      "0.09404060940782563 0.10144994772383165\n",
      "0.08616436613707983 0.09991893865586075\n",
      "0.07757891486672794 0.10199185323135299\n",
      "0.0682956522452731 0.10509607398121812\n",
      "0.059446949678308825 0.1043679262432878\n",
      "0.050478951590401784 0.106087901256467\n",
      "0.04284589494977679 0.10710702554157267\n",
      "0.03465295615316439 0.11385151805855237\n",
      "0.027794633112033874 0.11455690631589593\n",
      "layer size:  208 , validation accuracy:  0.6739897999215378 , train accuracy:  0.9712605042016806 , validation AUC:  0.6507507350530606 , train AUC:  0.967076867952793\n",
      "0.13266447692358194 0.1322952216632135\n",
      "0.11283422646402311 0.10661888796004561\n",
      "0.09364114200367647 0.10214742224279129\n",
      "0.08537744858685661 0.10356356238046784\n",
      "0.07688693006499475 0.10468848652351412\n",
      "0.06881703609178046 0.10467238368217316\n",
      "0.06026679030987395 0.10711149123660627\n",
      "0.05269354812237395 0.10703753789016526\n",
      "0.043231385816045166 0.10651719462595625\n",
      "0.03508946522945115 0.11283203460226437\n",
      "0.028298916856781774 0.11149274512523294\n",
      "layer size:  212 , validation accuracy:  0.687328364064339 , train accuracy:  0.9690756302521009 , validation AUC:  0.6516719714394134 , train AUC:  0.9593864695878933\n",
      "0.13044599773503152 0.13001434098696793\n",
      "0.11552508698792016 0.10693373741847292\n",
      "0.0935500713957458 0.10504364696097121\n",
      "0.08480475930606618 0.11003587497548058\n",
      "0.07592264640231093 0.10451402510788545\n",
      "0.06686719365480567 0.11324849358817184\n",
      "0.05791952694163603 0.1079633375297298\n",
      "0.04856319651884191 0.11211336898354747\n",
      "0.04082695199661896 0.10940696623522705\n",
      "0.03359231387867647 0.11114814432053624\n",
      "0.02632647346047794 0.11471374439884513\n",
      "layer size:  216 , validation accuracy:  0.6822283248332679 , train accuracy:  0.9678991596638655 , validation AUC:  0.6427074217771892 , train AUC:  0.9590685097950757\n",
      "0.13709924008665966 0.13331057465090476\n",
      "0.11343251460740546 0.10377655089158738\n",
      "0.09390144925157563 0.10075501134789379\n",
      "0.08532360429523372 0.10260627540058602\n",
      "0.07778347496225052 0.10434129968630468\n",
      "0.06838411731880252 0.10350457449995709\n",
      "0.05920594800420168 0.10738851996953462\n",
      "0.05072207154346114 0.11506094320842733\n",
      "0.04274345077386423 0.10853085194255101\n",
      "0.035823725852645746 0.1118298631969645\n",
      "0.02803104432691045 0.11224566370237103\n",
      "layer size:  220 , validation accuracy:  0.6755590427618674 , train accuracy:  0.9678991596638655 , validation AUC:  0.6391579996231158 , train AUC:  0.9581417161121356\n",
      "0.12482186966583508 0.12766579245997206\n",
      "0.11265385988379727 0.10315605872937304\n",
      "0.09300715598739495 0.10720143967303354\n",
      "0.08582453879989496 0.10860684059235852\n",
      "0.07684566209296219 0.1069317260598519\n",
      "0.0678885272370667 0.10293069078483597\n",
      "0.058864592223608195 0.10267299743388951\n",
      "0.04982346991530987 0.11320280701377991\n",
      "0.04207093054506959 0.11360501887612176\n",
      "0.03479872759650735 0.12409060251109504\n",
      "0.027765723476890755 0.11016230323165947\n",
      "layer size:  224 , validation accuracy:  0.6943899568458219 , train accuracy:  0.9690756302521009 , validation AUC:  0.6689586253539742 , train AUC:  0.9629777951092867\n",
      "0.17194697019432773 0.16495593831603692\n",
      "0.11712783941701681 0.10885223831649667\n",
      "0.09365412864364496 0.11348681564001814\n",
      "0.08575894395844275 0.11026026118545262\n",
      "0.07694234383206408 0.11422727097712951\n",
      "0.0684197228696166 0.10495436897741761\n",
      "0.058804470030199577 0.10632700151254168\n",
      "0.050035985097163865 0.11055039966653589\n",
      "0.04121550487870929 0.11262418223905207\n",
      "0.03399833871536896 0.11044254056048328\n",
      "0.026874192181755515 0.11825267003067992\n",
      "layer size:  228 , validation accuracy:  0.6747744213417026 , train accuracy:  0.9502521008403362 , validation AUC:  0.6176846409404549 , train AUC:  0.9298549295152637\n",
      "0.1273665432970063 0.129521797572271\n",
      "0.1140596790474002 0.10477388545829859\n",
      "0.0938313870470063 0.10680053279932081\n",
      "0.08510384182970063 0.1027876448752881\n",
      "0.07726992310596113 0.10356068901100922\n",
      "0.06839482668067227 0.10492134917338908\n",
      "0.058976024980304624 0.11147409216849745\n",
      "0.05046466731223739 0.11018017798416659\n",
      "0.042475650050059086 0.10857294680511966\n",
      "0.034350560292476365 0.11075716254382846\n",
      "0.027119345785189077 0.11102455351669772\n",
      "layer size:  232 , validation accuracy:  0.6786975284425265 , train accuracy:  0.973109243697479 , validation AUC:  0.6551562132957481 , train AUC:  0.9695294057448448\n",
      "0.13155636571034665 0.1320293631540555\n",
      "0.11302045036764706 0.10432227558601412\n",
      "0.09357491629464286 0.101219036570714\n",
      "0.08567095588235295 0.10186410801417223\n",
      "0.07625035903033088 0.10470476895044625\n",
      "0.0678555887687106 0.10397663318488869\n",
      "0.05858915954076943 0.10243908121521307\n",
      "0.05047574596244748 0.10608561453327285\n",
      "0.041275429605435926 0.11104109933583023\n",
      "0.035088580476135764 0.11368155825507552\n",
      "0.026788273659073006 0.11510720445671097\n",
      "layer size:  236 , validation accuracy:  0.6888976069046685 , train accuracy:  0.9635294117647059 , validation AUC:  0.6441388069295045 , train AUC:  0.9506386656873281\n",
      "0.12102984260110294 0.12509609026364504\n",
      "0.11408064641872374 0.10467626273094228\n",
      "0.09432586413471639 0.10663471543681345\n",
      "0.08515150567062763 0.10313517891130713\n",
      "0.07756872866334033 0.1102081813640153\n",
      "0.06802379960773372 0.10521474413985876\n",
      "0.059304024832589286 0.10596636970074048\n",
      "0.049802482027967436 0.10589652287815074\n",
      "0.041629972057182246 0.11302465810734602\n",
      "0.03353370474166229 0.11300811228821352\n",
      "0.02672359434496455 0.11540676519514392\n",
      "layer size:  240 , validation accuracy:  0.6814437034131032 , train accuracy:  0.9603361344537815 , validation AUC:  0.6496510595347805 , train AUC:  0.9531849087262104\n",
      "0.13497168789390757 0.13403885408493527\n",
      "0.11432839786305148 0.10350513720147607\n",
      "0.09423922498686975 0.10002966514518562\n",
      "0.08604825572807248 0.1017436300272472\n",
      "0.07709628065093224 0.10404243334549088\n",
      "0.06832117417279411 0.10981584670918743\n",
      "0.059997727850905985 0.10751650463417026\n",
      "0.050020033892463234 0.10742584982775108\n",
      "0.04164934430803571 0.1127383507855409\n",
      "0.03493627211626838 0.11012566777106218\n",
      "0.02772020868894433 0.11385242795888094\n",
      "layer size:  244 , validation accuracy:  0.6775205963122793 , train accuracy:  0.9675630252100841 , validation AUC:  0.6566582642164038 , train AUC:  0.9642570781553054\n",
      "0.13051490078453257 0.13020787439237813\n",
      "0.11395682198660714 0.10661804989395351\n",
      "0.09407685095522585 0.1064596075130566\n",
      "0.08600643382352942 0.10608202282144959\n",
      "0.07782573283219538 0.10299597613341016\n",
      "0.06864212677258404 0.10388668474846141\n",
      "0.05930039862624737 0.10834235890606611\n",
      "0.05096694048713235 0.10936587705196892\n",
      "0.041954117462414654 0.11505662118186666\n",
      "0.034776590812106094 0.11186364923284867\n",
      "0.028203566094406513 0.11482424939927423\n",
      "layer size:  248 , validation accuracy:  0.6739897999215378 , train accuracy:  0.9677310924369747 , validation AUC:  0.6428080962964684 , train AUC:  0.9594037343730237\n",
      "0.14203643029477417 0.14067074643625563\n",
      "0.11369321165966387 0.10300296799909278\n",
      "0.09390469078256303 0.10242759970975138\n",
      "0.08568196785550157 0.11106643287655699\n",
      "0.07770153911173845 0.10311046793396307\n",
      "0.06917348140428047 0.1038981901986686\n",
      "0.05998738264837185 0.10520450776116247\n",
      "0.051979595793395485 0.10958978436703119\n",
      "0.042688721728925946 0.10945370637842046\n",
      "0.03510470606699711 0.11161876632073853\n"
     ]
    },
    {
     "ename": "KeyboardInterrupt",
     "evalue": "ignored",
     "output_type": "error",
     "traceback": [
      "\u001b[0;31m---------------------------------------------------------------------------\u001b[0m",
      "\u001b[0;31mKeyboardInterrupt\u001b[0m                         Traceback (most recent call last)",
      "\u001b[0;32m<ipython-input-90-20590c151e81>\u001b[0m in \u001b[0;36m<module>\u001b[0;34m()\u001b[0m\n\u001b[1;32m      1\u001b[0m \u001b[0;32mfor\u001b[0m \u001b[0mlayer_size\u001b[0m \u001b[0;32min\u001b[0m \u001b[0;34m[\u001b[0m\u001b[0mx\u001b[0m \u001b[0;34m*\u001b[0m \u001b[0;36m4\u001b[0m \u001b[0;32mfor\u001b[0m \u001b[0mx\u001b[0m \u001b[0;32min\u001b[0m \u001b[0mrange\u001b[0m\u001b[0;34m(\u001b[0m\u001b[0;36m0\u001b[0m\u001b[0;34m,\u001b[0m \u001b[0;36m1000\u001b[0m\u001b[0;34m)\u001b[0m\u001b[0;34m]\u001b[0m\u001b[0;34m[\u001b[0m\u001b[0;36m1\u001b[0m\u001b[0;34m:\u001b[0m\u001b[0;34m]\u001b[0m\u001b[0;34m:\u001b[0m\u001b[0;34m\u001b[0m\u001b[0;34m\u001b[0m\u001b[0m\n\u001b[0;32m----> 2\u001b[0;31m   \u001b[0mhidden_layer_grid_search\u001b[0m\u001b[0;34m(\u001b[0m\u001b[0mlayer_size\u001b[0m\u001b[0;34m)\u001b[0m\u001b[0;34m\u001b[0m\u001b[0;34m\u001b[0m\u001b[0m\n\u001b[0m",
      "\u001b[0;32m<ipython-input-89-c077e7bd54c1>\u001b[0m in \u001b[0;36mhidden_layer_grid_search\u001b[0;34m(layer_size)\u001b[0m\n\u001b[1;32m     28\u001b[0m   \u001b[0mprint\u001b[0m\u001b[0;34m(\u001b[0m\u001b[0minitial_tr_loss\u001b[0m\u001b[0;34m,\u001b[0m\u001b[0mintial_vl_loss\u001b[0m\u001b[0;34m)\u001b[0m\u001b[0;34m\u001b[0m\u001b[0;34m\u001b[0m\u001b[0m\n\u001b[1;32m     29\u001b[0m   \u001b[0;32mfor\u001b[0m \u001b[0mi\u001b[0m \u001b[0;32min\u001b[0m \u001b[0mrange\u001b[0m\u001b[0;34m(\u001b[0m\u001b[0mepochs\u001b[0m\u001b[0;34m)\u001b[0m\u001b[0;34m:\u001b[0m\u001b[0;34m\u001b[0m\u001b[0;34m\u001b[0m\u001b[0m\n\u001b[0;32m---> 30\u001b[0;31m       \u001b[0mtr_loss\u001b[0m\u001b[0;34m=\u001b[0m\u001b[0ms\u001b[0m\u001b[0;34m.\u001b[0m\u001b[0mtrain_model\u001b[0m\u001b[0;34m(\u001b[0m\u001b[0;36m1\u001b[0m\u001b[0;34m,\u001b[0m\u001b[0mloader_tr\u001b[0m\u001b[0;34m,\u001b[0m\u001b[0moptimizer\u001b[0m\u001b[0;34m,\u001b[0m\u001b[0mis_training\u001b[0m\u001b[0;34m=\u001b[0m\u001b[0;32mTrue\u001b[0m\u001b[0;34m)\u001b[0m\u001b[0;34m[\u001b[0m\u001b[0;36m0\u001b[0m\u001b[0;34m]\u001b[0m\u001b[0;34m/\u001b[0m\u001b[0mnorm_tr_size\u001b[0m\u001b[0;34m\u001b[0m\u001b[0;34m\u001b[0m\u001b[0m\n\u001b[0m\u001b[1;32m     31\u001b[0m       \u001b[0mvl_loss\u001b[0m\u001b[0;34m=\u001b[0m\u001b[0ms\u001b[0m\u001b[0;34m.\u001b[0m\u001b[0mtrain_model\u001b[0m\u001b[0;34m(\u001b[0m\u001b[0;36m1\u001b[0m\u001b[0;34m,\u001b[0m\u001b[0mloader_vl\u001b[0m\u001b[0;34m,\u001b[0m\u001b[0moptimizer\u001b[0m\u001b[0;34m,\u001b[0m\u001b[0mis_training\u001b[0m\u001b[0;34m=\u001b[0m\u001b[0;32mFalse\u001b[0m\u001b[0;34m)\u001b[0m\u001b[0;34m[\u001b[0m\u001b[0;36m0\u001b[0m\u001b[0;34m]\u001b[0m\u001b[0;34m/\u001b[0m\u001b[0mnorm_vl_size\u001b[0m\u001b[0;34m\u001b[0m\u001b[0;34m\u001b[0m\u001b[0m\n\u001b[1;32m     32\u001b[0m       \u001b[0mtr_loss_ary\u001b[0m\u001b[0;34m.\u001b[0m\u001b[0mappend\u001b[0m\u001b[0;34m(\u001b[0m\u001b[0mtr_loss\u001b[0m\u001b[0;34m)\u001b[0m\u001b[0;34m\u001b[0m\u001b[0;34m\u001b[0m\u001b[0m\n",
      "\u001b[0;32m<ipython-input-46-23b3fa77cebb>\u001b[0m in \u001b[0;36mtrain_model\u001b[0;34m(self, epochs, dataloader, optimizer, is_training)\u001b[0m\n\u001b[1;32m     74\u001b[0m                 \u001b[0;32mif\u001b[0m \u001b[0mis_training\u001b[0m\u001b[0;34m==\u001b[0m\u001b[0;32mTrue\u001b[0m\u001b[0;34m:\u001b[0m\u001b[0;34m\u001b[0m\u001b[0;34m\u001b[0m\u001b[0m\n\u001b[1;32m     75\u001b[0m                     \u001b[0mloss\u001b[0m\u001b[0;34m.\u001b[0m\u001b[0mbackward\u001b[0m\u001b[0;34m(\u001b[0m\u001b[0;34m)\u001b[0m\u001b[0;34m\u001b[0m\u001b[0;34m\u001b[0m\u001b[0m\n\u001b[0;32m---> 76\u001b[0;31m                     \u001b[0moptimizer\u001b[0m\u001b[0;34m.\u001b[0m\u001b[0mstep\u001b[0m\u001b[0;34m(\u001b[0m\u001b[0;34m)\u001b[0m\u001b[0;34m\u001b[0m\u001b[0;34m\u001b[0m\u001b[0m\n\u001b[0m\u001b[1;32m     77\u001b[0m \u001b[0;34m\u001b[0m\u001b[0m\n\u001b[1;32m     78\u001b[0m             \u001b[0mloss_vals\u001b[0m\u001b[0;34m.\u001b[0m\u001b[0mappend\u001b[0m\u001b[0;34m(\u001b[0m\u001b[0mnp\u001b[0m\u001b[0;34m.\u001b[0m\u001b[0marray\u001b[0m\u001b[0;34m(\u001b[0m\u001b[0mtemp_losses_batch\u001b[0m\u001b[0;34m)\u001b[0m\u001b[0;34m.\u001b[0m\u001b[0msum\u001b[0m\u001b[0;34m(\u001b[0m\u001b[0;34m)\u001b[0m\u001b[0;34m)\u001b[0m\u001b[0;34m\u001b[0m\u001b[0;34m\u001b[0m\u001b[0m\n",
      "\u001b[0;32m/usr/local/lib/python3.6/dist-packages/torch/autograd/grad_mode.py\u001b[0m in \u001b[0;36mdecorate_context\u001b[0;34m(*args, **kwargs)\u001b[0m\n\u001b[1;32m     13\u001b[0m         \u001b[0;32mdef\u001b[0m \u001b[0mdecorate_context\u001b[0m\u001b[0;34m(\u001b[0m\u001b[0;34m*\u001b[0m\u001b[0margs\u001b[0m\u001b[0;34m,\u001b[0m \u001b[0;34m**\u001b[0m\u001b[0mkwargs\u001b[0m\u001b[0;34m)\u001b[0m\u001b[0;34m:\u001b[0m\u001b[0;34m\u001b[0m\u001b[0;34m\u001b[0m\u001b[0m\n\u001b[1;32m     14\u001b[0m             \u001b[0;32mwith\u001b[0m \u001b[0mself\u001b[0m\u001b[0;34m:\u001b[0m\u001b[0;34m\u001b[0m\u001b[0;34m\u001b[0m\u001b[0m\n\u001b[0;32m---> 15\u001b[0;31m                 \u001b[0;32mreturn\u001b[0m \u001b[0mfunc\u001b[0m\u001b[0;34m(\u001b[0m\u001b[0;34m*\u001b[0m\u001b[0margs\u001b[0m\u001b[0;34m,\u001b[0m \u001b[0;34m**\u001b[0m\u001b[0mkwargs\u001b[0m\u001b[0;34m)\u001b[0m\u001b[0;34m\u001b[0m\u001b[0;34m\u001b[0m\u001b[0m\n\u001b[0m\u001b[1;32m     16\u001b[0m         \u001b[0;32mreturn\u001b[0m \u001b[0mdecorate_context\u001b[0m\u001b[0;34m\u001b[0m\u001b[0;34m\u001b[0m\u001b[0m\n\u001b[1;32m     17\u001b[0m \u001b[0;34m\u001b[0m\u001b[0m\n",
      "\u001b[0;32m/usr/local/lib/python3.6/dist-packages/torch/optim/adam.py\u001b[0m in \u001b[0;36mstep\u001b[0;34m(self, closure)\u001b[0m\n\u001b[1;32m    105\u001b[0m                     \u001b[0mdenom\u001b[0m \u001b[0;34m=\u001b[0m \u001b[0;34m(\u001b[0m\u001b[0mmax_exp_avg_sq\u001b[0m\u001b[0;34m.\u001b[0m\u001b[0msqrt\u001b[0m\u001b[0;34m(\u001b[0m\u001b[0;34m)\u001b[0m \u001b[0;34m/\u001b[0m \u001b[0mmath\u001b[0m\u001b[0;34m.\u001b[0m\u001b[0msqrt\u001b[0m\u001b[0;34m(\u001b[0m\u001b[0mbias_correction2\u001b[0m\u001b[0;34m)\u001b[0m\u001b[0;34m)\u001b[0m\u001b[0;34m.\u001b[0m\u001b[0madd_\u001b[0m\u001b[0;34m(\u001b[0m\u001b[0mgroup\u001b[0m\u001b[0;34m[\u001b[0m\u001b[0;34m'eps'\u001b[0m\u001b[0;34m]\u001b[0m\u001b[0;34m)\u001b[0m\u001b[0;34m\u001b[0m\u001b[0;34m\u001b[0m\u001b[0m\n\u001b[1;32m    106\u001b[0m                 \u001b[0;32melse\u001b[0m\u001b[0;34m:\u001b[0m\u001b[0;34m\u001b[0m\u001b[0;34m\u001b[0m\u001b[0m\n\u001b[0;32m--> 107\u001b[0;31m                     \u001b[0mdenom\u001b[0m \u001b[0;34m=\u001b[0m \u001b[0;34m(\u001b[0m\u001b[0mexp_avg_sq\u001b[0m\u001b[0;34m.\u001b[0m\u001b[0msqrt\u001b[0m\u001b[0;34m(\u001b[0m\u001b[0;34m)\u001b[0m \u001b[0;34m/\u001b[0m \u001b[0mmath\u001b[0m\u001b[0;34m.\u001b[0m\u001b[0msqrt\u001b[0m\u001b[0;34m(\u001b[0m\u001b[0mbias_correction2\u001b[0m\u001b[0;34m)\u001b[0m\u001b[0;34m)\u001b[0m\u001b[0;34m.\u001b[0m\u001b[0madd_\u001b[0m\u001b[0;34m(\u001b[0m\u001b[0mgroup\u001b[0m\u001b[0;34m[\u001b[0m\u001b[0;34m'eps'\u001b[0m\u001b[0;34m]\u001b[0m\u001b[0;34m)\u001b[0m\u001b[0;34m\u001b[0m\u001b[0;34m\u001b[0m\u001b[0m\n\u001b[0m\u001b[1;32m    108\u001b[0m \u001b[0;34m\u001b[0m\u001b[0m\n\u001b[1;32m    109\u001b[0m                 \u001b[0mstep_size\u001b[0m \u001b[0;34m=\u001b[0m \u001b[0mgroup\u001b[0m\u001b[0;34m[\u001b[0m\u001b[0;34m'lr'\u001b[0m\u001b[0;34m]\u001b[0m \u001b[0;34m/\u001b[0m \u001b[0mbias_correction1\u001b[0m\u001b[0;34m\u001b[0m\u001b[0;34m\u001b[0m\u001b[0m\n",
      "\u001b[0;31mKeyboardInterrupt\u001b[0m: "
     ]
    }
   ],
   "source": [
    "for layer_size in [x * 4 for x in range(0, 1000)][1:]:\n",
    "  model=hidden_layer_grid_search(layer_size)"
   ]
  },
  {
   "cell_type": "code",
   "execution_count": 70,
   "metadata": {
    "colab": {
     "base_uri": "https://localhost:8080/",
     "height": 751
    },
    "colab_type": "code",
    "id": "RqWKHiNnaaIP",
    "outputId": "aa266ed7-5715-46cf-8481-e4bb4c93d9d5"
   },
   "outputs": [
    {
     "name": "stdout",
     "output_type": "stream",
     "text": [
      "0.13367154674369747 0.1325891553864567\n",
      "0.10834147477350316 0.10630008761861269\n",
      "0.09618972393644958 0.10308804367981317\n",
      "0.08872282653295693 0.10344158784694979\n",
      "0.08185127835313813 0.1027982045080485\n",
      "0.07396664403065914 0.10316004552949685\n",
      "0.06696081337808561 0.10665312894609405\n",
      "0.059551571116727944 0.11966083656810882\n",
      "0.0530052377396271 0.10800542041992571\n",
      "0.04605884199382878 0.10899068683491075\n",
      "0.041559181533941704 0.11374177928997892\n",
      "layer size:  32 , validation accuracy:  0.6716359356610435 , train accuracy:  0.9463865546218487 , validation AUC:  0.637163547047268 , train AUC:  0.9331628248141002\n"
     ]
    },
    {
     "name": "stderr",
     "output_type": "stream",
     "text": [
      "/usr/local/lib/python3.6/dist-packages/ipykernel_launcher.py:41: SettingWithCopyWarning: \n",
      "A value is trying to be set on a copy of a slice from a DataFrame.\n",
      "Try using .loc[row_indexer,col_indexer] = value instead\n",
      "\n",
      "See the caveats in the documentation: https://pandas.pydata.org/pandas-docs/stable/user_guide/indexing.html#returning-a-view-versus-a-copy\n",
      "/usr/local/lib/python3.6/dist-packages/ipykernel_launcher.py:42: SettingWithCopyWarning: \n",
      "A value is trying to be set on a copy of a slice from a DataFrame.\n",
      "Try using .loc[row_indexer,col_indexer] = value instead\n",
      "\n",
      "See the caveats in the documentation: https://pandas.pydata.org/pandas-docs/stable/user_guide/indexing.html#returning-a-view-versus-a-copy\n",
      "/usr/local/lib/python3.6/dist-packages/ipykernel_launcher.py:43: SettingWithCopyWarning: \n",
      "A value is trying to be set on a copy of a slice from a DataFrame.\n",
      "Try using .loc[row_indexer,col_indexer] = value instead\n",
      "\n",
      "See the caveats in the documentation: https://pandas.pydata.org/pandas-docs/stable/user_guide/indexing.html#returning-a-view-versus-a-copy\n",
      "/usr/local/lib/python3.6/dist-packages/ipykernel_launcher.py:55: SettingWithCopyWarning: \n",
      "A value is trying to be set on a copy of a slice from a DataFrame.\n",
      "Try using .loc[row_indexer,col_indexer] = value instead\n",
      "\n",
      "See the caveats in the documentation: https://pandas.pydata.org/pandas-docs/stable/user_guide/indexing.html#returning-a-view-versus-a-copy\n",
      "/usr/local/lib/python3.6/dist-packages/ipykernel_launcher.py:56: SettingWithCopyWarning: \n",
      "A value is trying to be set on a copy of a slice from a DataFrame.\n",
      "Try using .loc[row_indexer,col_indexer] = value instead\n",
      "\n",
      "See the caveats in the documentation: https://pandas.pydata.org/pandas-docs/stable/user_guide/indexing.html#returning-a-view-versus-a-copy\n",
      "/usr/local/lib/python3.6/dist-packages/ipykernel_launcher.py:57: SettingWithCopyWarning: \n",
      "A value is trying to be set on a copy of a slice from a DataFrame.\n",
      "Try using .loc[row_indexer,col_indexer] = value instead\n",
      "\n",
      "See the caveats in the documentation: https://pandas.pydata.org/pandas-docs/stable/user_guide/indexing.html#returning-a-view-versus-a-copy\n"
     ]
    }
   ],
   "source": [
    "model, train_output, validation_output= hidden_layer_grid_search(32)"
   ]
  },
  {
   "cell_type": "code",
   "execution_count": 75,
   "metadata": {
    "colab": {},
    "colab_type": "code",
    "id": "px3xC1uwaaDM"
   },
   "outputs": [],
   "source": [
    "train_output.to_csv(\"/content/gdrive/My Drive/colab/data_sources/hateful_memes/train_error_analysis_20200816_v2.csv\", index=False)\n",
    "validation_output.to_csv(\"/content/gdrive/My Drive/colab/data_sources/hateful_memes/validation_error_analysis_20200816_v2.csv\", index=False)"
   ]
  },
  {
   "cell_type": "code",
   "execution_count": null,
   "metadata": {
    "colab": {
     "base_uri": "https://localhost:8080/",
     "height": 408
    },
    "colab_type": "code",
    "id": "BlH9xCJ5aZ-b",
    "outputId": "ddd8a686-d586-4e73-f589-4c4ec187adf9"
   },
   "outputs": [
    {
     "data": {
      "text/html": [
       "<div>\n",
       "<style scoped>\n",
       "    .dataframe tbody tr th:only-of-type {\n",
       "        vertical-align: middle;\n",
       "    }\n",
       "\n",
       "    .dataframe tbody tr th {\n",
       "        vertical-align: top;\n",
       "    }\n",
       "\n",
       "    .dataframe thead th {\n",
       "        text-align: right;\n",
       "    }\n",
       "</style>\n",
       "<table border=\"1\" class=\"dataframe\">\n",
       "  <thead>\n",
       "    <tr style=\"text-align: right;\">\n",
       "      <th></th>\n",
       "      <th>id</th>\n",
       "      <th>getty_caption</th>\n",
       "      <th>getty_tag</th>\n",
       "      <th>color_score</th>\n",
       "      <th>img_text</th>\n",
       "      <th>label</th>\n",
       "      <th>combined_text</th>\n",
       "      <th>hate_speech</th>\n",
       "      <th>offensive_language</th>\n",
       "      <th>neither</th>\n",
       "      <th>proba</th>\n",
       "      <th>actual</th>\n",
       "    </tr>\n",
       "  </thead>\n",
       "  <tbody>\n",
       "    <tr>\n",
       "      <th>5951</th>\n",
       "      <td>39102</td>\n",
       "      <td>Airplane against a blue and cloudy sky</td>\n",
       "      <td>Above   Abstract   Aeroplane   Atmosphere   Ba...</td>\n",
       "      <td>24.951344</td>\n",
       "      <td>we could destroy all of them but we let some o...</td>\n",
       "      <td>1</td>\n",
       "      <td>Airplane against a blue and cloudy sky Above  ...</td>\n",
       "      <td>0.080602</td>\n",
       "      <td>0.431205</td>\n",
       "      <td>0.488193</td>\n",
       "      <td>0.422595</td>\n",
       "      <td>0</td>\n",
       "    </tr>\n",
       "    <tr>\n",
       "      <th>5952</th>\n",
       "      <td>23485</td>\n",
       "      <td>nan</td>\n",
       "      <td>10-11 Years   Caucasian Appearance   Child   C...</td>\n",
       "      <td>9.572024</td>\n",
       "      <td>are my sins forgiven now father ?</td>\n",
       "      <td>0</td>\n",
       "      <td>nan 10-11 Years   Caucasian Appearance   Child...</td>\n",
       "      <td>0.143294</td>\n",
       "      <td>0.251604</td>\n",
       "      <td>0.605101</td>\n",
       "      <td>0.123608</td>\n",
       "      <td>1</td>\n",
       "    </tr>\n",
       "    <tr>\n",
       "      <th>5953</th>\n",
       "      <td>56310</td>\n",
       "      <td>Beijing,China</td>\n",
       "      <td>Men   T-Shirt   Middle Eastern Ethnicity   Mix...</td>\n",
       "      <td>65.909224</td>\n",
       "      <td>yes hello, maria? your uber has arrived</td>\n",
       "      <td>0</td>\n",
       "      <td>Beijing,China Men   T-Shirt   Middle Eastern E...</td>\n",
       "      <td>0.142939</td>\n",
       "      <td>0.306267</td>\n",
       "      <td>0.550794</td>\n",
       "      <td>0.239688</td>\n",
       "      <td>0</td>\n",
       "    </tr>\n",
       "    <tr>\n",
       "      <th>5954</th>\n",
       "      <td>42983</td>\n",
       "      <td>Close-up of a italian mature woman kissing her...</td>\n",
       "      <td>Mother   Eating   Italy   Humour   Italian Cul...</td>\n",
       "      <td>11.152928</td>\n",
       "      <td>i protested trump today mommy oo00h, who's my ...</td>\n",
       "      <td>0</td>\n",
       "      <td>Close-up of a italian mature woman kissing her...</td>\n",
       "      <td>0.037564</td>\n",
       "      <td>0.462442</td>\n",
       "      <td>0.499994</td>\n",
       "      <td>0.002753</td>\n",
       "      <td>0</td>\n",
       "    </tr>\n",
       "    <tr>\n",
       "      <th>5955</th>\n",
       "      <td>15208</td>\n",
       "      <td>African American man (20s) in service garage r...</td>\n",
       "      <td>Mechanic   Heavy Goods Vehicle   Articulated L...</td>\n",
       "      <td>8.992800</td>\n",
       "      <td>i work hard to provide for my cocaine addiction</td>\n",
       "      <td>0</td>\n",
       "      <td>African American man (20s) in service garage r...</td>\n",
       "      <td>0.063994</td>\n",
       "      <td>0.401192</td>\n",
       "      <td>0.534814</td>\n",
       "      <td>0.177582</td>\n",
       "      <td>1</td>\n",
       "    </tr>\n",
       "  </tbody>\n",
       "</table>\n",
       "</div>"
      ],
      "text/plain": [
       "         id  ... actual\n",
       "5951  39102  ...      0\n",
       "5952  23485  ...      1\n",
       "5953  56310  ...      0\n",
       "5954  42983  ...      0\n",
       "5955  15208  ...      1\n",
       "\n",
       "[5 rows x 12 columns]"
      ]
     },
     "execution_count": 234,
     "metadata": {
      "tags": []
     },
     "output_type": "execute_result"
    }
   ],
   "source": [
    "validation_output.head()"
   ]
  },
  {
   "cell_type": "code",
   "execution_count": 71,
   "metadata": {
    "colab": {
     "base_uri": "https://localhost:8080/",
     "height": 68
    },
    "colab_type": "code",
    "id": "o9DeCBXNaZ87",
    "outputId": "21d8d19b-6d21-4b84-e9df-7628603b940d"
   },
   "outputs": [
    {
     "data": {
      "text/plain": [
       "0    5450\n",
       "1    3050\n",
       "Name: 0, dtype: int64"
      ]
     },
     "execution_count": 71,
     "metadata": {
      "tags": []
     },
     "output_type": "execute_result"
    }
   ],
   "source": [
    "pd.DataFrame(output_features)[0].value_counts()\n"
   ]
  },
  {
   "cell_type": "code",
   "execution_count": null,
   "metadata": {
    "colab": {
     "base_uri": "https://localhost:8080/",
     "height": 34
    },
    "colab_type": "code",
    "id": "HyF0S0quaZ7q",
    "outputId": "e6de8063-75ef-4c2d-a3a0-48c252506994"
   },
   "outputs": [
    {
     "data": {
      "text/plain": [
       "0.6750955762583669"
      ]
     },
     "execution_count": 67,
     "metadata": {
      "tags": []
     },
     "output_type": "execute_result"
    }
   ],
   "source": []
  },
  {
   "cell_type": "code",
   "execution_count": null,
   "metadata": {
    "colab": {
     "base_uri": "https://localhost:8080/",
     "height": 34
    },
    "colab_type": "code",
    "id": "qrF3dQavaZ3s",
    "outputId": "2b7d4d18-7476-4284-da6e-c03318d9f555"
   },
   "outputs": [
    {
     "data": {
      "text/plain": [
       "0.8053968467246139"
      ]
     },
     "execution_count": 68,
     "metadata": {
      "tags": []
     },
     "output_type": "execute_result"
    }
   ],
   "source": []
  },
  {
   "cell_type": "code",
   "execution_count": null,
   "metadata": {
    "colab": {},
    "colab_type": "code",
    "id": "qOdDsORbaZ2D"
   },
   "outputs": [],
   "source": []
  },
  {
   "cell_type": "code",
   "execution_count": null,
   "metadata": {
    "colab": {},
    "colab_type": "code",
    "id": "fSKOLcK1aZuF"
   },
   "outputs": [],
   "source": []
  },
  {
   "cell_type": "code",
   "execution_count": null,
   "metadata": {
    "colab": {},
    "colab_type": "code",
    "id": "SvSomNAVw1Vc"
   },
   "outputs": [],
   "source": []
  },
  {
   "cell_type": "markdown",
   "metadata": {
    "colab_type": "text",
    "id": "nJABwt6EX6Mj"
   },
   "source": [
    "## Pull features for Test Dataset"
   ]
  },
  {
   "cell_type": "code",
   "execution_count": 72,
   "metadata": {
    "colab": {},
    "colab_type": "code",
    "id": "1NjXe3H8X0Bq"
   },
   "outputs": [],
   "source": [
    "# image_ex_path=\"/content/gdrive/My Drive/colab/data_sources/hateful_memes/\"\n",
    "test_data_ex_path=\"/content/gdrive/My Drive/colab/data_sources/hateful_memes/test.jsonl\"\n",
    "    # bert_path=\"/home/jupyter/ThreeDAnime/bert_folder\"\n",
    "# featurized_data_path=\"/content/gdrive/My Drive/colab/data_sources/hateful_memes/\"\n",
    "# inception = models.resnet18()\n",
    "\n",
    "test_data = []\n",
    "\n",
    "with open(test_data_ex_path) as f:\n",
    "  for el in f:\n",
    "    test_data.append(json.loads(el))"
   ]
  },
  {
   "cell_type": "code",
   "execution_count": 73,
   "metadata": {
    "colab": {
     "base_uri": "https://localhost:8080/",
     "height": 34
    },
    "colab_type": "code",
    "id": "hdCYwhCWX5RD",
    "outputId": "b35e6f72-acd9-465a-efb8-97f84e4d73e3"
   },
   "outputs": [
    {
     "data": {
      "text/plain": [
       "1000"
      ]
     },
     "execution_count": 73,
     "metadata": {
      "tags": []
     },
     "output_type": "execute_result"
    }
   ],
   "source": [
    "len(test_data)"
   ]
  },
  {
   "cell_type": "code",
   "execution_count": null,
   "metadata": {
    "colab": {},
    "colab_type": "code",
    "id": "szchGNvQcKLZ"
   },
   "outputs": [],
   "source": [
    "test_data_ids=[d.get('id') for d in test_data]\n",
    "# [getty_dict[x] for id in data_ids]\n",
    "# x=next((item for item in getty_dict if item[\"image\"] == 56482), None)\n",
    "\n",
    "test_getty_captions=[]\n",
    "test_getty_tags=[]\n",
    "test_getty_color_score_features=[]\n",
    "\n",
    "for id in test_data_ids:\n",
    "  test_getty_captions.append(next((l['best_caption'] for l in getty_dict if l['image'] == id), ''))\n",
    "  test_getty_tags.append(next((l['best_tags'] for l in getty_dict if l['image'] == id), ''))\n",
    "  test_getty_color_score_features.append(next((l['Color_Score'] for l in getty_dict if l['image'] == id), 99999))\n",
    "\n",
    "test_getty_captions_clean=['' if v is None else str(v) for v in test_getty_captions]\n",
    "test_getty_tags_clean=['' if v is None else str(v) for v in test_getty_tags]\n"
   ]
  },
  {
   "cell_type": "code",
   "execution_count": null,
   "metadata": {
    "colab": {
     "base_uri": "https://localhost:8080/",
     "height": 34
    },
    "colab_type": "code",
    "id": "9n7kSdLMc9o6",
    "outputId": "47e3a0b8-bf35-4b29-9dbb-691f8a86ebb7"
   },
   "outputs": [
    {
     "data": {
      "text/plain": [
       "True"
      ]
     },
     "execution_count": 102,
     "metadata": {
      "tags": []
     },
     "output_type": "execute_result"
    }
   ],
   "source": [
    "test_getty_captions_clean[0]\n",
    "all(isinstance(x, str) for x in getty_captions_clean)"
   ]
  },
  {
   "cell_type": "code",
   "execution_count": null,
   "metadata": {
    "colab": {},
    "colab_type": "code",
    "id": "bMVeAY58dPub"
   },
   "outputs": [],
   "source": [
    "# image_ex_path=\"/content/gdrive/My Drive/colab/data_sources/hateful_memes/\"\n",
    "# data_ex_path=\"/content/gdrive/My Drive/colab/data_sources/hateful_memes/train.jsonl\"\n",
    "    # bert_path=\"/home/jupyter/ThreeDAnime/bert_folder\"\n",
    "# featurized_data_path=\"/content/gdrive/My Drive/colab/data_sources/hateful_memes/\"\n",
    "inception = models.resnet18()\n",
    "\n",
    "test_data = []\n",
    "\n",
    "with open(test_data_ex_path) as f:\n",
    "  for el in f:\n",
    "    test_data.append(json.loads(el))# Create features without looping\n",
    "test_textData=extract_text_features_simple([d.get('text') for d in test_data],model_text)\n",
    "test_image_rcnn_data=extract_image_features_rcnn(test_data,0.7)\n",
    "# test_desc_labels=[[x[\"text\"],x[\"label\"]] for x in test_data]\n",
    "test_getty_tag_data=extract_text_features_simple(test_getty_tags_clean,model_text)\n",
    "test_getty_caption_data=extract_text_features_simple(test_getty_captions_clean,model_text)"
   ]
  },
  {
   "cell_type": "code",
   "execution_count": null,
   "metadata": {
    "colab": {
     "base_uri": "https://localhost:8080/",
     "height": 34
    },
    "colab_type": "code",
    "id": "RBSzWrzQeDdl",
    "outputId": "6e9e4a21-2163-4d06-db0c-67b5f1f0de19"
   },
   "outputs": [
    {
     "data": {
      "text/plain": [
       "{'id': 16395, 'img': 'img/16395.png', 'text': 'handjobs sold seperately'}"
      ]
     },
     "execution_count": 104,
     "metadata": {
      "tags": []
     },
     "output_type": "execute_result"
    }
   ],
   "source": [
    "test_data[0]"
   ]
  },
  {
   "cell_type": "code",
   "execution_count": null,
   "metadata": {
    "colab": {},
    "colab_type": "code",
    "id": "fBUiJGZ0d586"
   },
   "outputs": [],
   "source": [
    "test_text_df = pd.DataFrame({'id':test_data_ids, 'getty_caption':test_getty_captions_clean,'getty_tag':test_getty_tags_clean, 'color_score':test_getty_color_score_features, 'img_text': [d.get('text') for d in test_data]})\n",
    "#10423 (tail 10) is fucked up\n",
    "test_text_df[\"combined_text\"] = test_text_df[\"getty_caption\"] + ' '+ test_text_df[\"getty_tag\"] + ' '+ test_text_df[\"img_text\"]"
   ]
  },
  {
   "cell_type": "code",
   "execution_count": null,
   "metadata": {
    "colab": {
     "base_uri": "https://localhost:8080/",
     "height": 289
    },
    "colab_type": "code",
    "id": "a-ukXuBKgXGL",
    "outputId": "d3c82907-17ad-4bf1-dc25-955b06f0c76f"
   },
   "outputs": [
    {
     "data": {
      "text/html": [
       "<div>\n",
       "<style scoped>\n",
       "    .dataframe tbody tr th:only-of-type {\n",
       "        vertical-align: middle;\n",
       "    }\n",
       "\n",
       "    .dataframe tbody tr th {\n",
       "        vertical-align: top;\n",
       "    }\n",
       "\n",
       "    .dataframe thead th {\n",
       "        text-align: right;\n",
       "    }\n",
       "</style>\n",
       "<table border=\"1\" class=\"dataframe\">\n",
       "  <thead>\n",
       "    <tr style=\"text-align: right;\">\n",
       "      <th></th>\n",
       "      <th>id</th>\n",
       "      <th>getty_caption</th>\n",
       "      <th>getty_tag</th>\n",
       "      <th>color_score</th>\n",
       "      <th>img_text</th>\n",
       "      <th>combined_text</th>\n",
       "    </tr>\n",
       "  </thead>\n",
       "  <tbody>\n",
       "    <tr>\n",
       "      <th>0</th>\n",
       "      <td>16395</td>\n",
       "      <td>Closeup portrait of a beautiful woman smiling ...</td>\n",
       "      <td>Looking At Camera   One Woman Only   Women   3...</td>\n",
       "      <td>18.282644</td>\n",
       "      <td>handjobs sold seperately</td>\n",
       "      <td>Closeup portrait of a beautiful woman smiling ...</td>\n",
       "    </tr>\n",
       "    <tr>\n",
       "      <th>1</th>\n",
       "      <td>37405</td>\n",
       "      <td>This picture was taken early in the morning in...</td>\n",
       "      <td>Amstel River   Amsterdam   Arch   Arch Bridge ...</td>\n",
       "      <td>9.970300</td>\n",
       "      <td>introducing fidget spinner for women</td>\n",
       "      <td>This picture was taken early in the morning in...</td>\n",
       "    </tr>\n",
       "    <tr>\n",
       "      <th>2</th>\n",
       "      <td>94180</td>\n",
       "      <td>Transexual gay whit hands in hair, standing up...</td>\n",
       "      <td>Cross Dressing   Transgender   Humour   Men   ...</td>\n",
       "      <td>10.257412</td>\n",
       "      <td>happy pride month let's go beat up lesbians</td>\n",
       "      <td>Transexual gay whit hands in hair, standing up...</td>\n",
       "    </tr>\n",
       "    <tr>\n",
       "      <th>3</th>\n",
       "      <td>54321</td>\n",
       "      <td>Shot of a sporty young couple out for a workout</td>\n",
       "      <td>Laughing   Exercising   Couple - Relationship ...</td>\n",
       "      <td>6.485984</td>\n",
       "      <td>laughs in [majority of u.s crime rate]</td>\n",
       "      <td>Shot of a sporty young couple out for a workou...</td>\n",
       "    </tr>\n",
       "    <tr>\n",
       "      <th>4</th>\n",
       "      <td>97015</td>\n",
       "      <td>Smiling male and female friend with eyes close...</td>\n",
       "      <td>18-19 Years   20-24 Years   Adult Adults Only ...</td>\n",
       "      <td>45.356488</td>\n",
       "      <td>finds out those 72 virgins.. are goats</td>\n",
       "      <td>Smiling male and female friend with eyes close...</td>\n",
       "    </tr>\n",
       "  </tbody>\n",
       "</table>\n",
       "</div>"
      ],
      "text/plain": [
       "      id  ...                                      combined_text\n",
       "0  16395  ...  Closeup portrait of a beautiful woman smiling ...\n",
       "1  37405  ...  This picture was taken early in the morning in...\n",
       "2  94180  ...  Transexual gay whit hands in hair, standing up...\n",
       "3  54321  ...  Shot of a sporty young couple out for a workou...\n",
       "4  97015  ...  Smiling male and female friend with eyes close...\n",
       "\n",
       "[5 rows x 6 columns]"
      ]
     },
     "execution_count": 110,
     "metadata": {
      "tags": []
     },
     "output_type": "execute_result"
    }
   ],
   "source": [
    "test_text_df.head()"
   ]
  },
  {
   "cell_type": "code",
   "execution_count": null,
   "metadata": {
    "colab": {
     "base_uri": "https://localhost:8080/",
     "height": 103
    },
    "colab_type": "code",
    "id": "6QDLNtJegyPZ",
    "outputId": "fdc1ac34-3e2b-4623-cf64-2e8a7809b440"
   },
   "outputs": [
    {
     "data": {
      "application/vnd.google.colaboratory.intrinsic+json": {
       "type": "string"
      },
      "text/plain": [
       "'handjobs sold seperately Closeup portrait of a beautiful woman smiling against white background Looking At Camera   One Woman Only   Women   30-34 Years   30-39 Years   Adult Adults Only   Beautiful People   Beautiful Woman   Beauty   Blonde Hair   Blue Eyes   Brown   Casual Clothing   Caucasian Appearance   Central Europe   Cheerful   Clothing   Collar   Colour Image   Content   Curly   Day   Earring   Emotion   Europe   Exhilaration   Front View   Fun   Germany   Grace   Happiness   Headshot   Hesse - Germany   Human Body Part   Human Face   Human Head   Indoors   Jewellery   Long Hair   Mid Adult   Mid Adult Women   One Mid Adult Woman Only   One Person   Only Women   People   Personal Accessory   Photography   Portrait   Smiling   Top - Garment   Vertical   Photos'"
      ]
     },
     "execution_count": 111,
     "metadata": {
      "tags": []
     },
     "output_type": "execute_result"
    }
   ],
   "source": [
    "test_ctext_list = [a + ' ' + b+ ' ' + c for a, b, c in zip([d.get('text') for d in test_data], test_getty_captions_clean, test_getty_tags_clean)]\n",
    "\n",
    "test_ctext_list[0]\n"
   ]
  },
  {
   "cell_type": "code",
   "execution_count": null,
   "metadata": {
    "colab": {},
    "colab_type": "code",
    "id": "JFkv5pOwh-9C"
   },
   "outputs": [],
   "source": [
    "test_hate_list=[]\n",
    "\n",
    "for text in test_ctext_list:\n",
    "  # ctext_list[0]\n",
    "  row=[]\n",
    "  row.append(sonar.ping(text=text).get('classes')[0].get('confidence'))\n",
    "  row.append(sonar.ping(text=text).get('classes')[1].get('confidence'))\n",
    "  row.append(sonar.ping(text=text).get('classes')[2].get('confidence'))\n",
    "  test_hate_list.append(row)\n"
   ]
  },
  {
   "cell_type": "code",
   "execution_count": null,
   "metadata": {
    "colab": {
     "base_uri": "https://localhost:8080/",
     "height": 204
    },
    "colab_type": "code",
    "id": "E2YzAO2JiTNC",
    "outputId": "cd94317b-49c5-4a8f-fd2b-512458ca58bc"
   },
   "outputs": [
    {
     "data": {
      "text/html": [
       "<div>\n",
       "<style scoped>\n",
       "    .dataframe tbody tr th:only-of-type {\n",
       "        vertical-align: middle;\n",
       "    }\n",
       "\n",
       "    .dataframe tbody tr th {\n",
       "        vertical-align: top;\n",
       "    }\n",
       "\n",
       "    .dataframe thead th {\n",
       "        text-align: right;\n",
       "    }\n",
       "</style>\n",
       "<table border=\"1\" class=\"dataframe\">\n",
       "  <thead>\n",
       "    <tr style=\"text-align: right;\">\n",
       "      <th></th>\n",
       "      <th>hate_speech</th>\n",
       "      <th>offensive_language</th>\n",
       "      <th>neither</th>\n",
       "    </tr>\n",
       "  </thead>\n",
       "  <tbody>\n",
       "    <tr>\n",
       "      <th>995</th>\n",
       "      <td>0.043127</td>\n",
       "      <td>0.305570</td>\n",
       "      <td>0.651303</td>\n",
       "    </tr>\n",
       "    <tr>\n",
       "      <th>996</th>\n",
       "      <td>0.047398</td>\n",
       "      <td>0.279789</td>\n",
       "      <td>0.672813</td>\n",
       "    </tr>\n",
       "    <tr>\n",
       "      <th>997</th>\n",
       "      <td>0.171986</td>\n",
       "      <td>0.314214</td>\n",
       "      <td>0.513799</td>\n",
       "    </tr>\n",
       "    <tr>\n",
       "      <th>998</th>\n",
       "      <td>0.045037</td>\n",
       "      <td>0.263150</td>\n",
       "      <td>0.691813</td>\n",
       "    </tr>\n",
       "    <tr>\n",
       "      <th>999</th>\n",
       "      <td>0.044748</td>\n",
       "      <td>0.371930</td>\n",
       "      <td>0.583322</td>\n",
       "    </tr>\n",
       "  </tbody>\n",
       "</table>\n",
       "</div>"
      ],
      "text/plain": [
       "     hate_speech  offensive_language   neither\n",
       "995     0.043127            0.305570  0.651303\n",
       "996     0.047398            0.279789  0.672813\n",
       "997     0.171986            0.314214  0.513799\n",
       "998     0.045037            0.263150  0.691813\n",
       "999     0.044748            0.371930  0.583322"
      ]
     },
     "execution_count": 113,
     "metadata": {
      "tags": []
     },
     "output_type": "execute_result"
    }
   ],
   "source": [
    "test_hate_df = pd.DataFrame(test_hate_list, columns=['hate_speech','offensive_language','neither'])\n",
    "test_hate_df.tail()"
   ]
  },
  {
   "cell_type": "code",
   "execution_count": null,
   "metadata": {
    "colab": {
     "base_uri": "https://localhost:8080/",
     "height": 289
    },
    "colab_type": "code",
    "id": "EpR2QthAi4c3",
    "outputId": "5340c47e-3cf4-48b5-82cd-c07ac86642c7"
   },
   "outputs": [
    {
     "data": {
      "text/html": [
       "<div>\n",
       "<style scoped>\n",
       "    .dataframe tbody tr th:only-of-type {\n",
       "        vertical-align: middle;\n",
       "    }\n",
       "\n",
       "    .dataframe tbody tr th {\n",
       "        vertical-align: top;\n",
       "    }\n",
       "\n",
       "    .dataframe thead th {\n",
       "        text-align: right;\n",
       "    }\n",
       "</style>\n",
       "<table border=\"1\" class=\"dataframe\">\n",
       "  <thead>\n",
       "    <tr style=\"text-align: right;\">\n",
       "      <th></th>\n",
       "      <th>id</th>\n",
       "      <th>getty_caption</th>\n",
       "      <th>getty_tag</th>\n",
       "      <th>color_score</th>\n",
       "      <th>img_text</th>\n",
       "      <th>combined_text</th>\n",
       "      <th>hate_speech</th>\n",
       "      <th>offensive_language</th>\n",
       "      <th>neither</th>\n",
       "    </tr>\n",
       "  </thead>\n",
       "  <tbody>\n",
       "    <tr>\n",
       "      <th>0</th>\n",
       "      <td>16395</td>\n",
       "      <td>Closeup portrait of a beautiful woman smiling ...</td>\n",
       "      <td>Looking At Camera   One Woman Only   Women   3...</td>\n",
       "      <td>18.282644</td>\n",
       "      <td>handjobs sold seperately</td>\n",
       "      <td>Closeup portrait of a beautiful woman smiling ...</td>\n",
       "      <td>0.149131</td>\n",
       "      <td>0.344875</td>\n",
       "      <td>0.505994</td>\n",
       "    </tr>\n",
       "    <tr>\n",
       "      <th>1</th>\n",
       "      <td>37405</td>\n",
       "      <td>This picture was taken early in the morning in...</td>\n",
       "      <td>Amstel River   Amsterdam   Arch   Arch Bridge ...</td>\n",
       "      <td>9.970300</td>\n",
       "      <td>introducing fidget spinner for women</td>\n",
       "      <td>This picture was taken early in the morning in...</td>\n",
       "      <td>0.086252</td>\n",
       "      <td>0.301467</td>\n",
       "      <td>0.612281</td>\n",
       "    </tr>\n",
       "    <tr>\n",
       "      <th>2</th>\n",
       "      <td>94180</td>\n",
       "      <td>Transexual gay whit hands in hair, standing up...</td>\n",
       "      <td>Cross Dressing   Transgender   Humour   Men   ...</td>\n",
       "      <td>10.257412</td>\n",
       "      <td>happy pride month let's go beat up lesbians</td>\n",
       "      <td>Transexual gay whit hands in hair, standing up...</td>\n",
       "      <td>0.142391</td>\n",
       "      <td>0.254497</td>\n",
       "      <td>0.603112</td>\n",
       "    </tr>\n",
       "    <tr>\n",
       "      <th>3</th>\n",
       "      <td>54321</td>\n",
       "      <td>Shot of a sporty young couple out for a workout</td>\n",
       "      <td>Laughing   Exercising   Couple - Relationship ...</td>\n",
       "      <td>6.485984</td>\n",
       "      <td>laughs in [majority of u.s crime rate]</td>\n",
       "      <td>Shot of a sporty young couple out for a workou...</td>\n",
       "      <td>0.068924</td>\n",
       "      <td>0.354387</td>\n",
       "      <td>0.576689</td>\n",
       "    </tr>\n",
       "    <tr>\n",
       "      <th>4</th>\n",
       "      <td>97015</td>\n",
       "      <td>Smiling male and female friend with eyes close...</td>\n",
       "      <td>18-19 Years   20-24 Years   Adult Adults Only ...</td>\n",
       "      <td>45.356488</td>\n",
       "      <td>finds out those 72 virgins.. are goats</td>\n",
       "      <td>Smiling male and female friend with eyes close...</td>\n",
       "      <td>0.131492</td>\n",
       "      <td>0.326618</td>\n",
       "      <td>0.541889</td>\n",
       "    </tr>\n",
       "  </tbody>\n",
       "</table>\n",
       "</div>"
      ],
      "text/plain": [
       "      id  ...   neither\n",
       "0  16395  ...  0.505994\n",
       "1  37405  ...  0.612281\n",
       "2  94180  ...  0.603112\n",
       "3  54321  ...  0.576689\n",
       "4  97015  ...  0.541889\n",
       "\n",
       "[5 rows x 9 columns]"
      ]
     },
     "execution_count": 114,
     "metadata": {
      "tags": []
     },
     "output_type": "execute_result"
    }
   ],
   "source": [
    "test_feature_df= pd.concat([test_text_df,test_hate_df],axis=1)\n",
    "test_feature_df.head()"
   ]
  },
  {
   "cell_type": "code",
   "execution_count": null,
   "metadata": {
    "colab": {},
    "colab_type": "code",
    "id": "dL9s050DjxLg"
   },
   "outputs": [],
   "source": [
    "def test_writeFiles(path:str,title:str,  img_features:[[]],numpy_form_txts:[[]], getty_caption_numpy_form_txts:[[]], getty_tag_numpy_form_txts:[[]]\n",
    "               ):\n",
    "\n",
    "    results=pd.DataFrame(numpy_form_txts)\n",
    "    results.to_csv(os.path.join(path,title+\"text_features.csv\"),sep=\",\")\n",
    "        \n",
    "    results=pd.DataFrame(img_features)\n",
    "    results.to_csv(os.path.join(path,title+\"image_features.csv\"),sep=\",\")\n",
    "\n",
    "    results=pd.DataFrame(getty_caption_numpy_form_txts)\n",
    "    results.to_csv(os.path.join(path,title+\"getty_caption_features.csv\"),sep=\",\")\n",
    "\n",
    "    results=pd.DataFrame(getty_tag_numpy_form_txts)\n",
    "    results.to_csv(os.path.join(path,title+\"getty_tag_features.csv\"),sep=\",\")\n"
   ]
  },
  {
   "cell_type": "code",
   "execution_count": null,
   "metadata": {
    "colab": {},
    "colab_type": "code",
    "id": "sL0RqOfEi_z9"
   },
   "outputs": [],
   "source": [
    "test_writeFiles(featurized_data_path, \"test_20200816_v1\", test_image_rcnn_data, test_textData, test_getty_caption_data, test_getty_tag_data)"
   ]
  },
  {
   "cell_type": "code",
   "execution_count": null,
   "metadata": {
    "colab": {},
    "colab_type": "code",
    "id": "E6Fp9MLBkqbS"
   },
   "outputs": [],
   "source": [
    "test_image_features=pd.read_csv(\"/content/gdrive/My Drive/colab/data_sources/hateful_memes/test_20200816_v1image_features.csv\", sep=\",\",index_col=0)\n",
    "test_text_features=pd.read_csv(\"/content/gdrive/My Drive/colab/data_sources/hateful_memes/test_20200816_v1text_features.csv\",sep=\",\",index_col=0)\n",
    "# test_desc_features=pd.read_csv(\"/content/gdrive/My Drive/colab/data_sources/hateful_memes/test_20200816_v1description.csv\",sep=\",\",index_col=0)\n",
    "test_getty_caption_features=pd.read_csv(\"/content/gdrive/My Drive/colab/data_sources/hateful_memes/test_20200816_v1getty_caption_features.csv\",sep=\",\",index_col=0)\n",
    "test_getty_tag_features=pd.read_csv(\"/content/gdrive/My Drive/colab/data_sources/hateful_memes/test_20200816_v1getty_tag_features.csv\",sep=\",\",index_col=0)"
   ]
  },
  {
   "cell_type": "code",
   "execution_count": null,
   "metadata": {
    "colab": {
     "base_uri": "https://localhost:8080/",
     "height": 34
    },
    "colab_type": "code",
    "id": "jhYKuJcXlHUe",
    "outputId": "3fd5d45d-f4df-4503-ac8d-1234a55c5f34"
   },
   "outputs": [
    {
     "data": {
      "text/plain": [
       "18.282643999999987"
      ]
     },
     "execution_count": 159,
     "metadata": {
      "tags": []
     },
     "output_type": "execute_result"
    }
   ],
   "source": [
    "test_input_features=pd.concat((test_image_features,test_text_features,test_getty_caption_features, test_getty_tag_features, test_hate_df),axis=1).values\n",
    "# input_features=input_features[0:5]\n",
    "test_getty_color_score_features[0]\n"
   ]
  },
  {
   "cell_type": "code",
   "execution_count": null,
   "metadata": {
    "colab": {
     "base_uri": "https://localhost:8080/",
     "height": 34
    },
    "colab_type": "code",
    "id": "WZ-srysuq0AE",
    "outputId": "75c54803-4308-45d7-b620-58b470673b3c"
   },
   "outputs": [
    {
     "data": {
      "text/plain": [
       "(1000, 4099)"
      ]
     },
     "execution_count": 161,
     "metadata": {
      "tags": []
     },
     "output_type": "execute_result"
    }
   ],
   "source": [
    "test_input_features.shape"
   ]
  },
  {
   "cell_type": "code",
   "execution_count": null,
   "metadata": {
    "colab": {
     "base_uri": "https://localhost:8080/",
     "height": 504
    },
    "colab_type": "code",
    "id": "7_egg83klRSn",
    "outputId": "4b903e77-40cd-4def-9cbf-35ef86197f2d"
   },
   "outputs": [
    {
     "name": "stdout",
     "output_type": "stream",
     "text": [
      "0.11487312893907563 0.12237322550280134\n",
      "0.10642155495010504 0.10447952072963662\n",
      "0.09468697684151786 0.10970960387345528\n",
      "0.08788506515887605 0.10190684938486906\n",
      "0.08177012724034927 0.11400900264962975\n",
      "0.07604342933462448 0.10267600249944832\n",
      "0.07040861754858194 0.10737193823328389\n",
      "0.06440510212874212 0.10293077459144517\n",
      "0.05869812524619223 0.10241538788955228\n",
      "0.053726124482996324 0.11258472129848715\n",
      "0.04841686088497899 0.10575190858777339\n"
     ]
    },
    {
     "ename": "IndexError",
     "evalue": "ignored",
     "output_type": "error",
     "traceback": [
      "\u001b[0;31m---------------------------------------------------------------------------\u001b[0m",
      "\u001b[0;31mIndexError\u001b[0m                                Traceback (most recent call last)",
      "\u001b[0;32m<ipython-input-216-92970f5fbbc4>\u001b[0m in \u001b[0;36m<module>\u001b[0;34m()\u001b[0m\n\u001b[0;32m----> 1\u001b[0;31m \u001b[0mmodel\u001b[0m\u001b[0;34m,\u001b[0m \u001b[0mtrain_features\u001b[0m\u001b[0;34m,\u001b[0m \u001b[0mvalidation_features\u001b[0m\u001b[0;34m=\u001b[0m\u001b[0mhidden_layer_grid_search\u001b[0m\u001b[0;34m(\u001b[0m\u001b[0;36m32\u001b[0m\u001b[0;34m)\u001b[0m\u001b[0;34m\u001b[0m\u001b[0;34m\u001b[0m\u001b[0m\n\u001b[0m\u001b[1;32m      2\u001b[0m \u001b[0;31m# results=model(torch.tensor(input_features[:train_size]).float()).detach().numpy()\u001b[0m\u001b[0;34m\u001b[0m\u001b[0;34m\u001b[0m\u001b[0;34m\u001b[0m\u001b[0m\n\u001b[1;32m      3\u001b[0m \u001b[0;31m# predicted_label=np.apply_along_axis(lambda d: 1 if d >.63 else 0,1,results)\u001b[0m\u001b[0;34m\u001b[0m\u001b[0;34m\u001b[0m\u001b[0;34m\u001b[0m\u001b[0m\n",
      "\u001b[0;32m<ipython-input-215-e0d23cd25111>\u001b[0m in \u001b[0;36mhidden_layer_grid_search\u001b[0;34m(layer_size)\u001b[0m\n\u001b[1;32m     39\u001b[0m \u001b[0;34m\u001b[0m\u001b[0m\n\u001b[1;32m     40\u001b[0m   \u001b[0mtrain_feature_df\u001b[0m\u001b[0;34m=\u001b[0m\u001b[0minput_features\u001b[0m\u001b[0;34m[\u001b[0m\u001b[0;34m:\u001b[0m\u001b[0mtrain_size\u001b[0m\u001b[0;34m]\u001b[0m\u001b[0;34m\u001b[0m\u001b[0;34m\u001b[0m\u001b[0m\n\u001b[0;32m---> 41\u001b[0;31m   \u001b[0mtrain_feature_df\u001b[0m\u001b[0;34m[\u001b[0m\u001b[0;34m'label'\u001b[0m\u001b[0;34m]\u001b[0m\u001b[0;34m=\u001b[0m\u001b[0mpredicted_label\u001b[0m\u001b[0;34m\u001b[0m\u001b[0;34m\u001b[0m\u001b[0m\n\u001b[0m\u001b[1;32m     42\u001b[0m   \u001b[0mtrain_feature_df\u001b[0m\u001b[0;34m[\u001b[0m\u001b[0;34m'proba'\u001b[0m\u001b[0;34m]\u001b[0m\u001b[0;34m=\u001b[0m\u001b[0mresults\u001b[0m\u001b[0;34m\u001b[0m\u001b[0;34m\u001b[0m\u001b[0m\n\u001b[1;32m     43\u001b[0m \u001b[0;34m\u001b[0m\u001b[0m\n",
      "\u001b[0;31mIndexError\u001b[0m: only integers, slices (`:`), ellipsis (`...`), numpy.newaxis (`None`) and integer or boolean arrays are valid indices"
     ]
    }
   ],
   "source": [
    "model, train_features, validation_features=hidden_layer_grid_search(32)\n",
    "# results=model(torch.tensor(input_features[:train_size]).float()).detach().numpy()\n",
    "# predicted_label=np.apply_along_axis(lambda d: 1 if d >.63 else 0,1,results)\n"
   ]
  },
  {
   "cell_type": "code",
   "execution_count": null,
   "metadata": {
    "colab": {},
    "colab_type": "code",
    "id": "jcegF-2NptUm"
   },
   "outputs": [],
   "source": [
    "test_results=model(torch.tensor(test_input_features).float()).detach().numpy()\n",
    "test_predicted_label=np.apply_along_axis(lambda d: 1 if d >.4 else 0,1,test_results)\n"
   ]
  },
  {
   "cell_type": "code",
   "execution_count": null,
   "metadata": {
    "colab": {
     "base_uri": "https://localhost:8080/",
     "height": 34
    },
    "colab_type": "code",
    "id": "ZT5wnGONqsK4",
    "outputId": "b09f3353-c6f9-416f-e8fe-5e0eead5f7f0"
   },
   "outputs": [
    {
     "data": {
      "text/plain": [
       "0"
      ]
     },
     "execution_count": 198,
     "metadata": {
      "tags": []
     },
     "output_type": "execute_result"
    }
   ],
   "source": [
    "test_predicted_label[0]"
   ]
  },
  {
   "cell_type": "code",
   "execution_count": null,
   "metadata": {
    "colab": {},
    "colab_type": "code",
    "id": "qjMWB5ugquPi"
   },
   "outputs": [],
   "source": [
    "test_df_final=pd.concat((test_image_features,test_text_features,test_getty_caption_features, test_getty_tag_features, test_hate_df),axis=1)"
   ]
  },
  {
   "cell_type": "code",
   "execution_count": null,
   "metadata": {
    "colab": {
     "base_uri": "https://localhost:8080/",
     "height": 253
    },
    "colab_type": "code",
    "id": "8n0JoKKBrR6Y",
    "outputId": "07f1e1ed-a4c9-4f88-d1b9-41a180e7efe3"
   },
   "outputs": [
    {
     "data": {
      "text/html": [
       "<div>\n",
       "<style scoped>\n",
       "    .dataframe tbody tr th:only-of-type {\n",
       "        vertical-align: middle;\n",
       "    }\n",
       "\n",
       "    .dataframe tbody tr th {\n",
       "        vertical-align: top;\n",
       "    }\n",
       "\n",
       "    .dataframe thead th {\n",
       "        text-align: right;\n",
       "    }\n",
       "</style>\n",
       "<table border=\"1\" class=\"dataframe\">\n",
       "  <thead>\n",
       "    <tr style=\"text-align: right;\">\n",
       "      <th></th>\n",
       "      <th>0</th>\n",
       "      <th>1</th>\n",
       "      <th>2</th>\n",
       "      <th>3</th>\n",
       "      <th>4</th>\n",
       "      <th>5</th>\n",
       "      <th>6</th>\n",
       "      <th>7</th>\n",
       "      <th>8</th>\n",
       "      <th>9</th>\n",
       "      <th>10</th>\n",
       "      <th>11</th>\n",
       "      <th>12</th>\n",
       "      <th>13</th>\n",
       "      <th>14</th>\n",
       "      <th>15</th>\n",
       "      <th>16</th>\n",
       "      <th>17</th>\n",
       "      <th>18</th>\n",
       "      <th>19</th>\n",
       "      <th>20</th>\n",
       "      <th>21</th>\n",
       "      <th>22</th>\n",
       "      <th>23</th>\n",
       "      <th>24</th>\n",
       "      <th>25</th>\n",
       "      <th>26</th>\n",
       "      <th>27</th>\n",
       "      <th>28</th>\n",
       "      <th>29</th>\n",
       "      <th>30</th>\n",
       "      <th>31</th>\n",
       "      <th>32</th>\n",
       "      <th>33</th>\n",
       "      <th>34</th>\n",
       "      <th>35</th>\n",
       "      <th>36</th>\n",
       "      <th>37</th>\n",
       "      <th>38</th>\n",
       "      <th>39</th>\n",
       "      <th>...</th>\n",
       "      <th>987</th>\n",
       "      <th>988</th>\n",
       "      <th>989</th>\n",
       "      <th>990</th>\n",
       "      <th>991</th>\n",
       "      <th>992</th>\n",
       "      <th>993</th>\n",
       "      <th>994</th>\n",
       "      <th>995</th>\n",
       "      <th>996</th>\n",
       "      <th>997</th>\n",
       "      <th>998</th>\n",
       "      <th>999</th>\n",
       "      <th>1000</th>\n",
       "      <th>1001</th>\n",
       "      <th>1002</th>\n",
       "      <th>1003</th>\n",
       "      <th>1004</th>\n",
       "      <th>1005</th>\n",
       "      <th>1006</th>\n",
       "      <th>1007</th>\n",
       "      <th>1008</th>\n",
       "      <th>1009</th>\n",
       "      <th>1010</th>\n",
       "      <th>1011</th>\n",
       "      <th>1012</th>\n",
       "      <th>1013</th>\n",
       "      <th>1014</th>\n",
       "      <th>1015</th>\n",
       "      <th>1016</th>\n",
       "      <th>1017</th>\n",
       "      <th>1018</th>\n",
       "      <th>1019</th>\n",
       "      <th>1020</th>\n",
       "      <th>1021</th>\n",
       "      <th>1022</th>\n",
       "      <th>1023</th>\n",
       "      <th>hate_speech</th>\n",
       "      <th>offensive_language</th>\n",
       "      <th>neither</th>\n",
       "    </tr>\n",
       "  </thead>\n",
       "  <tbody>\n",
       "    <tr>\n",
       "      <th>0</th>\n",
       "      <td>-1.212119</td>\n",
       "      <td>0.462333</td>\n",
       "      <td>0.120778</td>\n",
       "      <td>-0.024422</td>\n",
       "      <td>-0.509383</td>\n",
       "      <td>-0.810325</td>\n",
       "      <td>-0.781072</td>\n",
       "      <td>-0.238344</td>\n",
       "      <td>-0.185636</td>\n",
       "      <td>0.167529</td>\n",
       "      <td>0.053613</td>\n",
       "      <td>1.323488</td>\n",
       "      <td>0.312570</td>\n",
       "      <td>0.270627</td>\n",
       "      <td>-0.214704</td>\n",
       "      <td>-0.205468</td>\n",
       "      <td>0.587229</td>\n",
       "      <td>0.737695</td>\n",
       "      <td>0.173893</td>\n",
       "      <td>0.171494</td>\n",
       "      <td>0.054414</td>\n",
       "      <td>-0.266440</td>\n",
       "      <td>0.823458</td>\n",
       "      <td>-1.046153</td>\n",
       "      <td>-0.003901</td>\n",
       "      <td>0.432109</td>\n",
       "      <td>-0.082183</td>\n",
       "      <td>0.405796</td>\n",
       "      <td>0.319951</td>\n",
       "      <td>-1.201726</td>\n",
       "      <td>0.896155</td>\n",
       "      <td>0.171577</td>\n",
       "      <td>-0.596987</td>\n",
       "      <td>-0.666461</td>\n",
       "      <td>1.353034</td>\n",
       "      <td>-1.781110</td>\n",
       "      <td>1.646237</td>\n",
       "      <td>1.242993</td>\n",
       "      <td>0.910672</td>\n",
       "      <td>-0.547757</td>\n",
       "      <td>...</td>\n",
       "      <td>-0.037956</td>\n",
       "      <td>0.305193</td>\n",
       "      <td>0.840467</td>\n",
       "      <td>-0.778575</td>\n",
       "      <td>-1.112256</td>\n",
       "      <td>-0.206794</td>\n",
       "      <td>-1.278592</td>\n",
       "      <td>1.142491</td>\n",
       "      <td>0.057558</td>\n",
       "      <td>-1.741428</td>\n",
       "      <td>0.973890</td>\n",
       "      <td>-0.080023</td>\n",
       "      <td>-0.195326</td>\n",
       "      <td>0.087894</td>\n",
       "      <td>-1.670285</td>\n",
       "      <td>-0.861833</td>\n",
       "      <td>0.213059</td>\n",
       "      <td>0.689346</td>\n",
       "      <td>0.314621</td>\n",
       "      <td>0.063994</td>\n",
       "      <td>-0.854510</td>\n",
       "      <td>1.893992</td>\n",
       "      <td>0.871671</td>\n",
       "      <td>-2.175935</td>\n",
       "      <td>-0.289507</td>\n",
       "      <td>-0.666609</td>\n",
       "      <td>0.769390</td>\n",
       "      <td>-1.103921</td>\n",
       "      <td>0.282819</td>\n",
       "      <td>0.052237</td>\n",
       "      <td>-0.086631</td>\n",
       "      <td>-0.793893</td>\n",
       "      <td>1.037761</td>\n",
       "      <td>-0.736792</td>\n",
       "      <td>-0.206302</td>\n",
       "      <td>-0.986229</td>\n",
       "      <td>-0.185613</td>\n",
       "      <td>0.149131</td>\n",
       "      <td>0.344875</td>\n",
       "      <td>0.505994</td>\n",
       "    </tr>\n",
       "    <tr>\n",
       "      <th>1</th>\n",
       "      <td>-1.212119</td>\n",
       "      <td>0.462333</td>\n",
       "      <td>0.120778</td>\n",
       "      <td>-0.024422</td>\n",
       "      <td>-0.509383</td>\n",
       "      <td>-0.810325</td>\n",
       "      <td>-0.781072</td>\n",
       "      <td>-0.238344</td>\n",
       "      <td>-0.185636</td>\n",
       "      <td>0.167529</td>\n",
       "      <td>0.053613</td>\n",
       "      <td>1.323488</td>\n",
       "      <td>0.312570</td>\n",
       "      <td>0.270627</td>\n",
       "      <td>-0.214704</td>\n",
       "      <td>-0.205468</td>\n",
       "      <td>0.587229</td>\n",
       "      <td>0.737695</td>\n",
       "      <td>0.173893</td>\n",
       "      <td>0.171494</td>\n",
       "      <td>0.054414</td>\n",
       "      <td>-0.266440</td>\n",
       "      <td>0.823458</td>\n",
       "      <td>-1.046153</td>\n",
       "      <td>-0.003901</td>\n",
       "      <td>0.432109</td>\n",
       "      <td>-0.082183</td>\n",
       "      <td>0.405796</td>\n",
       "      <td>0.319951</td>\n",
       "      <td>-1.201726</td>\n",
       "      <td>0.896155</td>\n",
       "      <td>0.171577</td>\n",
       "      <td>-0.596987</td>\n",
       "      <td>-0.666461</td>\n",
       "      <td>1.353034</td>\n",
       "      <td>-1.781110</td>\n",
       "      <td>1.646237</td>\n",
       "      <td>1.242993</td>\n",
       "      <td>0.910672</td>\n",
       "      <td>-0.547757</td>\n",
       "      <td>...</td>\n",
       "      <td>0.713828</td>\n",
       "      <td>-0.570180</td>\n",
       "      <td>-0.085948</td>\n",
       "      <td>-0.218955</td>\n",
       "      <td>-0.993092</td>\n",
       "      <td>0.600718</td>\n",
       "      <td>-2.370812</td>\n",
       "      <td>1.476859</td>\n",
       "      <td>-1.346072</td>\n",
       "      <td>-0.440357</td>\n",
       "      <td>-0.227957</td>\n",
       "      <td>-0.519096</td>\n",
       "      <td>-0.697062</td>\n",
       "      <td>1.006396</td>\n",
       "      <td>-0.698335</td>\n",
       "      <td>-2.091238</td>\n",
       "      <td>-0.239397</td>\n",
       "      <td>-0.675082</td>\n",
       "      <td>-0.007744</td>\n",
       "      <td>-0.376119</td>\n",
       "      <td>-0.141720</td>\n",
       "      <td>-0.011706</td>\n",
       "      <td>0.501063</td>\n",
       "      <td>-0.875444</td>\n",
       "      <td>-1.275239</td>\n",
       "      <td>-0.974362</td>\n",
       "      <td>0.906138</td>\n",
       "      <td>-0.501606</td>\n",
       "      <td>-0.454272</td>\n",
       "      <td>-0.361903</td>\n",
       "      <td>-1.019451</td>\n",
       "      <td>0.594238</td>\n",
       "      <td>0.854294</td>\n",
       "      <td>0.844977</td>\n",
       "      <td>0.220065</td>\n",
       "      <td>-1.872593</td>\n",
       "      <td>-1.669706</td>\n",
       "      <td>0.086252</td>\n",
       "      <td>0.301467</td>\n",
       "      <td>0.612281</td>\n",
       "    </tr>\n",
       "    <tr>\n",
       "      <th>2</th>\n",
       "      <td>-1.212119</td>\n",
       "      <td>0.462333</td>\n",
       "      <td>0.120778</td>\n",
       "      <td>-0.024422</td>\n",
       "      <td>-0.509383</td>\n",
       "      <td>-0.810325</td>\n",
       "      <td>-0.781072</td>\n",
       "      <td>-0.238344</td>\n",
       "      <td>-0.185636</td>\n",
       "      <td>0.167529</td>\n",
       "      <td>0.053613</td>\n",
       "      <td>1.323488</td>\n",
       "      <td>0.312570</td>\n",
       "      <td>0.270627</td>\n",
       "      <td>-0.214704</td>\n",
       "      <td>-0.205468</td>\n",
       "      <td>0.587229</td>\n",
       "      <td>0.737695</td>\n",
       "      <td>0.173893</td>\n",
       "      <td>0.171494</td>\n",
       "      <td>0.054414</td>\n",
       "      <td>-0.266440</td>\n",
       "      <td>0.823458</td>\n",
       "      <td>-1.046153</td>\n",
       "      <td>-0.003901</td>\n",
       "      <td>0.432109</td>\n",
       "      <td>-0.082183</td>\n",
       "      <td>0.405796</td>\n",
       "      <td>0.319951</td>\n",
       "      <td>-1.201726</td>\n",
       "      <td>0.896155</td>\n",
       "      <td>0.171577</td>\n",
       "      <td>-0.596987</td>\n",
       "      <td>-0.666461</td>\n",
       "      <td>1.353034</td>\n",
       "      <td>-1.781110</td>\n",
       "      <td>1.646237</td>\n",
       "      <td>1.242993</td>\n",
       "      <td>0.910672</td>\n",
       "      <td>-0.547757</td>\n",
       "      <td>...</td>\n",
       "      <td>-0.061073</td>\n",
       "      <td>1.687162</td>\n",
       "      <td>-1.415173</td>\n",
       "      <td>0.738038</td>\n",
       "      <td>1.135473</td>\n",
       "      <td>-0.653039</td>\n",
       "      <td>-0.649049</td>\n",
       "      <td>0.426142</td>\n",
       "      <td>-1.538316</td>\n",
       "      <td>-0.802370</td>\n",
       "      <td>0.015529</td>\n",
       "      <td>-1.781700</td>\n",
       "      <td>-1.442530</td>\n",
       "      <td>0.960431</td>\n",
       "      <td>-0.821701</td>\n",
       "      <td>-0.452099</td>\n",
       "      <td>0.694419</td>\n",
       "      <td>0.814496</td>\n",
       "      <td>0.106948</td>\n",
       "      <td>1.075225</td>\n",
       "      <td>-0.559201</td>\n",
       "      <td>2.206959</td>\n",
       "      <td>0.918294</td>\n",
       "      <td>-0.450416</td>\n",
       "      <td>-0.795978</td>\n",
       "      <td>-0.711532</td>\n",
       "      <td>0.633536</td>\n",
       "      <td>-0.531926</td>\n",
       "      <td>-0.554170</td>\n",
       "      <td>0.172510</td>\n",
       "      <td>-0.795326</td>\n",
       "      <td>-1.040579</td>\n",
       "      <td>0.029235</td>\n",
       "      <td>0.881793</td>\n",
       "      <td>-0.172089</td>\n",
       "      <td>-1.600800</td>\n",
       "      <td>-0.353933</td>\n",
       "      <td>0.142391</td>\n",
       "      <td>0.254497</td>\n",
       "      <td>0.603112</td>\n",
       "    </tr>\n",
       "    <tr>\n",
       "      <th>3</th>\n",
       "      <td>-1.199658</td>\n",
       "      <td>0.331703</td>\n",
       "      <td>0.049041</td>\n",
       "      <td>0.001857</td>\n",
       "      <td>-0.548146</td>\n",
       "      <td>-0.525462</td>\n",
       "      <td>-0.919624</td>\n",
       "      <td>-0.411369</td>\n",
       "      <td>-0.002905</td>\n",
       "      <td>0.260373</td>\n",
       "      <td>0.491370</td>\n",
       "      <td>1.554957</td>\n",
       "      <td>0.206599</td>\n",
       "      <td>0.581014</td>\n",
       "      <td>-0.158539</td>\n",
       "      <td>-0.511032</td>\n",
       "      <td>0.819606</td>\n",
       "      <td>0.461830</td>\n",
       "      <td>0.741218</td>\n",
       "      <td>0.453815</td>\n",
       "      <td>0.213696</td>\n",
       "      <td>-0.425177</td>\n",
       "      <td>1.092432</td>\n",
       "      <td>-0.919984</td>\n",
       "      <td>0.572151</td>\n",
       "      <td>0.766395</td>\n",
       "      <td>0.243817</td>\n",
       "      <td>0.683271</td>\n",
       "      <td>-0.024414</td>\n",
       "      <td>-0.675773</td>\n",
       "      <td>0.704020</td>\n",
       "      <td>0.236654</td>\n",
       "      <td>-0.541538</td>\n",
       "      <td>-0.513566</td>\n",
       "      <td>1.390883</td>\n",
       "      <td>-1.872833</td>\n",
       "      <td>1.602096</td>\n",
       "      <td>1.217990</td>\n",
       "      <td>0.811343</td>\n",
       "      <td>-0.425067</td>\n",
       "      <td>...</td>\n",
       "      <td>0.233918</td>\n",
       "      <td>1.393461</td>\n",
       "      <td>0.064751</td>\n",
       "      <td>-0.199463</td>\n",
       "      <td>-1.224119</td>\n",
       "      <td>0.419543</td>\n",
       "      <td>-0.381264</td>\n",
       "      <td>-0.023503</td>\n",
       "      <td>-1.486822</td>\n",
       "      <td>-1.324831</td>\n",
       "      <td>0.747049</td>\n",
       "      <td>-0.457200</td>\n",
       "      <td>0.492066</td>\n",
       "      <td>-0.738996</td>\n",
       "      <td>-1.458989</td>\n",
       "      <td>-0.128206</td>\n",
       "      <td>0.422953</td>\n",
       "      <td>0.162293</td>\n",
       "      <td>0.017337</td>\n",
       "      <td>0.372441</td>\n",
       "      <td>-1.017976</td>\n",
       "      <td>-0.072918</td>\n",
       "      <td>-0.991769</td>\n",
       "      <td>0.180132</td>\n",
       "      <td>-0.597659</td>\n",
       "      <td>0.407485</td>\n",
       "      <td>0.460785</td>\n",
       "      <td>0.305210</td>\n",
       "      <td>0.453373</td>\n",
       "      <td>0.762131</td>\n",
       "      <td>-0.694694</td>\n",
       "      <td>-0.789272</td>\n",
       "      <td>-0.293356</td>\n",
       "      <td>0.045454</td>\n",
       "      <td>0.056860</td>\n",
       "      <td>-0.953779</td>\n",
       "      <td>0.113336</td>\n",
       "      <td>0.068924</td>\n",
       "      <td>0.354387</td>\n",
       "      <td>0.576689</td>\n",
       "    </tr>\n",
       "    <tr>\n",
       "      <th>4</th>\n",
       "      <td>-0.892075</td>\n",
       "      <td>-0.691683</td>\n",
       "      <td>1.015247</td>\n",
       "      <td>-0.391825</td>\n",
       "      <td>-0.977769</td>\n",
       "      <td>0.131717</td>\n",
       "      <td>-0.469966</td>\n",
       "      <td>0.702625</td>\n",
       "      <td>0.184561</td>\n",
       "      <td>0.460340</td>\n",
       "      <td>-0.514596</td>\n",
       "      <td>1.309393</td>\n",
       "      <td>-1.058578</td>\n",
       "      <td>0.445633</td>\n",
       "      <td>0.925121</td>\n",
       "      <td>-1.877412</td>\n",
       "      <td>0.583521</td>\n",
       "      <td>-0.439095</td>\n",
       "      <td>1.497074</td>\n",
       "      <td>0.886215</td>\n",
       "      <td>-0.190998</td>\n",
       "      <td>-0.143501</td>\n",
       "      <td>1.343251</td>\n",
       "      <td>-0.100404</td>\n",
       "      <td>0.139539</td>\n",
       "      <td>0.977299</td>\n",
       "      <td>-0.208358</td>\n",
       "      <td>0.584005</td>\n",
       "      <td>-0.560737</td>\n",
       "      <td>-0.106046</td>\n",
       "      <td>0.058078</td>\n",
       "      <td>0.072384</td>\n",
       "      <td>-0.576630</td>\n",
       "      <td>1.069131</td>\n",
       "      <td>1.188931</td>\n",
       "      <td>-2.007029</td>\n",
       "      <td>2.725813</td>\n",
       "      <td>0.283347</td>\n",
       "      <td>-0.188377</td>\n",
       "      <td>-0.138478</td>\n",
       "      <td>...</td>\n",
       "      <td>0.218129</td>\n",
       "      <td>0.670527</td>\n",
       "      <td>-0.374949</td>\n",
       "      <td>-0.351575</td>\n",
       "      <td>-0.756054</td>\n",
       "      <td>-0.399224</td>\n",
       "      <td>-0.474581</td>\n",
       "      <td>0.851321</td>\n",
       "      <td>-0.452653</td>\n",
       "      <td>-0.680042</td>\n",
       "      <td>0.050409</td>\n",
       "      <td>-0.193612</td>\n",
       "      <td>0.769195</td>\n",
       "      <td>0.027947</td>\n",
       "      <td>-0.517500</td>\n",
       "      <td>-0.702285</td>\n",
       "      <td>-1.251939</td>\n",
       "      <td>0.350303</td>\n",
       "      <td>-0.271046</td>\n",
       "      <td>0.752687</td>\n",
       "      <td>-0.767012</td>\n",
       "      <td>-0.195427</td>\n",
       "      <td>0.564195</td>\n",
       "      <td>-0.979537</td>\n",
       "      <td>0.843924</td>\n",
       "      <td>-0.135996</td>\n",
       "      <td>0.615432</td>\n",
       "      <td>-0.449029</td>\n",
       "      <td>0.916682</td>\n",
       "      <td>-1.018086</td>\n",
       "      <td>-0.007758</td>\n",
       "      <td>-0.646989</td>\n",
       "      <td>0.111764</td>\n",
       "      <td>-0.220956</td>\n",
       "      <td>-0.407445</td>\n",
       "      <td>0.044500</td>\n",
       "      <td>0.123301</td>\n",
       "      <td>0.131492</td>\n",
       "      <td>0.326618</td>\n",
       "      <td>0.541889</td>\n",
       "    </tr>\n",
       "  </tbody>\n",
       "</table>\n",
       "<p>5 rows × 4099 columns</p>\n",
       "</div>"
      ],
      "text/plain": [
       "          0         1         2  ...  hate_speech  offensive_language   neither\n",
       "0 -1.212119  0.462333  0.120778  ...     0.149131            0.344875  0.505994\n",
       "1 -1.212119  0.462333  0.120778  ...     0.086252            0.301467  0.612281\n",
       "2 -1.212119  0.462333  0.120778  ...     0.142391            0.254497  0.603112\n",
       "3 -1.199658  0.331703  0.049041  ...     0.068924            0.354387  0.576689\n",
       "4 -0.892075 -0.691683  1.015247  ...     0.131492            0.326618  0.541889\n",
       "\n",
       "[5 rows x 4099 columns]"
      ]
     },
     "execution_count": 200,
     "metadata": {
      "tags": []
     },
     "output_type": "execute_result"
    }
   ],
   "source": [
    "test_df_final.head()"
   ]
  },
  {
   "cell_type": "code",
   "execution_count": null,
   "metadata": {
    "colab": {
     "base_uri": "https://localhost:8080/",
     "height": 699
    },
    "colab_type": "code",
    "id": "jrWCWbimrTAd",
    "outputId": "2985e141-12d9-4762-ac12-35e3e9fa9113"
   },
   "outputs": [
    {
     "data": {
      "text/html": [
       "<div>\n",
       "<style scoped>\n",
       "    .dataframe tbody tr th:only-of-type {\n",
       "        vertical-align: middle;\n",
       "    }\n",
       "\n",
       "    .dataframe tbody tr th {\n",
       "        vertical-align: top;\n",
       "    }\n",
       "\n",
       "    .dataframe thead th {\n",
       "        text-align: right;\n",
       "    }\n",
       "</style>\n",
       "<table border=\"1\" class=\"dataframe\">\n",
       "  <thead>\n",
       "    <tr style=\"text-align: right;\">\n",
       "      <th></th>\n",
       "      <th>id</th>\n",
       "      <th>getty_caption</th>\n",
       "      <th>getty_tag</th>\n",
       "      <th>color_score</th>\n",
       "      <th>img_text</th>\n",
       "      <th>combined_text</th>\n",
       "      <th>hate_speech</th>\n",
       "      <th>offensive_language</th>\n",
       "      <th>neither</th>\n",
       "      <th>prediction</th>\n",
       "      <th>proba</th>\n",
       "    </tr>\n",
       "  </thead>\n",
       "  <tbody>\n",
       "    <tr>\n",
       "      <th>0</th>\n",
       "      <td>16395</td>\n",
       "      <td>Closeup portrait of a beautiful woman smiling ...</td>\n",
       "      <td>Looking At Camera   One Woman Only   Women   3...</td>\n",
       "      <td>18.282644</td>\n",
       "      <td>handjobs sold seperately</td>\n",
       "      <td>Closeup portrait of a beautiful woman smiling ...</td>\n",
       "      <td>0.149131</td>\n",
       "      <td>0.344875</td>\n",
       "      <td>0.505994</td>\n",
       "      <td>0</td>\n",
       "      <td>0.164456</td>\n",
       "    </tr>\n",
       "    <tr>\n",
       "      <th>1</th>\n",
       "      <td>37405</td>\n",
       "      <td>This picture was taken early in the morning in...</td>\n",
       "      <td>Amstel River   Amsterdam   Arch   Arch Bridge ...</td>\n",
       "      <td>9.970300</td>\n",
       "      <td>introducing fidget spinner for women</td>\n",
       "      <td>This picture was taken early in the morning in...</td>\n",
       "      <td>0.086252</td>\n",
       "      <td>0.301467</td>\n",
       "      <td>0.612281</td>\n",
       "      <td>1</td>\n",
       "      <td>0.424541</td>\n",
       "    </tr>\n",
       "    <tr>\n",
       "      <th>2</th>\n",
       "      <td>94180</td>\n",
       "      <td>Transexual gay whit hands in hair, standing up...</td>\n",
       "      <td>Cross Dressing   Transgender   Humour   Men   ...</td>\n",
       "      <td>10.257412</td>\n",
       "      <td>happy pride month let's go beat up lesbians</td>\n",
       "      <td>Transexual gay whit hands in hair, standing up...</td>\n",
       "      <td>0.142391</td>\n",
       "      <td>0.254497</td>\n",
       "      <td>0.603112</td>\n",
       "      <td>1</td>\n",
       "      <td>0.452507</td>\n",
       "    </tr>\n",
       "    <tr>\n",
       "      <th>3</th>\n",
       "      <td>54321</td>\n",
       "      <td>Shot of a sporty young couple out for a workout</td>\n",
       "      <td>Laughing   Exercising   Couple - Relationship ...</td>\n",
       "      <td>6.485984</td>\n",
       "      <td>laughs in [majority of u.s crime rate]</td>\n",
       "      <td>Shot of a sporty young couple out for a workou...</td>\n",
       "      <td>0.068924</td>\n",
       "      <td>0.354387</td>\n",
       "      <td>0.576689</td>\n",
       "      <td>1</td>\n",
       "      <td>0.633741</td>\n",
       "    </tr>\n",
       "    <tr>\n",
       "      <th>4</th>\n",
       "      <td>97015</td>\n",
       "      <td>Smiling male and female friend with eyes close...</td>\n",
       "      <td>18-19 Years   20-24 Years   Adult Adults Only ...</td>\n",
       "      <td>45.356488</td>\n",
       "      <td>finds out those 72 virgins.. are goats</td>\n",
       "      <td>Smiling male and female friend with eyes close...</td>\n",
       "      <td>0.131492</td>\n",
       "      <td>0.326618</td>\n",
       "      <td>0.541889</td>\n",
       "      <td>0</td>\n",
       "      <td>0.146220</td>\n",
       "    </tr>\n",
       "    <tr>\n",
       "      <th>5</th>\n",
       "      <td>73506</td>\n",
       "      <td>Four friends splashing each other with water i...</td>\n",
       "      <td>20-29 Years   25-29 Years   Activity   Adult A...</td>\n",
       "      <td>18.786128</td>\n",
       "      <td>look your dad fucked goats.. i capped him...so...</td>\n",
       "      <td>Four friends splashing each other with water i...</td>\n",
       "      <td>0.052632</td>\n",
       "      <td>0.405921</td>\n",
       "      <td>0.541447</td>\n",
       "      <td>1</td>\n",
       "      <td>0.632322</td>\n",
       "    </tr>\n",
       "    <tr>\n",
       "      <th>6</th>\n",
       "      <td>5429</td>\n",
       "      <td>A medical team are discussing something around...</td>\n",
       "      <td>Nurse   Doctor   Meeting   Multiracial Group  ...</td>\n",
       "      <td>48.365616</td>\n",
       "      <td>claims that her ancestors created a safe space...</td>\n",
       "      <td>A medical team are discussing something around...</td>\n",
       "      <td>0.061399</td>\n",
       "      <td>0.396469</td>\n",
       "      <td>0.542131</td>\n",
       "      <td>0</td>\n",
       "      <td>0.250191</td>\n",
       "    </tr>\n",
       "    <tr>\n",
       "      <th>7</th>\n",
       "      <td>70691</td>\n",
       "      <td>Close up view of slices of fresh and tasty wat...</td>\n",
       "      <td>Australia   Close-Up   Copy Space   Cross Sect...</td>\n",
       "      <td>23.641096</td>\n",
       "      <td>overdose</td>\n",
       "      <td>Close up view of slices of fresh and tasty wat...</td>\n",
       "      <td>0.042165</td>\n",
       "      <td>0.335473</td>\n",
       "      <td>0.622362</td>\n",
       "      <td>0</td>\n",
       "      <td>0.020130</td>\n",
       "    </tr>\n",
       "    <tr>\n",
       "      <th>8</th>\n",
       "      <td>69421</td>\n",
       "      <td>Smiling businessman looking at colleagues in m...</td>\n",
       "      <td>Corporate Business   Meeting   Adult Adults On...</td>\n",
       "      <td>8.904152</td>\n",
       "      <td>when they laugh about your 9cm in the change r...</td>\n",
       "      <td>Smiling businessman looking at colleagues in m...</td>\n",
       "      <td>0.087821</td>\n",
       "      <td>0.409324</td>\n",
       "      <td>0.502855</td>\n",
       "      <td>0</td>\n",
       "      <td>0.110819</td>\n",
       "    </tr>\n",
       "    <tr>\n",
       "      <th>9</th>\n",
       "      <td>50162</td>\n",
       "      <td>Group of friends practicing as a band, before ...</td>\n",
       "      <td>Drum Kit   Guitar   Performance Group   Person...</td>\n",
       "      <td>25.198300</td>\n",
       "      <td>roses are black, violets are black everything ...</td>\n",
       "      <td>Group of friends practicing as a band, before ...</td>\n",
       "      <td>0.062751</td>\n",
       "      <td>0.334522</td>\n",
       "      <td>0.602727</td>\n",
       "      <td>1</td>\n",
       "      <td>0.777052</td>\n",
       "    </tr>\n",
       "  </tbody>\n",
       "</table>\n",
       "</div>"
      ],
      "text/plain": [
       "      id  ...     proba\n",
       "0  16395  ...  0.164456\n",
       "1  37405  ...  0.424541\n",
       "2  94180  ...  0.452507\n",
       "3  54321  ...  0.633741\n",
       "4  97015  ...  0.146220\n",
       "5  73506  ...  0.632322\n",
       "6   5429  ...  0.250191\n",
       "7  70691  ...  0.020130\n",
       "8  69421  ...  0.110819\n",
       "9  50162  ...  0.777052\n",
       "\n",
       "[10 rows x 11 columns]"
      ]
     },
     "execution_count": 201,
     "metadata": {
      "tags": []
     },
     "output_type": "execute_result"
    }
   ],
   "source": [
    "test_feature_df.head(10)"
   ]
  },
  {
   "cell_type": "code",
   "execution_count": null,
   "metadata": {
    "colab": {
     "base_uri": "https://localhost:8080/",
     "height": 34
    },
    "colab_type": "code",
    "id": "AykVe3X2r4QX",
    "outputId": "6292cf2c-d363-43d2-c703-74bac088e097"
   },
   "outputs": [
    {
     "data": {
      "text/plain": [
       "array([0, 1, 1, 1, 0, 1, 0, 0, 0, 1])"
      ]
     },
     "execution_count": 202,
     "metadata": {
      "tags": []
     },
     "output_type": "execute_result"
    }
   ],
   "source": [
    "test_predicted_label[0:10]"
   ]
  },
  {
   "cell_type": "code",
   "execution_count": null,
   "metadata": {
    "colab": {
     "base_uri": "https://localhost:8080/",
     "height": 374
    },
    "colab_type": "code",
    "id": "zq-72xcLr9QA",
    "outputId": "d3ab6ae4-7d47-4e07-bc47-192a885b6ce4"
   },
   "outputs": [
    {
     "data": {
      "text/html": [
       "<div>\n",
       "<style scoped>\n",
       "    .dataframe tbody tr th:only-of-type {\n",
       "        vertical-align: middle;\n",
       "    }\n",
       "\n",
       "    .dataframe tbody tr th {\n",
       "        vertical-align: top;\n",
       "    }\n",
       "\n",
       "    .dataframe thead th {\n",
       "        text-align: right;\n",
       "    }\n",
       "</style>\n",
       "<table border=\"1\" class=\"dataframe\">\n",
       "  <thead>\n",
       "    <tr style=\"text-align: right;\">\n",
       "      <th></th>\n",
       "      <th>id</th>\n",
       "      <th>getty_caption</th>\n",
       "      <th>getty_tag</th>\n",
       "      <th>color_score</th>\n",
       "      <th>img_text</th>\n",
       "      <th>combined_text</th>\n",
       "      <th>hate_speech</th>\n",
       "      <th>offensive_language</th>\n",
       "      <th>neither</th>\n",
       "      <th>prediction</th>\n",
       "      <th>proba</th>\n",
       "      <th>label</th>\n",
       "    </tr>\n",
       "  </thead>\n",
       "  <tbody>\n",
       "    <tr>\n",
       "      <th>0</th>\n",
       "      <td>16395</td>\n",
       "      <td>Closeup portrait of a beautiful woman smiling ...</td>\n",
       "      <td>Looking At Camera   One Woman Only   Women   3...</td>\n",
       "      <td>18.282644</td>\n",
       "      <td>handjobs sold seperately</td>\n",
       "      <td>Closeup portrait of a beautiful woman smiling ...</td>\n",
       "      <td>0.149131</td>\n",
       "      <td>0.344875</td>\n",
       "      <td>0.505994</td>\n",
       "      <td>0</td>\n",
       "      <td>0.164456</td>\n",
       "      <td>0</td>\n",
       "    </tr>\n",
       "    <tr>\n",
       "      <th>1</th>\n",
       "      <td>37405</td>\n",
       "      <td>This picture was taken early in the morning in...</td>\n",
       "      <td>Amstel River   Amsterdam   Arch   Arch Bridge ...</td>\n",
       "      <td>9.970300</td>\n",
       "      <td>introducing fidget spinner for women</td>\n",
       "      <td>This picture was taken early in the morning in...</td>\n",
       "      <td>0.086252</td>\n",
       "      <td>0.301467</td>\n",
       "      <td>0.612281</td>\n",
       "      <td>1</td>\n",
       "      <td>0.424541</td>\n",
       "      <td>1</td>\n",
       "    </tr>\n",
       "    <tr>\n",
       "      <th>2</th>\n",
       "      <td>94180</td>\n",
       "      <td>Transexual gay whit hands in hair, standing up...</td>\n",
       "      <td>Cross Dressing   Transgender   Humour   Men   ...</td>\n",
       "      <td>10.257412</td>\n",
       "      <td>happy pride month let's go beat up lesbians</td>\n",
       "      <td>Transexual gay whit hands in hair, standing up...</td>\n",
       "      <td>0.142391</td>\n",
       "      <td>0.254497</td>\n",
       "      <td>0.603112</td>\n",
       "      <td>1</td>\n",
       "      <td>0.452507</td>\n",
       "      <td>1</td>\n",
       "    </tr>\n",
       "    <tr>\n",
       "      <th>3</th>\n",
       "      <td>54321</td>\n",
       "      <td>Shot of a sporty young couple out for a workout</td>\n",
       "      <td>Laughing   Exercising   Couple - Relationship ...</td>\n",
       "      <td>6.485984</td>\n",
       "      <td>laughs in [majority of u.s crime rate]</td>\n",
       "      <td>Shot of a sporty young couple out for a workou...</td>\n",
       "      <td>0.068924</td>\n",
       "      <td>0.354387</td>\n",
       "      <td>0.576689</td>\n",
       "      <td>1</td>\n",
       "      <td>0.633741</td>\n",
       "      <td>1</td>\n",
       "    </tr>\n",
       "    <tr>\n",
       "      <th>4</th>\n",
       "      <td>97015</td>\n",
       "      <td>Smiling male and female friend with eyes close...</td>\n",
       "      <td>18-19 Years   20-24 Years   Adult Adults Only ...</td>\n",
       "      <td>45.356488</td>\n",
       "      <td>finds out those 72 virgins.. are goats</td>\n",
       "      <td>Smiling male and female friend with eyes close...</td>\n",
       "      <td>0.131492</td>\n",
       "      <td>0.326618</td>\n",
       "      <td>0.541889</td>\n",
       "      <td>0</td>\n",
       "      <td>0.146220</td>\n",
       "      <td>0</td>\n",
       "    </tr>\n",
       "  </tbody>\n",
       "</table>\n",
       "</div>"
      ],
      "text/plain": [
       "      id                                      getty_caption  ...     proba  label\n",
       "0  16395  Closeup portrait of a beautiful woman smiling ...  ...  0.164456      0\n",
       "1  37405  This picture was taken early in the morning in...  ...  0.424541      1\n",
       "2  94180  Transexual gay whit hands in hair, standing up...  ...  0.452507      1\n",
       "3  54321    Shot of a sporty young couple out for a workout  ...  0.633741      1\n",
       "4  97015  Smiling male and female friend with eyes close...  ...  0.146220      0\n",
       "\n",
       "[5 rows x 12 columns]"
      ]
     },
     "execution_count": 206,
     "metadata": {
      "tags": []
     },
     "output_type": "execute_result"
    }
   ],
   "source": [
    "test_feature_df['label']=test_predicted_label\n",
    "test_feature_df['proba']=test_results\n",
    "\n",
    "test_feature_df.head()"
   ]
  },
  {
   "cell_type": "code",
   "execution_count": null,
   "metadata": {
    "colab": {
     "base_uri": "https://localhost:8080/",
     "height": 750
    },
    "colab_type": "code",
    "id": "UuoC3IYWttN6",
    "outputId": "96683ff0-009b-4a78-9bda-8e05805ed859"
   },
   "outputs": [
    {
     "data": {
      "text/html": [
       "<div>\n",
       "<style scoped>\n",
       "    .dataframe tbody tr th:only-of-type {\n",
       "        vertical-align: middle;\n",
       "    }\n",
       "\n",
       "    .dataframe tbody tr th {\n",
       "        vertical-align: top;\n",
       "    }\n",
       "\n",
       "    .dataframe thead th {\n",
       "        text-align: right;\n",
       "    }\n",
       "</style>\n",
       "<table border=\"1\" class=\"dataframe\">\n",
       "  <thead>\n",
       "    <tr style=\"text-align: right;\">\n",
       "      <th></th>\n",
       "      <th>id</th>\n",
       "      <th>getty_caption</th>\n",
       "      <th>getty_tag</th>\n",
       "      <th>color_score</th>\n",
       "      <th>img_text</th>\n",
       "      <th>combined_text</th>\n",
       "      <th>hate_speech</th>\n",
       "      <th>offensive_language</th>\n",
       "      <th>neither</th>\n",
       "      <th>prediction</th>\n",
       "      <th>proba</th>\n",
       "      <th>label</th>\n",
       "    </tr>\n",
       "  </thead>\n",
       "  <tbody>\n",
       "    <tr>\n",
       "      <th>990</th>\n",
       "      <td>86173</td>\n",
       "      <td>A wide shot of a group of three young Asian fr...</td>\n",
       "      <td>Child   Examining   Boot   Cold Temperature   ...</td>\n",
       "      <td>39.565004</td>\n",
       "      <td>when i said i wanted a little pussy this is no...</td>\n",
       "      <td>A wide shot of a group of three young Asian fr...</td>\n",
       "      <td>0.042209</td>\n",
       "      <td>0.541440</td>\n",
       "      <td>0.416352</td>\n",
       "      <td>0</td>\n",
       "      <td>0.109032</td>\n",
       "      <td>0</td>\n",
       "    </tr>\n",
       "    <tr>\n",
       "      <th>991</th>\n",
       "      <td>50839</td>\n",
       "      <td>A group of business people are walking in the ...</td>\n",
       "      <td>30-39 Years   Adult Adults Only   Ankara - Tur...</td>\n",
       "      <td>23.405352</td>\n",
       "      <td>\"you think i'm a terrorist but i identify as a...</td>\n",
       "      <td>A group of business people are walking in the ...</td>\n",
       "      <td>0.098550</td>\n",
       "      <td>0.394753</td>\n",
       "      <td>0.506697</td>\n",
       "      <td>0</td>\n",
       "      <td>0.394321</td>\n",
       "      <td>0</td>\n",
       "    </tr>\n",
       "    <tr>\n",
       "      <th>992</th>\n",
       "      <td>31405</td>\n",
       "      <td>Photo taken in Goreme, Turkey</td>\n",
       "      <td>Ancient Civilisation   Asia   Beauty In Nature...</td>\n",
       "      <td>28.897868</td>\n",
       "      <td>\"they were uneducated false. they all had thei...</td>\n",
       "      <td>Photo taken in Goreme, Turkey Ancient Civilisa...</td>\n",
       "      <td>0.044195</td>\n",
       "      <td>0.338238</td>\n",
       "      <td>0.617567</td>\n",
       "      <td>1</td>\n",
       "      <td>0.487844</td>\n",
       "      <td>1</td>\n",
       "    </tr>\n",
       "    <tr>\n",
       "      <th>993</th>\n",
       "      <td>36421</td>\n",
       "      <td>Cropped shot of an attractive young woman usin...</td>\n",
       "      <td>Computer   Women   Laptop   One Woman Only   H...</td>\n",
       "      <td>102.482232</td>\n",
       "      <td>freakin white people... so annoying.</td>\n",
       "      <td>Cropped shot of an attractive young woman usin...</td>\n",
       "      <td>0.075075</td>\n",
       "      <td>0.508427</td>\n",
       "      <td>0.416498</td>\n",
       "      <td>0</td>\n",
       "      <td>0.186952</td>\n",
       "      <td>0</td>\n",
       "    </tr>\n",
       "    <tr>\n",
       "      <th>994</th>\n",
       "      <td>79405</td>\n",
       "      <td>Beijing,China</td>\n",
       "      <td>30-39 Years   Adult Boys   Budapest   Casual C...</td>\n",
       "      <td>29.615308</td>\n",
       "      <td>congress is now stronger than ever to fight te...</td>\n",
       "      <td>Beijing,China 30-39 Years   Adult Boys   Budap...</td>\n",
       "      <td>0.045195</td>\n",
       "      <td>0.381714</td>\n",
       "      <td>0.573091</td>\n",
       "      <td>0</td>\n",
       "      <td>0.038173</td>\n",
       "      <td>0</td>\n",
       "    </tr>\n",
       "    <tr>\n",
       "      <th>995</th>\n",
       "      <td>3869</td>\n",
       "      <td>nan</td>\n",
       "      <td>Baby   Flower   Animal   Animal Family   Beaut...</td>\n",
       "      <td>1.097940</td>\n",
       "      <td>a mother's love for the child is a divine thing</td>\n",
       "      <td>nan Baby   Flower   Animal   Animal Family   B...</td>\n",
       "      <td>0.043127</td>\n",
       "      <td>0.305570</td>\n",
       "      <td>0.651303</td>\n",
       "      <td>0</td>\n",
       "      <td>0.027279</td>\n",
       "      <td>0</td>\n",
       "    </tr>\n",
       "    <tr>\n",
       "      <th>996</th>\n",
       "      <td>23817</td>\n",
       "      <td>nan</td>\n",
       "      <td>Animal Themes   Asia   Close-Up   Colour Image...</td>\n",
       "      <td>10.965708</td>\n",
       "      <td>sea monkeys</td>\n",
       "      <td>nan Animal Themes   Asia   Close-Up   Colour I...</td>\n",
       "      <td>0.047398</td>\n",
       "      <td>0.279789</td>\n",
       "      <td>0.672813</td>\n",
       "      <td>0</td>\n",
       "      <td>0.013908</td>\n",
       "      <td>0</td>\n",
       "    </tr>\n",
       "    <tr>\n",
       "      <th>997</th>\n",
       "      <td>56280</td>\n",
       "      <td>nan</td>\n",
       "      <td>Coworker   Hand   Togetherness   Working   30-...</td>\n",
       "      <td>18.604428</td>\n",
       "      <td>little miss muffet sat on her tuffet</td>\n",
       "      <td>nan Coworker   Hand   Togetherness   Working  ...</td>\n",
       "      <td>0.171986</td>\n",
       "      <td>0.314214</td>\n",
       "      <td>0.513799</td>\n",
       "      <td>0</td>\n",
       "      <td>0.041246</td>\n",
       "      <td>0</td>\n",
       "    </tr>\n",
       "    <tr>\n",
       "      <th>998</th>\n",
       "      <td>29384</td>\n",
       "      <td>row of trash can</td>\n",
       "      <td>Dustbin   Container   Environment   Horizontal...</td>\n",
       "      <td>10.998736</td>\n",
       "      <td>they're in a row</td>\n",
       "      <td>row of trash can Dustbin   Container   Environ...</td>\n",
       "      <td>0.045037</td>\n",
       "      <td>0.263150</td>\n",
       "      <td>0.691813</td>\n",
       "      <td>0</td>\n",
       "      <td>0.008169</td>\n",
       "      <td>0</td>\n",
       "    </tr>\n",
       "    <tr>\n",
       "      <th>999</th>\n",
       "      <td>34127</td>\n",
       "      <td>Arab man taking a selfie with his son on the s...</td>\n",
       "      <td>Domestic Life   Family   Residential Building ...</td>\n",
       "      <td>10.209960</td>\n",
       "      <td>that feeling when you win a fifa game after be...</td>\n",
       "      <td>Arab man taking a selfie with his son on the s...</td>\n",
       "      <td>0.044748</td>\n",
       "      <td>0.371930</td>\n",
       "      <td>0.583322</td>\n",
       "      <td>1</td>\n",
       "      <td>0.622442</td>\n",
       "      <td>1</td>\n",
       "    </tr>\n",
       "  </tbody>\n",
       "</table>\n",
       "</div>"
      ],
      "text/plain": [
       "        id                                      getty_caption  ...     proba  label\n",
       "990  86173  A wide shot of a group of three young Asian fr...  ...  0.109032      0\n",
       "991  50839  A group of business people are walking in the ...  ...  0.394321      0\n",
       "992  31405                      Photo taken in Goreme, Turkey  ...  0.487844      1\n",
       "993  36421  Cropped shot of an attractive young woman usin...  ...  0.186952      0\n",
       "994  79405                                      Beijing,China  ...  0.038173      0\n",
       "995   3869                                                nan  ...  0.027279      0\n",
       "996  23817                                                nan  ...  0.013908      0\n",
       "997  56280                                                nan  ...  0.041246      0\n",
       "998  29384                                   row of trash can  ...  0.008169      0\n",
       "999  34127  Arab man taking a selfie with his son on the s...  ...  0.622442      1\n",
       "\n",
       "[10 rows x 12 columns]"
      ]
     },
     "execution_count": 210,
     "metadata": {
      "tags": []
     },
     "output_type": "execute_result"
    }
   ],
   "source": [
    "test_feature_df.tail(10)"
   ]
  },
  {
   "cell_type": "code",
   "execution_count": null,
   "metadata": {
    "colab": {
     "base_uri": "https://localhost:8080/",
     "height": 68
    },
    "colab_type": "code",
    "id": "gML67xV2tyxp",
    "outputId": "4e21f2cf-71fc-409f-dd32-5a4e0d41507a"
   },
   "outputs": [
    {
     "data": {
      "text/plain": [
       "0    751\n",
       "1    249\n",
       "Name: prediction, dtype: int64"
      ]
     },
     "execution_count": 205,
     "metadata": {
      "tags": []
     },
     "output_type": "execute_result"
    }
   ],
   "source": [
    "test_feature_df.prediction.value_counts()"
   ]
  },
  {
   "cell_type": "code",
   "execution_count": null,
   "metadata": {
    "colab": {},
    "colab_type": "code",
    "id": "fopb1rT-t31z"
   },
   "outputs": [],
   "source": [
    "test_feature_df[['id','proba','label']].to_csv(\"/content/gdrive/My Drive/colab/data_sources/hateful_memes/test_20200816_v1.csv\")"
   ]
  },
  {
   "cell_type": "code",
   "execution_count": null,
   "metadata": {
    "colab": {},
    "colab_type": "code",
    "id": "__Mbf45Cwa6o"
   },
   "outputs": [],
   "source": [
    "test_feature_df.to_csv(\"/content/gdrive/My Drive/colab/data_sources/hateful_memes/test_error_analysis_20200816_v1.csv\", index=False)"
   ]
  },
  {
   "cell_type": "code",
   "execution_count": null,
   "metadata": {
    "colab": {},
    "colab_type": "code",
    "id": "_qek8UeMy168"
   },
   "outputs": [],
   "source": [
    "# this seems helpful for classifying celebrities \n",
    "# https://cloud.google.com/vision/docs/celebrity-recognition"
   ]
  }
 ],
 "metadata": {
  "accelerator": "GPU",
  "colab": {
   "collapsed_sections": [
    "W3QkobJM9osJ",
    "9nXaJyAe9tco",
    "8CdNVoSQXoaf",
    "xDErAJB09SM6"
   ],
   "name": "naive_model_v3.ipynb",
   "provenance": []
  },
  "kernelspec": {
   "display_name": "Python 3",
   "name": "python3"
  },
  "language_info": {
   "name": ""
  }
 },
 "nbformat": 4,
 "nbformat_minor": 4
}
>>>>>>> 5d11c80ce937cb428d019213c3bc2df9b53521d2
