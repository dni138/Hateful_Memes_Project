{
 "cells": [
  {
   "cell_type": "code",
   "execution_count": 2,
   "metadata": {},
   "outputs": [],
   "source": [
    "from LoadingData import LoadingData"
   ]
  },
  {
   "cell_type": "code",
   "execution_count": 3,
   "metadata": {},
   "outputs": [],
   "source": [
    "data = LoadingData('/Users/nissani/Desktop/Hateful_Memes_Project/data/train.jsonl')"
   ]
  },
  {
   "cell_type": "code",
   "execution_count": 4,
   "metadata": {},
   "outputs": [],
   "source": [
    "json_data = data.load_data()"
   ]
  },
  {
   "cell_type": "code",
   "execution_count": 5,
   "metadata": {},
   "outputs": [],
   "source": [
    "data = LoadingData('/Users/nissani/Desktop/Hateful_Memes_Project/data/test_error_analysis_20200816_v1.csv')"
   ]
  },
  {
   "cell_type": "code",
   "execution_count": 6,
   "metadata": {},
   "outputs": [],
   "source": [
    "csv_data = data.load_data()"
   ]
  },
  {
   "cell_type": "code",
   "execution_count": 7,
   "metadata": {},
   "outputs": [
    {
     "data": {
      "text/html": [
       "<div>\n",
       "<style scoped>\n",
       "    .dataframe tbody tr th:only-of-type {\n",
       "        vertical-align: middle;\n",
       "    }\n",
       "\n",
       "    .dataframe tbody tr th {\n",
       "        vertical-align: top;\n",
       "    }\n",
       "\n",
       "    .dataframe thead th {\n",
       "        text-align: right;\n",
       "    }\n",
       "</style>\n",
       "<table border=\"1\" class=\"dataframe\">\n",
       "  <thead>\n",
       "    <tr style=\"text-align: right;\">\n",
       "      <th></th>\n",
       "      <th>id</th>\n",
       "      <th>getty_caption</th>\n",
       "      <th>getty_tag</th>\n",
       "      <th>color_score</th>\n",
       "      <th>img_text</th>\n",
       "      <th>combined_text</th>\n",
       "      <th>hate_speech</th>\n",
       "      <th>offensive_language</th>\n",
       "      <th>neither</th>\n",
       "      <th>prediction</th>\n",
       "      <th>proba</th>\n",
       "      <th>label</th>\n",
       "    </tr>\n",
       "  </thead>\n",
       "  <tbody>\n",
       "    <tr>\n",
       "      <th>0</th>\n",
       "      <td>16395</td>\n",
       "      <td>Closeup portrait of a beautiful woman smiling ...</td>\n",
       "      <td>Looking At Camera   One Woman Only   Women   3...</td>\n",
       "      <td>18.282644</td>\n",
       "      <td>handjobs sold seperately</td>\n",
       "      <td>Closeup portrait of a beautiful woman smiling ...</td>\n",
       "      <td>0.149131</td>\n",
       "      <td>0.344875</td>\n",
       "      <td>0.505994</td>\n",
       "      <td>0</td>\n",
       "      <td>0.164456</td>\n",
       "      <td>0</td>\n",
       "    </tr>\n",
       "    <tr>\n",
       "      <th>1</th>\n",
       "      <td>37405</td>\n",
       "      <td>This picture was taken early in the morning in...</td>\n",
       "      <td>Amstel River   Amsterdam   Arch   Arch Bridge ...</td>\n",
       "      <td>9.970300</td>\n",
       "      <td>introducing fidget spinner for women</td>\n",
       "      <td>This picture was taken early in the morning in...</td>\n",
       "      <td>0.086252</td>\n",
       "      <td>0.301467</td>\n",
       "      <td>0.612281</td>\n",
       "      <td>1</td>\n",
       "      <td>0.424541</td>\n",
       "      <td>1</td>\n",
       "    </tr>\n",
       "    <tr>\n",
       "      <th>2</th>\n",
       "      <td>94180</td>\n",
       "      <td>Transexual gay whit hands in hair, standing up...</td>\n",
       "      <td>Cross Dressing   Transgender   Humour   Men   ...</td>\n",
       "      <td>10.257412</td>\n",
       "      <td>happy pride month let's go beat up lesbians</td>\n",
       "      <td>Transexual gay whit hands in hair, standing up...</td>\n",
       "      <td>0.142391</td>\n",
       "      <td>0.254497</td>\n",
       "      <td>0.603112</td>\n",
       "      <td>1</td>\n",
       "      <td>0.452507</td>\n",
       "      <td>1</td>\n",
       "    </tr>\n",
       "    <tr>\n",
       "      <th>3</th>\n",
       "      <td>54321</td>\n",
       "      <td>Shot of a sporty young couple out for a workout</td>\n",
       "      <td>Laughing   Exercising   Couple - Relationship ...</td>\n",
       "      <td>6.485984</td>\n",
       "      <td>laughs in [majority of u.s crime rate]</td>\n",
       "      <td>Shot of a sporty young couple out for a workou...</td>\n",
       "      <td>0.068924</td>\n",
       "      <td>0.354387</td>\n",
       "      <td>0.576689</td>\n",
       "      <td>1</td>\n",
       "      <td>0.633741</td>\n",
       "      <td>1</td>\n",
       "    </tr>\n",
       "    <tr>\n",
       "      <th>4</th>\n",
       "      <td>97015</td>\n",
       "      <td>Smiling male and female friend with eyes close...</td>\n",
       "      <td>18-19 Years   20-24 Years   Adult Adults Only ...</td>\n",
       "      <td>45.356488</td>\n",
       "      <td>finds out those 72 virgins.. are goats</td>\n",
       "      <td>Smiling male and female friend with eyes close...</td>\n",
       "      <td>0.131492</td>\n",
       "      <td>0.326618</td>\n",
       "      <td>0.541889</td>\n",
       "      <td>0</td>\n",
       "      <td>0.146220</td>\n",
       "      <td>0</td>\n",
       "    </tr>\n",
       "  </tbody>\n",
       "</table>\n",
       "</div>"
      ],
      "text/plain": [
       "      id                                      getty_caption  \\\n",
       "0  16395  Closeup portrait of a beautiful woman smiling ...   \n",
       "1  37405  This picture was taken early in the morning in...   \n",
       "2  94180  Transexual gay whit hands in hair, standing up...   \n",
       "3  54321    Shot of a sporty young couple out for a workout   \n",
       "4  97015  Smiling male and female friend with eyes close...   \n",
       "\n",
       "                                           getty_tag  color_score  \\\n",
       "0  Looking At Camera   One Woman Only   Women   3...    18.282644   \n",
       "1  Amstel River   Amsterdam   Arch   Arch Bridge ...     9.970300   \n",
       "2  Cross Dressing   Transgender   Humour   Men   ...    10.257412   \n",
       "3  Laughing   Exercising   Couple - Relationship ...     6.485984   \n",
       "4  18-19 Years   20-24 Years   Adult Adults Only ...    45.356488   \n",
       "\n",
       "                                      img_text  \\\n",
       "0                     handjobs sold seperately   \n",
       "1         introducing fidget spinner for women   \n",
       "2  happy pride month let's go beat up lesbians   \n",
       "3       laughs in [majority of u.s crime rate]   \n",
       "4       finds out those 72 virgins.. are goats   \n",
       "\n",
       "                                       combined_text  hate_speech  \\\n",
       "0  Closeup portrait of a beautiful woman smiling ...     0.149131   \n",
       "1  This picture was taken early in the morning in...     0.086252   \n",
       "2  Transexual gay whit hands in hair, standing up...     0.142391   \n",
       "3  Shot of a sporty young couple out for a workou...     0.068924   \n",
       "4  Smiling male and female friend with eyes close...     0.131492   \n",
       "\n",
       "   offensive_language   neither  prediction     proba  label  \n",
       "0            0.344875  0.505994           0  0.164456      0  \n",
       "1            0.301467  0.612281           1  0.424541      1  \n",
       "2            0.254497  0.603112           1  0.452507      1  \n",
       "3            0.354387  0.576689           1  0.633741      1  \n",
       "4            0.326618  0.541889           0  0.146220      0  "
      ]
     },
     "execution_count": 7,
     "metadata": {},
     "output_type": "execute_result"
    }
   ],
   "source": [
    "csv_data.head()"
   ]
  },
  {
   "cell_type": "code",
   "execution_count": null,
   "metadata": {},
   "outputs": [],
   "source": []
  }
 ],
 "metadata": {
  "kernelspec": {
   "display_name": "Python 3",
   "language": "python",
   "name": "python3"
  },
  "language_info": {
   "codemirror_mode": {
    "name": "ipython",
    "version": 3
   },
   "file_extension": ".py",
   "mimetype": "text/x-python",
   "name": "python",
   "nbconvert_exporter": "python",
   "pygments_lexer": "ipython3",
   "version": "3.7.4"
  }
 },
 "nbformat": 4,
 "nbformat_minor": 4
}
